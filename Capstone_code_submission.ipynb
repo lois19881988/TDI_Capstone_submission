{
 "cells": [
  {
   "cell_type": "markdown",
   "metadata": {},
   "source": [
    "# Capstone Modeling Part"
   ]
  },
  {
   "cell_type": "code",
   "execution_count": null,
   "metadata": {
    "collapsed": true
   },
   "outputs": [],
   "source": [
    "import matplotlib\n",
    "import seaborn as sns\n",
    "import re\n",
    "from collections import defaultdict\n",
    "sns.set()\n",
    "matplotlib.rcParams['figure.dpi'] = 144\n",
    "import seaborn as sns\n",
    "sns.set()\n",
    "matplotlib.rcParams['figure.dpi'] = 144"
   ]
  },
  {
   "cell_type": "code",
   "execution_count": null,
   "metadata": {
    "collapsed": true
   },
   "outputs": [],
   "source": [
    "%matplotlib inline\n",
    "import requests\n",
    "import dill\n",
    "from bs4 import BeautifulSoup\n",
    "from datetime import datetime\n",
    "from requests_futures.sessions import FuturesSession\n",
    "from retrying import retry\n",
    "from math import ceil\n",
    "import inspect\n",
    "from sklearn import base\n",
    "import itertools\n",
    "import numpy as np\n",
    "import pandas as pd\n",
    "from sklearn.ensemble import RandomForestRegressor\n",
    "from sklearn.pipeline import Pipeline\n",
    "from sklearn.feature_extraction import DictVectorizer\n",
    "import matplotlib.pyplot as plt\n",
    "import random\n",
    "import pandas as pd\n",
    "from sklearn.grid_search import GridSearchCV\n",
    "from sklearn.ensemble import (ExtraTreesClassifier, RandomForestClassifier, \n",
    "                              AdaBoostClassifier, GradientBoostingClassifier)\n",
    "from sklearn.svm import SVC\n",
    "from sklearn import model_selection\n",
    "from sklearn.ensemble import GradientBoostingRegressor\n",
    "from sklearn.linear_model import LinearRegression, Ridge, Lasso\n",
    "import numpy as np\n",
    "\n",
    "from bokeh.io import output_file, show, output_notebook\n",
    "from bokeh.models import ColumnDataSource, HoverTool\n",
    "from bokeh.plotting import figure\n",
    "output_notebook()\n",
    "from bokeh.layouts import row\n",
    "\n"
   ]
  },
  {
   "cell_type": "markdown",
   "metadata": {},
   "source": [
    "## Data Scraping"
   ]
  },
  {
   "cell_type": "markdown",
   "metadata": {},
   "source": [
    "* **set up page limitations**\n"
   ]
  },
  {
   "cell_type": "code",
   "execution_count": null,
   "metadata": {},
   "outputs": [],
   "source": [
    "totl_num = 9953\n",
    "num_p_pg = 100\n",
    "yearly_inflation = 4.7418/(2016-1972)\n",
    "LIMIT = ceil(totl_num / num_p_pg)\n",
    "imdb_domain= 'https://www.imdb.com'\n",
    "list_path = '/list/ls057823854/'\n",
    "url_sub = 'page'"
   ]
  },
  {
   "cell_type": "code",
   "execution_count": null,
   "metadata": {},
   "outputs": [],
   "source": [
    "src = inspect.getsource(FuturesSession)"
   ]
  },
  {
   "cell_type": "code",
   "execution_count": null,
   "metadata": {},
   "outputs": [],
   "source": [
    "all_links = []\n",
    "def get_page_args(i):\n",
    "    result = {\"url\": (imdb_domain + list_path),\n",
    "              \"params\": {url_sub: i + 1}}\n",
    "    return result\n",
    "def get_movie_boxes_per_page(response):\n",
    "    page_soup = BeautifulSoup(response.text, \"lxml\")\n",
    "    movie_boxes = page_soup.select('.lister-item.mode-detail')\n",
    "    return movie_boxes"
   ]
  },
  {
   "cell_type": "code",
   "execution_count": null,
   "metadata": {},
   "outputs": [],
   "source": [
    "def extract_simple_info(movie):\n",
    "    year = genre_list = run_time = certificate = gross = img_url = title = title_link =imdb_rating = None\n",
    "    title = movie.select('.lister-item-header a')[0].text    \n",
    "    try:        \n",
    "        title_link = movie.select('.lister-item-header a')[0]['href']\n",
    "    except:\n",
    "        print(\"There is something wrong with title_link: \" + title +\\\n",
    "              ': ' + imdb_domain + title_link)\n",
    "    try: \n",
    "        year_txt = movie.select('.lister-item-year.text-muted.unbold')[0].text\n",
    "        year = int(re.search('.*?\\(([0-9]*)\\).*?', year_txt).groups()[0])\n",
    "    except:\n",
    "        print(\"There is something wrong with year_txt: \" + title +\\\n",
    "              ': ' + imdb_domain + title_link)\n",
    "    try: \n",
    "        genre_list = movie.select('.genre')[0].text.strip().split(', ')\n",
    "    except:\n",
    "        print(\"There is something wrong with genre_list: \" + title +\\\n",
    "              ': ' + imdb_domain + title_link)\n",
    "    try: \n",
    "        run_time = float(movie.select('.runtime')[0].text.strip(' min'))\n",
    "    except:\n",
    "        print(\"There is something wrong with run_time: \" + title +\\\n",
    "              ': ' + imdb_domain + title_link)\n",
    "    try: \n",
    "        certificate = movie.select('.certificate')[0].text.strip()\n",
    "    except:\n",
    "        print(\"There is something wrong with certificate: \" + title +\\\n",
    "              ': ' + imdb_domain + title_link)\n",
    "    try: \n",
    "        gross = float(movie.select('.text-muted.text-small .ghost ~ .text-muted + span')[0]['data-value'].replace(',', ''))\n",
    "    except:\n",
    "        print(\"There is something wrong with gross: \" + title +\\\n",
    "              ': ' + imdb_domain + title_link)\n",
    "    try: \n",
    "        img_url = movie.select('img.loadlate')[0]['loadlate']  \n",
    "    except:\n",
    "        print(\"There is something wrong with img_url: \" + title +\\\n",
    "              ': ' + imdb_domain + title_link)\n",
    "    try: \n",
    "        imdb_rating = float(movie.select(\".ipl-rating-star.small span.ipl-rating-star__rating\")[0].text)\n",
    "    except:\n",
    "        print(\"There is something wrong with imdb_rating: \" + title +\\\n",
    "              ': ' + imdb_domain + title_link)\n",
    "    return {'title':[title],'title_link':[title_link], 'year':[year],\n",
    "           'genres':genre_list, 'run_time':[run_time], 'certificate':[certificate],\n",
    "            'gross':[gross],'img_url':[img_url], 'imdb_rating':[imdb_rating]} "
   ]
  },
  {
   "cell_type": "code",
   "execution_count": null,
   "metadata": {},
   "outputs": [],
   "source": [
    "def extract_keyroles(movie, title, imdb_domain, title_link):\n",
    "    directors = None\n",
    "    stars = None    \n",
    "    try:\n",
    "        blks = movie.select('.text-muted.text-small')\n",
    "        for text_blk in blks:    \n",
    "            if \"Director\" in text_blk.text:\n",
    "                txt = text_blk.text.strip(' \\n\\r')\n",
    "                dir_reg = re.compile(u'Directors?:([\\w\\s?,?]*)\\|?')\n",
    "                directors = re.search('Directors?:([\\w\\s?,?]*)\\|?',txt).groups()[0].strip(' \\n\\r').replace('\\n', ' ').replace('\\r', '').split(',  ')\n",
    "            if \"Star\" in text_blk.text:\n",
    "                txt = text_blk.text.strip(' \\n\\r')\n",
    "                stars = re.search('Stars?:([\\w\\s?,?]*)',txt).groups()[0].strip(' \\n\\r').replace('\\n', ' ').replace('\\r', '').split(',  ')\n",
    "        if directors == None:\n",
    "            print('No DIRECTOR was found for ' + title +\\\n",
    "              ': ' + imdb_domain + title_link)\n",
    "        if stars == None:\n",
    "            print('No STARS was found for ' + title +\\\n",
    "              ': ' + imdb_domain + title_link)  \n",
    "    except:\n",
    "        print(\"There is something wrong with extract_keyroles: \" + title +\\\n",
    "              ': ' + imdb_domain + title_link)\n",
    "    return {'directors':directors, 'stars':stars}\n"
   ]
  },
  {
   "cell_type": "code",
   "execution_count": null,
   "metadata": {},
   "outputs": [],
   "source": [
    "def extract_month(sub_page_soup, title_link, imdb_domain):\n",
    "    month = None\n",
    "    try:        \n",
    "        title_link_reg = re.compile(u'^([^\\?]*)?')\n",
    "        href_tag = title_link_reg.match(title_link).groups()[0]\n",
    "        s = str('div.subtext > a[href*=\"'+ href_tag + '\"]')\n",
    "        time_text = sub_page_soup.select(s)[0].text\n",
    "        time_text_reg = re.compile(u'^([^\\(]*)\\(')\n",
    "        month = time_text_reg.match(time_text).groups()[0].strip(' \\n').split(' ')[1]\n",
    "        if month == None:\n",
    "            print('No MONTH was found for ' + sub_page_soup.select('h1')[0].text +\\\n",
    "                  ': ' + imdb_domain + title_link) \n",
    "    except:\n",
    "        print(\"There is something wrong with extract_month: \" + imdb_domain + title_link)\n",
    "    return month"
   ]
  },
  {
   "cell_type": "code",
   "execution_count": null,
   "metadata": {},
   "outputs": [],
   "source": [
    "def extract_budget(sub_page_soup, title_link, imdb_domain):\n",
    "    budget = None\n",
    "    try:\n",
    "        txt_blks = sub_page_soup.select('#titleDetails .txt-block')        \n",
    "        for txt_b in txt_blks:\n",
    "            if 'Budget' in txt_b.text:\n",
    "                txt = txt_b.text.strip(' \\n\\r')\n",
    "                txt_reg = re.compile(u'Budget:[^\\d]*([\\d,]*)[^\\d]*')\n",
    "                budget = int(txt_reg.match(txt).groups()[0].replace(',', ''))\n",
    "        if budget == None:\n",
    "            print('No BUDGET was found for ' + sub_page_soup.select('h1')[0].text +\\\n",
    "                  ': ' + imdb_domain + title_link)            \n",
    "    except:\n",
    "        print(\"There is something wrong with extract_budget: \" + imdb_domain + title_link)\n",
    "    return budget    \n",
    "   "
   ]
  },
  {
   "cell_type": "code",
   "execution_count": null,
   "metadata": {},
   "outputs": [],
   "source": [
    "def adjust_inflation(start, yearly_inflation, value):\n",
    "    value_adj = value * (1 + (2016 - start) * yearly_inflation)\n",
    "    return value_adj\n",
    "def extract_all_info(movie):\n",
    "    profit = gross_adj = budget_adj = profit_adj = None\n",
    "    single_movie = {}\n",
    "    simple_info = extract_simple_info(movie) \n",
    "    title = simple_info['title'][0]\n",
    "    title_link = simple_info['title_link'][0]\n",
    "    gross = simple_info['gross'][0]\n",
    "    year = simple_info['year'][0]\n",
    "    key_roles = extract_keyroles(movie , title, imdb_domain, title_link)    \n",
    "    sub_page = requests.get(imdb_domain + title_link)\n",
    "    sub_page_soup = BeautifulSoup(sub_page.text, 'lxml')\n",
    "    month = extract_month(sub_page_soup, title_link, imdb_domain)\n",
    "    budget = extract_budget(sub_page_soup, title_link, imdb_domain)    \n",
    "    profit = None\n",
    "    \n",
    "    if gross is not None and budget is not None:\n",
    "        profit = float(gross) - float(budget)\n",
    "    if gross is not None and year is not None and year < 2016:\n",
    "        gross_adj = adjust_inflation(year, yearly_inflation, gross)\n",
    "    if budget is not None and year is not None and year < 2016:\n",
    "        budget_adj = adjust_inflation(year, yearly_inflation, budget)\n",
    "    if profit is not None and budget is not None and year is not None and year < 2016:\n",
    "        profit_adj = adjust_inflation(year, yearly_inflation, profit)\n",
    "    single_movie = {**single_movie, **simple_info, **key_roles,\n",
    "                   **{'month':[month], 'budget':[budget], 'profit':[profit], \n",
    "                     'gross_adj':[gross_adj], 'budget_adj':[budget_adj], 'profit_adj':[profit_adj]}}\n",
    "    return(single_movie)"
   ]
  },
  {
   "cell_type": "code",
   "execution_count": null,
   "metadata": {},
   "outputs": [],
   "source": [
    "\n",
    "print(LIMIT)\n",
    "session = FuturesSession(max_workers=5)\n",
    "futures = [session.get(**get_page_args(i)) for i in range(LIMIT)]\n",
    "movie_info_all = []\n",
    "print(\"7.9\")\n",
    "for f in range(len(futures)):\n",
    "    \n",
    "    future = futures[f]\n",
    "    movie_boxes_per_page = get_movie_boxes_per_page(future.result())\n",
    "    movie_info_per_page = []    \n",
    "    for i in range(len(movie_boxes_per_page)):\n",
    "        print('page '+ str(f + 1) + ' movie ' + str(i + f * 100))\n",
    "        movie = movie_boxes_per_page[i]\n",
    "        single_movie_info = extract_all_info(movie)\n",
    "        movie_info_per_page.append(single_movie_info)\n",
    "    movie_info_all.append(movie_info_per_page)\n",
    "   "
   ]
  },
  {
   "cell_type": "code",
   "execution_count": null,
   "metadata": {},
   "outputs": [],
   "source": [
    "movie_info_all_flat = [val for sublist in movie_info_all for val in sublist]"
   ]
  },
  {
   "cell_type": "code",
   "execution_count": null,
   "metadata": {},
   "outputs": [],
   "source": [
    "with open('movie_info_without_img.pkd', 'wb') as f:  #  'w' replaced by 'wb' (write binary) to avoid crashing\n",
    "        dill.dump(movie_info_all_flat, f)"
   ]
  },
  {
   "cell_type": "markdown",
   "metadata": {},
   "source": [
    "## Load and Prepare Data A Bit"
   ]
  },
  {
   "cell_type": "code",
   "execution_count": null,
   "metadata": {
    "collapsed": true
   },
   "outputs": [],
   "source": [
    "with open('movie_info_without_img.pkd', 'rb') as f:\n",
    "        movie_no_img_raw = dill.load(f)\n",
    "        count = 1\n",
    "for row in movie_no_img_raw:\n",
    "    count += 1\n",
    "    for key in ['directors', 'stars', 'genres']:       \n",
    "        if not row[key]:\n",
    "            row[key] = [None]   "
   ]
  },
  {
   "cell_type": "code",
   "execution_count": null,
   "metadata": {
    "collapsed": true
   },
   "outputs": [],
   "source": [
    "len(movie_no_img_raw)"
   ]
  },
  {
   "cell_type": "code",
   "execution_count": null,
   "metadata": {
    "collapsed": true
   },
   "outputs": [],
   "source": [
    "movie_no_img = []\n",
    "for row in movie_no_img_raw:\n",
    "    if row['certificate'][0] == 'Not Rated':\n",
    "        row['certificate'][0] = 'Unrated'\n",
    "    if row['month'][0]:\n",
    "        if row['month'][0].lower() in['April'.lower(), 'August'.lower(), 'December'.lower(), 'February'.lower(),\\\n",
    "                               'January'.lower(), 'July'.lower(), 'June'.lower(), 'March'.lower(), 'May'.lower(), \\\n",
    "                               'November'.lower(), 'October'.lower(), 'September'.lower()]:\n",
    "            movie_no_img.append(row)\n",
    "\n",
    "len(movie_no_img) "
   ]
  },
  {
   "cell_type": "code",
   "execution_count": null,
   "metadata": {
    "collapsed": true
   },
   "outputs": [],
   "source": [
    "\n",
    "genre_set = set()\n",
    "for row in movie_no_img:\n",
    "    if row['genres'][0]:\n",
    "        \n",
    "        for g in row['genres']:\n",
    "            \n",
    "            genre_set.add(g)\n",
    "print(genre_set)\n",
    "            "
   ]
  },
  {
   "cell_type": "code",
   "execution_count": null,
   "metadata": {
    "collapsed": true
   },
   "outputs": [],
   "source": [
    "data_imdb_rating = [row for row in movie_no_img if (row['imdb_rating'][0] and\n",
    "                                                   row['year'][0] and\n",
    "                                                   row['month'][0] and \n",
    "                                                   row['genres'][0] and \n",
    "                                                   row['run_time'][0] and\n",
    "                                                   row['certificate'][0] and\n",
    "                                                   row['budget_adj'][0] and \n",
    "                                                   row['directors'][0] and\n",
    "                                                   row['stars'][0])]\n",
    "data_profit_adj = [row for row in movie_no_img if (row['profit_adj'][0] and\n",
    "                                                   row['year'][0] and\n",
    "                                                   row['month'][0] and \n",
    "                                                   row['genres'][0] and \n",
    "                                                   row['run_time'][0] and\n",
    "                                                   row['certificate'][0] and\n",
    "                                                   row['budget_adj'][0] and \n",
    "                                                   row['directors'][0] and\n",
    "                                                   row['stars'][0])]\n",
    "\n",
    "print(len(data_imdb_rating))\n",
    "print(len(data_profit_adj))\n"
   ]
  },
  {
   "cell_type": "code",
   "execution_count": null,
   "metadata": {
    "collapsed": true
   },
   "outputs": [],
   "source": [
    "def split_train_test(te_p, data, y ):\n",
    "    random.shuffle(data)\n",
    "    te_size = int(len(data)*te_p)\n",
    "    data_test = data[:te_size]\n",
    "    data_train = data[te_size:]\n",
    "    y_test = [row[y][0] for row in data_test]\n",
    "    y_train = [row[y][0] for row in data_train]\n",
    "    result = {'data_test':data_test, 'data_train':data_train, 'y_test':y_test, 'y_train':y_train}\n",
    "    return result\n",
    "\n",
    "imdb_rating = split_train_test(0.3, data_imdb_rating, 'imdb_rating')\n",
    "data_imdb_rating_train = imdb_rating['data_train']\n",
    "data_imdb_rating_test = imdb_rating['data_test']\n",
    "y_imdb_rating_train = imdb_rating['y_train']\n",
    "y_imdb_rating_test = imdb_rating['y_test']\n"
   ]
  },
  {
   "cell_type": "code",
   "execution_count": null,
   "metadata": {
    "collapsed": true
   },
   "outputs": [],
   "source": [
    "print(len(data_imdb_rating_test))\n",
    "print(len(data_imdb_rating_train))\n",
    "print(len(y_imdb_rating_test))\n",
    "print(len(y_imdb_rating_train))"
   ]
  },
  {
   "cell_type": "markdown",
   "metadata": {
    "collapsed": true
   },
   "source": [
    "## Grid Search Models"
   ]
  },
  {
   "cell_type": "markdown",
   "metadata": {
    "heading_collapsed": true
   },
   "source": [
    "### Code for preparing data for the Grid Search Module"
   ]
  },
  {
   "cell_type": "markdown",
   "metadata": {
    "hidden": true
   },
   "source": [
    "**The following code can select multiple variables and turn them into `np.array` which can be handled by the Grid Search Module.** "
   ]
  },
  {
   "cell_type": "code",
   "execution_count": null,
   "metadata": {
    "collapsed": true,
    "hidden": true
   },
   "outputs": [],
   "source": [
    "class ColumnToNPArrayTransformer(base.BaseEstimator, base.TransformerMixin):\n",
    "    \n",
    "    def __init__(self, col_names):\n",
    "        self.col_names = col_names  # We will need these in transform()\n",
    "    \n",
    "    def fit(self, X, y=None):\n",
    "        # This transformer doesn't need to learn anything about the data,\n",
    "        # so it can just return self without any further processing\n",
    "        return self\n",
    "    \n",
    "    def transform(self, X):\n",
    "        # Return an array with the same number of rows as X and one\n",
    "        # column for each in self.col_names\n",
    "        if self.col_names is None:\n",
    "            return X\n",
    "        else:\n",
    "            result = np.array([])\n",
    "            for row in X:\n",
    "                row_list =np.array([])\n",
    "                for name in self.col_names:\n",
    "                    if row[name]:\n",
    "                        row_list = np.append(row_list, np.array(row[name]))            \n",
    "                    else:\n",
    "                        row_list = np.append(row_list, np.array([None]))\n",
    "                if len(result) == 0:\n",
    "                    result = np.array([row_list])\n",
    "                else:\n",
    "                    result = np.concatenate((result, np.array([row_list])))\n",
    "            return result"
   ]
  },
  {
   "cell_type": "markdown",
   "metadata": {
    "hidden": true
   },
   "source": [
    "**The following code can one categorical and turn it into dummy coding which can be handled by the Grid Search Module.** "
   ]
  },
  {
   "cell_type": "code",
   "execution_count": null,
   "metadata": {
    "collapsed": true,
    "hidden": true
   },
   "outputs": [],
   "source": [
    "class ColumnSelectTransformer(base.BaseEstimator, base.TransformerMixin):\n",
    "    \n",
    "    def __init__(self, col_names):\n",
    "        self.col_names = col_names  # We will need these in transform()\n",
    "    \n",
    "    def fit(self, X, y=None):\n",
    "        # This transformer doesn't need to learn anything about the data,\n",
    "        # so it can just return self without any further processing\n",
    "        return self\n",
    "    \n",
    "    def transform(self, X):\n",
    "        # Return an array with the same number of rows as X and one\n",
    "        # column for each in self.col_names\n",
    "        if self.col_names is None:\n",
    "            return X\n",
    "        else:\n",
    "            return [[row[col] for col in self.col_names] for row in X]\n",
    "class DictEncoder(base.BaseEstimator, base.TransformerMixin):\n",
    "    \n",
    "    def fit(self, X, y=None):\n",
    "        return self\n",
    "   \n",
    "    def transform(self, X):\n",
    "        # X will come in as a list of lists of lists.  Return a list of\n",
    "        # dictionaries corresponding to those inner lists.\n",
    "        result = []\n",
    "        count = 0\n",
    "        for row in X:\n",
    "            count += 1\n",
    "            cats_dict = {}\n",
    "            if row[0]:\n",
    "                cats =  row[0] \n",
    "                \n",
    "                if len(cats) > 0:\n",
    "                    [cats_dict.update({cat:1}) for cat in cats]\n",
    "            result.append(cats_dict)\n",
    "        return result"
   ]
  },
  {
   "cell_type": "markdown",
   "metadata": {
    "heading_collapsed": true
   },
   "source": [
    "### Grid Search Models: code"
   ]
  },
  {
   "cell_type": "markdown",
   "metadata": {
    "hidden": true
   },
   "source": [
    "This is a helper class for running paramater grid search across different classification or regression models. The helper takes two dictionaries as its constructor parameters. The first dictionary contains the models to be scored, while the second contains the parameters for each model (see examples below or the GridSearchCV documentation for the expected format). The `fit(X, y)` method runs a parameter grid search with cross validation for each model and for the given training data. After calling `fit(X, y)`, the `score_summary()` method returns a data frame with a summary of the scores."
   ]
  },
  {
   "cell_type": "code",
   "execution_count": null,
   "metadata": {
    "collapsed": true,
    "hidden": true
   },
   "outputs": [],
   "source": [
    "import pandas as pd\n",
    "from sklearn.grid_search import GridSearchCV\n",
    "\n",
    "class EstimatorSelectionHelper:\n",
    "    def __init__(self, models, params):\n",
    "        if not set(models.keys()).issubset(set(params.keys())):\n",
    "            missing_params = list(set(models.keys()) - set(params.keys()))\n",
    "            raise ValueError(\"Some estimators are missing parameters: %s\" % missing_params)\n",
    "        self.models = models\n",
    "        self.params = params\n",
    "        self.keys = models.keys()\n",
    "        self.grid_searches = {}\n",
    "    \n",
    "    def fit(self, X, y, \n",
    "            cv = 8, \n",
    "            n_jobs=1, verbose=1, scoring=None, refit=False):\n",
    "        for key in self.keys:\n",
    "            print(\"Running GridSearchCV for %s.\" % key)\n",
    "            model = self.models[key]\n",
    "            params = self.params[key]\n",
    "            gs = GridSearchCV(model, params, cv=cv, n_jobs=n_jobs, \n",
    "                              verbose=verbose, scoring=scoring, refit=refit)\n",
    "            gs.fit(X,y)\n",
    "            self.grid_searches[key] = gs    \n",
    "    \n",
    "    def score_summary(self, sort_by='mean_score'):\n",
    "        def row(key, scores, params):\n",
    "            d = {\n",
    "                 'estimator': key,\n",
    "                 'min_score': min(scores),\n",
    "                 'max_score': max(scores),\n",
    "                 'mean_score': np.mean(scores),\n",
    "                 'std_score': np.std(scores),\n",
    "            }\n",
    "            params.update(d)\n",
    "            return pd.Series(params)\n",
    "                      \n",
    "        rows = [row(k, gsc.cv_validation_scores, gsc.parameters) \n",
    "                     for k in self.keys\n",
    "                     for gsc in self.grid_searches[k].grid_scores_]\n",
    "        \n",
    "       \n",
    "        #df = pd.concat(rows, axis=1).sort_index([sort_by], ascending=False)\n",
    "       \n",
    "        #print(pd.concat(rows, axis=1).T)\n",
    "        df = pd.concat(rows, axis=1).T.sort_values(by = [sort_by], ascending=False)\n",
    "        \n",
    "        columns = ['estimator', 'min_score', 'mean_score', 'max_score', 'std_score']\n",
    "        columns = columns + [c for c in df.columns if c not in columns]\n",
    "        \n",
    "        return df[columns]\n",
    "        #return pd.concat(rows, axis=1).T"
   ]
  },
  {
   "cell_type": "markdown",
   "metadata": {
    "heading_collapsed": true
   },
   "source": [
    "## Data Training Module"
   ]
  },
  {
   "cell_type": "markdown",
   "metadata": {
    "hidden": true
   },
   "source": [
    "### <font color='red'> 1.1. Train the model with `run_time`: <font size = 10> IN"
   ]
  },
  {
   "cell_type": "markdown",
   "metadata": {
    "heading_collapsed": true,
    "hidden": true
   },
   "source": [
    "#### Modeling"
   ]
  },
  {
   "cell_type": "markdown",
   "metadata": {
    "hidden": true
   },
   "source": [
    "**Prepare X and y**"
   ]
  },
  {
   "cell_type": "code",
   "execution_count": null,
   "metadata": {
    "collapsed": true,
    "hidden": true
   },
   "outputs": [],
   "source": [
    "h =  ColumnToNPArrayTransformer(['run_time'])\n",
    "tr_x = h.fit_transform(data_imdb_rating_train, y_imdb_rating_train)\n",
    "tr_y = np.array(y_imdb_rating_train)\n",
    "te_x = h.fit_transform(data_imdb_rating_test, y_imdb_rating_test)\n",
    "te_y = np.array(y_imdb_rating_test)"
   ]
  },
  {
   "cell_type": "code",
   "execution_count": null,
   "metadata": {
    "collapsed": true,
    "hidden": true
   },
   "outputs": [],
   "source": [
    "models1_1 = { \n",
    "    'LinearRegression': LinearRegression(),\n",
    "    'Ridge': Ridge(),\n",
    "    'Lasso': Lasso(),\n",
    "    'RandomForestRegressor': RandomForestRegressor()\n",
    "}\n",
    "\n",
    "params1_1 = { \n",
    "    'LinearRegression': { },\n",
    "    'Ridge': { 'alpha': np.arange(0,2,0.05) },\n",
    "    'Lasso': { 'alpha': np.arange(0,2,0.05) },\n",
    "    'RandomForestRegressor':{'n_estimators': np.arange(1, 50 ,2),\n",
    "                              'max_depth': np.arange(1, 20, 1)}\n",
    "}\n"
   ]
  },
  {
   "cell_type": "code",
   "execution_count": null,
   "metadata": {
    "collapsed": true,
    "hidden": true
   },
   "outputs": [],
   "source": [
    "helper1_1 = EstimatorSelectionHelper(models1_1, params1_1)\n",
    "helper1_1.fit(tr_x, tr_y, n_jobs=-1)"
   ]
  },
  {
   "cell_type": "code",
   "execution_count": null,
   "metadata": {
    "collapsed": true,
    "hidden": true,
    "scrolled": true
   },
   "outputs": [],
   "source": [
    "helper1_1_result = helper1_1.score_summary()"
   ]
  },
  {
   "cell_type": "code",
   "execution_count": null,
   "metadata": {
    "collapsed": true,
    "hidden": true
   },
   "outputs": [],
   "source": [
    "print(helper1_1_result.iloc[0])"
   ]
  },
  {
   "cell_type": "markdown",
   "metadata": {
    "heading_collapsed": true,
    "hidden": true
   },
   "source": [
    "#### Fit the best model"
   ]
  },
  {
   "cell_type": "code",
   "execution_count": null,
   "metadata": {
    "collapsed": true,
    "hidden": true
   },
   "outputs": [],
   "source": [
    "model1_1_est = RandomForestRegressor(n_estimators = 19, max_depth = 3) \n",
    "model1_1_est.fit(tr_x, tr_y)\n",
    "print('using Random Forest modes the score for TEST set is: ' + \\\n",
    "      str(model1_1_est.score(te_x, te_y)))\n",
    "print('using Random Forest modes the score for TRAIN set is: ' + \\\n",
    "      str(model1_1_est.score(tr_x, tr_y)))"
   ]
  },
  {
   "cell_type": "code",
   "execution_count": 25,
   "metadata": {
    "hidden": true
   },
   "outputs": [
    {
     "name": "stdout",
     "output_type": "stream",
     "text": [
      "using Random Forest modes the score for TEST set is: 0.20119845128657496\n",
      "using Random Forest modes the score for TRAIN set is: 0.2184202614969487\n"
     ]
    }
   ],
   "source": [
    "model1_1_est = Pipeline([\n",
    "        ('column_select_trans', ColumnToNPArrayTransformer(['run_time', 'budget_adj'])),\n",
    "        ('rf', RandomForestRegressor(n_estimators = 21, max_depth = 4))\n",
    "         ])\n",
    "model1_1_est.fit(data_imdb_rating_train, y_imdb_rating_train) # Fit the model using data_transform as training data and star_ratings\\\n",
    "                                                     # as target values\n",
    "print('using Random Forest modes the score for TEST set is: ' + \\\n",
    "     str(model1_1_est.score(data_imdb_rating_test, y_imdb_rating_test)))\n",
    "print('using Random Forest modes the score for TRAIN set is: ' + \\\n",
    "      str(model1_1_est.score(data_imdb_rating_train, y_imdb_rating_train)))"
   ]
  },
  {
   "cell_type": "markdown",
   "metadata": {
    "hidden": true
   },
   "source": [
    "#### Plot"
   ]
  },
  {
   "cell_type": "code",
   "execution_count": null,
   "metadata": {
    "collapsed": true,
    "hidden": true
   },
   "outputs": [],
   "source": [
    "def select_to_list(col_name):\n",
    "    select = ColumnToNPArrayTransformer([col_name])\n",
    "    pre = select.fit_transform(data_imdb_rating, imdb_rating)\n",
    "    result = [ele[0] for ele in pre]\n",
    "    return result"
   ]
  },
  {
   "cell_type": "code",
   "execution_count": null,
   "metadata": {
    "collapsed": true,
    "hidden": true
   },
   "outputs": [],
   "source": [
    "x = select_to_list('run_time')\n",
    "y = select_to_list('imdb_rating')\n",
    "title = select_to_list('title')\n",
    "df = pd.DataFrame({'x':x, 'y':y, 'title':title})\n",
    "df.describe()"
   ]
  },
  {
   "cell_type": "code",
   "execution_count": 69,
   "metadata": {
    "hidden": true
   },
   "outputs": [
    {
     "data": {
      "text/html": [
       "\n",
       "<div class=\"bk-root\">\n",
       "    <div class=\"bk-plotdiv\" id=\"4b2a7764-d322-4807-b8f5-6de1a27c3ebc\"></div>\n",
       "</div>"
      ]
     },
     "metadata": {},
     "output_type": "display_data"
    },
    {
     "data": {
      "application/javascript": [
       "(function(root) {\n",
       "  function embed_document(root) {\n",
       "    \n",
       "  var docs_json = {\"4185bd9e-b1bb-4669-9661-ef1b21a7196a\":{\"roots\":{\"references\":[{\"attributes\":{},\"id\":\"5e5a3c53-5db0-4e37-af55-132cea6b9a66\",\"type\":\"BasicTickFormatter\"},{\"attributes\":{\"callback\":null},\"id\":\"2cb9ebaf-40e8-4b79-9013-428a930e3261\",\"type\":\"DataRange1d\"},{\"attributes\":{},\"id\":\"27a3919e-338c-4a4c-b56a-0682d8e0445d\",\"type\":\"Selection\"},{\"attributes\":{\"fill_color\":{\"value\":\"#ebbd5b\"},\"line_color\":{\"value\":\"#ebbd5b\"},\"line_width\":{\"value\":2},\"x\":{\"field\":\"x\"},\"y\":{\"field\":\"y\"}},\"id\":\"4f15e3fd-68d6-47e2-bba5-395e4b615ff7\",\"type\":\"Circle\"},{\"attributes\":{},\"id\":\"d28ed22f-78ff-43f1-8d5d-500cf37b530c\",\"type\":\"LinearScale\"},{\"attributes\":{\"background_fill_color\":{\"value\":\"#f5f5f5\"},\"below\":[{\"id\":\"df9b0a5f-19eb-4d18-979f-d219a2cd20c8\",\"type\":\"LinearAxis\"}],\"left\":[{\"id\":\"a9f26060-c851-47ea-8acf-4da034d4d9b7\",\"type\":\"LinearAxis\"}],\"plot_height\":200,\"plot_width\":200,\"renderers\":[{\"id\":\"df9b0a5f-19eb-4d18-979f-d219a2cd20c8\",\"type\":\"LinearAxis\"},{\"id\":\"8fcd6f1d-e8ec-4e4d-b6a2-c1bb9be526dc\",\"type\":\"Grid\"},{\"id\":\"a9f26060-c851-47ea-8acf-4da034d4d9b7\",\"type\":\"LinearAxis\"},{\"id\":\"3c7851e9-0c21-4664-9775-367b14c88da1\",\"type\":\"Grid\"},{\"id\":\"00bee5a9-aa7d-4d38-bdd7-06f8f5440f4b\",\"type\":\"GlyphRenderer\"}],\"sizing_mode\":\"scale_width\",\"title\":{\"id\":\"36fbe4ed-a9a7-4757-9e5a-d6d2d8380eea\",\"type\":\"Title\"},\"toolbar\":{\"id\":\"17ae493d-bd98-4598-9746-33fe60bd1eb1\",\"type\":\"Toolbar\"},\"toolbar_location\":null,\"x_range\":{\"id\":\"986749d3-d168-4c93-9318-185d2948289c\",\"type\":\"DataRange1d\"},\"x_scale\":{\"id\":\"d28ed22f-78ff-43f1-8d5d-500cf37b530c\",\"type\":\"LinearScale\"},\"y_range\":{\"id\":\"2cb9ebaf-40e8-4b79-9013-428a930e3261\",\"type\":\"DataRange1d\"},\"y_scale\":{\"id\":\"bc76270a-5519-4102-b6cc-94c5245d9d06\",\"type\":\"LinearScale\"}},\"id\":\"26bc016b-90b9-41b2-81ea-ed267163b086\",\"subtype\":\"Figure\",\"type\":\"Plot\"},{\"attributes\":{},\"id\":\"a3e356e5-1ecf-414e-a1bd-7ba7577a25b3\",\"type\":\"UnionRenderers\"},{\"attributes\":{},\"id\":\"bc76270a-5519-4102-b6cc-94c5245d9d06\",\"type\":\"LinearScale\"},{\"attributes\":{\"grid_line_color\":{\"value\":\"white\"},\"plot\":{\"id\":\"26bc016b-90b9-41b2-81ea-ed267163b086\",\"subtype\":\"Figure\",\"type\":\"Plot\"},\"ticker\":{\"id\":\"9be9007f-ee93-4c14-aa58-309d0c39efa6\",\"type\":\"BasicTicker\"}},\"id\":\"8fcd6f1d-e8ec-4e4d-b6a2-c1bb9be526dc\",\"type\":\"Grid\"},{\"attributes\":{\"axis_label\":\"Movie length\",\"axis_line_color\":{\"value\":null},\"formatter\":{\"id\":\"db056494-3c80-4781-951d-ed8a5d3b21d1\",\"type\":\"BasicTickFormatter\"},\"plot\":{\"id\":\"26bc016b-90b9-41b2-81ea-ed267163b086\",\"subtype\":\"Figure\",\"type\":\"Plot\"},\"ticker\":{\"id\":\"9be9007f-ee93-4c14-aa58-309d0c39efa6\",\"type\":\"BasicTicker\"}},\"id\":\"df9b0a5f-19eb-4d18-979f-d219a2cd20c8\",\"type\":\"LinearAxis\"},{\"attributes\":{},\"id\":\"9be9007f-ee93-4c14-aa58-309d0c39efa6\",\"type\":\"BasicTicker\"},{\"attributes\":{\"axis_label\":\"IMDB score\",\"axis_line_color\":{\"value\":null},\"formatter\":{\"id\":\"5e5a3c53-5db0-4e37-af55-132cea6b9a66\",\"type\":\"BasicTickFormatter\"},\"plot\":{\"id\":\"26bc016b-90b9-41b2-81ea-ed267163b086\",\"subtype\":\"Figure\",\"type\":\"Plot\"},\"ticker\":{\"id\":\"a529e068-44d3-42da-b02d-fd0ae7d2d926\",\"type\":\"BasicTicker\"}},\"id\":\"a9f26060-c851-47ea-8acf-4da034d4d9b7\",\"type\":\"LinearAxis\"},{\"attributes\":{},\"id\":\"a529e068-44d3-42da-b02d-fd0ae7d2d926\",\"type\":\"BasicTicker\"},{\"attributes\":{\"active_drag\":\"auto\",\"active_inspect\":\"auto\",\"active_scroll\":\"auto\",\"active_tap\":\"auto\",\"tools\":[{\"id\":\"fc5d8b26-a264-44aa-9b80-42a76eafe6e8\",\"type\":\"HoverTool\"}]},\"id\":\"17ae493d-bd98-4598-9746-33fe60bd1eb1\",\"type\":\"Toolbar\"},{\"attributes\":{\"dimension\":1,\"grid_line_color\":{\"value\":\"white\"},\"plot\":{\"id\":\"26bc016b-90b9-41b2-81ea-ed267163b086\",\"subtype\":\"Figure\",\"type\":\"Plot\"},\"ticker\":{\"id\":\"a529e068-44d3-42da-b02d-fd0ae7d2d926\",\"type\":\"BasicTicker\"}},\"id\":\"3c7851e9-0c21-4664-9775-367b14c88da1\",\"type\":\"Grid\"},{\"attributes\":{\"callback\":null,\"data\":{\"title\":[\"The Prince of Tides\",\"Home Sweet Hell\",\"Labyrinth\",\"Lake Mungo\",\"Cosmopolis\",\"Newsfront\",\"American Reunion\",\"Where the Truth Lies\",\"2001: A Space Travesty\",\"Meteor\",\"Harry Potter and the Order of the Phoenix\",\"The Last Castle\",\"One from the Heart\",\"One Missed Call\",\"The Broken Hearts Club: A Romantic Comedy\",\"The Dark Crystal\",\"My Beautiful Laundrette\",\"Stomp the Yard\",\"Blown Away\",\"The Choirboys\",\"The Sleeping Dictionary\",\"Ghost World\",\"Trenchcoat\",\"Dracula\",\"Leonard Part 6\",\"Beyond the Limit\",\"Harry Potter and the Half-Blood Prince\",\"Dreamer: Inspired by a True Story\",\"Lay the Favorite\",\"Something Borrowed\",\"Into the Sun\",\"You Kill Me\",\"Miss Potter\",\"A Warm December\",\"Burn After Reading\",\"Happy, Texas\",\"Innocent Blood\",\"Rhinestone\",\"Camille\",\"Confessions of a Dangerous Mind\",\"Absolute Power\",\"Hairspray\",\"Jonathan Livingston Seagull\",\"It Had to Be You\",\"Austin Powers in Goldmember\",\"Up in Smoke\",\"The Pursuit of D.B. Cooper\",\"Arthur Christmas\",\"The Secret of Moonacre\",\"I Spy\",\"Mary and Max\",\"Dolemite\",\"Blast from the Past\",\"Pitch Perfect 2\",\"Bless the Child\",\"Cleanskin\",\"Annie\",\"The Great Outdoors\",\"Dracula 2000\",\"The Wedding Date\",\"Piranha 3DD\",\"Live Free or Die Hard\",\"Saturday Night Fever\",\"YPF\",\"Madea's Big Happy Family\",\"No Man's Land\",\"Fist of the North Star\",\"She's All That\",\"Against All Odds\",\"The Serpent's Egg\",\"Shaft\",\"2 Days in New York\",\"Daddy's Little Girls\",\"Ratatouille\",\"Code of Silence\",\"Monty Python and the Holy Grail\",\"DragonHeart\",\"The Dark Knight Rises\",\"Nobody's Fool\",\"Evita\",\"The Lord of the Rings: The Two Towers\",\"Halloween 4: The Return of Michael Myers\",\"Bachelorette\",\"Lovesick\",\"Whatever Works\",\"Hard Target\",\"Lone Star\",\"The Mirror Has Two Faces\",\"Sparkle\",\"The Brothers\",\"The Newton Boys\",\"The Long Riders\",\"Aliens in the Attic\",\"Fun with Dick and Jane\",\"Dr. T & the Women\",\"Beverly Hills Cop\",\"Cleaner\",\"ThanksKilling\",\"Shadow of the Vampire\",\"The Black Stallion\",\"Stone Cold\",\"Angels & Demons\",\"Shrek\",\"Red\",\"Bullets Over Broadway\",\"Crimson Peak\",\"Rise of the Footsoldier\",\"Horton Hears a Who!\",\"The Ghost Writer\",\"Keeping Mum\",\"Gran Torino\",\"Welcome Home, Roscoe Jenkins\",\"Revenge of the Pink Panther\",\"Saw V\",\"Orlando\",\"Bride of Chucky\",\"The Punisher\",\"New Jersey Drive\",\"Dogville\",\"Big Fish\",\"Shortcut to Happiness\",\"Passenger 57\",\"Excess Baggage\",\"The Beach Boys: An American Band\",\"Roger Corman's Frankenstein Unbound\",\"Heavy Metal 2000\",\"Pusher\",\"Life Is Beautiful\",\"The Indian in the Cupboard\",\"Thinner\",\"Anchorman 2: The Legend Continues\",\"The Bourne Ultimatum\",\"The Wolfman\",\"The A-Team\",\"The Darkest Hour\",\"Coming Home\",\"Hell's Kitchen\",\"Gone Fishin'\",\"Arthur and the Invisibles\",\"Jerry Maguire\",\"Catch a Fire\",\"Silverado\",\"From Beyond\",\"Tim and Eric's Billion Dollar Movie\",\"Trance\",\"Heroes\",\"Eyes of Laura Mars\",\"Volver\",\"Beavis and Butt-Head Do America\",\"Deception\",\"Die Hard\",\"White Line Fever\",\"Elephant White\",\"Memento\",\"Foxy Brown\",\"Trailer Park Boys: The Movie\",\"The Wrestler\",\"Walking Tall\",\"The Wendell Baker Story\",\"Once Upon a Time in Mexico\",\"Mr. Baseball\",\"Bookies\",\"Basic Instinct\",\"The Hobbit: The Battle of the Five Armies\",\"Dear God\",\"Confidence\",\"The Client\",\"Your Friends & Neighbors\",\"While You Were Sleeping\",\"Bio-Dome\",\"Murder at 1600\",\"The Hindenburg\",\"When a Stranger Calls\",\"The Adventures of Sharkboy and Lavagirl 3-D\",\"Bad Dreams\",\"Chaplin\",\"The Odd Life of Timothy Green\",\"Alex & Emma\",\"John Q\",\"Empire\",\"For the Boys\",\"The Big Lebowski\",\"Avenging Angelo\",\"The Chamber\",\"Daddy Day Camp\",\"Brothers\",\"Dark Tide\",\"Celebrity Sex Tape\",\"Austin Powers: The Spy Who Shagged Me\",\"Changeling\",\"The Secret of NIMH\",\"Land and Freedom\",\"The Big Hit\",\"Crossroads\",\"Last Night\",\"The Jerky Boys\",\"Django Unchained\",\"Hanna\",\"Tempest\",\"Thir13en Ghosts\",\"Barbershop 2: Back in Business\",\"My Week with Marilyn\",\"This Is It\",\"New Jack City\",\"Detention\",\"The Apple\",\"The Hunger Games: Mockingjay - Part 2\",\"Side Effects\",\"Simon Birch\",\"Street Fighter: The Legend of Chun-Li\",\"Scenes from a Mall\",\"The Single Moms Club\",\"I'll Do Anything\",\"Two for the Money\",\"Bad Boys II\",\"Who Framed Roger Rabbit\",\"Shattered Glass\",\"The Ninth Gate\",\"The Iron Giant\",\"Child's Play\",\"Brake\",\"Get on the Bus\",\"Road to Perdition\",\"Rio 2\",\"Marci X\",\"Frankenweenie\",\"Rosewood\",\"Dying Young\",\"Clean, Shaven\",\"Inhale\",\"Gangster Squad\",\"Johnny Mnemonic\",\"Den skaldede fris\\u00f8r\",\"The Wash\",\"Boys on the Side\",\"Constantine\",\"Alvin and the Chipmunks\",\"John Carter\",\"Simply Irresistible\",\"Savage Grace\",\"The Notebook\",\"North\",\"The King and I\",\"Van Wilder\",\"Superbad\",\"Heartbreakers\",\"Cherry Falls\",\"Parker\",\"Darkness\",\"Conversations with Other Women\",\"War Horse\",\"Erased\",\"Immortal\",\"Ghosts of Mars\",\"127 Hours\",\"Fair Game\",\"Greystoke: The Legend of Tarzan, Lord of the Apes\",\"An Enemy of the People\",\"The Good Dinosaur\",\"Stealing Cars\",\"Deja Vu\",\"3 Strikes\",\"Clockstoppers\",\"Robin Hood\",\"The Professional\",\"Sky High\",\"A Perfect World\",\"The Hitchhiker's Guide to the Galaxy\",\"This Is the End\",\"The Cowboy Way\",\"Man on Fire\",\"The Firm\",\"From Hell\",\"Contagion\",\"Clueless\",\"Locke\",\"Thirteen Days\",\"Delgo\",\"Haggard\",\"The Pelican Brief\",\"Daisy Miller\",\"Conviction\",\"Amelia\",\"Bill & Ted's Excellent Adventure\",\"Sing\",\"City Slickers\",\"The Golden Voyage of Sinbad\",\"Videodrome\",\"Speak\",\"The Invention of Lying\",\"Sneakers\",\"The League of Extraordinary Gentlemen\",\"Trespass\",\"Good Morning, Vietnam\",\"Curious George\",\"Australia\",\"Nightmares\",\"Last Action Hero\",\"The Orphanage\",\"Benji\",\"The NeverEnding Story III\",\"Friday the 13th Part VII: The New Blood\",\"Malcolm X\",\"Return to Never Land\",\"Jumper\",\"Quest for Camelot\",\"Confessions of a Teenage Drama Queen\",\"Dumb and Dumber\",\"Shottas\",\"Friends with Kids\",\"Wild Things\",\"Cameraman: The Life and Work of Jack Cardiff\",\"The Lost World: Jurassic Park\",\"5 Days of War\",\"New York, I Love You\",\"Salt\",\"Underworld: Evolution\",\"The Milagro Beanfield War\",\"Why Did I Get Married?\",\"The Battle of Shaker Heights\",\"Miller's Crossing\",\"The Opposite of Sex\",\"Almost an Angel\",\"Three to Tango\",\"Crazy Heart\",\"The Hours\",\"The Girl Who Played with Fire\",\"End Game\",\"Wrong Is Right\",\"Animal Kingdom\",\"The Sapphires\",\"Around the World in 80 Days\",\"The Proposition\",\"Robot Jox\",\"Footloose\",\"Lawless\",\"Jeepers Creepers II\",\"Walk Hard: The Dewey Cox Story\",\"Happy Feet Two\",\"The Ice Pirates\",\"The Dictator\",\"A Time to Kill\",\"McHale's Navy\",\"Silent Movie\",\"The Girl Who Kicked the Hornet's Nest\",\"Tamara\",\"Wuthering Heights\",\"Look Who's Talking\",\"Hairspray\",\"The Santa Clause\",\"White Chicks\",\"Sleepwalk with Me\",\"The Fountain\",\"Zardoz\",\"The Roommate\",\"Wild Card\",\"Abandon\",\"Legend\",\"I Am Dina\",\"Wild Child\",\"The Road to Wellville\",\"Leave It to Beaver\",\"No Escape\",\"Malone\",\"Highway\",\"Dolphin Tale\",\"The Banger Sisters\",\"Where the Heart Is\",\"Raising Cain\",\"Chill Factor\",\"The Last Samurai\",\"Indigo\",\"Down in the Valley\",\"King of the Hill\",\"The Outback\",\"The Squeeze\",\"Team America: World Police\",\"Whale Rider\",\"Piranha 3D\",\"The Adventures of Baron Munchausen\",\"Wishmaster\",\"My Soul to Take\",\"The Way of the Gun\",\"Let the Right One In\",\"Escape from Planet Earth\",\"The Tall Man\",\"Perfect Stranger\",\"Control\",\"Severance\",\"Shrek Forever After\",\"Kull the Conqueror\",\"Boiling Point\",\"The Visit\",\"The Ledge\",\"Stay Alive\",\"Cannery Row\",\"Blood and Wine\",\"The Big Red One\",\"Focus\",\"Meet the Deedles\",\"Lethal Weapon\",\"Away We Go\",\"The Amityville Horror\",\"Aquamarine\",\"Elegy\",\"Hellboy II: The Golden Army\",\"Cellular\",\"Pontypool\",\"Sleepaway Camp\",\"The Three Musketeers\",\"Hitman: Agent 47\",\"Bride & Prejudice\",\"Rat Race\",\"Message in a Bottle\",\"Death Defying Acts\",\"We Own the Night\",\"Ringmaster\",\"House on Haunted Hill\",\"Josie and the Pussycats\",\"Powder\",\"Scream 2\",\"You, Me and Dupree\",\"Windtalkers\",\"Stranger Than Fiction\",\"Flawless\",\"Ghostbusters II\",\"Southland Tales\",\"Mr. Wonderful\",\"The Towering Inferno\",\"One in the Chamber\",\"Inherent Vice\",\"Lost in Yonkers\",\"Rollercoaster\",\"Crossed Swords\",\"Terminator 2\",\"The Addams Family\",\"The Painted Veil\",\"The Chronicles of Narnia: The Voyage of the Dawn Treader\",\"The Apple Dumpling Gang Rides Again\",\"DOA: Dead or Alive\",\"Jaws: The Revenge\",\"The Innkeepers\",\"Wrong Move\",\"Furious 6\",\"Just My Luck\",\"The Ring Two\",\"Combat Shock\",\"The Stud\",\"The Watcher\",\"The Fog\",\"Lifeforce\",\"Stake Land\",\"Choose Me\",\"Immortals\",\"Thumbelina\",\"The Thirty Nine Steps\",\"Cat People\",\"No Strings Attached\",\"Bright Star\",\"Paul\",\"Lawn Dogs\",\"Vibes\",\"Enchanted\",\"Little Monsters\",\"Heat\",\"In the Company of Men\",\"Lolita\",\"The Curse of the Jade Scorpion\",\"Ultraviolet\",\"A History of Violence\",\"Into the Wild\",\"In the Mouth of Madness\",\"Inglourious Basterds\",\"Pleasantville\",\"Step Up\",\"The Hunted\",\"Sherlock Holmes\",\"Itty Bitty Titty Committee\",\"Picture Perfect\",\"Daddy Day Care\",\"Sex Drive\",\"Underworld Awakening\",\"Patch Adams\",\"The Grudge 2\",\"Leaves of Grass\",\"1900\",\"The Limey\",\"Reality Bites\",\"The Disappearance of Alice Creed\",\"Superhero Movie\",\"Crank\",\"Clash of the Titans\",\"Stiletto\",\"Somewhere\",\"Kickboxer 4: The Aggressor\",\"Hidalgo\",\"Emma\",\"Lost River\",\"Happy Feet\",\"There's Something About Mary\",\"Hitch\",\"The Mortal Instruments: City of Bones\",\"Grand Theft Auto\",\"Pok\\u00e9mon: The Movie 2000\",\"Jonah Hex\",\"Argo\",\"The Teacher\",\"Jacob's Ladder\",\"Due Date\",\"Corpse Bride\",\"Noah\",\"The Messenger\",\"Anacondas: The Hunt for the Blood Orchid\",\"Push\",\"The Da Vinci Code\",\"Malibu's Most Wanted\",\"The Prestige\",\"Big Momma's House\",\"Grosse Pointe Blank\",\"Time Bandits\",\"Grease 2\",\"Big Mommas: Like Father, Like Son\",\"About Last Night\",\"Phantasm II\",\"Next Stop Wonderland\",\"The Frozen Ground\",\"Total Eclipse\",\"Knight and Day\",\"In the Land of Women\",\"Batman Begins\",\"Love Happens\",\"The Villain\",\"Splash\",\"Superman III\",\"Fireflies in the Garden\",\"The Manchurian Candidate\",\"Chernobyl Diaries\",\"Night at the Museum: Battle of the Smithsonian\",\"The Fifth Element\",\"Skyline\",\"Scream 3\",\"Bad Company\",\"I Can Do Bad All by Myself\",\"The Mummy: Tomb of the Dragon Emperor\",\"Child's Play 2\",\"Resident Evil: Apocalypse\",\"Broken English\",\"The Bourne Identity\",\"The King's Speech\",\"Invictus\",\"Bobby\",\"Fargo\",\"Night on Earth\",\"Blue Sky\",\"Bart Got a Room\",\"Anchorman: The Legend of Ron Burgundy\",\"Godzilla\",\"Ponyo\",\"Unforgiven\",\"Mrs. Winterbourne\",\"The Other Man\",\"Jack\",\"Little Nikita\",\"Matewan\",\"In Praise of Older Women\",\"The Quiet\",\"Rescue Dawn\",\"Saw 3D: The Final Chapter\",\"High Hopes\",\"L.I.E.\",\"The Transporter\",\"Hannah Montana and Miley Cyrus: Best of Both Worlds Concert\",\"Notorious\",\"Tomcats\",\"Dudley Do-Right\",\"Resurrection\",\"Oscar\",\"Cop Out\",\"Not of This Earth\",\"Saint Jack\",\"New Year's Eve\",\"The D Train\",\"Party Monster\",\"The Bear\",\"Altered\",\"Wedlock\",\"Kingsman: The Secret Service\",\"Talk Radio\",\"Big Daddy\",\"The Mask\",\"House Party\",\"Damien: Omen II\",\"Fat Man and Little Boy\",\"Batman\",\"Bridesmaids\",\"City of Angels\",\"Re-Animator\",\"Fugitive Pieces\",\"The Princess and the Goblin\",\"A Perfect Murder\",\"Underworld\",\"Zandy's Bride\",\"Click\",\"Man on the Moon\",\"Atlas Shrugged II: The Strike\",\"One Eight Seven\",\"I, Robot\",\"Hey Arnold! The Movie\",\"The Patriot\",\"Spider\",\"Unrest\",\"The Texas Chainsaw Massacre\",\"Dark Blue\",\"Play It to the Bone\",\"Mystic River\",\"The Village\",\"Step Brothers\",\"Red Scorpion\",\"Seed\",\"The Perfect Score\",\"The Wraith\",\"The Rookie\",\"Living Out Loud\",\"Posse\",\"Big\",\"Peter Pan\",\"Night of the Creeps\",\"The Man Who Knew Too Little\",\"Oz the Great and Powerful\",\"Howard the Duck\",\"Dreamcatcher\",\"The Lords of Flatbush\",\"Insidious\",\"Stir of Echoes\",\"Things We Lost in the Fire\",\"A League of Their Own\",\"Battle for the Planet of the Apes\",\"Spider-Man 2\",\"Psycho\",\"The Brink's Job\",\"House of the Rising Sun\",\"The Ballad of Jack and Rose\",\"Little Black Book\",\"Bend It Like Beckham\",\"AVP: Alien vs. Predator\",\"Midnight in Paris\",\"Noises Off...\",\"Captain Ron\",\"Aliens\",\"Half Nelson\",\"Goal! The Dream Begins\",\"Blink\",\"Moonlight Mile\",\"Jack's Back\",\"Captain Phillips\",\"The Pink Panther 2\",\"Brave\",\"Flight of the Phoenix\",\"Harold & Kumar Go to White Castle\",\"Ernest Saves Christmas\",\"Mirrormask\",\"G.I. Joe: Retaliation\",\"The Spirit\",\"Tart\",\"Megamind\",\"Assassination Games\",\"Bait\",\"Shoot to Kill\",\"Bridget Jones's Diary\",\"The Brave One\",\"The Swarm\",\"War\",\"The Hills Have Eyes II\",\"Moonwalker\",\"Sugar & Spice\",\"The Master of Disguise\",\"Heartland\",\"Stay\",\"Demonic\",\"Basic Instinct 2\",\"Mother's Boys\",\"The Entity\",\"Close Encounters of the Third Kind\",\"The Friends of Eddie Coyle\",\"Topsy-Turvy\",\"Blood and Bone\",\"Nineteen Eighty-Four\",\"Mama\",\"Pumpkinhead\",\"Creation\",\"Happy Birthday to Me\",\"The Eagle\",\"The Final Destination\",\"The Gun in Betty Lou's Handbag\",\"My Bloody Valentine\",\"Cooley High\",\"Babylon A.D.\",\"What Dreams May Come\",\"Raise Your Voice\",\"Repli-Kate\",\"Secretary\",\"For a Good Time, Call...\",\"Year of the Dragon\",\"The Domino Principle\",\"The Naked Gun 2\\u00bd: The Smell of Fear\",\"The Front Page\",\"Tai-Pan\",\"Christine\",\"Interview with the Vampire: The Vampire Chronicles\",\"Mission: Impossible III\",\"The American President\",\"Miss Conception\",\"The Switch\",\"Friday After Next\",\"The Machinist\",\"The Descendants\",\"The Survivors\",\"The Fisher King\",\"Elf\",\"Up in the Air\",\"A Matador's Mistress\",\"My Girl\",\"Monsters, Inc.\",\"Hostage\",\"Mighty Morphin Power Rangers: The Movie\",\"J. Edgar\",\"The Fourth War\",\"The Young Americans\",\"Death and the Maiden\",\"Stolen Summer\",\"Warriors of Virtue\",\"The Bucket List\",\"I Dreamed of Africa\",\"King Kong Lives\",\"Mr. & Mrs. Smith\",\"The Dark\",\"Richard III\",\"Cats & Dogs\",\"The Island\",\"The Barbarians\",\"Sliver\",\"The Replacements\",\"Henry V\",\"The Island\",\"Coraline\",\"No Way Out\",\"I'm Gonna Git You Sucka\",\"Freeheld\",\"Fahrenheit 9/11\",\"Ishtar\",\"All About the Benjamins\",\"Semi-Pro\",\"The Gallows\",\"Next of Kin\",\"Another 48 Hrs.\",\"Spy Kids 2: Island of Lost Dreams\",\"Driven\",\"Zombieland\",\"The Island of Dr. Moreau\",\"Red Rock West\",\"Halloween II\",\"At Long Last Love\",\"Eat Pray Love\",\"About Face: Supermodels Then and Now\",\"The Pagemaster\",\"Seraphim Falls\",\"The Brass Teapot\",\"The Family Man\",\"Lovely Molly\",\"Never Talk to Strangers\",\"Cool World\",\"Pocahontas\",\"Rocky III\",\"Green Lantern\",\"Little Man Tate\",\"Hoffa\",\"Diary of a Wimpy Kid: Dog Days\",\"Arbitrage\",\"Sinister\",\"Kingdom of Heaven\",\"Clean Slate\",\"F/X\",\"Insurgent\",\"The Whole Nine Yards\",\"The Devil's Rejects\",\"X-Men: The Last Stand\",\"Black & White\",\"Pretty in Pink\",\"Cobra\",\"Kingpin\",\"Another Gay Movie\",\"Welcome to Sarajevo\",\"Hart's War\",\"Colors\",\"Twelve Monkeys\",\"I Still Know What You Did Last Summer\",\"Undiscovered\",\"Paranormal Activity\",\"From Justin to Kelly\",\".45\",\"Thunderpants\",\"Baby Boy\",\"Pirates of the Caribbean: On Stranger Tides\",\"Above the Rim\",\"Four Christmases\",\"Miracle\",\"Taking Woodstock\",\"House\",\"Mary Reilly\",\"Honeymoon in Vegas\",\"Batman & Robin\",\"Beautiful\",\"Crouching Tiger, Hidden Dragon\",\"The Station Agent\",\"King of the Mountain\",\"Layer Cake\",\"Am\\u00e9lie\",\"Troy\",\"Mozart and the Whale\",\"RV\",\"Cape Fear\",\"One Flew Over the Cuckoo's Nest\",\"Slow Burn\",\"Tank Girl\",\"The Crow\",\"Hero Wanted\",\"Date with an Angel\",\"Rumor Has It...\",\"Demolition Man\",\"Arthur 3: la guerre des deux mondes\",\"The Man Who Loved Women\",\"Take Shelter\",\"Inkheart\",\"12 Rounds\",\"When in Rome\",\"Beneath Hill 60\",\"White Dog\",\"Sushi Girl\",\"Natural Born Killers\",\"The Interview\",\"Auto Focus\",\"The Order\",\"The Last Detail\",\"Crossing Delancey\",\"Fong juk\",\"Dude, Where's My Car?\",\"Johnny Dangerously\",\"Running with Scissors\",\"Burke and Hare\",\"Broken City\",\"Did You Hear About the Morgans?\",\"Rookie of the Year\",\"Nicholas Nickleby\",\"Children Shouldn't Play with Dead Things\",\"The Grudge\",\"The Perks of Being a Wallflower\",\"Monte Carlo\",\"The Foreigner\",\"Little Miss Sunshine\",\"Ali\",\"Abduction\",\"Seeking a Friend for the End of the World\",\"Angel\",\"The Curious Case of Benjamin Button\",\"Holy Man\",\"Thieves Like Us\",\"Screwed\",\"Jaws\",\"Thor: The Dark World\",\"The Mambo Kings\",\"Sorority Row\",\"The Negotiator\",\"Deep Impact\",\"Haunted Honeymoon\",\"Hot Fuzz\",\"Hair\",\"Howl's Moving Castle\",\"Police Academy 6: City Under Siege\",\"The Swan Princess\",\"The Transporter Refueled\",\"Deep Blue Sea\",\"Deconstructing Harry\",\"The Girl from the Naked Eye\",\"The Devil Inside\",\"Psycho Beach Party\",\"Erin Brockovich\",\"Chariots of Fire\",\"The Expendables\",\"Derailed\",\"The Golden Compass\",\"Fantastic Four\",\"Win a Date with Tad Hamilton!\",\"Willard\",\"Training Day\",\"Legal Eagles\",\"Aliens vs. Predator: Requiem\",\"The Watch\",\"Tormented\",\"Macbeth\",\"Incendiary\",\"Star Wars: Episode I - The Phantom Menace\",\"Flipper\",\"Gods and Monsters\",\"Papillon\",\"Gorky Park\",\"Girl 6\",\"Lady in White\",\"The Crossing Guard\",\"Full Metal Jacket\",\"Cannibal! The Musical\",\"Eye See You\",\"Universal Soldier: Day of Reckoning\",\"Henry: Portrait of a Serial Killer\",\"RoboCop 3\",\"Hooper\",\"Down by Law\",\"The Relic\",\"Much Ado About Nothing\",\"The Prisoner of Zenda\",\"Brooklyn\",\"Apollo 18\",\"My Stepmother Is an Alien\",\"Life as We Know It\",\"Naked Gun 33 1/3: The Final Insult\",\"The Incredibly True Adventure of Two Girls in Love\",\"The Texas Chainsaw Massacre 2\",\"High Fidelity\",\"El Gringo\",\"The Contract\",\"Poltergeist\",\"Jupiter Ascending\",\"Cliffhanger\",\"Austenland\",\"The Eagle Has Landed\",\"Gleaming the Cube\",\"Dark Water\",\"C.H.U.D.\",\"I Am Sam\",\"On the Edge\",\"Waking Ned Devine\",\"Rumble in the Bronx\",\"Tin Men\",\"Real Steel\",\"My Super Ex-Girlfriend\",\"Melancholia\",\"Joyful Noise\",\"Being Julia\",\"Crazy in Alabama\",\"Fantastic Four: Rise of the Silver Surfer\",\"The Bourne Supremacy\",\"Madagascar 3: Europe's Most Wanted\",\"Every Which Way But Loose\",\"Under the Tuscan Sun\",\"An American Haunting\",\"Othello\",\"The Tuxedo\",\"Menace II Society\",\"Octane\",\"Crash\",\"28 Weeks Later\",\"I'm Not There.\",\"Rocky V\",\"The Best Man\",\"To Save a Life\",\"The Osterman Weekend\",\"Tinker Tailor Soldier Spy\",\"Sleepy Hollow\",\"Rappin'\",\"The Lord of the Rings: The Fellowship of the Ring\",\"American History X\",\"Numb\",\"Battle in Seattle\",\"Wreck-It Ralph\",\"Big Nothing\",\"CQ\",\"Private Lessons\",\"Motel Hell\",\"The Parole Officer\",\"The Hills Have Eyes\",\"Guyver: Dark Hero\",\"Analyze That\",\"Doppelganger\",\"Over the Hedge\",\"Roommates\",\"Hancock\",\"Set It Off\",\"The Mechanic\",\"Without Limits\",\"The Grey Fox\",\"Child's Play 3\",\"The Frighteners\",\"Green Zone\",\"The Warrior's Way\",\"The Omen\",\"Law Abiding Citizen\",\"The Tunnel\",\"The Expendables 3\",\"For Love or Money\",\"Hot Shots!\",\"Shanghai Surprise\",\"Dumb and Dumberer: When Harry Met Lloyd\",\"The American Friend\",\"The Water Horse\",\"21 & Over\",\"Frantic\",\"Hannibal Rising\",\"Rapa Nui\",\"Mimic\",\"Apocalypse Now\",\"Monsters vs. Aliens\",\"Ghost\",\"First Knight\",\"The Stunt Man\",\"Wild Target\",\"The Shaggy Dog\",\"Longtime Companion\",\"Over Her Dead Body\",\"MVP: Most Valuable Primate\",\"The Night Flier\",\"Hobgoblins\",\"House of the Dead\",\"Bride Wars\",\"Ready to Rumble\",\"Dead Birds\",\"The Crazies\",\"28 Days Later...\",\"The Land That Time Forgot\",\"Rob Roy\",\"Chasing Liberty\",\"State of Grace\",\"Clownhouse\",\"The Prince and Me\",\"Rush\",\"Communion\",\"Never Die Alone\",\"The NeverEnding Story\",\"Jurassic Park III\",\"Welcome to Collinwood\",\"Race to Witch Mountain\",\"Devil in a Blue Dress\",\"Poolhall Junkies\",\"Inception\",\"Barfly\",\"Milk\",\"Star Wars: The Clone Wars\",\"The Rainmaker\",\"Secrets & Lies\",\"Class of 1984\",\"Finding Neverland\",\"Face/Off\",\"Casper\",\"Clerks II\",\"Hamlet 2\",\"Shrek the Third\",\"Michael Clayton\",\"I Love Trouble\",\"Dirty Dancing\",\"Winter Kills\",\"The Paper\",\"When a Stranger Calls\",\"The Dentist\",\"Killer Elite\",\"A Life Less Ordinary\",\"Tales from the Crypt: Demon Knight\",\"Armored\",\"American Gigolo\",\"Everybody's All-American\",\"A Chorus Line\",\"Deadfall\",\"The Final Countdown\",\"Oculus\",\"Little Nemo: Adventures in Slumberland\",\"Transsiberian\",\"At Play in the Fields of the Lord\",\"Pieces of April\",\"The Hand That Rocks the Cradle\",\"Stigmata\",\"All Things Fall Apart\",\"Gladiator\",\"Dead Tone\",\"Shag\",\"Fatal Attraction\",\"Used People\",\"You Again\",\"Tomorrow Never Dies\",\"Trapped\",\"Blind Date\",\"Rock Star\",\"Baby's Day Out\",\"Halloween 5\",\"The Art of Travel\",\"Robot & Frank\",\"Black Christmas\",\"The Color of Money\",\"Gracie\",\"The Night Listener\",\"The Zodiac\",\"Galaxy Quest\",\"Facing the Giants\",\"Unfaithful\",\"Shine\",\"3 Idiots\",\"Philadelphia Experiment II\",\"The Funeral\",\"The Thirteenth Floor\",\"Carrie\",\"Pok\\u00e9mon: The First Movie - Mewtwo Strikes Back\",\"Cabin Fever\",\"The Salton Sea\",\"Virgin Territory\",\"Irrational Man\",\"I.Q.\",\"Under Siege 2: Dark Territory\",\"Joshua\",\"Radio Days\",\"Evelyn\",\"A Few Good Men\",\"Kingdom Come\",\"Meet the Feebles\",\"Goats\",\"See Spot Run\",\"Mammoth\",\"Idle Hands\",\"Mrs. Doubtfire\",\"My Sister's Keeper\",\"Cruel Intentions\",\"Dead Again\",\"A Star Is Born\",\"National Lampoon's Vacation\",\"Act of Valor\",\"The Producers\",\"Choke\",\"The Texas Chainsaw Massacre: The Beginning\",\"Boy Eats Girl\",\"Dead Man\",\"Election\",\"Star Trek IV: The Voyage Home\",\"The Brood\",\"Hush\",\"Tracers\",\"Wolf\",\"Sunshine\",\"Black Widow\",\"Hilary and Jackie\",\"The Last Stand\",\"Goodfellas\",\"Spring Breakers\",\"The Rules of Attraction\",\"Killer Klowns from Outer Space\",\"Passion Fish\",\"Best Day Ever: Aiden Kesler 1994-2011\",\"The Golden Child\",\"Mac and Me\",\"The Crow: City of Angels\",\"The Mosquito Coast\",\"Johnson Family Vacation\",\"Pollock\",\"Carry on Columbus\",\"Setup\",\"The Ladykillers\",\"Proof\",\"The Host\",\"Everybody's Fine\",\"The Tigger Movie\",\"Courageous\",\"The Grey Zone\",\"The Peacemaker\",\"The Dark Knight\",\"Shrink\",\"Waxwork II: Lost in Time\",\"The Buddy Holly Story\",\"The Others\",\"Rabid\",\"Wall Street: Money Never Sleeps\",\"American Heart\",\"Aloha\",\"Armed and Dangerous\",\"The Living Daylights\",\"At First Sight\",\"Police Academy: Mission to Moscow\",\"Forget Me Not\",\"Life\",\"Cutthroat Island\",\"Jaws 3-D\",\"Ghostbusters\",\"Pure Luck\",\"Lost in Translation\",\"A Beautiful Mind\",\"Trailer Park Boys: Countdown to Liquor Day\",\"Boy Interrupted\",\"Bottle Shock\",\"The Omen\",\"Live Wire\",\"Cube\",\"Takers\",\"Rising Sun\",\"The Crush\",\"City by the Sea\",\"Vampire in Brooklyn\",\"Black Shampoo\",\"Rock-A-Doodle\",\"Charlie's Angels: Full Throttle\",\"Couples Retreat\",\"The Big Bang\",\"A Bug's Life\",\"Rent\",\"Sideways\",\"Derailed\",\"Magic Mike\",\"Redbelt\",\"Thumbsucker\",\"Sex and Death 101\",\"Go Tell the Spartans\",\"Gosford Park\",\"Strings\",\"Chimpanzee\",\"Playback\",\"Chinatown\",\"Where the Wild Things Are\",\"Highlander: The Final Dimension\",\"Foolproof\",\"The Big Green\",\"I Know What You Did Last Summer\",\"Witless Protection\",\"Season of the Witch\",\"Cecil B. DeMented\",\"WiseGirls\",\"I Don't Know How She Does It\",\"Batman Forever\",\"A Nightmare on Elm Street 4: The Dream Master\",\"xXx\",\"Predators\",\"Shame\",\"Once Upon a Time in China and America\",\"Down to You\",\"G.I. Joe: The Rise of Cobra\",\"Gremlins 2: The New Batch\",\"The Last of the Mohicans\",\"Fletch Lives\",\"Hideaway\",\"The Cat in the Hat\",\"The Wind and the Lion\",\"Sleeping Beauty\",\"The Informant!\",\"Jason X\",\"The Assassination of Jesse James by the Coward Robert Ford\",\"Domestic Disturbance\",\"Nim's Island\",\"Not Suitable for Children\",\"Eating Out\",\"The Final\",\"Jack Frost\",\"Straight to Hell\",\"Le Petit Prince\",\"The Fifth Musketeer\",\"Cradle Will Rock\",\"My Big Fat Greek Wedding\",\"By the Sea\",\"Edge of Darkness\",\"Gulliver's Travels\",\"G.I. Jane\",\"Assassin's Bullet\",\"Away from Her\",\"Good Luck Chuck\",\"Meet the Fockers\",\"U-571\",\"Beneath the Darkness\",\"Bad Lieutenant: Port of Call New Orleans\",\"The Elephant Man\",\"Valiant\",\"August\",\"Trespass\",\"A Bronx Tale\",\"Small Time Crooks\",\"Harry Potter and the Prisoner of Azkaban\",\"I Am Legend\",\"Dances with Wolves\",\"City of Industry\",\"Bullet to the Head\",\"Yours, Mine & Ours\",\"Battleship\",\"Hurlyburly\",\"City of Ember\",\"The Sting\",\"Cougar Club\",\"Twilight\",\"Why Did I Get Married Too?\",\"Jagged Edge\",\"Bad Santa\",\"Renaissance\",\"Resurrecting the Champ\",\"The Silence of the Lambs\",\"Stealing Harvard\",\"Pledge This!\",\"Hum Aapke Hain Koun...!\",\"Under Fire\",\"In Dreams\",\"Transformers: Revenge of the Fallen\",\"The X Files: I Want to Believe\",\"Honey, I Shrunk the Kids\",\"Shattered\",\"Battlefield Earth\",\"Unforgettable\",\"Cool as Ice\",\"Meet the Parents\",\"Harlem Nights\",\"Going the Distance\",\"The Forgotten\",\"The Invisible\",\"Never Been Kissed\",\"Before Sunset\",\"Crocodile Dundee in Los Angeles\",\"Splice\",\"Thief\",\"War, Inc.\",\"Pecker\",\"Iron Man 2\",\"Mousehunt\",\"Garfield: A Tail of Two Kitties\",\"The Hit List\",\"Cradle 2 the Grave\",\"The Man from Earth\",\"A Perfect Getaway\",\"Hardball\",\"How High\",\"You Don't Mess with the Zohan\",\"Twilight's Last Gleaming\",\"Misery\",\"An American Crime\",\"The Secret Life of Walter Mitty\",\"I Could Never Be Your Woman\",\"Solomon Kane\",\"The Claim\",\"The Legend of Bagger Vance\",\"9th Company\",\"Take Me Home Tonight\",\"Moonrise Kingdom\",\"Raise the Titanic\",\"Wrong Turn\",\"In Their Skin\",\"What's Love Got to Do with It\",\"The Flock\",\"The Dark Hours\",\"Ice Age\",\"Wizards\",\"The Shape of Things\",\"Carry on Emmannuelle\",\"Child 44\",\"Closer\",\"The Gathering\",\"She Hate Me\",\"The Merchant of Venice\",\"My Little Eye\",\"A Walk on the Moon\",\"Claudine\",\"Death Race 2000\",\"Star Wars: Episode V - The Empire Strikes Back\",\"Remember Me\",\"Futureworld\",\"Whatever It Takes\",\"Outbreak\",\"The Experiment\",\"Assault on Precinct 13\",\"Never Say Never Again\",\"Oliver Twist\",\"Killing Them Softly\",\"Shattered\",\"Vamp\",\"Shock Treatment\",\"Beginners\",\"The Saddest Music in the World\",\"Mr. Jones\",\"Never Let Me Go\",\"Before and After\",\"Death Wish 3\",\"Maverick\",\"Solarbabies\",\"Missing in Action 2: The Beginning\",\"Home Fries\",\"Big Wednesday\",\"Monkeybone\",\"Once Around\",\"Demons 2\",\"The Place Beyond the Pines\",\"House of D\",\"Turistas\",\"For Love of the Game\",\"Possession\",\"Heartbreak Ridge\",\"Halloween\",\"Paparazzi\",\"See No Evil, Hear No Evil\",\"Manhattan Murder Mystery\",\"Vanishing on 7th Street\",\"A Thin Line Between Love and Hate\",\"Magnolia\",\"Scarecrows\",\"Family Plot\",\"Marmaduke\",\"Arthur\",\"Belly\",\"Aloft\",\"Sound of Noise\",\"Take a Hard Ride\",\"Me and Orson Welles\",\"True Confessions\",\"The Four Feathers\",\"Four Rooms\",\"The Beastmaster\",\"Hodejegerne\",\"The Women\",\"X-Men Origins: Wolverine\",\"March or Die\",\"The Princess Diaries\",\"Nadine\",\"Soldiers of Fortune\",\"Dark Floors\",\"Runaway Bride\",\"Grey Owl\",\"Ice Age: The Meltdown\",\"The Game Plan\",\"Hotel Rwanda\",\"Midnight in the Garden of Good and Evil\",\"Conan the Destroyer\",\"Albino Alligator\",\"A Good Day to Die Hard\",\"Star Trek: Insurrection\",\"Open Water\",\"Gone Baby Gone\",\"Who's That Girl\",\"Wag the Dog\",\"One on One\",\"Lisa and the Devil\",\"Coach Carter\",\"Big Trouble in Little China\",\"Monster's Ball\",\"Edtv\",\"How to Make an American Quilt\",\"Thunderheart\",\"Trancers\",\"Beyond the Mat\",\"The Lair of the White Worm\",\"Attack of the Killer Tomatoes!\",\"Maurice\",\"Compliance\",\"From Paris with Love\",\"Car 54, Where Are You?\",\"A Civil Action\",\"Furry Vengeance\",\"Rocky IV\",\"Yu-Gi-Oh!: The Movie - Pyramid of Light\",\"Husbands and Wives\",\"Grown Ups\",\"Fat Albert\",\"The Chronicles of Riddick\",\"The Cable Guy\",\"Star Trek: Into Darkness\",\"New York Stories\",\"Youth in Revolt\",\"Bending the Rules\",\"Killers\",\"A Few Best Men\",\"Hannibal\",\"Under the Rainbow\",\"The Adventures of Rocky & Bullwinkle\",\"House\",\"She's the Man\",\"American Graffiti\",\"Soul Food\",\"The Return of the Pink Panther\",\"Gorillas in the Mist\",\"Harrison's Flowers\",\"The Mummy Returns\",\"The Lost City\",\"In Time\",\"A Midnight Clear\",\"A Little Princess\",\"Critters 2\",\"Memoirs of a Geisha\",\"Slackers\",\"Blood: The Last Vampire\",\"In Search of a Midnight Kiss\",\"Wolf Creek\",\"Jason Goes to Hell: The Final Friday\",\"StageFright\",\"Suburbia\",\"Wayne's World 2\",\"Star Wars: Episode II - Attack of the Clones\",\"Heaven's Gate\",\"The Perfect Man\",\"To Rome with Love\",\"The Romantics\",\"Bedtime Stories\",\"White Hunter Black Heart\",\"Damage\",\"Freelancers\",\"Final Destination 3\",\"The Caveman's Valentine\",\"Orange County\",\"Hereafter\",\"Eight Legged Freaks\",\"Rock the Kasbah\",\"The Natural\",\"Fright Night Part 2\",\"Fred Claus\",\"The Hitcher\",\"Sleeper\",\"End of the Spear\",\"The Other Guys\",\"Prince of Persia: The Sands of Time\",\"Heavy Metal\",\"The Zombie Diaries\",\"The Skulls\",\"Tears of the Sun\",\"It's Alive\",\"Citizen Toxie: The Toxic Avenger IV\",\"The Mudge Boy\",\"What Women Want\",\"Be Cool\",\"Brother Sun, Sister Moon\",\"Quarantine 2: Terminal\",\"Spy Game\",\"Better Luck Tomorrow\",\"She's the One\",\"Honey\",\"Battle Los Angeles\",\"Home Alone 2: Lost in New York\",\"She's Out of My League\",\"Electric Slide\",\"Fortress\",\"Valhalla Rising\",\"My Best Friend's Girl\",\"After Hours\",\"Batman: Mask of the Phantasm\",\"Drop Dead Gorgeous\",\"Pan\",\"A Simple Plan\",\"The Lord of the Rings\",\"Nude Nuns with Big Guns\",\"Kundun\",\"River's Edge\",\"8 Seconds\",\"Disclosure\",\"Ulee's Gold\",\"Rounders\",\"Book of Shadows: Blair Witch 2\",\"The Jewel of the Nile\",\"Reservation Road\",\"SpaceCamp\",\"Losing Isaiah\",\"The Names of Love\",\"Mother of Tears\",\"All the Pretty Horses\",\"Lara Croft Tomb Raider: The Cradle of Life\",\"Fire Birds\",\"Hoodlum\",\"Species\",\"Terminal Velocity\",\"The I Inside\",\"The Sheltering Sky\",\"Perfume: The Story of a Murderer\",\"Case 39\",\"Spiders\",\"Fool's Gold\",\"Santa sangre\",\"Rogue\",\"Dead Heat\",\"The Piano\",\"Road House\",\"Bill & Ted's Bogus Journey\",\"The Toxic Avenger Part II\",\"The Last Ride\",\"Snow Falling on Cedars\",\"Lucky You\",\"Control\",\"10,000 BC\",\"Mobsters\",\"The Good Mother\",\"O Brother, Where Art Thou?\",\"Safe Haven\",\"Imaginary Heroes\",\"Smokin' Aces\",\"Starship Troopers\",\"Gods and Generals\",\"The Tempest\",\"Knowing\",\"The Getaway\",\"Oranges and Sunshine\",\"EuroTrip\",\"The Dream Team\",\"The Bone Snatcher\",\"After the Sunset\",\"Hobo with a Shotgun\",\"Company Business\",\"Cyrus\",\"The Conspirator\",\"A Midsummer Night's Dream\",\"Scary Movie 2\",\"The Curse of the Were-Rabbit\",\"Pretty Woman\",\"Dark Places\",\"The Smurfs\",\"War of the Worlds\",\"The Thief and the Cobbler\",\"It's Complicated\",\"Killer Joe\",\"Bite the Bullet\",\"A Very Harold & Kumar 3D Christmas\",\"Drive\",\"Sylvia\",\"Rapid Fire\",\"The Importance of Being Earnest\",\"Runner Runner\",\"Journey 2: The Mysterious Island\",\"No Holds Barred\",\"Superbabies: Baby Geniuses 2\",\"Rambo\",\"Return to Macon County\",\"Silkwood\",\"We Are Marshall\",\"The Sum of All Fears\",\"The River Wild\",\"Coyote Ugly\",\"Legally Blonde\",\"Timeline\",\"Excalibur\",\"Beethoven's 2nd\",\"Critical Condition\",\"The Tortured\",\"Pitch Black\",\"The Tracey Fragments\",\"Flirting with Disaster\",\"Strange Brew\",\"Beverly Hills Chihuahua\",\"Funny Games\",\"White Fang\",\"Tales from the Hood\",\"The Money Pit\",\"Girl, Interrupted\",\"Songcatcher\",\"Star Trek: Generations\",\"Philadelphia\",\"Underworld: Rise of the Lycans\",\"Chocolat\",\"The Human Stain\",\"Universal Soldier\",\"National Treasure\",\"Very Bad Things\",\"Hollow Man\",\"50 First Dates\",\"Guess Who\",\"Josh and S.A.M.\",\"Basket Case\",\"Bedazzled\",\"Machete\",\"Dune\",\"Friday the 13th: A New Beginning\",\"Loaded\",\"Wrath of the Titans\",\"Supervixens\",\"Cassandra's Dream\",\"Space Chimps\",\"Man on a Ledge\",\"Panic Room\",\"Another You\",\"The Waterdance\",\"The Postman Always Rings Twice\",\"Ocean's Twelve\",\"Maniac Cop\",\"Hanging Up\",\"Against the Ropes\",\"Good Burger\",\"The White Diamond\",\"The Collector\",\"The Killing Gene\",\"Children of the Corn\",\"Transformers\",\"The Road to El Dorado\",\"Escape from New York\",\"The Fortune\",\"The Pianist\",\"In the Line of Fire\",\"Amityville 3-D\",\"Crimson Tide\",\"Deadfall\",\"Birdemic: Shock and Terror\",\"Robin Hood: Prince of Thieves\",\"30 Days of Night\",\"Dressed to Kill\",\"The Snowtown Murders\",\"The Losers\",\"Necronomicon: Book of Dead\",\"8 Million Ways to Die\",\"The Polar Express\",\"Black Snake Moan\",\"Day of the Dead\",\"The Boondock Saints II: All Saints Day\",\"The Guilt Trip\",\"The Ugly Truth\",\"Leaving Las Vegas\",\"Unknown\",\"The Italian Job\",\"Surrogates\",\"Let Me In\",\"In the Bedroom\",\"Shock Waves\",\"The Color of Freedom\",\"Far and Away\",\"Horrible Bosses\",\"Into the Woods\",\"Sid and Nancy\",\"The Cell\",\"Faster\",\"MacGruber\",\"Pennies from Heaven\",\"Rocky Balboa\",\"American Virgin\",\"Chaos\",\"Wedding Crashers\",\"True Colors\",\"Fast & Furious\",\"Ace Ventura: Pet Detective\",\"Levity\",\"Dead Man Walking\",\"The Messengers\",\"Twin Peaks: Fire Walk with Me\",\"Bad Influence\",\"The Maiden Heist\",\"Bridge of Spies\",\"Mixed Nuts\",\"The Brothers McMullen\",\"Seven Years in Tibet\",\"Murder by Numbers\",\"Charlie Wilson's War\",\"PCU\",\"Despicable Me\",\"Mona Lisa Smile\",\"Doctor Dolittle\",\"Kick-Ass\",\"3 Men and a Baby\",\"Assassination\",\"Problem Child\",\"The Damned United\",\"Freddy vs. Jason\",\"Harvard Man\",\"Weekend at Bernie's II\",\"Flypaper\",\"P.S. I Love You\",\"Arthur\",\"Martin Lawrence Live: Runteldat\",\"Alive\",\"Supercop\",\"Alone in the Dark\",\"Cheetah\",\"Dead & Buried\",\"What Happens in Vegas\",\"Missing in Action\",\"The Tournament\",\"The Garbage Pail Kids Movie\",\"In & Out\",\"Star Trek: The Motion Picture\",\"Twins\",\"Europa\",\"We're No Angels\",\"Cry-Baby\",\"Tarzan the Ape Man\",\"Faithful\",\"The Mist\",\"Lost Horizon\",\"Jungle 2 Jungle\",\"Thank You for Smoking\",\"Epic Movie\",\"White Man's Burden\",\"White Noise 2: The Light\",\"Run All Night\",\"Hugo\",\"Devil\",\"Are We There Yet?\",\"The First Wives Club\",\"Bad Girls\",\"Star Trek V: The Final Frontier\",\"Halloween\",\"Volcano\",\"Project X\",\"About a Boy\",\"The Land Before Time\",\"The Island at the Top of the World\",\"Detroit Rock City\",\"Charlie St. Cloud\",\"Cars\",\"Trade\",\"An American Werewolf in London\",\"Crash\",\"Across the Universe\",\"Gummo\",\"American Psycho\",\"Punisher: War Zone\",\"Clerks\",\"Dead Bang\",\"Vicky Cristina Barcelona\",\"Cool Runnings\",\"Touchback\",\"Mirrors\",\"I Come in Peace\",\"White Oleander\",\"Manderlay\",\"Admission\",\"Beasts of No Nation\",\"Tomorrow You're Gone\",\"London Boulevard\",\"The Seven-Ups\",\"Accidental Love\",\"The Blue Bird\",\"The Hudsucker Proxy\",\"Major League: Back to the Minors\",\"K-19: The Widowmaker\",\"Maid in Manhattan\",\"Margin Call\",\"The NeverEnding Story II: The Next Chapter\",\"Frida\",\"The Whole Wide World\",\"Jack and Jill\",\"Mindhunters\",\"Growth\",\"A Single Man\",\"Back to the Future\",\"The In-Laws\",\"The Objective\",\"Life Stinks\",\"Bronco Billy\",\"The King of Comedy\",\"Blue Crush\",\"Airport 1975\",\"Dogma\",\"The Skeleton Key\",\"The Intern\",\"Shrek 2\",\"Swing Vote\",\"Crocodile Dundee II\",\"Antichrist\",\"Elephant\",\"Turner & Hooch\",\"Freaky Deaky\",\"Brewster's Millions\",\"The House of Yes\",\"Chicago\",\"World War Z\",\"The Age of Innocence\",\"Picnic at Hanging Rock\",\"Wide Awake\",\"The Thing Called Love\",\"Lucky Lady\",\"The Specials\",\"Brick Mansions\",\"The Mexican\",\"Bullies\",\"No Man's Land\",\"One Hour Photo\",\"Stand Up Guys\",\"Extremely Loud & Incredibly Close\",\"Furious 7\",\"Fast Five\",\"The Reunion\",\"Austin Powers: International Man of Mystery\",\"Alien Hunter\",\"Senseless\",\"Sophie's Choice\",\"Elsewhere\",\"Intersection\",\"Dick\",\"Body of Evidence\",\"Honkytonk Man\",\"Slums of Beverly Hills\",\"The Last Airbender\",\"Matilda\",\"The Electric Horseman\",\"Gridiron Gang\",\"1941\",\"The Stuff\",\"Dirty Deeds\",\"The River\",\"Little Children\",\"Saving Private Ryan\",\"Max Manus: Man of War\",\"The Muppets\",\"Shark Tale\",\"Insomnia\",\"Mr. Magorium's Wonder Emporium\",\"Babe\",\"Bridget Jones: The Edge of Reason\",\"Zero Effect\",\"Scott Walker: 30 Century Man\",\"Celebrity\",\"The Great Train Robbery\",\"More American Graffiti\",\"The Blue Lagoon\",\"Cookie's Fortune\",\"Goal II: Living the Dream\",\"Equilibrium\",\"Fire and Ice\",\"Beetlejuice\",\"Edmond\",\"Violette\",\"Kids in America\",\"April Fool's Day\",\"S.W.A.T.\",\"Ri\\u00a2hie Ri\\u00a2h\",\"Monster House\",\"Jackass: The Movie\",\"The Art of War\",\"Funny People\",\"Mystery Date\",\"The Cold Light of Day\",\"X-Men\",\"Taken\",\"Hard Candy\",\"Heaven & Earth\",\"The Guard\",\"The Good Shepherd\",\"The Avengers\",\"Domino\",\"Elizabeth: The Golden Age\",\"Slap Her, She's French!\",\"Escape from Alcatraz\",\"Razorback\",\"Barry Lyndon\",\"Burlesque\",\"The Secret of Roan Inish\",\"Invasion of the Body Snatchers\",\"Analyze This\",\"Hulk\",\"Boys and Girls\",\"Old School\",\"Showtime\",\"Independence Day\",\"Mighty Joe Young\",\"Not Easily Broken\",\"The Gingerbread Man\",\"Harry and Tonto\",\"Monsters\",\"Hostel\",\"The Life and Times of Grizzly Adams\",\"The Rundown\",\"London\",\"Bordello of Blood\",\"Cast Away\",\"The Woods\",\"Friends with Benefits\",\"The Warlords\",\"The Phantom of the Opera\",\"Get Over It\",\"Corky Romano\",\"I'll Be Home for Christmas\",\"Creepshow 2\",\"DeepStar Six\",\"Saw IV\",\"Vera Drake\",\"The Usual Suspects\",\"Jade\",\"Journey to the Center of the Earth\",\"21 Jump Street\",\"Captain Corelli's Mandolin\",\"San Andreas\",\"28 Days\",\"Diary of the Dead\",\"Drop Dead Fred\",\"Someone Like You...\",\"Factory Girl\",\"Margot at the Wedding\",\"The Groove Tube\",\"The Spy Next Door\",\"Pitch Perfect\",\"The Maze Runner\",\"The Unbelievable Truth\",\"Man on Wire\",\"Harley Davidson and the Marlboro Man\",\"The Darjeeling Limited\",\"The Full Monty\",\"Blue Car\",\"Renegade\",\"Jay and Silent Bob Strike Back\",\"Iron Man Three\",\"Shutter\",\"Hustle & Flow\",\"Entourage\",\"Waking the Dead\",\"Assault on Precinct 13\",\"Haywire\",\"Private Benjamin\",\"Captivity\",\"How to Lose Friends & Alienate People\",\"The Haunting\",\"Girls Gone Dead\",\"Resident Evil\",\"Weird Science\",\"MacArthur\",\"View from the Top\",\"2012\",\"Taps\",\"Kung Pow: Enter the Fist\",\"Let's Do It Again\",\"Rambo: First Blood Part II\",\"The Black Windmill\",\"Moscow on the Hudson\",\"Finding Nemo\",\"Little Odessa\",\"The Lucky Ones\",\"A Christmas Carol\",\"The Campaign\",\"Pink Floyd: The Wall\",\"Liquid Sky\",\"The Two Jakes\",\"Over the Top\",\"The Impossible\",\"Contact\",\"Body Parts\",\"Alaska\",\"Dead End\",\"The Midnight Meat Train\",\"Trees Lounge\",\"Moon\",\"Bratz\",\"Catwoman\",\"The Adventures of Ford Fairlane\",\"The Company You Keep\",\"Mama's Boy\",\"Life of Pi\",\"Ironweed\",\"Black Hawk Down\",\"A Home at the End of the World\",\"Total Recall\",\"Joe Somebody\",\"Wieners\",\"Sorcerer\",\"Dead Man's Shoes\",\"Along Came Polly\",\"Ninja\",\"The Day After Tomorrow\",\"The Hitcher\",\"Extreme Measures\",\"Synecdoche, New York\",\"The Cabin in the Woods\",\"Brother Bear\",\"Murder by Decree\",\"Dead Men Don't Wear Plaid\",\"Brighton Beach Memoirs\",\"The Hateful Eight\",\"Death Warrant\",\"Star Wars: Episode VI - Return of the Jedi\",\"The Pope of Greenwich Village\",\"Chloe\",\"World Trade Center\",\"The Last Time I Committed Suicide\",\"Peace, Love & Misunderstanding\",\"Original Sin\",\"Where the Money Is\",\"Zookeeper\",\"Revenge of the Nerds\",\"Empire of the Sun\",\"Sahara\",\"Hellraiser: Bloodline\",\"Whiteout\",\"Avengers: Age of Ultron\",\"Phenomenon\",\"Barton Fink\",\"Red Dragon\",\"Friends with Money\",\"Tumbleweeds\",\"Dog Day Afternoon\",\"Betrayed\",\"The Other Sister\",\"Crazy/Beautiful\",\"Kiss of the Dragon\",\"Edward II\",\"Game of Death\",\"The White Countess\",\"Thirteen\",\"The Big Sleep\",\"Dreamgirls\",\"Dead of Night\",\"Solaris\",\"The Fabulous Baker Boys\",\"Cheaper by the Dozen 2\",\"Calendar Girl\",\"Barbershop\",\"Star Trek II: The Wrath of Khan\",\"Finding Forrester\",\"Darkman\",\"Righteous Kill\",\"Prison\",\"Martin\",\"Midnight Express\",\"The World's End\",\"Action Jackson\",\"Tigerland\",\"Carolina\",\"Nothing But Trouble\",\"Whipped\",\"Poison Ivy\",\"The Matrix\",\"The Lake House\",\"Armageddon\",\"Paul Blart: Mall Cop 2\",\"The SpongeBob SquarePants Movie\",\"Repo Man\",\"Observe and Report\",\"Girl Walks Into a Bar\",\"Earthquake\",\"Mr. Bean's Holiday\",\"10 to Midnight\",\"A Low Down Dirty Shame\",\"The New Adventures of Pippi Longstocking\",\"Postal\",\"The 13th Warrior\",\"Alien: Resurrection\",\"Love Field\",\"42\",\"Tea with Mussolini\",\"A Haunted House\",\"The Resident\",\"Get Rich or Die Tryin'\",\"Everyone's Hero\",\"Anonymous\",\"Mask\",\"Session 9\",\"Private Parts\",\"Wonder Boys\",\"The Purple Rose of Cairo\",\"First Snow\",\"The Rocketeer\",\"Exit Wounds\",\"Glitter\",\"Braveheart\",\"300: Rise of an Empire\",\"My Cousin Vinny\",\"Snakes on a Plane\",\"My Own Private Idaho\",\"The Brave Little Toaster\",\"Parents\",\"Spider-Man\",\"Ghoulies\",\"Sisters\",\"The Super\",\"Saw III\",\"Heartburn\",\"Monsters University\",\"Color of Night\",\"Sling Blade\",\"Here on Earth\",\"Love the Coopers\",\"The Abandoned\",\"Boogeyman 2\",\"Faces in the Crowd\",\"Alex Rider: Operation Stormbreaker\",\"The Breakfast Club\",\"Mambo Italiano\",\"Tentacles\",\"Embrace of the Vampire\",\"Running Scared\",\"A Shot at Glory\",\"Best of the Best\",\"Edward Scissorhands\",\"Maze Runner: The Scorch Trials\",\"Dave\",\"Beyond the Black Rainbow\",\"Superman IV: The Quest for Peace\",\"Fever Pitch\",\"The Man Who Wasn't There\",\"Leap Year\",\"Return to Oz\",\"The Next Karate Kid\",\"The Last Legion\",\"Littleman\",\"Swimming with Sharks\",\"Shake Hands with the Devil\",\"Beowulf\",\"The Queen\",\"Point Break\",\"Ghost Rider\",\"Agora\",\"Shortbus\",\"The Change-Up\",\"Sex & Drugs & Rock & Roll\",\"Dark Star\",\"The Rage: Carrie 2\",\"The Jesus Film\",\"Driving Miss Daisy\",\"Arlington Road\",\"Julie & Julia\",\"Dracula: Dead and Loving It\",\"Runaway Jury\",\"Phantasm\",\"The Care Bears Movie\",\"The Waterboy\",\"Streets of Fire\",\"The Gene Generation\",\"Trojan War\",\"King Arthur\",\"Evil Dead II\",\"The Emperor's Club\",\"Almost Famous\",\"Peter's Friends\",\"The Sessions\",\"Terminator Genisys\",\"Sukiyaki Western Django\",\"Tootsie\",\"Grabbers\",\"You Can Count on Me\",\"Maniac\",\"One for the Money\",\"House Party 2\",\"All the Real Girls\",\"Trainwreck\",\"Grindhouse\",\"Scream\",\"1408\",\"Aqua Teen Hunger Force Colon Movie Film for Theaters\",\"The Hobbit: An Unexpected Journey\",\"Nixon\",\"X: First Class\",\"Serenity\",\"The East\",\"The Big Picture\",\"Pusher\",\"Bolt\",\"March of the Penguins\",\"Old Dogs\",\"Surrender\",\"Valentine's Day\",\"Mean Machine\",\"Pootie Tang\",\"Showgirls\",\"Just Go with It\",\"The Whole Ten Yards\",\"Lincoln\",\"Home for the Holidays\",\"Anaconda\",\"Ant-Man\",\"What's the Worst That Could Happen?\",\"Amistad\",\"Versus\",\"Sea of Love\",\"Shocker\",\"Elvira: Mistress of the Dark\",\"South Central\",\"Safety Not Guaranteed\",\"Blades of Glory\",\"Delirious\",\"Bound\",\"Boot Camp\",\"Remember the Titans\",\"A Lot Like Love\",\"Good Boy!\",\"Puff, Puff, Pass\",\"Premonition\",\"The Good German\",\"300\",\"Stoker\",\"The Sum of Us\",\"Undertaking Betty\",\"Zoolander\",\"The Last House on the Left\",\"2 Fast 2 Furious\",\"The Straight Story\",\"Copycat\",\"Elektra\",\"P2\",\"Evolution\",\"Snowpiercer\",\"Step Up 2: The Streets\",\"Notting Hill\",\"Open Range\",\"The Love Guru\",\"Before I Go to Sleep\",\"Blue City\",\"The Bridges of Madison County\",\"Spartan\",\"Daredevil\",\"Ghosts of Mississippi\",\"Peggy Sue Got Married\",\"Igby Goes Down\",\"Steal Big Steal Little\",\"Death Bed: The Bed That Eats\",\"Blue Like Jazz\",\"Barbarossa\",\"Death at a Funeral\",\"City Island\",\"The Taking of Pelham 123\",\"Trust\",\"Wild Wild West\",\"Novocaine\",\"Stealing Beauty\",\"Find Me Guilty\",\"Flipped\",\"Predator 2\",\"Freakdog\",\"Spy Kids 3: Game Over\",\"Alien\\u00b3\",\"Sugar Hill\",\"Lara Croft: Tomb Raider\",\"Doogal\",\"Stuart Little 2\",\"Gloria\",\"The Countess\",\"Kate & Leopold\",\"The Kingdom\",\"RoboCop\",\"Tooth Fairy\",\"Kagemusha\",\"Spider-Man 3\",\"Scary Movie 4\",\"Memories of Me\",\"The Crazies\",\"The Nutty Professor\",\"The Cider House Rules\",\"October Sky\",\"Upstream Color\",\"Earth Girls Are Easy\",\"The Company Men\",\"Bangkok Dangerous\",\"Tom and Jerry: The Movie\",\"Get Smart\",\"The Thing\",\"Mountains of the Moon\",\"Johnny English Reborn\",\"Big Trouble\",\"Ed\",\"Flubber\",\"Stuart Little\",\"Ill Manors\",\"Fido\",\"Before the Devil Knows You're Dead\",\"Surviving Picasso\",\"Raiders of the Lost Ark\",\"Replicant\",\"The Girl with the Dragon Tattoo\",\"An American Carol\",\"Jeremiah Johnson\",\"Phantasm IV: Oblivion\",\"Amour\",\"Gangs of New York\",\"Grace Is Gone\",\"Divergent\",\"Astro Boy\",\"The Box\",\"Tell No One\",\"Screwballs\",\"Big Fat Liar\",\"Harry Potter and the Chamber of Secrets\",\"Being Human\",\"Starsky & Hutch\",\"Wise Blood\",\"The Recruit\",\"The Man with One Red Shoe\",\"Juice\",\"The Quick and the Dead\",\"Daybreakers\",\"Scott Pilgrim vs. the World\",\"Big Night\",\"Rugrats in Paris: The Movie\",\"Final Destination 2\",\"Carnosaur\",\"Alice Sweet Alice\",\"The Secret Life of Bees\",\"City Heat\",\"Toys\",\"Hard to Kill\",\"Looper\",\"The Slumber Party Massacre\",\"The Astronaut Farmer\",\"Leviathan\",\"Mannequin: On the Move\",\"Drowning Mona\",\"Mr. Nanny\",\"The Adventures of Gerard\",\"Mad Max\",\"Groove\",\"Kabhi Alvida Naa Kehna\",\"Irreconcilable Differences\",\"Panic\",\"Far from Heaven\",\"A Soldier's Story\",\"Poison\",\"Disturbia\",\"National Lampoon's European Vacation\",\"Mother's Day\",\"For Richer or Poorer\",\"The Santa Clause 2\",\"Romeo Must Die\",\"Extraordinary Measures\",\"Bright Lights, Big City\",\"Ride Along\",\"Candyman\",\"Hollywood Ending\",\"Grizzly\",\"Crazy, Stupid, Love.\",\"The Informers\",\"Van Helsing\",\"Love and Death\",\"The Ring\",\"Knock Off\",\"Edison\",\"Inspector Gadget\",\"The Brothers Grimm\",\"Jaws 2\",\"Prom Night\",\"Rugrats Go Wild\",\"Love's Labour's Lost\",\"Glory\",\"The Dilemma\",\"The Secret World of Arrietty\",\"Ali: Fear Eats the Soul\",\"The Hebrew Hammer\",\"Bone Tomahawk\",\"Clifford\",\"Children of Men\",\"Killer Movie\",\"The Social Network\",\"Born American\",\"The X Files\",\"Pat Garrett & Billy the Kid\",\"Cirque du Freak: The Vampire's Assistant\",\"St Trinian's 2: The Legend of Fritton's Gold\",\"Bugsy\",\"Shorts\",\"My Blueberry Nights\",\"Imagine That\",\"Alex Cross\",\"The Exorcism of Emily Rose\",\"Kids\",\"The Avengers\",\"The Core\",\"Goodbye Lover\",\"Juno\",\"Lorenzo's Oil\",\"Gravity\",\"Cop & \\u00bd\",\"Lars and the Real Girl\",\"Two Lovers\",\"The International\",\"Star Trek VI: The Undiscovered Country\",\"Dylan Dog: Dead of Night\",\"Scooby-Doo 2: Monsters Unleashed\",\"Target\",\"Riding in Cars with Boys\",\"Hellraiser\",\"Martian Child\",\"Urban Legend\",\"Ginger Snaps 2: Unleashed\",\"The Astronaut's Wife\",\"Thunderbirds\",\"The Hunger Games: Catching Fire\",\"Fast Times at Ridgemont High\",\"Sightseers\",\"The Bourne Legacy\",\"Halloween II\",\"The Bitter Tears of Petra von Kant\",\"Super Troopers\",\"Transylvania 6-5000\",\"Sibling Rivalry\",\"Tristram Shandy: A Cock and Bull Story\",\"Scorched\",\"Biloxi Blues\",\"The Prince of Egypt\",\"Elysium\",\"This Is England\",\"Blonde Ambition\",\"While She Was Out\",\"Dante's Peak\",\"Ella Enchanted\",\"Regarding Henry\",\"Clear and Present Danger\",\"The Bounty\",\"Freaky Friday\",\"Wonderland\",\"Grave Encounters\",\"American Me\",\"Conan the Barbarian\",\"Like Crazy\",\"Desperately Seeking Susan\",\"The Jungle Book 2\",\"The Air Up There\",\"Space Cowboys\",\"Hardware\",\"Point Break\",\"Twin Town\",\"Cars 2\",\"The Number 23\",\"Beerfest\",\"Hostel: Part II\",\"The Beach\",\"Stick\",\"The Ref\",\"For Greater Glory: The True Story of Cristiada\",\"Robin Hood\",\"The Iron Lady\",\"The Deer Hunter\",\"Paranoia\",\"Igor\",\"The Last Song\",\"Chronicle\",\"Joy Ride\",\"The Rookie\",\"Don't Be Afraid of the Dark\",\"Bal-Can-Can\",\"Munich\",\"Unfinished Business\",\"27 Dresses\",\"Yogi Bear\",\"Rise of the Guardians\",\"American Sniper\",\"Days of Thunder\",\"Eaten Alive\",\"Eagle Eye\",\"21 Grams\",\"Air America\",\"RED 2\",\"The Driver\",\"Jane Got a Gun\",\"Vanilla Sky\",\"Hoodwinked Too! Hood vs. Evil\",\"Moment by Moment\",\"The Lincoln Lawyer\",\"Quills\",\"The Room\",\"Pink Cadillac\",\"Miss Congeniality 2: Armed & Fabulous\",\"Ace Ventura: When Nature Calls\",\"Mulligans\",\"Garfield\",\"Labor Pains\",\"Legion\",\"No Reservations\",\"My Boss's Daughter\",\"Mighty Aphrodite\",\"How Do You Know\",\"Forrest Gump\",\"Hoosiers\",\"Harry Potter and the Deathly Hallows: Part 2\",\"Batman Returns\",\"Woo\",\"Source Code\",\"The Kid\",\"Defendor\",\"Down Periscope\",\"The Words\",\"Malice\",\"Bernie\",\"Prince of Darkness\",\"The Indian Runner\",\"The Laughing Policeman\",\"All Dogs Go to Heaven\",\"The Spectacular Now\",\"Bulworth\",\"Super 8\",\"Never Back Down\",\"Lie with Me\",\"Flyboys\",\"The Commitments\",\"Onegin\",\"Krull\",\"The Grey\",\"Rush\",\"6 Bullets\",\"The Gauntlet\",\"Breakout\",\"Lone Wolf McQuade\",\"Zero Dark Thirty\",\"Deathstalker\",\"Pathfinder\",\"Mud\",\"The Lucky One\",\"TMNT\",\"The Twilight Saga: Breaking Dawn - Part 1\",\"The Protector\",\"Four Weddings and a Funeral\",\"Event Horizon\",\"Valkyrie\",\"Titanic\",\"We Don't Live Here Anymore\",\"Gettysburg\",\"Joe Dirt\",\"Ice Age: Continental Drift\",\"The Liability\",\"Strangeland\",\"The Big Fix\",\"The Best of Times\",\"The Congress\",\"Invaders from Mars\",\"Oldeuboi\",\"Love Actually\",\"A Room with a View\",\"Titan A.E.\",\"Stolen\",\"The Tattooist\",\"The Merry Gentleman\",\"WALL\\u00b7E\",\"Intruder\",\"The Fury\",\"Band of the Hand\",\"Colombiana\",\"Warrior\",\"Beautiful Creatures\",\"A Little Trip to Heaven\",\"Trust\",\"South Park: Bigger, Longer & Uncut\",\"National Lampoon's Christmas Vacation\",\"Watchmen\",\"The Devil's Own\",\"A Kiss Before Dying\",\"Billy Bathgate\",\"3 Ninjas Kick Back\",\"Hellraiser III: Hell on Earth\",\"What's Eating Gilbert Grape\",\"Shadowlands\",\"The Break-Up\",\"Down and Out in Beverly Hills\",\"Ready to Wear\",\"In Country\",\"The Brothers Bloom\",\"Texas Chainsaw Massacre: The Next Generation\",\"Christmas with the Kranks\",\"Last Orders\",\"50/50\",\"A View to a Kill\",\"Love Affair\",\"Pirate Radio\",\"The Man with the Golden Gun\",\"Moulin Rouge!\",\"Aloha, Bobby and Rose\",\"Master and Commander: The Far Side of the World\",\"Butch and Sundance: The Early Days\",\"Toy Story 3\",\"Tuck Everlasting\",\"Top Secret!\",\"The Man\",\"Paul Blart: Mall Cop\",\"Enough\",\"Immediate Family\",\"New York Minute\",\"Little Giants\",\"Dance Flick\",\"Maleficent\",\"Coming to America\",\"For Your Consideration\",\"Renaissance Man\",\"National Treasure: Book of Secrets\",\"Smoke\",\"FernGully: The Last Rainforest\",\"The Reader\",\"Made in America\",\"Flash of Genius\",\"Superman\",\"The Game\",\"Sleepless in Seattle\",\"The Sweeney\",\"Cry Freedom\",\"Blues Brothers 2000\",\"Force 10 from Navarone\",\"The Deep End\",\"Lethal Weapon 3\",\"The Princess Diaries 2: Royal Engagement\",\"Mo' Better Blues\",\"Free Willy\",\"Half Baked\",\"Scary Movie 5\",\"Female Trouble\",\"Emperor of the North\",\"Death Wish II\",\"Shark Bait\",\"The Pick-up Artist\",\"The Blues Brothers\",\"The Singing Detective\",\"Street Trash\",\"Exorcist: The Beginning\",\"The Haunting in Connecticut\",\"Lust in the Dust\",\"The Town\",\"Quigley Down Under\",\"Dangerous Game\",\"Middle Men\",\"The Last Horror Movie\",\"Boys Don't Cry\",\"U.S. Marshals\",\"Trick\",\"Sin City: A Dame to Kill For\",\"Ted\",\"The Devil's Advocate\",\"The Virgin Suicides\",\"Walker\",\"Jakob the Liar\",\"Gabriel\",\"After.Life\",\"The Devil's Double\",\"Aladdin\",\"Almost Heroes\",\"Hesher\",\"Terminator 3: Rise of the Machines\",\"One Night at McCool's\",\"Frankenhooker\",\"The Crew\",\"Vegas Vacation\",\"Eyes Wide Shut\",\"Love Ranch\",\"Grease\",\"Vertical Limit\",\"The Goonies\",\"The Dangerous Lives of Altar Boys\",\"Inferno\",\"Consenting Adults\",\"Pok\\u00e9mon 3: The Movie\",\"Dark Skies\",\"Walking Tall\",\"Bingo\",\"Charlie's Angels\",\"Two Weeks Notice\",\"Love Stinks\",\"Prefontaine\",\"Porky's II: The Next Day\",\"Beverly Hills Cop II\",\"Raging Bull\",\"Timecode\",\"Stealth\",\"The Debt\",\"Sherrybaby\",\"Straw Dogs\",\"Dragonfly\",\"Absentia\",\"Kazaam\",\"Necessary Roughness\",\"Vulgar\",\"Thelma & Louise\",\"Losin' It\",\"Zombie Nightmare\",\"Leatherheads\",\"I Sell the Dead\",\"The Master\",\"The English Patient\",\"Mr. Destiny\",\"Hot Tub Time Machine\",\"Snow Flower and the Secret Fan\",\"Barney's Great Adventure\",\"Boogeyman\",\"Flashdance\",\"True Lies\",\"Miracle at St. Anna\",\"Tango & Cash\",\"Hachi: A Dog's Tale\",\"Jurassic Park\",\"The Big Year\",\"American Beauty\",\"Moon Over Parador\",\"China Moon\",\"The Hangover Part II\",\"Zodiac\",\"Red Dawn\",\"The History Boys\",\"The Flintstones in Viva Rock Vegas\",\"The Good Guy\",\"A Most Wanted Man\",\"The Beaver\",\"Westworld\",\"Stolen\",\"Trauma\",\"The Shining\",\"Porky's Revenge\",\"Street Smart\",\"Mermaids\",\"Blow\",\"The War of the Roses\",\"Wristcutters: A Love Story\",\"Teenage Mutant Ninja Turtles II: The Secret of the Ooze\",\"Another Year\",\"Squirm\",\"3:10 to Yuma\",\"Heavenly Creatures\",\"The Hunted\",\"Deep Rising\",\"L'illusionniste\",\"O\",\"Iron Man\",\"Once Upon a Time in America\",\"They\",\"Valentino\",\"Bowfinger\",\"The Nanny Diaries\",\"Lawnmower Man 2: Beyond Cyberspace\",\"Extract\",\"Metropolis\",\"The Dark Half\",\"The Wedding Singer\",\"Puss in Boots\",\"Air Force One\",\"Final Fantasy: The Spirits Within\",\"Fireproof\",\"The Crucible\",\"The Soloist\",\"Rush Hour\",\"The Karate Kid\",\"The Kentucky Fried Movie\",\"Diggstown\",\"Wendy and Lucy\",\"Cat's Eye\",\"Sundown: The Vampire in Retreat\",\"Blood and Chocolate\",\"Think Like a Man\",\"Man Trouble\",\"Boiler Room\",\"Flight of the Intruder\",\"The Incredibles\",\"Mumford\",\"Terror Train\",\"Rollerball\",\"First Blood\",\"Long Weekend\",\"Once\",\"Dragon Wars: D-War\",\"Indecent Proposal\",\"Dark City\",\"Ticker\",\"Role Models\",\"Snow White and the Huntsman\",\"Emmanuelle\",\"Bella\",\"D.E.B.S.\",\"Heart and Souls\",\"The 6th Day\",\"Highway to Hell\",\"Hedwig and the Angry Inch\",\"The Player\",\"Black Knight\",\"Prozac Nation\",\"The City of Your Final Destination\",\"Transamerica\",\"Pirates\",\"Phat Girlz\",\"Pineapple Express\",\"Lethal Weapon 4\",\"Spice World\",\"God Told Me To\",\"The Powerpuff Girls Movie\",\"Blade\",\"Crossing Over\",\"Legends of Oz: Dorothy's Return\",\"Music and Lyrics\",\"Sisters\",\"The Hammer\",\"Billy Madison\",\"Mars Attacks!\",\"The Boost\",\"Dan in Real Life\",\"Unbreakable\",\"Rosewater\",\"Nirgendwo in Afrika\",\"Catch Me If You Can\",\"Two Can Play That Game\",\"R.I.P.D.\",\"Half Past Dead\",\"Commando\",\"Anna and the King\",\"The Temp\",\"City of Ghosts\",\"Mother, Jugs & Speed\",\"Heist\",\"The Perez Family\",\"Julia\",\"Stranded\",\"Chaos\",\"The Secret of My Succe$s\",\"Ladder 49\",\"Hunger\",\"The Perfect Weapon\",\"The Frisco Kid\",\"Just Like Heaven\",\"License to Wed\",\"Searching for Bobby Fischer\",\"Mean Girls\",\"The Stupids\",\"Ride with the Devil\",\"A Thief in the Night\",\"To End All Wars\",\"Uptown Girls\",\"Paycheck\",\"It's Kind of a Funny Story\",\"The Ward\",\"Mystery Train\",\"Relentless\",\"Most Wanted\",\"Tarnation\",\"All the President's Men\",\"The Longest Yard\",\"101 Dalmatians\",\"Death at a Funeral\",\"Ramona and Beezus\",\"The Perfect Host\",\"Another Happy Day\",\"Thirteen Conversations About One Thing\",\"Teenage Mutant Ninja Turtles\",\"Quest for Fire\",\"Crooklyn\",\"The Great Raid\",\"Beyond the Door\",\"The Illusionist\",\"Bounce\",\"Julia\",\"Pirates of the Caribbean: The Curse of the Black Pearl\",\"The Hunchback of Notre Dame\",\"Parts Per Billion\",\"The Gunman\",\"The Virginity Hit\",\"Married to It\",\"Legionnaire\",\"Flight of the Navigator\",\"Sudden Impact\",\"The Proposal\",\"The Outlaw Josey Wales\",\"The Last Boy Scout\",\"The Rescuers Down Under\",\"The Twilight Saga: Eclipse\",\"Made in Heaven\",\"Dangerous Beauty\",\"The Secret Agent\",\"The Honeymooners\",\"Happiness\",\"The Rocker\",\"Buffalo Soldiers\",\"Manhunter\",\"Miracle Mile\",\"Freejack\",\"Unstoppable\",\"Snow Cake\",\"Juwanna Mann\",\"High Tension\",\"Closet Land\",\"Das Boot\",\"Beyond the Sea\",\"Forgetting Sarah Marshall\",\"Sunset\",\"Rushmore\",\"So I Married an Axe Murderer\",\"But I'm a Cheerleader\",\"Teenage Mutant Ninja Turtles III\",\"Spaced Invaders\",\"The Last Starfighter\",\"Romancing the Stone\",\"The Order\",\"About Schmidt\",\"Evil Dead\",\"Red Dog\",\"That Thing You Do!\",\"Airplane II: The Sequel\",\"The Mod Squad\",\"Wish You Were Here\",\"Priest\",\"Teachers\",\"Henry's Crime\",\"King Solomon's Mines\",\"The Guardian\",\"Disturbing Behavior\",\"Spirit: Stallion of the Cimarron\",\"Any Given Sunday\",\"Memoirs of an Invisible Man\",\"The Wild\",\"Sphere\",\"Somewhere in Time\",\"The Betrayed\",\"Tombstone\",\"The Last King of Scotland\",\"The Man from U.N.C.L.E.\",\"Pathfinders: In the Company of Strangers\",\"Ginger Snaps\",\"Enemy of the State\",\"Practical Magic\",\"House of Sand and Fog\",\"Split Second\",\"King's Ransom\",\"Rumpelstiltskin\",\"The Missing\",\"Tron\",\"Primary Colors\",\"The Last Witch Hunter\",\"The Time Machine\",\"Inchon\",\"Cop Land\",\"Hiding Out\",\"Bad Teacher\",\"The Brother from Another Planet\",\"Tangled\",\"The Samaritan\",\"Divine Secrets of the Ya-Ya Sisterhood\",\"Friday the 13th\",\"Swingers\",\"St. Trinian's\",\"Murder on the Orient Express\",\"Get Low\",\"Black Water\",\"Boomerang\",\"Blade: Trinity\",\"Cinderella\",\"What About Bob?\",\"Drag Me to Hell\",\"A Lonely Place to Die\",\"Eraser\",\"The Collection\",\"Committed\",\"The Traveler\",\"Pirates of the Caribbean: Dead Man's Chest\",\"One Night Stand\",\"Carol\",\"Heartbeats\",\"The Fourth Kind\",\"Con Air\",\"My Life\",\"Easy A\",\"Home on the Range\",\"Basquiat\",\"Weekend\",\"I Love You, Man\",\"Jarhead\",\"Contraband\",\"Interiors\",\"Quiz Show\",\"The Signal\",\"The Raven\",\"Your Sister's Sister\",\"Blue in the Face\",\"The Human Centipede (First Sequence)\",\"The Affair of the Necklace\",\"Dangerous Minds\",\"The Lion King\",\"Freaked\",\"eXistenZ\",\"Precious\",\"The House of Mirth\",\"Dying Breed\",\"Vampire's Kiss\",\"Like Minds\",\"Hook\",\"Starchaser: The Legend of Orin\",\"Epic\",\"Bad Moon\",\"The Mechanic\",\"Little Nicky\",\"Fubar\",\"Buffalo Bill and the Indians, or Sitting Bull's History Lesson\",\"Piranha Part Two: The Spawning\",\"Spy Kids\",\"The Boondock Saints\",\"Sanctum\",\"Hounddog\",\"Star Trek\",\"Xanadu\",\"Chasing Mavericks\",\"The Matrix Reloaded\",\"Jungle Fever\",\"The Pirates! Band of Misfits\",\"Seed of Chucky\",\"Pok\\u00e9mon the Movie: Destiny Deoxys\",\"Kissing Jessica Stein\",\"Afterwards\",\"Running on Empty\",\"North Country\",\"Doghouse\",\"Ironclad\",\"Double Jeopardy\",\"Stardust Memories\",\"Men of Honor\",\"Hellboy\",\"48 Hrs.\",\"The Nativity Story\",\"The Life Aquatic with Steve Zissou\",\"DysFunktional Family\",\"Flags of our Fathers\",\"Bloodsport\",\"The Twilight Saga: New Moon\",\"Million Dollar Mystery\",\"Der rote Baron\",\"Metropolitan\",\"A Dog of Flanders\",\"Fierce Creatures\",\"Everything Is Illuminated\",\"Java Heat\",\"Thank God It's Friday\",\"Recess: School's Out\",\"The Walk\",\"The Wild Thornberrys Movie\",\"The Last Days of Disco\",\"The Thomas Crown Affair\",\"The Valachi Papers\",\"Dead Poets Society\",\"The Chumscrubber\",\"Mr 3000\",\"Speed 2: Cruise Control\",\"Mad City\",\"The Wackness\",\"Resident Evil: Afterlife\",\"The Apparition\",\"The Devil's Carnival\",\"Iris\",\"A Series of Unfortunate Events\",\"Big Stan\",\"Scrooged\",\"Drive Me Crazy\",\"Fletch\",\"Duets\",\"Franklyn\",\"Avatar\",\"Before Midnight\",\"Someone to Watch Over Me\",\"East Is East\",\"Bring It On\",\"How I Got Into College\",\"The Mission\",\"The Return of Swamp Thing\",\"Eye for an Eye\",\"Pixels\",\"Bring Me the Head of Alfredo Garcia\",\"Alleged\",\"Cypher\",\"Meet the Spartans\",\"Pirates of the Caribbean: At World's End\",\"Geronimo: An American Legend\",\"Gung Ho\",\"Rambling Rose\",\"Deadly Blessing\",\"The Hoax\",\"Detention\",\"Caddyshack\",\"Mala Noche\",\"The Next Best Thing\",\"The New Daughter\",\"The Ice Storm\",\"King Kong\",\"Spanglish\",\"Death to Smoochy\",\"The Curse of Downers Grove\",\"The Family Stone\",\"Fr\\u00e1giles\",\"The Replacement Killers\",\"The Crocodile Hunter: Collision Course\",\"Chicken Little\",\"The Taking of Pelham One Two Three\",\"The Apostle\",\"The Wolf of Wall Street\",\"2001 Maniacs\",\"Young Adult\",\"Primal Fear\",\"The Silent Partner\",\"Dream House\",\"Lakeview Terrace\",\"Stash House\",\"Surviving Christmas\",\"The Fly\",\"An American Werewolf in Paris\",\"The Lonely Lady\",\"Thor\",\"Les poup\\u00e9es russes\",\"The Music Never Stopped\",\"Seeking Justice\",\"Center Stage\",\"The Host\",\"The Great Debaters\",\"Kung Fu Panda\",\"Riddle\",\"Eye of the Beholder\",\"Joy\",\"The Sweetest Thing\",\"Shallow Grave\",\"Striking Distance\",\"The Legend of the Lone Ranger\",\"Dangerous Liaisons\",\"A Home of Our Own\",\"The Revenant\",\"Vampires Suck\",\"Barbarosa\",\"Rules of Engagement\",\"The 40-Year-Old Virgin\",\"Even Cowgirls Get the Blues\",\"TRON\",\"Tales from the Darkside: The Movie\",\"Terminator Salvation\",\"Next Day Air\",\"Fantastic Four\",\"Hustle\",\"Dead Man on Campus\",\"The Conjuring\",\"Public Enemies\",\"Where the Heart Is\",\"Transporter 3\",\"Varsity Blues\",\"Class Act\",\"Leatherface: Texas Chainsaw Massacre III\",\"Pooh's Heffalump Movie\",\"Hard Times\",\"Madagascar\",\"Atlas Shrugged: Part I\",\"Norbit\",\"A Prayer for the Dying\",\"Kramer vs. Kramer\",\"Young Guns\",\"The People vs. Larry Flynt\",\"Supercross\",\"Cheaper by the Dozen\",\"Bruce Almighty\",\"Paradise Road\",\"Cyborg\",\"Double Team\",\"Troll 2\",\"Christopher Columbus: The Discovery\",\"Maximum Overdrive\",\"Nacho Libre\",\"The Slaughter Rule\",\"Dodgeball: A True Underdog Story\",\"Dostana\",\"Patrick\",\"Feast\",\"Phone Booth\",\"The Adventures of Huck Finn\",\"Not Fade Away\",\"The Road Warrior\",\"The Next Three Days\",\"The Cave\",\"Jingle All the Way\",\"Adaptation.\",\"Take the Lead\",\"Redacted\",\"The Story of Us\",\"Lock, Stock and Two Smoking Barrels\",\"Exit to Eden\",\"The Patriot\",\"Dutch\",\"Darkness Falls\",\"Top Dog\",\"Fedora\",\"Sweet Movie\",\"The Cotton Club\",\"I Love You, Beth Cooper\",\"Canadian Bacon\",\"Lake Placid\",\"New in Town\",\"Seabiscuit\",\"Doomsday\",\"Brainstorm\",\"Asylum\",\"Night of the Demons\",\"The Unbearable Lightness of Being\",\"Zero Day\",\"The Reaping\",\"Skyfall\",\"I Know Who Killed Me\",\"Diner\",\"White House Down\",\"The Changeling\",\"The Joneses\",\"Lost Souls\",\"Bottle Rocket\",\"Ronin\",\"The Omega Code\",\"Dakota Skye\",\"Shanghai Knights\",\"Indiana Jones and the Kingdom of the Crystal Skull\",\"Maggie\",\"Enter the Dragon\",\"Outside Providence\",\"Walk the Line\",\"My Best Friend's Wedding\",\"Simon Sez\",\"Wall Street\",\"Limitless\",\"Feardotcom\",\"The Golden Bowl\",\"An Officer and a Gentleman\",\"Inbred\",\"Schlock\",\"Major League\",\"Liar Liar\",\"Attack the Block\",\"Dick Tracy\",\"Fear of a Black Hat\",\"Life or Something Like It\",\"Joe's Apartment\",\"Man-Thing\",\"Shoot 'Em Up\",\"Ernest Goes to Camp\",\"Slumdog Millionaire\",\"The Invasion\",\"The Serpent and the Rainbow\",\"Tomorrowland\",\"The Kids Are All Right\",\"6 Souls\",\"Pet Sematary II\",\"The Siege\",\"Peaceful Warrior\",\"The Distinguished Gentleman\",\"Antz\",\"Mamma Mia!\",\"Megiddo: The Omega Code 2\",\"Town & Country\",\"Halloween III: Season of the Witch\",\"Rogue River\",\"Dirty Dancing: Havana Nights\",\"Vantage Point\",\"Radio\",\"Cannonball Run II\",\"Pete's Dragon\",\"Max Payne\",\"Carnage\",\"Mystic Pizza\",\"I Am Number Four\",\"The Musketeer\",\"Earth\",\"Penelope\",\"Then She Found Me\",\"Imagine Me & You\",\"Crocodile Dundee\",\"How to Deal\",\"The Fan\",\"Death Sentence\",\"Double Impact\",\"In Bruges\",\"You Will Meet a Tall Dark Stranger\",\"F.I.S.T.\",\"The Wiz\",\"Nightwatching\",\"The In-Laws\",\"Final Destination 5\",\"Don't Be a Menace to South Central While Drinking Your Juice in the Hood\",\"Sydney White\",\"Big Bully\",\"Jinxed!\",\"The Thin Red Line\",\"Anastasia\",\"Lucas\",\"Hollywoodland\",\"Silent Rage\",\"Southpaw\",\"Everything Must Go\",\"The One\",\"Apocalypto\",\"Animal House\",\"Autumn in New York\",\"Kevin & Perry Go Large\",\"Alexandra's Project\",\"Bandits\",\"Little Secrets\",\"Eraserhead\",\"Identity Thief\",\"The Return\",\"Million Dollar Baby\",\"The Mummy\",\"Fired Up!\",\"Wanted\",\"Heat\",\"The Gore Gore Girls\",\"Autopsy\",\"Evan Almighty\",\"Narc\",\"Welcome to the Dollhouse\",\"Firewall\",\"Clay Pigeons\",\"Mortal Thoughts\",\"Star Wars: The Force Awakens\",\"The Amityville Horror\",\"Abraham Lincoln: Vampire Hunter\",\"Sleepover\",\"The Gift\",\"Johnny Handsome\",\"The Incredible Burt Wonderstone\",\"Ernest Rides Again\",\"Two Brothers\",\"The Brown Bunny\",\"Green Card\",\"Bandidas\",\"Amusement\",\"Victor Frankenstein\",\"The Pebble and the Penguin\",\"Interstellar\",\"Four Brothers\",\"The Son of No One\",\"Kafka\",\"The Truth About Charlie\",\"The Day of the Siege: September Eleven 1683\",\"Indiana Jones and the Temple of Doom\",\"Marie Antoinette\",\"Hope Floats\",\"Sheena\",\"The Manitou\",\"Nurse Betty\",\"Jude\",\"Dead Presidents\",\"One True Thing\",\"The Perfect Storm\",\"The Express\",\"Strange Days\",\"The Company\",\"Three O'Clock High\",\"Yes Man\",\"Super\",\"The First $20 Million Is Always the Hardest\",\"Pan's Labyrinth\",\"Firefox\",\"Tromeo and Juliet\",\"L\\u00e9on: The Professional\",\"The Haunting of Molly Hartley\",\"Curdled\",\"The Shawshank Redemption\",\"Thomas and the Magic Railroad\",\"Pulp Fiction\",\"The Brothers Solomon\",\"Modigliani\",\"Flywheel\",\"The Verdict\",\"Yentl\",\"The First Power\",\"Jimmy Neutron: Boy Genius\",\"Groundhog Day\",\"Unaccompanied Minors\",\"G-Force\",\"Primer\",\"The Babysitter\",\"Clue\",\"Hannah and Her Sisters\",\"The Borrowers\",\"Partners\",\"In the Name of the Father\",\"Nickelodeon\",\"Poltergeist III\",\"The Marriage of Maria Braun\",\"The Girl with the Dragon Tattoo\",\"Price of Glory\",\"Gray's Anatomy\",\"Post Grad\",\"Godzilla\",\"Happy Gilmore\",\"Sweet Home Alabama\",\"Hercules\",\"Teaching Mrs. Tingle\",\"I Got the Hook Up\",\"Mother's Day\",\"Sleeping with the Enemy\",\"Gun Shy\",\"Dinosaur\",\"Smokey and the Bandit\",\"To Die For\",\"Notes on a Scandal\",\"Deuce Bigalow: Male Gigolo\",\"The Legend of Drunken Master\",\"The Second Best Exotic Marigold Hotel\",\"Two Girls and a Guy\",\"Unknown\",\"Soul Surfer\",\"Must Love Dogs\",\"Safe\",\"Bucky Larson: Born to Be a Star\",\"Nil by Mouth\",\"Moon 44\",\"Mad Max Beyond Thunderdome\",\"Stone\",\"Private Valentine: Blonde & Dangerous\",\"Shooter\",\"Dragon: The Bruce Lee Story\",\"Permanent Record\",\"Be Kind Rewind\",\"Whisper\",\"Cats Don't Dance\",\"The Inbetweeners Movie\",\"Chopping Mall\",\"The Seeker: The Dark Is Rising\",\"Neighbors\",\"Blazing Saddles\",\"Oscar and Lucinda\",\"The Siege of Firebase Gloria\",\"Bug\",\"London to Brighton\",\"Street Fighter\",\"Las aventuras de Tadeo Jones\",\"Dirty Girl\",\"Waterworld\",\"Wolfen\",\"Graveyard Shift\",\"The Lazarus Project\",\"It's Pat: The Movie\",\"Courage Under Fire\",\"Bad News Bears\",\"Ondine\",\"Infamous\",\"Wilde\",\"Big Miracle\",\"The Out-of-Towners\",\"The Cheap Detective\",\"A Sound of Thunder\",\"Spacehunter: Adventures in the Forbidden Zone\",\"The Horse Whisperer\",\"Daylight\",\"Shadows and Fog\",\"Saints and Soldiers\",\"Syriana\",\"Luther\",\"Mulan\",\"The Name of the Rose\",\"The Brady Bunch Movie\",\"When Harry Met Sally...\",\"Cross of Iron\",\"The Falcon and the Snowman\",\"Fortress 2\",\"All the King's Men\",\"Married to the Mob\",\"Scoop\",\"Loser\",\"Piranha\",\"Crimes of the Future\",\"Risky Business\",\"Die Hard with a Vengeance\",\"One Week\",\"Nell\",\"Music of the Heart\",\"Below\",\"Fried Green Tomatoes\",\"Nine Lives\",\"No Country for Old Men\",\"Boat Trip\",\"LOL\",\"The Animal\",\"The Untouchables\",\"Spirited Away\",\"Fear X\",\"Close Your Eyes\",\"Bunraku\",\"The Toolbox Murders\",\"Hotel Transylvania\",\"American Pie 2\",\"Stardust\",\"I Hate Valentine's Day\",\"Black Rain\",\"Monsoon Wedding\",\"Rust and Bone\",\"Apt Pupil\",\"The Mask of Zorro\",\"Crimes and Misdemeanors\",\"Summer in February\",\"Newsies\",\"Society\",\"Intruders\",\"Mickey Blue Eyes\",\"Rain Man\",\"Executive Decision\",\"He's Just Not That Into You\",\"I Spit on Your Grave\",\"Disgrace\",\"Kidulthood\",\"In a Year with 13 Moons\",\"Switching Channels\",\"Virus\",\"Heathers\",\"Blood Work\",\"Uncommon Valor\",\"Conspiracy Theory\",\"The Horror Show\",\"Date Night\",\"Shanghai Noon\",\"At Close Range\",\"Behind Enemy Lines\",\"Friday\",\"Crime Spree\",\"The Boys from Brazil\",\"Michael Collins\",\"The Imaginarium of Doctor Parnassus\",\"Doubt\",\"WarGames\",\"The Road\",\"The Burning Plain\",\"The Program\",\"The Comebacks\",\"The Tamarind Seed\",\"The Last Station\",\"The Fox and the Hound\",\"Robin Hood: Men in Tights\",\"Hitman\",\"Soul Survivors\",\"The Couch Trip\",\"After Sex\",\"Body Snatchers\",\"Gold\",\"The Lord of the Rings: The Return of the King\",\"Return of the Living Dead II\",\"Boy Culture\",\"Scary Movie 3\",\"Signs\",\"This Must Be the Place\",\"The Cooler\",\"Outlaw\",\"Man of the House\",\"Miss Congeniality\",\"Kill Me Again\",\"The Woman in Black\",\"Full Frontal\",\"Final Analysis\",\"Just Add Water\",\"The Fourth Protocol\",\"Only the Strong\",\"GoldenEye\",\"What Just Happened\",\"Legend of the Guardians: The Owls of Ga'Hoole\",\"Little Ashes\",\"Savior\",\"Vacancy\",\"He Got Game\",\"Proof of Life\",\"Hidden in the Woods\",\"Frost/Nixon\",\"My Life Without Me\",\"Nothing But the Truth\",\"The Decoy Bride\",\"Red Sonja\",\"The Lords of Salem\",\"Sleepers\",\"Mister Lonely\",\"Saved!\",\"The Hills Have Eyes Part II\",\"Surfer, Dude\",\"Bean\",\"The Killer Inside Me\",\"Babel\",\"Judge Dredd\",\"Birth\",\"Pride & Prejudice\",\"Total Recall\",\"Nick and Norah's Infinite Playlist\",\"Envy\",\"September Dawn\",\"Born on the Fourth of July\",\"The Secret Life of Words\",\"Beaches\",\"Bubba Ho-Tep\",\"The Score\",\"Kalifornia\",\"Pathology\",\"Open Season\",\"Sister Act\",\"Rocky\",\"Movie 43\",\"Ocean's Thirteen\",\"The Covenant\",\"Jabberwocky\",\"A Serious Man\",\"Say It Isn't So\",\"Frequency\",\"Hero\",\"Small Soldiers\",\"Safe\",\"Posse\",\"Double Take\",\"The Island of Dr. Moreau\",\"Hatchet\",\"Physical Evidence\",\"The Rite\",\"Moneyball\",\"Supergirl\",\"Fire in the Sky\",\"Vamps\",\"Shanghai\",\"The Manhattan Project\",\"Animal Factory\",\"Pi\",\"A Man Apart\",\"Carrie\",\"Holes\",\"May\",\"Twilight Zone: The Movie\",\"Nobel Son\",\"Dredd\",\"The Princess Bride\",\"Run\",\"Any Which Way You Can\",\"Club Dread\",\"Max\",\"The Nightmare Before Christmas\",\"Obsession\",\"Head Over Heels\",\"Chopper\",\"Passchendaele\",\"Black Christmas\",\"Playing God\",\"Jesus Christ Vampire Hunter\",\"The Legacy\",\"The Draughtsman's Contract\",\"Revolution\",\"Anger Management\",\"The Martian\",\".com for Murder\",\"Striptease\",\"Guarding Tess\",\"The Oogieloves in the Big Balloon Adventure\",\"Punchline\",\"The Opposite Sex and How to Live with Them\",\"Army of Darkness\",\"Entrapment\",\"The Green Hornet\",\"Desperate Measures\",\"Can't Hardly Wait\",\"Fresh\",\"Twilight\",\"The Favor\",\"La Cage aux Folles\",\"The Forsaken\",\"Lockout\",\"Stanley & Iris\",\"The Postman\",\"The Heat\",\"Schindler's List\",\"Wind\",\"Simple Men\",\"Robin and Marian\",\"Hellbound: Hellraiser II\",\"Cold Mountain\",\"200 Cigarettes\",\"Amy's Orgasm\",\"The Company of Wolves\",\"The Way, Way Back\",\"Madagascar: Escape 2 Africa\",\"Fire Down Below\",\"Brideshead Revisited\",\"Perdita Durango\",\"RoboCop 2\",\"The Grand Budapest Hotel\",\"The Matrix Revolutions\",\"Sicario\",\"Blue Sunshine\",\"Glorious 39\",\"Money for Nothing\",\"True Identity\",\"Vacation\",\"Voyage of the Damned\",\"Reign Over Me\",\"Man cheng jin dai huang jin jia\",\"Seven Psychopaths\",\"Jonah: A VeggieTales Movie\",\"The Resurrected\",\"The New World\",\"Mirror Mirror\",\"Tarzan\",\"The Naked Gun: From the Files of Police Squad!\",\"Rudderless\",\"Strange Wilderness\",\"Sky Bandits\",\"Steel Dawn\",\"The Ghost and the Darkness\",\"Soul Plane\",\"The Yards\",\"Eastern Promises\",\"Serpico\",\"Kicking & Screaming\",\"Nothing to Lose\",\"Letters to God\",\"A Mighty Heart\",\"Masters of the Universe\",\"Reno 911!: Miami\",\"Waiting for Guffman\",\"Snow Day\",\"Psycho II\",\"Ice Age: Dawn of the Dinosaurs\",\"Duma\",\"Red Lights\",\"Larry the Cable Guy: Health Inspector\",\"Let It Ride\",\"Insidious: Chapter 3\",\"Lords of Dogtown\",\"In the Heart of the Sea\",\"Knightriders\",\"Fantasia 2000\",\"The Pact\",\"A Simple Wish\",\"The Flight Before Christmas\",\"Atonement\",\"Mean Creek\",\"House of 1000 Corpses\",\"Strictly Ballroom\",\"Brazil\",\"The Philadelphia Experiment\",\"Gone in 60 Seconds\",\"Sunshine Cleaning\",\"Patriot Games\",\"Harry Brown\",\"Ghost Rider: Spirit of Vengeance\",\"The Craft\",\"Awake\",\"Bringing Out the Dead\",\"My Summer of Love\",\"American Ninja\",\"Hide and Seek\",\"The Take\",\"White Mischief\",\"Hick\",\"Free Money\",\"Doug's 1st Movie\",\"ATM\",\"The Artist\",\"Mad Dog Time\",\"Mr. Holmes\",\"Mars Needs Moms\",\"Disaster Movie\",\"Alice's Adventures in Wonderland\",\"Uncle Buck\",\"Up\",\"Georgia Rule\",\"Death Wish V: The Face of Death\",\"Winnie the Pooh\",\"The Rocky Horror Picture Show\",\"The Messenger: The Story of Joan of Arc\",\"Kit Kittredge: An American Girl\",\"Planet of the Apes\",\"Identity\",\"Diary of a Mad Black Woman\",\"Alpha and Omega\",\"Fame\",\"The Hurricane\",\"Coffy\",\"Ratcatcher\",\"Bandslam\",\"A Dangerous Method\",\"Mulholland Falls\",\"Maximum Conviction\",\"Crossover\",\"The Narrows\",\"Night and the City\",\"Club Paradise\",\"The Sentinel\",\"Ever After: A Cinderella Story\",\"Silent Night, Deadly Night\",\"Basic\",\"The Deep End of the Ocean\",\"The Legend of Zorro\",\"The Faculty\",\"Resident Evil: Extinction\",\"The Blood of Heroes\",\"Waterland\",\"Bull Durham\",\"Wild Cherry\",\"Class of 1999\",\"The Onion Field\",\"Blood In, Blood Out\",\"Party Girl\",\"The First Time\",\"Playing for Keeps\",\"Ch\\u00e9ri\",\"Hideous Kinky\",\"The Purge\",\"Quick Change\",\"The Wedding Banquet\",\"Now You See Me\",\"End of Days\",\"Grave Encounters 2\",\"Kung Fu Hustle\",\"Human Traffic\",\"Anything Else\",\"The Life of David Gale\",\"Tremors\",\"Duplex\",\"Brain Damage\",\"Red State\",\"Hard Eight\",\"Beowulf\",\"One Night with the King\",\"Guardians of the Galaxy\",\"Along Came a Spider\",\"Hollywood Homicide\",\"Monster-in-Law\",\"Selena\",\"Swamp Thing\",\"Because of Winn-Dixie\",\"From Dusk Till Dawn\",\"Land of the Dead\",\"Once Bitten\",\"Casino Royale\",\"Bait\",\"Tarzan and the Lost City\",\"The Long Kiss Goodnight\",\"Charlie Bartlett\",\"The General's Daughter\",\"The Boy in the Striped Pajamas\",\"Out of Time\",\"The Hotel New Hampshire\",\"The Tree of Life\",\"I Capture the Castle\",\"Jersey Girl\",\"Querelle\",\"Lucky Numbers\",\"The Last Exorcism\",\"Man of Steel\",\"The Howling\",\"Highlander\",\"The Wood\",\"Brother\",\"Next Friday\",\"Sgt. Pepper's Lonely Hearts Club Band\",\"S. Darko\",\"Tomorrow, When the War Began\",\"One Day\",\"Annapolis\",\"This Is Elvis\",\"There Will Be Blood\",\"The Muppet Christmas Carol\",\"Flesh Gordon\",\"Made in Dagenham\",\"Pacific Rim\",\"The American\",\"Six Degrees of Separation\",\"Disconnect\",\"Albert Nobbs\",\"How the Grinch Stole Christmas\",\"Evidence\",\"Madea's Witness Protection\",\"The Big Wedding\",\"Maid to Order\",\"Deal of the Century\",\"Bulletproof\",\"The Final Option\",\"The Hole\",\"Jeepers Creepers\",\"The Package\",\"The Little Mermaid\",\"Jackie Brown\",\"Body Double\",\"Back to School\",\"Casino Jack\",\"Mr. Popper's Penguins\",\"9\",\"Hoot\",\"Pride and Glory\",\"The Count of Monte Cristo\",\"Bewitched\",\"The Stepford Wives\",\"The Adventures of Pinocchio\",\"The Good Doctor\",\"Clash of the Titans\",\"Spawn\",\"Percy Jackson & the Olympians: The Lightning Thief\",\"13 Going on 30\",\"Top Gun\",\"The Hangover Part III\",\"Agent Cody Banks 2: Destination London\",\"The Mean Season\",\"Beastly\",\"Blind Horizon\",\"Popeye\",\"Project X\",\"Battle Beyond the Stars\",\"Monster\",\"St. Ives\",\"I Now Pronounce You Chuck & Larry\",\"House of Wax\",\"The Preacher's Wife\",\"Man of the Year\",\"College\",\"A Kid in King Arthur's Court\",\"The Legend of Hell's Gate: An American Conspiracy\",\"Jason Lives: Friday the 13th Part VI\",\"Crank: High Voltage\",\"1776\",\"Gandhi\",\"The Ides of March\",\"Anna Karenina\",\"The Bling Ring\",\"The Octagon\",\"Mad Money\",\"The Jacket\",\"Havana\",\"Return to Me\",\"Three of Hearts\",\"Congo\",\"The Possession\",\"Boyz n the Hood\",\"You Got Served\",\"Serena\",\"Desert Heat\",\"Braindead\",\"The Pit and the Pendulum\",\"StreetDance 3D\",\"Hallam Foe\",\"Medicine Man\",\"Lovelace\",\"Welcome to Mooseport\",\"Ladyhawke\",\"Enemy at the Gates\",\"Freedomland\",\"The Colony\",\"Rocky II\",\"Freddy Got Fingered\",\"Tiny Furniture\",\"First Daughter\",\"Showdown in Little Tokyo\",\"The Truman Show\",\"Fathers' Day\",\"Shutter Island\",\"Shakespeare in Love\",\"The Raid: Redemption\",\"Jennifer's Body\",\"Girlfight\",\"The Bodyguard\",\"August Rush\",\"Red Tails\",\"Pee-wee's Big Adventure\",\"Six Days Seven Nights\",\"Broken Flowers\",\"Femme Fatale\",\"School of Rock\",\"Everyone Says I Love You\",\"Legally Blonde 2: Red, White & Blonde\",\"Desperate Hours\",\"Come Early Morning\",\"The Poseidon Adventure\",\"Above the Law\",\"A Cry in the Dark\",\"Mr. Magoo\",\"Untamed Heart\",\"Trading Places\",\"Manhattan\",\"Getting Even with Dad\",\"Hush\",\"Addams Family Values\",\"Bulletproof Monk\",\"Ninja Assassin\",\"Snatch\",\"Her Best Move\",\"Serving Sara\",\"A Resurrection\",\"JFK\",\"Death Race\",\"Best of the Best II\",\"Madonna: Truth or Dare\",\"Return of the Living Dead III\",\"Dirty Work\",\"Mallrats\",\"The Forbidden Kingdom\",\"Indiana Jones and the Last Crusade\",\"The Greatest Game Ever Played\",\"The Lawnmower Man\",\"A Nightmare on Elm Street 3: Dream Warriors\",\"Nightbreed\",\"Brubaker\",\"Red Cliff\",\"Scavenger Hunt\",\"A Christmas Story\",\"True Grit\",\"Mercury Rising\",\"Mr. Brooks\",\"The Beautician and the Beast\",\"Johnny Suede\",\"The Net\",\"Do the Right Thing\",\"Star Wars: Episode IV - A New Hope\",\"\\u00a1Three Amigos!\",\"Jack Brooks: Monster Slayer\",\"All About Steve\",\"U Turn\",\"Veronica Mars\",\"Ender's Game\",\"Hannah Montana: The Movie\",\"The Benchwarmers\",\"Perfect\",\"Fox and His Friends\",\"Shuttle\",\"W.\",\"The Confession\",\"Saving Silverman\",\"Get Hard\",\"Kiss of Death\",\"Brokeback Mountain\",\"The Adventures of Elmo in Grouchland\",\"House of 9\",\"The Five-Year Engagement\",\"All the Boys Love Mandy Lane\",\"Charlie and the Chocolate Factory\",\"Mother Night\",\"Wet Hot American Summer\",\"17 Again\",\"The Haunting of Julia\",\"Devil's Knot\",\"Star Wars: Episode III - Revenge of the Sith\",\"Arachnophobia\",\"Highlander II: The Quickening\",\"Ying xiong\",\"Code Name: The Cleaner\",\"The Concorde... Airport '79\",\"Brokedown Palace\",\"Mother and Child\",\"The World's Fastest Indian\",\"Spaceballs\",\"Bridge to Terabithia\",\"Cujo\",\"The Yellow Handkerchief\",\"Kill List\",\"The Hot Spot\",\"Postcards from the Edge\",\"Unthinkable\",\"Kiss the Girls\",\"New York, New York\",\"The Lookout\",\"'Til There Was You\",\"Creature\",\"Young Guns II\",\"Memorial Day\",\"The Interpreter\",\"The Color Purple\",\"Flesh+Blood\",\"Where the Day Takes You\",\"High Spirits\",\"Surf's Up\",\"Oblivion\",\"Best in Show\",\"On Deadly Ground\",\"Untraceable\",\"Captain America: The First Avenger\",\"Snow White: A Tale of Terror\",\"Rogue Trader\",\"Simpatico\",\"Stepmom\",\"The Sentinel\",\"Maniac\",\"Fanboys\",\"Lady Jane\",\"Damnation Alley\",\"Beer League\",\"Affliction\",\"As Good as It Gets\",\"Bad Boys\",\"That's My Boy\",\"High Crimes\",\"Best Laid Plans\",\"After Earth\",\"Trust the Man\",\"Veronica Guerin\",\"The Wedding Planner\",\"(500) Days of Summer\",\"Money Talks\",\"Troll\",\"Death Wish\",\"Aguirre, the Wrath of God\",\"Logan's Run\",\"Good Will Hunting\",\"Nine\",\"Wimbledon\",\"Mission to Mars\",\"The Scarlet Letter\",\"House at the End of the Street\",\"Super Mario Bros.\",\"Hackers\",\"September\",\"Gunmen\",\"Taken 2\",\"Jason's Lyric\",\"Critters\",\"She's Gotta Have It\",\"Scanners\",\"The Hunt for Red October\",\"Bird on a Wire\",\"Gallipoli\",\"Factotum\",\"Ferris Bueller's Day Off\",\"Extreme Prejudice\",\"A Haunted House 2\",\"Mannequin\",\"Black Swan\",\"Amen.\",\"Sorority Boys\",\"Plenty\",\"The Ten\",\"Antwone Fisher\",\"Rush Hour 3\",\"Collateral Damage\",\"Thief of Hearts\",\"Ransom\",\"W.E.\",\"X2\",\"The Pirates Who Don't Do Anything: A VeggieTales Movie\",\"Death of a Superhero\",\"The Gods Must Be Crazy\",\"Nuts\",\"La Bamba\",\"The Gospel\",\"The Longest Yard\",\"Matchstick Men\",\"The Quiet Earth\",\"Waiting to Exhale\",\"54\",\"Deuces Wild\",\"Impostor\",\"High School Musical 3: Senior Year\",\"Game of Death\",\"The Ice Harvest\",\"Kiss Kiss Bang Bang\",\"My Bloody Valentine\",\"Dickie Roberts: Former Child Star\",\"Loosies\",\"Red Eye\",\"Body of Lies\",\"An Ideal Husband\",\"That's What I Am\",\"Smilla's Sense of Snow\",\"Blue Streak\",\"The Education of Charlie Banks\",\"Silent Hill: Revelation\",\"The Man from Snowy River\",\"The Quiet American\",\"Max Keeble's Big Move\",\"Problem Child 2\",\"The Crying Game\",\"Circle of Iron\",\"Reindeer Games\",\"Agent Cody Banks\",\"The Nude Bomb\",\"Explorers\",\"Left Behind\",\"Blade Runner\",\"Drumline\",\"Rawhead Rex\",\"Valley Girl\",\"Beauty and the Beast\",\"Percy Jackson: Sea of Monsters\",\"The Last Temptation of Christ\",\"Transit\",\"The House Bunny\",\"Invasion U.S.A.\",\"The Woman in Black 2: Angel of Death\",\"Lonely Hearts\",\"Man of La Mancha\",\"Harry Potter and the Goblet of Fire\",\"The Vow\",\"The Night Before\",\"Love & Other Drugs\",\"Cloud Atlas\",\"Donnie Brasco\",\"A Knight's Tale\",\"Self/less\",\"Speed Zone\",\"The Descent\",\"Quarantine\",\"Careful What You Wish For\",\"Beasts of the Southern Wild\",\"New Nightmare\",\"The Day the Earth Stood Still\",\"Sweeney Todd: The Demon Barber of Fleet Street\",\"Paper Moon\",\"Silent Night\",\"Our Idiot Brother\",\"Fight Club\",\"The Razor's Edge\",\"Jennifer 8\",\"Die Hard 2\",\"Farewell, My Lovely\",\"The Three Burials of Melquiades Estrada\",\"Riders\",\"Parental Guidance\",\"The Nutcracker\",\"Old Boy\",\"Requiem for a Dream\",\"Terms of Endearment\",\"The Last Seduction\",\"No Good Deed\",\"Bubble Boy\",\"Connie and Carla\",\"The Wizard\",\"The Rock\",\"The Romantic Englishwoman\",\"Halloween H20: 20 Years Later\",\"Intermission\",\"Felon\",\"The Delta Force\",\"5ive Girls\",\"Shakes the Clown\",\"American Outlaws\",\"The Hills Have Eyes\",\"Repo Men\",\"Mafia!\",\"Light It Up\",\"The Return of the Living Dead\",\"Fifty Shades of Grey\",\"Teacher's Pet\",\"Three Kings\",\"High Anxiety\",\"Edge of Seventeen\",\"Don't Say a Word\",\"What Lies Beneath\",\"Texas Rangers\",\"Willow\",\"Drop Zone\",\"Tracker\",\"Octopussy\",\"What to Expect When You're Expecting\",\"Honky Tonk Freeway\",\"Creature\",\"The Book of Eli\",\"Sherlock Holmes: A Game of Shadows\",\"The Baytown Outlaws\",\"The Internship\",\"Payback\",\"Monkey Shines\",\"To Be or Not to Be\",\"District 9\",\"Manny & Lo\",\"Hotel for Dogs\",\"Lost in Space\",\"Barnyard\",\"The Birdcage\",\"Mission: Impossible - Rogue Nation\",\"The Dukes of Hazzard\",\"The Truth About Emanuel\",\"Sense and Sensibility\",\"Rocket Science\",\"Great Expectations\",\"My Fellow Americans\",\"The World Is Not Enough\",\"Wise Guys\",\"Dazed and Confused\",\"Winter's Tale\",\"Ed and His Dead Mother\",\"Traitor\",\"Mutant Chronicles\",\"Dragonslayer\",\"Exorcist II: The Heretic\",\"Crimes of the Heart\",\"The Good Son\",\"The Age of Adaline\",\"Die Another Day\",\"Young Adam\",\"Hubert Selby Jr: It/ll Be Better Tomorrow\",\"History of the World: Part I\",\"Fall\",\"Robin Hood\",\"Jeff, Who Lives at Home\",\"Citizen Ruth\",\"Broken Arrow\",\"A Nightmare on Elm Street 2: Freddy's Revenge\",\"Boogie Nights\",\"Visiting Hours\",\"Survival of the Dead\",\"The Weather Man\",\"Conan the Barbarian\",\"Nashville\",\"Pain & Gain\",\"Screamers\",\"The Departed\",\"The Last Days on Mars\",\"Step Up Revolution\",\"Morning Glory\",\"The Sisterhood of the Traveling Pants\",\"Blue Valentine\",\"The Statement\",\"The Aviator\",\"The Last Tycoon\",\"Silent House\",\"BloodRayne\",\"Ms .45\",\"Turbulence\",\"Doom\",\"Gremlins\",\"Angel Heart\",\"About Cherry\",\"Isn't She Great\",\"Enemy Mine\",\"The Incredible Hulk\",\"Cloudy with a Chance of Meatballs\",\"Gigli\",\"License to Drive\",\"Hercules\",\"Red Corner\",\"Police Academy\",\"Chasing Amy\",\"The Terminal\",\"The Other Boleyn Girl\",\"Eight Below\",\"Scream 4\",\"If Lucy Fell\",\"Drive\",\"Fun Size\",\"Guinevere\",\"Once Upon a Forest\",\"Land of the Lost\",\"Premium Rush\",\"Falling Down\",\"The Comedian at The Friday\",\"Halloween: Resurrection\",\"You've Got Mail\",\"The Grand\",\"The Hurt Locker\",\"The Corruptor\",\"The Adjustment Bureau\",\"Naked Lunch\",\"Pretty Persuasion\",\"Red Planet\",\"Murphy's Romance\",\"Changing Lanes\",\"Calendar Girls\",\"The Divide\",\"Telefon\",\"The Specialist\",\"Dead Silence\",\"Billy Elliot\",\"Promised Land\",\"The Peanuts Movie\",\"Centurion\",\"Anywhere But Here\",\"The Scorpion King\",\"Welcome to the Punch\",\"Junebug\",\"The Alamo\",\"School for Scoundrels\",\"Marathon Man\",\"Rambo III\",\"Amityville II: The Possession\",\"The Mother\",\"Pandorum\",\"A.I. Artificial Intelligence\",\"Stargate\",\"The Dead Pool\",\"Ordinary People\",\"Dead Calm\",\"Eve of Destruction\",\"Lionheart\",\"Hot Pursuit\",\"Eragon\",\"Kill Bill: Vol. 2\",\"Paranormal Activity 3\",\"The Burning\",\"The Witches of Eastwick\",\"The Wicker Man\",\"Saw II\",\"Ted 2\",\"Up Close & Personal\",\"Of Time and the City\",\"The Abyss\",\"Prometheus\",\"About Time\",\"Instinct\",\"Backdraft\",\"Jumping the Broom\",\"100 Feet\",\"Captain America\",\"L.A. Confidential\",\"Little Women\",\"Firestarter\",\"Counterpunch\",\"Marvin's Room\",\"Summer of Sam\",\"Wicker Park\",\"Radioland Murders\",\"Sabotage\",\"Robots\",\"District B13\",\"Curse of the Pink Panther\",\"One Good Cop\",\"Thick as Thieves\",\"Mean Streets\",\"The Great Gatsby\",\"Meet the Robinsons\",\"Alfie\",\"Twister\",\"Scent of a Woman\",\"88 Minutes\",\"Get Shorty\",\"Catch That Kid\",\"Sister Act 2: Back in the Habit\",\"4.3.2.1.\",\"The Sugarland Express\",\"Paranormal Activity 2\",\"The Clan of the Cave Bear\",\"The Double\",\"Things to Do in Denver When You're Dead\",\"Space Jam\",\"Frankie and Johnny\",\"Sunshine State\",\"Scouts Guide to the Zombie Apocalypse\",\"Womb\",\"Angela's Ashes\",\"Stuck on You\",\"Sidewalks of New York\",\"The Ruins\",\"Solitary Man\",\"Nine to Five\",\"Unfaithfully Yours\",\"The Texas Chain Saw Massacre\",\"The Call\",\"Step Up 3D\",\"The Tourist\",\"Dragonball: Evolution\",\"Last Holiday\",\"Exotica\",\"The Great Mouse Detective\",\"Snitch\",\"Out of Africa\",\"Nancy Drew\",\"A Most Violent Year\",\"Caged Heat\",\"Prospero's Books\",\"1492: Conquest of Paradise\",\"Marley & Me\",\"The Eye\",\"Platoon\",\"Stalker\",\"Junior\",\"Capote\",\"Scum\",\"The Best Exotic Marigold Hotel\",\"Ticks\",\"Guilty as Sin\",\"Pale Rider\",\"Racing Stripes\",\"The Black Balloon\",\"Fear and Loathing in Las Vegas\",\"I Love Your Work\",\"Samoan Wedding\",\"In Too Deep\",\"Reign of Fire\",\"The Strangers\",\"Mr. Nobody\",\"Witchboard\",\"Kangaroo Jack\",\"Runaway Train\",\"Klansman\",\"ParaNorman\",\"The Business\",\"Desert Hearts\",\"The End\",\"Cadillac Records\",\"Beyond Borders\",\"The Other End of the Line\",\"Hoodwinked!\",\"Two Evil Eyes\",\"Ghost in the Machine\",\"Maximum Risk\",\"Route 666\",\"Alvin and the Chipmunks: Chipwrecked\",\"Dillinger\",\"Exit Speed\",\"Orgazmo\",\"Ravenous\",\"Everest\",\"Alice\",\"Dawn of the Dead\",\"Diana\",\"An Education\",\"We Bought a Zoo\",\"The Sixth Sense\",\"Shallow Hal\",\"The End of the Affair\",\"What a Girl Wants\",\"The Mothman Prophecies\",\"White Noise\",\"Being John Malkovich\",\"Shark Night 3D\",\"Days of Heaven\",\"Whip It\",\"We Need to Talk About Kevin\",\"Chappie\",\"The Runaways\",\"40 Days and 40 Nights\",\"The Lorax\",\"Baby Mama\",\"Cinderella Man\",\"The Groomsmen\",\"Diary of a Wimpy Kid: Rodrick Rules\",\"The Prophecy\",\"Catch .44\",\"Big Momma's House 2\",\"Spectre\",\"Hit and Run\",\"Lion of the Desert\",\"The Awakening\",\"The Hangover\",\"Nighthawks\",\"Girl in Progress\",\"A Shock to the System\",\"Bee Movie\",\"Mission: Impossible\",\"Nine Dead\",\"Rock of Ages\",\"9\\u00bd Weeks\",\"The House of the Spirits\",\"Pearl Harbor\",\"Mibu gishi den\",\"Armour of God 2: Operation Condor\",\"My Life in Ruins\",\"Love in the Time of Cholera\",\"The Men Who Stare at Goats\",\"Herbie Fully Loaded\",\"Mom and Dad Save the World\",\"Brick\",\"Murphy's Law\",\"Jack Reacher\",\"The Insider\",\"The Joy Luck Club\",\"Hamlet\",\"Dungeons & Dragons\",\"House of Flying Daggers\",\"The Sea Wolves\",\"Silver Bullet\",\"The Marrying Man\",\"The Black Hole\",\"The Promotion\",\"The Majestic\",\"Swordfish\",\"I Heart Huckabees\",\"Paranormal Activity 4\",\"Red Dawn\",\"The Saint\",\"The Rum Diary\",\"Rage\",\"The Evil That Men Do\",\"Star Kid\",\"America's Sweethearts\",\"The Kite Runner\",\"Fur: An Imaginary Portrait of Diane Arbus\",\"Real Women Have Curves\",\"Stuck\",\"Blade II\",\"Beyond a Reasonable Doubt\",\"Prince of the City\",\"Undead\",\"Just Married\",\"The Muse\",\"Savages\",\"American Ninja 2: The Confrontation\",\"A Fish Called Wanda\",\"Johnny Be Good\",\"Purple Rain\",\"Playing by Heart\",\"Mortal Kombat\",\"Mr. Deeds\",\"Silver Linings Playbook\",\"The Hand\",\"Toy Story\",\"The Bachelor\",\"People Like Us\",\"Lovely & Amazing\",\"The Doors\",\"Stop-Loss\",\"Mini's First Time\",\"Home\",\"Son of the Pink Panther\",\"Friday the 13th Part VIII: Jason Takes Manhattan\",\"Don Juan DeMarco\",\"High School\",\"Traffic\",\"The Guru\",\"She's So Lovely\",\"Breaking Away\",\"Liberal Arts\",\"Another Woman\",\"Cherry 2000\",\"The Back-up Plan\",\"Looney Tunes: Back in Action\",\"Wicked\",\"Wyatt Earp\",\"Oliver & Company\",\"Two-Minute Warning\",\"The Black Dahlia\",\"Scooby-Doo\",\"Kill the Irishman\",\"Extreme Ops\",\"Bogus\",\"Pinocchio\",\"Blood Simple.\",\"What Planet Are You From?\",\"George of the Jungle\",\"Love & Basketball\",\"The Rose\",\"The Pursuit of Happyness\",\"Mr. Holland's Opus\",\"Midnight Run\",\"Kickboxer\",\"Father of the Bride Part II\",\"Holy Rollers\",\"Home Alone 3\",\"The Lovely Bones\",\"Wayne's World\",\"Fright Night\",\"Romeo Is Bleeding\",\"Day of the Falcon\",\"Mr. Saturday Night\",\"Letters to Juliet\",\"Taxi Driver\",\"Buffy the Vampire Slayer\",\"The Fast and the Furious\",\"Tess\",\"Interview with the Assassin\",\"Surviving the Game\",\"Rumble Fish\",\"Stander\",\"Spy Kids: All the Time in the World in 4D\",\"Wild Side\",\"Universal Soldier: The Return\",\"Macon County Line\",\"Goosebumps\",\"Under the Bed\",\"Harsh Times\",\"Chicken Run\",\"Match Point\",\"YellowBrickRoad\",\"Loaded Weapon 1\",\"A Nightmare on Elm Street\",\"The Jungle Book\",\"Dirty Mary Crazy Larry\",\"The Adventures of Tintin\",\"The Wild Geese\",\"The Big Blue\",\"Good Night, and Good Luck.\",\"Yes\",\"Tough Guys\",\"I, Frankenstein\",\"October Baby\",\"Flushed Away\",\"The Flintstones\",\"Collateral\",\"Unleashed\",\"Mystery, Alaska\",\"Diary of a Wimpy Kid\",\"Hop\",\"The Protector\",\"Gnomeo & Juliet\",\"The Sea of Trees\",\"The Unborn\",\"Speed Racer\",\"How Stella Got Her Groove Back\",\"Encounters\",\"Chain Reaction\",\"The Pacifier\",\"Se7en\",\"Night Crossing\",\"Inside Llewyn Davis\",\"My Name Is Nobody\",\"Sky Captain and the World of Tomorrow\",\"The Players Club\",\"Raising Arizona\",\"Winter's Bone\",\"The Heartbreak Kid\",\"The Terminator\",\"Valentine\",\"Invincible\",\"Jobs\",\"Always\",\"Antiviral\",\"The Fast and the Furious: Tokyo Drift\",\"Get Carter\",\"Men in Black\",\"God Help the Girl\",\"Angel\",\"Jumanji\",\"Cop\",\"Prom\",\"Jefferson in Paris\",\"Three Fugitives\",\"Nine Miles Down\",\"Transformers: Dark of the Moon\",\"Avanti!\",\"The Simpsons Movie\",\"Waitress\",\"Snake Eyes\",\"The Gymnast\",\"Bones\",\"Police Academy 2: Their First Assignment\",\"The Message\",\"Eve's Bayou\",\"3 Ninjas\",\"Nights in Rodanthe\",\"Outlander\",\"The Day of the Dolphin\",\"Until Death\",\"Goya's Ghosts\",\"Slither\",\"Bicentennial Man\",\"They Live\",\"There Be Dragons\",\"Freddy's Dead: The Final Nightmare\",\"The Air I Breathe\",\"Intolerable Cruelty\",\"A Stranger Among Us\",\"Undercover Brother\",\"This Means War\",\"Charlotte Gray\",\"Lucky Number Slevin\",\"Falling in Love\",\"Final Destination\",\"The Sixth Man\",\"The Great Gatsby\",\"Drive Angry\",\"Star Trek III: The Search for Spock\",\"Multiplicity\",\"Kill Bill: Vol. 1\",\"Zombie\",\"Dagon\",\"Pet Sematary\",\"Caddyshack II\",\"Office Space\",\"Code 46\",\"Spun\",\"Larger Than Life\",\"Whispers in the Dark\",\"Survival Island\",\"The Matador\",\"Passion\",\"Bringing Down the House\",\"The Bone Collector\",\"Antitrust\",\"Tideland\",\"Down with Love\",\"Safe House\",\"Money Train\",\"Bats\",\"Knocked Up\",\"Assassins\",\"A Better Life\",\"Taking Lives\",\"The Tale of Despereaux\",\"Fifty Dead Men Walking\",\"Sliding Doors\",\"Paris, Texas\",\"The Body\",\"The Other Side of Heaven\",\"Reservoir Dogs\",\"The Oh in Ohio\",\"Ripley's Game\",\"Sparkle\",\"The Devil Wears Prada\",\"Sabrina\",\"Children of the Corn II: The Final Sacrifice\",\"The Chronicles of Narnia: Prince Caspian\",\"This Is 40\",\"Devil's Pond\",\"Cursed\",\"Rock 'n' Roll High School\",\"Inside Man\",\"Squanto: A Warrior's Tale\",\"Mrs Henderson Presents\",\"Dream Boy\",\"The Factory\",\"Tupac: Resurrection\",\"Men in Black 3\",\"Cloverfield\",\"Ocean's Eleven\",\"Blue Velvet\",\"Ray\",\"Houseguest\",\"Cats & Dogs: The Revenge of Kitty Galore\",\"The Crow: Salvation\",\"Serial Mom\",\"Hollywood Shuffle\",\"Scary Movie\",\"Failure to Launch\",\"Tui shou\",\"The Thompsons\",\"Megaforce\",\"Frailty\",\"Trail of the Pink Panther\",\"The Holy Mountain\",\"Not Another Teen Movie\",\"Red Heat\",\"The Pink Panther\",\"Harry Potter and the Sorcerer's Stone\",\"Cthulhu\",\"The Equalizer\",\"Tequila Sunrise\",\"15 Minutes\",\"Ted Bundy\",\"Tower Heist\",\"Alien Nation\",\"The Talented Mr. Ripley\",\"Veronika Decides to Die\",\"The Black Cauldron\",\"Lord of War\",\"The Veteran\",\"Love Jones\",\"Presumed Innocent\",\"Paradise\",\"The Good Girl\",\"On the Road\",\"Kama Sutra: A Tale of Love\",\"Only God Forgives\",\"Grown Ups 2\",\"Memphis Belle\",\"For Your Eyes Only\",\"The Arrival\",\"Turkey Shoot\",\"16 Blocks\",\"Street Kings\",\"The Haunting in Connecticut 2: Ghosts of Georgia\",\"The Butterfly Effect\",\"High Road to China\",\"Farewell to the King\",\"Single White Female\",\"Date Movie\",\"The Blind Side\",\"Nutty Professor II: The Klumps\",\"Something's Gotta Give\",\"Gerry\",\"The Squid and the Whale\",\"People I Know\",\"Meatballs\",\"Lady in the Water\",\"Paranormal Activity: The Ghost Dimension\",\"Apollo 13\",\"Jo Jo Dancer, Your Life Is Calling\",\"The Nine Lives of Fritz the Cat\",\"Me and You and Everyone We Know\",\"The Running Man\",\"The Loss of Sexual Innocence\",\"25th Hour\",\"The Twilight Saga: Breaking Dawn - Part 2\",\"The Spanish Prisoner\",\"The Accused\",\"The Butterfly Effect 3: Revelations\",\"Night at the Museum\",\"The Legend of Hercules\",\"Timecop\",\"Summer Catch\",\"Kindergarten Cop\",\"Talladega Nights: The Ballad of Ricky Bobby\",\"Les Mis\\u00e9rables\",\"Rabbit Hole\",\"Outland\",\"Lord of Illusions\",\"The Ten Commandments\",\"Alvin and the Chipmunks: The Squeakquel\",\"Power\",\"Tin Cup\",\"Pay It Forward\",\"K-PAX\",\"Trainspotting\",\"Men in Black II\",\"Resident Evil: Retribution\",\"Filly Brown\",\"Twelfth Night or What You Will\",\"Stripes\",\"Double Dragon\",\"Jimmy Hollywood\",\"Curly Sue\",\"City of Joy\",\"Vatel\",\"Seven Pounds\",\"Firestorm\",\"The Marine\",\"Mulholland Dr.\",\"Escape from L.A.\",\"The Cannonball Run\",\"Bordertown\",\"Superstar\",\"Idlewild\",\"The Last Kiss\",\"Bloody Sunday\",\"All or Nothing\",\"Dad\",\"Metro\",\"Uptown Saturday Night\",\"Santa Claus: The Movie\",\"xXx: State of the Union\",\"BMX Bandits\",\"Mission: Impossible - Ghost Protocol\",\"Fled\",\"Secondhand Lions\",\"Lost & Found\",\"Smashed\",\"The Border\",\"Mission: Impossible II\",\"The Rugrats Movie\",\"Spies Like Us\",\"Birdman or (The Unexpected Virtue of Ignorance)\",\"Go\",\"End of Watch\",\"Out Cold\",\"Dark Shadows\",\"Capricorn One\",\"Judgment Night\",\"Black Dynamite\",\"Airborne\",\"Matinee\",\"Unstoppable\",\"Rise of the Planet of the Apes\",\"Buffalo '66\",\"The Meteor Man\",\"Lethal Weapon 2\",\"The In Crowd\",\"Cousins\",\"Heaven's Prisoners\",\"Shakedown\",\"Shipwrecked\",\"The Blair Witch Project\",\"The Greatest\",\"Krampus\",\"American Pie\",\"Next\",\"Dear John\",\"Ruby Cairo\",\"To Live and Die in L.A.\",\"Carpool\",\"The Meaning of Life\",\"The Santa Clause 3: The Escape Clause\",\"Stark Raving Mad\",\"Badlands\",\"Hudson Hawk\",\"Liberty Stands Still\",\"I Spit on Your Grave\",\"Heartbreak Hotel\",\"The Longshots\",\"Images\",\"Loving Annabelle\",\"Starman\",\"Waiting...\",\"Saw VI\",\"Secretariat\",\"Blow Out\",\"The Amazing Spider-Man 2\",\"Life of Brian\",\"Brighton Rock\",\"Jesus' Son\",\"Little Shop of Horrors\",\"The Science of Sleep\",\"A Thousand Words\",\"What's Your Number?\",\"Drugstore Cowboy\",\"Superman Returns\",\"Taxi\",\"Another Earth\",\"Blood Diamond\",\"The Secret of Kells\",\"Spy Hard\",\"Fright Night\",\"Bad Lieutenant\",\"Hope Springs\",\"Letters from Iwo Jima\",\"Warlock: The Armageddon\",\"Lock Up\",\"Rango\",\"The Duchess\",\"A Good Man in Africa\",\"Zoom\",\"John Tucker Must Die\",\"Borat: Cultural Learnings of America for Make Benefit Glorious Nation of Kazakhstan\",\"7 Below\",\"Tape\",\"Highlander: Endgame\",\"Broadway Danny Rose\",\"The Keeper\",\"Things Are Tough All Over\",\"A Walk to Remember\",\"Bolero\",\"Slam\",\"Cannibal Holocaust\",\"Me, Myself & Irene\",\"The Man with the Iron Fists\",\"Following\",\"Turn It Up\",\"Silent Night, Deadly Night 2\",\"The Children of Huang Shi\",\"Dreamchild\",\"Sweet November\",\"The Last Dragon\",\"Hocus Pocus\",\"Formula 51\",\"Brain Dead\",\"Obsessed\",\"Fresh Horses\",\"Labor Day\",\"Pulse\",\"The Original Kings of Comedy\",\"Duplicity\",\"It Came from Hollywood\",\"The Fugitive\",\"Rendition\",\"Dr. Dolittle 2\",\"Assassins Run\",\"Dog Soldiers\",\"Blindness\",\"Rubber\",\"Nanny McPhee\",\"Are We Done Yet?\",\"Alice in Wonderland\",\"Licence to Kill\",\"The Perfect Holiday\",\"Osmosis Jones\",\"The Three Musketeers\",\"Road Trip\",\"Son of the Mask\",\"Kung Fu Panda 2\",\"Off Limits\",\"Sweet and Lowdown\",\"Limbo\",\"The Godfather: Part III\",\"Harriet the Spy\",\"Breakdown\",\"Poseidon\",\"Zathura: A Space Adventure\",\"Carlito's Way\",\"Iron Sky\",\"A Nightmare on Elm Street\",\"Teen Wolf Too\",\"The House of the Devil\",\"Freedom Writers\",\"Ca$h\",\"Columbus Circle\",\"Little Fockers\",\"Until the End of the World\",\"Turbo: A Power Rangers Movie\",\"Stone of Destiny\",\"Crimewave\",\"Eulogy\",\"Bobby Z\",\"BloodRayne: The Third Reich\",\"Country Strong\",\"The Hobbit: The Desolation of Smaug\",\"The Spiderwick Chronicles\",\"Under Siege\",\"A Scanner Darkly\",\"The Wolverine\",\"The Lizzie McGuire Movie\",\"8 Mile\",\"City Hall\",\"Toy Soldiers\",\"Marked for Death\",\"Back to the Future Part III\",\"The Paperboy\",\"Moonraker\",\"Strangers with Candy\",\"The Green Mile\",\"Alligator\",\"The Last Emperor\",\"Captain Kronos - Vampire Hunter\",\"My Name Is Bruce\",\"Bitter Moon\",\"Becoming Jane\",\"\\u00c6on Flux\",\"Article 99\",\"Appaloosa\",\"Undisputed\",\"Staying Alive\",\"Life as a House\",\"Restless\",\"Hearts in Atlantis\",\"Class of Nuke 'Em High\",\"Rampart\",\"Arizona Dream\",\"The Crew\",\"Wing Commander\",\"Bird\",\"Blue\",\"The Wicker Man\",\"The Little Girl Who Lives Down the Lane\",\"Closing the Ring\",\"The Weight of Water\",\"Bride of Re-Animator\",\"The Trial of Billy Jack\",\"City Slickers II: The Legend of Curly's Gold\",\"Despicable Me 2\",\"In the Loop\",\"Serendipity\",\"The Warriors\",\"The Mighty Ducks\",\"A Good Year\",\"Held Up\",\"The Pest\",\"Mystery Men\",\"Warm Bodies\",\"Honeydripper\",\"Rio\",\"Savage Streets\",\"Equals\",\"Home of the Brave\",\"George Washington\",\"Dancer in the Dark\",\"De-Lovely\",\"Flicka\",\"Machine Gun Preacher\",\"Prom Night\",\"A Walk in the Clouds\",\"Speed\",\"Hall Pass\",\"Alice Doesn't Live Here Anymore\",\"Death Wish 4: The Crackdown\",\"Agnes of God\",\"The Remains of the Day\",\"Ed Wood\",\"Shadow Conspiracy\",\"Secret of the Wings\",\"Meet Dave\",\"Havoc\",\"The Hunting Party\",\"Made of Honor\",\"Back to the Future Part II\",\"Horsemen\",\"Pacific Heights\",\"The Best Little Whorehouse in Texas\",\"The Emperor's New Groove\",\"Flightplan\",\"Get the Gringo\",\"The Game of Their Lives\",\"The Croods\",\"My Left Foot\",\"On the Line\",\"Just Visiting\",\"Flash Gordon\",\"The Hunger Games\",\"The Spy Who Loved Me\",\"Because of the Cats\",\"Digimon: The Movie\",\"Beyond Re-Animator\",\"In the Name of the King: A Dungeon Siege Tale\",\"Swelter\",\"The Hole\",\"Moonstruck\",\"Hansel & Gretel: Witch Hunters\",\"Romeo + Juliet\",\"The Final Conflict\",\"Ghost Ship\",\"Pulse\",\"The Happening\",\"8MM\",\"Leprechaun 2\",\"Mississippi Burning\",\"Your Highness\",\"Innerspace\",\"Katy Perry: Part of Me\",\"Beyond Rangoon\",\"Cocktail\",\"Alien\",\"I Want Candy\",\"Desperado\",\"Used Cars\",\"Naked Fear\",\"Employee of the Month\",\"Restoration\",\"The Contender\",\"The Monster Squad\",\"Man's Best Friend\",\"The Right Stuff\",\"Sleeping Dogs\",\"La leggenda del pianista sull'oceano\",\"The Girl Next Door\",\"High Plains Drifter\",\"Friday the 13th Part 2\",\"The Gate\",\"Parenthood\",\"Mikey and Nicky\",\"Miami Vice\",\"Legends of the Fall\",\"How to Train Your Dragon\",\"Kick-Ass 2\",\"The Dead Zone\",\"Punch-Drunk Love\",\"Gamer\",\"The Young Victoria\",\"Run Lola Run\",\"Embryo\",\"Dawn of the Dead\",\"The Good Night\",\"Saw\",\"Reds\",\"Before Sunrise\",\"The Hunter\",\"Nanny McPhee Returns\",\"Zambezia\",\"Rush Hour 2\",\"Br\\u00fcno\",\"Poetic Justice\",\"11:14\",\"Upside Down\",\"Sorority Babes in the Slimeball Bowl-O-Rama\",\"Friday Night Lights\",\"In the Cut\",\"8 Heads in a Duffel Bag\",\"Friday the 13th\",\"Ghost Town\",\"Deuce Bigalow: European Gigolo\",\"Eight Men Out\",\"Smoke Signals\",\"The Spitfire Grill\",\"Superman II\",\"Tadpole\",\"Keeping the Faith\",\"Save the Last Dance\",\"Riddick\",\"Mame\",\"Lions for Lambs\",\"Margaret\",\"Japanese Story\",\"Raising Helen\",\"Funny Farm\",\"Zack and Miri Make a Porno\",\"The Mighty Macs\",\"Porky's\",\"My Brilliant Career\",\"Quartet\",\"Mortal Kombat: Annihilation\",\"Beverly Hills Cop III\",\"Star Trek: Nemesis\",\"Head of State\",\"Up the Sandbox\",\"Live and Let Die\",\"The Public Eye\",\"Ballistic: Ecks vs. Sever\",\"Encino Man\",\"3 Women\",\"Olympus Has Fallen\",\"Fly Me to the Moon 3D\",\"Troop Beverly Hills\",\"Bereavement\",\"The Love Letter\",\"The Outsiders\",\"The Jackal\",\"Miss March\",\"Lilo & Stitch\",\"Executive Action\",\"Madea's Family Reunion\",\"Flight\",\"Elizabeth\",\"It's a Boy Girl Thing\",\"Sucker Punch\",\"Night of the Living Dead\",\"Killing Me Softly\",\"The Man in the Iron Mask\",\"Shivers\",\"Elevator\",\"Jindabyne\",\"Larry Crowne\",\"In Good Company\",\"Judy Moody and the Not Bummer Summer\",\"Footloose\",\"The Transformers: The Movie\",\"Bamboozled\",\"The Fog\",\"A Passage to India\",\"Sicko\",\"The Sure Thing\",\"The Thing\",\"Malevolence\",\"Son of Rambow\",\"The Royal Tenenbaums\",\"Antony and Cleopatra\",\"Aspen Extreme\",\"Mary Shelley's Frankenstein\",\"Light Sleeper\",\"The Enforcer\",\"Minority Report\",\"The Princess and the Frog\",\"Flatliners\",\"Adam Resurrected\",\"Shaun of the Dead\",\"Dead Man Down\",\"Twisted\",\"Sex and the City\",\"Three Wishes\",\"The Cat's Meow\",\"V for Vendetta\",\"The Mirror\",\"The Karate Kid\",\"Teenage Mutant Ninja Turtles\",\"Chapter 27\",\"Big Eyes\",\"Mommie Dearest\",\"The Courier\",\"Hamlet\",\"Hot Shots! Part Deux\",\"Marilyn Hotchkiss' Ballroom Dancing & Charm School\",\"Vanity Fair\",\"Atlantic City\",\"Eternal Sunshine of the Spotless Mind\",\"Hercules\",\"Amadeus\",\"He Died with a Felafel in His Hand\",\"Far Cry\",\"The Help\",\"The Good Thief\",\"Buried\",\"Muriel's Wedding\",\"Toy Story 2\",\"Tall Tale\",\"The Chronicles of Narnia: The Lion, the Witch and the Wardrobe\",\"This Christmas\",\"Accepted\",\"Loose Cannons\",\"The Story of Luke\",\"Cocoon\",\"Prophecy\",\"The Cloth\",\"Winter Passing\",\"Treasure Planet\",\"American Gangster\",\"Beloved\",\"Revolutionary Road\",\"Creepshow\",\"Vampires\",\"Soldier\",\"9 Songs\",\"Night of the Comet\",\"American Wedding\",\"A Nightmare on Elm Street 5: The Dream Child\",\"Illegal Tender\",\"Chinese Roulette\",\"The Tempest\",\"Sinbad: Legend of the Seven Seas\",\"Working Girl\",\"Lost Highway\",\"Dragon Eyes\",\"Ruby Sparks\",\"Death on the Nile\",\"Closure\",\"Harry Potter and the Deathly Hallows: Part 1\",\"3000 Miles to Graceland\",\"Predator\",\"Revenge of the Ninja\",\"Sex, Lies, and Videotape\",\"The Glimmer Man\",\"I Love You Phillip Morris\",\"The Apprenticeship of Duddy Kravitz\",\"Sixteen Candles\",\"The Lego Movie\",\"Fantastic Mr. Fox\",\"The Bank Job\",\"Assassination of a High School President\",\"Virtuosity\",\"James and the Giant Peach\",\"The Visitor\",\"Repo! The Genetic Opera\",\"Arthur et la vengeance de Maltazard\",\"Clockers\",\"The Ant Bully\",\"Read My Lips\",\"Throw Momma from the Train\",\"The Upside of Anger\",\"The Sicilian\",\"It's All About Love\",\"Torque\",\"The Amazing Spider-Man\",\"Gothika\",\"Stay Cool\",\"This Is Spinal Tap\",\"The Medallion\",\"RoboCop\",\"Atlantis: The Lost Empire\",\"Angels in the Outfield\",\"Like Father Like Son\",\"Which Way Is Up?\",\"The Pallbearer\",\"The Bounty Hunter\",\"Owning Mahowny\",\"Gattaca\",\"Apartment Zero\",\"Flawless\",\"The Godfather: Part II\",\"Elizabethtown\",\"Wild at Heart\",\"The Fighter\",\"Out of Sight\",\"Something Wicked This Way Comes\",\"True Romance\",\"Frozen River\",\"Brooklyn's Finest\",\"Valmont\",\"Eddie\",\"The Haunted Mansion\",\"The Pledge\",\"Harold & Kumar Escape from Guantanamo Bay\",\"Annie Hall\",\"Lean on Me\",\"Mo' Money\",\"Secret Window\",\"Grace of Monaco\",\"Defiance\",\"Mr. Woodcock\",\"Here Comes the Boom\",\"Sinister 2\",\"L!fe Happens\",\"The Rescuers\",\"Underclassman\",\"Glengarry Glen Ross\",\"RocknRolla\",\"When Time Ran Out...\",\"RED\",\"Chuck & Buck\",\"Truth or Die\",\"The Long Goodbye\",\"Year One\",\"Steve Jobs\",\"30 Minutes or Less\",\"Wild Bill\",\"Young Frankenstein\",\"Star Trek: First Contact\",\"Gone in Sixty Seconds\",\"Cocoon: The Return\",\"Birdy\",\"Sgt. Bilko\",\"Transporter 2\",\"Friday the 13th Part III\",\"Twixt\",\"Triangle\",\"2010\",\"Like Mike\",\"The New Guy\",\"Last Man Standing\",\"Black Snake\",\"Under Suspicion\",\"Ali G Indahouse\",\"Love, Wedding, Marriage\",\"Spanking the Monkey\",\"Cowboys & Aliens\",\"Solo\",\"21\",\"Planes, Trains & Automobiles\",\"Into the Blue\",\"Johnny English\",\"Our Family Wedding\",\"Stand by Me\",\"Breakfast of Champions\",\"High Strung\",\"Dave Chappelle's Block Party\",\"Meet Joe Black\",\"Copying Beethoven\",\"Northfork\",\"Sex and the City 2\",\"Fluke\",\"10 Things I Hate About You\",\"Redline\",\"Return to the Blue Lagoon\",\"The Sorcerer's Apprentice\",\"Home Alone\",\"Saving Lincoln\",\"Jack the Giant Slayer\",\"Salvador\",\"The Glass House\",\"The Time Traveler's Wife\",\"Death Becomes Her\",\"The People Under the Stairs\",\"The Believer\",\"Silent Fall\",\"Poltergeist\",\"Demons\",\"Beastmaster 2: Through the Portal of Time\",\"Best Defense\",\"The Big White\",\"Queen of the Desert\",\"The Intouchables\",\"The Tailor of Panama\",\"Jawbreaker\",\"Alvin and the Chipmunks: The Road Chip\",\"Tropic Thunder\",\"Kinsey\",\"Without a Paddle\",\"The Man Who Would Be King\",\"The Lone Ranger\",\"E.T. the Extra-Terrestrial\",\"Tucker: The Man and His Dream\",\"We Were Soldiers\",\"Venus\",\"Breaker Morant\",\"Dirty Pretty Things\",\"Dead Ringers\",\"Passengers\",\"Red Riding Hood\",\"A Bag of Hammers\",\"Trouble with the Curve\",\"Airplane!\",\"Casualties of War\",\"American Dreamz\",\"Urban Legends: Final Cut\",\"Mesrine Part 2: Public Enemy #1\",\"Fair Game\",\"Made\",\"Men with Brooms\",\"Phantom of the Paradise\",\"My Family\",\"The Baby-Sitters Club\",\"Firewalker\",\"A Night at the Roxbury\",\"The Visual Bible: The Gospel of John\",\"French Connection II\",\"Saving Grace\",\"The Girlfriend Experience\",\"Closer to the Moon\",\"Indian Summer\",\"Scarface\",\"The Killing Fields\"],\"x\":[132.0,98.0,101.0,87.0,109.0,110.0,113.0,107.0,99.0,108.0,138.0,131.0,107.0,87.0,94.0,93.0,97.0,109.0,121.0,119.0,109.0,111.0,91.0,109.0,85.0,104.0,153.0,106.0,94.0,112.0,97.0,93.0,88.0,99.0,96.0,98.0,112.0,111.0,94.0,113.0,121.0,117.0,120.0,96.0,94.0,86.0,100.0,97.0,103.0,97.0,92.0,90.0,112.0,115.0,107.0,108.0,127.0,91.0,99.0,90.0,83.0,128.0,118.0,87.0,106.0,98.0,103.0,95.0,128.0,119.0,99.0,96.0,100.0,111.0,101.0,91.0,103.0,164.0,110.0,135.0,179.0,88.0,87.0,95.0,93.0,97.0,135.0,126.0,98.0,106.0,122.0,100.0,86.0,90.0,122.0,105.0,88.0,70.0,92.0,118.0,92.0,138.0,90.0,93.0,98.0,119.0,119.0,86.0,128.0,99.0,116.0,114.0,99.0,92.0,94.0,89.0,124.0,98.0,178.0,125.0,106.0,84.0,101.0,103.0,85.0,88.0,89.0,116.0,96.0,93.0,119.0,115.0,103.0,117.0,89.0,127.0,95.0,94.0,94.0,139.0,101.0,133.0,85.0,93.0,101.0,112.0,104.0,121.0,81.0,107.0,132.0,90.0,91.0,113.0,92.0,95.0,109.0,125.0,99.0,102.0,108.0,88.0,127.0,144.0,112.0,97.0,119.0,100.0,103.0,88.0,107.0,125.0,87.0,93.0,80.0,143.0,105.0,96.0,116.0,90.0,138.0,117.0,97.0,113.0,93.0,105.0,94.0,87.0,95.0,141.0,82.0,109.0,91.0,93.0,95.0,82.0,165.0,111.0,140.0,91.0,106.0,99.0,111.0,97.0,93.0,90.0,137.0,106.0,114.0,96.0,89.0,111.0,115.0,122.0,147.0,104.0,94.0,133.0,86.0,87.0,92.0,120.0,117.0,101.0,84.0,87.0,140.0,111.0,79.0,83.0,113.0,96.0,116.0,93.0,115.0,121.0,92.0,132.0,96.0,97.0,123.0,87.0,87.0,92.0,113.0,123.0,92.0,118.0,88.0,84.0,146.0,100.0,103.0,98.0,94.0,108.0,135.0,103.0,93.0,94.0,126.0,82.0,94.0,140.0,108.0,100.0,138.0,109.0,107.0,102.0,146.0,154.0,122.0,106.0,97.0,85.0,145.0,94.0,96.0,141.0,91.0,107.0,111.0,90.0,98.0,113.0,105.0,87.0,89.0,100.0,126.0,110.0,101.0,121.0,87.0,165.0,99.0,130.0,105.0,86.0,95.0,88.0,202.0,72.0,88.0,86.0,89.0,107.0,95.0,107.0,108.0,86.0,129.0,113.0,103.0,100.0,106.0,117.0,113.0,79.0,115.0,105.0,95.0,98.0,112.0,110.0,129.0,93.0,117.0,113.0,103.0,120.0,104.0,85.0,113.0,116.0,104.0,96.0,100.0,91.0,83.0,149.0,108.0,87.0,147.0,98.0,129.0,93.0,92.0,97.0,109.0,81.0,96.0,105.0,91.0,92.0,99.0,89.0,125.0,124.0,118.0,84.0,118.0,92.0,97.0,113.0,98.0,107.0,91.0,102.0,154.0,89.0,114.0,103.0,85.0,101.0,98.0,101.0,88.0,126.0,90.0,107.0,119.0,115.0,89.0,106.0,109.0,122.0,96.0,93.0,95.0,92.0,94.0,101.0,85.0,120.0,101.0,113.0,105.0,93.0,110.0,98.0,117.0,104.0,112.0,120.0,94.0,93.0,84.0,105.0,96.0,122.0,112.0,126.0,97.0,117.0,90.0,93.0,98.0,111.0,120.0,110.0,134.0,113.0,108.0,108.0,145.0,98.0,165.0,91.0,148.0,114.0,119.0,113.0,137.0,99.0,125.0,113.0,88.0,87.0,89.0,101.0,103.0,130.0,103.0,110.0,91.0,90.0,97.0,100.0,116.0,98.0,106.0,110.0,86.0,102.0,118.0,108.0,119.0,104.0,101.0,99.0,107.0,100.0,101.0,97.0,137.0,103.0,88.0,96.0,148.0,95.0,153.0,124.0,104.0,94.0,128.0,87.0,105.0,92.0,109.0,88.0,115.0,102.0,105.0,317.0,89.0,99.0,100.0,75.0,88.0,106.0,99.0,97.0,90.0,136.0,120.0,95.0,108.0,119.0,118.0,130.0,84.0,99.0,81.0,120.0,98.0,113.0,95.0,77.0,138.0,113.0,97.0,111.0,149.0,86.0,130.0,99.0,107.0,110.0,115.0,107.0,100.0,97.0,104.0,105.0,111.0,109.0,97.0,140.0,109.0,89.0,111.0,125.0,120.0,129.0,86.0,105.0,126.0,97.0,116.0,116.0,113.0,112.0,84.0,94.0,93.0,119.0,118.0,134.0,117.0,98.0,129.0,101.0,80.0,94.0,123.0,101.0,130.0,105.0,88.0,113.0,98.0,135.0,110.0,96.0,120.0,90.0,108.0,97.0,92.0,74.0,122.0,95.0,77.0,108.0,109.0,107.0,81.0,112.0,113.0,101.0,98.0,110.0,88.0,101.0,129.0,110.0,93.0,101.0,100.0,107.0,127.0,126.0,125.0,114.0,105.0,104.0,82.0,107.0,121.0,97.0,107.0,118.0,111.0,119.0,115.0,76.0,165.0,98.0,88.0,98.0,118.0,124.0,138.0,108.0,98.0,105.0,90.0,93.0,93.0,120.0,100.0,92.0,104.0,113.0,88.0,94.0,130.0,110.0,134.0,86.0,103.0,99.0,118.0,128.0,93.0,127.0,105.0,104.0,90.0,112.0,111.0,112.0,101.0,94.0,101.0,90.0,137.0,106.0,118.0,106.0,117.0,97.0,134.0,92.0,93.0,113.0,88.0,95.0,101.0,110.0,103.0,94.0,95.0,101.0,119.0,110.0,97.0,122.0,116.0,103.0,89.0,93.0,81.0,80.0,96.0,99.0,83.0,114.0,96.0,125.0,138.0,102.0,154.0,93.0,113.0,100.0,86.0,108.0,110.0,114.0,82.0,89.0,90.0,107.0,90.0,113.0,103.0,96.0,107.0,85.0,134.0,100.0,85.0,105.0,127.0,110.0,123.0,126.0,114.0,104.0,101.0,85.0,101.0,115.0,103.0,138.0,97.0,109.0,92.0,102.0,92.0,113.0,95.0,137.0,91.0,103.0,103.0,91.0,101.0,97.0,114.0,105.0,120.0,93.0,110.0,87.0,136.0,87.0,107.0,118.0,137.0,109.0,100.0,114.0,88.0,103.0,122.0,107.0,95.0,91.0,81.0,108.0,93.0,100.0,116.0,88.0,96.0,98.0,92.0,118.0,133.0,75.0,80.0,115.0,101.0,125.0,99.0,86.0,102.0,81.0,99.0,114.0,99.0,140.0,94.0,107.0,110.0,144.0,107.0,109.0,119.0,98.0,107.0,104.0,98.0,96.0,87.0,113.0,92.0,103.0,125.0,120.0,129.0,100.0,97.0,86.0,81.0,101.0,87.0,130.0,136.0,96.0,88.0,135.0,120.0,93.0,108.0,96.0,125.0,112.0,120.0,89.0,90.0,105.0,122.0,163.0,94.0,99.0,128.0,133.0,93.0,104.0,102.0,94.0,105.0,97.0,115.0,101.0,110.0,120.0,106.0,108.0,91.0,122.0,90.0,98.0,118.0,112.0,105.0,89.0,104.0,97.0,110.0,83.0,90.0,116.0,91.0,109.0,103.0,103.0,132.0,87.0,91.0,102.0,109.0,96.0,101.0,157.0,106.0,101.0,94.0,166.0,114.0,123.0,81.0,124.0,112.0,104.0,101.0,140.0,120.0,82.0,121.0,121.0,119.0,84.0,90.0,96.0,105.0,96.0,84.0,83.0,95.0,131.0,125.0,103.0,108.0,113.0,100.0,95.0,100.0,122.0,116.0,94.0,102.0,91.0,113.0,96.0,136.0,95.0,105.0,151.0,128.0,108.0,113.0,111.0,116.0,95.0,96.0,114.0,83.0,104.0,99.0,107.0,110.0,111.0,108.0,117.0,86.0,105.0,114.0,83.0,94.0,101.0,113.0,99.0,96.0,114.0,127.0,113.0,97.0,123.0,100.0,105.0,88.0,132.0,85.0,91.0,87.0,112.0,127.0,96.0,135.0,118.0,104.0,111.0,92.0,108.0,93.0,114.0,113.0,83.0,123.0,98.0,97.0,91.0,112.0,100.0,135.0,104.0,120.0,120.0,103.0,122.0,105.0,92.0,178.0,119.0,93.0,98.0,101.0,86.0,88.0,87.0,101.0,93.0,107.0,127.0,96.0,104.0,83.0,108.0,92.0,123.0,100.0,117.0,110.0,90.0,110.0,115.0,100.0,111.0,109.0,90.0,126.0,96.0,84.0,97.0,85.0,125.0,112.0,93.0,120.0,121.0,107.0,105.0,147.0,94.0,127.0,134.0,131.0,98.0,98.0,96.0,95.0,93.0,94.0,88.0,90.0,89.0,107.0,91.0,103.0,113.0,90.0,139.0,111.0,134.0,81.0,111.0,120.0,107.0,88.0,102.0,92.0,86.0,98.0,102.0,99.0,148.0,100.0,128.0,98.0,135.0,136.0,98.0,106.0,138.0,100.0,97.0,92.0,93.0,119.0,123.0,100.0,97.0,112.0,97.0,92.0,116.0,103.0,92.0,88.0,117.0,127.0,113.0,98.0,103.0,104.0,85.0,111.0,189.0,80.0,110.0,103.0,110.0,155.0,100.0,98.0,119.0,115.0,105.0,119.0,106.0,95.0,105.0,99.0,96.0,100.0,89.0,84.0,119.0,95.0,91.0,92.0,102.0,111.0,124.0,105.0,170.0,97.0,99.0,100.0,98.0,96.0,93.0,103.0,97.0,95.0,100.0,100.0,91.0,88.0,94.0,138.0,94.0,97.0,94.0,94.0,125.0,92.0,125.0,109.0,97.0,107.0,139.0,98.0,110.0,134.0,92.0,91.0,80.0,121.0,103.0,119.0,92.0,96.0,94.0,125.0,107.0,102.0,121.0,107.0,146.0,94.0,110.0,88.0,135.0,78.0,94.0,95.0,84.0,117.0,97.0,122.0,91.0,85.0,104.0,100.0,125.0,99.0,77.0,129.0,108.0,124.0,152.0,104.0,104.0,114.0,104.0,91.0,133.0,113.0,105.0,88.0,130.0,128.0,83.0,103.0,108.0,124.0,99.0,105.0,96.0,102.0,135.0,102.0,92.0,110.0,110.0,85.0,90.0,107.0,129.0,89.0,108.0,100.0,85.0,77.0,106.0,113.0,101.0,95.0,135.0,127.0,89.0,110.0,99.0,96.0,117.0,114.0,131.0,91.0,78.0,98.0,130.0,101.0,99.0,94.0,100.0,101.0,97.0,95.0,87.0,96.0,89.0,121.0,93.0,124.0,107.0,101.0,102.0,91.0,118.0,106.0,112.0,95.0,106.0,82.0,119.0,101.0,108.0,91.0,160.0,89.0,96.0,97.0,90.0,93.0,101.0,86.0,108.0,104.0,132.0,95.0,122.0,117.0,85.0,125.0,89.0,110.0,96.0,115.0,116.0,96.0,122.0,124.0,76.0,88.0,91.0,121.0,94.0,142.0,101.0,181.0,97.0,92.0,88.0,131.0,122.0,90.0,129.0,93.0,94.0,121.0,108.0,91.0,105.0,112.0,118.0,85.0,91.0,206.0,128.0,100.0,150.0,104.0,93.0,95.0,118.0,117.0,91.0,108.0,116.0,102.0,91.0,102.0,107.0,80.0,92.0,104.0,122.0,107.0,87.0,124.0,98.0,82.0,90.0,101.0,87.0,98.0,106.0,93.0,113.0,146.0,107.0,98.0,114.0,97.0,104.0,120.0,126.0,139.0,97.0,94.0,115.0,84.0,97.0,118.0,96.0,80.0,81.0,80.0,96.0,88.0,137.0,104.0,92.0,138.0,131.0,95.0,107.0,92.0,80.0,124.0,113.0,108.0,94.0,127.0,96.0,109.0,134.0,130.0,97.0,98.0,93.0,94.0,105.0,100.0,114.0,103.0,108.0,92.0,127.0,94.0,100.0,91.0,120.0,93.0,115.0,88.0,140.0,97.0,93.0,137.0,102.0,130.0,91.0,84.0,103.0,104.0,92.0,108.0,188.0,83.0,120.0,87.0,110.0,96.0,112.0,102.0,103.0,114.0,108.0,132.0,98.0,118.0,96.0,114.0,107.0,107.0,111.0,83.0,94.0,85.0,116.0,118.0,91.0,110.0,121.0,155.0,103.0,97.0,98.0,103.0,79.0,114.0,92.0,97.0,98.0,95.0,136.0,99.0,111.0,122.0,117.0,119.0,76.0,102.0,93.0,83.0,140.0,90.0,92.0,89.0,115.0,92.0,91.0,90.0,108.0,102.0,93.0,119.0,96.0,132.0,124.0,90.0,83.0,100.0,97.0,131.0,98.0,92.0,88.0,105.0,110.0,115.0,113.0,129.0,121.0,130.0,144.0,109.0,108.0,97.0,86.0,145.0,86.0,91.0,90.0,99.0,87.0,90.0,94.0,95.0,142.0,325.0,100.0,112.0,95.0,99.0,112.0,102.0,96.0,93.0,105.0,82.0,129.0,99.0,106.0,138.0,104.0,116.0,97.0,89.0,108.0,107.0,116.0,86.0,85.0,106.0,121.0,80.0,109.0,94.0,127.0,118.0,121.0,86.0,126.0,101.0,96.0,94.0,116.0,120.0,104.0,95.0,95.0,93.0,101.0,97.0,76.0,97.0,111.0,121.0,132.0,91.0,134.0,99.0,105.0,128.0,113.0,121.0,90.0,106.0,102.0,107.0,111.0,100.0,102.0,116.0,117.0,85.0,130.0,108.0,102.0,90.0,138.0,147.0,109.0,94.0,112.0,123.0,99.0,86.0,121.0,114.0,93.0,102.0,102.0,127.0,124.0,104.0,109.0,104.0,103.0,107.0,115.0,111.0,108.0,129.0,219.0,110.0,121.0,123.0,105.0,92.0,113.0,90.0,97.0,86.0,98.0,91.0,122.0,116.0,83.0,85.0,119.0,113.0,103.0,116.0,90.0,120.0,102.0,132.0,90.0,100.0,100.0,95.0,97.0,88.0,94.0,93.0,88.0,92.0,90.0,131.0,131.0,124.0,111.0,100.0,96.0,116.0,140.0,89.0,100.0,79.0,109.0,77.0,92.0,90.0,91.0,111.0,107.0,98.0,91.0,127.0,109.0,118.0,125.0,92.0,121.0,106.0,102.0,131.0,100.0,112.0,99.0,105.0,96.0,91.0,93.0,105.0,137.0,92.0,98.0,99.0,106.0,108.0,81.0,102.0,112.0,98.0,106.0,122.0,125.0,85.0,94.0,111.0,95.0,88.0,90.0,104.0,92.0,144.0,89.0,99.0,88.0,150.0,128.0,105.0,116.0,95.0,105.0,143.0,113.0,105.0,119.0,97.0,96.0,115.0,100.0,116.0,96.0,118.0,95.0,96.0,111.0,85.0,111.0,89.0,116.0,130.0,85.0,118.0,140.0,98.0,125.0,112.0,107.0,98.0,90.0,108.0,102.0,88.0,106.0,119.0,111.0,107.0,86.0,100.0,122.0,90.0,135.0,99.0,90.0,142.0,97.0,98.0,136.0,115.0,102.0,79.0,95.0,117.0,85.0,117.0,102.0,88.0,81.0,98.0,97.0,99.0,97.0,87.0,126.0,97.0,113.0,120.0,91.0,96.0,83.0,94.0,99.0,101.0,95.0,100.0,90.0,132.0,107.0,112.0,106.0,85.0,115.0,91.0,126.0,150.0,105.0,92.0,86.0,89.0,99.0,114.0,126.0,80.0,95.0,103.0,99.0,107.0,109.0,104.0,108.0,101.0,69.0,93.0,95.0,99.0,117.0,120.0,97.0,100.0,133.0,89.0,102.0,103.0,92.0,102.0,96.0,98.0,118.0,110.0,91.0,109.0,139.0,107.0,137.0,93.0,103.0,103.0,100.0,99.0,111.0,100.0,138.0,105.0,107.0,89.0,123.0,111.0,91.0,106.0,90.0,99.0,116.0,98.0,90.0,92.0,116.0,109.0,104.0,107.0,130.0,104.0,121.0,93.0,120.0,108.0,108.0,81.0,97.0,90.0,102.0,85.0,113.0,116.0,139.0,115.0,88.0,116.0,118.0,82.0,90.0,123.0,90.0,106.0,96.0,95.0,129.0,137.0,130.0,90.0,89.0,92.0,93.0,150.0,106.0,98.0,94.0,99.0,122.0,91.0,103.0,102.0,121.0,125.0,118.0,87.0,110.0,124.0,136.0,169.0,118.0,103.0,90.0,118.0,93.0,91.0,108.0,116.0,95.0,113.0,110.0,110.0,104.0,118.0,115.0,107.0,81.0,92.0,82.0,124.0,91.0,89.0,117.0,95.0,91.0,87.0,117.0,146.0,97.0,93.0,104.0,93.0,104.0,140.0,96.0,167.0,89.0,127.0,114.0,88.0,112.0,95.0,185.0,119.0,103.0,115.0,103.0,138.0,94.0,88.0,95.0,145.0,114.0,99.0,114.0,115.0,94.0,94.0,93.0,104.0,92.0,87.0,143.0,91.0,109.0,126.0,143.0,87.0,86.0,86.0,92.0,99.0,93.0,125.0,106.0,95.0,93.0,109.0,131.0,114.0,103.0,95.0,103.0,97.0,90.0,91.0,75.0,94.0,112.0,113.0,90.0,94.0,98.0,91.0,91.0,96.0,124.0,104.0,130.0,85.0,116.0,104.0,105.0,91.0,93.0,109.0,96.0,110.0,113.0,104.0,100.0,94.0,130.0,87.0,158.0,126.0,81.0,110.0,96.0,106.0,115.0,100.0,98.0,115.0,96.0,85.0,95.0,112.0,137.0,93.0,114.0,150.0,88.0,109.0,85.0,100.0,95.0,97.0,110.0,104.0,104.0,125.0,93.0,127.0,143.0,144.0,97.0,113.0,98.0,89.0,121.0,90.0,90.0,86.0,124.0,84.0,118.0,124.0,95.0,85.0,124.0,88.0,108.0,187.0,89.0,131.0,121.0,96.0,129.0,92.0,96.0,116.0,89.0,102.0,90.0,153.0,124.0,85.0,101.0,141.0,123.0,116.0,124.0,88.0,102.0,125.0,127.0,129.0,99.0,98.0,87.0,100.0,135.0,100.0,99.0,130.0,88.0,99.0,114.0,94.0,90.0,102.0,113.0,136.0,96.0,101.0,102.0,95.0,121.0,109.0,96.0,101.0,96.0,94.0,82.0,90.0,136.0,99.0,151.0,94.0,87.0,92.0,86.0,80.0,123.0,90.0,101.0,100.0,100.0,100.0,102.0,109.0,105.0,128.0,117.0,86.0,91.0,117.0,87.0,130.0,120.0,97.0,109.0,107.0,82.0,101.0,108.0,101.0,104.0,178.0,102.0,120.0,105.0,104.0,90.0,81.0,121.0,81.0,93.0,95.0,108.0,108.0,104.0,121.0,135.0,96.0,107.0,99.0,93.0,103.0,93.0,97.0,99.0,102.0,92.0,122.0,114.0,97.0,105.0,131.0,110.0,110.0,90.0,104.0,116.0,100.0,113.0,107.0,101.0,98.0,93.0,112.0,115.0,103.0,114.0,114.0,127.0,101.0,112.0,115.0,83.0,104.0,117.0,99.0,117.0,118.0,88.0,127.0,88.0,77.0,90.0,93.0,96.0,85.0,126.0,84.0,109.0,122.0,101.0,95.0,126.0,121.0,116.0,94.0,111.0,87.0,91.0,94.0,108.0,125.0,191.0,111.0,104.0,86.0,169.0,192.0,131.0,119.0,116.0,100.0,110.0,96.0,80.0,88.0,105.0,125.0,99.0,81.0,128.0,117.0,98.0,150.0,103.0,89.0,117.0,94.0,155.0,119.0,113.0,109.0,96.0,98.0,86.0,93.0,96.0,108.0,99.0,113.0,107.0,87.0,95.0,96.0,105.0,117.0,99.0,100.0,94.0,90.0,110.0,107.0,112.0,123.0,97.0,98.0,101.0,126.0,98.0,124.0,139.0,87.0,92.0,83.0,135.0,106.0,103.0,130.0,103.0,98.0,135.0,77.0,108.0,139.0,92.0,104.0,106.0,106.0,106.0,95.0,118.0,125.0,90.0,108.0,82.0,84.0,114.0,123.0,100.0,78.0,77.0,108.0,98.0,118.0,110.0,102.0,101.0,162.0,139.0,83.0,105.0,101.0,95.0,126.0,108.0,96.0,100.0,104.0,99.0,84.0,110.0,103.0,136.0,101.0,85.0,94.0,93.0,84.0,121.0,93.0,117.0,125.0,115.0,100.0,152.0,83.0,108.0,90.0,127.0,167.0,85.0,139.0,94.0,115.0,131.0,80.0,88.0,161.0,122.0,101.0,106.0,115.0,92.0,95.0,107.0,98.0,112.0,109.0,78.0,90.0,83.0,98.0,114.0,93.0,118.0,96.0,113.0,77.0,104.0,98.0,95.0,96.0,84.0,92.0,88.0,86.0,193.0,113.0,88.0,107.0,101.0,85.0,105.0,95.0,91.0,115.0,104.0,115.0,106.0,107.0,99.0,99.0,112.0,91.0,118.0,98.0,131.0,85.0,115.0,91.0,99.0,78.0,118.0,116.0,88.0,80.0,93.0,122.0,111.0,94.0,94.0,85.0,132.0,90.0,109.0,93.0,120.0,95.0,121.0,122.0,109.0,106.0,136.0,89.0,95.0,107.0,101.0,119.0,91.0,143.0,135.0,102.0,96.0,129.0,91.0,97.0,106.0,110.0,118.0,110.0,107.0,93.0,117.0,132.0,94.0,106.0,99.0,94.0,109.0,95.0,146.0,90.0,88.0,135.0,105.0,124.0,100.0,93.0,87.0,94.0,95.0,106.0,99.0,109.0,101.0,93.0,86.0,108.0,96.0,108.0,141.0,132.0,97.0,104.0,92.0,125.0,113.0,86.0,104.0,72.0,107.0,130.0,94.0,122.0,99.0,106.0,98.0,110.0,94.0,119.0,109.0,96.0,145.0,83.0,105.0,183.0,106.0,87.0,107.0,84.0,97.0,127.0,99.0,89.0,164.0,91.0,111.0,80.0,97.0,133.0,107.0,91.0,118.0,124.0,113.0,116.0,91.0,98.0,136.0,86.0,102.0,118.0,124.0,99.0,122.0,115.0,90.0,92.0,80.0,89.0,100.0,104.0,86.0,95.0,121.0,142.0,114.0,130.0,126.0,84.0,93.0,104.0,101.0,92.0,102.0,107.0,104.0,102.0,127.0,112.0,84.0,95.0,108.0,112.0,110.0,93.0,140.0,118.0,106.0,121.0,117.0,123.0,115.0,109.0,96.0,107.0,157.0,80.0,99.0,130.0,101.0,87.0,117.0,91.0,117.0,96.0,121.0,194.0,101.0,271.0,91.0,88.0,82.0,85.0,108.0,104.0,122.0,100.0,120.0,135.0,117.0,94.0,96.0,92.0,110.0,98.0,83.0,118.0,109.0,108.0,140.0,124.0,98.0,107.0,81.0,97.0,162.0,111.0,94.0,106.0,93.0,97.0,118.0,131.0,106.0,103.0,133.0,120.0,114.0,95.0,99.0,109.0,100.0,131.0,108.0,117.0,125.0,127.0,88.0,138.0,115.0,103.0,90.0,90.0,83.0,91.0,115.0,95.0,91.0,107.0,83.0,97.0,116.0,86.0,128.0,124.0,112.0,76.0,124.0,111.0,119.0,143.0,129.0,105.0,112.0,157.0,123.0,118.0,101.0,118.0,113.0,130.0,112.0,82.0,86.0,89.0,118.0,89.0,77.0,81.0,133.0,109.0,91.0,114.0,92.0,84.0,125.0,119.0,108.0,105.0,80.0,118.0,131.0,89.0,102.0,106.0,144.0,97.0,94.0,120.0,114.0,104.0,109.0,90.0,90.0,106.0,109.0,93.0,85.0,123.0,93.0,159.0,117.0,110.0,124.0,114.0,104.0,107.0,99.0,93.0,97.0,86.0,89.0,98.0,101.0,94.0,106.0,98.0,100.0,129.0,97.0,121.0,113.0,96.0,110.0,104.0,87.0,93.0,108.0,87.0,130.0,100.0,89.0,114.0,85.0,138.0,162.0,110.0,101.0,120.0,76.0,89.0,95.0,141.0,160.0,104.0,93.0,127.0,100.0,122.0,103.0,99.0,102.0,157.0,93.0,109.0,90.0,90.0,122.0,91.0,88.0,91.0,106.0,146.0,92.0,97.0,110.0,124.0,116.0,88.0,88.0,129.0,92.0,122.0,99.0,110.0,106.0,80.0,95.0,126.0,229.0,89.0,128.0,97.0,105.0,93.0,92.0,108.0,122.0,100.0,90.0,124.0,106.0,122.0,124.0,117.0,98.0,140.0,83.0,98.0,80.0,94.0,104.0,98.0,122.0,100.0,120.0,115.0,115.0,112.0,97.0,98.0,93.0,97.0,86.0,90.0,117.0,100.0,92.0,99.0,127.0,95.0,91.0,91.0,104.0,123.0,94.0,95.0,124.0,95.0,95.0,117.0,103.0,121.0,99.0,111.0,127.0,93.0,91.0,73.0,120.0,113.0,88.0,96.0,118.0,88.0,89.0,106.0,95.0,98.0,106.0,103.0,141.0,141.0,90.0,96.0,98.0,90.0,148.0,99.0,116.0,98.0,109.0,113.0,117.0,95.0,74.0,111.0,115.0,96.0,83.0,119.0,95.0,91.0,109.0,97.0,94.0,138.0,69.0,117.0,92.0,119.0,101.0,89.0,110.0,92.0,99.0,88.0,138.0,121.0,103.0,90.0,103.0,93.0,119.0,104.0,93.0,100.0,115.0,132.0,99.0,110.0,106.0,144.0,143.0,91.0,98.0,115.0,86.0,112.0,99.0,90.0,117.0,108.0,135.0,105.0,77.0,124.0,103.0,111.0,95.0,90.0,134.0,102.0,98.0,120.0,87.0,110.0,96.0,112.0,91.0,91.0,89.0,149.0,118.0,111.0,102.0,93.0,93.0,85.0,96.0,100.0,101.0,106.0,102.0,125.0,91.0,92.0,108.0,85.0,92.0,89.0,87.0,107.0,108.0,100.0,139.0,84.0,83.0,162.0,99.0,82.0,134.0,103.0,98.0,130.0,123.0,116.0,100.0,108.0,132.0,104.0,126.0,90.0,95.0,87.0,137.0,125.0,143.0,106.0,96.0,140.0,105.0,98.0,92.0,108.0,100.0,90.0,116.0,95.0,96.0,97.0,128.0,103.0,90.0,117.0,113.0,105.0,99.0,99.0,99.0,115.0,82.0,98.0,96.0,151.0,102.0,118.0,101.0,98.0,115.0,117.0,92.0,76.0,108.0,97.0,105.0,125.0,109.0,92.0,133.0,103.0,110.0,90.0,83.0,92.0,118.0,99.0,88.0,80.0,97.0,110.0,135.0,92.0,103.0,110.0,142.0,107.0,102.0,80.0,93.0,90.0,76.0,123.0,84.0,88.0,108.0,108.0,102.0,127.0,96.0,116.0,138.0,132.0,88.0,87.0,98.0,97.0,104.0,116.0,126.0,89.0,121.0,105.0,89.0,129.0,122.0,96.0,101.0,119.0,89.0,135.0,92.0,130.0,95.0,106.0,98.0,100.0,93.0,106.0,104.0,89.0,82.0,123.0,85.0,113.0,113.0,125.0,128.0,108.0,104.0,121.0,115.0,99.0,96.0,82.0,56.0,91.0,108.0,105.0,101.0,91.0,98.0,112.0,98.0,162.0,109.0,106.0,96.0,98.0,86.0,125.0,88.0,101.0,105.0,112.0,94.0,95.0,86.0,169.0,115.0,111.0,112.0,100.0,116.0,98.0,98.0,78.0,108.0,108.0,112.0,134.0,131.0,109.0,89.0,103.0,101.0,87.0,90.0,81.0,104.0,134.0,180.0,87.0,94.0,129.0,106.0,84.0,110.0,99.0,91.0,96.0,105.0,92.0,115.0,125.0,105.0,105.0,115.0,120.0,126.0,92.0,100.0,109.0,124.0,88.0,89.0,102.0,98.0,119.0,104.0,156.0,82.0,90.0,128.0,116.0,95.0,96.0,93.0,115.0,84.0,106.0,120.0,96.0,112.0,140.0,120.0,104.0,106.0,98.0,85.0,68.0,93.0,86.0,97.0,102.0,107.0,105.0,107.0,129.0,80.0,98.0,101.0,122.0,86.0,93.0,95.0,120.0,98.0,92.0,112.0,92.0,145.0,96.0,95.0,81.0,108.0,112.0,94.0,133.0,97.0,89.0,114.0,118.0,90.0,95.0,107.0,113.0,90.0,107.0,86.0,86.0,114.0,98.0,127.0,102.0,91.0,82.0,97.0,140.0,105.0,106.0,93.0,90.0,171.0,92.0,99.0,143.0,105.0,110.0,131.0,107.0,96.0,97.0,91.0,122.0,100.0,89.0,114.0,122.0,95.0,102.0,96.0,136.0,105.0,85.0,126.0,105.0,101.0,130.0,124.0,90.0,80.0,107.0,86.0,88.0,105.0,88.0,103.0,80.0,97.0,86.0,92.0,120.0,99.0,98.0,130.0,106.0,112.0,100.0,116.0,120.0,112.0,83.0,108.0,104.0,104.0,98.0,81.0,86.0,90.0,109.0,108.0,128.0,100.0,80.0,104.0,111.0,104.0,90.0,104.0,100.0,90.0,97.0,101.0,116.0,105.0,110.0,107.0,98.0,145.0,134.0,134.0,103.0,92.0,89.0,108.0,90.0,103.0,170.0,94.0,100.0,126.0,103.0,124.0,97.0,87.0,139.0,109.0,103.0,82.0,103.0,123.0,96.0,89.0,111.0,85.0,132.0,124.0,90.0,110.0,170.0,81.0,84.0,96.0,105.0,88.0,105.0,104.0,102.0,136.0,90.0,105.0,89.0,111.0,94.0,100.0,96.0,109.0,93.0,103.0,93.0,85.0,110.0,74.0,169.0,109.0,90.0,98.0,104.0,114.0,118.0,123.0,114.0,117.0,104.0,110.0,123.0,119.0,127.0,130.0,130.0,145.0,112.0,101.0,104.0,96.0,105.0,118.0,136.0,107.0,110.0,82.0,88.0,142.0,85.0,154.0,93.0,128.0,120.0,129.0,133.0,98.0,82.0,101.0,90.0,88.0,77.0,90.0,94.0,107.0,89.0,93.0,133.0,121.0,98.0,120.0,158.0,118.0,80.0,88.0,139.0,92.0,108.0,93.0,96.0,93.0,112.0,99.0,101.0,82.0,96.0,106.0,92.0,88.0,102.0,122.0,84.0,113.0,112.0,98.0,119.0,97.0,128.0,98.0,107.0,105.0,98.0,124.0,120.0,91.0,102.0,94.0,75.0,97.0,77.0,99.0,94.0,93.0,132.0,97.0,102.0,85.0,102.0,92.0,90.0,135.0,115.0,89.0,100.0,77.0,116.0,113.0,111.0,110.0,118.0,107.0,90.0,92.0,101.0,90.0,169.0,114.0,85.0,90.0,128.0,123.0,88.0,130.0,90.0,96.0,119.0,131.0,92.0,128.0,104.0,96.0,98.0,94.0,70.0,99.0,128.0,94.0,112.0,124.0,105.0,130.0,115.0,122.0,94.0,97.0,84.0,119.0,125.0,91.0,108.0,124.0,93.0,91.0,108.0,127.0,98.0,125.0,114.0,120.0,111.0,136.0,104.0,100.0,121.0,99.0,100.0,102.0,133.0,133.0,129.0,108.0,119.0,89.0,124.0,105.0,99.0,103.0,110.0,105.0,135.0,95.0,88.0,110.0,111.0,106.0,91.0,105.0,125.0,133.0,123.0,104.0,114.0,111.0,107.0,112.0,84.0,119.0,112.0,83.0,104.0,100.0,84.0,97.0,77.0,87.0,120.0,201.0,89.0,88.0,84.0,106.0,118.0,101.0,103.0,100.0,109.0,94.0,95.0,101.0,124.0,95.0,119.0,99.0,130.0,104.0,97.0,112.0,103.0,85.0,136.0,135.0,98.0,122.0,106.0,108.0,89.0,89.0,101.0,147.0,112.0,92.0,86.0,85.0,89.0,109.0,143.0,96.0,100.0,129.0,118.0,90.0,99.0,111.0,145.0,115.0,123.0,92.0,124.0,117.0,95.0,86.0,100.0,120.0,94.0,122.0,97.0,105.0,106.0,95.0,118.0,119.0,110.0,94.0,111.0,88.0,99.0,85.0,99.0,114.0,133.0,105.0,109.0,92.0,105.0,117.0,94.0,84.0,109.0,100.0,117.0,93.0,101.0,110.0,95.0,98.0,91.0,116.0,104.0,106.0,76.0,98.0,86.0,94.0,114.0,98.0,94.0,85.0,102.0,108.0,126.0,106.0,144.0,96.0,115.0,96.0,88.0,128.0,86.0,81.0,113.0,119.0,100.0,100.0,114.0,122.0,97.0,110.0,90.0,95.0,104.0,177.0,117.0,195.0,126.0,105.0,106.0,97.0,154.0,101.0,87.0,95.0,103.0,89.0,105.0,133.0,126.0,117.0,99.0,129.0,121.0,94.0,129.0,100.0,93.0,99.0,155.0,124.0,114.0,110.0,82.0,108.0,135.0,106.0,88.0,85.0,105.0,87.0,105.0,100.0,110.0,86.0,115.0,100.0,130.0,95.0,98.0,110.0,108.0,106.0,84.0,84.0,89.0,113.0,94.0,100.0,114.0,89.0,90.0,97.0,107.0,122.0,146.0,75.0,89.0,89.0,80.0,123.0,90.0,89.0,94.0,132.0,102.0,105.0,91.0,117.0,103.0,96.0,101.0,84.0,121.0,86.0,95.0,101.0,96.0,107.0,99.0,91.0,77.0,90.0,100.0,93.0,104.0,88.0,87.0,95.0,100.0,96.0,113.0,95.0,63.0,100.0,148.0,101.0,119.0,90.0,116.0,90.0,107.0,146.0,91.0,94.0,111.0,99.0,107.0,98.0,95.0,106.0,105.0,96.0,92.0,121.0,79.0,98.0,106.0,129.0,104.0,94.0,90.0,95.0,108.0,85.0,99.0,122.0,180.0,94.0,95.0,105.0,86.0,98.0,85.0,89.0,106.0,115.0,122.0,95.0,99.0,99.0,108.0,130.0,96.0,89.0,84.0,88.0,101.0,95.0,123.0,121.0,104.0,116.0,101.0,127.0,91.0,106.0,108.0,93.0,94.0,144.0,93.0,83.0,121.0,97.0,116.0,94.0,105.0,109.0,139.0,113.0,102.0,108.0,105.0,87.0,143.0,91.0,116.0,106.0,114.0,98.0,113.0,103.0,103.0,107.0,108.0,110.0,158.0,85.0,78.0,113.0,131.0,105.0,112.0,115.0,113.0,104.0,78.0,114.0,89.0,93.0,99.0,84.0,125.0,102.0,90.0,108.0,83.0,154.0,114.0,96.0,108.0,94.0,79.0,91.0,130.0,131.0,102.0,93.0,96.0,93.0,118.0,96.0,118.0,98.0,110.0,100.0,100.0,103.0,86.0,99.0,114.0,88.0,104.0,109.0,94.0,115.0,108.0,123.0,115.0,94.0,89.0,108.0,86.0,96.0,141.0,191.0,101.0,108.0,90.0,103.0,104.0,103.0,144.0,115.0,102.0,109.0,92.0,112.0,95.0,109.0,95.0,104.0,97.0,98.0,95.0,106.0,93.0,110.0,121.0,131.0,113.0,95.0,119.0,87.0,98.0,106.0,79.0,103.0,98.0,138.0,123.0,101.0,102.0,110.0,129.0,114.0,125.0,91.0,98.0,106.0,114.0,108.0,101.0,95.0,105.0,97.0,117.0,99.0,120.0,87.0,102.0,116.0,96.0,109.0,91.0,94.0,104.0,99.0,102.0,101.0,99.0,89.0,189.0,105.0,101.0,120.0,97.0,82.0,94.0,104.0,127.0,120.0,108.0,96.0,102.0,131.0,148.0,116.0,94.0,110.0,111.0,120.0,105.0,97.0,114.0,120.0,121.0,104.0,85.0,99.0,125.0,107.0,114.0,102.0,80.0,115.0,123.0,107.0,129.0,114.0,90.0,100.0,101.0,134.0,73.0,86.0,124.0,90.0,115.0,114.0,97.0,102.0,98.0,114.0,140.0,103.0,91.0,107.0,84.0,113.0,100.0,125.0,127.0,96.0,96.0,93.0,102.0,95.0,130.0,101.0,97.0,115.0,155.0,99.0,113.0,97.0,104.0,104.0,128.0,154.0,128.0,105.0,99.0,85.0,124.0,90.0,101.0,101.0,124.0,100.0,101.0,106.0,124.0,108.0,89.0,90.0,136.0,91.0,86.0,114.0,139.0,119.0,116.0,115.0,92.0,100.0,103.0,98.0,103.0,95.0,97.0,82.0,93.0,95.0,119.0,126.0,118.0,98.0,114.0,135.0,101.0,104.0,107.0,83.0,94.0,92.0,119.0,86.0,84.0,103.0,135.0,110.0,110.0,94.0,103.0,104.0,86.0,90.0,108.0,132.0,93.0,121.0,96.0,120.0,91.0,108.0,100.0,121.0,119.0,134.0,85.0,97.0,109.0,116.0,108.0,105.0,113.0,116.0,91.0,124.0,93.0,96.0,95.0,112.0,98.0,92.0,103.0,101.0,98.0,89.0,85.0,128.0,97.0,101.0,121.0,93.0,100.0,95.0,102.0,101.0,86.0,90.0,112.0,102.0,104.0,102.0,94.0,109.0,110.0,117.0,118.0,89.0,99.0,84.0,106.0,164.0,88.0,97.0,107.0,98.0,108.0,132.0,157.0,104.0,101.0,112.0,172.0,127.0,132.0,117.0,94.0,99.0,89.0,91.0,93.0,112.0,104.0,116.0,102.0,94.0,90.0,139.0,128.0,124.0,124.0,95.0,121.0,83.0,105.0,92.0,104.0,102.0,132.0,110.0,103.0,84.0,98.0,100.0,136.0,116.0,86.0,105.0,104.0,125.0,95.0,87.0,94.0,89.0,111.0,87.0,99.0,91.0,125.0,73.0,114.0,94.0,99.0,113.0,130.0,90.0,126.0,101.0,102.0,131.0,110.0,107.0,93.0,118.0,129.0,98.0,119.0,100.0,113.0,107.0,112.0,88.0,100.0,130.0,90.0,117.0,131.0,104.0,95.0,136.0,101.0,111.0,101.0,128.0,100.0,102.0,118.0,93.0,114.0,111.0,109.0,118.0,105.0,87.0,112.0,133.0,98.0,79.0,92.0,93.0,104.0,83.0,106.0,108.0,87.0,155.0,103.0,90.0,102.0,129.0,160.0,129.0,108.0,151.0,98.0,99.0,107.0,119.0,112.0,120.0,170.0,123.0,86.0,95.0,80.0,100.0,105.0,106.0,113.0,98.0,95.0,108.0,112.0,90.0,121.0,88.0,98.0,122.0,96.0,113.0,128.0,115.0,120.0,111.0,92.0,100.0,86.0,104.0,71.0,102.0,91.0,113.0,93.0,94.0,119.0,104.0,131.0,110.0,106.0,115.0,104.0,106.0,107.0,98.0,108.0,112.0,102.0,110.0,89.0,110.0,106.0,88.0,97.0,114.0,92.0,99.0,106.0,137.0,100.0,125.0,102.0,104.0,112.0,108.0,146.0,116.0,91.0,124.0,96.0,99.0,108.0,87.0,104.0,137.0,83.0,91.0,118.0,88.0,93.0,115.0,124.0,74.0,145.0,124.0,123.0,126.0,137.0,112.0,96.0,97.0,138.0,115.0,114.0,97.0,98.0,142.0,114.0,108.0,109.0,91.0,84.0,109.0,114.0,104.0,112.0,144.0,95.0,103.0,113.0,156.0,108.0,105.0,91.0,107.0,117.0,110.0,91.0,98.0,98.0,115.0,88.0,118.0,141.0,93.0,111.0,145.0,118.0,108.0,90.0,90.0,109.0,96.0,83.0,94.0,107.0,103.0,85.0,112.0,103.0,74.0,112.0,161.0,99.0,125.0,83.0,124.0,154.0,115.0,98.0,120.0,162.0,109.0,114.0,98.0,124.0,85.0,107.0,115.0,102.0,97.0,118.0,111.0,97.0,95.0,101.0,86.0,141.0,98.0,89.0,111.0,112.0,92.0,97.0,96.0,100.0,109.0,127.0,106.0,80.0,120.0,95.0,101.0,86.0,87.0,107.0,91.0,94.0,101.0,121.0,106.0,127.0,113.0,100.0,124.0,107.0,114.0,102.0,105.0,119.0,101.0,112.0,90.0,94.0,111.0,112.0,120.0,106.0,96.0,86.0,99.0,144.0,98.0,99.0,98.0,94.0,99.0,148.0,100.0,173.0,102.0,100.0,99.0,93.0,88.0,91.0,110.0,98.0,123.0,117.0,140.0,183.0,143.0,80.0,95.0,139.0,94.0,101.0,88.0,110.0,100.0,130.0,157.0,139.0,242.0,107.0,119.0,120.0,95.0,115.0,98.0,86.0,152.0,99.0,107.0,88.0,114.0,116.0,119.0,92.0,90.0,101.0,102.0,128.0,122.0,90.0,85.0,117.0,106.0,167.0,97.0,95.0,97.0,131.0,90.0,108.0,91.0,111.0,121.0,101.0,96.0,122.0,104.0,81.0,101.0,114.0,91.0,140.0,112.0,91.0,94.0,93.0,100.0,97.0,99.0,147.0,94.0,100.0,101.0,97.0,81.0,99.0,104.0,91.0,88.0,191.0,74.0,115.0,121.0,86.0,106.0,93.0,110.0,108.0,99.0,105.0,92.0,124.0,125.0,117.0,143.0,126.0,97.0,106.0,89.0,102.0,135.0,94.0,106.0,110.0,130.0,119.0,105.0,114.0,86.0,106.0,186.0,88.0,96.0,94.0,111.0,89.0,96.0,83.0,89.0,103.0,87.0,116.0,84.0,124.0,98.0,84.0,95.0,111.0,93.0,107.0,134.0,168.0,93.0,100.0,104.0,92.0,107.0,85.0,91.0,120.0,103.0,119.0,94.0,95.0,111.0,84.0,110.0,88.0,135.0,124.0,83.0,107.0,95.0,127.0,107.0,104.0,116.0,106.0,104.0,94.0,100.0,116.0,107.0,96.0,105.0,128.0,122.0,108.0,104.0,102.0,98.0,112.0,113.0,104.0,110.0,104.0,139.0,96.0,86.0,154.0,144.0,87.0,108.0,98.0,96.0,96.0,87.0,177.0,109.0,84.0,97.0,115.0,104.0,101.0,113.0,95.0,132.0,94.0,122.0,89.0,95.0,100.0,110.0,86.0,103.0,121.0,110.0,106.0,98.0,107.0,143.0,104.0,105.0,117.0,111.0,91.0,98.0,103.0,98.0,89.0,93.0,101.0,93.0,103.0,95.0,96.0,102.0,105.0,118.0,105.0,120.0,101.0,115.0,110.0,91.0,129.0,132.0,98.0,103.0,93.0,117.0,99.0,145.0,109.0,113.0,99.0,88.0,110.0,116.0,109.0,127.0,92.0,150.0,134.0,92.0,97.0,93.0,129.0,102.0,103.0,88.0,104.0,112.0,106.0,85.0,116.0,120.0,152.0,113.0,82.0,102.0,95.0,78.0,88.0,97.0,105.0,82.0,99.0,100.0,96.0,114.0,89.0,104.0,93.0,152.0,100.0,132.0,115.0,120.0,99.0,104.0,91.0,139.0,103.0,80.0,122.0,98.0,104.0,127.0,100.0,93.0,124.0,114.0,90.0,101.0,107.0,127.0,115.0,80.0,102.0,109.0,100.0,113.0,105.0,117.0,107.0,83.0,129.0,106.0,128.0,103.0,81.0,100.0,94.0,110.0,88.0,140.0,97.0,77.0,91.0,101.0,106.0,135.0,115.0,110.0,111.0,90.0,108.0,99.0,99.0,108.0,111.0,108.0,158.0,91.0,112.0,109.0,88.0,88.0,111.0,135.0,123.0,120.0,94.0,88.0,95.0,80.0,134.0,106.0,96.0,112.0,101.0,132.0,103.0,123.0,89.0,92.0,147.0,101.0,95.0,112.0,81.0,121.0,104.0,107.0,128.0,117.0,117.0,104.0,107.0,101.0,88.0,132.0,98.0,109.0,95.0,81.0,108.0,123.0,79.0,102.0,119.0,102.0,109.0,89.0,113.0,123.0,110.0,84.0,81.0,99.0,98.0,105.0,110.0,100.0,114.0,105.0,109.0,132.0,97.0,92.0,81.0,99.0,98.0,95.0,96.0,108.0,90.0,116.0,89.0,107.0,97.0,101.0,94.0,100.0,96.0,101.0,97.0,94.0,104.0,76.0,115.0,94.0,90.0,123.0,108.0,142.0,94.0,111.0,107.0,94.0,105.0,91.0,106.0,102.0,154.0,97.0,92.0,143.0,75.0,81.0,106.0,96.0,100.0,141.0,98.0,109.0,107.0,110.0,94.0,83.0,89.0,84.0,90.0,86.0,87.0,84.0,94.0,90.0,101.0,105.0,100.0,95.0,116.0,95.0,69.0,86.0,88.0,125.0,94.0,119.0,109.0,96.0,93.0,85.0,108.0,105.0,111.0,95.0,115.0,125.0,80.0,130.0,122.0,87.0,88.0,105.0,121.0,82.0,97.0,92.0,108.0,133.0,96.0,95.0,110.0,93.0,94.0,90.0,102.0,95.0,126.0,162.0,100.0,93.0,98.0,101.0,144.0,93.0,91.0,95.0,95.0,123.0,108.0,82.0,98.0,158.0,99.0,96.0,83.0,91.0,97.0,79.0,117.0,161.0,96.0,103.0,100.0,126.0,94.0,110.0,111.0,111.0,93.0,118.0,107.0,126.0,97.0,189.0,91.0,163.0,91.0,84.0,139.0,120.0,93.0,100.0,115.0,94.0,93.0,125.0,91.0,101.0,85.0,108.0,142.0,88.0,100.0,161.0,79.0,102.0,91.0,118.0,113.0,96.0,170.0,116.0,98.0,106.0,90.0,92.0,100.0,117.0,89.0,84.0,121.0,98.0,124.0,96.0,93.0,101.0,106.0,89.0,140.0,125.0,95.0,129.0,92.0,102.0,116.0,105.0,112.0,99.0,98.0,134.0,127.0,103.0,75.0,90.0,85.0,101.0,101.0,108.0,90.0,102.0,114.0,78.0,98.0,96.0,101.0,98.0,103.0,85.0,88.0,111.0,142.0,125.0,98.0,82.0,96.0,127.0,96.0,92.0,102.0,88.0,120.0,108.0,91.0,90.0,91.0,123.0,85.0,128.0,102.0,120.0,93.0,100.0,104.0,116.0,87.0,104.0,113.0,104.0,103.0,117.0,126.0,79.0,87.0,193.0,107.0,165.0,109.0,105.0,87.0,85.0,124.0,119.0,134.0,133.0,98.0,103.0,103.0,95.0,95.0,105.0,80.0,104.0,101.0,93.0,103.0,195.0,101.0,97.0,109.0,83.0,90.0,81.0,109.0,86.0,109.0,80.0,118.0,119.0,95.0,97.0,102.0,83.0,119.0,89.0,117.0,127.0,78.0,128.0,112.0,119.0,132.0,92.0,150.0,110.0,119.0,101.0,101.0,99.0,94.0,100.0,94.0,95.0,104.0,116.0,95.0,97.0,121.0,99.0,91.0,88.0,124.0,119.0,84.0,105.0,103.0,88.0,91.0,124.0,90.0,85.0,91.0,107.0,138.0,124.0,95.0,110.0,92.0,100.0,132.0,87.0,84.0,123.0,98.0,109.0,91.0,107.0,84.0,135.0,89.0,164.0,123.0,100.0,109.0,90.0,96.0,110.0,160.0,113.0,123.0,103.0,96.0,145.0,97.0,115.0,106.0,99.0,118.0,97.0,145.0,115.0,114.0,132.0,107.0,126.0,101.0,84.0,106.0,129.0,95.0,112.0,86.0,103.0,141.0,104.0,108.0,98.0,160.0,107.0,95.0,146.0,109.0,95.0,106.0,92.0,98.0,143.0,117.0,93.0,94.0,96.0,117.0,102.0,88.0,98.0,95.0,157.0,172.0,119.0,120.0,108.0,99.0,71.0,95.0,96.0,89.0,108.0,86.0,95.0,86.0,113.0,134.0,91.0,104.0,140.0,80.0,146.0,125.0,107.0,90.0,100.0,91.0,98.0,120.0,93.0,100.0,87.0,111.0,93.0,106.0,79.0,104.0,98.0,107.0,128.0,88.0,115.0,88.0,118.0,115.0,104.0,84.0,136.0,98.0,94.0,82.0,88.0,117.0,95.0,102.0,96.0,94.0,98.0,110.0,104.0,106.0,124.0,112.0,202.0,123.0,125.0,116.0,123.0,95.0,119.0,97.0,132.0,137.0,100.0,88.0,124.0,104.0,93.0,108.0,89.0,96.0,103.0,137.0,87.0,105.0,97.0,100.0,78.0,95.0,100.0,114.0,121.0,111.0,96.0,96.0,112.0,97.0,122.0,83.0,98.0,106.0,111.0,118.0,116.0,120.0,93.0,87.0,95.0,88.0,99.0,116.0,99.0,88.0,101.0,82.0,99.0,85.0,90.0,100.0,119.0,94.0,123.0,93.0,110.0,87.0,103.0,89.0,110.0,93.0,103.0,178.0,104.0,103.0,146.0,96.0,97.0,95.0,102.0,109.0,103.0,101.0,114.0,122.0,106.0,107.0,104.0,102.0,98.0,101.0,93.0,88.0,107.0,94.0,100.0,128.0,112.0,109.0,87.0,92.0,107.0,118.0,95.0,129.0,150.0,115.0,110.0,138.0,95.0,107.0,97.0,116.0,93.0,100.0,85.0,111.0,88.0,113.0,107.0,97.0,133.0,91.0,95.0,102.0,92.0,128.0,94.0,105.0,82.0,180.0,119.0,93.0,77.0,112.0,97.0,170.0,141.0],\"y\":[6.7,5.4,7.4,6.1,5.0,7.1,6.7,6.5,3.4,5.0,7.5,6.9,6.5,4.0,7.0,7.2,6.9,5.3,6.2,5.6,6.6,7.4,5.2,6.5,2.2,5.7,7.6,6.9,4.8,5.9,4.5,6.5,7.0,5.9,7.0,6.3,6.2,3.7,6.1,7.1,6.7,6.7,6.0,5.7,6.2,7.0,5.7,7.1,6.2,5.4,8.1,6.0,6.6,6.4,5.1,6.3,6.5,6.6,4.9,6.1,3.8,7.2,6.8,6.3,4.6,8.0,3.9,5.8,5.9,6.7,5.9,6.0,5.5,8.0,6.0,8.3,6.4,8.4,7.4,6.3,8.7,5.9,5.3,5.0,7.2,6.1,7.5,6.5,7.1,6.4,6.1,7.1,5.4,6.1,4.6,7.3,6.1,4.3,6.9,7.4,5.9,6.7,7.9,7.1,7.5,6.5,6.9,6.8,7.2,6.8,8.1,5.4,6.7,5.8,7.2,5.4,6.5,6.7,8.0,8.0,5.5,5.9,5.3,7.0,5.5,5.4,5.5,8.6,5.9,5.7,6.3,8.0,5.8,6.8,4.9,7.3,4.9,4.7,6.0,7.3,6.7,7.2,6.7,5.4,6.9,6.0,6.1,7.6,6.8,6.1,8.2,6.3,5.1,8.5,6.5,7.3,7.9,7.0,5.5,6.4,5.9,6.0,6.9,7.4,5.3,6.7,6.7,6.4,6.7,4.4,6.1,6.2,5.1,3.5,5.6,7.6,6.6,5.6,7.1,6.0,6.3,8.1,5.2,6.0,3.0,7.1,4.3,2.9,6.6,7.8,7.6,7.6,6.1,3.4,7.3,4.6,8.4,6.8,6.5,5.6,5.7,7.0,7.3,6.6,5.8,4.3,6.5,7.1,6.9,3.7,5.3,5.3,5.6,6.2,6.6,7.7,7.2,6.7,8.0,6.6,6.1,6.8,7.7,6.3,2.8,7.0,7.2,6.0,7.1,6.6,6.7,5.6,6.5,4.7,6.4,7.0,5.2,6.6,5.3,5.9,7.9,4.4,4.2,6.4,7.6,6.2,5.1,6.2,5.4,7.1,7.2,6.1,6.0,4.9,7.6,6.8,6.4,7.1,6.7,5.8,7.1,4.5,5.2,6.7,7.6,6.2,7.5,6.8,6.6,5.8,7.7,6.8,6.8,6.6,6.8,7.1,7.3,4.4,6.5,6.6,6.1,7.2,5.8,6.9,6.8,6.7,6.8,7.3,7.4,6.4,7.1,5.8,6.2,7.3,6.5,6.6,5.7,6.3,7.5,6.2,3.2,5.3,7.7,5.8,6.1,6.3,4.6,7.3,6.3,6.2,6.5,7.8,6.5,5.6,6.3,6.4,6.7,6.9,5.8,6.1,7.8,6.5,5.4,6.1,7.3,7.6,7.2,5.1,5.8,7.3,7.1,5.8,7.4,5.3,5.9,7.3,5.6,6.8,5.9,5.7,6.4,7.4,4.4,6.7,7.3,5.2,6.1,5.8,7.0,6.4,5.5,6.8,7.3,5.8,4.9,5.6,4.9,6.5,6.6,6.1,5.8,5.1,6.1,5.7,6.3,6.9,5.6,6.1,6.0,5.2,7.7,4.9,6.4,7.6,4.7,4.6,7.2,7.6,5.5,7.2,5.8,4.8,6.7,7.9,5.9,5.9,5.7,7.7,6.5,6.3,4.8,4.9,6.2,6.6,5.1,6.6,6.0,7.2,6.6,3.9,7.6,7.1,6.2,5.3,6.8,7.0,6.5,6.6,6.3,6.4,5.7,6.2,6.4,6.2,5.8,6.9,3.2,5.6,5.4,6.6,6.1,5.6,6.0,7.6,6.8,6.5,5.5,5.9,6.9,5.2,6.7,6.7,6.2,6.7,8.5,6.9,7.5,6.3,6.0,4.8,2.9,5.5,7.1,7.1,5.4,5.4,6.4,3.5,5.3,3.6,6.1,6.5,6.8,6.0,6.4,6.6,6.1,6.2,7.0,7.0,7.6,5.5,7.1,6.1,5.5,7.2,6.9,6.8,4.4,7.5,8.1,7.2,8.3,7.5,6.5,6.0,7.6,5.6,5.5,5.5,6.5,6.4,6.7,5.0,6.5,7.7,7.1,6.6,6.7,4.5,7.0,5.8,5.0,6.3,4.1,6.7,6.7,5.8,6.5,7.1,6.6,5.9,5.4,6.0,4.7,7.7,4.8,7.5,6.6,7.4,5.8,7.1,4.6,6.1,6.6,5.1,8.5,5.1,7.4,7.0,4.2,4.4,6.1,6.5,6.7,6.4,6.6,6.3,6.5,8.3,5.6,5.4,6.2,4.9,6.5,6.6,5.0,5.9,7.7,4.4,5.5,5.6,4.3,5.2,5.8,6.2,6.4,7.9,8.0,7.4,7.0,8.1,7.8,6.4,5.7,7.2,6.4,7.7,8.2,6.2,5.5,5.8,6.0,7.9,5.9,6.4,7.3,5.6,7.5,7.2,6.8,2.4,6.7,5.3,3.9,6.2,6.4,5.6,4.5,7.1,5.7,5.0,6.3,6.1,5.7,5.9,7.7,7.3,6.4,6.9,6.4,6.3,6.5,7.6,6.8,6.7,7.2,7.1,6.9,6.5,7.0,6.3,6.4,7.4,5.4,6.7,7.1,5.9,7.2,6.8,5.0,6.2,6.6,5.4,8.0,6.5,6.9,5.1,3.0,5.7,5.9,5.9,6.6,6.6,7.3,6.9,6.8,6.6,6.3,4.6,5.5,5.9,6.8,7.0,7.2,7.2,5.5,7.3,4.6,6.5,4.4,6.7,5.3,6.7,5.6,7.7,7.5,5.7,8.4,7.2,6.7,6.2,6.7,6.0,7.8,5.6,7.1,6.1,7.1,5.6,6.9,5.8,4.8,4.7,7.3,6.2,5.8,6.8,6.7,6.8,4.4,6.3,5.1,6.0,5.6,3.3,7.4,6.9,5.3,4.3,5.4,6.6,7.7,7.5,7.4,6.7,7.2,6.2,6.2,6.7,6.1,6.2,5.2,5.0,6.2,7.2,5.6,7.0,5.9,5.7,7.0,6.0,6.9,5.7,6.9,7.4,5.5,6.7,7.6,6.9,6.8,4.6,6.1,5.8,7.7,7.3,5.8,7.6,6.9,7.4,5.7,6.8,8.1,6.6,5.1,6.6,5.7,5.8,7.3,6.5,4.6,7.4,5.6,3.8,6.5,5.4,7.5,5.1,6.9,4.9,5.0,6.5,7.7,5.3,7.7,7.1,6.6,6.5,7.5,4.2,5.8,5.8,4.2,5.7,5.8,5.1,4.6,7.7,4.4,7.0,6.6,4.9,5.7,6.8,6.0,6.7,6.4,6.7,5.3,5.1,4.8,6.7,6.8,5.6,6.7,6.6,6.3,6.6,6.8,7.2,5.7,6.7,6.2,6.7,6.9,6.7,5.0,6.8,5.7,6.9,5.0,6.8,6.3,6.7,8.0,4.6,4.3,6.3,2.1,5.7,3.6,6.4,6.6,6.6,5.6,7.5,6.7,6.2,5.8,5.8,3.7,5.4,7.9,7.7,5.5,7.4,8.3,7.2,6.9,5.5,7.3,8.7,5.8,5.3,7.6,5.7,5.8,5.5,6.6,5.5,5.2,7.4,6.1,5.6,5.6,7.1,7.1,6.0,7.3,6.6,6.6,4.6,7.6,6.9,7.3,5.5,6.4,6.2,6.2,6.2,4.8,5.9,7.2,5.5,5.9,8.0,5.8,3.3,7.8,6.8,5.1,6.7,5.6,7.8,4.9,7.1,5.7,8.0,7.0,6.4,5.1,7.3,6.1,5.6,7.9,7.6,8.2,4.2,6.5,5.2,5.8,7.4,4.9,4.2,6.3,7.3,7.2,6.5,6.6,6.1,4.3,5.6,6.2,7.7,5.9,4.7,5.7,5.2,6.6,5.9,6.5,5.2,7.5,8.0,6.8,5.1,6.7,6.3,8.3,7.2,5.3,5.0,7.0,4.0,6.3,7.8,5.7,7.4,5.1,7.5,5.2,5.3,6.6,6.5,6.5,5.6,7.5,5.5,5.7,7.4,5.3,6.4,6.3,6.9,6.2,5.6,5.6,7.6,7.1,7.3,6.7,6.5,7.1,5.1,7.1,5.8,7.0,6.3,5.6,7.8,6.9,6.3,6.8,5.0,6.9,5.3,7.5,4.3,7.8,7.0,7.0,5.2,6.7,7.0,5.9,7.1,7.4,3.7,8.8,8.5,6.7,6.7,7.7,6.8,6.3,5.1,6.1,6.4,6.4,6.0,5.9,4.2,6.7,6.4,6.4,6.8,7.0,7.2,7.6,5.0,7.1,6.8,6.3,7.6,7.4,5.9,6.1,6.1,6.7,3.1,3.4,7.4,6.5,5.9,6.9,6.2,6.4,5.9,8.5,6.5,7.0,5.9,7.2,6.8,4.4,7.5,5.2,3.9,6.0,2.3,2.0,5.5,5.3,5.7,6.1,7.6,5.7,6.9,6.1,7.3,5.8,5.9,6.7,5.7,5.7,7.4,5.9,6.4,5.7,6.7,7.0,8.8,7.3,7.6,5.9,7.1,8.0,6.6,7.7,7.3,6.1,7.4,6.4,6.0,7.3,5.2,6.9,6.3,6.6,6.5,5.2,6.5,6.4,6.7,5.7,6.2,6.2,6.1,3.8,6.7,6.5,7.2,6.7,6.8,7.1,6.6,6.2,5.5,8.5,4.7,6.3,6.9,6.0,5.8,6.5,6.2,5.9,6.2,6.0,5.2,6.4,7.1,4.6,7.0,6.2,5.9,5.4,7.3,6.7,6.7,7.7,8.4,4.5,6.6,7.0,7.4,6.0,5.6,7.2,4.8,6.6,6.2,5.4,6.8,7.6,7.0,7.7,5.7,6.7,5.9,5.4,6.9,6.2,6.9,7.4,6.8,7.0,6.5,7.4,6.5,6.4,6.5,5.9,5.1,7.7,7.3,7.3,6.9,5.3,5.6,6.2,7.3,6.3,7.4,6.4,8.7,5.3,6.7,6.1,7.5,5.9,5.9,3.5,4.6,6.6,4.4,7.0,3.0,4.4,6.2,6.8,5.9,7.1,6.3,7.0,7.1,5.9,9.0,6.7,5.5,7.2,7.6,6.4,6.2,6.8,5.4,5.6,6.7,5.9,3.4,5.2,6.7,5.6,3.6,7.8,5.7,7.8,8.2,7.4,8.0,6.8,5.5,5.6,7.3,6.2,6.2,5.7,6.1,4.5,4.4,6.0,4.9,5.5,5.5,7.2,7.0,7.5,3.9,6.1,6.8,6.6,6.0,6.8,7.3,7.0,7.2,4.3,8.2,6.8,4.4,6.5,5.5,5.7,3.2,5.4,6.2,5.9,4.9,5.4,5.7,5.9,6.4,7.2,6.4,4.9,5.8,6.3,7.8,6.1,5.3,3.8,7.0,5.3,6.5,4.4,7.5,5.5,6.0,5.8,5.8,5.4,5.3,5.8,7.8,5.4,6.9,6.6,5.3,6.6,4.9,5.9,3.6,7.6,5.6,6.3,6.6,4.5,6.6,8.2,5.6,5.4,5.3,7.8,6.7,7.9,7.2,8.0,6.2,5.7,5.4,5.8,5.8,6.5,8.3,4.2,6.2,4.6,6.5,7.1,6.7,6.7,8.6,5.1,1.9,7.6,7.1,5.5,6.0,5.9,6.3,6.7,2.4,6.0,2.9,7.0,6.0,6.3,5.8,6.3,6.0,8.1,4.8,5.8,7.4,5.7,6.4,7.0,6.4,5.0,5.4,5.8,7.9,6.5,6.4,6.3,5.5,6.8,7.8,7.4,7.3,6.0,6.1,6.5,6.7,7.1,6.3,7.8,4.8,6.1,5.3,7.2,5.7,6.1,7.5,6.5,6.7,2.9,6.5,7.3,5.7,5.3,7.1,5.6,6.6,7.2,6.2,8.8,7.1,5.8,5.5,6.6,6.4,6.3,6.2,6.9,6.2,6.5,5.9,5.8,7.2,7.2,5.8,7.2,6.1,5.9,7.0,4.8,5.2,5.0,7.3,4.7,6.5,6.0,7.3,7.0,5.4,6.6,6.4,6.8,7.8,5.8,6.8,7.4,4.9,5.7,8.0,5.6,6.8,4.2,5.7,6.0,5.3,7.3,5.9,6.8,6.3,6.5,6.7,6.2,7.6,4.9,6.6,6.4,6.3,5.5,4.3,4.5,5.5,6.0,6.8,6.2,8.1,6.6,5.9,6.1,5.3,6.4,5.7,7.7,4.7,7.1,6.4,6.4,7.3,7.3,7.1,6.1,6.2,6.8,6.1,7.6,5.9,4.6,7.7,6.4,6.5,2.4,6.5,3.8,6.8,4.7,7.6,6.0,4.3,6.7,6.1,7.7,6.4,6.5,5.1,5.4,5.7,6.8,5.4,4.2,4.7,6.4,7.5,7.0,7.1,7.0,7.1,6.3,6.7,6.7,7.2,7.7,5.4,7.4,5.3,5.3,7.3,6.3,4.3,6.8,7.1,6.1,6.6,6.8,5.5,6.3,5.1,6.1,6.7,5.8,4.6,5.8,5.9,6.2,6.5,5.4,5.5,7.5,5.9,5.6,7.3,7.3,7.0,6.7,6.6,6.7,4.1,5.6,6.6,3.5,6.3,7.2,6.4,5.7,7.2,5.2,7.1,7.1,6.0,5.3,5.8,6.7,6.4,4.7,5.9,6.0,5.9,7.7,7.9,6.6,5.8,7.5,6.2,3.9,7.0,7.1,6.5,6.1,7.1,7.3,4.0,6.1,6.7,5.6,6.4,7.2,5.1,5.8,5.5,4.7,6.3,5.8,5.4,6.1,6.8,7.5,6.2,3.9,5.7,7.7,6.2,6.0,7.6,6.5,6.2,5.1,5.9,6.8,5.9,6.2,5.1,5.9,5.9,7.8,6.7,7.2,6.7,7.2,6.3,5.4,6.2,7.5,7.1,6.6,6.5,4.3,6.3,6.1,5.6,6.3,6.9,6.5,5.3,7.5,7.0,6.2,5.5,6.5,7.1,6.6,6.7,6.8,6.3,6.9,6.3,6.3,6.9,5.6,5.8,4.3,2.0,7.0,5.5,7.2,7.1,6.4,6.3,5.6,6.2,5.6,7.4,4.8,5.2,5.5,7.1,6.2,6.8,6.8,3.8,6.5,6.7,6.3,6.3,7.4,7.2,6.6,7.7,6.6,7.3,6.3,6.0,6.9,6.3,5.7,6.8,5.9,5.8,6.1,6.0,6.6,6.6,4.8,4.7,5.7,6.1,6.7,4.5,6.6,6.8,5.3,6.9,6.6,6.5,6.0,4.8,5.3,5.7,7.5,6.4,5.7,5.6,7.1,6.9,7.2,5.7,8.5,7.2,4.0,7.3,6.3,1.8,6.9,6.6,7.1,6.6,6.4,5.8,5.7,6.6,7.0,7.2,6.3,5.8,6.5,7.5,6.5,7.0,6.3,7.1,7.4,5.7,7.1,6.5,6.9,6.0,7.1,6.3,6.5,5.5,6.5,7.2,4.3,6.5,7.0,6.3,6.6,6.9,6.4,7.5,5.4,7.2,6.2,6.1,7.6,5.4,6.6,7.0,6.1,7.1,6.6,7.7,6.5,5.4,7.6,5.9,5.2,5.3,7.6,5.8,4.9,4.7,6.4,7.1,6.9,5.4,7.1,6.9,2.3,6.1,6.6,6.1,5.4,6.1,2.7,6.3,6.4,6.0,7.7,6.1,6.5,3.3,5.9,7.2,5.2,5.1,7.6,2.3,5.2,5.7,6.6,7.5,6.2,4.6,6.3,5.1,5.4,6.1,5.4,6.1,7.1,7.4,6.3,6.8,6.5,7.1,7.4,7.6,6.4,7.4,6.7,7.6,6.0,7.8,6.1,7.1,6.9,6.5,6.2,6.1,7.2,7.4,5.7,7.8,3.8,6.2,6.8,4.1,5.4,7.3,4.5,6.7,5.1,7.1,5.1,7.4,7.3,3.4,6.4,4.7,7.6,8.5,5.7,5.5,5.8,6.1,7.8,5.7,5.6,7.3,6.5,7.1,7.2,6.1,5.5,6.6,7.2,6.1,6.4,6.5,6.7,7.2,7.0,7.2,7.6,6.1,6.3,5.2,5.9,5.7,6.1,5.4,6.1,6.8,6.5,6.9,7.2,7.3,5.3,7.0,5.1,6.0,7.6,5.6,5.3,6.1,4.4,6.6,6.6,4.1,6.9,6.3,6.9,5.8,5.9,6.3,6.3,7.5,8.6,7.3,7.1,6.0,7.2,6.2,6.8,6.0,7.0,7.3,6.3,7.0,5.2,5.7,6.9,5.9,7.5,6.6,7.5,6.3,7.3,5.9,6.2,6.0,5.3,6.6,6.6,5.7,6.3,6.0,4.9,7.4,7.8,7.1,6.8,7.3,6.7,3.7,6.0,6.9,5.1,7.6,6.0,8.1,6.4,7.5,7.4,6.7,5.7,5.4,7.1,5.5,7.0,5.6,6.1,5.7,7.4,6.4,5.9,6.8,6.7,6.6,5.3,7.8,5.7,6.6,7.1,7.3,5.8,4.7,5.4,6.0,5.2,5.9,7.7,8.6,5.2,5.8,7.2,5.9,6.1,6.0,5.7,5.9,6.1,6.4,6.1,5.9,5.4,7.2,6.8,7.4,7.8,6.0,7.2,7.2,6.7,5.2,6.9,7.2,5.2,7.4,6.6,6.6,7.4,5.8,6.1,4.7,6.4,4.9,3.5,6.7,6.6,6.6,5.2,5.8,6.7,6.2,6.9,6.4,6.3,6.5,8.1,6.8,7.0,6.8,6.1,8.0,6.1,6.1,5.7,7.6,7.4,5.5,5.7,6.7,6.1,7.2,7.9,2.9,3.3,6.3,6.4,5.3,7.9,6.8,7.7,6.7,7.5,5.5,4.4,7.8,7.7,5.9,5.5,6.4,5.6,6.1,7.5,7.0,6.8,7.0,6.8,6.9,7.8,5.7,8.3,6.7,6.3,6.0,5.8,5.9,6.0,6.3,5.2,6.6,7.8,6.0,5.1,5.5,7.4,6.4,7.7,7.2,5.8,6.7,8.0,6.3,6.5,6.5,6.6,6.9,6.1,6.7,6.8,5.9,6.5,6.7,6.2,6.8,5.5,5.0,6.3,7.7,7.3,6.4,6.0,5.9,7.2,7.6,7.0,5.3,7.0,6.2,4.9,4.4,5.4,8.7,6.8,6.6,4.4,7.0,6.9,5.8,5.7,5.8,6.4,6.3,5.9,5.9,4.5,6.6,6.2,6.7,7.5,6.9,5.1,5.3,5.2,5.8,6.9,7.2,6.5,6.8,7.4,7.7,6.3,6.4,5.5,2.2,8.4,6.2,7.5,5.5,7.1,7.3,6.2,7.3,4.0,7.0,5.5,6.2,6.1,7.3,5.1,8.0,5.1,5.7,5.6,5.2,5.8,5.1,7.9,6.7,3.6,4.3,7.4,6.3,6.4,7.9,6.3,6.8,6.0,3.7,6.2,7.6,6.5,6.8,4.4,5.4,4.3,7.1,7.7,6.2,7.3,5.3,5.2,7.2,6.5,6.3,6.6,6.4,4.6,7.1,7.4,7.2,7.0,5.8,7.1,6.8,5.6,6.1,6.8,4.3,5.7,6.3,7.8,6.9,7.9,7.0,7.2,6.5,6.3,7.4,6.3,7.7,6.5,5.3,5.2,6.9,6.2,7.6,7.2,6.8,6.9,7.9,7.1,7.8,7.9,6.8,6.3,7.4,6.9,7.6,5.4,5.3,5.7,6.5,5.2,4.7,6.4,5.5,7.4,6.6,4.7,7.3,5.5,7.3,6.5,6.8,5.4,6.5,6.8,7.0,6.3,5.8,7.4,5.9,7.8,6.6,5.1,5.6,5.9,6.1,7.7,6.8,7.4,6.6,6.6,6.6,5.9,8.0,6.6,4.7,5.9,6.1,7.0,6.3,7.1,7.5,3.8,6.3,4.4,7.6,6.6,5.3,6.7,6.3,7.0,4.8,4.4,5.9,4.4,5.7,7.4,6.4,6.9,4.9,5.8,6.6,7.1,7.7,6.3,5.1,4.2,6.4,5.9,5.8,2.8,5.5,5.1,6.3,6.4,7.1,7.5,5.0,8.0,6.2,5.1,5.7,6.5,5.6,7.4,7.8,6.7,5.3,6.8,5.4,5.3,6.5,6.2,7.3,6.3,6.5,2.6,5.2,5.9,7.1,6.7,7.3,6.4,8.5,5.4,7.8,4.3,7.6,5.7,7.9,7.5,6.8,6.7,6.3,5.6,7.5,4.8,5.4,7.4,5.4,6.1,7.2,6.6,5.7,7.1,6.4,6.5,7.5,7.3,6.2,6.2,3.5,6.5,7.3,5.5,5.0,5.8,7.4,5.7,6.3,5.8,4.1,5.6,3.6,4.9,7.0,6.5,6.1,5.8,6.8,7.4,7.2,6.5,6.9,6.2,5.4,5.7,5.6,6.1,6.5,5.6,6.2,6.6,6.6,5.3,7.4,5.0,6.1,7.8,7.1,4.8,5.3,4.1,5.9,5.7,3.9,5.6,6.1,7.9,5.3,7.6,8.1,6.2,7.1,5.3,7.9,4.7,7.7,4.3,7.0,7.4,5.9,5.4,6.8,4.8,6.7,5.6,5.1,6.7,7.0,8.1,5.5,5.7,7.5,7.3,7.8,3.9,7.3,7.1,6.5,7.2,5.1,5.0,6.0,6.5,7.0,6.8,5.5,6.5,5.3,4.2,7.5,7.2,6.5,6.7,4.9,7.8,7.1,4.9,5.4,6.8,6.0,6.6,7.0,6.6,7.7,3.9,4.8,5.9,6.3,6.7,6.9,7.1,6.2,6.6,6.1,7.2,5.2,6.7,5.9,5.4,5.5,6.4,6.0,7.2,6.7,6.2,6.4,6.3,5.5,6.6,5.6,6.9,6.6,7.6,6.4,8.1,5.7,6.0,5.9,7.1,6.6,7.0,5.6,7.7,7.6,5.4,6.1,4.6,7.3,7.3,5.9,5.5,6.6,7.7,5.7,6.6,7.2,5.9,6.9,4.8,2.9,7.3,7.3,3.6,5.3,5.1,6.3,6.3,5.0,4.8,5.2,6.3,4.7,7.1,5.4,8.8,7.6,8.1,7.0,3.9,7.5,6.1,6.8,6.0,7.1,6.4,6.8,6.7,7.1,6.4,6.7,7.1,6.8,7.0,6.6,5.4,6.5,7.6,6.9,6.1,6.8,8.1,6.1,6.4,6.2,6.4,7.4,4.5,5.4,7.4,6.5,6.3,4.9,5.7,7.1,6.7,7.1,7.8,6.3,7.7,5.9,6.6,5.9,5.0,6.4,6.0,6.5,5.5,8.4,7.6,7.4,6.6,5.5,5.1,6.6,8.4,6.3,6.4,6.3,6.4,8.2,6.2,6.0,7.5,7.8,7.6,7.6,6.1,5.7,5.9,4.4,5.5,7.8,7.4,5.8,6.2,5.1,5.9,6.8,3.2,5.3,7.0,7.7,6.3,5.9,7.4,6.8,7.6,6.2,7.4,5.7,8.3,6.7,7.2,5.6,5.2,5.7,6.1,4.9,6.4,3.5,7.0,7.0,6.3,6.1,6.5,7.4,6.5,7.6,5.0,7.0,7.3,7.8,6.8,6.1,7.5,4.8,6.4,6.7,6.7,5.8,6.6,5.9,6.7,3.5,7.3,7.4,6.0,4.2,5.2,7.9,5.6,6.2,5.1,5.9,6.3,7.6,6.8,5.7,6.6,5.6,7.6,6.5,7.2,6.5,7.0,7.5,7.2,6.6,6.5,5.7,5.9,7.1,8.0,5.8,7.0,6.3,6.1,6.1,6.0,5.9,7.4,5.6,7.2,5.9,7.8,7.1,6.7,5.7,5.7,6.3,6.2,4.8,5.5,6.1,5.8,6.8,4.9,6.5,8.2,6.2,5.0,6.9,6.6,5.8,6.1,5.8,2.9,6.1,5.3,7.4,4.8,2.3,6.0,6.1,7.1,7.4,6.3,6.4,6.1,2.9,4.2,6.1,7.2,6.0,6.4,8.1,8.1,6.2,8.4,5.9,6.2,6.5,7.7,5.4,6.9,3.6,5.9,6.8,6.7,7.0,6.1,6.0,8.4,4.7,6.4,6.6,7.6,6.8,7.3,6.0,7.3,4.6,7.7,7.4,6.0,6.0,7.5,6.2,7.9,8.4,4.8,6.2,6.4,6.2,2.4,6.2,7.3,5.9,6.8,6.7,6.5,6.4,6.6,6.8,6.7,7.0,6.2,6.5,7.0,7.1,6.3,6.2,5.5,6.6,4.6,7.0,5.7,8.0,6.9,5.9,3.0,7.7,6.7,7.9,3.6,5.8,7.7,3.6,6.9,6.1,5.3,7.3,5.3,6.9,5.9,6.0,7.8,7.6,4.8,6.3,6.4,7.4,6.1,3.0,7.0,6.6,3.4,6.3,6.5,7.1,6.8,5.5,6.5,6.0,7.3,6.4,6.3,6.1,6.8,7.2,6.6,7.6,8.1,6.2,5.6,4.6,6.7,6.7,5.2,6.0,5.9,6.5,6.1,7.3,5.4,3.2,6.5,6.5,7.6,6.0,6.4,6.7,5.3,7.5,7.0,4.1,6.8,4.9,7.1,6.1,6.3,7.1,5.6,7.6,5.9,5.6,7.2,8.0,7.1,5.7,7.4,6.6,6.8,6.1,7.1,6.7,7.4,6.9,6.7,4.4,7.6,5.7,7.1,8.0,6.9,4.3,5.8,4.6,5.9,5.4,6.9,6.6,6.7,7.9,7.0,6.9,5.0,6.5,7.3,5.8,3.1,7.8,6.2,6.8,7.2,7.0,5.3,5.0,7.6,4.5,6.8,7.2,8.4,6.7,7.2,5.7,7.7,6.4,6.6,4.8,5.3,6.7,6.9,5.2,7.2,6.5,7.5,6.9,6.1,4.2,5.9,5.7,6.0,6.0,5.2,6.9,5.6,7.1,6.9,5.9,5.3,6.1,7.3,6.0,7.8,7.7,7.3,3.5,6.8,7.3,6.2,7.6,6.2,4.2,4.4,6.5,6.8,6.7,6.0,5.9,2.8,6.9,6.5,5.6,6.8,7.8,5.6,6.0,6.5,7.3,5.8,7.3,7.1,6.0,5.4,5.9,6.9,7.0,6.6,6.3,6.1,6.1,5.2,4.1,7.3,5.8,7.2,7.2,5.9,6.8,6.8,7.1,5.4,6.9,7.7,7.0,7.0,6.5,7.5,7.5,6.1,6.4,6.7,6.7,4.4,6.1,6.4,8.5,6.3,6.8,7.3,7.1,5.4,5.9,6.4,6.7,6.7,6.7,5.8,6.6,5.3,7.1,6.2,3.5,5.5,7.8,5.9,6.3,8.0,5.1,7.2,7.2,6.5,6.7,4.9,6.1,6.6,5.9,7.7,7.3,6.1,6.2,6.4,7.4,7.2,6.9,6.9,6.8,7.3,6.6,7.1,6.8,4.7,5.1,6.4,7.4,6.3,6.4,7.5,5.2,5.2,6.6,7.3,5.3,6.6,6.8,6.6,8.1,7.0,5.5,3.8,6.2,7.0,5.9,4.1,6.5,7.1,6.8,6.2,7.0,5.7,6.9,6.0,6.2,7.8,7.9,6.1,6.9,6.0,5.8,7.5,4.5,6.1,5.6,7.5,4.6,6.8,2.7,7.1,6.5,6.2,6.7,5.5,6.7,4.3,7.3,6.7,4.7,5.3,7.5,5.9,6.4,6.4,4.5,6.3,6.1,6.1,5.4,5.8,7.7,7.2,8.2,5.4,6.3,7.7,7.5,6.0,6.1,4.8,5.4,7.5,5.1,2.7,7.0,7.0,7.6,6.2,6.7,7.0,7.6,7.6,4.2,4.9,6.6,5.1,7.3,5.8,5.0,7.6,7.1,8.0,3.4,6.5,6.4,7.1,4.3,6.8,6.2,6.6,5.9,5.7,6.1,6.1,7.5,7.0,6.8,6.1,6.4,6.1,5.2,6.4,7.3,6.9,5.7,4.0,6.4,7.8,6.9,7.3,4.1,5.8,6.7,6.8,5.1,4.7,2.8,4.4,5.4,5.7,6.0,6.7,6.5,6.1,6.4,7.1,6.2,6.0,7.6,7.4,5.1,5.5,7.7,6.7,6.1,5.9,8.2,4.1,4.1,6.4,5.0,4.1,6.9,6.3,6.5,5.3,5.9,5.7,5.6,7.3,6.0,6.5,4.1,6.3,7.4,7.3,5.7,7.8,3.6,7.2,6.4,7.3,6.5,4.8,7.1,7.3,3.5,6.6,6.2,6.2,5.6,7.7,6.4,7.9,6.3,2.5,7.4,7.4,3.3,5.9,7.0,5.2,5.9,7.2,6.9,6.6,6.1,7.2,5.8,5.4,4.0,6.7,5.5,8.0,5.9,6.5,6.5,7.0,6.1,4.8,6.3,7.3,5.9,6.6,6.4,4.1,4.4,4.7,4.3,6.0,6.6,6.9,4.9,6.4,5.4,7.2,6.2,6.1,4.7,8.0,6.8,6.0,6.8,6.5,5.7,5.8,6.8,5.5,7.9,6.3,6.4,5.3,6.6,7.4,5.9,6.6,6.3,4.6,4.5,7.6,7.1,6.8,6.5,5.5,7.4,6.4,5.9,7.8,7.6,5.6,5.5,6.6,6.5,6.5,7.4,5.7,4.8,8.1,7.0,6.2,6.7,8.2,5.4,5.0,5.4,7.2,7.4,5.8,6.6,5.7,8.0,6.0,5.9,5.4,6.7,6.1,5.9,5.1,7.1,5.0,6.2,5.7,5.1,6.0,5.6,8.6,6.9,5.1,7.0,4.8,4.2,7.6,6.4,5.9,4.8,5.2,6.2,7.0,6.9,7.0,6.4,7.3,7.2,6.4,7.2,6.8,6.8,5.6,8.2,5.9,6.2,8.6,3.9,5.9,9.3,3.8,8.9,5.3,7.4,6.9,7.8,6.6,5.7,6.0,8.0,5.1,5.1,6.9,4.3,7.3,7.9,5.8,5.1,8.1,6.3,4.6,7.9,7.8,6.4,6.9,5.3,5.3,7.0,6.2,7.3,5.2,4.0,6.3,6.2,5.7,6.5,6.9,6.8,7.4,5.7,7.6,6.6,5.6,6.9,7.1,5.9,7.2,3.3,7.4,5.0,6.3,5.4,4.3,7.2,7.0,6.4,6.4,5.8,6.9,6.8,5.6,4.8,5.6,7.8,6.7,7.1,6.1,7.0,3.8,5.9,6.5,6.1,6.3,4.8,6.2,2.6,6.6,5.8,6.8,7.1,6.9,6.5,5.3,6.5,4.2,5.3,6.6,5.8,6.8,6.8,6.9,6.6,7.6,7.8,5.9,7.6,7.5,6.8,4.5,6.2,6.1,6.7,5.3,5.9,5.0,6.8,7.6,7.1,6.5,6.8,6.2,7.7,6.8,8.1,4.9,4.4,4.8,7.9,8.6,6.0,6.2,6.2,5.3,7.1,6.4,7.7,4.7,6.6,7.4,7.5,6.7,6.7,8.0,5.6,7.0,6.5,5.4,5.8,8.0,6.4,6.4,6.3,6.6,6.8,7.7,5.9,4.9,7.3,6.4,6.4,6.7,4.9,6.3,6.6,7.0,6.4,7.3,6.6,7.0,7.2,6.8,7.5,7.1,7.3,6.8,6.4,4.2,6.7,7.0,7.3,6.7,6.3,3.9,5.7,5.6,5.9,5.7,8.9,5.8,6.8,5.5,6.7,6.7,7.0,5.8,5.4,6.2,6.3,6.4,4.7,5.8,5.7,6.5,6.6,7.2,5.7,7.0,6.6,7.3,6.2,6.9,6.2,4.1,7.7,7.6,7.2,6.2,5.0,5.1,7.6,6.4,6.8,3.7,4.7,6.4,6.1,7.5,5.5,6.1,7.8,6.3,6.7,4.8,5.8,7.2,7.5,6.8,7.1,6.8,6.7,6.0,6.1,6.3,8.1,4.3,6.9,5.3,6.2,7.0,4.9,7.4,6.5,6.1,6.5,5.5,5.4,5.9,5.7,5.1,6.0,7.6,4.4,6.5,5.2,6.4,6.1,6.6,7.4,6.1,5.9,7.0,6.7,6.5,6.3,7.1,8.1,6.1,6.1,5.7,6.6,8.0,6.8,5.4,7.2,6.5,7.2,5.6,5.2,5.7,7.3,5.2,6.2,8.0,2.7,4.4,6.2,6.1,5.8,4.9,7.6,6.3,5.8,6.1,6.5,7.6,5.2,5.3,7.3,5.3,6.1,6.3,6.0,6.6,8.9,6.5,7.2,6.6,6.5,7.2,5.9,5.3,6.7,7.4,6.7,5.0,6.7,6.3,5.8,8.1,6.7,7.6,6.1,6.5,5.7,5.1,6.1,6.5,7.5,7.0,7.2,6.6,6.4,6.7,5.6,7.2,7.6,7.5,5.3,4.6,5.0,6.8,4.4,6.4,7.7,7.8,5.6,6.7,6.3,6.7,5.4,5.9,7.6,5.0,6.4,7.0,7.3,6.2,3.2,6.9,6.1,7.1,6.9,6.4,7.2,5.8,5.4,6.2,7.8,7.3,6.1,7.2,8.0,6.1,6.5,6.9,6.9,7.2,4.3,6.3,6.5,6.8,6.8,5.4,5.9,5.8,6.3,5.7,5.0,5.0,4.7,7.9,5.5,6.9,5.4,1.9,5.8,7.0,8.3,5.9,4.8,7.2,7.4,6.4,6.6,5.7,7.3,5.7,5.3,5.0,7.6,6.9,7.5,6.4,6.4,6.2,4.9,2.1,6.4,5.8,4.9,6.4,7.0,5.9,6.5,6.4,5.9,6.5,6.3,6.5,6.6,7.1,4.2,5.8,6.9,8.0,6.6,6.9,5.7,6.2,6.1,5.7,6.8,7.7,7.3,5.7,5.1,7.8,7.1,6.4,7.6,7.2,5.9,6.7,6.2,7.3,4.0,6.3,8.1,6.3,5.3,5.5,6.7,5.4,6.4,7.3,6.2,5.5,8.0,5.2,4.0,6.8,7.0,6.3,7.8,6.5,6.0,6.8,7.1,6.2,6.9,5.0,5.6,7.1,6.6,7.2,6.9,7.2,6.1,3.9,3.6,6.2,7.0,5.8,7.5,8.1,7.7,4.7,7.2,6.9,6.3,6.9,7.6,6.7,6.1,5.1,4.9,5.6,5.5,4.5,5.8,6.3,6.2,6.2,6.4,7.6,7.5,6.8,6.6,6.2,6.0,7.1,5.6,6.7,7.8,4.8,5.3,5.3,5.5,6.9,5.2,5.9,6.1,6.9,5.8,4.5,6.1,5.6,5.6,5.2,6.7,5.5,7.3,6.4,6.0,5.3,5.5,6.2,4.6,4.8,4.4,5.9,6.2,7.6,8.1,7.1,6.4,5.6,5.1,5.8,7.1,6.1,6.9,5.5,5.1,5.9,7.8,3.6,5.4,5.2,7.5,6.2,5.9,7.0,6.0,6.2,5.2,7.0,7.6,5.1,5.3,7.2,4.5,6.2,5.0,6.1,8.1,5.1,8.1,7.2,7.6,5.2,6.8,6.2,7.5,5.9,7.0,5.8,7.2,6.3,7.1,6.8,4.7,5.4,6.2,7.1,6.0,6.9,3.9,6.8,7.5,8.0,4.7,6.0,6.7,5.5,6.4,8.3,5.7,5.3,4.0,8.0,6.4,5.4,6.2,5.9,6.4,7.2,6.6,8.3,7.5,5.4,6.6,6.6,7.1,7.4,6.0,8.0,7.6,6.1,7.3,5.3,5.8,5.9,7.9,8.6,6.5,6.0,4.8,6.8,6.8,6.7,4.3,5.6,4.3,7.8,5.7,6.3,6.0,5.9,6.0,5.9,7.7,5.8,5.5,6.2,5.6,6.7,7.2,6.7,6.4,6.4,6.1,7.6,6.4,4.1,7.9,4.5,4.3,6.4,7.2,7.8,7.1,7.2,6.0,6.8,6.4,6.4,6.7,7.1,6.6,6.7,7.0,4.8,4.3,6.5,6.1,6.4,7.8,6.7,6.8,5.7,6.7,7.0,7.5,4.4,6.2,6.9,6.3,6.3,4.5,6.7,6.1,6.1,6.6,7.2,5.2,6.0,7.0,7.7,6.8,5.6,6.3,6.2,4.9,5.7,6.9,5.3,7.7,6.2,4.4,7.0,8.0,6.8,8.3,5.8,6.3,5.6,5.2,5.6,4.0,6.2,6.6,5.2,6.3,6.6,6.0,6.6,6.8,7.6,5.9,7.5,6.6,7.8,6.6,4.7,5.8,8.0,7.3,5.4,6.1,5.1,7.3,6.2,5.5,5.8,6.6,6.3,7.5,5.7,7.1,7.3,6.8,6.8,4.4,6.4,7.3,6.8,5.7,5.8,5.6,6.2,4.6,4.7,6.3,7.6,5.5,5.6,6.2,6.5,7.1,6.9,7.1,6.4,6.3,6.6,5.0,7.3,7.1,5.4,4.6,7.3,5.9,5.7,5.1,5.0,6.6,3.1,8.2,5.7,5.1,6.4,8.0,5.9,7.6,5.8,5.5,5.4,4.9,6.5,6.6,7.7,6.8,6.4,6.7,7.5,7.8,6.9,6.5,4.4,7.2,6.0,5.6,7.3,6.5,5.5,7.4,8.1,5.2,6.4,8.8,6.6,6.3,7.1,7.2,7.4,5.5,6.0,5.8,5.8,8.3,7.4,7.1,5.5,5.6,6.3,6.0,7.4,6.3,5.7,6.9,7.5,5.6,4.5,5.6,6.0,6.4,6.3,5.5,6.0,7.4,4.1,5.8,7.1,6.7,6.8,6.3,6.6,5.2,7.3,5.6,6.5,6.6,5.7,5.1,3.7,6.9,7.5,6.4,6.3,7.1,6.2,6.8,7.9,6.7,5.4,5.1,5.6,7.0,7.4,5.1,6.0,7.7,6.7,6.8,6.5,6.4,5.6,7.7,6.2,6.0,7.0,5.2,6.7,3.7,6.4,6.4,7.2,6.1,6.5,7.4,6.9,6.0,5.8,6.5,7.0,6.0,5.4,7.9,5.5,4.9,6.6,6.9,7.8,6.4,6.4,8.5,5.5,6.5,6.5,6.5,7.4,6.2,7.5,6.3,5.3,2.9,6.8,4.8,5.2,7.2,7.3,4.8,5.4,6.9,6.8,7.0,2.4,6.3,3.8,6.3,6.7,7.3,7.3,6.7,7.3,6.2,4.9,7.8,5.4,6.0,6.5,5.4,6.5,7.6,6.5,4.1,6.6,6.0,7.6,6.0,7.1,7.1,6.6,5.7,7.0,6.5,6.9,5.8,6.6,5.5,6.2,7.7,6.6,7.1,6.4,6.2,5.5,6.1,7.0,6.0,5.9,7.5,5.7,5.5,6.8,6.8,7.1,7.1,6.3,7.8,6.8,4.8,6.2,5.1,5.1,8.0,5.8,6.5,6.5,7.6,6.6,6.3,6.1,7.3,7.6,7.0,7.8,6.6,6.7,5.7,5.5,3.3,8.3,7.3,6.0,5.1,6.7,6.6,7.0,6.2,5.7,6.3,7.2,4.3,5.8,6.0,7.4,6.4,6.9,6.2,6.3,8.0,5.9,6.9,5.2,5.5,5.9,6.8,5.7,5.4,5.9,6.8,6.3,6.7,6.9,6.3,6.4,7.3,5.8,6.5,5.9,6.4,6.7,6.0,7.5,6.7,6.2,6.0,2.6,6.4,7.1,7.2,6.5,7.2,5.9,7.0,5.4,6.9,6.5,7.1,5.4,8.1,8.1,4.6,7.4,7.6,7.3,5.4,5.6,7.3,5.2,7.3,7.7,5.3,6.4,6.2,6.2,6.2,7.9,5.7,4.4,7.3,5.1,7.0,6.7,7.0,6.2,7.0,6.5,6.2,6.5,6.1,4.4,5.5,4.4,4.4,7.0,5.3,6.2,7.0,7.1,6.6,8.0,5.5,7.3,7.1,8.1,5.9,7.1,5.8,6.5,5.5,7.8,4.0,7.9,6.9,7.5,6.8,6.6,5.6,6.4,6.0,8.0,6.2,6.6,6.5,4.6,4.7,6.8,6.1,8.4,6.5,7.7,6.4,5.6,6.7,6.1,7.1,5.5,5.9,5.9,6.9,6.1,7.6,7.3,5.9,6.4,6.2,4.8,5.3,7.4,5.9,7.0,7.9,7.6,7.8,3.7,7.6,6.3,6.4,5.7,5.9,5.7,6.9,6.5,6.7,4.6,6.4,6.2,6.2,5.0,6.0,5.4,5.7,7.6,6.5,7.0,6.5,6.7,5.9,7.6,5.5,5.5,5.6,6.5,4.8,7.6,4.5,6.5,7.1,5.8,5.8,7.8,5.4,8.3,5.0,7.1,6.9,7.2,6.5,5.9,6.6,3.8,4.6,6.7,5.8,7.6,5.4,5.9,7.7,6.7,7.4,5.4,5.3,5.7,5.2,6.7,6.7,6.1,5.6,5.0,7.1,4.5,5.3,4.3,7.7,5.6,5.4,7.2,7.0,8.0,7.3,7.6,6.4,6.0,5.9,4.4,6.7,7.0,6.4,6.6,6.7,5.8,6.6,8.3,5.6,6.7,7.3,6.6,6.1,7.2,7.2,3.5,5.6,4.1,6.7,6.3,4.6,6.9,7.0,7.7,4.7,6.1,5.2,6.0,6.7,7.4,6.8,7.6,7.5,6.8,6.2,5.1,6.8,6.6,4.8,7.5,7.0,6.7,6.2,5.5,7.1,6.0,6.0,4.8,6.0,5.6,7.2,5.6,5.6,8.6,6.4,7.5,7.5,6.1,5.8,7.4,7.2,5.8,8.0,4.8,7.1,5.9,6.4,5.7,6.0,5.1,7.3,6.4,5.9,6.9,6.4,5.5,5.7,6.1,5.5,6.3,7.2,7.4,7.0,6.0,6.5,4.1,5.7,8.2,7.3,5.2,6.0,6.3,6.1,6.0,6.9,6.5,6.8,7.3,5.8,4.9,6.9,6.3,5.7,5.8,6.3,6.4,7.8,6.5,6.7,5.7,7.3,5.4,6.7,6.0,8.1,6.9,6.3,6.6,3.7,7.8,6.2,6.8,5.6,5.6,5.0,6.8,5.3,5.6,6.7,6.1,6.5,6.3,6.8,5.6,3.7,7.0,6.3,7.2,6.2,6.1,6.9,6.8,8.1,5.4,6.5,8.3,5.6,6.6,5.7,6.9,6.3,4.2,6.5,6.2,5.4,5.0,6.8,7.6,6.1,7.0,6.2,5.8,8.0,6.8,7.0,7.8,7.8,7.7,6.0,4.3,5.0,6.7,7.0,6.2,5.6,7.3,4.7,3.5,7.3,4.9,7.9,5.7,6.1,5.6,7.6,4.7,7.2,6.0,6.1,5.9,6.2,6.3,7.4,6.5,6.5,7.6,5.9,7.5,6.9,4.9,6.5,6.1,6.0,5.7,5.4,6.9,6.8,6.3,5.9,6.6,6.8,5.3,7.7,6.0,6.3,6.3,2.8,7.7,4.4,6.7,6.2,7.4,5.5,6.2,5.6,4.6,7.6,6.3,5.4,7.3,6.7,5.4,7.7,5.5,7.3,7.1,5.6,6.4,4.2,5.8,5.0,6.1,6.6,7.6,7.0,6.6,6.1,2.9,4.5,5.7,6.3,7.2,7.4,8.2,6.1,5.4,5.7,7.3,6.9,3.7,5.3,5.8,6.4,6.6,7.6,4.7,4.7,8.0,5.7,6.2,6.1,5.1,6.3,6.5,7.7,7.6,6.2,5.5,6.7,6.1,4.4,5.4,7.4,5.3,7.6,5.0,6.8,6.4,6.1,5.9,6.4,7.7,7.3,7.6,6.3,6.2,6.8,6.6,7.4,3.9,6.8,6.8,7.6,7.5,5.1,7.2,4.6,6.3,5.7,6.0,6.7,6.4,6.7,6.2,7.0,6.2,6.3,5.0,7.3,4.9,7.6,4.7,6.4,7.9,5.8,5.8,5.7,5.7,5.2,7.2,6.6,7.0,6.8,6.0,7.2,7.4,6.7,8.1,5.8,7.0,6.9,7.3,5.9,6.1,7.4,6.1,4.5,7.0,8.0,7.7,5.3,7.1,7.1,6.3,7.9,5.4,6.4,7.2,6.9,5.0,4.3,5.8,7.3,3.2,7.3,4.6,7.5,5.2,6.0,7.4,2.8,7.2,6.0,6.6,5.4,7.6,4.4,3.6,7.1,7.0,6.7,6.9,6.8,6.3,6.0,4.9,5.0,6.9,5.4,6.7,6.2,5.8,7.8,6.8,4.7,4.3,6.8,6.6,5.8,6.6,4.1,6.5,6.6,4.4,6.3,5.8,6.5,2.2,7.3,6.2,7.3,7.1,7.6,6.0,6.9,5.6,6.2,7.9,5.9,7.5,3.2,6.4,7.5,6.0,6.0,5.5,6.8,3.5,6.8,5.8,6.6,5.9,3.0,6.3,7.9,6.6,6.5,7.1,6.7,5.4,7.1,6.2,6.5,5.9,7.4,5.8,6.3,6.1,8.5,5.9,7.8,6.6,6.3,7.2,7.1,5.5,6.1,6.8,6.2,4.5,7.5,6.8,6.9,5.7,5.8,7.4,5.6,4.2,7.2,7.3,3.7,7.1,6.6,5.9,6.3,4.7,5.5,7.4,7.5,6.9,7.7,6.5,7.0,5.1,5.0,6.1,6.9,6.7,6.9,6.4,6.1,5.6,7.4,8.0,6.6,6.2,6.8,5.4,6.7,7.2,5.9,7.4,5.4,6.6,7.9,7.9,4.9,7.2,5.0,5.5,6.9,5.9,7.8,5.6,6.4,5.8,7.3,6.3,7.0,6.2,7.2,7.9,4.1,5.8,6.5,7.2,7.1,5.8,6.0,5.9,3.8,4.6,5.7,7.1,6.1,6.8,5.6,5.5,4.7,5.0,6.5,4.5,7.8,5.5,6.8,5.9,6.6,5.8,8.5,5.4,7.2,6.8,5.5,5.5,6.7,7.0,7.1,5.1,7.9,6.5,8.1,6.7,7.6,6.1,6.0,7.0,7.4,6.0,7.5,8.1,6.6,7.2,7.3,5.8,7.3,7.7,5.0,7.3,5.9,7.6,7.4,8.1,6.4,6.1,5.8,6.6,5.8,6.0,7.2,6.4,4.7,7.3,5.3,5.3,5.6,6.7,4.6,7.3,7.2,6.9,6.8,6.2,6.4,6.2,6.4,6.0,6.2,6.5,6.7,6.0,6.1,6.6,6.5,6.2,7.3,6.8,3.7,5.5,6.4,5.4,6.6,6.8,6.5,3.6,5.7,7.9,6.5,4.5,5.6,5.1,5.4,7.2,6.4,5.0,7.2,6.7,5.1,7.3,7.5,6.3,6.1,6.9,5.5,6.5,6.5,5.3,6.3,6.1,6.5,4.2,6.5,7.3,6.5,6.8,7.4,8.0,7.0,8.1,5.1,7.0,7.6,5.9,5.9,6.4,6.9,6.8,7.7,7.1,6.6,6.3,7.9,6.5,5.2,5.6,6.2,6.4,8.2,8.1,7.2,5.8,5.7,7.0,6.7,4.5,6.0,6.6,6.6,6.2,7.4,8.3,6.0,8.3,7.1,3.1,8.1,6.6,7.0,7.2,7.9,5.9,6.9,6.2,6.5,4.8,7.2,6.7,5.4,2.7,6.4,7.1,7.8,5.9,7.3,6.9,6.1,6.0,4.8,6.4,6.3,5.1,5.6,7.5,6.6,6.7,6.8,7.6,4.5,7.2,7.3,5.6,7.7,5.9,7.8,6.1,7.2,5.4,6.6,6.9,7.1,7.8,7.8,7.3,6.3,5.6,6.7,7.7,6.7,5.3,6.9,5.8,7.4,6.2,6.9,5.3,5.5,4.0,7.0,5.8,5.2,8.0,5.2,6.2,6.8,6.1,5.1,6.4,4.9,5.5,7.1,7.8,6.9,6.4,9.0,6.4,7.2,7.8,7.0,6.8,7.9,7.2,6.7,7.0,5.1,5.0,6.8,6.6,8.0,7.4,5.4,6.6,5.7,7.2,5.2,6.4,5.3,5.6,6.9,4.1,7.8,7.3,4.4,7.1,6.6,5.6,7.7,4.9,7.2,6.1,5.9,8.0,7.6,6.5,5.3,7.3,5.7,6.3,5.7,4.8,6.9,6.8,5.2,5.9,6.4,5.1,6.5,6.2,5.0,6.3,6.0,3.9,6.8,7.6,5.8,6.2,4.9,8.1,4.6,6.9,7.2,7.2,6.8,6.4,4.4,6.7,7.3,4.0,5.1,6.1,7.5,5.3,6.3,7.5,5.8,7.1,6.5,6.3,7.2,5.9,4.9,6.7,3.9,3.6,6.4,5.7,8.5,6.1,5.5,5.1,7.0,7.1,5.9,7.9,6.5,7.9,6.9,7.2,7.1,7.9,7.4,7.3,5.9,5.4,6.6,6.8,7.8,7.1,5.5,4.2,7.5,4.2,6.4,5.8,7.4,7.3,5.8,5.0,6.2,7.8,6.8,6.9,5.5,7.0,6.5,8.3,7.9]},\"selected\":{\"id\":\"27a3919e-338c-4a4c-b56a-0682d8e0445d\",\"type\":\"Selection\"},\"selection_policy\":{\"id\":\"a3e356e5-1ecf-414e-a1bd-7ba7577a25b3\",\"type\":\"UnionRenderers\"}},\"id\":\"aa71054d-b1e3-4afd-a13f-7d545a9d6b90\",\"type\":\"ColumnDataSource\"},{\"attributes\":{},\"id\":\"db056494-3c80-4781-951d-ed8a5d3b21d1\",\"type\":\"BasicTickFormatter\"},{\"attributes\":{\"fill_alpha\":{\"value\":0.1},\"fill_color\":{\"value\":\"#1f77b4\"},\"line_alpha\":{\"value\":0.1},\"line_color\":{\"value\":\"#1f77b4\"},\"line_width\":{\"value\":2},\"x\":{\"field\":\"x\"},\"y\":{\"field\":\"y\"}},\"id\":\"8be0bc65-af69-4922-bf97-1674a6db4ea9\",\"type\":\"Circle\"},{\"attributes\":{\"callback\":null},\"id\":\"986749d3-d168-4c93-9318-185d2948289c\",\"type\":\"DataRange1d\"},{\"attributes\":{\"data_source\":{\"id\":\"aa71054d-b1e3-4afd-a13f-7d545a9d6b90\",\"type\":\"ColumnDataSource\"},\"glyph\":{\"id\":\"4f15e3fd-68d6-47e2-bba5-395e4b615ff7\",\"type\":\"Circle\"},\"hover_glyph\":null,\"muted_glyph\":null,\"nonselection_glyph\":{\"id\":\"8be0bc65-af69-4922-bf97-1674a6db4ea9\",\"type\":\"Circle\"},\"selection_glyph\":null,\"view\":{\"id\":\"23584d34-9556-4b26-8fc5-7c5bf5f2a05c\",\"type\":\"CDSView\"}},\"id\":\"00bee5a9-aa7d-4d38-bdd7-06f8f5440f4b\",\"type\":\"GlyphRenderer\"},{\"attributes\":{\"source\":{\"id\":\"aa71054d-b1e3-4afd-a13f-7d545a9d6b90\",\"type\":\"ColumnDataSource\"}},\"id\":\"23584d34-9556-4b26-8fc5-7c5bf5f2a05c\",\"type\":\"CDSView\"},{\"attributes\":{\"plot\":null,\"text\":\"Movie Length and IMDB Score\"},\"id\":\"36fbe4ed-a9a7-4757-9e5a-d6d2d8380eea\",\"type\":\"Title\"},{\"attributes\":{\"callback\":null,\"formatters\":{\"title\":\"printf\",\"x\":\"printf\",\"y\":\"printf\"},\"renderers\":\"auto\",\"tooltips\":[[\"Movie sength: \",\"@x{%0f}\"],[\"IMDB score: \",\"@y{%0.1f}\"],[\"Movie Title: \",\"@title\"]]},\"id\":\"fc5d8b26-a264-44aa-9b80-42a76eafe6e8\",\"type\":\"HoverTool\"}],\"root_ids\":[\"26bc016b-90b9-41b2-81ea-ed267163b086\"]},\"title\":\"Bokeh Application\",\"version\":\"0.12.16\"}};\n",
       "  var render_items = [{\"docid\":\"4185bd9e-b1bb-4669-9661-ef1b21a7196a\",\"elementid\":\"4b2a7764-d322-4807-b8f5-6de1a27c3ebc\",\"modelid\":\"26bc016b-90b9-41b2-81ea-ed267163b086\"}];\n",
       "  root.Bokeh.embed.embed_items_notebook(docs_json, render_items);\n",
       "\n",
       "  }\n",
       "  if (root.Bokeh !== undefined) {\n",
       "    embed_document(root);\n",
       "  } else {\n",
       "    var attempts = 0;\n",
       "    var timer = setInterval(function(root) {\n",
       "      if (root.Bokeh !== undefined) {\n",
       "        embed_document(root);\n",
       "        clearInterval(timer);\n",
       "      }\n",
       "      attempts++;\n",
       "      if (attempts > 100) {\n",
       "        console.log(\"Bokeh: ERROR: Unable to run BokehJS code because BokehJS library is missing\")\n",
       "        clearInterval(timer);\n",
       "      }\n",
       "    }, 10, root)\n",
       "  }\n",
       "})(window);"
      ],
      "application/vnd.bokehjs_exec.v0+json": ""
     },
     "metadata": {
      "application/vnd.bokehjs_exec.v0+json": {
       "id": "26bc016b-90b9-41b2-81ea-ed267163b086"
      }
     },
     "output_type": "display_data"
    },
    {
     "name": "stderr",
     "output_type": "stream",
     "text": [
      "ERROR:bokeh.core.validation.check:E-1001 (BAD_COLUMN_NAME): Glyph refers to nonexistent column name: te_predict_rating, y_imdb_rating_test [renderer: GlyphRenderer(id='d7649bd6-f43f-4dae-b397-8f9d1f89db9a', ...)]\n"
     ]
    },
    {
     "ename": "KeyboardInterrupt",
     "evalue": "",
     "output_type": "error",
     "traceback": [
      "\u001b[0;31m---------------------------------------------------------------------------\u001b[0m",
      "\u001b[0;31mKeyboardInterrupt\u001b[0m                         Traceback (most recent call last)",
      "\u001b[0;32m<ipython-input-69-5747ee5085d9>\u001b[0m in \u001b[0;36m<module>\u001b[0;34m()\u001b[0m\n\u001b[1;32m     34\u001b[0m ))\n\u001b[1;32m     35\u001b[0m \u001b[0;34m\u001b[0m\u001b[0m\n\u001b[0;32m---> 36\u001b[0;31m \u001b[0mshow\u001b[0m\u001b[0;34m(\u001b[0m\u001b[0mp\u001b[0m\u001b[0;34m)\u001b[0m\u001b[0;34m\u001b[0m\u001b[0m\n\u001b[0m",
      "\u001b[0;32m/opt/conda/envs/HL-capstone/lib/python3.6/site-packages/bokeh/io/showing.py\u001b[0m in \u001b[0;36mshow\u001b[0;34m(obj, browser, new, notebook_handle, notebook_url)\u001b[0m\n\u001b[1;32m    135\u001b[0m     \u001b[0;32mif\u001b[0m \u001b[0mobj\u001b[0m \u001b[0;32mnot\u001b[0m \u001b[0;32min\u001b[0m \u001b[0mstate\u001b[0m\u001b[0;34m.\u001b[0m\u001b[0mdocument\u001b[0m\u001b[0;34m.\u001b[0m\u001b[0mroots\u001b[0m\u001b[0;34m:\u001b[0m\u001b[0;34m\u001b[0m\u001b[0m\n\u001b[1;32m    136\u001b[0m         \u001b[0mstate\u001b[0m\u001b[0;34m.\u001b[0m\u001b[0mdocument\u001b[0m\u001b[0;34m.\u001b[0m\u001b[0madd_root\u001b[0m\u001b[0;34m(\u001b[0m\u001b[0mobj\u001b[0m\u001b[0;34m)\u001b[0m\u001b[0;34m\u001b[0m\u001b[0m\n\u001b[0;32m--> 137\u001b[0;31m     \u001b[0;32mreturn\u001b[0m \u001b[0m_show_with_state\u001b[0m\u001b[0;34m(\u001b[0m\u001b[0mobj\u001b[0m\u001b[0;34m,\u001b[0m \u001b[0mstate\u001b[0m\u001b[0;34m,\u001b[0m \u001b[0mbrowser\u001b[0m\u001b[0;34m,\u001b[0m \u001b[0mnew\u001b[0m\u001b[0;34m,\u001b[0m \u001b[0mnotebook_handle\u001b[0m\u001b[0;34m=\u001b[0m\u001b[0mnotebook_handle\u001b[0m\u001b[0;34m)\u001b[0m\u001b[0;34m\u001b[0m\u001b[0m\n\u001b[0m\u001b[1;32m    138\u001b[0m \u001b[0;34m\u001b[0m\u001b[0m\n\u001b[1;32m    139\u001b[0m \u001b[0;31m#-----------------------------------------------------------------------------\u001b[0m\u001b[0;34m\u001b[0m\u001b[0;34m\u001b[0m\u001b[0m\n",
      "\u001b[0;32m/opt/conda/envs/HL-capstone/lib/python3.6/site-packages/bokeh/io/showing.py\u001b[0m in \u001b[0;36m_show_with_state\u001b[0;34m(obj, state, browser, new, notebook_handle)\u001b[0m\n\u001b[1;32m    173\u001b[0m \u001b[0;34m\u001b[0m\u001b[0m\n\u001b[1;32m    174\u001b[0m     \u001b[0;32mif\u001b[0m \u001b[0mstate\u001b[0m\u001b[0;34m.\u001b[0m\u001b[0mfile\u001b[0m \u001b[0;32mor\u001b[0m \u001b[0;32mnot\u001b[0m \u001b[0mshown\u001b[0m\u001b[0;34m:\u001b[0m\u001b[0;34m\u001b[0m\u001b[0m\n\u001b[0;32m--> 175\u001b[0;31m         \u001b[0m_show_file_with_state\u001b[0m\u001b[0;34m(\u001b[0m\u001b[0mobj\u001b[0m\u001b[0;34m,\u001b[0m \u001b[0mstate\u001b[0m\u001b[0;34m,\u001b[0m \u001b[0mnew\u001b[0m\u001b[0;34m,\u001b[0m \u001b[0mcontroller\u001b[0m\u001b[0;34m)\u001b[0m\u001b[0;34m\u001b[0m\u001b[0m\n\u001b[0m\u001b[1;32m    176\u001b[0m \u001b[0;34m\u001b[0m\u001b[0m\n\u001b[1;32m    177\u001b[0m     \u001b[0;32mreturn\u001b[0m \u001b[0mcomms_handle\u001b[0m\u001b[0;34m\u001b[0m\u001b[0m\n",
      "\u001b[0;32m/opt/conda/envs/HL-capstone/lib/python3.6/site-packages/bokeh/io/showing.py\u001b[0m in \u001b[0;36m_show_file_with_state\u001b[0;34m(obj, state, new, controller)\u001b[0m\n\u001b[1;32m    157\u001b[0m     '''\n\u001b[1;32m    158\u001b[0m     \u001b[0mfilename\u001b[0m \u001b[0;34m=\u001b[0m \u001b[0msave\u001b[0m\u001b[0;34m(\u001b[0m\u001b[0mobj\u001b[0m\u001b[0;34m,\u001b[0m \u001b[0mstate\u001b[0m\u001b[0;34m=\u001b[0m\u001b[0mstate\u001b[0m\u001b[0;34m)\u001b[0m\u001b[0;34m\u001b[0m\u001b[0m\n\u001b[0;32m--> 159\u001b[0;31m     \u001b[0mcontroller\u001b[0m\u001b[0;34m.\u001b[0m\u001b[0mopen\u001b[0m\u001b[0;34m(\u001b[0m\u001b[0;34m\"file://\"\u001b[0m \u001b[0;34m+\u001b[0m \u001b[0mfilename\u001b[0m\u001b[0;34m,\u001b[0m \u001b[0mnew\u001b[0m\u001b[0;34m=\u001b[0m\u001b[0mNEW_PARAM\u001b[0m\u001b[0;34m[\u001b[0m\u001b[0mnew\u001b[0m\u001b[0;34m]\u001b[0m\u001b[0;34m)\u001b[0m\u001b[0;34m\u001b[0m\u001b[0m\n\u001b[0m\u001b[1;32m    160\u001b[0m \u001b[0;34m\u001b[0m\u001b[0m\n\u001b[1;32m    161\u001b[0m \u001b[0;32mdef\u001b[0m \u001b[0m_show_with_state\u001b[0m\u001b[0;34m(\u001b[0m\u001b[0mobj\u001b[0m\u001b[0;34m,\u001b[0m \u001b[0mstate\u001b[0m\u001b[0;34m,\u001b[0m \u001b[0mbrowser\u001b[0m\u001b[0;34m,\u001b[0m \u001b[0mnew\u001b[0m\u001b[0;34m,\u001b[0m \u001b[0mnotebook_handle\u001b[0m\u001b[0;34m=\u001b[0m\u001b[0;32mFalse\u001b[0m\u001b[0;34m)\u001b[0m\u001b[0;34m:\u001b[0m\u001b[0;34m\u001b[0m\u001b[0m\n",
      "\u001b[0;32m/opt/conda/envs/HL-capstone/lib/python3.6/webbrowser.py\u001b[0m in \u001b[0;36mopen\u001b[0;34m(url, new, autoraise)\u001b[0m\n\u001b[1;32m     58\u001b[0m     \u001b[0;32mfor\u001b[0m \u001b[0mname\u001b[0m \u001b[0;32min\u001b[0m \u001b[0m_tryorder\u001b[0m\u001b[0;34m:\u001b[0m\u001b[0;34m\u001b[0m\u001b[0m\n\u001b[1;32m     59\u001b[0m         \u001b[0mbrowser\u001b[0m \u001b[0;34m=\u001b[0m \u001b[0mget\u001b[0m\u001b[0;34m(\u001b[0m\u001b[0mname\u001b[0m\u001b[0;34m)\u001b[0m\u001b[0;34m\u001b[0m\u001b[0m\n\u001b[0;32m---> 60\u001b[0;31m         \u001b[0;32mif\u001b[0m \u001b[0mbrowser\u001b[0m\u001b[0;34m.\u001b[0m\u001b[0mopen\u001b[0m\u001b[0;34m(\u001b[0m\u001b[0murl\u001b[0m\u001b[0;34m,\u001b[0m \u001b[0mnew\u001b[0m\u001b[0;34m,\u001b[0m \u001b[0mautoraise\u001b[0m\u001b[0;34m)\u001b[0m\u001b[0;34m:\u001b[0m\u001b[0;34m\u001b[0m\u001b[0m\n\u001b[0m\u001b[1;32m     61\u001b[0m             \u001b[0;32mreturn\u001b[0m \u001b[0;32mTrue\u001b[0m\u001b[0;34m\u001b[0m\u001b[0m\n\u001b[1;32m     62\u001b[0m     \u001b[0;32mreturn\u001b[0m \u001b[0;32mFalse\u001b[0m\u001b[0;34m\u001b[0m\u001b[0m\n",
      "\u001b[0;32m/opt/conda/envs/HL-capstone/lib/python3.6/webbrowser.py\u001b[0m in \u001b[0;36mopen\u001b[0;34m(self, url, new, autoraise)\u001b[0m\n\u001b[1;32m    144\u001b[0m             \u001b[0;32melse\u001b[0m\u001b[0;34m:\u001b[0m\u001b[0;34m\u001b[0m\u001b[0m\n\u001b[1;32m    145\u001b[0m                 \u001b[0mp\u001b[0m \u001b[0;34m=\u001b[0m \u001b[0msubprocess\u001b[0m\u001b[0;34m.\u001b[0m\u001b[0mPopen\u001b[0m\u001b[0;34m(\u001b[0m\u001b[0mcmdline\u001b[0m\u001b[0;34m,\u001b[0m \u001b[0mclose_fds\u001b[0m\u001b[0;34m=\u001b[0m\u001b[0;32mTrue\u001b[0m\u001b[0;34m)\u001b[0m\u001b[0;34m\u001b[0m\u001b[0m\n\u001b[0;32m--> 146\u001b[0;31m             \u001b[0;32mreturn\u001b[0m \u001b[0;32mnot\u001b[0m \u001b[0mp\u001b[0m\u001b[0;34m.\u001b[0m\u001b[0mwait\u001b[0m\u001b[0;34m(\u001b[0m\u001b[0;34m)\u001b[0m\u001b[0;34m\u001b[0m\u001b[0m\n\u001b[0m\u001b[1;32m    147\u001b[0m         \u001b[0;32mexcept\u001b[0m \u001b[0mOSError\u001b[0m\u001b[0;34m:\u001b[0m\u001b[0;34m\u001b[0m\u001b[0m\n\u001b[1;32m    148\u001b[0m             \u001b[0;32mreturn\u001b[0m \u001b[0;32mFalse\u001b[0m\u001b[0;34m\u001b[0m\u001b[0m\n",
      "\u001b[0;32m/opt/conda/envs/HL-capstone/lib/python3.6/subprocess.py\u001b[0m in \u001b[0;36mwait\u001b[0;34m(self, timeout, endtime)\u001b[0m\n\u001b[1;32m   1455\u001b[0m                         \u001b[0;32mif\u001b[0m \u001b[0mself\u001b[0m\u001b[0;34m.\u001b[0m\u001b[0mreturncode\u001b[0m \u001b[0;32mis\u001b[0m \u001b[0;32mnot\u001b[0m \u001b[0;32mNone\u001b[0m\u001b[0;34m:\u001b[0m\u001b[0;34m\u001b[0m\u001b[0m\n\u001b[1;32m   1456\u001b[0m                             \u001b[0;32mbreak\u001b[0m  \u001b[0;31m# Another thread waited.\u001b[0m\u001b[0;34m\u001b[0m\u001b[0m\n\u001b[0;32m-> 1457\u001b[0;31m                         \u001b[0;34m(\u001b[0m\u001b[0mpid\u001b[0m\u001b[0;34m,\u001b[0m \u001b[0msts\u001b[0m\u001b[0;34m)\u001b[0m \u001b[0;34m=\u001b[0m \u001b[0mself\u001b[0m\u001b[0;34m.\u001b[0m\u001b[0m_try_wait\u001b[0m\u001b[0;34m(\u001b[0m\u001b[0;36m0\u001b[0m\u001b[0;34m)\u001b[0m\u001b[0;34m\u001b[0m\u001b[0m\n\u001b[0m\u001b[1;32m   1458\u001b[0m                         \u001b[0;31m# Check the pid and loop as waitpid has been known to\u001b[0m\u001b[0;34m\u001b[0m\u001b[0;34m\u001b[0m\u001b[0m\n\u001b[1;32m   1459\u001b[0m                         \u001b[0;31m# return 0 even without WNOHANG in odd situations.\u001b[0m\u001b[0;34m\u001b[0m\u001b[0;34m\u001b[0m\u001b[0m\n",
      "\u001b[0;32m/opt/conda/envs/HL-capstone/lib/python3.6/subprocess.py\u001b[0m in \u001b[0;36m_try_wait\u001b[0;34m(self, wait_flags)\u001b[0m\n\u001b[1;32m   1402\u001b[0m             \u001b[0;34m\"\"\"All callers to this function MUST hold self._waitpid_lock.\"\"\"\u001b[0m\u001b[0;34m\u001b[0m\u001b[0m\n\u001b[1;32m   1403\u001b[0m             \u001b[0;32mtry\u001b[0m\u001b[0;34m:\u001b[0m\u001b[0;34m\u001b[0m\u001b[0m\n\u001b[0;32m-> 1404\u001b[0;31m                 \u001b[0;34m(\u001b[0m\u001b[0mpid\u001b[0m\u001b[0;34m,\u001b[0m \u001b[0msts\u001b[0m\u001b[0;34m)\u001b[0m \u001b[0;34m=\u001b[0m \u001b[0mos\u001b[0m\u001b[0;34m.\u001b[0m\u001b[0mwaitpid\u001b[0m\u001b[0;34m(\u001b[0m\u001b[0mself\u001b[0m\u001b[0;34m.\u001b[0m\u001b[0mpid\u001b[0m\u001b[0;34m,\u001b[0m \u001b[0mwait_flags\u001b[0m\u001b[0;34m)\u001b[0m\u001b[0;34m\u001b[0m\u001b[0m\n\u001b[0m\u001b[1;32m   1405\u001b[0m             \u001b[0;32mexcept\u001b[0m \u001b[0mChildProcessError\u001b[0m\u001b[0;34m:\u001b[0m\u001b[0;34m\u001b[0m\u001b[0m\n\u001b[1;32m   1406\u001b[0m                 \u001b[0;31m# This happens if SIGCLD is set to be ignored or waiting\u001b[0m\u001b[0;34m\u001b[0m\u001b[0;34m\u001b[0m\u001b[0m\n",
      "\u001b[0;31mKeyboardInterrupt\u001b[0m: "
     ]
    }
   ],
   "source": [
    "\n",
    "output_file(\"Movie Length and IMDB Score.html\")\n",
    "source = ColumnDataSource(data={\n",
    "    'x': x,\n",
    "    'y': y,\n",
    "    'title':title,\n",
    "})\n",
    "\n",
    "p = figure(plot_height=200, plot_width = 200, tools=\"\", toolbar_location=None,\n",
    "           title=\"Movie Length and IMDB Score\", sizing_mode=\"scale_width\")\n",
    "p.background_fill_color=\"#f5f5f5\"\n",
    "p.grid.grid_line_color=\"white\"\n",
    "p.xaxis.axis_label = 'Movie length'\n",
    "p.yaxis.axis_label = 'IMDB score'\n",
    "p.axis.axis_line_color = None\n",
    "\n",
    "p.scatter(x='x', y='y', line_width=2, color='#ebbd5b', source=source)\n",
    "\n",
    "p.add_tools(HoverTool(\n",
    "    tooltips=[\n",
    "        ('Movie sength: ', '@x{%0f}'),\n",
    "        ('IMDB score: ', '@y{%0.1f}'), # use @{ } for field names with spaces\n",
    "        ('Movie Title: ', '@title'),\n",
    "    ],\n",
    "\n",
    "    formatters={\n",
    "        'x':'printf', # use 'datetime' formatter for 'date' field\n",
    "        'y':'printf',   # use 'printf' formatter for 'adj close' field\n",
    "        'title':'printf'                         # use default 'numeral' formatter for other fields\n",
    "    },\n",
    "\n",
    "    # display a tooltip whenever the cursor is vertically in line with a glyph\n",
    "    mode='mouse'\n",
    "))\n",
    "\n",
    "show(p)"
   ]
  },
  {
   "cell_type": "code",
   "execution_count": null,
   "metadata": {
    "collapsed": true,
    "hidden": true
   },
   "outputs": [],
   "source": []
  },
  {
   "cell_type": "code",
   "execution_count": null,
   "metadata": {
    "collapsed": true,
    "hidden": true
   },
   "outputs": [],
   "source": []
  },
  {
   "cell_type": "markdown",
   "metadata": {
    "hidden": true
   },
   "source": [
    "### <font color='red'> 1.2. Train the model with `budget_adj`: <font size = 10> out"
   ]
  },
  {
   "cell_type": "markdown",
   "metadata": {
    "heading_collapsed": true,
    "hidden": true
   },
   "source": [
    "#### train the model"
   ]
  },
  {
   "cell_type": "code",
   "execution_count": 294,
   "metadata": {
    "collapsed": true,
    "hidden": true
   },
   "outputs": [],
   "source": [
    "h =  ColumnToNPArrayTransformer(['budget_adj'])\n",
    "tr_x = h.fit_transform(data_imdb_rating_train, y_imdb_rating_train)\n",
    "tr_y = np.array(y_imdb_rating_train)\n",
    "te_x = h.fit_transform(data_imdb_rating_test, y_imdb_rating_test)\n",
    "te_y = np.array(y_imdb_rating_test)"
   ]
  },
  {
   "cell_type": "code",
   "execution_count": 295,
   "metadata": {
    "collapsed": true,
    "hidden": true
   },
   "outputs": [],
   "source": [
    "models1_2 = { \n",
    "    'LinearRegression': LinearRegression(),\n",
    "    'Ridge': Ridge(),\n",
    "    'Lasso': Lasso(),\n",
    "    'RandomForestRegressor': RandomForestRegressor()\n",
    "}\n",
    "\n",
    "params1_2 = { \n",
    "    'LinearRegression': { },\n",
    "    'Ridge': { 'alpha': np.arange(0,2,0.05) },\n",
    "    'Lasso': { 'alpha': np.arange(0,2,0.05) },\n",
    "    'RandomForestRegressor':{'n_estimators': np.arange(1, 50 ,2),\n",
    "                              'max_depth': np.arange(1, 20, 1)}\n",
    "}\n"
   ]
  },
  {
   "cell_type": "code",
   "execution_count": 296,
   "metadata": {
    "hidden": true
   },
   "outputs": [
    {
     "name": "stdout",
     "output_type": "stream",
     "text": [
      "Running GridSearchCV for LinearRegression.\n",
      "Fitting 8 folds for each of 1 candidates, totalling 8 fits\n"
     ]
    },
    {
     "name": "stderr",
     "output_type": "stream",
     "text": [
      "[Parallel(n_jobs=-1)]: Done   2 out of   8 | elapsed:    0.0s remaining:    0.1s\n",
      "[Parallel(n_jobs=-1)]: Done   8 out of   8 | elapsed:    0.2s finished\n"
     ]
    },
    {
     "name": "stdout",
     "output_type": "stream",
     "text": [
      "Running GridSearchCV for Ridge.\n",
      "Fitting 8 folds for each of 40 candidates, totalling 320 fits\n",
      "Running GridSearchCV for Lasso.\n",
      "Fitting 8 folds for each of 40 candidates, totalling 320 fits\n"
     ]
    },
    {
     "name": "stderr",
     "output_type": "stream",
     "text": [
      "[Parallel(n_jobs=-1)]: Done 320 out of 320 | elapsed:    0.2s finished\n",
      "/opt/conda/envs/HL-capstone/lib/python3.6/site-packages/sklearn/cross_validation.py:1675: UserWarning: With alpha=0, this algorithm does not converge well. You are advised to use the LinearRegression estimator\n",
      "  estimator.fit(X_train, y_train, **fit_params)\n",
      "/opt/conda/envs/HL-capstone/lib/python3.6/site-packages/sklearn/cross_validation.py:1675: UserWarning: With alpha=0, this algorithm does not converge well. You are advised to use the LinearRegression estimator\n",
      "  estimator.fit(X_train, y_train, **fit_params)\n",
      "/opt/conda/envs/HL-capstone/lib/python3.6/site-packages/sklearn/cross_validation.py:1675: UserWarning: With alpha=0, this algorithm does not converge well. You are advised to use the LinearRegression estimator\n",
      "  estimator.fit(X_train, y_train, **fit_params)\n",
      "/opt/conda/envs/HL-capstone/lib/python3.6/site-packages/sklearn/linear_model/coordinate_descent.py:477: UserWarning: Coordinate descent with no regularization may lead to unexpected results and is discouraged.\n",
      "  positive)\n",
      "/opt/conda/envs/HL-capstone/lib/python3.6/site-packages/sklearn/linear_model/coordinate_descent.py:477: UserWarning: Coordinate descent with no regularization may lead to unexpected results and is discouraged.\n",
      "  positive)\n",
      "/opt/conda/envs/HL-capstone/lib/python3.6/site-packages/sklearn/cross_validation.py:1675: UserWarning: With alpha=0, this algorithm does not converge well. You are advised to use the LinearRegression estimator\n",
      "  estimator.fit(X_train, y_train, **fit_params)\n",
      "/opt/conda/envs/HL-capstone/lib/python3.6/site-packages/sklearn/cross_validation.py:1675: UserWarning: With alpha=0, this algorithm does not converge well. You are advised to use the LinearRegression estimator\n",
      "  estimator.fit(X_train, y_train, **fit_params)\n",
      "/opt/conda/envs/HL-capstone/lib/python3.6/site-packages/sklearn/linear_model/coordinate_descent.py:477: UserWarning: Coordinate descent with no regularization may lead to unexpected results and is discouraged.\n",
      "  positive)\n",
      "/opt/conda/envs/HL-capstone/lib/python3.6/site-packages/sklearn/cross_validation.py:1675: UserWarning: With alpha=0, this algorithm does not converge well. You are advised to use the LinearRegression estimator\n",
      "  estimator.fit(X_train, y_train, **fit_params)\n",
      "/opt/conda/envs/HL-capstone/lib/python3.6/site-packages/sklearn/linear_model/coordinate_descent.py:491: ConvergenceWarning: Objective did not converge. You might want to increase the number of iterations. Fitting data with very small alpha may cause precision problems.\n",
      "  ConvergenceWarning)\n",
      "/opt/conda/envs/HL-capstone/lib/python3.6/site-packages/sklearn/linear_model/coordinate_descent.py:491: ConvergenceWarning: Objective did not converge. You might want to increase the number of iterations. Fitting data with very small alpha may cause precision problems.\n",
      "  ConvergenceWarning)\n",
      "/opt/conda/envs/HL-capstone/lib/python3.6/site-packages/sklearn/linear_model/coordinate_descent.py:477: UserWarning: Coordinate descent with no regularization may lead to unexpected results and is discouraged.\n",
      "  positive)\n",
      "/opt/conda/envs/HL-capstone/lib/python3.6/site-packages/sklearn/cross_validation.py:1675: UserWarning: With alpha=0, this algorithm does not converge well. You are advised to use the LinearRegression estimator\n",
      "  estimator.fit(X_train, y_train, **fit_params)\n",
      "/opt/conda/envs/HL-capstone/lib/python3.6/site-packages/sklearn/cross_validation.py:1675: UserWarning: With alpha=0, this algorithm does not converge well. You are advised to use the LinearRegression estimator\n",
      "  estimator.fit(X_train, y_train, **fit_params)\n",
      "/opt/conda/envs/HL-capstone/lib/python3.6/site-packages/sklearn/linear_model/coordinate_descent.py:477: UserWarning: Coordinate descent with no regularization may lead to unexpected results and is discouraged.\n",
      "  positive)\n",
      "/opt/conda/envs/HL-capstone/lib/python3.6/site-packages/sklearn/linear_model/coordinate_descent.py:477: UserWarning: Coordinate descent with no regularization may lead to unexpected results and is discouraged.\n",
      "  positive)\n",
      "/opt/conda/envs/HL-capstone/lib/python3.6/site-packages/sklearn/linear_model/coordinate_descent.py:477: UserWarning: Coordinate descent with no regularization may lead to unexpected results and is discouraged.\n",
      "  positive)\n",
      "/opt/conda/envs/HL-capstone/lib/python3.6/site-packages/sklearn/linear_model/coordinate_descent.py:477: UserWarning: Coordinate descent with no regularization may lead to unexpected results and is discouraged.\n",
      "  positive)\n",
      "/opt/conda/envs/HL-capstone/lib/python3.6/site-packages/sklearn/linear_model/coordinate_descent.py:491: ConvergenceWarning: Objective did not converge. You might want to increase the number of iterations. Fitting data with very small alpha may cause precision problems.\n",
      "  ConvergenceWarning)\n",
      "/opt/conda/envs/HL-capstone/lib/python3.6/site-packages/sklearn/linear_model/coordinate_descent.py:491: ConvergenceWarning: Objective did not converge. You might want to increase the number of iterations. Fitting data with very small alpha may cause precision problems.\n",
      "  ConvergenceWarning)\n",
      "/opt/conda/envs/HL-capstone/lib/python3.6/site-packages/sklearn/linear_model/coordinate_descent.py:491: ConvergenceWarning: Objective did not converge. You might want to increase the number of iterations. Fitting data with very small alpha may cause precision problems.\n",
      "  ConvergenceWarning)\n",
      "/opt/conda/envs/HL-capstone/lib/python3.6/site-packages/sklearn/linear_model/coordinate_descent.py:491: ConvergenceWarning: Objective did not converge. You might want to increase the number of iterations. Fitting data with very small alpha may cause precision problems.\n",
      "  ConvergenceWarning)\n",
      "/opt/conda/envs/HL-capstone/lib/python3.6/site-packages/sklearn/linear_model/coordinate_descent.py:491: ConvergenceWarning: Objective did not converge. You might want to increase the number of iterations. Fitting data with very small alpha may cause precision problems.\n",
      "  ConvergenceWarning)\n",
      "/opt/conda/envs/HL-capstone/lib/python3.6/site-packages/sklearn/linear_model/coordinate_descent.py:491: ConvergenceWarning: Objective did not converge. You might want to increase the number of iterations. Fitting data with very small alpha may cause precision problems.\n",
      "  ConvergenceWarning)\n",
      "[Parallel(n_jobs=-1)]: Done 320 out of 320 | elapsed:    0.2s finished\n"
     ]
    },
    {
     "name": "stdout",
     "output_type": "stream",
     "text": [
      "Running GridSearchCV for RandomForestRegressor.\n",
      "Fitting 8 folds for each of 475 candidates, totalling 3800 fits\n"
     ]
    },
    {
     "name": "stderr",
     "output_type": "stream",
     "text": [
      "[Parallel(n_jobs=-1)]: Done 961 tasks      | elapsed:    6.9s\n",
      "[Parallel(n_jobs=-1)]: Done 2623 tasks      | elapsed:   24.6s\n",
      "[Parallel(n_jobs=-1)]: Done 3785 out of 3800 | elapsed:   42.4s remaining:    0.2s\n",
      "[Parallel(n_jobs=-1)]: Done 3800 out of 3800 | elapsed:   43.2s finished\n"
     ]
    }
   ],
   "source": [
    "helper1_2 = EstimatorSelectionHelper(models1_2, params1_2)\n",
    "helper1_2.fit(tr_x, tr_y, n_jobs=-1)"
   ]
  },
  {
   "cell_type": "code",
   "execution_count": 297,
   "metadata": {
    "hidden": true,
    "scrolled": true
   },
   "outputs": [
    {
     "name": "stderr",
     "output_type": "stream",
     "text": [
      "/opt/conda/envs/HL-capstone/lib/python3.6/site-packages/ipykernel_launcher.py:46: FutureWarning: Sorting because non-concatenation axis is not aligned. A future version\n",
      "of pandas will change to not sort by default.\n",
      "\n",
      "To accept the future behavior, pass 'sort=True'.\n",
      "\n",
      "To retain the current behavior and silence the warning, pass sort=False\n",
      "\n"
     ]
    }
   ],
   "source": [
    "helper1_2_result = helper1_2.score_summary()"
   ]
  },
  {
   "cell_type": "code",
   "execution_count": 299,
   "metadata": {
    "hidden": true
   },
   "outputs": [
    {
     "name": "stdout",
     "output_type": "stream",
     "text": [
      "estimator       RandomForestRegressor\n",
      "min_score                -0.000349009\n",
      "mean_score                 0.00506999\n",
      "max_score                  0.00904127\n",
      "std_score                   0.0032906\n",
      "alpha                             NaN\n",
      "max_depth                           1\n",
      "n_estimators                       23\n",
      "Name: 92, dtype: object\n"
     ]
    }
   ],
   "source": [
    "print(helper1_2_result.iloc[0])"
   ]
  },
  {
   "cell_type": "markdown",
   "metadata": {
    "heading_collapsed": true,
    "hidden": true
   },
   "source": [
    "#### Fit the best model"
   ]
  },
  {
   "cell_type": "code",
   "execution_count": 300,
   "metadata": {
    "hidden": true
   },
   "outputs": [
    {
     "name": "stdout",
     "output_type": "stream",
     "text": [
      "using Random Forest modes the score for TEST set is: 0.009840876547705046\n",
      "using Random Forest modes the score for TRAIN set is: 0.027367223049927225\n"
     ]
    }
   ],
   "source": [
    "model1_2_est = RandomForestRegressor(n_estimators = 21, max_depth = 4) \n",
    "model1_2_est.fit(tr_x, tr_y)\n",
    "print('using Random Forest modes the score for TEST set is: ' + \\\n",
    "      str(model1_2_est.score(te_x, te_y)))\n",
    "print('using Random Forest modes the score for TRAIN set is: ' + \\\n",
    "      str(model1_2_est.score(tr_x, tr_y)))"
   ]
  },
  {
   "cell_type": "code",
   "execution_count": 26,
   "metadata": {
    "hidden": true
   },
   "outputs": [
    {
     "name": "stdout",
     "output_type": "stream",
     "text": [
      "using Random Forest modes the score for TEST set is: 0.0016299897845416522\n",
      "using Random Forest modes the score for TRAIN set is: 0.0284133498474346\n"
     ]
    }
   ],
   "source": [
    "model1_2_est = Pipeline([\n",
    "        ('column_select_trans', ColumnToNPArrayTransformer(['budget_adj'])),\n",
    "        ('rf', RandomForestRegressor(n_estimators = 21, max_depth = 4))\n",
    "         ])\n",
    "model1_2_est.fit(data_imdb_rating_train, y_imdb_rating_train) # Fit the model using data_transform as training data and star_ratings\\\n",
    "                                                     # as target values\n",
    "print('using Random Forest modes the score for TEST set is: ' + \\\n",
    "      str(model1_2_est.score(data_imdb_rating_test, y_imdb_rating_test)))\n",
    "print('using Random Forest modes the score for TRAIN set is: ' + \\\n",
    "      str(model1_2_est.score(data_imdb_rating_train, y_imdb_rating_train)))"
   ]
  },
  {
   "cell_type": "markdown",
   "metadata": {
    "hidden": true
   },
   "source": [
    "### <font color='red'> 2. Train the model with `genres`: <font size = 10> IN"
   ]
  },
  {
   "cell_type": "markdown",
   "metadata": {
    "heading_collapsed": true,
    "hidden": true
   },
   "source": [
    "#### Modeling"
   ]
  },
  {
   "cell_type": "code",
   "execution_count": 134,
   "metadata": {
    "collapsed": true,
    "hidden": true
   },
   "outputs": [],
   "source": [
    "temp_pipe = Pipeline([\n",
    "        ('column_select_trans', ColumnSelectTransformer(['genres'])),\n",
    "        ('hot_one', DictEncoder()),\n",
    "        ('hot_one_dictionary', DictVectorizer())\n",
    "    ])\n",
    "tr_x = temp_pipe.fit_transform(data_imdb_rating_train, y_imdb_rating_train)\n",
    "tr_y = np.array(y_imdb_rating_train)\n",
    "te_x = temp_pipe.fit_transform(data_imdb_rating_test, y_imdb_rating_test)\n",
    "te_y = np.array(y_imdb_rating_test)"
   ]
  },
  {
   "cell_type": "code",
   "execution_count": 135,
   "metadata": {
    "collapsed": true,
    "hidden": true
   },
   "outputs": [],
   "source": [
    "models2 = { \n",
    "    'LinearRegression': LinearRegression(),\n",
    "    'Ridge': Ridge(),\n",
    "    'Lasso': Lasso(),\n",
    "    'RandomForestRegressor': RandomForestRegressor()\n",
    "}\n",
    "params2 = { \n",
    "    'LinearRegression': { },\n",
    "    'Ridge': { 'alpha': np.arange(0,10,0.5) },\n",
    "    'Lasso': { 'alpha': np.arange(0,10,0.5) },\n",
    "    'RandomForestRegressor':{'n_estimators': np.arange(1, 50 ,2),\n",
    "                              'max_depth': np.arange(1, 20, 1)}\n",
    "}\n"
   ]
  },
  {
   "cell_type": "code",
   "execution_count": 136,
   "metadata": {
    "hidden": true
   },
   "outputs": [
    {
     "name": "stdout",
     "output_type": "stream",
     "text": [
      "Running GridSearchCV for LinearRegression.\n",
      "Fitting 8 folds for each of 1 candidates, totalling 8 fits\n",
      "Running GridSearchCV for Ridge.\n",
      "Fitting 8 folds for each of 20 candidates, totalling 160 fits\n"
     ]
    },
    {
     "name": "stderr",
     "output_type": "stream",
     "text": [
      "[Parallel(n_jobs=-1)]: Done   2 out of   8 | elapsed:    0.0s remaining:    0.1s\n",
      "[Parallel(n_jobs=-1)]: Done   8 out of   8 | elapsed:    0.0s finished\n",
      "[Parallel(n_jobs=-1)]: Done 160 out of 160 | elapsed:    0.6s finished\n"
     ]
    },
    {
     "name": "stdout",
     "output_type": "stream",
     "text": [
      "Running GridSearchCV for Lasso.\n",
      "Fitting 8 folds for each of 20 candidates, totalling 160 fits\n"
     ]
    },
    {
     "name": "stderr",
     "output_type": "stream",
     "text": [
      "/opt/conda/envs/HL-capstone/lib/python3.6/site-packages/sklearn/cross_validation.py:1675: UserWarning: With alpha=0, this algorithm does not converge well. You are advised to use the LinearRegression estimator\n",
      "  estimator.fit(X_train, y_train, **fit_params)\n",
      "/opt/conda/envs/HL-capstone/lib/python3.6/site-packages/sklearn/cross_validation.py:1675: UserWarning: With alpha=0, this algorithm does not converge well. You are advised to use the LinearRegression estimator\n",
      "  estimator.fit(X_train, y_train, **fit_params)\n",
      "/opt/conda/envs/HL-capstone/lib/python3.6/site-packages/sklearn/cross_validation.py:1675: UserWarning: With alpha=0, this algorithm does not converge well. You are advised to use the LinearRegression estimator\n",
      "  estimator.fit(X_train, y_train, **fit_params)\n",
      "/opt/conda/envs/HL-capstone/lib/python3.6/site-packages/sklearn/cross_validation.py:1675: UserWarning: With alpha=0, this algorithm does not converge well. You are advised to use the LinearRegression estimator\n",
      "  estimator.fit(X_train, y_train, **fit_params)\n",
      "/opt/conda/envs/HL-capstone/lib/python3.6/site-packages/sklearn/cross_validation.py:1675: UserWarning: With alpha=0, this algorithm does not converge well. You are advised to use the LinearRegression estimator\n",
      "  estimator.fit(X_train, y_train, **fit_params)\n",
      "/opt/conda/envs/HL-capstone/lib/python3.6/site-packages/sklearn/cross_validation.py:1675: UserWarning: With alpha=0, this algorithm does not converge well. You are advised to use the LinearRegression estimator\n",
      "  estimator.fit(X_train, y_train, **fit_params)\n",
      "/opt/conda/envs/HL-capstone/lib/python3.6/site-packages/sklearn/cross_validation.py:1675: UserWarning: With alpha=0, this algorithm does not converge well. You are advised to use the LinearRegression estimator\n",
      "  estimator.fit(X_train, y_train, **fit_params)\n",
      "/opt/conda/envs/HL-capstone/lib/python3.6/site-packages/sklearn/cross_validation.py:1675: UserWarning: With alpha=0, this algorithm does not converge well. You are advised to use the LinearRegression estimator\n",
      "  estimator.fit(X_train, y_train, **fit_params)\n",
      "/opt/conda/envs/HL-capstone/lib/python3.6/site-packages/sklearn/linear_model/coordinate_descent.py:491: ConvergenceWarning: Objective did not converge. You might want to increase the number of iterations. Fitting data with very small alpha may cause precision problems.\n",
      "  ConvergenceWarning)\n",
      "/opt/conda/envs/HL-capstone/lib/python3.6/site-packages/sklearn/linear_model/coordinate_descent.py:491: ConvergenceWarning: Objective did not converge. You might want to increase the number of iterations. Fitting data with very small alpha may cause precision problems.\n",
      "  ConvergenceWarning)\n",
      "/opt/conda/envs/HL-capstone/lib/python3.6/site-packages/sklearn/linear_model/coordinate_descent.py:491: ConvergenceWarning: Objective did not converge. You might want to increase the number of iterations. Fitting data with very small alpha may cause precision problems.\n",
      "  ConvergenceWarning)\n",
      "/opt/conda/envs/HL-capstone/lib/python3.6/site-packages/sklearn/linear_model/coordinate_descent.py:491: ConvergenceWarning: Objective did not converge. You might want to increase the number of iterations. Fitting data with very small alpha may cause precision problems.\n",
      "  ConvergenceWarning)\n",
      "/opt/conda/envs/HL-capstone/lib/python3.6/site-packages/sklearn/linear_model/coordinate_descent.py:491: ConvergenceWarning: Objective did not converge. You might want to increase the number of iterations. Fitting data with very small alpha may cause precision problems.\n",
      "  ConvergenceWarning)\n",
      "/opt/conda/envs/HL-capstone/lib/python3.6/site-packages/sklearn/linear_model/coordinate_descent.py:491: ConvergenceWarning: Objective did not converge. You might want to increase the number of iterations. Fitting data with very small alpha may cause precision problems.\n",
      "  ConvergenceWarning)\n",
      "/opt/conda/envs/HL-capstone/lib/python3.6/site-packages/sklearn/linear_model/coordinate_descent.py:491: ConvergenceWarning: Objective did not converge. You might want to increase the number of iterations. Fitting data with very small alpha may cause precision problems.\n",
      "  ConvergenceWarning)\n",
      "/opt/conda/envs/HL-capstone/lib/python3.6/site-packages/sklearn/linear_model/coordinate_descent.py:491: ConvergenceWarning: Objective did not converge. You might want to increase the number of iterations. Fitting data with very small alpha may cause precision problems.\n",
      "  ConvergenceWarning)\n"
     ]
    },
    {
     "name": "stdout",
     "output_type": "stream",
     "text": [
      "Running GridSearchCV for RandomForestRegressor.\n",
      "Fitting 8 folds for each of 475 candidates, totalling 3800 fits\n"
     ]
    },
    {
     "name": "stderr",
     "output_type": "stream",
     "text": [
      "[Parallel(n_jobs=-1)]: Done 160 out of 160 | elapsed:    0.5s finished\n",
      "[Parallel(n_jobs=-1)]: Done 412 tasks      | elapsed:    2.2s\n",
      "[Parallel(n_jobs=-1)]: Done 1973 tasks      | elapsed:   17.7s\n",
      "[Parallel(n_jobs=-1)]: Done 3115 tasks      | elapsed:   37.9s\n",
      "[Parallel(n_jobs=-1)]: Done 3785 out of 3800 | elapsed:   53.1s remaining:    0.2s\n",
      "[Parallel(n_jobs=-1)]: Done 3800 out of 3800 | elapsed:   53.7s finished\n"
     ]
    }
   ],
   "source": [
    "helper2 = EstimatorSelectionHelper(models2, params2)\n",
    "helper2.fit(tr_x, tr_y, n_jobs=-1)"
   ]
  },
  {
   "cell_type": "code",
   "execution_count": 139,
   "metadata": {
    "hidden": true
   },
   "outputs": [
    {
     "name": "stderr",
     "output_type": "stream",
     "text": [
      "/opt/conda/envs/HL-capstone/lib/python3.6/site-packages/ipykernel_launcher.py:46: FutureWarning: Sorting because non-concatenation axis is not aligned. A future version\n",
      "of pandas will change to not sort by default.\n",
      "\n",
      "To accept the future behavior, pass 'sort=True'.\n",
      "\n",
      "To retain the current behavior and silence the warning, pass sort=False\n",
      "\n"
     ]
    }
   ],
   "source": [
    "helper2_result = helper2.score_summary()"
   ]
  },
  {
   "cell_type": "code",
   "execution_count": 190,
   "metadata": {
    "hidden": true
   },
   "outputs": [
    {
     "data": {
      "text/plain": [
       "estimator       RandomForestRegressor\n",
       "min_score                    0.125719\n",
       "mean_score                   0.172179\n",
       "max_score                    0.204761\n",
       "std_score                   0.0259654\n",
       "alpha                             NaN\n",
       "max_depth                           7\n",
       "n_estimators                       11\n",
       "Name: 196, dtype: object"
      ]
     },
     "execution_count": 190,
     "metadata": {},
     "output_type": "execute_result"
    }
   ],
   "source": [
    "helper2_result.iloc[0]"
   ]
  },
  {
   "cell_type": "markdown",
   "metadata": {
    "heading_collapsed": true,
    "hidden": true
   },
   "source": [
    "#### Fit the best model"
   ]
  },
  {
   "cell_type": "code",
   "execution_count": 143,
   "metadata": {
    "hidden": true
   },
   "outputs": [
    {
     "name": "stdout",
     "output_type": "stream",
     "text": [
      "using Random Forest modes the score for TEST set is: 0.16091102904698762\n",
      "using Random Forest modes the score for TRAIN set is: 0.21761220098461098\n"
     ]
    }
   ],
   "source": [
    "model2_est = RandomForestRegressor(n_estimators = 11, max_depth = 7) \n",
    "model2_est.fit(tr_x, tr_y)\n",
    "print('using Random Forest modes the score for TEST set is: ' + \\\n",
    "      str(model2_est.score(te_x, te_y)))\n",
    "print('using Random Forest modes the score for TRAIN set is: ' + \\\n",
    "      str(model2_est.score(tr_x, tr_y)))"
   ]
  },
  {
   "cell_type": "code",
   "execution_count": 27,
   "metadata": {
    "hidden": true
   },
   "outputs": [
    {
     "name": "stdout",
     "output_type": "stream",
     "text": [
      "using Random Forest modes the score for TRAIN set is: 0.21723335853383074\n"
     ]
    }
   ],
   "source": [
    "model2_est = Pipeline([\n",
    "        ('column_select_trans', ColumnSelectTransformer(['genres'])),\n",
    "        ('hot_one', DictEncoder()),\n",
    "        ('hot_one_dictionary', DictVectorizer()),\n",
    "        ('rf', RandomForestRegressor(n_estimators = 11, max_depth = 7) )\n",
    "         ])\n",
    "model2_est.fit(data_imdb_rating_train, y_imdb_rating_train) # Fit the model using data_transform as training data and star_ratings\\\n",
    "                                                     # as target values\n",
    "#print('using Random Forest modes the score for TEST set is: ' + \\\n",
    "#      str(model1_est.score(y_imdb_rating_test, y_imdb_rating_test)))\n",
    "print('using Random Forest modes the score for TRAIN set is: ' + \\\n",
    "      str(model2_est.score(data_imdb_rating_train, y_imdb_rating_train)))"
   ]
  },
  {
   "cell_type": "markdown",
   "metadata": {
    "hidden": true
   },
   "source": [
    "#### Plot"
   ]
  },
  {
   "cell_type": "code",
   "execution_count": 70,
   "metadata": {
    "hidden": true
   },
   "outputs": [
    {
     "name": "stdout",
     "output_type": "stream",
     "text": [
      "{'Drama': 0, 'Romance': 0, 'Comedy': 0, 'Crime': 0, 'Thriller': 0, 'Adventure': 0, 'Family': 0, 'Fantasy': 0, 'Horror': 0, 'Mystery': 0, 'History': 0, 'Sci-Fi': 0, 'Action': 0, 'Musical': 0, 'Music': 0, 'Sport': 0, 'Biography': 0, 'Animation': 0, 'War': 0, 'Western': 0, 'Documentary': 0}\n",
      "{'Drama': 0, 'Romance': 0, 'Comedy': 0, 'Crime': 0, 'Thriller': 0, 'Adventure': 0, 'Family': 0, 'Fantasy': 0, 'Horror': 0, 'Mystery': 0, 'History': 0, 'Sci-Fi': 0, 'Action': 0, 'Musical': 0, 'Music': 0, 'Sport': 0, 'Biography': 0, 'Animation': 0, 'War': 0, 'Western': 0, 'Documentary': 0}\n"
     ]
    }
   ],
   "source": [
    "genre_count = {}\n",
    "genre_sum = {}\n",
    "for row in data_imdb_rating:\n",
    "    if row['genres'][0]:        \n",
    "        for g in row['genres']:            \n",
    "            genre_sum.update({g:0})\n",
    "            genre_count.update({g:0})\n",
    "print(genre_count)\n",
    "print(genre_sum)"
   ]
  },
  {
   "cell_type": "code",
   "execution_count": 71,
   "metadata": {
    "hidden": true
   },
   "outputs": [
    {
     "name": "stdout",
     "output_type": "stream",
     "text": [
      "Drama\n",
      "<class 'str'>\n",
      "Romance\n",
      "<class 'str'>\n"
     ]
    }
   ],
   "source": [
    "for g in data_imdb_rating[0]['genres']:\n",
    "    print(g)\n",
    "    print(type(g))"
   ]
  },
  {
   "cell_type": "code",
   "execution_count": 72,
   "metadata": {
    "hidden": true
   },
   "outputs": [
    {
     "data": {
      "text/plain": [
       "[5.76,\n",
       " 5.93,\n",
       " 6.09,\n",
       " 6.1,\n",
       " 6.1,\n",
       " 6.13,\n",
       " 6.22,\n",
       " 6.27,\n",
       " 6.3,\n",
       " 6.3,\n",
       " 6.3,\n",
       " 6.31,\n",
       " 6.4,\n",
       " 6.42,\n",
       " 6.54,\n",
       " 6.56,\n",
       " 6.63,\n",
       " 6.85,\n",
       " 6.93,\n",
       " 6.97,\n",
       " 7.04]"
      ]
     },
     "execution_count": 72,
     "metadata": {},
     "output_type": "execute_result"
    }
   ],
   "source": [
    "for row in data_imdb_rating:\n",
    "    if row['genres'] and row['imdb_rating'][0]:\n",
    "        \n",
    "        for g in row['genres'] :\n",
    "            genre_sum[g] += row['imdb_rating'][0]\n",
    "            genre_count[g] += 1\n",
    "genre_mean = {}\n",
    "for k, v in genre_sum.items():\n",
    "    genre_mean.update({k:round(v/genre_count[k], 2)})\n",
    "\n",
    "\n",
    "means = []\n",
    "genres = []\n",
    "sorted_d = sorted(genre_mean.items(), key=lambda x: x[1])\n",
    "for t in sorted_d:\n",
    "    genres.append(t[0])\n",
    "    means.append(t[1])\n",
    "means"
   ]
  },
  {
   "cell_type": "code",
   "execution_count": 73,
   "metadata": {
    "hidden": true
   },
   "outputs": [
    {
     "data": {
      "text/plain": [
       "['#3288bd', '#99d594', '#e6f598', '#fee08b', '#fc8d59', '#d53e4f']"
      ]
     },
     "execution_count": 73,
     "metadata": {},
     "output_type": "execute_result"
    }
   ],
   "source": [
    "from bokeh.palettes import Spectral6\n",
    "from bokeh.transform import factor_cmap\n",
    "import math\n",
    "from bokeh.models import ColumnDataSource, ranges, LabelSet\n",
    "Spectral6"
   ]
  },
  {
   "cell_type": "code",
   "execution_count": 74,
   "metadata": {
    "hidden": true
   },
   "outputs": [
    {
     "name": "stdout",
     "output_type": "stream",
     "text": [
      "['#e84d60', '#e84d60', '#e84d60', '#718dbf', '#718dbf', '#718dbf', '#718dbf', '#718dbf', '#718dbf', '#718dbf', '#718dbf', '#718dbf', '#718dbf', '#718dbf', '#718dbf', '#718dbf', '#718dbf', '#718dbf', '#c9d9d3', '#c9d9d3', '#c9d9d3']\n"
     ]
    }
   ],
   "source": [
    "source = ColumnDataSource(data = {'means' : means, 'genres' : genres})\n",
    "color_set = []\n",
    "count = 0\n",
    "for g in genres:\n",
    "    count += 1\n",
    "    if count < 4:\n",
    "        color = \"#e84d60\"\n",
    "    elif count > len(genres) - 3:\n",
    "        color = \"#c9d9d3\"\n",
    "    else:\n",
    "        color = \"#718dbf\"\n",
    "    color_set.append(color)\n",
    "    \n",
    "print(color_set)"
   ]
  },
  {
   "cell_type": "code",
   "execution_count": 75,
   "metadata": {
    "hidden": true
   },
   "outputs": [
    {
     "data": {
      "text/html": [
       "\n",
       "<div class=\"bk-root\">\n",
       "    <div class=\"bk-plotdiv\" id=\"1b012f3a-51e9-45bd-98ef-52b24ba043f7\"></div>\n",
       "</div>"
      ]
     },
     "metadata": {},
     "output_type": "display_data"
    },
    {
     "data": {
      "application/javascript": [
       "(function(root) {\n",
       "  function embed_document(root) {\n",
       "    \n",
       "  var docs_json = {\"af69e1d4-efbb-4c25-acfd-58633dc1d761\":{\"roots\":{\"references\":[{\"attributes\":{},\"id\":\"3d453eeb-3ad4-4470-895b-473b8ce7fce8\",\"type\":\"BasicTicker\"},{\"attributes\":{\"dimension\":1,\"plot\":{\"id\":\"1ba8d870-d8ac-4103-86cd-0c9a875e413b\",\"subtype\":\"Figure\",\"type\":\"Plot\"},\"ticker\":{\"id\":\"3d453eeb-3ad4-4470-895b-473b8ce7fce8\",\"type\":\"BasicTicker\"}},\"id\":\"f4f83b81-1868-4f97-8e51-1a20ce027c66\",\"type\":\"Grid\"},{\"attributes\":{},\"id\":\"7ee9739b-e0a2-4963-b3b7-8595e7851795\",\"type\":\"Selection\"},{\"attributes\":{\"fill_alpha\":{\"value\":0.7},\"fill_color\":{\"field\":\"genres\",\"transform\":{\"id\":\"a0471c17-0a8f-4585-9252-24672993ecf8\",\"type\":\"CategoricalColorMapper\"}},\"line_color\":{\"value\":\"white\"},\"top\":{\"field\":\"means\"},\"width\":{\"value\":0.5},\"x\":{\"field\":\"genres\"}},\"id\":\"61059b3f-35b6-40c8-bf98-5f0301c1df23\",\"type\":\"VBar\"},{\"attributes\":{\"below\":[{\"id\":\"f56aee81-758f-4d02-b2e7-d9e4d4ed4f33\",\"type\":\"CategoricalAxis\"}],\"left\":[{\"id\":\"fc227233-c9ee-44b0-8cbf-6dae26be0268\",\"type\":\"LinearAxis\"}],\"plot_height\":400,\"plot_width\":1000,\"renderers\":[{\"id\":\"f56aee81-758f-4d02-b2e7-d9e4d4ed4f33\",\"type\":\"CategoricalAxis\"},{\"id\":\"215f4f1e-1083-4a18-9bf7-aad995730c16\",\"type\":\"Grid\"},{\"id\":\"fc227233-c9ee-44b0-8cbf-6dae26be0268\",\"type\":\"LinearAxis\"},{\"id\":\"f4f83b81-1868-4f97-8e51-1a20ce027c66\",\"type\":\"Grid\"},{\"id\":\"5168105c-c129-4ca6-8524-b5c74d466448\",\"type\":\"BoxAnnotation\"},{\"id\":\"a323a7e6-5cdb-440b-882f-dae4934268aa\",\"type\":\"GlyphRenderer\"},{\"id\":\"bcfc3a94-a3f6-4157-9c7c-99cf5959925e\",\"type\":\"LabelSet\"}],\"title\":{\"id\":\"1fe77696-c330-4370-b933-d69c29062a8a\",\"type\":\"Title\"},\"toolbar\":{\"id\":\"38e40a75-675b-458c-ad45-1f67e1c4573f\",\"type\":\"Toolbar\"},\"toolbar_location\":null,\"x_range\":{\"id\":\"8f1b63ff-159a-4082-95f1-99221a195c80\",\"type\":\"FactorRange\"},\"x_scale\":{\"id\":\"2860fb44-e473-4bd8-9b5e-5e82cadba4b0\",\"type\":\"CategoricalScale\"},\"y_range\":{\"id\":\"3535ee90-cfb2-4ec4-94c2-becae0a55e37\",\"type\":\"DataRange1d\"},\"y_scale\":{\"id\":\"5415b158-2f49-48cb-8d30-334632f298d1\",\"type\":\"LinearScale\"}},\"id\":\"1ba8d870-d8ac-4103-86cd-0c9a875e413b\",\"subtype\":\"Figure\",\"type\":\"Plot\"},{\"attributes\":{\"callback\":null,\"factors\":[\"Horror\",\"Family\",\"Fantasy\",\"Comedy\",\"Action\",\"Sci-Fi\",\"Thriller\",\"Adventure\",\"Romance\",\"Mystery\",\"Musical\",\"Music\",\"Crime\",\"Sport\",\"Western\",\"Animation\",\"Drama\",\"War\",\"History\",\"Documentary\",\"Biography\"]},\"id\":\"8f1b63ff-159a-4082-95f1-99221a195c80\",\"type\":\"FactorRange\"},{\"attributes\":{\"bottom_units\":\"screen\",\"fill_alpha\":{\"value\":0.5},\"fill_color\":{\"value\":\"lightgrey\"},\"left_units\":\"screen\",\"level\":\"overlay\",\"line_alpha\":{\"value\":1.0},\"line_color\":{\"value\":\"black\"},\"line_dash\":[4,4],\"line_width\":{\"value\":2},\"plot\":null,\"render_mode\":\"css\",\"right_units\":\"screen\",\"top_units\":\"screen\"},\"id\":\"5168105c-c129-4ca6-8524-b5c74d466448\",\"type\":\"BoxAnnotation\"},{\"attributes\":{},\"id\":\"2cdf470a-eff0-4959-bf91-7ce7862eef09\",\"type\":\"PanTool\"},{\"attributes\":{\"callback\":null,\"data\":{\"genres\":[\"Horror\",\"Family\",\"Fantasy\",\"Comedy\",\"Action\",\"Sci-Fi\",\"Thriller\",\"Adventure\",\"Romance\",\"Mystery\",\"Musical\",\"Music\",\"Crime\",\"Sport\",\"Western\",\"Animation\",\"Drama\",\"War\",\"History\",\"Documentary\",\"Biography\"],\"means\":[5.76,5.93,6.09,6.1,6.1,6.13,6.22,6.27,6.3,6.3,6.3,6.31,6.4,6.42,6.54,6.56,6.63,6.85,6.93,6.97,7.04]},\"selected\":{\"id\":\"7ee9739b-e0a2-4963-b3b7-8595e7851795\",\"type\":\"Selection\"},\"selection_policy\":{\"id\":\"c2e000b0-8e23-4a48-9f9c-d2148527cb8d\",\"type\":\"UnionRenderers\"}},\"id\":\"fb782c39-d6f1-4401-820b-7d574bb33615\",\"type\":\"ColumnDataSource\"},{\"attributes\":{\"fill_alpha\":{\"value\":0.1},\"fill_color\":{\"value\":\"#1f77b4\"},\"line_alpha\":{\"value\":0.1},\"line_color\":{\"value\":\"#1f77b4\"},\"top\":{\"field\":\"means\"},\"width\":{\"value\":0.5},\"x\":{\"field\":\"genres\"}},\"id\":\"1175adcd-7123-475d-b6e5-dabe59390c62\",\"type\":\"VBar\"},{\"attributes\":{\"plot\":null,\"text\":\"Mean IMDB Score for Each Genre\"},\"id\":\"1fe77696-c330-4370-b933-d69c29062a8a\",\"type\":\"Title\"},{\"attributes\":{},\"id\":\"93f77f12-fd25-409d-b206-57ad1cfa4028\",\"type\":\"WheelZoomTool\"},{\"attributes\":{\"active_drag\":\"auto\",\"active_inspect\":\"auto\",\"active_scroll\":\"auto\",\"active_tap\":\"auto\",\"tools\":[{\"id\":\"2cdf470a-eff0-4959-bf91-7ce7862eef09\",\"type\":\"PanTool\"},{\"id\":\"93f77f12-fd25-409d-b206-57ad1cfa4028\",\"type\":\"WheelZoomTool\"},{\"id\":\"782ab7f2-e5f6-4ed6-a4cb-58144d7d010a\",\"type\":\"BoxZoomTool\"},{\"id\":\"c1ca5cbf-f2f7-46b2-8809-b27a53b9e91e\",\"type\":\"SaveTool\"},{\"id\":\"a4290453-b3f2-43ac-99d8-32bdc872f483\",\"type\":\"ResetTool\"},{\"id\":\"175849ae-4ee1-44c2-a7f3-0ea4b6b76f6b\",\"type\":\"HelpTool\"}]},\"id\":\"38e40a75-675b-458c-ad45-1f67e1c4573f\",\"type\":\"Toolbar\"},{\"attributes\":{\"overlay\":{\"id\":\"5168105c-c129-4ca6-8524-b5c74d466448\",\"type\":\"BoxAnnotation\"}},\"id\":\"782ab7f2-e5f6-4ed6-a4cb-58144d7d010a\",\"type\":\"BoxZoomTool\"},{\"attributes\":{\"data_source\":{\"id\":\"fb782c39-d6f1-4401-820b-7d574bb33615\",\"type\":\"ColumnDataSource\"},\"glyph\":{\"id\":\"61059b3f-35b6-40c8-bf98-5f0301c1df23\",\"type\":\"VBar\"},\"hover_glyph\":null,\"muted_glyph\":null,\"nonselection_glyph\":{\"id\":\"1175adcd-7123-475d-b6e5-dabe59390c62\",\"type\":\"VBar\"},\"selection_glyph\":null,\"view\":{\"id\":\"2371a584-a784-4412-94a0-6a6f6c773ecf\",\"type\":\"CDSView\"}},\"id\":\"a323a7e6-5cdb-440b-882f-dae4934268aa\",\"type\":\"GlyphRenderer\"},{\"attributes\":{\"level\":\"glyph\",\"plot\":{\"id\":\"1ba8d870-d8ac-4103-86cd-0c9a875e413b\",\"subtype\":\"Figure\",\"type\":\"Plot\"},\"source\":{\"id\":\"fb782c39-d6f1-4401-820b-7d574bb33615\",\"type\":\"ColumnDataSource\"},\"text\":{\"field\":\"means\"},\"text_font_size\":{\"value\":\"9pt\"},\"x\":{\"field\":\"genres\"},\"x_offset\":{\"value\":-13.5},\"y\":{\"field\":\"means\"}},\"id\":\"bcfc3a94-a3f6-4157-9c7c-99cf5959925e\",\"type\":\"LabelSet\"},{\"attributes\":{},\"id\":\"c1ca5cbf-f2f7-46b2-8809-b27a53b9e91e\",\"type\":\"SaveTool\"},{\"attributes\":{\"axis_label\":\"Mean IMDB score\",\"formatter\":{\"id\":\"1ae59360-91be-4ebb-bf8b-0f0be79bee4c\",\"type\":\"BasicTickFormatter\"},\"plot\":{\"id\":\"1ba8d870-d8ac-4103-86cd-0c9a875e413b\",\"subtype\":\"Figure\",\"type\":\"Plot\"},\"ticker\":{\"id\":\"3d453eeb-3ad4-4470-895b-473b8ce7fce8\",\"type\":\"BasicTicker\"}},\"id\":\"fc227233-c9ee-44b0-8cbf-6dae26be0268\",\"type\":\"LinearAxis\"},{\"attributes\":{},\"id\":\"a4290453-b3f2-43ac-99d8-32bdc872f483\",\"type\":\"ResetTool\"},{\"attributes\":{},\"id\":\"2860fb44-e473-4bd8-9b5e-5e82cadba4b0\",\"type\":\"CategoricalScale\"},{\"attributes\":{},\"id\":\"175849ae-4ee1-44c2-a7f3-0ea4b6b76f6b\",\"type\":\"HelpTool\"},{\"attributes\":{\"callback\":null,\"end\":8,\"start\":5},\"id\":\"3535ee90-cfb2-4ec4-94c2-becae0a55e37\",\"type\":\"DataRange1d\"},{\"attributes\":{\"source\":{\"id\":\"fb782c39-d6f1-4401-820b-7d574bb33615\",\"type\":\"ColumnDataSource\"}},\"id\":\"2371a584-a784-4412-94a0-6a6f6c773ecf\",\"type\":\"CDSView\"},{\"attributes\":{},\"id\":\"5415b158-2f49-48cb-8d30-334632f298d1\",\"type\":\"LinearScale\"},{\"attributes\":{\"grid_line_color\":{\"value\":null},\"plot\":{\"id\":\"1ba8d870-d8ac-4103-86cd-0c9a875e413b\",\"subtype\":\"Figure\",\"type\":\"Plot\"},\"ticker\":{\"id\":\"466eeb6f-d329-4b9d-b803-e16020b506ca\",\"type\":\"CategoricalTicker\"}},\"id\":\"215f4f1e-1083-4a18-9bf7-aad995730c16\",\"type\":\"Grid\"},{\"attributes\":{},\"id\":\"0d33232e-1ee3-49bc-a2a6-8fae1953c751\",\"type\":\"CategoricalTickFormatter\"},{\"attributes\":{\"axis_label\":\"Movie genre\",\"formatter\":{\"id\":\"0d33232e-1ee3-49bc-a2a6-8fae1953c751\",\"type\":\"CategoricalTickFormatter\"},\"major_label_orientation\":0.7853981633974483,\"plot\":{\"id\":\"1ba8d870-d8ac-4103-86cd-0c9a875e413b\",\"subtype\":\"Figure\",\"type\":\"Plot\"},\"ticker\":{\"id\":\"466eeb6f-d329-4b9d-b803-e16020b506ca\",\"type\":\"CategoricalTicker\"}},\"id\":\"f56aee81-758f-4d02-b2e7-d9e4d4ed4f33\",\"type\":\"CategoricalAxis\"},{\"attributes\":{},\"id\":\"c2e000b0-8e23-4a48-9f9c-d2148527cb8d\",\"type\":\"UnionRenderers\"},{\"attributes\":{},\"id\":\"466eeb6f-d329-4b9d-b803-e16020b506ca\",\"type\":\"CategoricalTicker\"},{\"attributes\":{\"factors\":[\"Horror\",\"Family\",\"Fantasy\",\"Comedy\",\"Action\",\"Sci-Fi\",\"Thriller\",\"Adventure\",\"Romance\",\"Mystery\",\"Musical\",\"Music\",\"Crime\",\"Sport\",\"Western\",\"Animation\",\"Drama\",\"War\",\"History\",\"Documentary\",\"Biography\"],\"palette\":[\"#e84d60\",\"#e84d60\",\"#e84d60\",\"#718dbf\",\"#718dbf\",\"#718dbf\",\"#718dbf\",\"#718dbf\",\"#718dbf\",\"#718dbf\",\"#718dbf\",\"#718dbf\",\"#718dbf\",\"#718dbf\",\"#718dbf\",\"#718dbf\",\"#718dbf\",\"#718dbf\",\"#c9d9d3\",\"#c9d9d3\",\"#c9d9d3\"]},\"id\":\"a0471c17-0a8f-4585-9252-24672993ecf8\",\"type\":\"CategoricalColorMapper\"},{\"attributes\":{},\"id\":\"1ae59360-91be-4ebb-bf8b-0f0be79bee4c\",\"type\":\"BasicTickFormatter\"}],\"root_ids\":[\"1ba8d870-d8ac-4103-86cd-0c9a875e413b\"]},\"title\":\"Bokeh Application\",\"version\":\"0.12.16\"}};\n",
       "  var render_items = [{\"docid\":\"af69e1d4-efbb-4c25-acfd-58633dc1d761\",\"elementid\":\"1b012f3a-51e9-45bd-98ef-52b24ba043f7\",\"modelid\":\"1ba8d870-d8ac-4103-86cd-0c9a875e413b\"}];\n",
       "  root.Bokeh.embed.embed_items_notebook(docs_json, render_items);\n",
       "\n",
       "  }\n",
       "  if (root.Bokeh !== undefined) {\n",
       "    embed_document(root);\n",
       "  } else {\n",
       "    var attempts = 0;\n",
       "    var timer = setInterval(function(root) {\n",
       "      if (root.Bokeh !== undefined) {\n",
       "        embed_document(root);\n",
       "        clearInterval(timer);\n",
       "      }\n",
       "      attempts++;\n",
       "      if (attempts > 100) {\n",
       "        console.log(\"Bokeh: ERROR: Unable to run BokehJS code because BokehJS library is missing\")\n",
       "        clearInterval(timer);\n",
       "      }\n",
       "    }, 10, root)\n",
       "  }\n",
       "})(window);"
      ],
      "application/vnd.bokehjs_exec.v0+json": ""
     },
     "metadata": {
      "application/vnd.bokehjs_exec.v0+json": {
       "id": "1ba8d870-d8ac-4103-86cd-0c9a875e413b"
      }
     },
     "output_type": "display_data"
    },
    {
     "name": "stderr",
     "output_type": "stream",
     "text": [
      "ERROR:bokeh.core.validation.check:E-1001 (BAD_COLUMN_NAME): Glyph refers to nonexistent column name: te_predict_rating, y_imdb_rating_test [renderer: GlyphRenderer(id='d7649bd6-f43f-4dae-b397-8f9d1f89db9a', ...)]\n"
     ]
    },
    {
     "ename": "KeyboardInterrupt",
     "evalue": "",
     "output_type": "error",
     "traceback": [
      "\u001b[0;31m---------------------------------------------------------------------------\u001b[0m",
      "\u001b[0;31mKeyboardInterrupt\u001b[0m                         Traceback (most recent call last)",
      "\u001b[0;32m<ipython-input-75-4f60250d50b2>\u001b[0m in \u001b[0;36m<module>\u001b[0;34m()\u001b[0m\n\u001b[1;32m     26\u001b[0m \u001b[0mp\u001b[0m\u001b[0;34m.\u001b[0m\u001b[0madd_layout\u001b[0m\u001b[0;34m(\u001b[0m\u001b[0mlabels\u001b[0m\u001b[0;34m)\u001b[0m\u001b[0;34m\u001b[0m\u001b[0m\n\u001b[1;32m     27\u001b[0m \u001b[0;34m\u001b[0m\u001b[0m\n\u001b[0;32m---> 28\u001b[0;31m \u001b[0mshow\u001b[0m\u001b[0;34m(\u001b[0m\u001b[0mp\u001b[0m\u001b[0;34m)\u001b[0m\u001b[0;34m\u001b[0m\u001b[0m\n\u001b[0m",
      "\u001b[0;32m/opt/conda/envs/HL-capstone/lib/python3.6/site-packages/bokeh/io/showing.py\u001b[0m in \u001b[0;36mshow\u001b[0;34m(obj, browser, new, notebook_handle, notebook_url)\u001b[0m\n\u001b[1;32m    135\u001b[0m     \u001b[0;32mif\u001b[0m \u001b[0mobj\u001b[0m \u001b[0;32mnot\u001b[0m \u001b[0;32min\u001b[0m \u001b[0mstate\u001b[0m\u001b[0;34m.\u001b[0m\u001b[0mdocument\u001b[0m\u001b[0;34m.\u001b[0m\u001b[0mroots\u001b[0m\u001b[0;34m:\u001b[0m\u001b[0;34m\u001b[0m\u001b[0m\n\u001b[1;32m    136\u001b[0m         \u001b[0mstate\u001b[0m\u001b[0;34m.\u001b[0m\u001b[0mdocument\u001b[0m\u001b[0;34m.\u001b[0m\u001b[0madd_root\u001b[0m\u001b[0;34m(\u001b[0m\u001b[0mobj\u001b[0m\u001b[0;34m)\u001b[0m\u001b[0;34m\u001b[0m\u001b[0m\n\u001b[0;32m--> 137\u001b[0;31m     \u001b[0;32mreturn\u001b[0m \u001b[0m_show_with_state\u001b[0m\u001b[0;34m(\u001b[0m\u001b[0mobj\u001b[0m\u001b[0;34m,\u001b[0m \u001b[0mstate\u001b[0m\u001b[0;34m,\u001b[0m \u001b[0mbrowser\u001b[0m\u001b[0;34m,\u001b[0m \u001b[0mnew\u001b[0m\u001b[0;34m,\u001b[0m \u001b[0mnotebook_handle\u001b[0m\u001b[0;34m=\u001b[0m\u001b[0mnotebook_handle\u001b[0m\u001b[0;34m)\u001b[0m\u001b[0;34m\u001b[0m\u001b[0m\n\u001b[0m\u001b[1;32m    138\u001b[0m \u001b[0;34m\u001b[0m\u001b[0m\n\u001b[1;32m    139\u001b[0m \u001b[0;31m#-----------------------------------------------------------------------------\u001b[0m\u001b[0;34m\u001b[0m\u001b[0;34m\u001b[0m\u001b[0m\n",
      "\u001b[0;32m/opt/conda/envs/HL-capstone/lib/python3.6/site-packages/bokeh/io/showing.py\u001b[0m in \u001b[0;36m_show_with_state\u001b[0;34m(obj, state, browser, new, notebook_handle)\u001b[0m\n\u001b[1;32m    173\u001b[0m \u001b[0;34m\u001b[0m\u001b[0m\n\u001b[1;32m    174\u001b[0m     \u001b[0;32mif\u001b[0m \u001b[0mstate\u001b[0m\u001b[0;34m.\u001b[0m\u001b[0mfile\u001b[0m \u001b[0;32mor\u001b[0m \u001b[0;32mnot\u001b[0m \u001b[0mshown\u001b[0m\u001b[0;34m:\u001b[0m\u001b[0;34m\u001b[0m\u001b[0m\n\u001b[0;32m--> 175\u001b[0;31m         \u001b[0m_show_file_with_state\u001b[0m\u001b[0;34m(\u001b[0m\u001b[0mobj\u001b[0m\u001b[0;34m,\u001b[0m \u001b[0mstate\u001b[0m\u001b[0;34m,\u001b[0m \u001b[0mnew\u001b[0m\u001b[0;34m,\u001b[0m \u001b[0mcontroller\u001b[0m\u001b[0;34m)\u001b[0m\u001b[0;34m\u001b[0m\u001b[0m\n\u001b[0m\u001b[1;32m    176\u001b[0m \u001b[0;34m\u001b[0m\u001b[0m\n\u001b[1;32m    177\u001b[0m     \u001b[0;32mreturn\u001b[0m \u001b[0mcomms_handle\u001b[0m\u001b[0;34m\u001b[0m\u001b[0m\n",
      "\u001b[0;32m/opt/conda/envs/HL-capstone/lib/python3.6/site-packages/bokeh/io/showing.py\u001b[0m in \u001b[0;36m_show_file_with_state\u001b[0;34m(obj, state, new, controller)\u001b[0m\n\u001b[1;32m    157\u001b[0m     '''\n\u001b[1;32m    158\u001b[0m     \u001b[0mfilename\u001b[0m \u001b[0;34m=\u001b[0m \u001b[0msave\u001b[0m\u001b[0;34m(\u001b[0m\u001b[0mobj\u001b[0m\u001b[0;34m,\u001b[0m \u001b[0mstate\u001b[0m\u001b[0;34m=\u001b[0m\u001b[0mstate\u001b[0m\u001b[0;34m)\u001b[0m\u001b[0;34m\u001b[0m\u001b[0m\n\u001b[0;32m--> 159\u001b[0;31m     \u001b[0mcontroller\u001b[0m\u001b[0;34m.\u001b[0m\u001b[0mopen\u001b[0m\u001b[0;34m(\u001b[0m\u001b[0;34m\"file://\"\u001b[0m \u001b[0;34m+\u001b[0m \u001b[0mfilename\u001b[0m\u001b[0;34m,\u001b[0m \u001b[0mnew\u001b[0m\u001b[0;34m=\u001b[0m\u001b[0mNEW_PARAM\u001b[0m\u001b[0;34m[\u001b[0m\u001b[0mnew\u001b[0m\u001b[0;34m]\u001b[0m\u001b[0;34m)\u001b[0m\u001b[0;34m\u001b[0m\u001b[0m\n\u001b[0m\u001b[1;32m    160\u001b[0m \u001b[0;34m\u001b[0m\u001b[0m\n\u001b[1;32m    161\u001b[0m \u001b[0;32mdef\u001b[0m \u001b[0m_show_with_state\u001b[0m\u001b[0;34m(\u001b[0m\u001b[0mobj\u001b[0m\u001b[0;34m,\u001b[0m \u001b[0mstate\u001b[0m\u001b[0;34m,\u001b[0m \u001b[0mbrowser\u001b[0m\u001b[0;34m,\u001b[0m \u001b[0mnew\u001b[0m\u001b[0;34m,\u001b[0m \u001b[0mnotebook_handle\u001b[0m\u001b[0;34m=\u001b[0m\u001b[0;32mFalse\u001b[0m\u001b[0;34m)\u001b[0m\u001b[0;34m:\u001b[0m\u001b[0;34m\u001b[0m\u001b[0m\n",
      "\u001b[0;32m/opt/conda/envs/HL-capstone/lib/python3.6/webbrowser.py\u001b[0m in \u001b[0;36mopen\u001b[0;34m(url, new, autoraise)\u001b[0m\n\u001b[1;32m     58\u001b[0m     \u001b[0;32mfor\u001b[0m \u001b[0mname\u001b[0m \u001b[0;32min\u001b[0m \u001b[0m_tryorder\u001b[0m\u001b[0;34m:\u001b[0m\u001b[0;34m\u001b[0m\u001b[0m\n\u001b[1;32m     59\u001b[0m         \u001b[0mbrowser\u001b[0m \u001b[0;34m=\u001b[0m \u001b[0mget\u001b[0m\u001b[0;34m(\u001b[0m\u001b[0mname\u001b[0m\u001b[0;34m)\u001b[0m\u001b[0;34m\u001b[0m\u001b[0m\n\u001b[0;32m---> 60\u001b[0;31m         \u001b[0;32mif\u001b[0m \u001b[0mbrowser\u001b[0m\u001b[0;34m.\u001b[0m\u001b[0mopen\u001b[0m\u001b[0;34m(\u001b[0m\u001b[0murl\u001b[0m\u001b[0;34m,\u001b[0m \u001b[0mnew\u001b[0m\u001b[0;34m,\u001b[0m \u001b[0mautoraise\u001b[0m\u001b[0;34m)\u001b[0m\u001b[0;34m:\u001b[0m\u001b[0;34m\u001b[0m\u001b[0m\n\u001b[0m\u001b[1;32m     61\u001b[0m             \u001b[0;32mreturn\u001b[0m \u001b[0;32mTrue\u001b[0m\u001b[0;34m\u001b[0m\u001b[0m\n\u001b[1;32m     62\u001b[0m     \u001b[0;32mreturn\u001b[0m \u001b[0;32mFalse\u001b[0m\u001b[0;34m\u001b[0m\u001b[0m\n",
      "\u001b[0;32m/opt/conda/envs/HL-capstone/lib/python3.6/webbrowser.py\u001b[0m in \u001b[0;36mopen\u001b[0;34m(self, url, new, autoraise)\u001b[0m\n\u001b[1;32m    144\u001b[0m             \u001b[0;32melse\u001b[0m\u001b[0;34m:\u001b[0m\u001b[0;34m\u001b[0m\u001b[0m\n\u001b[1;32m    145\u001b[0m                 \u001b[0mp\u001b[0m \u001b[0;34m=\u001b[0m \u001b[0msubprocess\u001b[0m\u001b[0;34m.\u001b[0m\u001b[0mPopen\u001b[0m\u001b[0;34m(\u001b[0m\u001b[0mcmdline\u001b[0m\u001b[0;34m,\u001b[0m \u001b[0mclose_fds\u001b[0m\u001b[0;34m=\u001b[0m\u001b[0;32mTrue\u001b[0m\u001b[0;34m)\u001b[0m\u001b[0;34m\u001b[0m\u001b[0m\n\u001b[0;32m--> 146\u001b[0;31m             \u001b[0;32mreturn\u001b[0m \u001b[0;32mnot\u001b[0m \u001b[0mp\u001b[0m\u001b[0;34m.\u001b[0m\u001b[0mwait\u001b[0m\u001b[0;34m(\u001b[0m\u001b[0;34m)\u001b[0m\u001b[0;34m\u001b[0m\u001b[0m\n\u001b[0m\u001b[1;32m    147\u001b[0m         \u001b[0;32mexcept\u001b[0m \u001b[0mOSError\u001b[0m\u001b[0;34m:\u001b[0m\u001b[0;34m\u001b[0m\u001b[0m\n\u001b[1;32m    148\u001b[0m             \u001b[0;32mreturn\u001b[0m \u001b[0;32mFalse\u001b[0m\u001b[0;34m\u001b[0m\u001b[0m\n",
      "\u001b[0;32m/opt/conda/envs/HL-capstone/lib/python3.6/subprocess.py\u001b[0m in \u001b[0;36mwait\u001b[0;34m(self, timeout, endtime)\u001b[0m\n\u001b[1;32m   1455\u001b[0m                         \u001b[0;32mif\u001b[0m \u001b[0mself\u001b[0m\u001b[0;34m.\u001b[0m\u001b[0mreturncode\u001b[0m \u001b[0;32mis\u001b[0m \u001b[0;32mnot\u001b[0m \u001b[0;32mNone\u001b[0m\u001b[0;34m:\u001b[0m\u001b[0;34m\u001b[0m\u001b[0m\n\u001b[1;32m   1456\u001b[0m                             \u001b[0;32mbreak\u001b[0m  \u001b[0;31m# Another thread waited.\u001b[0m\u001b[0;34m\u001b[0m\u001b[0m\n\u001b[0;32m-> 1457\u001b[0;31m                         \u001b[0;34m(\u001b[0m\u001b[0mpid\u001b[0m\u001b[0;34m,\u001b[0m \u001b[0msts\u001b[0m\u001b[0;34m)\u001b[0m \u001b[0;34m=\u001b[0m \u001b[0mself\u001b[0m\u001b[0;34m.\u001b[0m\u001b[0m_try_wait\u001b[0m\u001b[0;34m(\u001b[0m\u001b[0;36m0\u001b[0m\u001b[0;34m)\u001b[0m\u001b[0;34m\u001b[0m\u001b[0m\n\u001b[0m\u001b[1;32m   1458\u001b[0m                         \u001b[0;31m# Check the pid and loop as waitpid has been known to\u001b[0m\u001b[0;34m\u001b[0m\u001b[0;34m\u001b[0m\u001b[0m\n\u001b[1;32m   1459\u001b[0m                         \u001b[0;31m# return 0 even without WNOHANG in odd situations.\u001b[0m\u001b[0;34m\u001b[0m\u001b[0;34m\u001b[0m\u001b[0m\n",
      "\u001b[0;32m/opt/conda/envs/HL-capstone/lib/python3.6/subprocess.py\u001b[0m in \u001b[0;36m_try_wait\u001b[0;34m(self, wait_flags)\u001b[0m\n\u001b[1;32m   1402\u001b[0m             \u001b[0;34m\"\"\"All callers to this function MUST hold self._waitpid_lock.\"\"\"\u001b[0m\u001b[0;34m\u001b[0m\u001b[0m\n\u001b[1;32m   1403\u001b[0m             \u001b[0;32mtry\u001b[0m\u001b[0;34m:\u001b[0m\u001b[0;34m\u001b[0m\u001b[0m\n\u001b[0;32m-> 1404\u001b[0;31m                 \u001b[0;34m(\u001b[0m\u001b[0mpid\u001b[0m\u001b[0;34m,\u001b[0m \u001b[0msts\u001b[0m\u001b[0;34m)\u001b[0m \u001b[0;34m=\u001b[0m \u001b[0mos\u001b[0m\u001b[0;34m.\u001b[0m\u001b[0mwaitpid\u001b[0m\u001b[0;34m(\u001b[0m\u001b[0mself\u001b[0m\u001b[0;34m.\u001b[0m\u001b[0mpid\u001b[0m\u001b[0;34m,\u001b[0m \u001b[0mwait_flags\u001b[0m\u001b[0;34m)\u001b[0m\u001b[0;34m\u001b[0m\u001b[0m\n\u001b[0m\u001b[1;32m   1405\u001b[0m             \u001b[0;32mexcept\u001b[0m \u001b[0mChildProcessError\u001b[0m\u001b[0;34m:\u001b[0m\u001b[0;34m\u001b[0m\u001b[0m\n\u001b[1;32m   1406\u001b[0m                 \u001b[0;31m# This happens if SIGCLD is set to be ignored or waiting\u001b[0m\u001b[0;34m\u001b[0m\u001b[0;34m\u001b[0m\u001b[0m\n",
      "\u001b[0;31mKeyboardInterrupt\u001b[0m: "
     ]
    }
   ],
   "source": [
    "source = ColumnDataSource(data = {'means' : means, 'genres' : genres})\n",
    "color_set = []\n",
    "count = 0\n",
    "for g in genres:\n",
    "    count += 1\n",
    "    if count < 4:\n",
    "        color = \"#e84d60\"\n",
    "    elif count > len(genres) - 3:\n",
    "        color = \"#c9d9d3\"\n",
    "    else:\n",
    "        color = \"#718dbf\"\n",
    "    color_set.append(color)\n",
    "output_file(\"Movie Genre and Mean IMDB Score.html\")\n",
    "p = figure(x_range = genres, plot_height=400, plot_width = 1000, toolbar_location=None, title=\"Mean IMDB Score for Each Genre\")\n",
    "labels = LabelSet(x = 'genres', y='means', text='means', level='glyph',\n",
    "        x_offset=-13.5, y_offset=0, source=source, render_mode='canvas', text_font_size = '9pt')\n",
    "p.vbar(x='genres', top='means',   width=0.5, source=source,  line_color='white', \n",
    "       fill_color = factor_cmap('genres', palette=color_set, factors=genres), fill_alpha = 0.7 )\n",
    "\n",
    "p.xgrid.grid_line_color = None\n",
    "p.xaxis.major_label_orientation = math.pi/4\n",
    "p.xaxis.axis_label = 'Movie genre'\n",
    "p.yaxis.axis_label = 'Mean IMDB score'\n",
    "p.y_range.start = 5\n",
    "p.y_range.end = 8\n",
    "p.add_layout(labels)\n",
    "\n",
    "show(p)"
   ]
  },
  {
   "cell_type": "markdown",
   "metadata": {
    "hidden": true
   },
   "source": [
    "```python \n",
    "p.add_tools(HoverTool(\n",
    "    tooltips=[\n",
    "        ('Mean IMDB Score: ', '@means{%0.2f}'),\n",
    "        \n",
    "        ('Genre: ', '@genres')\n",
    "    ],\n",
    "\n",
    "    formatters={\n",
    "        'means':'printf', # use 'datetime' formatter for 'date' field\n",
    "        \n",
    "        'genres':'printf'                         # use default 'numeral' formatter for other fields\n",
    "    },\n",
    "\n",
    "    # display a tooltip whenever the cursor is vertically in line with a glyph\n",
    "    mode='mouse'\n",
    "))\n",
    "\n",
    "show(p)\n",
    "```"
   ]
  },
  {
   "cell_type": "code",
   "execution_count": null,
   "metadata": {
    "collapsed": true,
    "hidden": true
   },
   "outputs": [],
   "source": []
  },
  {
   "cell_type": "code",
   "execution_count": null,
   "metadata": {
    "collapsed": true,
    "hidden": true
   },
   "outputs": [],
   "source": []
  },
  {
   "cell_type": "code",
   "execution_count": null,
   "metadata": {
    "collapsed": true,
    "hidden": true
   },
   "outputs": [],
   "source": []
  },
  {
   "cell_type": "markdown",
   "metadata": {
    "heading_collapsed": true,
    "hidden": true
   },
   "source": [
    "### <font color='red'> 3. Train the model with `year`: <font size = 10> out"
   ]
  },
  {
   "cell_type": "code",
   "execution_count": 144,
   "metadata": {
    "collapsed": true,
    "hidden": true
   },
   "outputs": [],
   "source": [
    "temp_pipe = Pipeline([\n",
    "        ('column_select_trans', ColumnSelectTransformer(['year'])),\n",
    "        ('hot_one', DictEncoder()),\n",
    "        ('hot_one_dictionary', DictVectorizer())\n",
    "    ])\n",
    "tr_x = temp_pipe.fit_transform(data_imdb_rating_train, y_imdb_rating_train)\n",
    "tr_y = np.array(y_imdb_rating_train)\n",
    "te_x = temp_pipe.fit_transform(data_imdb_rating_test, y_imdb_rating_test)\n",
    "te_y = np.array(y_imdb_rating_test)"
   ]
  },
  {
   "cell_type": "code",
   "execution_count": 145,
   "metadata": {
    "collapsed": true,
    "hidden": true
   },
   "outputs": [],
   "source": [
    "models3 = { \n",
    "    'LinearRegression': LinearRegression(),\n",
    "    'Ridge': Ridge(),\n",
    "    'Lasso': Lasso(),\n",
    "    'RandomForestRegressor': RandomForestRegressor()\n",
    "}\n",
    "params3 = { \n",
    "    'LinearRegression': { },\n",
    "    'Ridge': { 'alpha': np.arange(0,10,0.5) },\n",
    "    'Lasso': { 'alpha': np.arange(0,10,0.05) },\n",
    "    'RandomForestRegressor':{'n_estimators': np.arange(1, 50 ,2),\n",
    "                              'max_depth': np.arange(1, 20, 1)}\n",
    "}\n"
   ]
  },
  {
   "cell_type": "code",
   "execution_count": 146,
   "metadata": {
    "hidden": true
   },
   "outputs": [
    {
     "name": "stdout",
     "output_type": "stream",
     "text": [
      "Running GridSearchCV for LinearRegression.\n",
      "Fitting 8 folds for each of 1 candidates, totalling 8 fits\n",
      "Running GridSearchCV for Ridge.\n",
      "Fitting 8 folds for each of 20 candidates, totalling 160 fits\n"
     ]
    },
    {
     "name": "stderr",
     "output_type": "stream",
     "text": [
      "[Parallel(n_jobs=-1)]: Done   2 out of   8 | elapsed:    0.0s remaining:    0.1s\n",
      "[Parallel(n_jobs=-1)]: Done   8 out of   8 | elapsed:    0.0s finished\n"
     ]
    },
    {
     "name": "stdout",
     "output_type": "stream",
     "text": [
      "Running GridSearchCV for Lasso.\n",
      "Fitting 8 folds for each of 200 candidates, totalling 1600 fits\n"
     ]
    },
    {
     "name": "stderr",
     "output_type": "stream",
     "text": [
      "[Parallel(n_jobs=-1)]: Done 160 out of 160 | elapsed:    0.6s finished\n",
      "/opt/conda/envs/HL-capstone/lib/python3.6/site-packages/sklearn/cross_validation.py:1675: UserWarning: With alpha=0, this algorithm does not converge well. You are advised to use the LinearRegression estimator\n",
      "  estimator.fit(X_train, y_train, **fit_params)\n",
      "/opt/conda/envs/HL-capstone/lib/python3.6/site-packages/sklearn/cross_validation.py:1675: UserWarning: With alpha=0, this algorithm does not converge well. You are advised to use the LinearRegression estimator\n",
      "  estimator.fit(X_train, y_train, **fit_params)\n",
      "/opt/conda/envs/HL-capstone/lib/python3.6/site-packages/sklearn/cross_validation.py:1675: UserWarning: With alpha=0, this algorithm does not converge well. You are advised to use the LinearRegression estimator\n",
      "  estimator.fit(X_train, y_train, **fit_params)\n",
      "/opt/conda/envs/HL-capstone/lib/python3.6/site-packages/sklearn/cross_validation.py:1675: UserWarning: With alpha=0, this algorithm does not converge well. You are advised to use the LinearRegression estimator\n",
      "  estimator.fit(X_train, y_train, **fit_params)\n",
      "/opt/conda/envs/HL-capstone/lib/python3.6/site-packages/sklearn/cross_validation.py:1675: UserWarning: With alpha=0, this algorithm does not converge well. You are advised to use the LinearRegression estimator\n",
      "  estimator.fit(X_train, y_train, **fit_params)\n",
      "/opt/conda/envs/HL-capstone/lib/python3.6/site-packages/sklearn/cross_validation.py:1675: UserWarning: With alpha=0, this algorithm does not converge well. You are advised to use the LinearRegression estimator\n",
      "  estimator.fit(X_train, y_train, **fit_params)\n",
      "/opt/conda/envs/HL-capstone/lib/python3.6/site-packages/sklearn/cross_validation.py:1675: UserWarning: With alpha=0, this algorithm does not converge well. You are advised to use the LinearRegression estimator\n",
      "  estimator.fit(X_train, y_train, **fit_params)\n",
      "/opt/conda/envs/HL-capstone/lib/python3.6/site-packages/sklearn/cross_validation.py:1675: UserWarning: With alpha=0, this algorithm does not converge well. You are advised to use the LinearRegression estimator\n",
      "  estimator.fit(X_train, y_train, **fit_params)\n",
      "/opt/conda/envs/HL-capstone/lib/python3.6/site-packages/sklearn/linear_model/coordinate_descent.py:491: ConvergenceWarning: Objective did not converge. You might want to increase the number of iterations. Fitting data with very small alpha may cause precision problems.\n",
      "  ConvergenceWarning)\n",
      "/opt/conda/envs/HL-capstone/lib/python3.6/site-packages/sklearn/linear_model/coordinate_descent.py:491: ConvergenceWarning: Objective did not converge. You might want to increase the number of iterations. Fitting data with very small alpha may cause precision problems.\n",
      "  ConvergenceWarning)\n",
      "/opt/conda/envs/HL-capstone/lib/python3.6/site-packages/sklearn/linear_model/coordinate_descent.py:491: ConvergenceWarning: Objective did not converge. You might want to increase the number of iterations. Fitting data with very small alpha may cause precision problems.\n",
      "  ConvergenceWarning)\n",
      "/opt/conda/envs/HL-capstone/lib/python3.6/site-packages/sklearn/linear_model/coordinate_descent.py:491: ConvergenceWarning: Objective did not converge. You might want to increase the number of iterations. Fitting data with very small alpha may cause precision problems.\n",
      "  ConvergenceWarning)\n",
      "/opt/conda/envs/HL-capstone/lib/python3.6/site-packages/sklearn/linear_model/coordinate_descent.py:491: ConvergenceWarning: Objective did not converge. You might want to increase the number of iterations. Fitting data with very small alpha may cause precision problems.\n",
      "  ConvergenceWarning)\n",
      "/opt/conda/envs/HL-capstone/lib/python3.6/site-packages/sklearn/linear_model/coordinate_descent.py:491: ConvergenceWarning: Objective did not converge. You might want to increase the number of iterations. Fitting data with very small alpha may cause precision problems.\n",
      "  ConvergenceWarning)\n",
      "/opt/conda/envs/HL-capstone/lib/python3.6/site-packages/sklearn/linear_model/coordinate_descent.py:491: ConvergenceWarning: Objective did not converge. You might want to increase the number of iterations. Fitting data with very small alpha may cause precision problems.\n",
      "  ConvergenceWarning)\n",
      "/opt/conda/envs/HL-capstone/lib/python3.6/site-packages/sklearn/linear_model/coordinate_descent.py:491: ConvergenceWarning: Objective did not converge. You might want to increase the number of iterations. Fitting data with very small alpha may cause precision problems.\n",
      "  ConvergenceWarning)\n",
      "[Parallel(n_jobs=-1)]: Done  35 tasks      | elapsed:    0.5s\n"
     ]
    },
    {
     "name": "stdout",
     "output_type": "stream",
     "text": [
      "Running GridSearchCV for RandomForestRegressor.\n",
      "Fitting 8 folds for each of 475 candidates, totalling 3800 fits\n"
     ]
    },
    {
     "name": "stderr",
     "output_type": "stream",
     "text": [
      "[Parallel(n_jobs=-1)]: Done 1600 out of 1600 | elapsed:    1.4s finished\n",
      "[Parallel(n_jobs=-1)]: Done 304 tasks      | elapsed:    1.5s\n",
      "[Parallel(n_jobs=-1)]: Done 3152 tasks      | elapsed:   18.3s\n",
      "[Parallel(n_jobs=-1)]: Done 3800 out of 3800 | elapsed:   23.5s finished\n"
     ]
    }
   ],
   "source": [
    "helper3 = EstimatorSelectionHelper(models3, params3)\n",
    "helper3.fit(tr_x, tr_y, n_jobs=-1)"
   ]
  },
  {
   "cell_type": "code",
   "execution_count": 147,
   "metadata": {
    "hidden": true
   },
   "outputs": [
    {
     "name": "stderr",
     "output_type": "stream",
     "text": [
      "/opt/conda/envs/HL-capstone/lib/python3.6/site-packages/ipykernel_launcher.py:46: FutureWarning: Sorting because non-concatenation axis is not aligned. A future version\n",
      "of pandas will change to not sort by default.\n",
      "\n",
      "To accept the future behavior, pass 'sort=True'.\n",
      "\n",
      "To retain the current behavior and silence the warning, pass sort=False\n",
      "\n"
     ]
    }
   ],
   "source": [
    "helper3_result = helper3.score_summary()"
   ]
  },
  {
   "cell_type": "code",
   "execution_count": 149,
   "metadata": {
    "hidden": true
   },
   "outputs": [
    {
     "data": {
      "text/plain": [
       "estimator       RandomForestRegressor\n",
       "min_score                 -0.00826196\n",
       "mean_score               -9.68559e-05\n",
       "max_score                  0.00538479\n",
       "std_score                  0.00475345\n",
       "alpha                             NaN\n",
       "max_depth                           2\n",
       "n_estimators                        9\n",
       "Name: 250, dtype: object"
      ]
     },
     "execution_count": 149,
     "metadata": {},
     "output_type": "execute_result"
    }
   ],
   "source": [
    "helper3_result.iloc[0]"
   ]
  },
  {
   "cell_type": "code",
   "execution_count": 150,
   "metadata": {
    "hidden": true
   },
   "outputs": [
    {
     "name": "stdout",
     "output_type": "stream",
     "text": [
      "using Random Forest modes the score for TEST set is: -0.005814964911641685\n",
      "using Random Forest modes the score for TRAIN set is: 0.006635725087965949\n"
     ]
    }
   ],
   "source": [
    "model3_est = RandomForestRegressor(n_estimators = 3, max_depth = 4) \n",
    "model3_est.fit(tr_x, tr_y)\n",
    "print('using Random Forest modes the score for TEST set is: ' + \\\n",
    "      str(model3_est.score(te_x, te_y)))\n",
    "print('using Random Forest modes the score for TRAIN set is: ' + \\\n",
    "      str(model3_est.score(tr_x, tr_y)))"
   ]
  },
  {
   "cell_type": "markdown",
   "metadata": {
    "heading_collapsed": true,
    "hidden": true
   },
   "source": [
    "### <font color='red'> 4. Train the model with `month`: <font size = 10> out "
   ]
  },
  {
   "cell_type": "code",
   "execution_count": 484,
   "metadata": {
    "collapsed": true,
    "hidden": true
   },
   "outputs": [],
   "source": [
    "temp_pipe = Pipeline([\n",
    "        ('column_select_trans', ColumnSelectTransformer(['month'])),\n",
    "        ('hot_one', DictEncoder()),\n",
    "        ('hot_one_dictionary', DictVectorizer())\n",
    "    ])\n",
    "tr_x = temp_pipe.fit_transform(data_imdb_rating_train, y_imdb_rating_train)\n",
    "tr_y = np.array(y_imdb_rating_train)\n",
    "te_x = temp_pipe.fit_transform(data_imdb_rating_test, y_imdb_rating_test)\n",
    "te_y = np.array(y_imdb_rating_test)"
   ]
  },
  {
   "cell_type": "code",
   "execution_count": 485,
   "metadata": {
    "collapsed": true,
    "hidden": true
   },
   "outputs": [],
   "source": [
    "models4 = { \n",
    "    'LinearRegression': LinearRegression(),\n",
    "    'Ridge': Ridge(),\n",
    "    'Lasso': Lasso(),\n",
    "    'RandomForestRegressor': RandomForestRegressor()\n",
    "}\n",
    "params4 = { \n",
    "    'LinearRegression': { },\n",
    "    'Ridge': { 'alpha': np.arange(0,2,0.05) },\n",
    "    'Lasso': { 'alpha': np.arange(0,2,0.05) },\n",
    "    'RandomForestRegressor':{'n_estimators': np.arange(1, 50 ,2),\n",
    "                              'max_depth': np.arange(1, 20, 1)}\n",
    "}\n"
   ]
  },
  {
   "cell_type": "code",
   "execution_count": 486,
   "metadata": {
    "hidden": true
   },
   "outputs": [
    {
     "name": "stdout",
     "output_type": "stream",
     "text": [
      "Running GridSearchCV for LinearRegression.\n",
      "Fitting 8 folds for each of 1 candidates, totalling 8 fits\n"
     ]
    },
    {
     "name": "stderr",
     "output_type": "stream",
     "text": [
      "[Parallel(n_jobs=-1)]: Done   2 out of   8 | elapsed:    0.0s remaining:    0.1s\n",
      "[Parallel(n_jobs=-1)]: Done   8 out of   8 | elapsed:    0.1s finished\n"
     ]
    },
    {
     "name": "stdout",
     "output_type": "stream",
     "text": [
      "Running GridSearchCV for Ridge.\n",
      "Fitting 8 folds for each of 40 candidates, totalling 320 fits\n"
     ]
    },
    {
     "name": "stderr",
     "output_type": "stream",
     "text": [
      "[Parallel(n_jobs=-1)]: Done 160 tasks      | elapsed:    0.7s\n",
      "[Parallel(n_jobs=-1)]: Done 320 out of 320 | elapsed:    1.0s finished\n"
     ]
    },
    {
     "name": "stdout",
     "output_type": "stream",
     "text": [
      "Running GridSearchCV for Lasso.\n",
      "Fitting 8 folds for each of 40 candidates, totalling 320 fits\n"
     ]
    },
    {
     "name": "stderr",
     "output_type": "stream",
     "text": [
      "/opt/conda/envs/HL-capstone/lib/python3.6/site-packages/sklearn/cross_validation.py:1675: UserWarning: With alpha=0, this algorithm does not converge well. You are advised to use the LinearRegression estimator\n",
      "  estimator.fit(X_train, y_train, **fit_params)\n",
      "/opt/conda/envs/HL-capstone/lib/python3.6/site-packages/sklearn/cross_validation.py:1675: UserWarning: With alpha=0, this algorithm does not converge well. You are advised to use the LinearRegression estimator\n",
      "  estimator.fit(X_train, y_train, **fit_params)\n",
      "/opt/conda/envs/HL-capstone/lib/python3.6/site-packages/sklearn/cross_validation.py:1675: UserWarning: With alpha=0, this algorithm does not converge well. You are advised to use the LinearRegression estimator\n",
      "  estimator.fit(X_train, y_train, **fit_params)\n",
      "/opt/conda/envs/HL-capstone/lib/python3.6/site-packages/sklearn/cross_validation.py:1675: UserWarning: With alpha=0, this algorithm does not converge well. You are advised to use the LinearRegression estimator\n",
      "  estimator.fit(X_train, y_train, **fit_params)\n",
      "/opt/conda/envs/HL-capstone/lib/python3.6/site-packages/sklearn/cross_validation.py:1675: UserWarning: With alpha=0, this algorithm does not converge well. You are advised to use the LinearRegression estimator\n",
      "  estimator.fit(X_train, y_train, **fit_params)\n",
      "/opt/conda/envs/HL-capstone/lib/python3.6/site-packages/sklearn/cross_validation.py:1675: UserWarning: With alpha=0, this algorithm does not converge well. You are advised to use the LinearRegression estimator\n",
      "  estimator.fit(X_train, y_train, **fit_params)\n",
      "/opt/conda/envs/HL-capstone/lib/python3.6/site-packages/sklearn/cross_validation.py:1675: UserWarning: With alpha=0, this algorithm does not converge well. You are advised to use the LinearRegression estimator\n",
      "  estimator.fit(X_train, y_train, **fit_params)\n",
      "/opt/conda/envs/HL-capstone/lib/python3.6/site-packages/sklearn/cross_validation.py:1675: UserWarning: With alpha=0, this algorithm does not converge well. You are advised to use the LinearRegression estimator\n",
      "  estimator.fit(X_train, y_train, **fit_params)\n",
      "/opt/conda/envs/HL-capstone/lib/python3.6/site-packages/sklearn/linear_model/coordinate_descent.py:491: ConvergenceWarning: Objective did not converge. You might want to increase the number of iterations. Fitting data with very small alpha may cause precision problems.\n",
      "  ConvergenceWarning)\n",
      "/opt/conda/envs/HL-capstone/lib/python3.6/site-packages/sklearn/linear_model/coordinate_descent.py:491: ConvergenceWarning: Objective did not converge. You might want to increase the number of iterations. Fitting data with very small alpha may cause precision problems.\n",
      "  ConvergenceWarning)\n",
      "/opt/conda/envs/HL-capstone/lib/python3.6/site-packages/sklearn/linear_model/coordinate_descent.py:491: ConvergenceWarning: Objective did not converge. You might want to increase the number of iterations. Fitting data with very small alpha may cause precision problems.\n",
      "  ConvergenceWarning)\n",
      "/opt/conda/envs/HL-capstone/lib/python3.6/site-packages/sklearn/linear_model/coordinate_descent.py:491: ConvergenceWarning: Objective did not converge. You might want to increase the number of iterations. Fitting data with very small alpha may cause precision problems.\n",
      "  ConvergenceWarning)\n",
      "/opt/conda/envs/HL-capstone/lib/python3.6/site-packages/sklearn/linear_model/coordinate_descent.py:491: ConvergenceWarning: Objective did not converge. You might want to increase the number of iterations. Fitting data with very small alpha may cause precision problems.\n",
      "  ConvergenceWarning)\n",
      "/opt/conda/envs/HL-capstone/lib/python3.6/site-packages/sklearn/linear_model/coordinate_descent.py:491: ConvergenceWarning: Objective did not converge. You might want to increase the number of iterations. Fitting data with very small alpha may cause precision problems.\n",
      "  ConvergenceWarning)\n",
      "/opt/conda/envs/HL-capstone/lib/python3.6/site-packages/sklearn/linear_model/coordinate_descent.py:491: ConvergenceWarning: Objective did not converge. You might want to increase the number of iterations. Fitting data with very small alpha may cause precision problems.\n",
      "  ConvergenceWarning)\n",
      "/opt/conda/envs/HL-capstone/lib/python3.6/site-packages/sklearn/linear_model/coordinate_descent.py:491: ConvergenceWarning: Objective did not converge. You might want to increase the number of iterations. Fitting data with very small alpha may cause precision problems.\n",
      "  ConvergenceWarning)\n",
      "[Parallel(n_jobs=-1)]: Done 320 out of 320 | elapsed:    0.4s finished\n"
     ]
    },
    {
     "name": "stdout",
     "output_type": "stream",
     "text": [
      "Running GridSearchCV for RandomForestRegressor.\n",
      "Fitting 8 folds for each of 475 candidates, totalling 3800 fits\n"
     ]
    },
    {
     "name": "stderr",
     "output_type": "stream",
     "text": [
      "[Parallel(n_jobs=-1)]: Done 448 tasks      | elapsed:    2.3s\n",
      "[Parallel(n_jobs=-1)]: Done 2644 tasks      | elapsed:   13.6s\n",
      "[Parallel(n_jobs=-1)]: Done 3800 out of 3800 | elapsed:   20.6s finished\n"
     ]
    }
   ],
   "source": [
    "helper4 = EstimatorSelectionHelper(models4, params4)\n",
    "helper4.fit(tr_x, tr_y, n_jobs=-1)"
   ]
  },
  {
   "cell_type": "code",
   "execution_count": 487,
   "metadata": {
    "hidden": true
   },
   "outputs": [
    {
     "name": "stderr",
     "output_type": "stream",
     "text": [
      "/opt/conda/envs/HL-capstone/lib/python3.6/site-packages/ipykernel_launcher.py:46: FutureWarning: Sorting because non-concatenation axis is not aligned. A future version\n",
      "of pandas will change to not sort by default.\n",
      "\n",
      "To accept the future behavior, pass 'sort=True'.\n",
      "\n",
      "To retain the current behavior and silence the warning, pass sort=False\n",
      "\n"
     ]
    }
   ],
   "source": [
    "helper4_result = helper4.score_summary()"
   ]
  },
  {
   "cell_type": "code",
   "execution_count": 488,
   "metadata": {
    "hidden": true
   },
   "outputs": [
    {
     "data": {
      "text/plain": [
       "estimator       RandomForestRegressor\n",
       "min_score                 -0.00594131\n",
       "mean_score                 0.00611434\n",
       "max_score                   0.0203738\n",
       "std_score                  0.00852963\n",
       "alpha                             NaN\n",
       "max_depth                           7\n",
       "n_estimators                       11\n",
       "Name: 236, dtype: object"
      ]
     },
     "execution_count": 488,
     "metadata": {},
     "output_type": "execute_result"
    }
   ],
   "source": [
    "helper4_result.iloc[0]"
   ]
  },
  {
   "cell_type": "code",
   "execution_count": 489,
   "metadata": {
    "hidden": true,
    "scrolled": true
   },
   "outputs": [
    {
     "name": "stdout",
     "output_type": "stream",
     "text": [
      "using Random Forest modes the score for TEST set is: 0.006417970536933382\n",
      "using Random Forest modes the score for TRAIN set is: 0.009046201594576142\n"
     ]
    }
   ],
   "source": [
    "model4_est = RandomForestRegressor(n_estimators = 11, max_depth = 2) \n",
    "model4_est.fit(tr_x, tr_y)\n",
    "print('using Random Forest modes the score for TEST set is: ' + \\\n",
    "      str(model4_est.score(te_x, te_y)))\n",
    "print('using Random Forest modes the score for TRAIN set is: ' + \\\n",
    "      str(model4_est.score(tr_x, tr_y)))"
   ]
  },
  {
   "cell_type": "markdown",
   "metadata": {
    "hidden": true
   },
   "source": [
    "#### <font color = 'green'> plot `year` and `month` with `imdb_rating`"
   ]
  },
  {
   "cell_type": "code",
   "execution_count": 418,
   "metadata": {
    "collapsed": true,
    "hidden": true
   },
   "outputs": [],
   "source": [
    "import pandas as pd\n",
    "\n",
    "from bokeh.io import show\n",
    "from bokeh.models import BasicTicker, ColorBar, ColumnDataSource, LinearColorMapper, PrintfTickFormatter\n",
    "from bokeh.plotting import figure\n",
    "from bokeh.transform import transform"
   ]
  },
  {
   "cell_type": "code",
   "execution_count": 443,
   "metadata": {
    "hidden": true
   },
   "outputs": [
    {
     "ename": "TypeError",
     "evalue": "'function' object is not subscriptable",
     "output_type": "error",
     "traceback": [
      "\u001b[0;31m---------------------------------------------------------------------------\u001b[0m",
      "\u001b[0;31mTypeError\u001b[0m                                 Traceback (most recent call last)",
      "\u001b[0;32m<ipython-input-443-7c8bd53f513e>\u001b[0m in \u001b[0;36m<module>\u001b[0;34m()\u001b[0m\n\u001b[1;32m      6\u001b[0m \u001b[0mcertificate\u001b[0m \u001b[0;34m=\u001b[0m \u001b[0mselect_to_list\u001b[0m\u001b[0;34m(\u001b[0m\u001b[0;34m'certificate'\u001b[0m\u001b[0;34m)\u001b[0m\u001b[0;34m\u001b[0m\u001b[0m\n\u001b[1;32m      7\u001b[0m \u001b[0mrun_time\u001b[0m \u001b[0;34m=\u001b[0m \u001b[0mselect_to_list\u001b[0m\u001b[0;34m(\u001b[0m\u001b[0;34m'run_time'\u001b[0m\u001b[0;34m)\u001b[0m\u001b[0;34m\u001b[0m\u001b[0m\n\u001b[0;32m----> 8\u001b[0;31m \u001b[0mtitle\u001b[0m \u001b[0;34m=\u001b[0m \u001b[0mselect_to_list\u001b[0m\u001b[0;34m[\u001b[0m\u001b[0;34m'title'\u001b[0m\u001b[0;34m]\u001b[0m\u001b[0;34m\u001b[0m\u001b[0m\n\u001b[0m\u001b[1;32m      9\u001b[0m \u001b[0;34m\u001b[0m\u001b[0m\n\u001b[1;32m     10\u001b[0m \u001b[0mprint\u001b[0m\u001b[0;34m(\u001b[0m\u001b[0mtype\u001b[0m\u001b[0;34m(\u001b[0m\u001b[0mmonth\u001b[0m\u001b[0;34m[\u001b[0m\u001b[0;36m0\u001b[0m\u001b[0;34m]\u001b[0m\u001b[0;34m)\u001b[0m\u001b[0;34m)\u001b[0m\u001b[0;34m\u001b[0m\u001b[0m\n",
      "\u001b[0;31mTypeError\u001b[0m: 'function' object is not subscriptable"
     ]
    }
   ],
   "source": [
    "month = select_to_list('month')\n",
    "year_pr = select_to_list('year') \n",
    "year = [str(int(ele)) for ele in year_pr]\n",
    "budget_adj = select_to_list('budget_adj')\n",
    "imdb_rating = select_to_list('imdb_rating')\n",
    "certificate = select_to_list('certificate')\n",
    "run_time = select_to_list('run_time')\n",
    "title = select_to_list['title']\n",
    "\n",
    "print(type(month[0]))\n",
    "print(type(year[0]))\n",
    "print(type(budget_adj[0]))\n",
    "print(type(imdb_rating[0]))\n",
    "print(type(certificate[0]))\n",
    "print(type(run_time[0]))\n",
    "print(np.unique(certificate))\n",
    "print(np.unique(month))\n",
    "print(np.unique(year))"
   ]
  },
  {
   "cell_type": "code",
   "execution_count": 446,
   "metadata": {
    "hidden": true
   },
   "outputs": [
    {
     "data": {
      "text/html": [
       "<div>\n",
       "<style scoped>\n",
       "    .dataframe tbody tr th:only-of-type {\n",
       "        vertical-align: middle;\n",
       "    }\n",
       "\n",
       "    .dataframe tbody tr th {\n",
       "        vertical-align: top;\n",
       "    }\n",
       "\n",
       "    .dataframe thead th {\n",
       "        text-align: right;\n",
       "    }\n",
       "</style>\n",
       "<table border=\"1\" class=\"dataframe\">\n",
       "  <thead>\n",
       "    <tr style=\"text-align: right;\">\n",
       "      <th></th>\n",
       "      <th>imdb_rating</th>\n",
       "      <th>budget_adj</th>\n",
       "      <th>run_time</th>\n",
       "    </tr>\n",
       "  </thead>\n",
       "  <tbody>\n",
       "    <tr>\n",
       "      <th>count</th>\n",
       "      <td>5631.000000</td>\n",
       "      <td>5.631000e+03</td>\n",
       "      <td>5631.000000</td>\n",
       "    </tr>\n",
       "    <tr>\n",
       "      <th>mean</th>\n",
       "      <td>6.295347</td>\n",
       "      <td>9.708793e+07</td>\n",
       "      <td>106.177056</td>\n",
       "    </tr>\n",
       "    <tr>\n",
       "      <th>std</th>\n",
       "      <td>1.046617</td>\n",
       "      <td>1.726650e+09</td>\n",
       "      <td>18.419758</td>\n",
       "    </tr>\n",
       "    <tr>\n",
       "      <th>min</th>\n",
       "      <td>1.800000</td>\n",
       "      <td>3.801973e+01</td>\n",
       "      <td>56.000000</td>\n",
       "    </tr>\n",
       "    <tr>\n",
       "      <th>25%</th>\n",
       "      <td>5.700000</td>\n",
       "      <td>1.690210e+07</td>\n",
       "      <td>94.000000</td>\n",
       "    </tr>\n",
       "    <tr>\n",
       "      <th>50%</th>\n",
       "      <td>6.400000</td>\n",
       "      <td>4.370900e+07</td>\n",
       "      <td>103.000000</td>\n",
       "    </tr>\n",
       "    <tr>\n",
       "      <th>75%</th>\n",
       "      <td>7.000000</td>\n",
       "      <td>9.328236e+07</td>\n",
       "      <td>115.000000</td>\n",
       "    </tr>\n",
       "    <tr>\n",
       "      <th>max</th>\n",
       "      <td>9.300000</td>\n",
       "      <td>1.269914e+11</td>\n",
       "      <td>325.000000</td>\n",
       "    </tr>\n",
       "  </tbody>\n",
       "</table>\n",
       "</div>"
      ],
      "text/plain": [
       "       imdb_rating    budget_adj     run_time\n",
       "count  5631.000000  5.631000e+03  5631.000000\n",
       "mean      6.295347  9.708793e+07   106.177056\n",
       "std       1.046617  1.726650e+09    18.419758\n",
       "min       1.800000  3.801973e+01    56.000000\n",
       "25%       5.700000  1.690210e+07    94.000000\n",
       "50%       6.400000  4.370900e+07   103.000000\n",
       "75%       7.000000  9.328236e+07   115.000000\n",
       "max       9.300000  1.269914e+11   325.000000"
      ]
     },
     "execution_count": 446,
     "metadata": {},
     "output_type": "execute_result"
    }
   ],
   "source": [
    "\n",
    "df = pd.DataFrame({'imdb_rating':imdb_rating, 'budget_adj':budget_adj, 'run_time':run_time, 'title':title})\n",
    "df.describe()"
   ]
  },
  {
   "cell_type": "code",
   "execution_count": 398,
   "metadata": {
    "collapsed": true,
    "hidden": true
   },
   "outputs": [],
   "source": [
    "year = [str(int(ele[0])) for ele in year_p]\n",
    "y = [ele[0] for ele in y_p]\n",
    "month = [ele[0] for ele in month_p]\n",
    "\n",
    "data = pd.DataFrame({'year':year, 'y':y, 'month':month})"
   ]
  },
  {
   "cell_type": "code",
   "execution_count": 467,
   "metadata": {
    "hidden": true
   },
   "outputs": [
    {
     "data": {
      "text/plain": [
       "array(['G', 'GP', 'NC-17', 'Not Rated', 'PG', 'PG-13', 'R', 'TV-14',\n",
       "       'TV-MA', 'TV-PG', 'Unrated', 'X'], dtype='<U9')"
      ]
     },
     "execution_count": 467,
     "metadata": {},
     "output_type": "execute_result"
    }
   ],
   "source": [
    "np.unique(certificate)"
   ]
  },
  {
   "cell_type": "code",
   "execution_count": 399,
   "metadata": {
    "collapsed": true,
    "hidden": true
   },
   "outputs": [],
   "source": [
    "df = data.groupby(['year','month']).mean()"
   ]
  },
  {
   "cell_type": "code",
   "execution_count": 404,
   "metadata": {
    "collapsed": true,
    "hidden": true
   },
   "outputs": [],
   "source": [
    "ha = [ele for ele in month if ele not in['April', 'August', 'December', 'February',\n",
    "       'January', 'July', 'June', 'March', 'May', 'November', 'October',\n",
    "       'September']]"
   ]
  },
  {
   "cell_type": "code",
   "execution_count": 407,
   "metadata": {
    "hidden": true
   },
   "outputs": [
    {
     "data": {
      "text/plain": [
       "array(['1970', '1971', '1972', '1973', '1974', '1975', '1976', '1977',\n",
       "       '1978', '1979', '1980', '1981', '1982', '1983', '1984', '1985',\n",
       "       '1986', '1987', '1988', '1989', '1990', '1991', '1992', '1993',\n",
       "       '1994', '1995', '1996', '1997', '1998', '1999', '2000', '2001',\n",
       "       '2002', '2003', '2004', '2005', '2006', '2007', '2008', '2009',\n",
       "       '2010', '2011', '2012', '2013', '2014', '2015'], dtype='<U4')"
      ]
     },
     "execution_count": 407,
     "metadata": {},
     "output_type": "execute_result"
    }
   ],
   "source": [
    "np.unique(year)\n"
   ]
  },
  {
   "cell_type": "markdown",
   "metadata": {
    "hidden": true
   },
   "source": [
    "### <font color='red'> 5. Train the model with `directors`: <font size = 10> IN"
   ]
  },
  {
   "cell_type": "markdown",
   "metadata": {
    "heading_collapsed": true,
    "hidden": true
   },
   "source": [
    "#### train"
   ]
  },
  {
   "cell_type": "code",
   "execution_count": 157,
   "metadata": {
    "collapsed": true,
    "hidden": true
   },
   "outputs": [],
   "source": [
    "temp_pipe = Pipeline([\n",
    "        ('column_select_trans', ColumnSelectTransformer(['directors'])),\n",
    "        ('hot_one', DictEncoder()),\n",
    "        ('hot_one_dictionary', DictVectorizer())\n",
    "    ])\n",
    "tr_x = temp_pipe.fit_transform(data_imdb_rating_train, y_imdb_rating_train)\n",
    "tr_y = np.array(y_imdb_rating_train)\n",
    "te_x = temp_pipe.fit_transform(data_imdb_rating_test, y_imdb_rating_test)\n",
    "te_y = np.array(y_imdb_rating_test)"
   ]
  },
  {
   "cell_type": "code",
   "execution_count": 158,
   "metadata": {
    "collapsed": true,
    "hidden": true
   },
   "outputs": [],
   "source": [
    "models5 = { \n",
    "    'LinearRegression': LinearRegression(),\n",
    "    'Ridge': Ridge(),\n",
    "    'Lasso': Lasso(),\n",
    "    'RandomForestRegressor': RandomForestRegressor()\n",
    "}\n",
    "params5 = { \n",
    "    'LinearRegression': { },\n",
    "    'Ridge': { 'alpha': np.arange(0,2,0.05) },\n",
    "    'Lasso': { 'alpha': np.arange(0,2,0.05) },\n",
    "    'RandomForestRegressor':{'n_estimators': np.arange(1, 50 ,2),\n",
    "                              'max_depth': np.arange(1, 20, 1)}\n",
    "}\n"
   ]
  },
  {
   "cell_type": "code",
   "execution_count": 159,
   "metadata": {
    "hidden": true
   },
   "outputs": [
    {
     "name": "stdout",
     "output_type": "stream",
     "text": [
      "Running GridSearchCV for LinearRegression.\n",
      "Fitting 8 folds for each of 1 candidates, totalling 8 fits\n",
      "Running GridSearchCV for Ridge.\n",
      "Fitting 8 folds for each of 40 candidates, totalling 320 fits\n"
     ]
    },
    {
     "name": "stderr",
     "output_type": "stream",
     "text": [
      "[Parallel(n_jobs=-1)]: Done   2 out of   8 | elapsed:    0.0s remaining:    0.1s\n",
      "[Parallel(n_jobs=-1)]: Done   8 out of   8 | elapsed:    0.1s finished\n",
      "[Parallel(n_jobs=-1)]: Done  52 tasks      | elapsed:    0.6s\n"
     ]
    },
    {
     "name": "stdout",
     "output_type": "stream",
     "text": [
      "Running GridSearchCV for Lasso.\n",
      "Fitting 8 folds for each of 40 candidates, totalling 320 fits\n"
     ]
    },
    {
     "name": "stderr",
     "output_type": "stream",
     "text": [
      "[Parallel(n_jobs=-1)]: Done 320 out of 320 | elapsed:    1.5s finished\n",
      "/opt/conda/envs/HL-capstone/lib/python3.6/site-packages/sklearn/cross_validation.py:1675: UserWarning: With alpha=0, this algorithm does not converge well. You are advised to use the LinearRegression estimator\n",
      "  estimator.fit(X_train, y_train, **fit_params)\n",
      "/opt/conda/envs/HL-capstone/lib/python3.6/site-packages/sklearn/cross_validation.py:1675: UserWarning: With alpha=0, this algorithm does not converge well. You are advised to use the LinearRegression estimator\n",
      "  estimator.fit(X_train, y_train, **fit_params)\n",
      "/opt/conda/envs/HL-capstone/lib/python3.6/site-packages/sklearn/cross_validation.py:1675: UserWarning: With alpha=0, this algorithm does not converge well. You are advised to use the LinearRegression estimator\n",
      "  estimator.fit(X_train, y_train, **fit_params)\n",
      "/opt/conda/envs/HL-capstone/lib/python3.6/site-packages/sklearn/cross_validation.py:1675: UserWarning: With alpha=0, this algorithm does not converge well. You are advised to use the LinearRegression estimator\n",
      "  estimator.fit(X_train, y_train, **fit_params)\n",
      "/opt/conda/envs/HL-capstone/lib/python3.6/site-packages/sklearn/cross_validation.py:1675: UserWarning: With alpha=0, this algorithm does not converge well. You are advised to use the LinearRegression estimator\n",
      "  estimator.fit(X_train, y_train, **fit_params)\n",
      "/opt/conda/envs/HL-capstone/lib/python3.6/site-packages/sklearn/cross_validation.py:1675: UserWarning: With alpha=0, this algorithm does not converge well. You are advised to use the LinearRegression estimator\n",
      "  estimator.fit(X_train, y_train, **fit_params)\n",
      "/opt/conda/envs/HL-capstone/lib/python3.6/site-packages/sklearn/cross_validation.py:1675: UserWarning: With alpha=0, this algorithm does not converge well. You are advised to use the LinearRegression estimator\n",
      "  estimator.fit(X_train, y_train, **fit_params)\n",
      "/opt/conda/envs/HL-capstone/lib/python3.6/site-packages/sklearn/cross_validation.py:1675: UserWarning: With alpha=0, this algorithm does not converge well. You are advised to use the LinearRegression estimator\n",
      "  estimator.fit(X_train, y_train, **fit_params)\n",
      "/opt/conda/envs/HL-capstone/lib/python3.6/site-packages/sklearn/linear_model/coordinate_descent.py:491: ConvergenceWarning: Objective did not converge. You might want to increase the number of iterations. Fitting data with very small alpha may cause precision problems.\n",
      "  ConvergenceWarning)\n",
      "/opt/conda/envs/HL-capstone/lib/python3.6/site-packages/sklearn/linear_model/coordinate_descent.py:491: ConvergenceWarning: Objective did not converge. You might want to increase the number of iterations. Fitting data with very small alpha may cause precision problems.\n",
      "  ConvergenceWarning)\n",
      "/opt/conda/envs/HL-capstone/lib/python3.6/site-packages/sklearn/linear_model/coordinate_descent.py:491: ConvergenceWarning: Objective did not converge. You might want to increase the number of iterations. Fitting data with very small alpha may cause precision problems.\n",
      "  ConvergenceWarning)\n",
      "/opt/conda/envs/HL-capstone/lib/python3.6/site-packages/sklearn/linear_model/coordinate_descent.py:491: ConvergenceWarning: Objective did not converge. You might want to increase the number of iterations. Fitting data with very small alpha may cause precision problems.\n",
      "  ConvergenceWarning)\n",
      "/opt/conda/envs/HL-capstone/lib/python3.6/site-packages/sklearn/linear_model/coordinate_descent.py:491: ConvergenceWarning: Objective did not converge. You might want to increase the number of iterations. Fitting data with very small alpha may cause precision problems.\n",
      "  ConvergenceWarning)\n",
      "/opt/conda/envs/HL-capstone/lib/python3.6/site-packages/sklearn/linear_model/coordinate_descent.py:491: ConvergenceWarning: Objective did not converge. You might want to increase the number of iterations. Fitting data with very small alpha may cause precision problems.\n",
      "  ConvergenceWarning)\n",
      "/opt/conda/envs/HL-capstone/lib/python3.6/site-packages/sklearn/linear_model/coordinate_descent.py:491: ConvergenceWarning: Objective did not converge. You might want to increase the number of iterations. Fitting data with very small alpha may cause precision problems.\n",
      "  ConvergenceWarning)\n",
      "/opt/conda/envs/HL-capstone/lib/python3.6/site-packages/sklearn/linear_model/coordinate_descent.py:491: ConvergenceWarning: Objective did not converge. You might want to increase the number of iterations. Fitting data with very small alpha may cause precision problems.\n",
      "  ConvergenceWarning)\n",
      "[Parallel(n_jobs=-1)]: Done  34 tasks      | elapsed:   17.7s\n"
     ]
    },
    {
     "name": "stdout",
     "output_type": "stream",
     "text": [
      "Running GridSearchCV for RandomForestRegressor.\n",
      "Fitting 8 folds for each of 475 candidates, totalling 3800 fits\n"
     ]
    },
    {
     "name": "stderr",
     "output_type": "stream",
     "text": [
      "[Parallel(n_jobs=-1)]: Done 320 out of 320 | elapsed:   18.4s finished\n",
      "[Parallel(n_jobs=-1)]: Done 458 tasks      | elapsed:    8.0s\n",
      "[Parallel(n_jobs=-1)]: Done 1165 tasks      | elapsed:   20.5s\n",
      "[Parallel(n_jobs=-1)]: Done 1915 tasks      | elapsed:   38.1s\n",
      "[Parallel(n_jobs=-1)]: Done 2497 tasks      | elapsed:   54.5s\n",
      "[Parallel(n_jobs=-1)]: Done 3397 tasks      | elapsed:  1.4min\n",
      "[Parallel(n_jobs=-1)]: Done 3800 out of 3800 | elapsed:  1.7min finished\n"
     ]
    }
   ],
   "source": [
    "helper5 = EstimatorSelectionHelper(models5, params5)\n",
    "helper5.fit(tr_x, tr_y, n_jobs=-1)"
   ]
  },
  {
   "cell_type": "code",
   "execution_count": 160,
   "metadata": {
    "hidden": true
   },
   "outputs": [
    {
     "name": "stderr",
     "output_type": "stream",
     "text": [
      "/opt/conda/envs/HL-capstone/lib/python3.6/site-packages/ipykernel_launcher.py:46: FutureWarning: Sorting because non-concatenation axis is not aligned. A future version\n",
      "of pandas will change to not sort by default.\n",
      "\n",
      "To accept the future behavior, pass 'sort=True'.\n",
      "\n",
      "To retain the current behavior and silence the warning, pass sort=False\n",
      "\n"
     ]
    }
   ],
   "source": [
    "helper5_result = helper5.score_summary()"
   ]
  },
  {
   "cell_type": "code",
   "execution_count": 266,
   "metadata": {
    "hidden": true
   },
   "outputs": [
    {
     "data": {
      "text/plain": [
       "estimator           Ridge\n",
       "min_score       0.0899666\n",
       "mean_score       0.170559\n",
       "max_score        0.218317\n",
       "std_score       0.0478031\n",
       "alpha                1.55\n",
       "max_depth             NaN\n",
       "n_estimators          NaN\n",
       "Name: 32, dtype: object"
      ]
     },
     "execution_count": 266,
     "metadata": {},
     "output_type": "execute_result"
    }
   ],
   "source": [
    "helper5_result.iloc[0]"
   ]
  },
  {
   "cell_type": "markdown",
   "metadata": {
    "heading_collapsed": true,
    "hidden": true
   },
   "source": [
    "#### fit the best model"
   ]
  },
  {
   "cell_type": "code",
   "execution_count": 166,
   "metadata": {
    "hidden": true,
    "scrolled": true
   },
   "outputs": [
    {
     "name": "stdout",
     "output_type": "stream",
     "text": [
      "using Random Forest modes the score for TRAIN set is: 0.5589995951227082\n"
     ]
    }
   ],
   "source": [
    "model5_est = Ridge(alpha = 1.55) \n",
    "model5_est.fit(tr_x, tr_y)\n",
    "#print('using Random Forest modes the score for TEST set is: ' + \\\n",
    "#      str(model5_est.score(te_x, te_y)))\n",
    "print('using Random Forest modes the score for TRAIN set is: ' + \\\n",
    "      str(model5_est.score(tr_x, tr_y)))"
   ]
  },
  {
   "cell_type": "code",
   "execution_count": 29,
   "metadata": {
    "hidden": true
   },
   "outputs": [
    {
     "name": "stdout",
     "output_type": "stream",
     "text": [
      "using Random Forest modes the score for TRAIN set is: 0.5553861649577794\n"
     ]
    }
   ],
   "source": [
    "model5_est = Pipeline([\n",
    "        ('column_select_trans', ColumnSelectTransformer(['directors'])),\n",
    "        ('hot_one', DictEncoder()),\n",
    "        ('hot_one_dictionary', DictVectorizer()),\n",
    "        ('ridge', Ridge(alpha = 1.55) )\n",
    "         ])\n",
    "model5_est.fit(data_imdb_rating_train, y_imdb_rating_train) # Fit the model using data_transform as training data and star_ratings\\\n",
    "                                                     # as target values\n",
    "#print('using Random Forest modes the score for TEST set is: ' + \\\n",
    "#      str(model1_est.score(y_imdb_rating_test, y_imdb_rating_test)))\n",
    "print('using Random Forest modes the score for TRAIN set is: ' + \\\n",
    "      str(model5_est.score(data_imdb_rating_train, y_imdb_rating_train)))"
   ]
  },
  {
   "cell_type": "markdown",
   "metadata": {
    "hidden": true
   },
   "source": [
    "#### plot"
   ]
  },
  {
   "cell_type": "code",
   "execution_count": 76,
   "metadata": {
    "hidden": true
   },
   "outputs": [
    {
     "name": "stdout",
     "output_type": "stream",
     "text": [
      "{'Barbra Streisand': 0, 'Anthony Burns': 0, 'Jim Henson': 0, 'Joel Anderson': 0, 'David Cronenberg': 0, 'Phillip Noyce': 0, 'Jon Hurwitz': 0, 'Hayden Schlossberg': 0, 'Atom Egoyan': 0, 'Allan A': 0, 'Ronald Neame': 0, 'David Yates': 0, 'Rod Lurie': 0, 'Francis Ford Coppola': 0, 'Eric Valette': 0, 'Greg Berlanti': 0, 'Frank Oz': 0, 'Stephen Frears': 0, 'Sylvain White': 0, 'Stephen Hopkins': 0, 'Robert Aldrich': 0, 'Guy Jenkin': 0, 'Terry Zwigoff': 0, 'Michael Tuchner': 0, 'John Badham': 0, 'Paul Weiland': 0, 'John Mackenzie': 0, 'John Gatins': 0, 'Luke Greenfield': 0, 'mink': 0, 'John Dahl': 0, 'Chris Noonan': 0, 'Sidney Poitier': 0, 'Ethan Coen': 0, 'Joel Coen': 0, 'Mark Illsley': 0, 'John Landis': 0, 'Bob Clark': 0, 'Gregory Mackenzie': 0, 'George Clooney': 0, 'Clint Eastwood': 0, 'Adam Shankman': 0, 'Hall Bartlett': 0, 'Steven Feder': 0, 'Jay Roach': 0, 'Lou Adler': 0, 'Tommy Chong': 0, 'Roger Spottiswoode': 0, 'Buzz Kulik': 0, 'Sarah Smith': 0, 'Barry Cook': 0, 'Gabor Csupo': 0, 'Betty Thomas': 0, 'Adam Elliot': 0, 'D': 0, 'Hugh Wilson': 0, 'Elizabeth Banks': 0, 'Chuck Russell': 0, 'Hadi Hajaig': 0, 'John Huston': 0, 'Howard Deutch': 0, 'Patrick Lussier': 0, 'Clare Kilner': 0, 'John Gulager': 0, 'Len Wiseman': 0, 'Martin Gero': 0, 'Tyler Perry': 0, 'Danis Tanovic': 0, 'Tony Randel': 0, 'Robert Iscove': 0, 'Taylor Hackford': 0, 'Ingmar Bergman': 0, 'John Singleton': 0, 'Julie Delpy': 0, 'Brad Bird': 0, 'Jan Pinkava': 0, 'Andrew Davis': 0, 'Terry Gilliam': 0, 'Terry Jones': 0, 'Rob Cohen': 0, 'Christopher Nolan': 0, 'Robert Benton': 0, 'Alan Parker': 0, 'Peter Jackson': 0, 'Dwight H': 0, 'Leslye Headland': 0, 'Marshall Brickman': 0, 'Woody Allen': 0, 'John Woo': 0, 'John Sayles': 0, 'Sam O': 0, 'Gary Hardwick': 0, 'Richard Linklater': 0, 'Walter Hill': 0, 'John Schultz': 0, 'Dean Parisot': 0, 'Robert Altman': 0, 'Martin Brest': 0, 'Renny Harlin': 0, 'Jordan Downey': 0, 'E': 0, 'Carroll Ballard': 0, 'Craig R': 0, 'Ron Howard': 0, 'Andrew Adamson': 0, 'Vicky Jenson': 0, 'Trygve Allister Diesen': 0, 'Lucky McKee': 0, 'Guillermo del Toro': 0, 'Julian Gilbey': 0, 'Jimmy Hayward': 0, 'Steve Martino': 0, 'Roman Polanski': 0, 'Niall Johnson': 0, 'Malcolm D': 0, 'Blake Edwards': 0, 'David Hackl': 0, 'Sally Potter': 0, 'Ronny Yu': 0, 'Jonathan Hensleigh': 0, 'Nick Gomez': 0, 'Lars von Trier': 0, 'Tim Burton': 0, 'Alec Baldwin': 0, 'Kevin Hooks': 0, 'Marco Brambilla': 0, 'Malcolm Leo': 0, 'Roger Corman': 0, 'Michael Coldewey': 0, 'Michel Lemire': 0, 'Luis Prieto': 0, 'Roberto Benigni': 0, 'Tom Holland': 0, 'Adam McKay': 0, 'Paul Greengrass': 0, 'Joe Johnston': 0, 'Joe Carnahan': 0, 'Chris Gorak': 0, 'Hal Ashby': 0, 'Tony Cinciripini': 0, 'Christopher Cain': 0, 'Luc Besson': 0, 'Cameron Crowe': 0, 'Lawrence Kasdan': 0, 'Stuart Gordon': 0, 'Tim Heidecker': 0, 'Eric Wareheim': 0, 'Danny Boyle': 0, 'Jeremy Kagan': 0, 'Irvin Kershner': 0, 'Pedro Almodóvar': 0, 'Mike Judge': 0, 'Mike de Seve': 0, 'Brian Mulroney': 0, 'Yvette Kaplan': 0, 'Marcel Langenegger': 0, 'John McTiernan': 0, 'Jonathan Kaplan': 0, 'Prachya Pinkaew': 0, 'Jack Hill': 0, 'Mike Clattenburg': 0, 'Darren Aronofsky': 0, 'Phil Karlson': 0, 'Andrew Wilson': 0, 'Luke Wilson': 0, 'Robert Rodriguez': 0, 'Fred Schepisi': 0, 'Paul Verhoeven': 0, 'Garry Marshall': 0, 'James Foley': 0, 'Joel Schumacher': 0, 'Neil LaBute': 0, 'Jon Turteltaub': 0, 'Jason Bloom': 0, 'Robert Wise': 0, 'Simon West': 0, 'Andrew Fleming': 0, 'Richard Attenborough': 0, 'Peter Hedges': 0, 'Rob Reiner': 0, 'Nick Cassavetes': 0, 'Franc': 0, 'Mark Rydell': 0, 'Martyn Burke': 0, 'Fred Savage': 0, 'Jim Sheridan': 0, 'John Stockwell': 0, 'Scott Wheeler': 0, 'Don Bluth': 0, 'Ken Loach': 0, 'Kirk Wong': 0, 'Tamra Davis': 0, 'Don McKellar': 0, 'James Melkonian': 0, 'Quentin Tarantino': 0, 'Joe Wright': 0, 'Paul Mazursky': 0, 'Steve Beck': 0, 'Kevin Rodney Sullivan': 0, 'Simon Curtis': 0, 'Kenny Ortega': 0, 'Mario Van Peebles': 0, 'Joseph Kahn': 0, 'Menahem Golan': 0, 'Francis Lawrence': 0, 'Steven Soderbergh': 0, 'Mark Steven Johnson': 0, 'Andrzej Bartkowiak': 0, 'James L': 0, 'Michael Bay': 0, 'Robert Zemeckis': 0, 'Billy Ray': 0, 'Gabe Torres': 0, 'Spike Lee': 0, 'Sam Mendes': 0, 'Carlos Saldanha': 0, 'Richard Benjamin': 0, 'Lodge Kerrigan': 0, 'Baltasar Kormákur': 0, 'Ruben Fleischer': 0, 'Robert Longo': 0, 'Susanne Bier': 0, 'DJ Pooh': 0, 'Herbert Ross': 0, 'Tim Hill': 0, 'Andrew Stanton': 0, 'Mark Tarlov': 0, 'Tom Kalin': 0, 'Richard Rich': 0, 'Walt Becker': 0, 'Greg Mottola': 0, 'David Mirkin': 0, 'Geoffrey Wright': 0, 'Jaume Balagueró': 0, 'Hans Canosa': 0, 'Steven Spielberg': 0, 'Philipp Stölzl': 0, 'Enki Bilal': 0, 'John Carpenter': 0, 'Doug Liman': 0, 'Hugh Hudson': 0, 'George Schaefer': 0, 'Peter Sohn': 0, 'Bradley Kaplan': 0, 'Tony Scott': 0, 'Jonathan Frakes': 0, 'Ridley Scott': 0, 'Georges Lautner': 0, 'Mike Mitchell': 0, 'Garth Jennings': 0, 'Evan Goldberg': 0, 'Seth Rogen': 0, 'Gregg Champion': 0, 'Sydney Pollack': 0, 'Albert Hughes': 0, 'Allen Hughes': 0, 'Amy Heckerling': 0, 'Steven Knight': 0, 'Roger Donaldson': 0, 'Marc F': 0, 'Bam Margera': 0, 'Alan J': 0, 'Peter Bogdanovich': 0, 'Tony Goldwyn': 0, 'Mira Nair': 0, 'Stephen Herek': 0, 'Richard Baskin': 0, 'Ron Underwood': 0, 'Gordon Hessler': 0, 'Jessica Sharzer': 0, 'Ricky Gervais': 0, 'Matthew Robinson': 0, 'Phil Alden Robinson': 0, 'Stephen Norrington': 0, 'Barry Levinson': 0, 'Matthew O': 0, 'Baz Luhrmann': 0, 'Joseph Sargent': 0, 'J': 0, 'Joe Camp': 0, 'Peter MacDonald': 0, 'John Carl Buechler': 0, 'Robin Budd': 0, 'Donovan Cook': 0, 'Frederik Du Chau': 0, 'Sara Sugarman': 0, 'Peter Farrelly': 0, 'Bobby Farrelly': 0, 'Cess Silvera': 0, 'Jennifer Westfeldt': 0, 'John McNaughton': 0, 'Craig McCall': 0, 'Fatih Akin': 0, 'Yvan Attal': 0, 'Randall Balsmeyer': 0, 'Shunji Iwai': 0, 'Wen Jiang': 0, 'Shekhar Kapur': 0, 'Joshua Marston': 0, 'Natalie Portman': 0, 'Brett Ratner': 0, 'Robert Redford': 0, 'Efram Potelle': 0, 'Kyle Rankin': 0, 'Don Roos': 0, 'John Cornell': 0, 'Damon Santostefano': 0, 'Scott Cooper': 0, 'Stephen Daldry': 0, 'Daniel Alfredson': 0, 'Andy Cheng': 0, 'Richard Brooks': 0, 'David Michôd': 0, 'Wayne Blair': 0, 'Frank Coraci': 0, 'John Hillcoat': 0, 'Craig Brewer': 0, 'Victor Salva': 0, 'Jake Kasdan': 0, 'George Miller': 0, 'Gary Eck': 0, 'David Peers': 0, 'Stewart Raffill': 0, 'Larry Charles': 0, 'Bryan Spicer': 0, 'Mel Brooks': 0, 'Jeremy Haft': 0, 'Andrea Arnold': 0, 'John Waters': 0, 'John Pasquin': 0, 'Keenen Ivory Wayans': 0, 'Mike Birbiglia': 0, 'Seth Barrish': 0, 'John Boorman': 0, 'Christian E': 0, 'Stephen Gaghan': 0, 'Ole Bornedal': 0, 'Nick Moore': 0, 'Andy Cadiff': 0, 'Martin Campbell': 0, 'Harley Cokeliss': 0, 'James Cox': 0, 'Charles Martin Smith': 0, 'Bob Dolman': 0, 'Brian De Palma': 0, 'Hugh Johnson': 0, 'Edward Zwick': 0, 'Stephen Deutsch': 0, 'David Jacobson': 0, 'Kyung Ho Lee': 0, 'Roger Young': 0, 'Trey Parker': 0, 'Niki Caro': 0, 'Alexandre Aja': 0, 'Robert Kurtzman': 0, 'Wes Craven': 0, 'Christopher McQuarrie': 0, 'Tomas Alfredson': 0, 'Cal Brunker': 0, 'Pascal Laugier': 0, 'Anton Corbijn': 0, 'Christopher Smith': 0, 'John Nicolella': 0, 'James B': 0, 'M': 0, 'Matthew Chapman': 0, 'William Brent Bell': 0, 'David S': 0, 'Bob Rafelson': 0, 'Samuel Fuller': 0, 'Glenn Ficarra': 0, 'John Requa': 0, 'Steve Boyum': 0, 'Richard Donner': 0, 'Stuart Rosenberg': 0, 'Elizabeth Allen Rosenbaum': 0, 'Isabel Coixet': 0, 'David R': 0, 'Bruce McDonald': 0, 'Robert Hiltzik': 0, 'Aleksander Bach': 0, 'Gurinder Chadha': 0, 'Jerry Zucker': 0, 'Luis Mandoki': 0, 'Gillian Armstrong': 0, 'James Gray': 0, 'Neil Abramson': 0, 'William Malone': 0, 'Harry Elfont': 0, 'Deborah Kaplan': 0, 'Anthony Russo': 0, 'Joe Russo': 0, 'Marc Forster': 0, 'Michael Radford': 0, 'Ivan Reitman': 0, 'Richard Kelly': 0, 'Anthony Minghella': 0, 'John Guillermin': 0, 'William Kaufman': 0, 'Paul Thomas Anderson': 0, 'Martha Coolidge': 0, 'James Goldstone': 0, 'Richard Fleischer': 0, 'James Cameron': 0, 'Barry Sonnenfeld': 0, 'John Curran': 0, 'Michael Apted': 0, 'Vincent McEveety': 0, 'Corey Yuen': 0, 'Ti West': 0, 'Wim Wenders': 0, 'Justin Lin': 0, 'Donald Petrie': 0, 'Hideo Nakata': 0, 'Buddy Giovinazzo': 0, 'Quentin Masters': 0, 'Joe Charbanic': 0, 'Rupert Wainwright': 0, 'Tobe Hooper': 0, 'Jim Mickle': 0, 'Alan Rudolph': 0, 'Tarsem Singh': 0, 'Gary Goldman': 0, 'Don Sharp': 0, 'Paul Schrader': 0, 'Jane Campion': 0, 'John Duigan': 0, 'Ken Kwapis': 0, 'Kevin Lima': 0, 'Richard Greenberg': 0, 'Dick Richards': 0, 'Jerry Jameson': 0, 'Adrian Lyne': 0, 'Kurt Wimmer': 0, 'Sean Penn': 0, 'Eli Roth': 0, 'Gary Ross': 0, 'Anne Fletcher': 0, 'William Friedkin': 0, 'Guy Ritchie': 0, 'Jamie Babbit': 0, 'Glenn Gordon Caron': 0, 'Steve Carr': 0, 'Sean Anders': 0, 'Måns Mårlind': 0, 'Björn Stein': 0, 'Tom Shadyac': 0, 'Takashi Shimizu': 0, 'Tim Blake Nelson': 0, 'Bernardo Bertolucci': 0, 'Ben Stiller': 0, 'J Blakeson': 0, 'Craig Mazin': 0, 'Mark Neveldine': 0, 'Brian Taylor': 0, 'Louis Leterrier': 0, 'Nick Vallelonga': 0, 'Sofia Coppola': 0, 'Albert Pyun': 0, 'Douglas McGrath': 0, 'Ryan Gosling': 0, 'Warren Coleman': 0, 'Judy Morris': 0, 'Andy Tennant': 0, 'Harald Zwart': 0, 'Michael Haigney': 0, 'Kunihiko Yuyama': 0, 'Ben Affleck': 0, 'Howard Avedis': 0, 'Todd Phillips': 0, 'Mike Johnson': 0, 'Oren Moverman': 0, 'Paul McGuigan': 0, 'John Whitesell': 0, 'Raja Gosnell': 0, 'George Armitage': 0, 'Patricia Birch': 0, 'Steve Pink': 0, 'Don Coscarelli': 0, 'Brad Anderson': 0, 'Scott Walker': 0, 'Agnieszka Holland': 0, 'James Mangold': 0, 'Jonathan Kasdan': 0, 'Brandon Camp': 0, 'Hal Needham': 0, 'Richard Lester': 0, 'Dennis Lee': 0, 'Jonathan Demme': 0, 'Bradley Parker': 0, 'Shawn Levy': 0, 'Colin Strause': 0, 'Greg Strause': 0, 'John Lafia': 0, 'Alexander Witt': 0, 'Zoe R': 0, 'Tom Hooper': 0, 'Emilio Estevez': 0, 'Jim Jarmusch': 0, 'Tony Richardson': 0, 'Brian Hecker': 0, 'Gareth Edwards': 0, 'Hayao Miyazaki': 0, 'Richard Eyre': 0, 'George Kaczender': 0, 'Werner Herzog': 0, 'Kevin Greutert': 0, 'Mike Leigh': 0, 'Michael Cuesta': 0, 'Bruce Hendricks': 0, 'George Tillman Jr': 0, 'Gregory Poirier': 0, 'Russell Mulcahy': 0, 'Kevin Smith': 0, 'Jim Wynorski': 0, 'Andrew Mogel': 0, 'Jarrad Paul': 0, 'Fenton Bailey': 0, 'Randy Barbato': 0, 'Richard C': 0, 'Eduardo Sánchez': 0, 'Lewis Teague': 0, 'Matthew Vaughn': 0, 'Oliver Stone': 0, 'Dennis Dugan': 0, 'Reginald Hudlin': 0, 'Don Taylor': 0, 'Mike Hodges': 0, 'Roland Joffé': 0, 'Paul Feig': 0, 'Brad Silberling': 0, 'Jeremy Podeswa': 0, 'József Gémes': 0, 'Jan Troell': 0, 'Milos Forman': 0, 'John Putch': 0, 'Kevin Reynolds': 0, 'Alex Proyas': 0, 'Tuck Tucker': 0, 'Roland Emmerich': 0, 'Jason Todd Ipson': 0, 'Marcus Nispel': 0, 'Ron Shelton': 0, 'Joseph Zito': 0, 'Uwe Boll': 0, 'Brian Robbins': 0, 'Mike Marvin': 0, 'Richard LaGravenese': 0, 'Kirk Douglas': 0, 'Penny Marshall': 0, 'P': 0, 'Fred Dekker': 0, 'Jon Amiel': 0, 'Sam Raimi': 0, 'Willard Huyck': 0, 'Martin Davidson': 0, 'Stephen Verona': 0, 'James Wan': 0, 'David Koepp': 0, 'Gus Van Sant': 0, 'Brian A': 0, 'Rebecca Miller': 0, 'Nick Hurran': 0, 'Paul W': 0, 'Thom Eberhardt': 0, 'Ryan Fleck': 0, 'Danny Cannon': 0, 'Rowdy Herrington': 0, 'Mark Andrews': 0, 'Brenda Chapman': 0, 'Steve Purcell': 0, 'John Moore': 0, 'Danny Leiner': 0, 'John R': 0, 'Dave McKean': 0, 'Jon M': 0, 'Frank Miller': 0, 'Christina Wayne': 0, 'Tom McGrath': 0, 'Ernie Barbarash': 0, 'Antoine Fuqua': 0, 'Sharon Maguire': 0, 'Neil Jordan': 0, 'Irwin Allen': 0, 'Philip G': 0, 'Martin Weisz': 0, 'Jerry Kramer': 0, 'Colin Chilvers': 0, 'Francine McDougall': 0, 'Perry Andelin Blake': 0, 'Richard Pearce': 0, 'Will Canon': 0, 'Michael Caton': 0, 'Yves Simoneau': 0, 'Sidney J': 0, 'Peter Yates': 0, 'Ben Ramsey': 0, 'Andy Muschietti': 0, 'Stan Winston': 0, 'Kevin Macdonald': 0, 'Allan Moyle': 0, 'George Mihalka': 0, 'Michael Schultz': 0, 'Mathieu Kassovitz': 0, 'Vincent Ward': 0, 'Sean McNamara': 0, 'Frank Longo': 0, 'Steven Shainberg': 0, 'Jamie Travis': 0, 'Michael Cimino': 0, 'Stanley Kramer': 0, 'David Zucker': 0, 'Billy Wilder': 0, 'Daryl Duke': 0, 'Eric Styles': 0, 'Josh Gordon': 0, 'Will Speck': 0, 'Marcus Raboy': 0, 'Alexander Payne': 0, 'Michael Ritchie': 0, 'Jon Favreau': 0, 'Jason Reitman': 0, 'Menno Meyjes': 0, 'Howard Zieff': 0, 'Pete Docter': 0, 'David Silverman': 0, 'Lee Unkrich': 0, 'Florent': 0, 'John Frankenheimer': 0, 'Pete Jones': 0, 'John Fawcett': 0, 'Richard Loncraine': 0, 'Lawrence Guterman': 0, 'Ruggero Deodato': 0, 'Kenneth Branagh': 0, 'Henry Selick': 0, 'Peter Sollett': 0, 'Michael Moore': 0, 'Elaine May': 0, 'Kevin Bray': 0, 'Kent Alterman': 0, 'Travis Cluff': 0, 'Chris Lofing': 0, 'John Irvin': 0, 'Richard Stanley': 0, 'Rick Rosenthal': 0, 'Ryan Murphy': 0, 'Timothy Greenfield': 0, 'Pixote Hunt': 0, 'David Von Ancken': 0, 'Ramaa Mosley': 0, 'Peter Hall': 0, 'Ralph Bakshi': 0, 'Mike Gabriel': 0, 'Eric Goldberg': 0, 'Sylvester Stallone': 0, 'Jodie Foster': 0, 'Danny DeVito': 0, 'David Bowers': 0, 'Nicholas Jarecki': 0, 'Scott Derrickson': 0, 'Mick Jackson': 0, 'Robert Mandel': 0, 'Robert Schwentke': 0, 'Jonathan Lynn': 0, 'Rob Zombie': 0, 'James Toback': 0, 'George P': 0, 'Todd Stephens': 0, 'Michael Winterbottom': 0, 'Gregory Hoblit': 0, 'Dennis Hopper': 0, 'Meiert Avis': 0, 'Oren Peli': 0, 'Gary Lennon': 0, 'Peter Hewitt': 0, 'Rob Marshall': 0, 'Jeff Pollack': 0, 'Seth Gordon': 0, 'Gavin O': 0, 'Ang Lee': 0, 'Steve Miner': 0, 'Andrew Bergman': 0, 'Sally Field': 0, 'Tom McCarthy': 0, 'Noel Nosseck': 0, 'Jean': 0, 'Wolfgang Petersen': 0, 'Petter Næss': 0, 'Martin Scorsese': 0, 'Wayne Beach': 0, 'Rachel Talalay': 0, 'Brian Smrz': 0, 'Tom McLoughlin': 0, 'Jeff Nichols': 0, 'Iain Softley': 0, 'Jeremy Sims': 0, 'Kern Saxton': 0, 'Sheldon Lettich': 0, 'Joan Micklin Silver': 0, 'Johnnie To': 0, 'Marc Lawrence': 0, 'Daniel Stern': 0, 'Stephen Chbosky': 0, 'Thomas Bezucha': 0, 'Michael Oblowitz': 0, 'Jonathan Dayton': 0, 'Valerie Faris': 0, 'Michael Mann': 0, 'Lorene Scafaria': 0, 'Robert Vincent O': 0, 'David Fincher': 0, 'Scott Alexander': 0, 'Larry Karaszewski': 0, 'Alan Taylor': 0, 'Arne Glimcher': 0, 'Stewart Hendler': 0, 'F': 0, 'Mimi Leder': 0, 'Gene Wilder': 0, 'Edgar Wright': 0, 'Peter Bonerz': 0, 'Camille Delamarre': 0, 'David Ren': 0, 'Robert Lee King': 0, 'Mikael Håfström': 0, 'Chris Weitz': 0, 'Josh Trank': 0, 'Robert Luketic': 0, 'Glen Morgan': 0, 'Akiva Schaffer': 0, 'Jon Wright': 0, 'Justin Kurzel': 0, 'George Lucas': 0, 'Alan Shapiro': 0, 'Bill Condon': 0, 'Franklin J': 0, 'Frank LaLoggia': 0, 'Stanley Kubrick': 0, 'Jim Gillespie': 0, 'John Hyams': 0, 'Peter Hyams': 0, 'Richard Quine': 0, 'John Crowley': 0, 'Gonzalo López': 0, 'Peter Segal': 0, 'Maria Maggenti': 0, 'Eduardo Rodriguez': 0, 'Bruce Beresford': 0, 'Lana Wachowski': 0, 'Lilly Wachowski': 0, 'Jerusha Hess': 0, 'John Sturges': 0, 'Graeme Clifford': 0, 'Walter Salles': 0, 'Douglas Cheek': 0, 'Jessie Nelson': 0, 'John Carney': 0, 'Kirk Jones': 0, 'Stanley Tong': 0, 'Todd Graff': 0, 'István Szabó': 0, 'Antonio Banderas': 0, 'Tim Story': 0, 'Eric Darnell': 0, 'Conrad Vernon': 0, 'James Fargo': 0, 'Audrey Wells': 0, 'Courtney Solomon': 0, 'Oliver Parker': 0, 'Kevin Donovan': 0, 'Marcus Adams': 0, 'Paul Haggis': 0, 'Juan Carlos Fresnadillo': 0, 'Todd Haynes': 0, 'John G': 0, 'Brian Baugh': 0, 'Sam Peckinpah': 0, 'Joel Silberg': 0, 'Tony Kaye': 0, 'Harris Goldberg': 0, 'Stuart Townsend': 0, 'Rich Moore': 0, 'Roman Coppola': 0, 'Alan Myerson': 0, 'Kevin Connor': 0, 'Steve Wang': 0, 'Harold Ramis': 0, 'Avi Nesher': 0, 'Tim Johnson': 0, 'Karey Kirkpatrick': 0, 'Peter Berg': 0, 'Michael Winner': 0, 'Robert Towne': 0, 'Phillip Borsos': 0, 'Jack Bender': 0, 'Sngmoo Lee': 0, 'Carlo Ledesma': 0, 'Patrick Hughes': 0, 'Jim Abrahams': 0, 'Jim Goddard': 0, 'Troy Miller': 0, 'Jay Russell': 0, 'Jon Lucas': 0, 'Scott Moore': 0, 'Peter Webber': 0, 'Rob Letterman': 0, 'Richard Rush': 0, 'Norman René': 0, 'Jeff Lowell': 0, 'Robert Vince': 0, 'Mark Pavia': 0, 'Rick Sloane': 0, 'Gary Winick': 0, 'Alex Turner': 0, 'George A': 0, 'Phil Joanou': 0, 'Michael Lee Baron': 0, 'Lili Fini Zanuck': 0, 'Philippe Mora': 0, 'Ernest R': 0, 'Andy Fickman': 0, 'Carl Franklin': 0, 'Mars Callahan': 0, 'Barbet Schroeder': 0, 'Dave Filoni': 0, 'Mark L': 0, 'Chris Miller': 0, 'Raman Hui': 0, 'Tony Gilroy': 0, 'Charles Shyer': 0, 'Emile Ardolino': 0, 'William Richert': 0, 'Fred Walton': 0, 'Brian Yuzna': 0, 'Gary McKendry': 0, 'Nimród Antal': 0, 'Christopher Coppola': 0, 'Mike Flanagan': 0, 'Masami Hata': 0, 'William T': 0, 'Hector Babenco': 0, 'Curtis Hanson': 0, 'Brian Hooks': 0, 'Deon Taylor': 0, 'Zelda Barron': 0, 'Beeban Kidron': 0, 'Patrick Read Johnson': 0, 'Dominique Othenin': 0, 'Thomas Whelan': 0, 'Jake Schreier': 0, 'Davis Guggenheim': 0, 'Patrick Stettner': 0, 'Alexander Bulkley': 0, 'Alex Kendrick': 0, 'Scott Hicks': 0, 'Rajkumar Hirani': 0, 'Stephen Cornwell': 0, 'Abel Ferrara': 0, 'Josef Rusnak': 0, 'David Leland': 0, 'Geoff Murphy': 0, 'Jon Purdy': 0, 'Doug McHenry': 0, 'Christopher Neil': 0, 'Lukas Moodysson': 0, 'Rodman Flender': 0, 'Chris Columbus': 0, 'Roger Kumble': 0, 'Frank Pierson': 0, 'Mike McCoy': 0, 'Scott Waugh': 0, 'Susan Stroman': 0, 'Clark Gregg': 0, 'Jonathan Liebesman': 0, 'Stephen Bradley': 0, 'Leonard Nimoy': 0, 'Jonathan Darby': 0, 'Daniel Benmayor': 0, 'Mike Nichols': 0, 'Anand Tucker': 0, 'Jee': 0, 'Harmony Korine': 0, 'Roger Avary': 0, 'Stephen Chiodo': 0, 'Michael Coleman': 0, 'Eric Johnson': 0, 'Tim Pope': 0, 'Peter Weir': 0, 'Christopher Erskin': 0, 'Ed Harris': 0, 'Gerald Thomas': 0, 'Mike Gunther': 0, 'John Madden': 0, 'Andrew Niccol': 0, 'Jun Falkenstein': 0, 'Jonas Pate': 0, 'Anthony Hickox': 0, 'Steve Rash': 0, 'Alejandro Amenábar': 0, 'Martin Bell': 0, 'John Glen': 0, 'Irwin Winkler': 0, 'Alan Metter': 0, 'Tyler Oliver': 0, 'Ted Demme': 0, 'Joe Alves': 0, 'Nadia Tass': 0, 'Dana Heinz Perry': 0, 'Randall Miller': 0, 'Christian Duguay': 0, 'Vincenzo Natali': 0, 'John Luessenhop': 0, 'Philip Kaufman': 0, 'Greydon Clark': 0, 'Dan Kuenster': 0, 'McG': 0, 'Peter Billingsley': 0, 'Tony Krantz': 0, 'John Lasseter': 0, 'Bob Misiorowski': 0, 'David Mamet': 0, 'Mike Mills': 0, 'Daniel Waters': 0, 'Ted Post': 0, 'Anders Rønnow Klarlund': 0, 'Alastair Fothergill': 0, 'Mark Linfield': 0, 'Michael A': 0, 'Spike Jonze': 0, 'Andrew Morahan': 0, 'William Phillips': 0, 'Holly Goldberg Sloan': 0, 'Charles Robert Carner': 0, 'Dominic Sena': 0, 'David Anspaugh': 0, 'Steve McQueen': 0, 'Sammo Kam': 0, 'Kris Isacsson': 0, 'Stephen Sommers': 0, 'Joe Dante': 0, 'Brett Leonard': 0, 'Bo Welch': 0, 'John Milius': 0, 'Julia Leigh': 0, 'James Isaac': 0, 'Andrew Dominik': 0, 'Harold Becker': 0, 'Jennifer Flackett': 0, 'Mark Levin': 0, 'Peter Templeman': 0, 'Q': 0, 'Joey Stewart': 0, 'Alex Cox': 0, 'Mark Osborne': 0, 'Ken Annakin': 0, 'Tim Robbins': 0, 'Joel Zwick': 0, 'Angelina Jolie': 0, 'Isaac Florentine': 0, 'Sarah Polley': 0, 'Mark Helfrich': 0, 'Jonathan Mostow': 0, 'Martin Guigui': 0, 'David Lynch': 0, 'Gary Chapman': 0, 'Austin Chick': 0, 'Robert De Niro': 0, 'Alfonso Cuarón': 0, 'Kevin Costner': 0, 'Anthony Drazan': 0, 'Gil Kenan': 0, 'George Roy Hill': 0, 'Christopher Duddy': 0, 'Richard Marquand': 0, 'Christian Volckman': 0, 'Bruce McCulloch': 0, 'William Heins': 0, 'Strathford Hamilton': 0, 'Sooraj R': 0, 'Chris Carter': 0, 'Mike Barker': 0, 'Roger Christian': 0, 'David Kellogg': 0, 'Eddie Murphy': 0, 'Nanette Burstein': 0, 'Joseph Ruben': 0, 'Simon Wincer': 0, 'Joshua Seftel': 0, 'Gore Verbinski': 0, 'Richard Schenkman': 0, 'David Twohy': 0, 'Jesse Dylan': 0, 'Tommy O': 0, 'Fedor Bondarchuk': 0, 'Michael Dowse': 0, 'Wes Anderson': 0, 'Rob Schmidt': 0, 'Jeremy Power Regimbal': 0, 'Brian Gibson': 0, 'Wai': 0, 'Paul Fox': 0, 'Chris Wedge': 0, 'Daniel Espinosa': 0, 'Brian Gilbert': 0, 'Marc Evans': 0, 'John Berry': 0, 'Paul Bartel': 0, 'Allen Coulter': 0, 'Richard T': 0, 'David Raynr': 0, 'Paul Scheuring': 0, 'Richard Wenk': 0, 'Jim Sharman': 0, 'Guy Maddin': 0, 'Mike Figgis': 0, 'Mark Romanek': 0, 'Alan Johnson': 0, 'Lance Hool': 0, 'Lasse Hallström': 0, 'Lamberto Bava': 0, 'Derek Cianfrance': 0, 'David Duchovny': 0, 'Paul Abascal': 0, 'Arthur Hiller': 0, 'Martin Lawrence': 0, 'William Wesley': 0, 'Alfred Hitchcock': 0, 'Tom Dey': 0, 'Jason Winer': 0, 'Hype Williams': 0, 'Claudia Llosa': 0, 'Ola Simonsson': 0, 'Johannes Stjärne Nilsson': 0, 'Antonio Margheriti': 0, 'Ulu Grosbard': 0, 'Allison Anders': 0, 'Alexandre Rockwell': 0, 'Morten Tyldum': 0, 'Diane English': 0, 'Gavin Hood': 0, 'Maxim Korostyshevsky': 0, 'Pete Riski': 0, 'Alan Smithee': 0, 'Terry George': 0, 'Kevin Spacey': 0, 'Chris Kentis': 0, 'Lamont Johnson': 0, 'Mario Bava': 0, 'Thomas Carter': 0, 'Jocelyn Moorhouse': 0, 'Charles Band': 0, 'Barry W': 0, 'Ken Russell': 0, 'John De Bello': 0, 'James Ivory': 0, 'Craig Zobel': 0, 'Pierre Morel': 0, 'Bill Fishman': 0, 'Steven Zaillian': 0, 'Hatsuki Tsuji': 0, 'Miguel Arteta': 0, 'Artie Mandelberg': 0, 'Stephan Elliott': 0, 'Des McAnuff': 0, 'Robby Henson': 0, 'Élie Chouraqui': 0, 'Andy Garcia': 0, 'Keith Gordon': 0, 'Mick Garris': 0, 'Dewey Nicks': 0, 'Chris Nahon': 0, 'Alex Holdridge': 0, 'Greg McLean': 0, 'Adam Marcus': 0, 'Michele Soavi': 0, 'Penelope Spheeris': 0, 'Stephen Surjik': 0, 'Mark Rosman': 0, 'Galt Niederhoffer': 0, 'Jeff King': 0, 'Jessy Terrero': 0, 'James Wong': 0, 'Kasi Lemmons': 0, 'Ellory Elkayem': 0, 'Tommy Lee Wallace': 0, 'David Dobkin': 0, 'Robert Harmon': 0, 'Jim Hanon': 0, 'Mike Newell': 0, 'Gerald Potterton': 0, 'John Bruno': 0, 'John Halas': 0, 'Julian Harris': 0, 'Jimmy T': 0, 'Michael G': 0, 'Lloyd Kaufman': 0, 'Michael Burke': 0, 'Nancy Meyers': 0, 'Franco Zeffirelli': 0, 'John Pogue': 0, 'Edward Burns': 0, 'Bille Woodruff': 0, 'Jim Field Smith': 0, 'Tristan Patterson': 0, 'Nicolas Winding Refn': 0, 'Eric Radomski': 0, 'Bruce Timm': 0, 'Kevin Altieri': 0, 'Boyd Kirkland': 0, 'Frank Paur': 0, 'Dan Riba': 0, 'Michael Patrick Jann': 0, 'Joseph Guzman': 0, 'Tim Hunter': 0, 'Victor Nunez': 0, 'Joe Berlinger': 0, 'Harry Winer': 0, 'Stephen Gyllenhaal': 0, 'Michel Leclerc': 0, 'Dario Argento': 0, 'Billy Bob Thornton': 0, 'Jan de Bont': 0, 'David Green': 0, 'Bill Duke': 0, 'Deran Sarafian': 0, 'Roland Suso Richter': 0, 'Tom Tykwer': 0, 'Christian Alvart': 0, 'Gary Jones': 0, 'Alejandro Jodorowsky': 0, 'Mark Goldblatt': 0, 'Michael Herz': 0, 'Harry Thomason': 0, 'Michael Karbelnikoff': 0, 'Dan Harris': 0, 'Ron Maxwell': 0, 'Julie Taymor': 0, 'Jim Loach': 0, 'Jeff Schaffer': 0, 'Alec Berg': 0, 'David Mandel': 0, 'Jason Wulfsohn': 0, 'Jason Eisener': 0, 'Nicholas Meyer': 0, 'Jay Duplass': 0, 'Mark Duplass': 0, 'Michael Hoffman': 0, 'Steve Box': 0, 'Nick Park': 0, 'Gilles Paquet': 0, 'Richard Williams': 0, 'Todd Strauss': 0, 'Christine Jeffs': 0, 'Brad Furman': 0, 'Brad Peyton': 0, 'Thomas J': 0, 'Richard Compton': 0, 'David McNally': 0, 'Rod Daniel': 0, 'Robert Lieberman': 0, 'David O': 0, 'Rick Moranis': 0, 'Dave Thomas': 0, 'Michael Haneke': 0, 'Randal Kleiser': 0, 'Rusty Cundieff': 0, 'Maggie Greenwald': 0, 'David Carson': 0, 'Patrick Tatopoulos': 0, 'Billy Weber': 0, 'Frank Henenlotter': 0, 'Ethan Maniquis': 0, 'Danny Steinmann': 0, 'Alan Pao': 0, 'Russ Meyer': 0, 'Kirk De Micco': 0, 'Asger Leth': 0, 'Maurice Phillips': 0, 'Neal Jimenez': 0, 'Michael Steinberg': 0, 'William Lustig': 0, 'Diane Keaton': 0, 'Charles S': 0, 'Marcus Dunstan': 0, 'Tom Shankland': 0, 'Fritz Kiersch': 0, 'Bibo Bergeron': 0, 'Don Paul': 0, 'Jeffrey Katzenberg': 0, 'Stefan Ruzowitzky': 0, 'James Nguyen': 0, 'David Slade': 0, 'Christophe Gans': 0, 'Shûsuke Kaneko': 0, 'Troy Duffy': 0, 'Simon Brand': 0, 'Matt Reeves': 0, 'Todd Field': 0, 'Ken Wiederhorn': 0, 'Bille August': 0, 'Jorma Taccone': 0, 'Tony Giglio': 0, 'Ed Solomon': 0, 'Danny Pang': 0, 'Oxide Chun Pang': 0, 'Nora Ephron': 0, 'Hart Bochner': 0, 'Pierre Coffin': 0, 'Chris Renaud': 0, 'Peter R': 0, 'Robert Klane': 0, 'Rob Minkoff': 0, 'Steve Gordon': 0, 'Frank Marshall': 0, 'Jeff Blyth': 0, 'Gary Sherman': 0, 'Tom Vaughan': 0, 'Scott Mann': 0, 'Rod Amateau': 0, 'John Derek': 0, 'Frank Darabont': 0, 'Charles Jarrott': 0, 'Jason Friedberg': 0, 'Aaron Seltzer': 0, 'Desmond Nakano': 0, 'Jaume Collet': 0, 'John Erick Dowdle': 0, 'Brian Levant': 0, 'William Shatner': 0, 'Paul Weitz': 0, 'Robert Stevenson': 0, 'Adam Rifkin': 0, 'Burr Steers': 0, 'Joe Ranft': 0, 'Marco Kreuzpaintner': 0, 'Mary Harron': 0, 'Lexi Alexander': 0, 'Don Handfield': 0, 'Peter Kosminsky': 0, 'Cary Joji Fukunaga': 0, 'William Monahan': 0, 'Philip D': 0, 'George Cukor': 0, 'John Warren': 0, 'Kathryn Bigelow': 0, 'Wayne Wang': 0, 'Dan Ireland': 0, 'Gabriel Cowan': 0, 'Tom Ford': 0, 'Daniel Myrick': 0, 'Jack Smight': 0, 'Kelly Asbury': 0, 'Joshua Michael Stern': 0, 'Charles Matthau': 0, 'Mark Waters': 0, 'Stanley Donen': 0, 'Paul Lynch': 0, 'Peter Werner': 0, 'Fisher Stevens': 0, 'Michael Pavone': 0, 'Ron Krauss': 0, 'Nathan Hope': 0, 'Uli Edel': 0, 'Tamara Jenkins': 0, 'Larry Cohen': 0, 'David Caesar': 0, 'Joachim Rønning': 0, 'Espen Sandberg': 0, 'James Bobin': 0, 'Zach Helm': 0, 'Stephen Kijak': 0, 'Michael Crichton': 0, 'Bill Norton': 0, 'Tom Tataranowicz': 0, 'Claude Chabrol': 0, 'Josh Stolberg': 0, 'Clark Johnson': 0, 'Jeff Tremaine': 0, 'Judd Apatow': 0, 'Jonathan Wacks': 0, 'Mabrouk El Mechri': 0, 'Bryan Singer': 0, 'John Michael McDonagh': 0, 'Jeremiah S': 0, 'Melanie Mayron': 0, 'Don Siegel': 0, 'Steve Antin': 0, 'Richard Friedenberg': 0, 'Hunter Richards': 0, 'Gilbert Adler': 0, 'Will Gluck': 0, 'Peter Ho': 0, 'Rob Pritts': 0, 'Arlene Sanford': 0, 'Michael Gornick': 0, 'Sean S': 0, 'Darren Lynn Bousman': 0, 'Eric Brevig': 0, 'Phil Lord': 0, 'Christopher Miller': 0, 'Ate de Jong': 0, 'George Hickenlooper': 0, 'Noah Baumbach': 0, 'Ken Shapiro': 0, 'Jason Moore': 0, 'Wes Ball': 0, 'Hal Hartley': 0, 'James Marsh': 0, 'Peter Cattaneo': 0, 'Karen Moncrieff': 0, 'Jan Kounen': 0, 'Shane Black': 0, 'Masayuki Ochiai': 0, 'Doug Ellin': 0, 'Robert B': 0, 'Michael Hoffman Jr': 0, 'John Hughes': 0, 'Bruno Barreto': 0, 'Steve Oedekerk': 0, 'Neil Burger': 0, 'Slava Tsukerman': 0, 'Jack Nicholson': 0, 'Eric Red': 0, 'Fraser C': 0, 'Ryûhei Kitamura': 0, 'Steve Buscemi': 0, 'Duncan Jones': 0, 'Pitof': 0, 'Tim Hamilton': 0, 'Michael Mayer': 0, 'Mark Steilen': 0, 'Shane Meadows': 0, 'John Hamburg': 0, 'Dave Meyers': 0, 'Charlie Kaufman': 0, 'Drew Goddard': 0, 'Aaron Blaise': 0, 'Robert Walker': 0, 'Carl Reiner': 0, 'Gene Saks': 0, 'Stephen Kay': 0, 'Michael Cristofer': 0, 'Marek Kanievska': 0, 'Jeff Kanew': 0, 'Breck Eisner': 0, 'Kevin Yagher': 0, 'Joss Whedon': 0, 'Nicole Holofcener': 0, 'Sidney Lumet': 0, 'Costa': 0, 'Derek Jarman': 0, 'Robert Clouse': 0, 'Bruce Lee': 0, 'Catherine Hardwicke': 0, 'Steve Kloves': 0, 'Jon Avnet': 0, 'Marleen Gorris': 0, 'Dan Aykroyd': 0, 'Peter M': 0, 'Katt Shea': 0, 'Alejandro Agresti': 0, 'Stephen Hillenburg': 0, 'Jody Hill': 0, 'Sebastian Gutierrez': 0, 'Mark Robson': 0, 'Steve Bendelack': 0, 'Brian Helgeland': 0, 'Michael Tiddes': 0, 'Antti Jokinen': 0, 'Colin Brady': 0, 'Christopher Reeve': 0, 'Daniel St': 0, 'Mark Fergus': 0, 'Vondie Curtis': 0, 'Mel Gibson': 0, 'Noam Murro': 0, 'Jerry Rees': 0, 'Bob Balaban': 0, 'Luca Bercovici': 0, 'Dan Scanlon': 0, 'Mark Piznarski': 0, 'Nacho Cerdà': 0, 'Jeff Betancourt': 0, 'Julien Magnat': 0, 'Geoffrey Sax': 0, 'Émile Gaudreault': 0, 'Ovidio G': 0, 'Anne Goursaud': 0, 'Wayne Kramer': 0, 'Michael Corrente': 0, 'Robert Radler': 0, 'Panos Cosmatos': 0, 'Walter Murch': 0, 'Doug Lefler': 0, 'George Huang': 0, 'Ericson Core': 0, 'John Cameron Mitchell': 0, 'Mat Whitecross': 0, 'John Krish': 0, 'Peter Sykes': 0, 'Mark Pellington': 0, 'Gary Fleder': 0, 'Arna Selznick': 0, 'Pearry Reginald Teo': 0, 'Ben Lewin': 0, 'Takashi Miike': 0, 'Kenneth Lonergan': 0, 'Julie Anne Robinson': 0, 'George Jackson': 0, 'David Gordon Green': 0, 'Matt Maiellaro': 0, 'Dave Willis': 0, 'Zal Batmanglij': 0, 'Christopher Guest': 0, 'Byron Howard': 0, 'Chris Williams': 0, 'Luc Jacquet': 0, 'Jerry Belson': 0, 'Barry Skolnick': 0, 'Louis C': 0, 'Luis Llosa': 0, 'Peyton Reed': 0, 'Sam Weisman': 0, 'James Signorelli': 0, 'Stephen Milburn Anderson': 0, 'Colin Trevorrow': 0, 'Tom Mankiewicz': 0, 'Boaz Yakin': 0, 'Nigel Cole': 0, 'John Hoffman': 0, 'Mekhi Phifer': 0, 'Mennan Yapo': 0, 'Zack Snyder': 0, 'Chan': 0, 'Geoff Burton': 0, 'Kevin Dowling': 0, 'Dennis Iliadis': 0, 'Rob Bowman': 0, 'Franck Khalfoun': 0, 'Joon': 0, 'Roger Michell': 0, 'Marco Schnabel': 0, 'Rowan Joffe': 0, 'Michelle Manning': 0, 'George Barry': 0, 'Steve Taylor': 0, 'Renzo Martinelli': 0, 'Raymond De Felitta': 0, 'David Schwimmer': 0, 'David Atkins': 0, 'Paddy Breathnach': 0, 'Leon Ichaso': 0, 'Dave Borthwick': 0, 'Jean Duval': 0, 'Frank Passingham': 0, 'Michael Lembeck': 0, 'Akira Kurosawa': 0, 'Henry Winkler': 0, 'Shane Carruth': 0, 'Julien Temple': 0, 'John Wells': 0, 'Phil Roman': 0, 'Matthijs van Heijningen Jr': 0, 'Bill Couturié': 0, 'Les Mayfield': 0, 'Plan B': 0, 'Andrew Currie': 0, 'Ringo Lam': 0, 'Niels Arden Oplev': 0, 'Jim Strouse': 0, 'Guillaume Canet': 0, 'Rafal Zielinski': 0, 'Bill Forsyth': 0, 'Stan Dragoti': 0, 'Michael Spierig': 0, 'Peter Spierig': 0, 'Campbell Scott': 0, 'Stanley Tucci': 0, 'Stig Bergqvist': 0, 'Paul Demeyer': 0, 'Adam Simon': 0, 'Darren Moloney': 0, 'Alfred Sole': 0, 'Gina Prince': 0, 'Bruce Malmuth': 0, 'Rian Johnson': 0, 'Amy Holden Jones': 0, 'Michael Polish': 0, 'Michael Gottlieb': 0, 'Jerzy Skolimowski': 0, 'Greg Harrison': 0, 'Karan Johar': 0, 'Henry Bromell': 0, 'Norman Jewison': 0, 'Charles Kaufman': 0, 'James Bridges': 0, 'Bernard Rose': 0, 'William Girdler': 0, 'Gregor Jordan': 0, 'Hark Tsui': 0, 'David J': 0, 'Jeannot Szwarc': 0, 'Nelson McCormick': 0, 'John Eng': 0, 'Norton Virgien': 0, 'Hiromasa Yonebayashi': 0, 'Rainer Werner Fassbinder': 0, 'Jonathan Kesselman': 0, 'S': 0, 'Paul Flaherty': 0, 'Jeff Fisher': 0, 'Barnaby Thompson': 0, 'Kar': 0, 'Larry Clark': 0, 'Craig Gillespie': 0, 'Kevin Munroe': 0, 'Arthur Penn': 0, 'Clive Barker': 0, 'Jamie Blanks': 0, 'Brett Sullivan': 0, 'Rand Ravich': 0, 'Ben Wheatley': 0, 'Jay Chandrasekhar': 0, 'Rudy De Luca': 0, 'Gavin Grazer': 0, 'Steve Hickner': 0, 'Simon Wells': 0, 'Neill Blomkamp': 0, 'Scott Marshall': 0, 'Susan Montford': 0, 'Colin Minihan': 0, 'Stuart Ortiz': 0, 'The Vicious Brothers': 0, 'Edward James Olmos': 0, 'Drake Doremus': 0, 'Susan Seidelman': 0, 'Steve Trenbirth': 0, 'Paul Michael Glaser': 0, 'Kevin Allen': 0, 'Brad Lewis': 0, 'Burt Reynolds': 0, 'Dean Wright': 0, 'Wolfgang Reitherman': 0, 'Phyllida Lloyd': 0, 'Tony Leondis': 0, 'John Lee Hancock': 0, 'Troy Nixey': 0, 'Darko Mitrevski': 0, 'Ken Scott': 0, 'Peter Ramsey': 0, 'Alejandro G': 0, 'Mike Disa': 0, 'Jane Wagner': 0, 'Tommy Wiseau': 0, 'Buddy Van Horn': 0, 'Chip Hale': 0, 'Lara Shapiro': 0, 'Scott Stewart': 0, 'Daisy von Scherler Mayer': 0, 'Peter Stebbings': 0, 'Brian Klugman': 0, 'Lee Sternthal': 0, 'James Ponsoldt': 0, 'Warren Beatty': 0, 'Jeff Wadlow': 0, 'Clement Virgo': 0, 'Tony Bill': 0, 'Martha Fiennes': 0, 'Tom Gries': 0, 'Steve Carver': 0, 'James Sbardellati': 0, 'James Glickenhaus': 0, 'Dennie Gordon': 0, 'Mike Thurmeier': 0, 'Craig Viveiros': 0, 'John Pieplow': 0, 'Ari Folman': 0, 'Richard Curtis': 0, 'Peter Burger': 0, 'Michael Keaton': 0, 'Scott Spiegel': 0, 'Olivier Megaton': 0, 'James Dearden': 0, 'Charles T': 0, 'Kim Henkel': 0, 'Joe Roth': 0, 'Jonathan Levine': 0, 'Guy Hamilton': 0, 'Floyd Mutrux': 0, 'Duwayne Dunham': 0, 'Damien Dante Wayans': 0, 'Robert Stromberg': 0, 'Paul Auster': 0, 'Bill Kroyer': 0, 'Marc Abraham': 0, 'Nick Love': 0, 'Scott McGehee': 0, 'David Siegel': 0, 'Howard E': 0, 'James M': 0, 'Peter Cornwell': 0, 'George Gallo': 0, 'Julian Richards': 0, 'Kimberly Peirce': 0, 'Stuart Baird': 0, 'Jim Fall': 0, 'Seth MacFarlane': 0, 'Peter Kassovitz': 0, 'Shane Abbess': 0, 'Agnieszka Wojtowicz': 0, 'Lee Tamahori': 0, 'Ron Clements': 0, 'John Musker': 0, 'Spencer Susser': 0, 'Adrian Vitoria': 0, 'Stephen Kessler': 0, 'Peter Care': 0, 'Matthew Robbins': 0, 'Jeff Franklin': 0, 'Steve James': 0, 'Laurie Collyer': 0, 'Bryan Johnson': 0, 'Jack Bravman': 0, 'Glenn McQuaid': 0, 'James Orr': 0, 'Steve Gomer': 0, 'Andrey Konchalovskiy': 0, 'Albert Magnoli': 0, 'David Frankel': 0, 'John Bailey': 0, 'Dan Bradley': 0, 'Nicholas Hytner': 0, 'Julio DePietro': 0, 'Anders Anderson': 0, 'James Komack': 0, 'Jerry Schatzberg': 0, 'Goran Dukic': 0, 'Michael Pressman': 0, 'Jeff Lieberman': 0, 'Sylvain Chomet': 0, 'Sergio Leone': 0, 'Shari Springer Berman': 0, 'Robert Pulcini': 0, 'Farhad Mann': 0, 'Rintaro': 0, 'Hironobu Sakaguchi': 0, 'Motonori Sakakibara': 0, 'Kelly Reichardt': 0, 'Katja von Garnier': 0, 'Ben Younger': 0, 'Ted Kotcheff': 0, 'Colin Eggleston': 0, 'Hyung': 0, 'David Wain': 0, 'Rupert Sanders': 0, 'Just Jaeckin': 0, 'Alejandro Monteverde': 0, 'Angela Robinson': 0, 'Gil Junger': 0, 'Erik Skjoldbjærg': 0, 'Duncan Tucker': 0, 'Nnegest Likké': 0, 'Bob Spiers': 0, 'Craig McCracken': 0, 'Will Finn': 0, 'Charles Herman': 0, 'Jon Stewart': 0, 'Caroline Link': 0, 'Mark Brown': 0, 'Don Michael Paul': 0, 'Matt Dillon': 0, 'Fred Zinnemann': 0, 'María Lidón': 0, 'David DeFalco': 0, 'Mark DiSalle': 0, 'Donald W': 0, 'David L': 0, 'Anna Boden': 0, 'David Hogan': 0, 'Jonathan Caouette': 0, 'Nick Tomnay': 0, 'Sam Levinson': 0, 'Jill Sprecher': 0, 'Steve Barron': 0, 'Erick Zonca': 0, 'Gary Trousdale': 0, 'Kirk Wise': 0, 'Brian Horiuchi': 0, 'Huck Botko': 0, 'Andrew Gurland': 0, 'Hendel Butoy': 0, 'Marshall Herskovitz': 0, 'Christopher Hampton': 0, 'Todd Solondz': 0, 'Steve De Jarnatt': 0, 'Jesse Vaughan': 0, 'Radha Bharadwaj': 0, 'Nicholas Stoller': 0, 'Thomas Schlamme': 0, 'Stuart Gillard': 0, 'Nick Castle': 0, 'Fede Alvarez': 0, 'Kriv Stenders': 0, 'Tom Hanks': 0, 'Ken Finkleman': 0, 'Scott Silver': 0, 'Kieran Darcy': 0, 'Malcolm Venville': 0, 'David Nutter': 0, 'Lorna Cook': 0, 'Steve': 0, 'Amanda Gusack': 0, 'Curt A': 0, 'Griffin Dunne': 0, 'Vadim Perelman': 0, 'Tony Maylam': 0, 'Jeffrey W': 0, 'Mark Jones': 0, 'Joseph Kosinski': 0, 'Terence Young': 0, 'Bob Giraldi': 0, 'Nathan Greno': 0, 'David Weaver': 0, 'Callie Khouri': 0, 'Aaron Schneider': 0, 'David Nerlich': 0, 'Andrew Traucki': 0, 'Lisa Krueger': 0, 'Xavier Dolan': 0, 'Olatunde Osunsanmi': 0, 'Bruce Joel Rubin': 0, 'John Sanford': 0, 'Julian Schnabel': 0, 'Andrew Haigh': 0, 'David Bruckner': 0, 'Dan Bush': 0, 'Jacob Gentry': 0, 'James McTeigue': 0, 'Lynn Shelton': 0, 'Harvey Wang': 0, 'Tom Six': 0, 'John N': 0, 'Roger Allers': 0, 'Tom Stern': 0, 'Alex Winter': 0, 'Lee Daniels': 0, 'Terence Davies': 0, 'Jody Dwyer': 0, 'Robert Bierman': 0, 'Gregory Read': 0, 'Steven Hahn': 0, 'Steven Brill': 0, 'Alister Grierson': 0, 'Deborah Kampmeier': 0, 'Robert Greenwald': 0, 'Peter Lord': 0, 'Jeff Newitt': 0, 'Don Mancini': 0, 'Darren Dunstan': 0, 'Gilles Bourdos': 0, 'Jake West': 0, 'Jonathan English': 0, 'Newt Arnold': 0, 'Nikolai Müllerschön': 0, 'Whit Stillman': 0, 'Kevin Brodie': 0, 'Robert Young': 0, 'Liev Schreiber': 0, 'Conor Allyn': 0, 'Chuck Sheetz': 0, 'Cathy Malkasian': 0, 'Jeff McGrath': 0, 'Arie Posin': 0, 'Charles Stone III': 0, 'Todd Lincoln': 0, 'Rob Schneider': 0, 'Bruce Paltrow': 0, 'Gerald McMorrow': 0, 'Damien O': 0, 'Savage Steve Holland': 0, 'John Schlesinger': 0, 'Tom Hines': 0, 'Luiso Berdejo': 0, 'Derick Martini': 0, 'John Stainton': 0, 'Mark Dindal': 0, 'Robert Duvall': 0, 'Tim Sullivan': 0, 'Anthony Waller': 0, 'Peter Sasdy': 0, 'Cédric Klapisch': 0, 'Jim Kohlberg': 0, 'Denzel Washington': 0, 'John Stevenson': 0, 'John O': 0, 'William A': 0, 'Steven Lisberger': 0, 'John Harrison': 0, 'Benny Boom': 0, 'Alan Cohn': 0, 'Matt Williams': 0, 'Jeff Burr': 0, 'Frank Nissen': 0, 'Paul Johansson': 0, 'Claudio Fragasso': 0, 'Stephen King': 0, 'Jared Hess': 0, 'Alex Smith': 0, 'Andrew J': 0, 'Rawson Marshall Thurber': 0, 'Tarun Mansukhani': 0, 'Richard Franklin': 0, 'David Chase': 0, 'Bruce Hunt': 0, 'Liz Friedlander': 0, 'Dean Semler': 0, 'Peter Faiman': 0, 'Aaron Norris': 0, 'Dusan Makavejev': 0, 'Jonas Elmer': 0, 'Neil Marshall': 0, 'Douglas Trumbull': 0, 'Kevin Tenney': 0, 'Ben Coccio': 0, 'Chris Sivertson': 0, 'Peter Medak': 0, 'Derrick Borte': 0, 'Janusz Kaminski': 0, 'Robert Marcarelli': 0, 'John Humber': 0, 'Henry Hobson': 0, 'Kevin Alyn Elders': 0, 'Alex Chandon': 0, 'Joe Cornish': 0, 'John Payson': 0, 'Michael Davis': 0, 'Loveleen Tandan': 0, 'Oliver Hirschbiegel': 0, 'Lisa Cholodenko': 0, 'Mary Lambert': 0, 'Brian Trenchard': 0, 'Peter Chelsom': 0, 'Jourdan McClure': 0, 'Guy Ferland': 0, 'Pete Travis': 0, 'Michael Tollin': 0, 'Don Chaffey': 0, 'Mark Palansky': 0, 'Helen Hunt': 0, 'Ol Parker': 0, 'Martin McDonagh': 0, 'Peter Greenaway': 0, 'Steven Quale': 0, 'Paris Barclay': 0, 'Joe Nussbaum': 0, 'Terrence Malick': 0, 'David Seltzer': 0, 'Michael Miller': 0, 'Dan Rush': 0, 'Joan Chen': 0, 'Ed Bye': 0, 'Rolf de Heer': 0, 'Blair Treu': 0, 'Asif Kapadia': 0, 'Timur Bekmambetov': 0, 'Herschell Gordon Lewis': 0, 'Adam Gierasch': 0, 'Andrew Douglas': 0, 'Don Scardino': 0, 'Vincent Gallo': 0, 'John Simpson': 0, 'Dito Montiel': 0, 'Forest Whitaker': 0, 'James Gunn': 0, 'Mickey Liddell': 0, 'Reb Braddock': 0, 'Britt Allcroft': 0, 'Bob Odenkirk': 0, 'Mick Davis': 0, 'Robert Resnikoff': 0, 'John A': 0, 'Hoyt Yeatman': 0, 'James Burrows': 0, 'Carlos Ávila': 0, 'Kevin Williamson': 0, 'Michael Martin': 0, 'Eric Blakeney': 0, 'Eric Leighton': 0, 'Ralph Zondag': 0, 'Chia': 0, 'Gary David Goldberg': 0, 'Tom Brady': 0, 'Gary Oldman': 0, 'George Ogilvie': 0, 'Marisa Silver': 0, 'Michel Gondry': 0, 'Ben Palmer': 0, 'Paul Andrew Williams': 0, 'Steven E': 0, 'Enrique Gato': 0, 'Abe Sylvia': 0, 'Michael Wadleigh': 0, 'Ralph S': 0, 'John Glenn': 0, 'Adam Bernstein': 0, 'Robert Moore': 0, 'Ryan Little': 0, 'Eric Till': 0, 'Tony Bancroft': 0, 'Paul Brickman': 0, 'Michael McGowan': 0, 'Rodrigo García': 0, 'Mort Nathan': 0, 'Lisa Azuelos': 0, 'Nick Willing': 0, 'Guy Moshe': 0, 'Dennis Donnelly': 0, 'Genndy Tartakovsky': 0, 'Nia Vardalos': 0, 'Jacques Audiard': 0, 'Christopher Menaul': 0, 'Kelly Makin': 0, 'Steven R': 0, 'Steve Jacobs': 0, 'Menhaj Huda': 0, 'Michael Lehmann': 0, 'David Blyth': 0, 'Brad Mirman': 0, 'John Patrick Shanley': 0, 'Guillermo Arriaga': 0, 'Ted Berman': 0, 'Art Stevens': 0, 'Xavier Gens': 0, 'Stephen Carpenter': 0, 'Eric Amadio': 0, 'Paolo Sorrentino': 0, 'James Watkins': 0, 'Paul Morrison': 0, 'Predrag Antonijevic': 0, 'Patricio Valladares': 0, 'Sheree Folkson': 0, 'Brian Dannelly': 0, 'Mel Smith': 0, 'Jonathan Glazer': 0, 'Marc Schölermann': 0, 'Jill Culton': 0, 'Anthony Stacchi': 0, 'James Duffy': 0, 'Patrik Forsberg': 0, 'Will Graham': 0, 'Jonathan van Tulleken': 0, 'Adam Green': 0, 'Bennett Miller': 0, 'Geoff Burrowes': 0, 'Paul Gross': 0, 'Andy Wilson': 0, 'Lee Demarbre': 0, 'Nico Mastorakis': 0, 'Matthew Diamond': 0, 'Matthew Meshekoff': 0, 'Édouard Molinaro': 0, 'Steve Saint Leger': 0, 'James Mather': 0, 'Martin Ritt': 0, 'Risa Bramon Garcia': 0, 'Julie Davis': 0, 'Nat Faxon': 0, 'Jim Rash': 0, 'Félix Enríquez Alcalá': 0, 'Julian Jarrold': 0, 'Álex de la Iglesia': 0, 'Denis Villeneuve': 0, 'Stephen Poliakoff': 0, 'Ramón Menéndez': 0, 'Charles Lane': 0, 'John Francis Daley': 0, 'Jonathan Goldstein': 0, 'Mike Binder': 0, 'Yimou Zhang': 0, 'Mike Nawrocki': 0, 'Phil Vischer': 0, 'Dan O': 0, 'Chris Buck': 0, 'William H': 0, 'Fred Wolf': 0, 'Zoran Perisic': 0, 'David Nixon': 0, 'Patrick Doughtie': 0, 'Gary Goddard': 0, 'Robert Ben Garant': 0, 'Chris Koch': 0, 'Rodrigo Cortés': 0, 'Trent Cooper': 0, 'Joe Pytka': 0, 'Leigh Whannell': 0, 'James Algar': 0, 'Gaëtan Brizzi': 0, 'Paul Brizzi': 0, 'Francis Glebas': 0, 'Don Hahn': 0, 'Nicholas McCarthy': 0, 'Michael Hegner': 0, 'Kari Juusonen': 0, 'Jacob Estes': 0, 'H': 0, 'Daniel Barber': 0, 'Joby Harold': 0, 'Pawel Pawlikowski': 0, 'Sam Firstenberg': 0, 'John Polson': 0, 'Maurice Joyce': 0, 'David Brooks': 0, 'Michel Hazanavicius': 0, 'Larry Bishop': 0, 'William Sterling': 0, 'Bob Peterson': 0, 'Stephen J': 0, 'Patricia Rozema': 0, 'Darren Grant': 0, 'Anthony Bell': 0, 'Ben Gluck': 0, 'Kevin Tancharoen': 0, 'Lynne Ramsay': 0, 'Keoni Waxman': 0, 'Preston A': 0, 'François Velle': 0, 'Charles E': 0, 'David Webb Peoples': 0, 'Dana Lustig': 0, 'Gabriele Muccino': 0, 'Gillies MacKinnon': 0, 'James DeMonaco': 0, 'Howard Franklin': 0, 'Bill Murray': 0, 'John Poliquin': 0, 'Stephen Chow': 0, 'Justin Kerrigan': 0, 'Graham Baker': 0, 'Michael O': 0, 'Gregory Nava': 0, 'Howard Storm': 0, 'Kimble Rendall': 0, 'Carl Schenkel': 0, 'Jon Poll': 0, 'Mark Herman': 0, 'Tim Fywell': 0, 'Daniel Stamm': 0, 'Rick Famuyiwa': 0, 'Takeshi Kitano': 0, 'Chris Fisher': 0, 'Stuart Beattie': 0, 'Lone Scherfig': 0, 'Andrew Solt': 0, 'Brian Henson': 0, 'Michael Benveniste': 0, 'Howard Ziehm': 0, 'Henry Alex Rubin': 0, 'Howie Askins': 0, 'Justin Zackham': 0, 'Ian Sharp': 0, 'Nick Hamm': 0, 'Shane Acker': 0, 'Wil Shriner': 0, 'Lance Daly': 0, 'Desmond Davis': 0, 'Mark A': 0, 'Daniel Barnz': 0, 'Michael Haussman': 0, 'Nima Nourizadeh': 0, 'Patty Jenkins': 0, 'Deb Hagan': 0, 'Tanner Beard': 0, 'Peter H': 0, 'Eric Karson': 0, 'John Maybury': 0, 'Bonnie Hunt': 0, 'Yurek Bogayevicz': 0, 'Mitch Glazer': 0, 'Chris Stokes': 0, 'Max Giwa': 0, 'Dania Pasquini': 0, 'David Mackenzie': 0, 'Rob Epstein': 0, 'Jeffrey Friedman': 0, 'Jeff Renfroe': 0, 'Tom Green': 0, 'Lena Dunham': 0, 'Gareth Evans': 0, 'Karyn Kusama': 0, 'Kirsten Sheridan': 0, 'Anthony Hemingway': 0, 'Joey Lauren Adams': 0, 'Mark Tonderai': 0, 'Paul Hunter': 0, 'Norm Hunter': 0, 'Matt Orlando': 0, 'Alek Keshishian': 0, 'Bob Saget': 0, 'Bill Paxton': 0, 'Bruce A': 0, 'Tom DiCillo': 0, 'Jon Knautz': 0, 'Phil Traill': 0, 'Rob Thomas': 0, 'Edward Anderson': 0, 'David Hugh Jones': 0, 'Etan Cohen': 0, 'Gary Halvorson': 0, 'David Lowell Rich': 0, 'Udayan Prasad': 0, 'Scott Frank': 0, 'Scott Winant': 0, 'Samuel Fischer': 0, 'Marc Rocco': 0, 'Ash Brannon': 0, 'Steven Seagal': 0, 'Michael Cohn': 0, 'Matthew Warchus': 0, 'Kyle Newman': 0, 'Trevor Nunn': 0, 'Frank Sebastiano': 0, 'Bart Freundlich': 0, 'Marc Webb': 0, 'Michael Anderson': 0, 'Annabel Jankel': 0, 'Rocky Morton': 0, 'Bent Hamer': 0, 'Wallace Wolodarsky': 0, 'Douglas Day Stewart': 0, 'Madonna': 0, 'Ian Fitzgibbon': 0, 'Jamie Uys': 0, 'Luis Valdez': 0, 'Rob Hardy': 0, 'Mark Christopher': 0, 'Scott Kalvert': 0, 'Giorgio Serafini': 0, 'Fred Durst': 0, 'Richard Moore': 0, 'Clive Donner': 0, 'Vic Armstrong': 0, 'George Pavlou': 0, 'Thor Freudenthal': 0, 'Antonio Negret': 0, 'Tom Harper': 0, 'Todd Robinson': 0, 'Michael Sucsy': 0, 'Jim Drake': 0, 'Benh Zeitlin': 0, 'Steven C': 0, 'Jesse Peretz': 0, 'John Byrum': 0, 'Bruce Robinson': 0, 'Tommy Lee Jones': 0, 'Gérard Pirès': 0, 'Blair Hayes': 0, 'Todd Holland': 0, 'Joseph Losey': 0, 'Ric Roman Waugh': 0, 'Warren P': 0, 'Bobcat Goldthwait': 0, 'Miguel Sapochnik': 0, 'Craig Bolotin': 0, 'Sam Taylor': 0, 'Timothy Björklund': 0, 'David Moreton': 0, 'Fred Andrews': 0, 'Barry Battles': 0, 'Francesca Gregorini': 0, 'Jeffrey Blitz': 0, 'Akiva Goldsman': 0, 'Jeffrey Nachmanoff': 0, 'Simon Hunter': 0, 'Lee Toland Krieger': 0, 'Michael W': 0, 'Eric Schaeffer': 0, 'Jack Sholder': 0, 'Ruairi Robinson': 0, 'Scott Speer': 0, 'Elia Kazan': 0, 'Laura Lau': 0, 'Robert Butler': 0, 'Stephen Elliott': 0, 'Greg Beeman': 0, 'Luigi Cozzi': 0, 'Justin Chadwick': 0, 'Josh Schwartz': 0, 'Charles Grosvenor': 0, 'Brett Ryan Bonowicz': 0, 'Zak Penn': 0, 'George Nolfi': 0, 'Marcos Siega': 0, 'Antony Hoffman': 0, 'Eran Creevy': 0, 'Phil Morrison': 0, 'Damiano Damiani': 0, 'Duncan Gibbins': 0, 'Stefen Fangmeier': 0, 'Henry Joost': 0, 'Ariel Schulman': 0, 'Robin Hardy': 0, 'Salim Akil': 0, 'Kenneth Castillo': 0, 'Jerry Zaks': 0, 'David Ayer': 0, 'Heywood Gould': 0, 'Jack Clayton': 0, 'Noel Clarke': 0, 'Mark Davis': 0, 'Tod Williams': 0, 'Michael Chapman': 0, 'Michael Brandt': 0, 'Christopher Landon': 0, 'Benedek Fliegauf': 0, 'Carter Smith': 0, 'Brian Koppelman': 0, 'David Levien': 0, 'Colin Higgins': 0, 'Florian Henckel von Donnersmarck': 0, 'Burny Mattinson': 0, 'David Michener': 0, 'David Moreau': 0, 'Xavier Palud': 0, 'Andrei Tarkovsky': 0, 'Alan Clarke': 0, 'Elissa Down': 0, 'Adam Goldberg': 0, 'Chris Graham': 0, 'Michael Rymer': 0, 'Bryan Bertino': 0, 'Jaco Van Dormael': 0, 'Chris Butler': 0, 'Sam Fell': 0, 'Donna Deitch': 0, 'Darnell Martin': 0, 'James Dodson': 0, 'Cory Edwards': 0, 'Todd Edwards': 0, 'Tony Leech': 0, 'Scott Ziehl': 0, 'Antonia Bird': 0, 'Drew Barrymore': 0, 'Floria Sigismondi': 0, 'Kyle Balda': 0, 'Michael McCullers': 0, 'Gregory Widen': 0, 'Aaron Harvey': 0, 'David Palmer': 0, 'Dax Shepard': 0, 'Moustapha Akkad': 0, 'Nick Murphy': 0, 'Gary Nelson': 0, 'Patricia Riggen': 0, 'Jan Egleson': 0, 'Simon J': 0, 'Chris Shadley': 0, 'Yôjirô Takita': 0, 'Jackie Chan': 0, 'Grant Heslov': 0, 'Andrew V': 0, 'Daniel Attias': 0, 'Steve Conrad': 0, 'Paco Cabezas': 0, 'Manny Coto': 0, 'Patricia Cardoso': 0, 'Albert Brooks': 0, 'Charles Crichton': 0, 'John Cleese': 0, 'Bud S': 0, 'Willard Carroll': 0, 'Gary Sinyor': 0, 'Alex Kurtzman': 0, 'Nick Guthe': 0, 'Rob Hedden': 0, 'Jeremy Leven': 0, 'John Stalberg Jr': 0, 'Josh Radnor': 0, 'Alan Poul': 0, 'George Scribner': 0, 'Larry Peerce': 0, 'David Worth': 0, 'Kevin Asch': 0, 'Billy Crystal': 0, 'Fran Rubel Kuzui': 0, 'Mel City': 0, 'Bronwen Hughes': 0, 'Donald Cammell': 0, 'Mic Rodgers': 0, 'Jesse Holland': 0, 'Andy Mitton': 0, 'Gene Quintano': 0, 'Samuel Bayer': 0, 'John Hough': 0, 'Andrew Erwin': 0, 'Jon Erwin': 0, 'Pat Kelman': 0, 'Delbert Mann': 0, 'Tonino Valerii': 0, 'Kerry Conran': 0, 'Ice Cube': 0, 'Debra Granik': 0, 'Brandon Cronenberg': 0, 'Stuart Murdoch': 0, 'François Ozon': 0, 'Francis Veber': 0, 'Adrienne Shelly': 0, 'Ned Farr': 0, 'Jerry Paris': 0, 'George C': 0, 'Howard McCain': 0, 'Simon Fellows': 0, 'Jieho Lee': 0, 'Lucio Fulci': 0, 'Allan Arkush': 0, 'Jonas Åkerlund': 0, 'Christopher Crowe': 0, 'Richard Shepard': 0, 'Peter Howitt': 0, 'Louis Morneau': 0, 'Robert Stevenhagen': 0, 'Kari Skogland': 0, 'Jonas McCord': 0, 'Mitch Davis': 0, 'Billy Kent': 0, 'Liliana Cavani': 0, 'David Price': 0, 'Joel Viertel': 0, 'Xavier Koller': 0, 'James Bolton': 0, 'Morgan O': 0, 'Lauren Lazin': 0, 'Bharat Nalluri': 0, 'Robert Townsend': 0, 'Mitchell Altieri': 0, 'Phil Flores': 0, 'Joel Gallen': 0, 'Dan Gildark': 0, 'John Herzfeld': 0, 'Matthew Bright': 0, 'Emily Young': 0, 'Matthew Hope': 0, 'Theodore Witcher': 0, 'Tom Elkins': 0, 'Eric Bress': 0, 'Brian G': 0, 'Daniel Algrant': 0, 'Gregory Plotkin': 0, 'Richard Pryor': 0, 'Robert Taylor': 0, 'Miranda July': 0, 'Seth Grossman': 0, 'Bill Boyce': 0, 'John Stronach': 0, 'Youssef Delara': 0, 'Michael D': 0, 'James Yukich': 0, 'John Bonito': 0, 'Bryan Barber': 0, 'Tim McCanlies': 0, 'Igor Kovalyov': 0, 'Brendan Malloy': 0, 'Emmett Malloy': 0, 'Scott Sanders': 0, 'Dominic Burns': 0, 'Rupert Wyatt': 0, 'Nils Gaup': 0, 'Shana Feste': 0, 'Michael Dougherty': 0, 'Drew Daywalt': 0, 'David Schneider': 0, 'Meir Zarchi': 0, 'Katherine Brooks': 0, 'Rob McKittrick': 0, 'Randall Wallace': 0, 'Alison Maclean': 0, 'Mark Mylod': 0, 'Mike Cahill': 0, 'Tomm Moore': 0, 'Nora Twomey': 0, 'Rick Friedberg': 0, 'John Flynn': 0, 'Saul Dibb': 0, 'Kevin Carraway': 0, 'Douglas Aarniokoski': 0, 'Thomas K': 0, 'Marc Levin': 0, 'RZA': 0, 'Robert Adetuyi': 0, 'Lee Harry': 0, 'Gavin Millar': 0, 'Pat O': 0, 'Steve Shill': 0, 'Paul Golding': 0, 'Robert Crombie': 0, 'Sofya Skya': 0, 'Fernando Meirelles': 0, 'Quentin Dupieux': 0, 'Lance Rivera': 0, 'Jennifer Yuh Nelson': 0, 'Timo Vuorensola': 0, 'Christopher Leitch': 0, 'Shuki Levy': 0, 'David Winning': 0, 'Michael Clancy': 0, 'Daniel Petrie Jr': 0, 'Lewis Gilbert': 0, 'Paul Dinello': 0, 'Brian Clemens': 0, 'Bruce Campbell': 0, 'Richard W': 0, 'Emir Kusturica': 0, 'Michael Dinner': 0, 'Chris Roberts': 0, 'Nicolas Gessner': 0, 'Tom Laughlin': 0, 'Armando Iannucci': 0, 'Paul Miller': 0, 'Kinka Usher': 0, 'Tom DeSimone': 0, 'Alfonso Arau': 0, 'Roberts Gannaway': 0, 'Peggy Holmes': 0, 'Barbara Kopple': 0, 'Adrian Grunberg': 0, 'Chris Sanders': 0, 'Eric Bross': 0, 'Fons Rademakers': 0, 'Mamoru Hosoda': 0, 'Shigeyasu Yamauchi': 0, 'Keith Parmer': 0, 'Tommy Wirkola': 0, 'Jim Sonzero': 0, 'Dan Cutforth': 0, 'Jane Lipsitz': 0, 'Greg Coolidge': 0, 'Giuseppe Tornatore': 0, 'Tibor Takács': 0, 'Dean DeBlois': 0, 'Ralph Nelson': 0, 'Jake Paltrow': 0, 'Susanna White': 0, 'Wayne Thornley': 0, 'Greg Marcks': 0, 'Juan Solanas': 0, 'David DeCoteau': 0, 'Tom Schulman': 0, 'Mike Bigelow': 0, 'Chris Eyre': 0, 'Lee David Zlotoff': 0, 'Edward Norton': 0, 'Sue Brooks': 0, 'Tim Chambers': 0, 'Dustin Hoffman': 0, 'Chris Rock': 0, 'Wych Kaosayananda': 0, 'Ben Stassen': 0, 'Mimi Maynard': 0, 'Stevan Mena': 0, 'Zach Cregger': 0, 'Trevor Moore': 0, 'David Miller': 0, 'Tom Savini': 0, 'Kaige Chen': 0, 'Stig Svendsen': 0, 'Ray Lawrence': 0, 'Nelson Shin': 0, 'David Lean': 0, 'Charlton Heston': 0, 'Patrick Hasburgh': 0, 'Michael Patrick King': 0, 'Frank Perry': 0, 'Hany Abu': 0, 'Michael Almereyda': 0, 'Louis Malle': 0, 'Richard Lowenstein': 0, 'Tate Taylor': 0, 'Alonso Mayo': 0, 'Justin Price': 0, 'Adam Rapp': 0, 'Patrick Gilmore': 0, 'Dan Reed': 0, 'Demian Lichtenstein': 0, 'John Gray': 0, 'Brett Simon': 0, 'Thomas Vinterberg': 0, 'Gordon Chan': 0, 'José Padilha': 0, 'William Dear': 0, 'Richard Kwietniowski': 0, 'Martin Donovan': 0, 'Courtney Hunt': 0, 'Olivier Dahan': 0, 'Ciarán Foy': 0, 'Kat Coiro': 0, 'John Lounsbery': 0, 'Robert Heath': 0, 'Daniel Petrie': 0, 'Ed Decter': 0, 'Simon Moore': 0, 'Dermot Mulroney': 0, 'Norberto Barba': 0, 'Roger Nygard': 0, 'Carlo Carlei': 0, 'Salvador Litvak': 0, 'Daniel Sackheim': 0, 'Henry Bean': 0, 'Sylvio Tabet': 0, 'Olivier Nakache': 0, 'Éric Toledano': 0, 'Darren Stein': 0, 'Brian Crano': 0, 'Robert Lorenz': 0, 'John Ottman': 0, 'Andrew Sipes': 0, 'John Fortenberry': 0, 'Philip Saville': 0, 'Nae Caranfil': 0}\n",
      "{'Barbra Streisand': 0, 'Anthony Burns': 0, 'Jim Henson': 0, 'Joel Anderson': 0, 'David Cronenberg': 0, 'Phillip Noyce': 0, 'Jon Hurwitz': 0, 'Hayden Schlossberg': 0, 'Atom Egoyan': 0, 'Allan A': 0, 'Ronald Neame': 0, 'David Yates': 0, 'Rod Lurie': 0, 'Francis Ford Coppola': 0, 'Eric Valette': 0, 'Greg Berlanti': 0, 'Frank Oz': 0, 'Stephen Frears': 0, 'Sylvain White': 0, 'Stephen Hopkins': 0, 'Robert Aldrich': 0, 'Guy Jenkin': 0, 'Terry Zwigoff': 0, 'Michael Tuchner': 0, 'John Badham': 0, 'Paul Weiland': 0, 'John Mackenzie': 0, 'John Gatins': 0, 'Luke Greenfield': 0, 'mink': 0, 'John Dahl': 0, 'Chris Noonan': 0, 'Sidney Poitier': 0, 'Ethan Coen': 0, 'Joel Coen': 0, 'Mark Illsley': 0, 'John Landis': 0, 'Bob Clark': 0, 'Gregory Mackenzie': 0, 'George Clooney': 0, 'Clint Eastwood': 0, 'Adam Shankman': 0, 'Hall Bartlett': 0, 'Steven Feder': 0, 'Jay Roach': 0, 'Lou Adler': 0, 'Tommy Chong': 0, 'Roger Spottiswoode': 0, 'Buzz Kulik': 0, 'Sarah Smith': 0, 'Barry Cook': 0, 'Gabor Csupo': 0, 'Betty Thomas': 0, 'Adam Elliot': 0, 'D': 0, 'Hugh Wilson': 0, 'Elizabeth Banks': 0, 'Chuck Russell': 0, 'Hadi Hajaig': 0, 'John Huston': 0, 'Howard Deutch': 0, 'Patrick Lussier': 0, 'Clare Kilner': 0, 'John Gulager': 0, 'Len Wiseman': 0, 'Martin Gero': 0, 'Tyler Perry': 0, 'Danis Tanovic': 0, 'Tony Randel': 0, 'Robert Iscove': 0, 'Taylor Hackford': 0, 'Ingmar Bergman': 0, 'John Singleton': 0, 'Julie Delpy': 0, 'Brad Bird': 0, 'Jan Pinkava': 0, 'Andrew Davis': 0, 'Terry Gilliam': 0, 'Terry Jones': 0, 'Rob Cohen': 0, 'Christopher Nolan': 0, 'Robert Benton': 0, 'Alan Parker': 0, 'Peter Jackson': 0, 'Dwight H': 0, 'Leslye Headland': 0, 'Marshall Brickman': 0, 'Woody Allen': 0, 'John Woo': 0, 'John Sayles': 0, 'Sam O': 0, 'Gary Hardwick': 0, 'Richard Linklater': 0, 'Walter Hill': 0, 'John Schultz': 0, 'Dean Parisot': 0, 'Robert Altman': 0, 'Martin Brest': 0, 'Renny Harlin': 0, 'Jordan Downey': 0, 'E': 0, 'Carroll Ballard': 0, 'Craig R': 0, 'Ron Howard': 0, 'Andrew Adamson': 0, 'Vicky Jenson': 0, 'Trygve Allister Diesen': 0, 'Lucky McKee': 0, 'Guillermo del Toro': 0, 'Julian Gilbey': 0, 'Jimmy Hayward': 0, 'Steve Martino': 0, 'Roman Polanski': 0, 'Niall Johnson': 0, 'Malcolm D': 0, 'Blake Edwards': 0, 'David Hackl': 0, 'Sally Potter': 0, 'Ronny Yu': 0, 'Jonathan Hensleigh': 0, 'Nick Gomez': 0, 'Lars von Trier': 0, 'Tim Burton': 0, 'Alec Baldwin': 0, 'Kevin Hooks': 0, 'Marco Brambilla': 0, 'Malcolm Leo': 0, 'Roger Corman': 0, 'Michael Coldewey': 0, 'Michel Lemire': 0, 'Luis Prieto': 0, 'Roberto Benigni': 0, 'Tom Holland': 0, 'Adam McKay': 0, 'Paul Greengrass': 0, 'Joe Johnston': 0, 'Joe Carnahan': 0, 'Chris Gorak': 0, 'Hal Ashby': 0, 'Tony Cinciripini': 0, 'Christopher Cain': 0, 'Luc Besson': 0, 'Cameron Crowe': 0, 'Lawrence Kasdan': 0, 'Stuart Gordon': 0, 'Tim Heidecker': 0, 'Eric Wareheim': 0, 'Danny Boyle': 0, 'Jeremy Kagan': 0, 'Irvin Kershner': 0, 'Pedro Almodóvar': 0, 'Mike Judge': 0, 'Mike de Seve': 0, 'Brian Mulroney': 0, 'Yvette Kaplan': 0, 'Marcel Langenegger': 0, 'John McTiernan': 0, 'Jonathan Kaplan': 0, 'Prachya Pinkaew': 0, 'Jack Hill': 0, 'Mike Clattenburg': 0, 'Darren Aronofsky': 0, 'Phil Karlson': 0, 'Andrew Wilson': 0, 'Luke Wilson': 0, 'Robert Rodriguez': 0, 'Fred Schepisi': 0, 'Paul Verhoeven': 0, 'Garry Marshall': 0, 'James Foley': 0, 'Joel Schumacher': 0, 'Neil LaBute': 0, 'Jon Turteltaub': 0, 'Jason Bloom': 0, 'Robert Wise': 0, 'Simon West': 0, 'Andrew Fleming': 0, 'Richard Attenborough': 0, 'Peter Hedges': 0, 'Rob Reiner': 0, 'Nick Cassavetes': 0, 'Franc': 0, 'Mark Rydell': 0, 'Martyn Burke': 0, 'Fred Savage': 0, 'Jim Sheridan': 0, 'John Stockwell': 0, 'Scott Wheeler': 0, 'Don Bluth': 0, 'Ken Loach': 0, 'Kirk Wong': 0, 'Tamra Davis': 0, 'Don McKellar': 0, 'James Melkonian': 0, 'Quentin Tarantino': 0, 'Joe Wright': 0, 'Paul Mazursky': 0, 'Steve Beck': 0, 'Kevin Rodney Sullivan': 0, 'Simon Curtis': 0, 'Kenny Ortega': 0, 'Mario Van Peebles': 0, 'Joseph Kahn': 0, 'Menahem Golan': 0, 'Francis Lawrence': 0, 'Steven Soderbergh': 0, 'Mark Steven Johnson': 0, 'Andrzej Bartkowiak': 0, 'James L': 0, 'Michael Bay': 0, 'Robert Zemeckis': 0, 'Billy Ray': 0, 'Gabe Torres': 0, 'Spike Lee': 0, 'Sam Mendes': 0, 'Carlos Saldanha': 0, 'Richard Benjamin': 0, 'Lodge Kerrigan': 0, 'Baltasar Kormákur': 0, 'Ruben Fleischer': 0, 'Robert Longo': 0, 'Susanne Bier': 0, 'DJ Pooh': 0, 'Herbert Ross': 0, 'Tim Hill': 0, 'Andrew Stanton': 0, 'Mark Tarlov': 0, 'Tom Kalin': 0, 'Richard Rich': 0, 'Walt Becker': 0, 'Greg Mottola': 0, 'David Mirkin': 0, 'Geoffrey Wright': 0, 'Jaume Balagueró': 0, 'Hans Canosa': 0, 'Steven Spielberg': 0, 'Philipp Stölzl': 0, 'Enki Bilal': 0, 'John Carpenter': 0, 'Doug Liman': 0, 'Hugh Hudson': 0, 'George Schaefer': 0, 'Peter Sohn': 0, 'Bradley Kaplan': 0, 'Tony Scott': 0, 'Jonathan Frakes': 0, 'Ridley Scott': 0, 'Georges Lautner': 0, 'Mike Mitchell': 0, 'Garth Jennings': 0, 'Evan Goldberg': 0, 'Seth Rogen': 0, 'Gregg Champion': 0, 'Sydney Pollack': 0, 'Albert Hughes': 0, 'Allen Hughes': 0, 'Amy Heckerling': 0, 'Steven Knight': 0, 'Roger Donaldson': 0, 'Marc F': 0, 'Bam Margera': 0, 'Alan J': 0, 'Peter Bogdanovich': 0, 'Tony Goldwyn': 0, 'Mira Nair': 0, 'Stephen Herek': 0, 'Richard Baskin': 0, 'Ron Underwood': 0, 'Gordon Hessler': 0, 'Jessica Sharzer': 0, 'Ricky Gervais': 0, 'Matthew Robinson': 0, 'Phil Alden Robinson': 0, 'Stephen Norrington': 0, 'Barry Levinson': 0, 'Matthew O': 0, 'Baz Luhrmann': 0, 'Joseph Sargent': 0, 'J': 0, 'Joe Camp': 0, 'Peter MacDonald': 0, 'John Carl Buechler': 0, 'Robin Budd': 0, 'Donovan Cook': 0, 'Frederik Du Chau': 0, 'Sara Sugarman': 0, 'Peter Farrelly': 0, 'Bobby Farrelly': 0, 'Cess Silvera': 0, 'Jennifer Westfeldt': 0, 'John McNaughton': 0, 'Craig McCall': 0, 'Fatih Akin': 0, 'Yvan Attal': 0, 'Randall Balsmeyer': 0, 'Shunji Iwai': 0, 'Wen Jiang': 0, 'Shekhar Kapur': 0, 'Joshua Marston': 0, 'Natalie Portman': 0, 'Brett Ratner': 0, 'Robert Redford': 0, 'Efram Potelle': 0, 'Kyle Rankin': 0, 'Don Roos': 0, 'John Cornell': 0, 'Damon Santostefano': 0, 'Scott Cooper': 0, 'Stephen Daldry': 0, 'Daniel Alfredson': 0, 'Andy Cheng': 0, 'Richard Brooks': 0, 'David Michôd': 0, 'Wayne Blair': 0, 'Frank Coraci': 0, 'John Hillcoat': 0, 'Craig Brewer': 0, 'Victor Salva': 0, 'Jake Kasdan': 0, 'George Miller': 0, 'Gary Eck': 0, 'David Peers': 0, 'Stewart Raffill': 0, 'Larry Charles': 0, 'Bryan Spicer': 0, 'Mel Brooks': 0, 'Jeremy Haft': 0, 'Andrea Arnold': 0, 'John Waters': 0, 'John Pasquin': 0, 'Keenen Ivory Wayans': 0, 'Mike Birbiglia': 0, 'Seth Barrish': 0, 'John Boorman': 0, 'Christian E': 0, 'Stephen Gaghan': 0, 'Ole Bornedal': 0, 'Nick Moore': 0, 'Andy Cadiff': 0, 'Martin Campbell': 0, 'Harley Cokeliss': 0, 'James Cox': 0, 'Charles Martin Smith': 0, 'Bob Dolman': 0, 'Brian De Palma': 0, 'Hugh Johnson': 0, 'Edward Zwick': 0, 'Stephen Deutsch': 0, 'David Jacobson': 0, 'Kyung Ho Lee': 0, 'Roger Young': 0, 'Trey Parker': 0, 'Niki Caro': 0, 'Alexandre Aja': 0, 'Robert Kurtzman': 0, 'Wes Craven': 0, 'Christopher McQuarrie': 0, 'Tomas Alfredson': 0, 'Cal Brunker': 0, 'Pascal Laugier': 0, 'Anton Corbijn': 0, 'Christopher Smith': 0, 'John Nicolella': 0, 'James B': 0, 'M': 0, 'Matthew Chapman': 0, 'William Brent Bell': 0, 'David S': 0, 'Bob Rafelson': 0, 'Samuel Fuller': 0, 'Glenn Ficarra': 0, 'John Requa': 0, 'Steve Boyum': 0, 'Richard Donner': 0, 'Stuart Rosenberg': 0, 'Elizabeth Allen Rosenbaum': 0, 'Isabel Coixet': 0, 'David R': 0, 'Bruce McDonald': 0, 'Robert Hiltzik': 0, 'Aleksander Bach': 0, 'Gurinder Chadha': 0, 'Jerry Zucker': 0, 'Luis Mandoki': 0, 'Gillian Armstrong': 0, 'James Gray': 0, 'Neil Abramson': 0, 'William Malone': 0, 'Harry Elfont': 0, 'Deborah Kaplan': 0, 'Anthony Russo': 0, 'Joe Russo': 0, 'Marc Forster': 0, 'Michael Radford': 0, 'Ivan Reitman': 0, 'Richard Kelly': 0, 'Anthony Minghella': 0, 'John Guillermin': 0, 'William Kaufman': 0, 'Paul Thomas Anderson': 0, 'Martha Coolidge': 0, 'James Goldstone': 0, 'Richard Fleischer': 0, 'James Cameron': 0, 'Barry Sonnenfeld': 0, 'John Curran': 0, 'Michael Apted': 0, 'Vincent McEveety': 0, 'Corey Yuen': 0, 'Ti West': 0, 'Wim Wenders': 0, 'Justin Lin': 0, 'Donald Petrie': 0, 'Hideo Nakata': 0, 'Buddy Giovinazzo': 0, 'Quentin Masters': 0, 'Joe Charbanic': 0, 'Rupert Wainwright': 0, 'Tobe Hooper': 0, 'Jim Mickle': 0, 'Alan Rudolph': 0, 'Tarsem Singh': 0, 'Gary Goldman': 0, 'Don Sharp': 0, 'Paul Schrader': 0, 'Jane Campion': 0, 'John Duigan': 0, 'Ken Kwapis': 0, 'Kevin Lima': 0, 'Richard Greenberg': 0, 'Dick Richards': 0, 'Jerry Jameson': 0, 'Adrian Lyne': 0, 'Kurt Wimmer': 0, 'Sean Penn': 0, 'Eli Roth': 0, 'Gary Ross': 0, 'Anne Fletcher': 0, 'William Friedkin': 0, 'Guy Ritchie': 0, 'Jamie Babbit': 0, 'Glenn Gordon Caron': 0, 'Steve Carr': 0, 'Sean Anders': 0, 'Måns Mårlind': 0, 'Björn Stein': 0, 'Tom Shadyac': 0, 'Takashi Shimizu': 0, 'Tim Blake Nelson': 0, 'Bernardo Bertolucci': 0, 'Ben Stiller': 0, 'J Blakeson': 0, 'Craig Mazin': 0, 'Mark Neveldine': 0, 'Brian Taylor': 0, 'Louis Leterrier': 0, 'Nick Vallelonga': 0, 'Sofia Coppola': 0, 'Albert Pyun': 0, 'Douglas McGrath': 0, 'Ryan Gosling': 0, 'Warren Coleman': 0, 'Judy Morris': 0, 'Andy Tennant': 0, 'Harald Zwart': 0, 'Michael Haigney': 0, 'Kunihiko Yuyama': 0, 'Ben Affleck': 0, 'Howard Avedis': 0, 'Todd Phillips': 0, 'Mike Johnson': 0, 'Oren Moverman': 0, 'Paul McGuigan': 0, 'John Whitesell': 0, 'Raja Gosnell': 0, 'George Armitage': 0, 'Patricia Birch': 0, 'Steve Pink': 0, 'Don Coscarelli': 0, 'Brad Anderson': 0, 'Scott Walker': 0, 'Agnieszka Holland': 0, 'James Mangold': 0, 'Jonathan Kasdan': 0, 'Brandon Camp': 0, 'Hal Needham': 0, 'Richard Lester': 0, 'Dennis Lee': 0, 'Jonathan Demme': 0, 'Bradley Parker': 0, 'Shawn Levy': 0, 'Colin Strause': 0, 'Greg Strause': 0, 'John Lafia': 0, 'Alexander Witt': 0, 'Zoe R': 0, 'Tom Hooper': 0, 'Emilio Estevez': 0, 'Jim Jarmusch': 0, 'Tony Richardson': 0, 'Brian Hecker': 0, 'Gareth Edwards': 0, 'Hayao Miyazaki': 0, 'Richard Eyre': 0, 'George Kaczender': 0, 'Werner Herzog': 0, 'Kevin Greutert': 0, 'Mike Leigh': 0, 'Michael Cuesta': 0, 'Bruce Hendricks': 0, 'George Tillman Jr': 0, 'Gregory Poirier': 0, 'Russell Mulcahy': 0, 'Kevin Smith': 0, 'Jim Wynorski': 0, 'Andrew Mogel': 0, 'Jarrad Paul': 0, 'Fenton Bailey': 0, 'Randy Barbato': 0, 'Richard C': 0, 'Eduardo Sánchez': 0, 'Lewis Teague': 0, 'Matthew Vaughn': 0, 'Oliver Stone': 0, 'Dennis Dugan': 0, 'Reginald Hudlin': 0, 'Don Taylor': 0, 'Mike Hodges': 0, 'Roland Joffé': 0, 'Paul Feig': 0, 'Brad Silberling': 0, 'Jeremy Podeswa': 0, 'József Gémes': 0, 'Jan Troell': 0, 'Milos Forman': 0, 'John Putch': 0, 'Kevin Reynolds': 0, 'Alex Proyas': 0, 'Tuck Tucker': 0, 'Roland Emmerich': 0, 'Jason Todd Ipson': 0, 'Marcus Nispel': 0, 'Ron Shelton': 0, 'Joseph Zito': 0, 'Uwe Boll': 0, 'Brian Robbins': 0, 'Mike Marvin': 0, 'Richard LaGravenese': 0, 'Kirk Douglas': 0, 'Penny Marshall': 0, 'P': 0, 'Fred Dekker': 0, 'Jon Amiel': 0, 'Sam Raimi': 0, 'Willard Huyck': 0, 'Martin Davidson': 0, 'Stephen Verona': 0, 'James Wan': 0, 'David Koepp': 0, 'Gus Van Sant': 0, 'Brian A': 0, 'Rebecca Miller': 0, 'Nick Hurran': 0, 'Paul W': 0, 'Thom Eberhardt': 0, 'Ryan Fleck': 0, 'Danny Cannon': 0, 'Rowdy Herrington': 0, 'Mark Andrews': 0, 'Brenda Chapman': 0, 'Steve Purcell': 0, 'John Moore': 0, 'Danny Leiner': 0, 'John R': 0, 'Dave McKean': 0, 'Jon M': 0, 'Frank Miller': 0, 'Christina Wayne': 0, 'Tom McGrath': 0, 'Ernie Barbarash': 0, 'Antoine Fuqua': 0, 'Sharon Maguire': 0, 'Neil Jordan': 0, 'Irwin Allen': 0, 'Philip G': 0, 'Martin Weisz': 0, 'Jerry Kramer': 0, 'Colin Chilvers': 0, 'Francine McDougall': 0, 'Perry Andelin Blake': 0, 'Richard Pearce': 0, 'Will Canon': 0, 'Michael Caton': 0, 'Yves Simoneau': 0, 'Sidney J': 0, 'Peter Yates': 0, 'Ben Ramsey': 0, 'Andy Muschietti': 0, 'Stan Winston': 0, 'Kevin Macdonald': 0, 'Allan Moyle': 0, 'George Mihalka': 0, 'Michael Schultz': 0, 'Mathieu Kassovitz': 0, 'Vincent Ward': 0, 'Sean McNamara': 0, 'Frank Longo': 0, 'Steven Shainberg': 0, 'Jamie Travis': 0, 'Michael Cimino': 0, 'Stanley Kramer': 0, 'David Zucker': 0, 'Billy Wilder': 0, 'Daryl Duke': 0, 'Eric Styles': 0, 'Josh Gordon': 0, 'Will Speck': 0, 'Marcus Raboy': 0, 'Alexander Payne': 0, 'Michael Ritchie': 0, 'Jon Favreau': 0, 'Jason Reitman': 0, 'Menno Meyjes': 0, 'Howard Zieff': 0, 'Pete Docter': 0, 'David Silverman': 0, 'Lee Unkrich': 0, 'Florent': 0, 'John Frankenheimer': 0, 'Pete Jones': 0, 'John Fawcett': 0, 'Richard Loncraine': 0, 'Lawrence Guterman': 0, 'Ruggero Deodato': 0, 'Kenneth Branagh': 0, 'Henry Selick': 0, 'Peter Sollett': 0, 'Michael Moore': 0, 'Elaine May': 0, 'Kevin Bray': 0, 'Kent Alterman': 0, 'Travis Cluff': 0, 'Chris Lofing': 0, 'John Irvin': 0, 'Richard Stanley': 0, 'Rick Rosenthal': 0, 'Ryan Murphy': 0, 'Timothy Greenfield': 0, 'Pixote Hunt': 0, 'David Von Ancken': 0, 'Ramaa Mosley': 0, 'Peter Hall': 0, 'Ralph Bakshi': 0, 'Mike Gabriel': 0, 'Eric Goldberg': 0, 'Sylvester Stallone': 0, 'Jodie Foster': 0, 'Danny DeVito': 0, 'David Bowers': 0, 'Nicholas Jarecki': 0, 'Scott Derrickson': 0, 'Mick Jackson': 0, 'Robert Mandel': 0, 'Robert Schwentke': 0, 'Jonathan Lynn': 0, 'Rob Zombie': 0, 'James Toback': 0, 'George P': 0, 'Todd Stephens': 0, 'Michael Winterbottom': 0, 'Gregory Hoblit': 0, 'Dennis Hopper': 0, 'Meiert Avis': 0, 'Oren Peli': 0, 'Gary Lennon': 0, 'Peter Hewitt': 0, 'Rob Marshall': 0, 'Jeff Pollack': 0, 'Seth Gordon': 0, 'Gavin O': 0, 'Ang Lee': 0, 'Steve Miner': 0, 'Andrew Bergman': 0, 'Sally Field': 0, 'Tom McCarthy': 0, 'Noel Nosseck': 0, 'Jean': 0, 'Wolfgang Petersen': 0, 'Petter Næss': 0, 'Martin Scorsese': 0, 'Wayne Beach': 0, 'Rachel Talalay': 0, 'Brian Smrz': 0, 'Tom McLoughlin': 0, 'Jeff Nichols': 0, 'Iain Softley': 0, 'Jeremy Sims': 0, 'Kern Saxton': 0, 'Sheldon Lettich': 0, 'Joan Micklin Silver': 0, 'Johnnie To': 0, 'Marc Lawrence': 0, 'Daniel Stern': 0, 'Stephen Chbosky': 0, 'Thomas Bezucha': 0, 'Michael Oblowitz': 0, 'Jonathan Dayton': 0, 'Valerie Faris': 0, 'Michael Mann': 0, 'Lorene Scafaria': 0, 'Robert Vincent O': 0, 'David Fincher': 0, 'Scott Alexander': 0, 'Larry Karaszewski': 0, 'Alan Taylor': 0, 'Arne Glimcher': 0, 'Stewart Hendler': 0, 'F': 0, 'Mimi Leder': 0, 'Gene Wilder': 0, 'Edgar Wright': 0, 'Peter Bonerz': 0, 'Camille Delamarre': 0, 'David Ren': 0, 'Robert Lee King': 0, 'Mikael Håfström': 0, 'Chris Weitz': 0, 'Josh Trank': 0, 'Robert Luketic': 0, 'Glen Morgan': 0, 'Akiva Schaffer': 0, 'Jon Wright': 0, 'Justin Kurzel': 0, 'George Lucas': 0, 'Alan Shapiro': 0, 'Bill Condon': 0, 'Franklin J': 0, 'Frank LaLoggia': 0, 'Stanley Kubrick': 0, 'Jim Gillespie': 0, 'John Hyams': 0, 'Peter Hyams': 0, 'Richard Quine': 0, 'John Crowley': 0, 'Gonzalo López': 0, 'Peter Segal': 0, 'Maria Maggenti': 0, 'Eduardo Rodriguez': 0, 'Bruce Beresford': 0, 'Lana Wachowski': 0, 'Lilly Wachowski': 0, 'Jerusha Hess': 0, 'John Sturges': 0, 'Graeme Clifford': 0, 'Walter Salles': 0, 'Douglas Cheek': 0, 'Jessie Nelson': 0, 'John Carney': 0, 'Kirk Jones': 0, 'Stanley Tong': 0, 'Todd Graff': 0, 'István Szabó': 0, 'Antonio Banderas': 0, 'Tim Story': 0, 'Eric Darnell': 0, 'Conrad Vernon': 0, 'James Fargo': 0, 'Audrey Wells': 0, 'Courtney Solomon': 0, 'Oliver Parker': 0, 'Kevin Donovan': 0, 'Marcus Adams': 0, 'Paul Haggis': 0, 'Juan Carlos Fresnadillo': 0, 'Todd Haynes': 0, 'John G': 0, 'Brian Baugh': 0, 'Sam Peckinpah': 0, 'Joel Silberg': 0, 'Tony Kaye': 0, 'Harris Goldberg': 0, 'Stuart Townsend': 0, 'Rich Moore': 0, 'Roman Coppola': 0, 'Alan Myerson': 0, 'Kevin Connor': 0, 'Steve Wang': 0, 'Harold Ramis': 0, 'Avi Nesher': 0, 'Tim Johnson': 0, 'Karey Kirkpatrick': 0, 'Peter Berg': 0, 'Michael Winner': 0, 'Robert Towne': 0, 'Phillip Borsos': 0, 'Jack Bender': 0, 'Sngmoo Lee': 0, 'Carlo Ledesma': 0, 'Patrick Hughes': 0, 'Jim Abrahams': 0, 'Jim Goddard': 0, 'Troy Miller': 0, 'Jay Russell': 0, 'Jon Lucas': 0, 'Scott Moore': 0, 'Peter Webber': 0, 'Rob Letterman': 0, 'Richard Rush': 0, 'Norman René': 0, 'Jeff Lowell': 0, 'Robert Vince': 0, 'Mark Pavia': 0, 'Rick Sloane': 0, 'Gary Winick': 0, 'Alex Turner': 0, 'George A': 0, 'Phil Joanou': 0, 'Michael Lee Baron': 0, 'Lili Fini Zanuck': 0, 'Philippe Mora': 0, 'Ernest R': 0, 'Andy Fickman': 0, 'Carl Franklin': 0, 'Mars Callahan': 0, 'Barbet Schroeder': 0, 'Dave Filoni': 0, 'Mark L': 0, 'Chris Miller': 0, 'Raman Hui': 0, 'Tony Gilroy': 0, 'Charles Shyer': 0, 'Emile Ardolino': 0, 'William Richert': 0, 'Fred Walton': 0, 'Brian Yuzna': 0, 'Gary McKendry': 0, 'Nimród Antal': 0, 'Christopher Coppola': 0, 'Mike Flanagan': 0, 'Masami Hata': 0, 'William T': 0, 'Hector Babenco': 0, 'Curtis Hanson': 0, 'Brian Hooks': 0, 'Deon Taylor': 0, 'Zelda Barron': 0, 'Beeban Kidron': 0, 'Patrick Read Johnson': 0, 'Dominique Othenin': 0, 'Thomas Whelan': 0, 'Jake Schreier': 0, 'Davis Guggenheim': 0, 'Patrick Stettner': 0, 'Alexander Bulkley': 0, 'Alex Kendrick': 0, 'Scott Hicks': 0, 'Rajkumar Hirani': 0, 'Stephen Cornwell': 0, 'Abel Ferrara': 0, 'Josef Rusnak': 0, 'David Leland': 0, 'Geoff Murphy': 0, 'Jon Purdy': 0, 'Doug McHenry': 0, 'Christopher Neil': 0, 'Lukas Moodysson': 0, 'Rodman Flender': 0, 'Chris Columbus': 0, 'Roger Kumble': 0, 'Frank Pierson': 0, 'Mike McCoy': 0, 'Scott Waugh': 0, 'Susan Stroman': 0, 'Clark Gregg': 0, 'Jonathan Liebesman': 0, 'Stephen Bradley': 0, 'Leonard Nimoy': 0, 'Jonathan Darby': 0, 'Daniel Benmayor': 0, 'Mike Nichols': 0, 'Anand Tucker': 0, 'Jee': 0, 'Harmony Korine': 0, 'Roger Avary': 0, 'Stephen Chiodo': 0, 'Michael Coleman': 0, 'Eric Johnson': 0, 'Tim Pope': 0, 'Peter Weir': 0, 'Christopher Erskin': 0, 'Ed Harris': 0, 'Gerald Thomas': 0, 'Mike Gunther': 0, 'John Madden': 0, 'Andrew Niccol': 0, 'Jun Falkenstein': 0, 'Jonas Pate': 0, 'Anthony Hickox': 0, 'Steve Rash': 0, 'Alejandro Amenábar': 0, 'Martin Bell': 0, 'John Glen': 0, 'Irwin Winkler': 0, 'Alan Metter': 0, 'Tyler Oliver': 0, 'Ted Demme': 0, 'Joe Alves': 0, 'Nadia Tass': 0, 'Dana Heinz Perry': 0, 'Randall Miller': 0, 'Christian Duguay': 0, 'Vincenzo Natali': 0, 'John Luessenhop': 0, 'Philip Kaufman': 0, 'Greydon Clark': 0, 'Dan Kuenster': 0, 'McG': 0, 'Peter Billingsley': 0, 'Tony Krantz': 0, 'John Lasseter': 0, 'Bob Misiorowski': 0, 'David Mamet': 0, 'Mike Mills': 0, 'Daniel Waters': 0, 'Ted Post': 0, 'Anders Rønnow Klarlund': 0, 'Alastair Fothergill': 0, 'Mark Linfield': 0, 'Michael A': 0, 'Spike Jonze': 0, 'Andrew Morahan': 0, 'William Phillips': 0, 'Holly Goldberg Sloan': 0, 'Charles Robert Carner': 0, 'Dominic Sena': 0, 'David Anspaugh': 0, 'Steve McQueen': 0, 'Sammo Kam': 0, 'Kris Isacsson': 0, 'Stephen Sommers': 0, 'Joe Dante': 0, 'Brett Leonard': 0, 'Bo Welch': 0, 'John Milius': 0, 'Julia Leigh': 0, 'James Isaac': 0, 'Andrew Dominik': 0, 'Harold Becker': 0, 'Jennifer Flackett': 0, 'Mark Levin': 0, 'Peter Templeman': 0, 'Q': 0, 'Joey Stewart': 0, 'Alex Cox': 0, 'Mark Osborne': 0, 'Ken Annakin': 0, 'Tim Robbins': 0, 'Joel Zwick': 0, 'Angelina Jolie': 0, 'Isaac Florentine': 0, 'Sarah Polley': 0, 'Mark Helfrich': 0, 'Jonathan Mostow': 0, 'Martin Guigui': 0, 'David Lynch': 0, 'Gary Chapman': 0, 'Austin Chick': 0, 'Robert De Niro': 0, 'Alfonso Cuarón': 0, 'Kevin Costner': 0, 'Anthony Drazan': 0, 'Gil Kenan': 0, 'George Roy Hill': 0, 'Christopher Duddy': 0, 'Richard Marquand': 0, 'Christian Volckman': 0, 'Bruce McCulloch': 0, 'William Heins': 0, 'Strathford Hamilton': 0, 'Sooraj R': 0, 'Chris Carter': 0, 'Mike Barker': 0, 'Roger Christian': 0, 'David Kellogg': 0, 'Eddie Murphy': 0, 'Nanette Burstein': 0, 'Joseph Ruben': 0, 'Simon Wincer': 0, 'Joshua Seftel': 0, 'Gore Verbinski': 0, 'Richard Schenkman': 0, 'David Twohy': 0, 'Jesse Dylan': 0, 'Tommy O': 0, 'Fedor Bondarchuk': 0, 'Michael Dowse': 0, 'Wes Anderson': 0, 'Rob Schmidt': 0, 'Jeremy Power Regimbal': 0, 'Brian Gibson': 0, 'Wai': 0, 'Paul Fox': 0, 'Chris Wedge': 0, 'Daniel Espinosa': 0, 'Brian Gilbert': 0, 'Marc Evans': 0, 'John Berry': 0, 'Paul Bartel': 0, 'Allen Coulter': 0, 'Richard T': 0, 'David Raynr': 0, 'Paul Scheuring': 0, 'Richard Wenk': 0, 'Jim Sharman': 0, 'Guy Maddin': 0, 'Mike Figgis': 0, 'Mark Romanek': 0, 'Alan Johnson': 0, 'Lance Hool': 0, 'Lasse Hallström': 0, 'Lamberto Bava': 0, 'Derek Cianfrance': 0, 'David Duchovny': 0, 'Paul Abascal': 0, 'Arthur Hiller': 0, 'Martin Lawrence': 0, 'William Wesley': 0, 'Alfred Hitchcock': 0, 'Tom Dey': 0, 'Jason Winer': 0, 'Hype Williams': 0, 'Claudia Llosa': 0, 'Ola Simonsson': 0, 'Johannes Stjärne Nilsson': 0, 'Antonio Margheriti': 0, 'Ulu Grosbard': 0, 'Allison Anders': 0, 'Alexandre Rockwell': 0, 'Morten Tyldum': 0, 'Diane English': 0, 'Gavin Hood': 0, 'Maxim Korostyshevsky': 0, 'Pete Riski': 0, 'Alan Smithee': 0, 'Terry George': 0, 'Kevin Spacey': 0, 'Chris Kentis': 0, 'Lamont Johnson': 0, 'Mario Bava': 0, 'Thomas Carter': 0, 'Jocelyn Moorhouse': 0, 'Charles Band': 0, 'Barry W': 0, 'Ken Russell': 0, 'John De Bello': 0, 'James Ivory': 0, 'Craig Zobel': 0, 'Pierre Morel': 0, 'Bill Fishman': 0, 'Steven Zaillian': 0, 'Hatsuki Tsuji': 0, 'Miguel Arteta': 0, 'Artie Mandelberg': 0, 'Stephan Elliott': 0, 'Des McAnuff': 0, 'Robby Henson': 0, 'Élie Chouraqui': 0, 'Andy Garcia': 0, 'Keith Gordon': 0, 'Mick Garris': 0, 'Dewey Nicks': 0, 'Chris Nahon': 0, 'Alex Holdridge': 0, 'Greg McLean': 0, 'Adam Marcus': 0, 'Michele Soavi': 0, 'Penelope Spheeris': 0, 'Stephen Surjik': 0, 'Mark Rosman': 0, 'Galt Niederhoffer': 0, 'Jeff King': 0, 'Jessy Terrero': 0, 'James Wong': 0, 'Kasi Lemmons': 0, 'Ellory Elkayem': 0, 'Tommy Lee Wallace': 0, 'David Dobkin': 0, 'Robert Harmon': 0, 'Jim Hanon': 0, 'Mike Newell': 0, 'Gerald Potterton': 0, 'John Bruno': 0, 'John Halas': 0, 'Julian Harris': 0, 'Jimmy T': 0, 'Michael G': 0, 'Lloyd Kaufman': 0, 'Michael Burke': 0, 'Nancy Meyers': 0, 'Franco Zeffirelli': 0, 'John Pogue': 0, 'Edward Burns': 0, 'Bille Woodruff': 0, 'Jim Field Smith': 0, 'Tristan Patterson': 0, 'Nicolas Winding Refn': 0, 'Eric Radomski': 0, 'Bruce Timm': 0, 'Kevin Altieri': 0, 'Boyd Kirkland': 0, 'Frank Paur': 0, 'Dan Riba': 0, 'Michael Patrick Jann': 0, 'Joseph Guzman': 0, 'Tim Hunter': 0, 'Victor Nunez': 0, 'Joe Berlinger': 0, 'Harry Winer': 0, 'Stephen Gyllenhaal': 0, 'Michel Leclerc': 0, 'Dario Argento': 0, 'Billy Bob Thornton': 0, 'Jan de Bont': 0, 'David Green': 0, 'Bill Duke': 0, 'Deran Sarafian': 0, 'Roland Suso Richter': 0, 'Tom Tykwer': 0, 'Christian Alvart': 0, 'Gary Jones': 0, 'Alejandro Jodorowsky': 0, 'Mark Goldblatt': 0, 'Michael Herz': 0, 'Harry Thomason': 0, 'Michael Karbelnikoff': 0, 'Dan Harris': 0, 'Ron Maxwell': 0, 'Julie Taymor': 0, 'Jim Loach': 0, 'Jeff Schaffer': 0, 'Alec Berg': 0, 'David Mandel': 0, 'Jason Wulfsohn': 0, 'Jason Eisener': 0, 'Nicholas Meyer': 0, 'Jay Duplass': 0, 'Mark Duplass': 0, 'Michael Hoffman': 0, 'Steve Box': 0, 'Nick Park': 0, 'Gilles Paquet': 0, 'Richard Williams': 0, 'Todd Strauss': 0, 'Christine Jeffs': 0, 'Brad Furman': 0, 'Brad Peyton': 0, 'Thomas J': 0, 'Richard Compton': 0, 'David McNally': 0, 'Rod Daniel': 0, 'Robert Lieberman': 0, 'David O': 0, 'Rick Moranis': 0, 'Dave Thomas': 0, 'Michael Haneke': 0, 'Randal Kleiser': 0, 'Rusty Cundieff': 0, 'Maggie Greenwald': 0, 'David Carson': 0, 'Patrick Tatopoulos': 0, 'Billy Weber': 0, 'Frank Henenlotter': 0, 'Ethan Maniquis': 0, 'Danny Steinmann': 0, 'Alan Pao': 0, 'Russ Meyer': 0, 'Kirk De Micco': 0, 'Asger Leth': 0, 'Maurice Phillips': 0, 'Neal Jimenez': 0, 'Michael Steinberg': 0, 'William Lustig': 0, 'Diane Keaton': 0, 'Charles S': 0, 'Marcus Dunstan': 0, 'Tom Shankland': 0, 'Fritz Kiersch': 0, 'Bibo Bergeron': 0, 'Don Paul': 0, 'Jeffrey Katzenberg': 0, 'Stefan Ruzowitzky': 0, 'James Nguyen': 0, 'David Slade': 0, 'Christophe Gans': 0, 'Shûsuke Kaneko': 0, 'Troy Duffy': 0, 'Simon Brand': 0, 'Matt Reeves': 0, 'Todd Field': 0, 'Ken Wiederhorn': 0, 'Bille August': 0, 'Jorma Taccone': 0, 'Tony Giglio': 0, 'Ed Solomon': 0, 'Danny Pang': 0, 'Oxide Chun Pang': 0, 'Nora Ephron': 0, 'Hart Bochner': 0, 'Pierre Coffin': 0, 'Chris Renaud': 0, 'Peter R': 0, 'Robert Klane': 0, 'Rob Minkoff': 0, 'Steve Gordon': 0, 'Frank Marshall': 0, 'Jeff Blyth': 0, 'Gary Sherman': 0, 'Tom Vaughan': 0, 'Scott Mann': 0, 'Rod Amateau': 0, 'John Derek': 0, 'Frank Darabont': 0, 'Charles Jarrott': 0, 'Jason Friedberg': 0, 'Aaron Seltzer': 0, 'Desmond Nakano': 0, 'Jaume Collet': 0, 'John Erick Dowdle': 0, 'Brian Levant': 0, 'William Shatner': 0, 'Paul Weitz': 0, 'Robert Stevenson': 0, 'Adam Rifkin': 0, 'Burr Steers': 0, 'Joe Ranft': 0, 'Marco Kreuzpaintner': 0, 'Mary Harron': 0, 'Lexi Alexander': 0, 'Don Handfield': 0, 'Peter Kosminsky': 0, 'Cary Joji Fukunaga': 0, 'William Monahan': 0, 'Philip D': 0, 'George Cukor': 0, 'John Warren': 0, 'Kathryn Bigelow': 0, 'Wayne Wang': 0, 'Dan Ireland': 0, 'Gabriel Cowan': 0, 'Tom Ford': 0, 'Daniel Myrick': 0, 'Jack Smight': 0, 'Kelly Asbury': 0, 'Joshua Michael Stern': 0, 'Charles Matthau': 0, 'Mark Waters': 0, 'Stanley Donen': 0, 'Paul Lynch': 0, 'Peter Werner': 0, 'Fisher Stevens': 0, 'Michael Pavone': 0, 'Ron Krauss': 0, 'Nathan Hope': 0, 'Uli Edel': 0, 'Tamara Jenkins': 0, 'Larry Cohen': 0, 'David Caesar': 0, 'Joachim Rønning': 0, 'Espen Sandberg': 0, 'James Bobin': 0, 'Zach Helm': 0, 'Stephen Kijak': 0, 'Michael Crichton': 0, 'Bill Norton': 0, 'Tom Tataranowicz': 0, 'Claude Chabrol': 0, 'Josh Stolberg': 0, 'Clark Johnson': 0, 'Jeff Tremaine': 0, 'Judd Apatow': 0, 'Jonathan Wacks': 0, 'Mabrouk El Mechri': 0, 'Bryan Singer': 0, 'John Michael McDonagh': 0, 'Jeremiah S': 0, 'Melanie Mayron': 0, 'Don Siegel': 0, 'Steve Antin': 0, 'Richard Friedenberg': 0, 'Hunter Richards': 0, 'Gilbert Adler': 0, 'Will Gluck': 0, 'Peter Ho': 0, 'Rob Pritts': 0, 'Arlene Sanford': 0, 'Michael Gornick': 0, 'Sean S': 0, 'Darren Lynn Bousman': 0, 'Eric Brevig': 0, 'Phil Lord': 0, 'Christopher Miller': 0, 'Ate de Jong': 0, 'George Hickenlooper': 0, 'Noah Baumbach': 0, 'Ken Shapiro': 0, 'Jason Moore': 0, 'Wes Ball': 0, 'Hal Hartley': 0, 'James Marsh': 0, 'Peter Cattaneo': 0, 'Karen Moncrieff': 0, 'Jan Kounen': 0, 'Shane Black': 0, 'Masayuki Ochiai': 0, 'Doug Ellin': 0, 'Robert B': 0, 'Michael Hoffman Jr': 0, 'John Hughes': 0, 'Bruno Barreto': 0, 'Steve Oedekerk': 0, 'Neil Burger': 0, 'Slava Tsukerman': 0, 'Jack Nicholson': 0, 'Eric Red': 0, 'Fraser C': 0, 'Ryûhei Kitamura': 0, 'Steve Buscemi': 0, 'Duncan Jones': 0, 'Pitof': 0, 'Tim Hamilton': 0, 'Michael Mayer': 0, 'Mark Steilen': 0, 'Shane Meadows': 0, 'John Hamburg': 0, 'Dave Meyers': 0, 'Charlie Kaufman': 0, 'Drew Goddard': 0, 'Aaron Blaise': 0, 'Robert Walker': 0, 'Carl Reiner': 0, 'Gene Saks': 0, 'Stephen Kay': 0, 'Michael Cristofer': 0, 'Marek Kanievska': 0, 'Jeff Kanew': 0, 'Breck Eisner': 0, 'Kevin Yagher': 0, 'Joss Whedon': 0, 'Nicole Holofcener': 0, 'Sidney Lumet': 0, 'Costa': 0, 'Derek Jarman': 0, 'Robert Clouse': 0, 'Bruce Lee': 0, 'Catherine Hardwicke': 0, 'Steve Kloves': 0, 'Jon Avnet': 0, 'Marleen Gorris': 0, 'Dan Aykroyd': 0, 'Peter M': 0, 'Katt Shea': 0, 'Alejandro Agresti': 0, 'Stephen Hillenburg': 0, 'Jody Hill': 0, 'Sebastian Gutierrez': 0, 'Mark Robson': 0, 'Steve Bendelack': 0, 'Brian Helgeland': 0, 'Michael Tiddes': 0, 'Antti Jokinen': 0, 'Colin Brady': 0, 'Christopher Reeve': 0, 'Daniel St': 0, 'Mark Fergus': 0, 'Vondie Curtis': 0, 'Mel Gibson': 0, 'Noam Murro': 0, 'Jerry Rees': 0, 'Bob Balaban': 0, 'Luca Bercovici': 0, 'Dan Scanlon': 0, 'Mark Piznarski': 0, 'Nacho Cerdà': 0, 'Jeff Betancourt': 0, 'Julien Magnat': 0, 'Geoffrey Sax': 0, 'Émile Gaudreault': 0, 'Ovidio G': 0, 'Anne Goursaud': 0, 'Wayne Kramer': 0, 'Michael Corrente': 0, 'Robert Radler': 0, 'Panos Cosmatos': 0, 'Walter Murch': 0, 'Doug Lefler': 0, 'George Huang': 0, 'Ericson Core': 0, 'John Cameron Mitchell': 0, 'Mat Whitecross': 0, 'John Krish': 0, 'Peter Sykes': 0, 'Mark Pellington': 0, 'Gary Fleder': 0, 'Arna Selznick': 0, 'Pearry Reginald Teo': 0, 'Ben Lewin': 0, 'Takashi Miike': 0, 'Kenneth Lonergan': 0, 'Julie Anne Robinson': 0, 'George Jackson': 0, 'David Gordon Green': 0, 'Matt Maiellaro': 0, 'Dave Willis': 0, 'Zal Batmanglij': 0, 'Christopher Guest': 0, 'Byron Howard': 0, 'Chris Williams': 0, 'Luc Jacquet': 0, 'Jerry Belson': 0, 'Barry Skolnick': 0, 'Louis C': 0, 'Luis Llosa': 0, 'Peyton Reed': 0, 'Sam Weisman': 0, 'James Signorelli': 0, 'Stephen Milburn Anderson': 0, 'Colin Trevorrow': 0, 'Tom Mankiewicz': 0, 'Boaz Yakin': 0, 'Nigel Cole': 0, 'John Hoffman': 0, 'Mekhi Phifer': 0, 'Mennan Yapo': 0, 'Zack Snyder': 0, 'Chan': 0, 'Geoff Burton': 0, 'Kevin Dowling': 0, 'Dennis Iliadis': 0, 'Rob Bowman': 0, 'Franck Khalfoun': 0, 'Joon': 0, 'Roger Michell': 0, 'Marco Schnabel': 0, 'Rowan Joffe': 0, 'Michelle Manning': 0, 'George Barry': 0, 'Steve Taylor': 0, 'Renzo Martinelli': 0, 'Raymond De Felitta': 0, 'David Schwimmer': 0, 'David Atkins': 0, 'Paddy Breathnach': 0, 'Leon Ichaso': 0, 'Dave Borthwick': 0, 'Jean Duval': 0, 'Frank Passingham': 0, 'Michael Lembeck': 0, 'Akira Kurosawa': 0, 'Henry Winkler': 0, 'Shane Carruth': 0, 'Julien Temple': 0, 'John Wells': 0, 'Phil Roman': 0, 'Matthijs van Heijningen Jr': 0, 'Bill Couturié': 0, 'Les Mayfield': 0, 'Plan B': 0, 'Andrew Currie': 0, 'Ringo Lam': 0, 'Niels Arden Oplev': 0, 'Jim Strouse': 0, 'Guillaume Canet': 0, 'Rafal Zielinski': 0, 'Bill Forsyth': 0, 'Stan Dragoti': 0, 'Michael Spierig': 0, 'Peter Spierig': 0, 'Campbell Scott': 0, 'Stanley Tucci': 0, 'Stig Bergqvist': 0, 'Paul Demeyer': 0, 'Adam Simon': 0, 'Darren Moloney': 0, 'Alfred Sole': 0, 'Gina Prince': 0, 'Bruce Malmuth': 0, 'Rian Johnson': 0, 'Amy Holden Jones': 0, 'Michael Polish': 0, 'Michael Gottlieb': 0, 'Jerzy Skolimowski': 0, 'Greg Harrison': 0, 'Karan Johar': 0, 'Henry Bromell': 0, 'Norman Jewison': 0, 'Charles Kaufman': 0, 'James Bridges': 0, 'Bernard Rose': 0, 'William Girdler': 0, 'Gregor Jordan': 0, 'Hark Tsui': 0, 'David J': 0, 'Jeannot Szwarc': 0, 'Nelson McCormick': 0, 'John Eng': 0, 'Norton Virgien': 0, 'Hiromasa Yonebayashi': 0, 'Rainer Werner Fassbinder': 0, 'Jonathan Kesselman': 0, 'S': 0, 'Paul Flaherty': 0, 'Jeff Fisher': 0, 'Barnaby Thompson': 0, 'Kar': 0, 'Larry Clark': 0, 'Craig Gillespie': 0, 'Kevin Munroe': 0, 'Arthur Penn': 0, 'Clive Barker': 0, 'Jamie Blanks': 0, 'Brett Sullivan': 0, 'Rand Ravich': 0, 'Ben Wheatley': 0, 'Jay Chandrasekhar': 0, 'Rudy De Luca': 0, 'Gavin Grazer': 0, 'Steve Hickner': 0, 'Simon Wells': 0, 'Neill Blomkamp': 0, 'Scott Marshall': 0, 'Susan Montford': 0, 'Colin Minihan': 0, 'Stuart Ortiz': 0, 'The Vicious Brothers': 0, 'Edward James Olmos': 0, 'Drake Doremus': 0, 'Susan Seidelman': 0, 'Steve Trenbirth': 0, 'Paul Michael Glaser': 0, 'Kevin Allen': 0, 'Brad Lewis': 0, 'Burt Reynolds': 0, 'Dean Wright': 0, 'Wolfgang Reitherman': 0, 'Phyllida Lloyd': 0, 'Tony Leondis': 0, 'John Lee Hancock': 0, 'Troy Nixey': 0, 'Darko Mitrevski': 0, 'Ken Scott': 0, 'Peter Ramsey': 0, 'Alejandro G': 0, 'Mike Disa': 0, 'Jane Wagner': 0, 'Tommy Wiseau': 0, 'Buddy Van Horn': 0, 'Chip Hale': 0, 'Lara Shapiro': 0, 'Scott Stewart': 0, 'Daisy von Scherler Mayer': 0, 'Peter Stebbings': 0, 'Brian Klugman': 0, 'Lee Sternthal': 0, 'James Ponsoldt': 0, 'Warren Beatty': 0, 'Jeff Wadlow': 0, 'Clement Virgo': 0, 'Tony Bill': 0, 'Martha Fiennes': 0, 'Tom Gries': 0, 'Steve Carver': 0, 'James Sbardellati': 0, 'James Glickenhaus': 0, 'Dennie Gordon': 0, 'Mike Thurmeier': 0, 'Craig Viveiros': 0, 'John Pieplow': 0, 'Ari Folman': 0, 'Richard Curtis': 0, 'Peter Burger': 0, 'Michael Keaton': 0, 'Scott Spiegel': 0, 'Olivier Megaton': 0, 'James Dearden': 0, 'Charles T': 0, 'Kim Henkel': 0, 'Joe Roth': 0, 'Jonathan Levine': 0, 'Guy Hamilton': 0, 'Floyd Mutrux': 0, 'Duwayne Dunham': 0, 'Damien Dante Wayans': 0, 'Robert Stromberg': 0, 'Paul Auster': 0, 'Bill Kroyer': 0, 'Marc Abraham': 0, 'Nick Love': 0, 'Scott McGehee': 0, 'David Siegel': 0, 'Howard E': 0, 'James M': 0, 'Peter Cornwell': 0, 'George Gallo': 0, 'Julian Richards': 0, 'Kimberly Peirce': 0, 'Stuart Baird': 0, 'Jim Fall': 0, 'Seth MacFarlane': 0, 'Peter Kassovitz': 0, 'Shane Abbess': 0, 'Agnieszka Wojtowicz': 0, 'Lee Tamahori': 0, 'Ron Clements': 0, 'John Musker': 0, 'Spencer Susser': 0, 'Adrian Vitoria': 0, 'Stephen Kessler': 0, 'Peter Care': 0, 'Matthew Robbins': 0, 'Jeff Franklin': 0, 'Steve James': 0, 'Laurie Collyer': 0, 'Bryan Johnson': 0, 'Jack Bravman': 0, 'Glenn McQuaid': 0, 'James Orr': 0, 'Steve Gomer': 0, 'Andrey Konchalovskiy': 0, 'Albert Magnoli': 0, 'David Frankel': 0, 'John Bailey': 0, 'Dan Bradley': 0, 'Nicholas Hytner': 0, 'Julio DePietro': 0, 'Anders Anderson': 0, 'James Komack': 0, 'Jerry Schatzberg': 0, 'Goran Dukic': 0, 'Michael Pressman': 0, 'Jeff Lieberman': 0, 'Sylvain Chomet': 0, 'Sergio Leone': 0, 'Shari Springer Berman': 0, 'Robert Pulcini': 0, 'Farhad Mann': 0, 'Rintaro': 0, 'Hironobu Sakaguchi': 0, 'Motonori Sakakibara': 0, 'Kelly Reichardt': 0, 'Katja von Garnier': 0, 'Ben Younger': 0, 'Ted Kotcheff': 0, 'Colin Eggleston': 0, 'Hyung': 0, 'David Wain': 0, 'Rupert Sanders': 0, 'Just Jaeckin': 0, 'Alejandro Monteverde': 0, 'Angela Robinson': 0, 'Gil Junger': 0, 'Erik Skjoldbjærg': 0, 'Duncan Tucker': 0, 'Nnegest Likké': 0, 'Bob Spiers': 0, 'Craig McCracken': 0, 'Will Finn': 0, 'Charles Herman': 0, 'Jon Stewart': 0, 'Caroline Link': 0, 'Mark Brown': 0, 'Don Michael Paul': 0, 'Matt Dillon': 0, 'Fred Zinnemann': 0, 'María Lidón': 0, 'David DeFalco': 0, 'Mark DiSalle': 0, 'Donald W': 0, 'David L': 0, 'Anna Boden': 0, 'David Hogan': 0, 'Jonathan Caouette': 0, 'Nick Tomnay': 0, 'Sam Levinson': 0, 'Jill Sprecher': 0, 'Steve Barron': 0, 'Erick Zonca': 0, 'Gary Trousdale': 0, 'Kirk Wise': 0, 'Brian Horiuchi': 0, 'Huck Botko': 0, 'Andrew Gurland': 0, 'Hendel Butoy': 0, 'Marshall Herskovitz': 0, 'Christopher Hampton': 0, 'Todd Solondz': 0, 'Steve De Jarnatt': 0, 'Jesse Vaughan': 0, 'Radha Bharadwaj': 0, 'Nicholas Stoller': 0, 'Thomas Schlamme': 0, 'Stuart Gillard': 0, 'Nick Castle': 0, 'Fede Alvarez': 0, 'Kriv Stenders': 0, 'Tom Hanks': 0, 'Ken Finkleman': 0, 'Scott Silver': 0, 'Kieran Darcy': 0, 'Malcolm Venville': 0, 'David Nutter': 0, 'Lorna Cook': 0, 'Steve': 0, 'Amanda Gusack': 0, 'Curt A': 0, 'Griffin Dunne': 0, 'Vadim Perelman': 0, 'Tony Maylam': 0, 'Jeffrey W': 0, 'Mark Jones': 0, 'Joseph Kosinski': 0, 'Terence Young': 0, 'Bob Giraldi': 0, 'Nathan Greno': 0, 'David Weaver': 0, 'Callie Khouri': 0, 'Aaron Schneider': 0, 'David Nerlich': 0, 'Andrew Traucki': 0, 'Lisa Krueger': 0, 'Xavier Dolan': 0, 'Olatunde Osunsanmi': 0, 'Bruce Joel Rubin': 0, 'John Sanford': 0, 'Julian Schnabel': 0, 'Andrew Haigh': 0, 'David Bruckner': 0, 'Dan Bush': 0, 'Jacob Gentry': 0, 'James McTeigue': 0, 'Lynn Shelton': 0, 'Harvey Wang': 0, 'Tom Six': 0, 'John N': 0, 'Roger Allers': 0, 'Tom Stern': 0, 'Alex Winter': 0, 'Lee Daniels': 0, 'Terence Davies': 0, 'Jody Dwyer': 0, 'Robert Bierman': 0, 'Gregory Read': 0, 'Steven Hahn': 0, 'Steven Brill': 0, 'Alister Grierson': 0, 'Deborah Kampmeier': 0, 'Robert Greenwald': 0, 'Peter Lord': 0, 'Jeff Newitt': 0, 'Don Mancini': 0, 'Darren Dunstan': 0, 'Gilles Bourdos': 0, 'Jake West': 0, 'Jonathan English': 0, 'Newt Arnold': 0, 'Nikolai Müllerschön': 0, 'Whit Stillman': 0, 'Kevin Brodie': 0, 'Robert Young': 0, 'Liev Schreiber': 0, 'Conor Allyn': 0, 'Chuck Sheetz': 0, 'Cathy Malkasian': 0, 'Jeff McGrath': 0, 'Arie Posin': 0, 'Charles Stone III': 0, 'Todd Lincoln': 0, 'Rob Schneider': 0, 'Bruce Paltrow': 0, 'Gerald McMorrow': 0, 'Damien O': 0, 'Savage Steve Holland': 0, 'John Schlesinger': 0, 'Tom Hines': 0, 'Luiso Berdejo': 0, 'Derick Martini': 0, 'John Stainton': 0, 'Mark Dindal': 0, 'Robert Duvall': 0, 'Tim Sullivan': 0, 'Anthony Waller': 0, 'Peter Sasdy': 0, 'Cédric Klapisch': 0, 'Jim Kohlberg': 0, 'Denzel Washington': 0, 'John Stevenson': 0, 'John O': 0, 'William A': 0, 'Steven Lisberger': 0, 'John Harrison': 0, 'Benny Boom': 0, 'Alan Cohn': 0, 'Matt Williams': 0, 'Jeff Burr': 0, 'Frank Nissen': 0, 'Paul Johansson': 0, 'Claudio Fragasso': 0, 'Stephen King': 0, 'Jared Hess': 0, 'Alex Smith': 0, 'Andrew J': 0, 'Rawson Marshall Thurber': 0, 'Tarun Mansukhani': 0, 'Richard Franklin': 0, 'David Chase': 0, 'Bruce Hunt': 0, 'Liz Friedlander': 0, 'Dean Semler': 0, 'Peter Faiman': 0, 'Aaron Norris': 0, 'Dusan Makavejev': 0, 'Jonas Elmer': 0, 'Neil Marshall': 0, 'Douglas Trumbull': 0, 'Kevin Tenney': 0, 'Ben Coccio': 0, 'Chris Sivertson': 0, 'Peter Medak': 0, 'Derrick Borte': 0, 'Janusz Kaminski': 0, 'Robert Marcarelli': 0, 'John Humber': 0, 'Henry Hobson': 0, 'Kevin Alyn Elders': 0, 'Alex Chandon': 0, 'Joe Cornish': 0, 'John Payson': 0, 'Michael Davis': 0, 'Loveleen Tandan': 0, 'Oliver Hirschbiegel': 0, 'Lisa Cholodenko': 0, 'Mary Lambert': 0, 'Brian Trenchard': 0, 'Peter Chelsom': 0, 'Jourdan McClure': 0, 'Guy Ferland': 0, 'Pete Travis': 0, 'Michael Tollin': 0, 'Don Chaffey': 0, 'Mark Palansky': 0, 'Helen Hunt': 0, 'Ol Parker': 0, 'Martin McDonagh': 0, 'Peter Greenaway': 0, 'Steven Quale': 0, 'Paris Barclay': 0, 'Joe Nussbaum': 0, 'Terrence Malick': 0, 'David Seltzer': 0, 'Michael Miller': 0, 'Dan Rush': 0, 'Joan Chen': 0, 'Ed Bye': 0, 'Rolf de Heer': 0, 'Blair Treu': 0, 'Asif Kapadia': 0, 'Timur Bekmambetov': 0, 'Herschell Gordon Lewis': 0, 'Adam Gierasch': 0, 'Andrew Douglas': 0, 'Don Scardino': 0, 'Vincent Gallo': 0, 'John Simpson': 0, 'Dito Montiel': 0, 'Forest Whitaker': 0, 'James Gunn': 0, 'Mickey Liddell': 0, 'Reb Braddock': 0, 'Britt Allcroft': 0, 'Bob Odenkirk': 0, 'Mick Davis': 0, 'Robert Resnikoff': 0, 'John A': 0, 'Hoyt Yeatman': 0, 'James Burrows': 0, 'Carlos Ávila': 0, 'Kevin Williamson': 0, 'Michael Martin': 0, 'Eric Blakeney': 0, 'Eric Leighton': 0, 'Ralph Zondag': 0, 'Chia': 0, 'Gary David Goldberg': 0, 'Tom Brady': 0, 'Gary Oldman': 0, 'George Ogilvie': 0, 'Marisa Silver': 0, 'Michel Gondry': 0, 'Ben Palmer': 0, 'Paul Andrew Williams': 0, 'Steven E': 0, 'Enrique Gato': 0, 'Abe Sylvia': 0, 'Michael Wadleigh': 0, 'Ralph S': 0, 'John Glenn': 0, 'Adam Bernstein': 0, 'Robert Moore': 0, 'Ryan Little': 0, 'Eric Till': 0, 'Tony Bancroft': 0, 'Paul Brickman': 0, 'Michael McGowan': 0, 'Rodrigo García': 0, 'Mort Nathan': 0, 'Lisa Azuelos': 0, 'Nick Willing': 0, 'Guy Moshe': 0, 'Dennis Donnelly': 0, 'Genndy Tartakovsky': 0, 'Nia Vardalos': 0, 'Jacques Audiard': 0, 'Christopher Menaul': 0, 'Kelly Makin': 0, 'Steven R': 0, 'Steve Jacobs': 0, 'Menhaj Huda': 0, 'Michael Lehmann': 0, 'David Blyth': 0, 'Brad Mirman': 0, 'John Patrick Shanley': 0, 'Guillermo Arriaga': 0, 'Ted Berman': 0, 'Art Stevens': 0, 'Xavier Gens': 0, 'Stephen Carpenter': 0, 'Eric Amadio': 0, 'Paolo Sorrentino': 0, 'James Watkins': 0, 'Paul Morrison': 0, 'Predrag Antonijevic': 0, 'Patricio Valladares': 0, 'Sheree Folkson': 0, 'Brian Dannelly': 0, 'Mel Smith': 0, 'Jonathan Glazer': 0, 'Marc Schölermann': 0, 'Jill Culton': 0, 'Anthony Stacchi': 0, 'James Duffy': 0, 'Patrik Forsberg': 0, 'Will Graham': 0, 'Jonathan van Tulleken': 0, 'Adam Green': 0, 'Bennett Miller': 0, 'Geoff Burrowes': 0, 'Paul Gross': 0, 'Andy Wilson': 0, 'Lee Demarbre': 0, 'Nico Mastorakis': 0, 'Matthew Diamond': 0, 'Matthew Meshekoff': 0, 'Édouard Molinaro': 0, 'Steve Saint Leger': 0, 'James Mather': 0, 'Martin Ritt': 0, 'Risa Bramon Garcia': 0, 'Julie Davis': 0, 'Nat Faxon': 0, 'Jim Rash': 0, 'Félix Enríquez Alcalá': 0, 'Julian Jarrold': 0, 'Álex de la Iglesia': 0, 'Denis Villeneuve': 0, 'Stephen Poliakoff': 0, 'Ramón Menéndez': 0, 'Charles Lane': 0, 'John Francis Daley': 0, 'Jonathan Goldstein': 0, 'Mike Binder': 0, 'Yimou Zhang': 0, 'Mike Nawrocki': 0, 'Phil Vischer': 0, 'Dan O': 0, 'Chris Buck': 0, 'William H': 0, 'Fred Wolf': 0, 'Zoran Perisic': 0, 'David Nixon': 0, 'Patrick Doughtie': 0, 'Gary Goddard': 0, 'Robert Ben Garant': 0, 'Chris Koch': 0, 'Rodrigo Cortés': 0, 'Trent Cooper': 0, 'Joe Pytka': 0, 'Leigh Whannell': 0, 'James Algar': 0, 'Gaëtan Brizzi': 0, 'Paul Brizzi': 0, 'Francis Glebas': 0, 'Don Hahn': 0, 'Nicholas McCarthy': 0, 'Michael Hegner': 0, 'Kari Juusonen': 0, 'Jacob Estes': 0, 'H': 0, 'Daniel Barber': 0, 'Joby Harold': 0, 'Pawel Pawlikowski': 0, 'Sam Firstenberg': 0, 'John Polson': 0, 'Maurice Joyce': 0, 'David Brooks': 0, 'Michel Hazanavicius': 0, 'Larry Bishop': 0, 'William Sterling': 0, 'Bob Peterson': 0, 'Stephen J': 0, 'Patricia Rozema': 0, 'Darren Grant': 0, 'Anthony Bell': 0, 'Ben Gluck': 0, 'Kevin Tancharoen': 0, 'Lynne Ramsay': 0, 'Keoni Waxman': 0, 'Preston A': 0, 'François Velle': 0, 'Charles E': 0, 'David Webb Peoples': 0, 'Dana Lustig': 0, 'Gabriele Muccino': 0, 'Gillies MacKinnon': 0, 'James DeMonaco': 0, 'Howard Franklin': 0, 'Bill Murray': 0, 'John Poliquin': 0, 'Stephen Chow': 0, 'Justin Kerrigan': 0, 'Graham Baker': 0, 'Michael O': 0, 'Gregory Nava': 0, 'Howard Storm': 0, 'Kimble Rendall': 0, 'Carl Schenkel': 0, 'Jon Poll': 0, 'Mark Herman': 0, 'Tim Fywell': 0, 'Daniel Stamm': 0, 'Rick Famuyiwa': 0, 'Takeshi Kitano': 0, 'Chris Fisher': 0, 'Stuart Beattie': 0, 'Lone Scherfig': 0, 'Andrew Solt': 0, 'Brian Henson': 0, 'Michael Benveniste': 0, 'Howard Ziehm': 0, 'Henry Alex Rubin': 0, 'Howie Askins': 0, 'Justin Zackham': 0, 'Ian Sharp': 0, 'Nick Hamm': 0, 'Shane Acker': 0, 'Wil Shriner': 0, 'Lance Daly': 0, 'Desmond Davis': 0, 'Mark A': 0, 'Daniel Barnz': 0, 'Michael Haussman': 0, 'Nima Nourizadeh': 0, 'Patty Jenkins': 0, 'Deb Hagan': 0, 'Tanner Beard': 0, 'Peter H': 0, 'Eric Karson': 0, 'John Maybury': 0, 'Bonnie Hunt': 0, 'Yurek Bogayevicz': 0, 'Mitch Glazer': 0, 'Chris Stokes': 0, 'Max Giwa': 0, 'Dania Pasquini': 0, 'David Mackenzie': 0, 'Rob Epstein': 0, 'Jeffrey Friedman': 0, 'Jeff Renfroe': 0, 'Tom Green': 0, 'Lena Dunham': 0, 'Gareth Evans': 0, 'Karyn Kusama': 0, 'Kirsten Sheridan': 0, 'Anthony Hemingway': 0, 'Joey Lauren Adams': 0, 'Mark Tonderai': 0, 'Paul Hunter': 0, 'Norm Hunter': 0, 'Matt Orlando': 0, 'Alek Keshishian': 0, 'Bob Saget': 0, 'Bill Paxton': 0, 'Bruce A': 0, 'Tom DiCillo': 0, 'Jon Knautz': 0, 'Phil Traill': 0, 'Rob Thomas': 0, 'Edward Anderson': 0, 'David Hugh Jones': 0, 'Etan Cohen': 0, 'Gary Halvorson': 0, 'David Lowell Rich': 0, 'Udayan Prasad': 0, 'Scott Frank': 0, 'Scott Winant': 0, 'Samuel Fischer': 0, 'Marc Rocco': 0, 'Ash Brannon': 0, 'Steven Seagal': 0, 'Michael Cohn': 0, 'Matthew Warchus': 0, 'Kyle Newman': 0, 'Trevor Nunn': 0, 'Frank Sebastiano': 0, 'Bart Freundlich': 0, 'Marc Webb': 0, 'Michael Anderson': 0, 'Annabel Jankel': 0, 'Rocky Morton': 0, 'Bent Hamer': 0, 'Wallace Wolodarsky': 0, 'Douglas Day Stewart': 0, 'Madonna': 0, 'Ian Fitzgibbon': 0, 'Jamie Uys': 0, 'Luis Valdez': 0, 'Rob Hardy': 0, 'Mark Christopher': 0, 'Scott Kalvert': 0, 'Giorgio Serafini': 0, 'Fred Durst': 0, 'Richard Moore': 0, 'Clive Donner': 0, 'Vic Armstrong': 0, 'George Pavlou': 0, 'Thor Freudenthal': 0, 'Antonio Negret': 0, 'Tom Harper': 0, 'Todd Robinson': 0, 'Michael Sucsy': 0, 'Jim Drake': 0, 'Benh Zeitlin': 0, 'Steven C': 0, 'Jesse Peretz': 0, 'John Byrum': 0, 'Bruce Robinson': 0, 'Tommy Lee Jones': 0, 'Gérard Pirès': 0, 'Blair Hayes': 0, 'Todd Holland': 0, 'Joseph Losey': 0, 'Ric Roman Waugh': 0, 'Warren P': 0, 'Bobcat Goldthwait': 0, 'Miguel Sapochnik': 0, 'Craig Bolotin': 0, 'Sam Taylor': 0, 'Timothy Björklund': 0, 'David Moreton': 0, 'Fred Andrews': 0, 'Barry Battles': 0, 'Francesca Gregorini': 0, 'Jeffrey Blitz': 0, 'Akiva Goldsman': 0, 'Jeffrey Nachmanoff': 0, 'Simon Hunter': 0, 'Lee Toland Krieger': 0, 'Michael W': 0, 'Eric Schaeffer': 0, 'Jack Sholder': 0, 'Ruairi Robinson': 0, 'Scott Speer': 0, 'Elia Kazan': 0, 'Laura Lau': 0, 'Robert Butler': 0, 'Stephen Elliott': 0, 'Greg Beeman': 0, 'Luigi Cozzi': 0, 'Justin Chadwick': 0, 'Josh Schwartz': 0, 'Charles Grosvenor': 0, 'Brett Ryan Bonowicz': 0, 'Zak Penn': 0, 'George Nolfi': 0, 'Marcos Siega': 0, 'Antony Hoffman': 0, 'Eran Creevy': 0, 'Phil Morrison': 0, 'Damiano Damiani': 0, 'Duncan Gibbins': 0, 'Stefen Fangmeier': 0, 'Henry Joost': 0, 'Ariel Schulman': 0, 'Robin Hardy': 0, 'Salim Akil': 0, 'Kenneth Castillo': 0, 'Jerry Zaks': 0, 'David Ayer': 0, 'Heywood Gould': 0, 'Jack Clayton': 0, 'Noel Clarke': 0, 'Mark Davis': 0, 'Tod Williams': 0, 'Michael Chapman': 0, 'Michael Brandt': 0, 'Christopher Landon': 0, 'Benedek Fliegauf': 0, 'Carter Smith': 0, 'Brian Koppelman': 0, 'David Levien': 0, 'Colin Higgins': 0, 'Florian Henckel von Donnersmarck': 0, 'Burny Mattinson': 0, 'David Michener': 0, 'David Moreau': 0, 'Xavier Palud': 0, 'Andrei Tarkovsky': 0, 'Alan Clarke': 0, 'Elissa Down': 0, 'Adam Goldberg': 0, 'Chris Graham': 0, 'Michael Rymer': 0, 'Bryan Bertino': 0, 'Jaco Van Dormael': 0, 'Chris Butler': 0, 'Sam Fell': 0, 'Donna Deitch': 0, 'Darnell Martin': 0, 'James Dodson': 0, 'Cory Edwards': 0, 'Todd Edwards': 0, 'Tony Leech': 0, 'Scott Ziehl': 0, 'Antonia Bird': 0, 'Drew Barrymore': 0, 'Floria Sigismondi': 0, 'Kyle Balda': 0, 'Michael McCullers': 0, 'Gregory Widen': 0, 'Aaron Harvey': 0, 'David Palmer': 0, 'Dax Shepard': 0, 'Moustapha Akkad': 0, 'Nick Murphy': 0, 'Gary Nelson': 0, 'Patricia Riggen': 0, 'Jan Egleson': 0, 'Simon J': 0, 'Chris Shadley': 0, 'Yôjirô Takita': 0, 'Jackie Chan': 0, 'Grant Heslov': 0, 'Andrew V': 0, 'Daniel Attias': 0, 'Steve Conrad': 0, 'Paco Cabezas': 0, 'Manny Coto': 0, 'Patricia Cardoso': 0, 'Albert Brooks': 0, 'Charles Crichton': 0, 'John Cleese': 0, 'Bud S': 0, 'Willard Carroll': 0, 'Gary Sinyor': 0, 'Alex Kurtzman': 0, 'Nick Guthe': 0, 'Rob Hedden': 0, 'Jeremy Leven': 0, 'John Stalberg Jr': 0, 'Josh Radnor': 0, 'Alan Poul': 0, 'George Scribner': 0, 'Larry Peerce': 0, 'David Worth': 0, 'Kevin Asch': 0, 'Billy Crystal': 0, 'Fran Rubel Kuzui': 0, 'Mel City': 0, 'Bronwen Hughes': 0, 'Donald Cammell': 0, 'Mic Rodgers': 0, 'Jesse Holland': 0, 'Andy Mitton': 0, 'Gene Quintano': 0, 'Samuel Bayer': 0, 'John Hough': 0, 'Andrew Erwin': 0, 'Jon Erwin': 0, 'Pat Kelman': 0, 'Delbert Mann': 0, 'Tonino Valerii': 0, 'Kerry Conran': 0, 'Ice Cube': 0, 'Debra Granik': 0, 'Brandon Cronenberg': 0, 'Stuart Murdoch': 0, 'François Ozon': 0, 'Francis Veber': 0, 'Adrienne Shelly': 0, 'Ned Farr': 0, 'Jerry Paris': 0, 'George C': 0, 'Howard McCain': 0, 'Simon Fellows': 0, 'Jieho Lee': 0, 'Lucio Fulci': 0, 'Allan Arkush': 0, 'Jonas Åkerlund': 0, 'Christopher Crowe': 0, 'Richard Shepard': 0, 'Peter Howitt': 0, 'Louis Morneau': 0, 'Robert Stevenhagen': 0, 'Kari Skogland': 0, 'Jonas McCord': 0, 'Mitch Davis': 0, 'Billy Kent': 0, 'Liliana Cavani': 0, 'David Price': 0, 'Joel Viertel': 0, 'Xavier Koller': 0, 'James Bolton': 0, 'Morgan O': 0, 'Lauren Lazin': 0, 'Bharat Nalluri': 0, 'Robert Townsend': 0, 'Mitchell Altieri': 0, 'Phil Flores': 0, 'Joel Gallen': 0, 'Dan Gildark': 0, 'John Herzfeld': 0, 'Matthew Bright': 0, 'Emily Young': 0, 'Matthew Hope': 0, 'Theodore Witcher': 0, 'Tom Elkins': 0, 'Eric Bress': 0, 'Brian G': 0, 'Daniel Algrant': 0, 'Gregory Plotkin': 0, 'Richard Pryor': 0, 'Robert Taylor': 0, 'Miranda July': 0, 'Seth Grossman': 0, 'Bill Boyce': 0, 'John Stronach': 0, 'Youssef Delara': 0, 'Michael D': 0, 'James Yukich': 0, 'John Bonito': 0, 'Bryan Barber': 0, 'Tim McCanlies': 0, 'Igor Kovalyov': 0, 'Brendan Malloy': 0, 'Emmett Malloy': 0, 'Scott Sanders': 0, 'Dominic Burns': 0, 'Rupert Wyatt': 0, 'Nils Gaup': 0, 'Shana Feste': 0, 'Michael Dougherty': 0, 'Drew Daywalt': 0, 'David Schneider': 0, 'Meir Zarchi': 0, 'Katherine Brooks': 0, 'Rob McKittrick': 0, 'Randall Wallace': 0, 'Alison Maclean': 0, 'Mark Mylod': 0, 'Mike Cahill': 0, 'Tomm Moore': 0, 'Nora Twomey': 0, 'Rick Friedberg': 0, 'John Flynn': 0, 'Saul Dibb': 0, 'Kevin Carraway': 0, 'Douglas Aarniokoski': 0, 'Thomas K': 0, 'Marc Levin': 0, 'RZA': 0, 'Robert Adetuyi': 0, 'Lee Harry': 0, 'Gavin Millar': 0, 'Pat O': 0, 'Steve Shill': 0, 'Paul Golding': 0, 'Robert Crombie': 0, 'Sofya Skya': 0, 'Fernando Meirelles': 0, 'Quentin Dupieux': 0, 'Lance Rivera': 0, 'Jennifer Yuh Nelson': 0, 'Timo Vuorensola': 0, 'Christopher Leitch': 0, 'Shuki Levy': 0, 'David Winning': 0, 'Michael Clancy': 0, 'Daniel Petrie Jr': 0, 'Lewis Gilbert': 0, 'Paul Dinello': 0, 'Brian Clemens': 0, 'Bruce Campbell': 0, 'Richard W': 0, 'Emir Kusturica': 0, 'Michael Dinner': 0, 'Chris Roberts': 0, 'Nicolas Gessner': 0, 'Tom Laughlin': 0, 'Armando Iannucci': 0, 'Paul Miller': 0, 'Kinka Usher': 0, 'Tom DeSimone': 0, 'Alfonso Arau': 0, 'Roberts Gannaway': 0, 'Peggy Holmes': 0, 'Barbara Kopple': 0, 'Adrian Grunberg': 0, 'Chris Sanders': 0, 'Eric Bross': 0, 'Fons Rademakers': 0, 'Mamoru Hosoda': 0, 'Shigeyasu Yamauchi': 0, 'Keith Parmer': 0, 'Tommy Wirkola': 0, 'Jim Sonzero': 0, 'Dan Cutforth': 0, 'Jane Lipsitz': 0, 'Greg Coolidge': 0, 'Giuseppe Tornatore': 0, 'Tibor Takács': 0, 'Dean DeBlois': 0, 'Ralph Nelson': 0, 'Jake Paltrow': 0, 'Susanna White': 0, 'Wayne Thornley': 0, 'Greg Marcks': 0, 'Juan Solanas': 0, 'David DeCoteau': 0, 'Tom Schulman': 0, 'Mike Bigelow': 0, 'Chris Eyre': 0, 'Lee David Zlotoff': 0, 'Edward Norton': 0, 'Sue Brooks': 0, 'Tim Chambers': 0, 'Dustin Hoffman': 0, 'Chris Rock': 0, 'Wych Kaosayananda': 0, 'Ben Stassen': 0, 'Mimi Maynard': 0, 'Stevan Mena': 0, 'Zach Cregger': 0, 'Trevor Moore': 0, 'David Miller': 0, 'Tom Savini': 0, 'Kaige Chen': 0, 'Stig Svendsen': 0, 'Ray Lawrence': 0, 'Nelson Shin': 0, 'David Lean': 0, 'Charlton Heston': 0, 'Patrick Hasburgh': 0, 'Michael Patrick King': 0, 'Frank Perry': 0, 'Hany Abu': 0, 'Michael Almereyda': 0, 'Louis Malle': 0, 'Richard Lowenstein': 0, 'Tate Taylor': 0, 'Alonso Mayo': 0, 'Justin Price': 0, 'Adam Rapp': 0, 'Patrick Gilmore': 0, 'Dan Reed': 0, 'Demian Lichtenstein': 0, 'John Gray': 0, 'Brett Simon': 0, 'Thomas Vinterberg': 0, 'Gordon Chan': 0, 'José Padilha': 0, 'William Dear': 0, 'Richard Kwietniowski': 0, 'Martin Donovan': 0, 'Courtney Hunt': 0, 'Olivier Dahan': 0, 'Ciarán Foy': 0, 'Kat Coiro': 0, 'John Lounsbery': 0, 'Robert Heath': 0, 'Daniel Petrie': 0, 'Ed Decter': 0, 'Simon Moore': 0, 'Dermot Mulroney': 0, 'Norberto Barba': 0, 'Roger Nygard': 0, 'Carlo Carlei': 0, 'Salvador Litvak': 0, 'Daniel Sackheim': 0, 'Henry Bean': 0, 'Sylvio Tabet': 0, 'Olivier Nakache': 0, 'Éric Toledano': 0, 'Darren Stein': 0, 'Brian Crano': 0, 'Robert Lorenz': 0, 'John Ottman': 0, 'Andrew Sipes': 0, 'John Fortenberry': 0, 'Philip Saville': 0, 'Nae Caranfil': 0}\n"
     ]
    }
   ],
   "source": [
    "director_count = {}\n",
    "director_sum = {}\n",
    "for row in data_imdb_rating:\n",
    "    if row['directors'][0]:        \n",
    "        for g in row['directors']:            \n",
    "            director_sum.update({g:0})\n",
    "            director_count.update({g:0})\n",
    "print(director_count)\n",
    "print(director_sum)"
   ]
  },
  {
   "cell_type": "code",
   "execution_count": 77,
   "metadata": {
    "collapsed": true,
    "hidden": true
   },
   "outputs": [],
   "source": [
    "for row in data_imdb_rating:\n",
    "    if row['directors'] and row['imdb_rating'][0]:        \n",
    "        for g in row['directors'] :\n",
    "            director_sum[g] += row['imdb_rating'][0]\n",
    "            director_count[g] += 1\n",
    "director_mean = {}\n",
    "for k, v in director_sum.items():\n",
    "    director_mean.update({k:round(v/director_count[k], 2)})"
   ]
  },
  {
   "cell_type": "code",
   "execution_count": 80,
   "metadata": {
    "hidden": true
   },
   "outputs": [
    {
     "data": {
      "text/plain": [
       "{'Barbra Streisand': 3,\n",
       " 'Anthony Burns': 1,\n",
       " 'Jim Henson': 2,\n",
       " 'Joel Anderson': 1,\n",
       " 'David Cronenberg': 17,\n",
       " 'Phillip Noyce': 10,\n",
       " 'Jon Hurwitz': 2,\n",
       " 'Hayden Schlossberg': 2,\n",
       " 'Atom Egoyan': 4,\n",
       " 'Allan A': 2,\n",
       " 'Ronald Neame': 2,\n",
       " 'David Yates': 4,\n",
       " 'Rod Lurie': 5,\n",
       " 'Francis Ford Coppola': 13,\n",
       " 'Eric Valette': 1,\n",
       " 'Greg Berlanti': 2,\n",
       " 'Frank Oz': 9,\n",
       " 'Stephen Frears': 10,\n",
       " 'Sylvain White': 2,\n",
       " 'Stephen Hopkins': 7,\n",
       " 'Robert Aldrich': 6,\n",
       " 'Guy Jenkin': 1,\n",
       " 'Terry Zwigoff': 2,\n",
       " 'Michael Tuchner': 1,\n",
       " 'John Badham': 5,\n",
       " 'Paul Weiland': 3,\n",
       " 'John Mackenzie': 2,\n",
       " 'John Gatins': 1,\n",
       " 'Luke Greenfield': 3,\n",
       " 'mink': 1,\n",
       " 'John Dahl': 8,\n",
       " 'Chris Noonan': 2,\n",
       " 'Sidney Poitier': 3,\n",
       " 'Ethan Coen': 16,\n",
       " 'Joel Coen': 16,\n",
       " 'Mark Illsley': 2,\n",
       " 'John Landis': 16,\n",
       " 'Bob Clark': 10,\n",
       " 'Gregory Mackenzie': 1,\n",
       " 'George Clooney': 4,\n",
       " 'Clint Eastwood': 29,\n",
       " 'Adam Shankman': 8,\n",
       " 'Hall Bartlett': 1,\n",
       " 'Steven Feder': 1,\n",
       " 'Jay Roach': 7,\n",
       " 'Lou Adler': 1,\n",
       " 'Tommy Chong': 1,\n",
       " 'Roger Spottiswoode': 11,\n",
       " 'Buzz Kulik': 2,\n",
       " 'Sarah Smith': 1,\n",
       " 'Barry Cook': 2,\n",
       " 'Gabor Csupo': 2,\n",
       " 'Betty Thomas': 7,\n",
       " 'Adam Elliot': 1,\n",
       " 'D': 7,\n",
       " 'Hugh Wilson': 5,\n",
       " 'Elizabeth Banks': 2,\n",
       " 'Chuck Russell': 5,\n",
       " 'Hadi Hajaig': 1,\n",
       " 'John Huston': 3,\n",
       " 'Howard Deutch': 7,\n",
       " 'Patrick Lussier': 4,\n",
       " 'Clare Kilner': 3,\n",
       " 'John Gulager': 2,\n",
       " 'Len Wiseman': 4,\n",
       " 'Martin Gero': 1,\n",
       " 'Tyler Perry': 8,\n",
       " 'Danis Tanovic': 1,\n",
       " 'Tony Randel': 3,\n",
       " 'Robert Iscove': 3,\n",
       " 'Taylor Hackford': 9,\n",
       " 'Ingmar Bergman': 1,\n",
       " 'John Singleton': 8,\n",
       " 'Julie Delpy': 2,\n",
       " 'Brad Bird': 5,\n",
       " 'Jan Pinkava': 1,\n",
       " 'Andrew Davis': 11,\n",
       " 'Terry Gilliam': 12,\n",
       " 'Terry Jones': 3,\n",
       " 'Rob Cohen': 9,\n",
       " 'Christopher Nolan': 9,\n",
       " 'Robert Benton': 6,\n",
       " 'Alan Parker': 10,\n",
       " 'Peter Jackson': 11,\n",
       " 'Dwight H': 5,\n",
       " 'Leslye Headland': 1,\n",
       " 'Marshall Brickman': 2,\n",
       " 'Woody Allen': 37,\n",
       " 'John Woo': 7,\n",
       " 'John Sayles': 9,\n",
       " 'Sam O': 1,\n",
       " 'Gary Hardwick': 1,\n",
       " 'Richard Linklater': 11,\n",
       " 'Walter Hill': 17,\n",
       " 'John Schultz': 5,\n",
       " 'Dean Parisot': 4,\n",
       " 'Robert Altman': 14,\n",
       " 'Martin Brest': 5,\n",
       " 'Renny Harlin': 17,\n",
       " 'Jordan Downey': 1,\n",
       " 'E': 1,\n",
       " 'Carroll Ballard': 3,\n",
       " 'Craig R': 3,\n",
       " 'Ron Howard': 22,\n",
       " 'Andrew Adamson': 4,\n",
       " 'Vicky Jenson': 3,\n",
       " 'Trygve Allister Diesen': 1,\n",
       " 'Lucky McKee': 3,\n",
       " 'Guillermo del Toro': 7,\n",
       " 'Julian Gilbey': 2,\n",
       " 'Jimmy Hayward': 2,\n",
       " 'Steve Martino': 3,\n",
       " 'Roman Polanski': 11,\n",
       " 'Niall Johnson': 1,\n",
       " 'Malcolm D': 4,\n",
       " 'Blake Edwards': 9,\n",
       " 'David Hackl': 1,\n",
       " 'Sally Potter': 2,\n",
       " 'Ronny Yu': 4,\n",
       " 'Jonathan Hensleigh': 2,\n",
       " 'Nick Gomez': 2,\n",
       " 'Lars von Trier': 6,\n",
       " 'Tim Burton': 17,\n",
       " 'Alec Baldwin': 1,\n",
       " 'Kevin Hooks': 2,\n",
       " 'Marco Brambilla': 2,\n",
       " 'Malcolm Leo': 3,\n",
       " 'Roger Corman': 1,\n",
       " 'Michael Coldewey': 1,\n",
       " 'Michel Lemire': 1,\n",
       " 'Luis Prieto': 1,\n",
       " 'Roberto Benigni': 2,\n",
       " 'Tom Holland': 4,\n",
       " 'Adam McKay': 5,\n",
       " 'Paul Greengrass': 5,\n",
       " 'Joe Johnston': 9,\n",
       " 'Joe Carnahan': 4,\n",
       " 'Chris Gorak': 1,\n",
       " 'Hal Ashby': 3,\n",
       " 'Tony Cinciripini': 1,\n",
       " 'Christopher Cain': 4,\n",
       " 'Luc Besson': 7,\n",
       " 'Cameron Crowe': 6,\n",
       " 'Lawrence Kasdan': 4,\n",
       " 'Stuart Gordon': 8,\n",
       " 'Tim Heidecker': 1,\n",
       " 'Eric Wareheim': 1,\n",
       " 'Danny Boyle': 10,\n",
       " 'Jeremy Kagan': 2,\n",
       " 'Irvin Kershner': 5,\n",
       " 'Pedro Almodóvar': 1,\n",
       " 'Mike Judge': 3,\n",
       " 'Mike de Seve': 1,\n",
       " 'Brian Mulroney': 1,\n",
       " 'Yvette Kaplan': 1,\n",
       " 'Marcel Langenegger': 1,\n",
       " 'John McTiernan': 10,\n",
       " 'Jonathan Kaplan': 7,\n",
       " 'Prachya Pinkaew': 2,\n",
       " 'Jack Hill': 2,\n",
       " 'Mike Clattenburg': 2,\n",
       " 'Darren Aronofsky': 6,\n",
       " 'Phil Karlson': 1,\n",
       " 'Andrew Wilson': 1,\n",
       " 'Luke Wilson': 1,\n",
       " 'Robert Rodriguez': 14,\n",
       " 'Fred Schepisi': 8,\n",
       " 'Paul Verhoeven': 7,\n",
       " 'Garry Marshall': 13,\n",
       " 'James Foley': 7,\n",
       " 'Joel Schumacher': 17,\n",
       " 'Neil LaBute': 8,\n",
       " 'Jon Turteltaub': 9,\n",
       " 'Jason Bloom': 1,\n",
       " 'Robert Wise': 2,\n",
       " 'Simon West': 7,\n",
       " 'Andrew Fleming': 6,\n",
       " 'Richard Attenborough': 7,\n",
       " 'Peter Hedges': 3,\n",
       " 'Rob Reiner': 15,\n",
       " 'Nick Cassavetes': 4,\n",
       " 'Franc': 2,\n",
       " 'Mark Rydell': 4,\n",
       " 'Martyn Burke': 1,\n",
       " 'Fred Savage': 1,\n",
       " 'Jim Sheridan': 5,\n",
       " 'John Stockwell': 5,\n",
       " 'Scott Wheeler': 1,\n",
       " 'Don Bluth': 8,\n",
       " 'Ken Loach': 1,\n",
       " 'Kirk Wong': 1,\n",
       " 'Tamra Davis': 3,\n",
       " 'Don McKellar': 1,\n",
       " 'James Melkonian': 1,\n",
       " 'Quentin Tarantino': 10,\n",
       " 'Joe Wright': 5,\n",
       " 'Paul Mazursky': 7,\n",
       " 'Steve Beck': 2,\n",
       " 'Kevin Rodney Sullivan': 3,\n",
       " 'Simon Curtis': 1,\n",
       " 'Kenny Ortega': 4,\n",
       " 'Mario Van Peebles': 3,\n",
       " 'Joseph Kahn': 2,\n",
       " 'Menahem Golan': 3,\n",
       " 'Francis Lawrence': 4,\n",
       " 'Steven Soderbergh': 20,\n",
       " 'Mark Steven Johnson': 4,\n",
       " 'Andrzej Bartkowiak': 5,\n",
       " 'James L': 5,\n",
       " 'Michael Bay': 10,\n",
       " 'Robert Zemeckis': 16,\n",
       " 'Billy Ray': 1,\n",
       " 'Gabe Torres': 1,\n",
       " 'Spike Lee': 18,\n",
       " 'Sam Mendes': 7,\n",
       " 'Carlos Saldanha': 6,\n",
       " 'Richard Benjamin': 8,\n",
       " 'Lodge Kerrigan': 1,\n",
       " 'Baltasar Kormákur': 4,\n",
       " 'Ruben Fleischer': 3,\n",
       " 'Robert Longo': 1,\n",
       " 'Susanne Bier': 3,\n",
       " 'DJ Pooh': 2,\n",
       " 'Herbert Ross': 5,\n",
       " 'Tim Hill': 4,\n",
       " 'Andrew Stanton': 4,\n",
       " 'Mark Tarlov': 1,\n",
       " 'Tom Kalin': 1,\n",
       " 'Richard Rich': 4,\n",
       " 'Walt Becker': 3,\n",
       " 'Greg Mottola': 2,\n",
       " 'David Mirkin': 1,\n",
       " 'Geoffrey Wright': 1,\n",
       " 'Jaume Balagueró': 2,\n",
       " 'Hans Canosa': 1,\n",
       " 'Steven Spielberg': 29,\n",
       " 'Philipp Stölzl': 1,\n",
       " 'Enki Bilal': 1,\n",
       " 'John Carpenter': 17,\n",
       " 'Doug Liman': 6,\n",
       " 'Hugh Hudson': 4,\n",
       " 'George Schaefer': 1,\n",
       " 'Peter Sohn': 1,\n",
       " 'Bradley Kaplan': 1,\n",
       " 'Tony Scott': 14,\n",
       " 'Jonathan Frakes': 4,\n",
       " 'Ridley Scott': 19,\n",
       " 'Georges Lautner': 1,\n",
       " 'Mike Mitchell': 5,\n",
       " 'Garth Jennings': 2,\n",
       " 'Evan Goldberg': 2,\n",
       " 'Seth Rogen': 2,\n",
       " 'Gregg Champion': 1,\n",
       " 'Sydney Pollack': 8,\n",
       " 'Albert Hughes': 4,\n",
       " 'Allen Hughes': 6,\n",
       " 'Amy Heckerling': 8,\n",
       " 'Steven Knight': 1,\n",
       " 'Roger Donaldson': 11,\n",
       " 'Marc F': 1,\n",
       " 'Bam Margera': 1,\n",
       " 'Alan J': 6,\n",
       " 'Peter Bogdanovich': 9,\n",
       " 'Tony Goldwyn': 4,\n",
       " 'Mira Nair': 6,\n",
       " 'Stephen Herek': 10,\n",
       " 'Richard Baskin': 1,\n",
       " 'Ron Underwood': 4,\n",
       " 'Gordon Hessler': 1,\n",
       " 'Jessica Sharzer': 1,\n",
       " 'Ricky Gervais': 1,\n",
       " 'Matthew Robinson': 1,\n",
       " 'Phil Alden Robinson': 2,\n",
       " 'Stephen Norrington': 2,\n",
       " 'Barry Levinson': 17,\n",
       " 'Matthew O': 1,\n",
       " 'Baz Luhrmann': 5,\n",
       " 'Joseph Sargent': 4,\n",
       " 'J': 24,\n",
       " 'Joe Camp': 1,\n",
       " 'Peter MacDonald': 4,\n",
       " 'John Carl Buechler': 2,\n",
       " 'Robin Budd': 1,\n",
       " 'Donovan Cook': 1,\n",
       " 'Frederik Du Chau': 2,\n",
       " 'Sara Sugarman': 1,\n",
       " 'Peter Farrelly': 11,\n",
       " 'Bobby Farrelly': 10,\n",
       " 'Cess Silvera': 1,\n",
       " 'Jennifer Westfeldt': 1,\n",
       " 'John McNaughton': 2,\n",
       " 'Craig McCall': 1,\n",
       " 'Fatih Akin': 1,\n",
       " 'Yvan Attal': 1,\n",
       " 'Randall Balsmeyer': 1,\n",
       " 'Shunji Iwai': 1,\n",
       " 'Wen Jiang': 1,\n",
       " 'Shekhar Kapur': 4,\n",
       " 'Joshua Marston': 1,\n",
       " 'Natalie Portman': 1,\n",
       " 'Brett Ratner': 12,\n",
       " 'Robert Redford': 8,\n",
       " 'Efram Potelle': 1,\n",
       " 'Kyle Rankin': 1,\n",
       " 'Don Roos': 2,\n",
       " 'John Cornell': 2,\n",
       " 'Damon Santostefano': 1,\n",
       " 'Scott Cooper': 1,\n",
       " 'Stephen Daldry': 4,\n",
       " 'Daniel Alfredson': 2,\n",
       " 'Andy Cheng': 2,\n",
       " 'Richard Brooks': 2,\n",
       " 'David Michôd': 1,\n",
       " 'Wayne Blair': 1,\n",
       " 'Frank Coraci': 6,\n",
       " 'John Hillcoat': 3,\n",
       " 'Craig Brewer': 3,\n",
       " 'Victor Salva': 5,\n",
       " 'Jake Kasdan': 4,\n",
       " 'George Miller': 10,\n",
       " 'Gary Eck': 1,\n",
       " 'David Peers': 1,\n",
       " 'Stewart Raffill': 5,\n",
       " 'Larry Charles': 3,\n",
       " 'Bryan Spicer': 3,\n",
       " 'Mel Brooks': 9,\n",
       " 'Jeremy Haft': 1,\n",
       " 'Andrea Arnold': 1,\n",
       " 'John Waters': 6,\n",
       " 'John Pasquin': 4,\n",
       " 'Keenen Ivory Wayans': 6,\n",
       " 'Mike Birbiglia': 1,\n",
       " 'Seth Barrish': 1,\n",
       " 'John Boorman': 6,\n",
       " 'Christian E': 1,\n",
       " 'Stephen Gaghan': 2,\n",
       " 'Ole Bornedal': 2,\n",
       " 'Nick Moore': 1,\n",
       " 'Andy Cadiff': 2,\n",
       " 'Martin Campbell': 9,\n",
       " 'Harley Cokeliss': 1,\n",
       " 'James Cox': 2,\n",
       " 'Charles Martin Smith': 2,\n",
       " 'Bob Dolman': 1,\n",
       " 'Brian De Palma': 21,\n",
       " 'Hugh Johnson': 1,\n",
       " 'Edward Zwick': 8,\n",
       " 'Stephen Deutsch': 1,\n",
       " 'David Jacobson': 2,\n",
       " 'Kyung Ho Lee': 1,\n",
       " 'Roger Young': 1,\n",
       " 'Trey Parker': 4,\n",
       " 'Niki Caro': 2,\n",
       " 'Alexandre Aja': 4,\n",
       " 'Robert Kurtzman': 1,\n",
       " 'Wes Craven': 18,\n",
       " 'Christopher McQuarrie': 3,\n",
       " 'Tomas Alfredson': 2,\n",
       " 'Cal Brunker': 1,\n",
       " 'Pascal Laugier': 1,\n",
       " 'Anton Corbijn': 3,\n",
       " 'Christopher Smith': 2,\n",
       " 'John Nicolella': 1,\n",
       " 'James B': 2,\n",
       " 'M': 12,\n",
       " 'Matthew Chapman': 1,\n",
       " 'William Brent Bell': 2,\n",
       " 'David S': 7,\n",
       " 'Bob Rafelson': 6,\n",
       " 'Samuel Fuller': 2,\n",
       " 'Glenn Ficarra': 3,\n",
       " 'John Requa': 3,\n",
       " 'Steve Boyum': 2,\n",
       " 'Richard Donner': 15,\n",
       " 'Stuart Rosenberg': 5,\n",
       " 'Elizabeth Allen Rosenbaum': 3,\n",
       " 'Isabel Coixet': 3,\n",
       " 'David R': 6,\n",
       " 'Bruce McDonald': 2,\n",
       " 'Robert Hiltzik': 1,\n",
       " 'Aleksander Bach': 1,\n",
       " 'Gurinder Chadha': 2,\n",
       " 'Jerry Zucker': 5,\n",
       " 'Luis Mandoki': 2,\n",
       " 'Gillian Armstrong': 5,\n",
       " 'James Gray': 4,\n",
       " 'Neil Abramson': 1,\n",
       " 'William Malone': 3,\n",
       " 'Harry Elfont': 2,\n",
       " 'Deborah Kaplan': 2,\n",
       " 'Anthony Russo': 2,\n",
       " 'Joe Russo': 2,\n",
       " 'Marc Forster': 7,\n",
       " 'Michael Radford': 4,\n",
       " 'Ivan Reitman': 14,\n",
       " 'Richard Kelly': 2,\n",
       " 'Anthony Minghella': 4,\n",
       " 'John Guillermin': 5,\n",
       " 'William Kaufman': 2,\n",
       " 'Paul Thomas Anderson': 7,\n",
       " 'Martha Coolidge': 5,\n",
       " 'James Goldstone': 2,\n",
       " 'Richard Fleischer': 5,\n",
       " 'James Cameron': 8,\n",
       " 'Barry Sonnenfeld': 10,\n",
       " 'John Curran': 3,\n",
       " 'Michael Apted': 11,\n",
       " 'Vincent McEveety': 1,\n",
       " 'Corey Yuen': 2,\n",
       " 'Ti West': 2,\n",
       " 'Wim Wenders': 4,\n",
       " 'Justin Lin': 6,\n",
       " 'Donald Petrie': 7,\n",
       " 'Hideo Nakata': 1,\n",
       " 'Buddy Giovinazzo': 1,\n",
       " 'Quentin Masters': 1,\n",
       " 'Joe Charbanic': 1,\n",
       " 'Rupert Wainwright': 2,\n",
       " 'Tobe Hooper': 6,\n",
       " 'Jim Mickle': 1,\n",
       " 'Alan Rudolph': 4,\n",
       " 'Tarsem Singh': 4,\n",
       " 'Gary Goldman': 6,\n",
       " 'Don Sharp': 1,\n",
       " 'Paul Schrader': 6,\n",
       " 'Jane Campion': 3,\n",
       " 'John Duigan': 2,\n",
       " 'Ken Kwapis': 6,\n",
       " 'Kevin Lima': 2,\n",
       " 'Richard Greenberg': 1,\n",
       " 'Dick Richards': 3,\n",
       " 'Jerry Jameson': 2,\n",
       " 'Adrian Lyne': 7,\n",
       " 'Kurt Wimmer': 2,\n",
       " 'Sean Penn': 4,\n",
       " 'Eli Roth': 5,\n",
       " 'Gary Ross': 3,\n",
       " 'Anne Fletcher': 5,\n",
       " 'William Friedkin': 9,\n",
       " 'Guy Ritchie': 6,\n",
       " 'Jamie Babbit': 3,\n",
       " 'Glenn Gordon Caron': 2,\n",
       " 'Steve Carr': 6,\n",
       " 'Sean Anders': 2,\n",
       " 'Måns Mårlind': 2,\n",
       " 'Björn Stein': 2,\n",
       " 'Tom Shadyac': 7,\n",
       " 'Takashi Shimizu': 2,\n",
       " 'Tim Blake Nelson': 3,\n",
       " 'Bernardo Bertolucci': 4,\n",
       " 'Ben Stiller': 5,\n",
       " 'J Blakeson': 1,\n",
       " 'Craig Mazin': 2,\n",
       " 'Mark Neveldine': 4,\n",
       " 'Brian Taylor': 4,\n",
       " 'Louis Leterrier': 6,\n",
       " 'Nick Vallelonga': 1,\n",
       " 'Sofia Coppola': 5,\n",
       " 'Albert Pyun': 4,\n",
       " 'Douglas McGrath': 4,\n",
       " 'Ryan Gosling': 1,\n",
       " 'Warren Coleman': 1,\n",
       " 'Judy Morris': 1,\n",
       " 'Andy Tennant': 6,\n",
       " 'Harald Zwart': 5,\n",
       " 'Michael Haigney': 3,\n",
       " 'Kunihiko Yuyama': 4,\n",
       " 'Ben Affleck': 3,\n",
       " 'Howard Avedis': 1,\n",
       " 'Todd Phillips': 8,\n",
       " 'Mike Johnson': 1,\n",
       " 'Oren Moverman': 2,\n",
       " 'Paul McGuigan': 4,\n",
       " 'John Whitesell': 5,\n",
       " 'Raja Gosnell': 8,\n",
       " 'George Armitage': 1,\n",
       " 'Patricia Birch': 1,\n",
       " 'Steve Pink': 3,\n",
       " 'Don Coscarelli': 5,\n",
       " 'Brad Anderson': 6,\n",
       " 'Scott Walker': 1,\n",
       " 'Agnieszka Holland': 2,\n",
       " 'James Mangold': 8,\n",
       " 'Jonathan Kasdan': 2,\n",
       " 'Brandon Camp': 1,\n",
       " 'Hal Needham': 6,\n",
       " 'Richard Lester': 4,\n",
       " 'Dennis Lee': 1,\n",
       " 'Jonathan Demme': 7,\n",
       " 'Bradley Parker': 1,\n",
       " 'Shawn Levy': 9,\n",
       " 'Colin Strause': 2,\n",
       " 'Greg Strause': 2,\n",
       " 'John Lafia': 2,\n",
       " 'Alexander Witt': 1,\n",
       " 'Zoe R': 1,\n",
       " 'Tom Hooper': 3,\n",
       " 'Emilio Estevez': 1,\n",
       " 'Jim Jarmusch': 5,\n",
       " 'Tony Richardson': 3,\n",
       " 'Brian Hecker': 1,\n",
       " 'Gareth Edwards': 2,\n",
       " 'Hayao Miyazaki': 3,\n",
       " 'Richard Eyre': 3,\n",
       " 'George Kaczender': 1,\n",
       " 'Werner Herzog': 5,\n",
       " 'Kevin Greutert': 2,\n",
       " 'Mike Leigh': 6,\n",
       " 'Michael Cuesta': 1,\n",
       " 'Bruce Hendricks': 1,\n",
       " 'George Tillman Jr': 4,\n",
       " 'Gregory Poirier': 1,\n",
       " 'Russell Mulcahy': 5,\n",
       " 'Kevin Smith': 10,\n",
       " 'Jim Wynorski': 3,\n",
       " 'Andrew Mogel': 1,\n",
       " 'Jarrad Paul': 1,\n",
       " 'Fenton Bailey': 1,\n",
       " 'Randy Barbato': 1,\n",
       " 'Richard C': 1,\n",
       " 'Eduardo Sánchez': 3,\n",
       " 'Lewis Teague': 5,\n",
       " 'Matthew Vaughn': 5,\n",
       " 'Oliver Stone': 17,\n",
       " 'Dennis Dugan': 11,\n",
       " 'Reginald Hudlin': 3,\n",
       " 'Don Taylor': 3,\n",
       " 'Mike Hodges': 3,\n",
       " 'Roland Joffé': 9,\n",
       " 'Paul Feig': 3,\n",
       " 'Brad Silberling': 5,\n",
       " 'Jeremy Podeswa': 1,\n",
       " 'József Gémes': 1,\n",
       " 'Jan Troell': 1,\n",
       " 'Milos Forman': 7,\n",
       " 'John Putch': 1,\n",
       " 'Kevin Reynolds': 5,\n",
       " 'Alex Proyas': 4,\n",
       " 'Tuck Tucker': 1,\n",
       " 'Roland Emmerich': 11,\n",
       " 'Jason Todd Ipson': 1,\n",
       " 'Marcus Nispel': 4,\n",
       " 'Ron Shelton': 5,\n",
       " 'Joseph Zito': 3,\n",
       " 'Uwe Boll': 8,\n",
       " 'Brian Robbins': 9,\n",
       " 'Mike Marvin': 1,\n",
       " 'Richard LaGravenese': 4,\n",
       " 'Kirk Douglas': 1,\n",
       " 'Penny Marshall': 5,\n",
       " 'P': 3,\n",
       " 'Fred Dekker': 3,\n",
       " 'Jon Amiel': 5,\n",
       " 'Sam Raimi': 13,\n",
       " 'Willard Huyck': 2,\n",
       " 'Martin Davidson': 1,\n",
       " 'Stephen Verona': 1,\n",
       " 'James Wan': 6,\n",
       " 'David Koepp': 4,\n",
       " 'Gus Van Sant': 14,\n",
       " 'Brian A': 1,\n",
       " 'Rebecca Miller': 1,\n",
       " 'Nick Hurran': 3,\n",
       " 'Paul W': 9,\n",
       " 'Thom Eberhardt': 3,\n",
       " 'Ryan Fleck': 2,\n",
       " 'Danny Cannon': 4,\n",
       " 'Rowdy Herrington': 3,\n",
       " 'Mark Andrews': 1,\n",
       " 'Brenda Chapman': 2,\n",
       " 'Steve Purcell': 1,\n",
       " 'John Moore': 5,\n",
       " 'Danny Leiner': 2,\n",
       " 'John R': 4,\n",
       " 'Dave McKean': 1,\n",
       " 'Jon M': 3,\n",
       " 'Frank Miller': 2,\n",
       " 'Christina Wayne': 1,\n",
       " 'Tom McGrath': 4,\n",
       " 'Ernie Barbarash': 2,\n",
       " 'Antoine Fuqua': 10,\n",
       " 'Sharon Maguire': 2,\n",
       " 'Neil Jordan': 11,\n",
       " 'Irwin Allen': 1,\n",
       " 'Philip G': 1,\n",
       " 'Martin Weisz': 1,\n",
       " 'Jerry Kramer': 1,\n",
       " 'Colin Chilvers': 1,\n",
       " 'Francine McDougall': 1,\n",
       " 'Perry Andelin Blake': 1,\n",
       " 'Richard Pearce': 1,\n",
       " 'Will Canon': 1,\n",
       " 'Michael Caton': 5,\n",
       " 'Yves Simoneau': 2,\n",
       " 'Sidney J': 3,\n",
       " 'Peter Yates': 5,\n",
       " 'Ben Ramsey': 1,\n",
       " 'Andy Muschietti': 1,\n",
       " 'Stan Winston': 1,\n",
       " 'Kevin Macdonald': 2,\n",
       " 'Allan Moyle': 1,\n",
       " 'George Mihalka': 1,\n",
       " 'Michael Schultz': 5,\n",
       " 'Mathieu Kassovitz': 2,\n",
       " 'Vincent Ward': 1,\n",
       " 'Sean McNamara': 3,\n",
       " 'Frank Longo': 1,\n",
       " 'Steven Shainberg': 2,\n",
       " 'Jamie Travis': 1,\n",
       " 'Michael Cimino': 5,\n",
       " 'Stanley Kramer': 1,\n",
       " 'David Zucker': 8,\n",
       " 'Billy Wilder': 3,\n",
       " 'Daryl Duke': 2,\n",
       " 'Eric Styles': 1,\n",
       " 'Josh Gordon': 2,\n",
       " 'Will Speck': 2,\n",
       " 'Marcus Raboy': 1,\n",
       " 'Alexander Payne': 5,\n",
       " 'Michael Ritchie': 8,\n",
       " 'Jon Favreau': 6,\n",
       " 'Jason Reitman': 5,\n",
       " 'Menno Meyjes': 3,\n",
       " 'Howard Zieff': 4,\n",
       " 'Pete Docter': 2,\n",
       " 'David Silverman': 2,\n",
       " 'Lee Unkrich': 4,\n",
       " 'Florent': 1,\n",
       " 'John Frankenheimer': 7,\n",
       " 'Pete Jones': 1,\n",
       " 'John Fawcett': 2,\n",
       " 'Richard Loncraine': 4,\n",
       " 'Lawrence Guterman': 2,\n",
       " 'Ruggero Deodato': 2,\n",
       " 'Kenneth Branagh': 9,\n",
       " 'Henry Selick': 4,\n",
       " 'Peter Sollett': 2,\n",
       " 'Michael Moore': 3,\n",
       " 'Elaine May': 2,\n",
       " 'Kevin Bray': 2,\n",
       " 'Kent Alterman': 1,\n",
       " 'Travis Cluff': 1,\n",
       " 'Chris Lofing': 1,\n",
       " 'John Irvin': 3,\n",
       " 'Richard Stanley': 2,\n",
       " 'Rick Rosenthal': 2,\n",
       " 'Ryan Murphy': 2,\n",
       " 'Timothy Greenfield': 1,\n",
       " 'Pixote Hunt': 2,\n",
       " 'David Von Ancken': 1,\n",
       " 'Ramaa Mosley': 1,\n",
       " 'Peter Hall': 1,\n",
       " 'Ralph Bakshi': 4,\n",
       " 'Mike Gabriel': 2,\n",
       " 'Eric Goldberg': 2,\n",
       " 'Sylvester Stallone': 7,\n",
       " 'Jodie Foster': 3,\n",
       " 'Danny DeVito': 6,\n",
       " 'David Bowers': 4,\n",
       " 'Nicholas Jarecki': 1,\n",
       " 'Scott Derrickson': 3,\n",
       " 'Mick Jackson': 4,\n",
       " 'Robert Mandel': 2,\n",
       " 'Robert Schwentke': 5,\n",
       " 'Jonathan Lynn': 6,\n",
       " 'Rob Zombie': 6,\n",
       " 'James Toback': 4,\n",
       " 'George P': 5,\n",
       " 'Todd Stephens': 1,\n",
       " 'Michael Winterbottom': 8,\n",
       " 'Gregory Hoblit': 4,\n",
       " 'Dennis Hopper': 2,\n",
       " 'Meiert Avis': 1,\n",
       " 'Oren Peli': 1,\n",
       " 'Gary Lennon': 1,\n",
       " 'Peter Hewitt': 6,\n",
       " 'Rob Marshall': 5,\n",
       " 'Jeff Pollack': 2,\n",
       " 'Seth Gordon': 3,\n",
       " 'Gavin O': 5,\n",
       " 'Ang Lee': 10,\n",
       " 'Steve Miner': 8,\n",
       " 'Andrew Bergman': 3,\n",
       " 'Sally Field': 1,\n",
       " 'Tom McCarthy': 2,\n",
       " 'Noel Nosseck': 1,\n",
       " 'Jean': 15,\n",
       " 'Wolfgang Petersen': 10,\n",
       " 'Petter Næss': 1,\n",
       " 'Martin Scorsese': 21,\n",
       " 'Wayne Beach': 1,\n",
       " 'Rachel Talalay': 3,\n",
       " 'Brian Smrz': 1,\n",
       " 'Tom McLoughlin': 2,\n",
       " 'Jeff Nichols': 2,\n",
       " 'Iain Softley': 4,\n",
       " 'Jeremy Sims': 1,\n",
       " 'Kern Saxton': 1,\n",
       " 'Sheldon Lettich': 4,\n",
       " 'Joan Micklin Silver': 1,\n",
       " 'Johnnie To': 1,\n",
       " 'Marc Lawrence': 3,\n",
       " 'Daniel Stern': 1,\n",
       " 'Stephen Chbosky': 1,\n",
       " 'Thomas Bezucha': 2,\n",
       " 'Michael Oblowitz': 2,\n",
       " 'Jonathan Dayton': 2,\n",
       " 'Valerie Faris': 2,\n",
       " 'Michael Mann': 9,\n",
       " 'Lorene Scafaria': 1,\n",
       " 'Robert Vincent O': 1,\n",
       " 'David Fincher': 9,\n",
       " 'Scott Alexander': 1,\n",
       " 'Larry Karaszewski': 1,\n",
       " 'Alan Taylor': 2,\n",
       " 'Arne Glimcher': 1,\n",
       " 'Stewart Hendler': 2,\n",
       " 'F': 7,\n",
       " 'Mimi Leder': 4,\n",
       " 'Gene Wilder': 1,\n",
       " 'Edgar Wright': 5,\n",
       " 'Peter Bonerz': 1,\n",
       " 'Camille Delamarre': 2,\n",
       " 'David Ren': 1,\n",
       " 'Robert Lee King': 1,\n",
       " 'Mikael Håfström': 4,\n",
       " 'Chris Weitz': 5,\n",
       " 'Josh Trank': 2,\n",
       " 'Robert Luketic': 7,\n",
       " 'Glen Morgan': 2,\n",
       " 'Akiva Schaffer': 1,\n",
       " 'Jon Wright': 2,\n",
       " 'Justin Kurzel': 2,\n",
       " 'George Lucas': 5,\n",
       " 'Alan Shapiro': 2,\n",
       " 'Bill Condon': 6,\n",
       " 'Franklin J': 2,\n",
       " 'Frank LaLoggia': 1,\n",
       " 'Stanley Kubrick': 4,\n",
       " 'Jim Gillespie': 2,\n",
       " 'John Hyams': 2,\n",
       " 'Peter Hyams': 9,\n",
       " 'Richard Quine': 1,\n",
       " 'John Crowley': 2,\n",
       " 'Gonzalo López': 1,\n",
       " 'Peter Segal': 7,\n",
       " 'Maria Maggenti': 1,\n",
       " 'Eduardo Rodriguez': 2,\n",
       " 'Bruce Beresford': 10,\n",
       " 'Lana Wachowski': 7,\n",
       " 'Lilly Wachowski': 7,\n",
       " 'Jerusha Hess': 1,\n",
       " 'John Sturges': 1,\n",
       " 'Graeme Clifford': 2,\n",
       " 'Walter Salles': 2,\n",
       " 'Douglas Cheek': 1,\n",
       " 'Jessie Nelson': 2,\n",
       " 'John Carney': 2,\n",
       " 'Kirk Jones': 4,\n",
       " 'Stanley Tong': 3,\n",
       " 'Todd Graff': 2,\n",
       " 'István Szabó': 1,\n",
       " 'Antonio Banderas': 1,\n",
       " 'Tim Story': 6,\n",
       " 'Eric Darnell': 4,\n",
       " 'Conrad Vernon': 3,\n",
       " 'James Fargo': 2,\n",
       " 'Audrey Wells': 2,\n",
       " 'Courtney Solomon': 2,\n",
       " 'Oliver Parker': 6,\n",
       " 'Kevin Donovan': 1,\n",
       " 'Marcus Adams': 1,\n",
       " 'Paul Haggis': 2,\n",
       " 'Juan Carlos Fresnadillo': 2,\n",
       " 'Todd Haynes': 5,\n",
       " 'John G': 7,\n",
       " 'Brian Baugh': 1,\n",
       " 'Sam Peckinpah': 5,\n",
       " 'Joel Silberg': 1,\n",
       " 'Tony Kaye': 1,\n",
       " 'Harris Goldberg': 1,\n",
       " 'Stuart Townsend': 1,\n",
       " 'Rich Moore': 1,\n",
       " 'Roman Coppola': 1,\n",
       " 'Alan Myerson': 1,\n",
       " 'Kevin Connor': 2,\n",
       " 'Steve Wang': 2,\n",
       " 'Harold Ramis': 10,\n",
       " 'Avi Nesher': 1,\n",
       " 'Tim Johnson': 4,\n",
       " 'Karey Kirkpatrick': 2,\n",
       " 'Peter Berg': 6,\n",
       " 'Michael Winner': 6,\n",
       " 'Robert Towne': 2,\n",
       " 'Phillip Borsos': 2,\n",
       " 'Jack Bender': 1,\n",
       " 'Sngmoo Lee': 1,\n",
       " 'Carlo Ledesma': 1,\n",
       " 'Patrick Hughes': 1,\n",
       " 'Jim Abrahams': 5,\n",
       " 'Jim Goddard': 1,\n",
       " 'Troy Miller': 2,\n",
       " 'Jay Russell': 3,\n",
       " 'Jon Lucas': 1,\n",
       " 'Scott Moore': 1,\n",
       " 'Peter Webber': 1,\n",
       " 'Rob Letterman': 4,\n",
       " 'Richard Rush': 2,\n",
       " 'Norman René': 1,\n",
       " 'Jeff Lowell': 1,\n",
       " 'Robert Vince': 1,\n",
       " 'Mark Pavia': 1,\n",
       " 'Rick Sloane': 1,\n",
       " 'Gary Winick': 4,\n",
       " 'Alex Turner': 1,\n",
       " 'George A': 12,\n",
       " 'Phil Joanou': 5,\n",
       " 'Michael Lee Baron': 1,\n",
       " 'Lili Fini Zanuck': 1,\n",
       " 'Philippe Mora': 1,\n",
       " 'Ernest R': 6,\n",
       " 'Andy Fickman': 6,\n",
       " 'Carl Franklin': 4,\n",
       " 'Mars Callahan': 1,\n",
       " 'Barbet Schroeder': 6,\n",
       " 'Dave Filoni': 1,\n",
       " 'Mark L': 6,\n",
       " 'Chris Miller': 2,\n",
       " 'Raman Hui': 1,\n",
       " 'Tony Gilroy': 3,\n",
       " 'Charles Shyer': 5,\n",
       " 'Emile Ardolino': 3,\n",
       " 'William Richert': 1,\n",
       " 'Fred Walton': 2,\n",
       " 'Brian Yuzna': 6,\n",
       " 'Gary McKendry': 1,\n",
       " 'Nimród Antal': 3,\n",
       " 'Christopher Coppola': 1,\n",
       " 'Mike Flanagan': 2,\n",
       " 'Masami Hata': 1,\n",
       " 'William T': 1,\n",
       " 'Hector Babenco': 2,\n",
       " 'Curtis Hanson': 9,\n",
       " 'Brian Hooks': 1,\n",
       " 'Deon Taylor': 1,\n",
       " 'Zelda Barron': 1,\n",
       " 'Beeban Kidron': 2,\n",
       " 'Patrick Read Johnson': 2,\n",
       " 'Dominique Othenin': 1,\n",
       " 'Thomas Whelan': 1,\n",
       " 'Jake Schreier': 1,\n",
       " 'Davis Guggenheim': 1,\n",
       " 'Patrick Stettner': 1,\n",
       " 'Alexander Bulkley': 1,\n",
       " 'Alex Kendrick': 4,\n",
       " 'Scott Hicks': 5,\n",
       " 'Rajkumar Hirani': 1,\n",
       " 'Stephen Cornwell': 1,\n",
       " 'Abel Ferrara': 5,\n",
       " 'Josef Rusnak': 2,\n",
       " 'David Leland': 1,\n",
       " 'Geoff Murphy': 5,\n",
       " 'Jon Purdy': 1,\n",
       " 'Doug McHenry': 3,\n",
       " 'Christopher Neil': 1,\n",
       " 'Lukas Moodysson': 1,\n",
       " 'Rodman Flender': 2,\n",
       " 'Chris Columbus': 12,\n",
       " 'Roger Kumble': 3,\n",
       " 'Frank Pierson': 1,\n",
       " 'Mike McCoy': 1,\n",
       " 'Scott Waugh': 1,\n",
       " 'Susan Stroman': 1,\n",
       " 'Clark Gregg': 1,\n",
       " 'Jonathan Liebesman': 5,\n",
       " 'Stephen Bradley': 1,\n",
       " 'Leonard Nimoy': 4,\n",
       " 'Jonathan Darby': 1,\n",
       " 'Daniel Benmayor': 1,\n",
       " 'Mike Nichols': 14,\n",
       " 'Anand Tucker': 2,\n",
       " 'Jee': 1,\n",
       " 'Harmony Korine': 3,\n",
       " 'Roger Avary': 1,\n",
       " 'Stephen Chiodo': 1,\n",
       " 'Michael Coleman': 1,\n",
       " 'Eric Johnson': 1,\n",
       " 'Tim Pope': 1,\n",
       " 'Peter Weir': 7,\n",
       " 'Christopher Erskin': 1,\n",
       " 'Ed Harris': 2,\n",
       " 'Gerald Thomas': 2,\n",
       " 'Mike Gunther': 1,\n",
       " 'John Madden': 6,\n",
       " 'Andrew Niccol': 4,\n",
       " 'Jun Falkenstein': 1,\n",
       " 'Jonas Pate': 1,\n",
       " 'Anthony Hickox': 4,\n",
       " 'Steve Rash': 4,\n",
       " 'Alejandro Amenábar': 2,\n",
       " 'Martin Bell': 1,\n",
       " 'John Glen': 6,\n",
       " 'Irwin Winkler': 6,\n",
       " 'Alan Metter': 2,\n",
       " 'Tyler Oliver': 1,\n",
       " 'Ted Demme': 3,\n",
       " 'Joe Alves': 1,\n",
       " 'Nadia Tass': 1,\n",
       " 'Dana Heinz Perry': 1,\n",
       " 'Randall Miller': 6,\n",
       " 'Christian Duguay': 5,\n",
       " 'Vincenzo Natali': 3,\n",
       " 'John Luessenhop': 1,\n",
       " 'Philip Kaufman': 6,\n",
       " 'Greydon Clark': 1,\n",
       " 'Dan Kuenster': 2,\n",
       " 'McG': 5,\n",
       " 'Peter Billingsley': 1,\n",
       " 'Tony Krantz': 1,\n",
       " 'John Lasseter': 5,\n",
       " 'Bob Misiorowski': 1,\n",
       " 'David Mamet': 4,\n",
       " 'Mike Mills': 2,\n",
       " 'Daniel Waters': 1,\n",
       " 'Ted Post': 1,\n",
       " 'Anders Rønnow Klarlund': 1,\n",
       " 'Alastair Fothergill': 2,\n",
       " 'Mark Linfield': 2,\n",
       " 'Michael A': 1,\n",
       " 'Spike Jonze': 3,\n",
       " 'Andrew Morahan': 1,\n",
       " 'William Phillips': 1,\n",
       " 'Holly Goldberg Sloan': 1,\n",
       " 'Charles Robert Carner': 1,\n",
       " 'Dominic Sena': 5,\n",
       " 'David Anspaugh': 4,\n",
       " 'Steve McQueen': 2,\n",
       " 'Sammo Kam': 1,\n",
       " 'Kris Isacsson': 1,\n",
       " 'Stephen Sommers': 7,\n",
       " 'Joe Dante': 12,\n",
       " 'Brett Leonard': 4,\n",
       " 'Bo Welch': 1,\n",
       " 'John Milius': 7,\n",
       " 'Julia Leigh': 1,\n",
       " 'James Isaac': 2,\n",
       " 'Andrew Dominik': 3,\n",
       " 'Harold Becker': 8,\n",
       " 'Jennifer Flackett': 1,\n",
       " 'Mark Levin': 1,\n",
       " 'Peter Templeman': 1,\n",
       " 'Q': 2,\n",
       " 'Joey Stewart': 1,\n",
       " 'Alex Cox': 4,\n",
       " 'Mark Osborne': 3,\n",
       " 'Ken Annakin': 2,\n",
       " 'Tim Robbins': 2,\n",
       " 'Joel Zwick': 2,\n",
       " 'Angelina Jolie': 1,\n",
       " 'Isaac Florentine': 2,\n",
       " 'Sarah Polley': 1,\n",
       " 'Mark Helfrich': 1,\n",
       " 'Jonathan Mostow': 4,\n",
       " 'Martin Guigui': 1,\n",
       " 'David Lynch': 9,\n",
       " 'Gary Chapman': 1,\n",
       " 'Austin Chick': 1,\n",
       " 'Robert De Niro': 2,\n",
       " 'Alfonso Cuarón': 5,\n",
       " 'Kevin Costner': 3,\n",
       " 'Anthony Drazan': 1,\n",
       " 'Gil Kenan': 3,\n",
       " 'George Roy Hill': 2,\n",
       " 'Christopher Duddy': 1,\n",
       " 'Richard Marquand': 3,\n",
       " 'Christian Volckman': 1,\n",
       " 'Bruce McCulloch': 2,\n",
       " 'William Heins': 1,\n",
       " 'Strathford Hamilton': 1,\n",
       " 'Sooraj R': 1,\n",
       " 'Chris Carter': 1,\n",
       " 'Mike Barker': 2,\n",
       " 'Roger Christian': 1,\n",
       " 'David Kellogg': 2,\n",
       " 'Eddie Murphy': 1,\n",
       " 'Nanette Burstein': 1,\n",
       " 'Joseph Ruben': 4,\n",
       " 'Simon Wincer': 4,\n",
       " 'Joshua Seftel': 1,\n",
       " 'Gore Verbinski': 9,\n",
       " 'Richard Schenkman': 1,\n",
       " 'David Twohy': 6,\n",
       " 'Jesse Dylan': 3,\n",
       " 'Tommy O': 3,\n",
       " 'Fedor Bondarchuk': 1,\n",
       " 'Michael Dowse': 2,\n",
       " 'Wes Anderson': 8,\n",
       " 'Rob Schmidt': 1,\n",
       " 'Jeremy Power Regimbal': 1,\n",
       " 'Brian Gibson': 1,\n",
       " ...}"
      ]
     },
     "execution_count": 80,
     "metadata": {},
     "output_type": "execute_result"
    }
   ],
   "source": [
    "director_count"
   ]
  },
  {
   "cell_type": "code",
   "execution_count": 81,
   "metadata": {
    "collapsed": true,
    "hidden": true
   },
   "outputs": [],
   "source": [
    "means = []\n",
    "directors = []\n",
    "counts = []\n",
    "for k , v in director_mean.items():\n",
    "    directors.append(k)\n",
    "    means.append(v)\n",
    "    counts.append(director_count[k])"
   ]
  },
  {
   "cell_type": "code",
   "execution_count": 73,
   "metadata": {
    "hidden": true
   },
   "outputs": [
    {
     "data": {
      "text/plain": [
       "['#3288bd', '#99d594', '#e6f598', '#fee08b', '#fc8d59', '#d53e4f']"
      ]
     },
     "execution_count": 73,
     "metadata": {},
     "output_type": "execute_result"
    }
   ],
   "source": [
    "from bokeh.palettes import Spectral6\n",
    "from bokeh.transform import factor_cmap\n",
    "import math\n",
    "from bokeh.models import ColumnDataSource, ranges, LabelSet\n",
    "Spectral6"
   ]
  },
  {
   "cell_type": "code",
   "execution_count": null,
   "metadata": {
    "hidden": true
   },
   "outputs": [
    {
     "data": {
      "text/html": [
       "\n",
       "<div class=\"bk-root\">\n",
       "    <div class=\"bk-plotdiv\" id=\"ac59573f-f9cb-40b0-9b40-41663a3c3f25\"></div>\n",
       "</div>"
      ]
     },
     "metadata": {},
     "output_type": "display_data"
    },
    {
     "data": {
      "application/javascript": [
       "(function(root) {\n",
       "  function embed_document(root) {\n",
       "    \n",
       "  var docs_json = {\"735afe3c-b472-448d-a258-ad605ee7c8e3\":{\"roots\":{\"references\":[{\"attributes\":{},\"id\":\"8f50451c-7cc7-4b9b-b21e-b29c75133c9b\",\"type\":\"Selection\"},{\"attributes\":{\"plot\":null,\"text\":\"Director Movie Count and Mean IMDB Score\"},\"id\":\"c6128d64-73f4-45fb-858f-dd4c8862625a\",\"type\":\"Title\"},{\"attributes\":{\"callback\":null,\"formatters\":{\"director\":\"printf\",\"x\":\"printf\",\"y\":\"printf\"},\"renderers\":\"auto\",\"tooltips\":[[\"Movie count: \",\"@x{%0f}\"],[\"Mean IMDB score: \",\"@y{%0.1f}\"],[\"Director: \",\"@director\"]]},\"id\":\"9e98b7f5-2fda-46ad-a025-4d241f6a4a61\",\"type\":\"HoverTool\"},{\"attributes\":{\"callback\":null},\"id\":\"0cdcab16-b553-4257-b58c-06742c18be3f\",\"type\":\"DataRange1d\"},{\"attributes\":{},\"id\":\"ed9f32e8-d0bd-45a8-8b28-659fa01ab75d\",\"type\":\"BasicTickFormatter\"},{\"attributes\":{\"active_drag\":\"auto\",\"active_inspect\":\"auto\",\"active_scroll\":\"auto\",\"active_tap\":\"auto\",\"tools\":[{\"id\":\"9e98b7f5-2fda-46ad-a025-4d241f6a4a61\",\"type\":\"HoverTool\"}]},\"id\":\"e0401340-f928-438f-b92f-28d88ab872a9\",\"type\":\"Toolbar\"},{\"attributes\":{\"fill_color\":{\"value\":\"#ebbd5b\"},\"line_color\":{\"value\":\"#ebbd5b\"},\"line_width\":{\"value\":2},\"x\":{\"field\":\"x\"},\"y\":{\"field\":\"y\"}},\"id\":\"aa89e1c5-dae5-46c4-a31f-ee0d8bfe9bea\",\"type\":\"Circle\"},{\"attributes\":{},\"id\":\"63f1e997-09c9-4202-abfc-a7fdb9c6d8f2\",\"type\":\"LinearScale\"},{\"attributes\":{},\"id\":\"4a47ec26-da16-4fae-92c9-02df9514724d\",\"type\":\"UnionRenderers\"},{\"attributes\":{\"callback\":null},\"id\":\"cfd42e27-0f14-4615-a867-264982622cd5\",\"type\":\"DataRange1d\"},{\"attributes\":{\"data_source\":{\"id\":\"d6f48e21-febc-4a98-a01f-e624dc570be4\",\"type\":\"ColumnDataSource\"},\"glyph\":{\"id\":\"aa89e1c5-dae5-46c4-a31f-ee0d8bfe9bea\",\"type\":\"Circle\"},\"hover_glyph\":null,\"muted_glyph\":null,\"nonselection_glyph\":{\"id\":\"aa6e6798-cf75-4de1-a80f-f7474f5fc8f7\",\"type\":\"Circle\"},\"selection_glyph\":null,\"view\":{\"id\":\"8463a4bb-8ef9-4688-99c4-3f4d743a316a\",\"type\":\"CDSView\"}},\"id\":\"5142cbda-7c7b-42d8-888c-6f3b6d264c93\",\"type\":\"GlyphRenderer\"},{\"attributes\":{},\"id\":\"e75b864d-240e-40cd-b753-4f734dd4fd6f\",\"type\":\"LinearScale\"},{\"attributes\":{\"grid_line_color\":{\"value\":\"white\"},\"plot\":{\"id\":\"29a4e81d-1a9d-47dc-b4c0-745272cac37c\",\"subtype\":\"Figure\",\"type\":\"Plot\"},\"ticker\":{\"id\":\"9f5e82fc-00b6-4e0d-810c-df10e77b1f9c\",\"type\":\"BasicTicker\"}},\"id\":\"facd1d2e-fadf-4405-8c8e-7d9be0bdb8a7\",\"type\":\"Grid\"},{\"attributes\":{\"axis_label\":\"Movie Count\",\"axis_line_color\":{\"value\":null},\"formatter\":{\"id\":\"66953d7d-6228-4e79-8245-dc28d5d4aef3\",\"type\":\"BasicTickFormatter\"},\"plot\":{\"id\":\"29a4e81d-1a9d-47dc-b4c0-745272cac37c\",\"subtype\":\"Figure\",\"type\":\"Plot\"},\"ticker\":{\"id\":\"9f5e82fc-00b6-4e0d-810c-df10e77b1f9c\",\"type\":\"BasicTicker\"}},\"id\":\"3f1df6f2-2b33-4073-9272-929eff7738d7\",\"type\":\"LinearAxis\"},{\"attributes\":{},\"id\":\"9f5e82fc-00b6-4e0d-810c-df10e77b1f9c\",\"type\":\"BasicTicker\"},{\"attributes\":{\"axis_label\":\"Mean IMDB Score\",\"axis_line_color\":{\"value\":null},\"formatter\":{\"id\":\"ed9f32e8-d0bd-45a8-8b28-659fa01ab75d\",\"type\":\"BasicTickFormatter\"},\"plot\":{\"id\":\"29a4e81d-1a9d-47dc-b4c0-745272cac37c\",\"subtype\":\"Figure\",\"type\":\"Plot\"},\"ticker\":{\"id\":\"ed9a4257-c065-4586-b1ae-4d798ee0fa19\",\"type\":\"BasicTicker\"}},\"id\":\"4e487905-3845-4db3-8bb3-9474aea26795\",\"type\":\"LinearAxis\"},{\"attributes\":{},\"id\":\"ed9a4257-c065-4586-b1ae-4d798ee0fa19\",\"type\":\"BasicTicker\"},{\"attributes\":{\"dimension\":1,\"grid_line_color\":{\"value\":\"white\"},\"plot\":{\"id\":\"29a4e81d-1a9d-47dc-b4c0-745272cac37c\",\"subtype\":\"Figure\",\"type\":\"Plot\"},\"ticker\":{\"id\":\"ed9a4257-c065-4586-b1ae-4d798ee0fa19\",\"type\":\"BasicTicker\"}},\"id\":\"38ac2cd9-4d95-44dc-9848-e2d4e7b2c232\",\"type\":\"Grid\"},{\"attributes\":{},\"id\":\"66953d7d-6228-4e79-8245-dc28d5d4aef3\",\"type\":\"BasicTickFormatter\"},{\"attributes\":{\"fill_alpha\":{\"value\":0.1},\"fill_color\":{\"value\":\"#1f77b4\"},\"line_alpha\":{\"value\":0.1},\"line_color\":{\"value\":\"#1f77b4\"},\"line_width\":{\"value\":2},\"x\":{\"field\":\"x\"},\"y\":{\"field\":\"y\"}},\"id\":\"aa6e6798-cf75-4de1-a80f-f7474f5fc8f7\",\"type\":\"Circle\"},{\"attributes\":{\"callback\":null,\"data\":{\"director\":[\"Barbra Streisand\",\"Anthony Burns\",\"Jim Henson\",\"Joel Anderson\",\"David Cronenberg\",\"Phillip Noyce\",\"Jon Hurwitz\",\"Hayden Schlossberg\",\"Atom Egoyan\",\"Allan A\",\"Ronald Neame\",\"David Yates\",\"Rod Lurie\",\"Francis Ford Coppola\",\"Eric Valette\",\"Greg Berlanti\",\"Frank Oz\",\"Stephen Frears\",\"Sylvain White\",\"Stephen Hopkins\",\"Robert Aldrich\",\"Guy Jenkin\",\"Terry Zwigoff\",\"Michael Tuchner\",\"John Badham\",\"Paul Weiland\",\"John Mackenzie\",\"John Gatins\",\"Luke Greenfield\",\"mink\",\"John Dahl\",\"Chris Noonan\",\"Sidney Poitier\",\"Ethan Coen\",\"Joel Coen\",\"Mark Illsley\",\"John Landis\",\"Bob Clark\",\"Gregory Mackenzie\",\"George Clooney\",\"Clint Eastwood\",\"Adam Shankman\",\"Hall Bartlett\",\"Steven Feder\",\"Jay Roach\",\"Lou Adler\",\"Tommy Chong\",\"Roger Spottiswoode\",\"Buzz Kulik\",\"Sarah Smith\",\"Barry Cook\",\"Gabor Csupo\",\"Betty Thomas\",\"Adam Elliot\",\"D\",\"Hugh Wilson\",\"Elizabeth Banks\",\"Chuck Russell\",\"Hadi Hajaig\",\"John Huston\",\"Howard Deutch\",\"Patrick Lussier\",\"Clare Kilner\",\"John Gulager\",\"Len Wiseman\",\"Martin Gero\",\"Tyler Perry\",\"Danis Tanovic\",\"Tony Randel\",\"Robert Iscove\",\"Taylor Hackford\",\"Ingmar Bergman\",\"John Singleton\",\"Julie Delpy\",\"Brad Bird\",\"Jan Pinkava\",\"Andrew Davis\",\"Terry Gilliam\",\"Terry Jones\",\"Rob Cohen\",\"Christopher Nolan\",\"Robert Benton\",\"Alan Parker\",\"Peter Jackson\",\"Dwight H\",\"Leslye Headland\",\"Marshall Brickman\",\"Woody Allen\",\"John Woo\",\"John Sayles\",\"Sam O\",\"Gary Hardwick\",\"Richard Linklater\",\"Walter Hill\",\"John Schultz\",\"Dean Parisot\",\"Robert Altman\",\"Martin Brest\",\"Renny Harlin\",\"Jordan Downey\",\"E\",\"Carroll Ballard\",\"Craig R\",\"Ron Howard\",\"Andrew Adamson\",\"Vicky Jenson\",\"Trygve Allister Diesen\",\"Lucky McKee\",\"Guillermo del Toro\",\"Julian Gilbey\",\"Jimmy Hayward\",\"Steve Martino\",\"Roman Polanski\",\"Niall Johnson\",\"Malcolm D\",\"Blake Edwards\",\"David Hackl\",\"Sally Potter\",\"Ronny Yu\",\"Jonathan Hensleigh\",\"Nick Gomez\",\"Lars von Trier\",\"Tim Burton\",\"Alec Baldwin\",\"Kevin Hooks\",\"Marco Brambilla\",\"Malcolm Leo\",\"Roger Corman\",\"Michael Coldewey\",\"Michel Lemire\",\"Luis Prieto\",\"Roberto Benigni\",\"Tom Holland\",\"Adam McKay\",\"Paul Greengrass\",\"Joe Johnston\",\"Joe Carnahan\",\"Chris Gorak\",\"Hal Ashby\",\"Tony Cinciripini\",\"Christopher Cain\",\"Luc Besson\",\"Cameron Crowe\",\"Lawrence Kasdan\",\"Stuart Gordon\",\"Tim Heidecker\",\"Eric Wareheim\",\"Danny Boyle\",\"Jeremy Kagan\",\"Irvin Kershner\",\"Pedro Almod\\u00f3var\",\"Mike Judge\",\"Mike de Seve\",\"Brian Mulroney\",\"Yvette Kaplan\",\"Marcel Langenegger\",\"John McTiernan\",\"Jonathan Kaplan\",\"Prachya Pinkaew\",\"Jack Hill\",\"Mike Clattenburg\",\"Darren Aronofsky\",\"Phil Karlson\",\"Andrew Wilson\",\"Luke Wilson\",\"Robert Rodriguez\",\"Fred Schepisi\",\"Paul Verhoeven\",\"Garry Marshall\",\"James Foley\",\"Joel Schumacher\",\"Neil LaBute\",\"Jon Turteltaub\",\"Jason Bloom\",\"Robert Wise\",\"Simon West\",\"Andrew Fleming\",\"Richard Attenborough\",\"Peter Hedges\",\"Rob Reiner\",\"Nick Cassavetes\",\"Franc\",\"Mark Rydell\",\"Martyn Burke\",\"Fred Savage\",\"Jim Sheridan\",\"John Stockwell\",\"Scott Wheeler\",\"Don Bluth\",\"Ken Loach\",\"Kirk Wong\",\"Tamra Davis\",\"Don McKellar\",\"James Melkonian\",\"Quentin Tarantino\",\"Joe Wright\",\"Paul Mazursky\",\"Steve Beck\",\"Kevin Rodney Sullivan\",\"Simon Curtis\",\"Kenny Ortega\",\"Mario Van Peebles\",\"Joseph Kahn\",\"Menahem Golan\",\"Francis Lawrence\",\"Steven Soderbergh\",\"Mark Steven Johnson\",\"Andrzej Bartkowiak\",\"James L\",\"Michael Bay\",\"Robert Zemeckis\",\"Billy Ray\",\"Gabe Torres\",\"Spike Lee\",\"Sam Mendes\",\"Carlos Saldanha\",\"Richard Benjamin\",\"Lodge Kerrigan\",\"Baltasar Korm\\u00e1kur\",\"Ruben Fleischer\",\"Robert Longo\",\"Susanne Bier\",\"DJ Pooh\",\"Herbert Ross\",\"Tim Hill\",\"Andrew Stanton\",\"Mark Tarlov\",\"Tom Kalin\",\"Richard Rich\",\"Walt Becker\",\"Greg Mottola\",\"David Mirkin\",\"Geoffrey Wright\",\"Jaume Balaguer\\u00f3\",\"Hans Canosa\",\"Steven Spielberg\",\"Philipp St\\u00f6lzl\",\"Enki Bilal\",\"John Carpenter\",\"Doug Liman\",\"Hugh Hudson\",\"George Schaefer\",\"Peter Sohn\",\"Bradley Kaplan\",\"Tony Scott\",\"Jonathan Frakes\",\"Ridley Scott\",\"Georges Lautner\",\"Mike Mitchell\",\"Garth Jennings\",\"Evan Goldberg\",\"Seth Rogen\",\"Gregg Champion\",\"Sydney Pollack\",\"Albert Hughes\",\"Allen Hughes\",\"Amy Heckerling\",\"Steven Knight\",\"Roger Donaldson\",\"Marc F\",\"Bam Margera\",\"Alan J\",\"Peter Bogdanovich\",\"Tony Goldwyn\",\"Mira Nair\",\"Stephen Herek\",\"Richard Baskin\",\"Ron Underwood\",\"Gordon Hessler\",\"Jessica Sharzer\",\"Ricky Gervais\",\"Matthew Robinson\",\"Phil Alden Robinson\",\"Stephen Norrington\",\"Barry Levinson\",\"Matthew O\",\"Baz Luhrmann\",\"Joseph Sargent\",\"J\",\"Joe Camp\",\"Peter MacDonald\",\"John Carl Buechler\",\"Robin Budd\",\"Donovan Cook\",\"Frederik Du Chau\",\"Sara Sugarman\",\"Peter Farrelly\",\"Bobby Farrelly\",\"Cess Silvera\",\"Jennifer Westfeldt\",\"John McNaughton\",\"Craig McCall\",\"Fatih Akin\",\"Yvan Attal\",\"Randall Balsmeyer\",\"Shunji Iwai\",\"Wen Jiang\",\"Shekhar Kapur\",\"Joshua Marston\",\"Natalie Portman\",\"Brett Ratner\",\"Robert Redford\",\"Efram Potelle\",\"Kyle Rankin\",\"Don Roos\",\"John Cornell\",\"Damon Santostefano\",\"Scott Cooper\",\"Stephen Daldry\",\"Daniel Alfredson\",\"Andy Cheng\",\"Richard Brooks\",\"David Mich\\u00f4d\",\"Wayne Blair\",\"Frank Coraci\",\"John Hillcoat\",\"Craig Brewer\",\"Victor Salva\",\"Jake Kasdan\",\"George Miller\",\"Gary Eck\",\"David Peers\",\"Stewart Raffill\",\"Larry Charles\",\"Bryan Spicer\",\"Mel Brooks\",\"Jeremy Haft\",\"Andrea Arnold\",\"John Waters\",\"John Pasquin\",\"Keenen Ivory Wayans\",\"Mike Birbiglia\",\"Seth Barrish\",\"John Boorman\",\"Christian E\",\"Stephen Gaghan\",\"Ole Bornedal\",\"Nick Moore\",\"Andy Cadiff\",\"Martin Campbell\",\"Harley Cokeliss\",\"James Cox\",\"Charles Martin Smith\",\"Bob Dolman\",\"Brian De Palma\",\"Hugh Johnson\",\"Edward Zwick\",\"Stephen Deutsch\",\"David Jacobson\",\"Kyung Ho Lee\",\"Roger Young\",\"Trey Parker\",\"Niki Caro\",\"Alexandre Aja\",\"Robert Kurtzman\",\"Wes Craven\",\"Christopher McQuarrie\",\"Tomas Alfredson\",\"Cal Brunker\",\"Pascal Laugier\",\"Anton Corbijn\",\"Christopher Smith\",\"John Nicolella\",\"James B\",\"M\",\"Matthew Chapman\",\"William Brent Bell\",\"David S\",\"Bob Rafelson\",\"Samuel Fuller\",\"Glenn Ficarra\",\"John Requa\",\"Steve Boyum\",\"Richard Donner\",\"Stuart Rosenberg\",\"Elizabeth Allen Rosenbaum\",\"Isabel Coixet\",\"David R\",\"Bruce McDonald\",\"Robert Hiltzik\",\"Aleksander Bach\",\"Gurinder Chadha\",\"Jerry Zucker\",\"Luis Mandoki\",\"Gillian Armstrong\",\"James Gray\",\"Neil Abramson\",\"William Malone\",\"Harry Elfont\",\"Deborah Kaplan\",\"Anthony Russo\",\"Joe Russo\",\"Marc Forster\",\"Michael Radford\",\"Ivan Reitman\",\"Richard Kelly\",\"Anthony Minghella\",\"John Guillermin\",\"William Kaufman\",\"Paul Thomas Anderson\",\"Martha Coolidge\",\"James Goldstone\",\"Richard Fleischer\",\"James Cameron\",\"Barry Sonnenfeld\",\"John Curran\",\"Michael Apted\",\"Vincent McEveety\",\"Corey Yuen\",\"Ti West\",\"Wim Wenders\",\"Justin Lin\",\"Donald Petrie\",\"Hideo Nakata\",\"Buddy Giovinazzo\",\"Quentin Masters\",\"Joe Charbanic\",\"Rupert Wainwright\",\"Tobe Hooper\",\"Jim Mickle\",\"Alan Rudolph\",\"Tarsem Singh\",\"Gary Goldman\",\"Don Sharp\",\"Paul Schrader\",\"Jane Campion\",\"John Duigan\",\"Ken Kwapis\",\"Kevin Lima\",\"Richard Greenberg\",\"Dick Richards\",\"Jerry Jameson\",\"Adrian Lyne\",\"Kurt Wimmer\",\"Sean Penn\",\"Eli Roth\",\"Gary Ross\",\"Anne Fletcher\",\"William Friedkin\",\"Guy Ritchie\",\"Jamie Babbit\",\"Glenn Gordon Caron\",\"Steve Carr\",\"Sean Anders\",\"M\\u00e5ns M\\u00e5rlind\",\"Bj\\u00f6rn Stein\",\"Tom Shadyac\",\"Takashi Shimizu\",\"Tim Blake Nelson\",\"Bernardo Bertolucci\",\"Ben Stiller\",\"J Blakeson\",\"Craig Mazin\",\"Mark Neveldine\",\"Brian Taylor\",\"Louis Leterrier\",\"Nick Vallelonga\",\"Sofia Coppola\",\"Albert Pyun\",\"Douglas McGrath\",\"Ryan Gosling\",\"Warren Coleman\",\"Judy Morris\",\"Andy Tennant\",\"Harald Zwart\",\"Michael Haigney\",\"Kunihiko Yuyama\",\"Ben Affleck\",\"Howard Avedis\",\"Todd Phillips\",\"Mike Johnson\",\"Oren Moverman\",\"Paul McGuigan\",\"John Whitesell\",\"Raja Gosnell\",\"George Armitage\",\"Patricia Birch\",\"Steve Pink\",\"Don Coscarelli\",\"Brad Anderson\",\"Scott Walker\",\"Agnieszka Holland\",\"James Mangold\",\"Jonathan Kasdan\",\"Brandon Camp\",\"Hal Needham\",\"Richard Lester\",\"Dennis Lee\",\"Jonathan Demme\",\"Bradley Parker\",\"Shawn Levy\",\"Colin Strause\",\"Greg Strause\",\"John Lafia\",\"Alexander Witt\",\"Zoe R\",\"Tom Hooper\",\"Emilio Estevez\",\"Jim Jarmusch\",\"Tony Richardson\",\"Brian Hecker\",\"Gareth Edwards\",\"Hayao Miyazaki\",\"Richard Eyre\",\"George Kaczender\",\"Werner Herzog\",\"Kevin Greutert\",\"Mike Leigh\",\"Michael Cuesta\",\"Bruce Hendricks\",\"George Tillman Jr\",\"Gregory Poirier\",\"Russell Mulcahy\",\"Kevin Smith\",\"Jim Wynorski\",\"Andrew Mogel\",\"Jarrad Paul\",\"Fenton Bailey\",\"Randy Barbato\",\"Richard C\",\"Eduardo S\\u00e1nchez\",\"Lewis Teague\",\"Matthew Vaughn\",\"Oliver Stone\",\"Dennis Dugan\",\"Reginald Hudlin\",\"Don Taylor\",\"Mike Hodges\",\"Roland Joff\\u00e9\",\"Paul Feig\",\"Brad Silberling\",\"Jeremy Podeswa\",\"J\\u00f3zsef G\\u00e9mes\",\"Jan Troell\",\"Milos Forman\",\"John Putch\",\"Kevin Reynolds\",\"Alex Proyas\",\"Tuck Tucker\",\"Roland Emmerich\",\"Jason Todd Ipson\",\"Marcus Nispel\",\"Ron Shelton\",\"Joseph Zito\",\"Uwe Boll\",\"Brian Robbins\",\"Mike Marvin\",\"Richard LaGravenese\",\"Kirk Douglas\",\"Penny Marshall\",\"P\",\"Fred Dekker\",\"Jon Amiel\",\"Sam Raimi\",\"Willard Huyck\",\"Martin Davidson\",\"Stephen Verona\",\"James Wan\",\"David Koepp\",\"Gus Van Sant\",\"Brian A\",\"Rebecca Miller\",\"Nick Hurran\",\"Paul W\",\"Thom Eberhardt\",\"Ryan Fleck\",\"Danny Cannon\",\"Rowdy Herrington\",\"Mark Andrews\",\"Brenda Chapman\",\"Steve Purcell\",\"John Moore\",\"Danny Leiner\",\"John R\",\"Dave McKean\",\"Jon M\",\"Frank Miller\",\"Christina Wayne\",\"Tom McGrath\",\"Ernie Barbarash\",\"Antoine Fuqua\",\"Sharon Maguire\",\"Neil Jordan\",\"Irwin Allen\",\"Philip G\",\"Martin Weisz\",\"Jerry Kramer\",\"Colin Chilvers\",\"Francine McDougall\",\"Perry Andelin Blake\",\"Richard Pearce\",\"Will Canon\",\"Michael Caton\",\"Yves Simoneau\",\"Sidney J\",\"Peter Yates\",\"Ben Ramsey\",\"Andy Muschietti\",\"Stan Winston\",\"Kevin Macdonald\",\"Allan Moyle\",\"George Mihalka\",\"Michael Schultz\",\"Mathieu Kassovitz\",\"Vincent Ward\",\"Sean McNamara\",\"Frank Longo\",\"Steven Shainberg\",\"Jamie Travis\",\"Michael Cimino\",\"Stanley Kramer\",\"David Zucker\",\"Billy Wilder\",\"Daryl Duke\",\"Eric Styles\",\"Josh Gordon\",\"Will Speck\",\"Marcus Raboy\",\"Alexander Payne\",\"Michael Ritchie\",\"Jon Favreau\",\"Jason Reitman\",\"Menno Meyjes\",\"Howard Zieff\",\"Pete Docter\",\"David Silverman\",\"Lee Unkrich\",\"Florent\",\"John Frankenheimer\",\"Pete Jones\",\"John Fawcett\",\"Richard Loncraine\",\"Lawrence Guterman\",\"Ruggero Deodato\",\"Kenneth Branagh\",\"Henry Selick\",\"Peter Sollett\",\"Michael Moore\",\"Elaine May\",\"Kevin Bray\",\"Kent Alterman\",\"Travis Cluff\",\"Chris Lofing\",\"John Irvin\",\"Richard Stanley\",\"Rick Rosenthal\",\"Ryan Murphy\",\"Timothy Greenfield\",\"Pixote Hunt\",\"David Von Ancken\",\"Ramaa Mosley\",\"Peter Hall\",\"Ralph Bakshi\",\"Mike Gabriel\",\"Eric Goldberg\",\"Sylvester Stallone\",\"Jodie Foster\",\"Danny DeVito\",\"David Bowers\",\"Nicholas Jarecki\",\"Scott Derrickson\",\"Mick Jackson\",\"Robert Mandel\",\"Robert Schwentke\",\"Jonathan Lynn\",\"Rob Zombie\",\"James Toback\",\"George P\",\"Todd Stephens\",\"Michael Winterbottom\",\"Gregory Hoblit\",\"Dennis Hopper\",\"Meiert Avis\",\"Oren Peli\",\"Gary Lennon\",\"Peter Hewitt\",\"Rob Marshall\",\"Jeff Pollack\",\"Seth Gordon\",\"Gavin O\",\"Ang Lee\",\"Steve Miner\",\"Andrew Bergman\",\"Sally Field\",\"Tom McCarthy\",\"Noel Nosseck\",\"Jean\",\"Wolfgang Petersen\",\"Petter N\\u00e6ss\",\"Martin Scorsese\",\"Wayne Beach\",\"Rachel Talalay\",\"Brian Smrz\",\"Tom McLoughlin\",\"Jeff Nichols\",\"Iain Softley\",\"Jeremy Sims\",\"Kern Saxton\",\"Sheldon Lettich\",\"Joan Micklin Silver\",\"Johnnie To\",\"Marc Lawrence\",\"Daniel Stern\",\"Stephen Chbosky\",\"Thomas Bezucha\",\"Michael Oblowitz\",\"Jonathan Dayton\",\"Valerie Faris\",\"Michael Mann\",\"Lorene Scafaria\",\"Robert Vincent O\",\"David Fincher\",\"Scott Alexander\",\"Larry Karaszewski\",\"Alan Taylor\",\"Arne Glimcher\",\"Stewart Hendler\",\"F\",\"Mimi Leder\",\"Gene Wilder\",\"Edgar Wright\",\"Peter Bonerz\",\"Camille Delamarre\",\"David Ren\",\"Robert Lee King\",\"Mikael H\\u00e5fstr\\u00f6m\",\"Chris Weitz\",\"Josh Trank\",\"Robert Luketic\",\"Glen Morgan\",\"Akiva Schaffer\",\"Jon Wright\",\"Justin Kurzel\",\"George Lucas\",\"Alan Shapiro\",\"Bill Condon\",\"Franklin J\",\"Frank LaLoggia\",\"Stanley Kubrick\",\"Jim Gillespie\",\"John Hyams\",\"Peter Hyams\",\"Richard Quine\",\"John Crowley\",\"Gonzalo L\\u00f3pez\",\"Peter Segal\",\"Maria Maggenti\",\"Eduardo Rodriguez\",\"Bruce Beresford\",\"Lana Wachowski\",\"Lilly Wachowski\",\"Jerusha Hess\",\"John Sturges\",\"Graeme Clifford\",\"Walter Salles\",\"Douglas Cheek\",\"Jessie Nelson\",\"John Carney\",\"Kirk Jones\",\"Stanley Tong\",\"Todd Graff\",\"Istv\\u00e1n Szab\\u00f3\",\"Antonio Banderas\",\"Tim Story\",\"Eric Darnell\",\"Conrad Vernon\",\"James Fargo\",\"Audrey Wells\",\"Courtney Solomon\",\"Oliver Parker\",\"Kevin Donovan\",\"Marcus Adams\",\"Paul Haggis\",\"Juan Carlos Fresnadillo\",\"Todd Haynes\",\"John G\",\"Brian Baugh\",\"Sam Peckinpah\",\"Joel Silberg\",\"Tony Kaye\",\"Harris Goldberg\",\"Stuart Townsend\",\"Rich Moore\",\"Roman Coppola\",\"Alan Myerson\",\"Kevin Connor\",\"Steve Wang\",\"Harold Ramis\",\"Avi Nesher\",\"Tim Johnson\",\"Karey Kirkpatrick\",\"Peter Berg\",\"Michael Winner\",\"Robert Towne\",\"Phillip Borsos\",\"Jack Bender\",\"Sngmoo Lee\",\"Carlo Ledesma\",\"Patrick Hughes\",\"Jim Abrahams\",\"Jim Goddard\",\"Troy Miller\",\"Jay Russell\",\"Jon Lucas\",\"Scott Moore\",\"Peter Webber\",\"Rob Letterman\",\"Richard Rush\",\"Norman Ren\\u00e9\",\"Jeff Lowell\",\"Robert Vince\",\"Mark Pavia\",\"Rick Sloane\",\"Gary Winick\",\"Alex Turner\",\"George A\",\"Phil Joanou\",\"Michael Lee Baron\",\"Lili Fini Zanuck\",\"Philippe Mora\",\"Ernest R\",\"Andy Fickman\",\"Carl Franklin\",\"Mars Callahan\",\"Barbet Schroeder\",\"Dave Filoni\",\"Mark L\",\"Chris Miller\",\"Raman Hui\",\"Tony Gilroy\",\"Charles Shyer\",\"Emile Ardolino\",\"William Richert\",\"Fred Walton\",\"Brian Yuzna\",\"Gary McKendry\",\"Nimr\\u00f3d Antal\",\"Christopher Coppola\",\"Mike Flanagan\",\"Masami Hata\",\"William T\",\"Hector Babenco\",\"Curtis Hanson\",\"Brian Hooks\",\"Deon Taylor\",\"Zelda Barron\",\"Beeban Kidron\",\"Patrick Read Johnson\",\"Dominique Othenin\",\"Thomas Whelan\",\"Jake Schreier\",\"Davis Guggenheim\",\"Patrick Stettner\",\"Alexander Bulkley\",\"Alex Kendrick\",\"Scott Hicks\",\"Rajkumar Hirani\",\"Stephen Cornwell\",\"Abel Ferrara\",\"Josef Rusnak\",\"David Leland\",\"Geoff Murphy\",\"Jon Purdy\",\"Doug McHenry\",\"Christopher Neil\",\"Lukas Moodysson\",\"Rodman Flender\",\"Chris Columbus\",\"Roger Kumble\",\"Frank Pierson\",\"Mike McCoy\",\"Scott Waugh\",\"Susan Stroman\",\"Clark Gregg\",\"Jonathan Liebesman\",\"Stephen Bradley\",\"Leonard Nimoy\",\"Jonathan Darby\",\"Daniel Benmayor\",\"Mike Nichols\",\"Anand Tucker\",\"Jee\",\"Harmony Korine\",\"Roger Avary\",\"Stephen Chiodo\",\"Michael Coleman\",\"Eric Johnson\",\"Tim Pope\",\"Peter Weir\",\"Christopher Erskin\",\"Ed Harris\",\"Gerald Thomas\",\"Mike Gunther\",\"John Madden\",\"Andrew Niccol\",\"Jun Falkenstein\",\"Jonas Pate\",\"Anthony Hickox\",\"Steve Rash\",\"Alejandro Amen\\u00e1bar\",\"Martin Bell\",\"John Glen\",\"Irwin Winkler\",\"Alan Metter\",\"Tyler Oliver\",\"Ted Demme\",\"Joe Alves\",\"Nadia Tass\",\"Dana Heinz Perry\",\"Randall Miller\",\"Christian Duguay\",\"Vincenzo Natali\",\"John Luessenhop\",\"Philip Kaufman\",\"Greydon Clark\",\"Dan Kuenster\",\"McG\",\"Peter Billingsley\",\"Tony Krantz\",\"John Lasseter\",\"Bob Misiorowski\",\"David Mamet\",\"Mike Mills\",\"Daniel Waters\",\"Ted Post\",\"Anders R\\u00f8nnow Klarlund\",\"Alastair Fothergill\",\"Mark Linfield\",\"Michael A\",\"Spike Jonze\",\"Andrew Morahan\",\"William Phillips\",\"Holly Goldberg Sloan\",\"Charles Robert Carner\",\"Dominic Sena\",\"David Anspaugh\",\"Steve McQueen\",\"Sammo Kam\",\"Kris Isacsson\",\"Stephen Sommers\",\"Joe Dante\",\"Brett Leonard\",\"Bo Welch\",\"John Milius\",\"Julia Leigh\",\"James Isaac\",\"Andrew Dominik\",\"Harold Becker\",\"Jennifer Flackett\",\"Mark Levin\",\"Peter Templeman\",\"Q\",\"Joey Stewart\",\"Alex Cox\",\"Mark Osborne\",\"Ken Annakin\",\"Tim Robbins\",\"Joel Zwick\",\"Angelina Jolie\",\"Isaac Florentine\",\"Sarah Polley\",\"Mark Helfrich\",\"Jonathan Mostow\",\"Martin Guigui\",\"David Lynch\",\"Gary Chapman\",\"Austin Chick\",\"Robert De Niro\",\"Alfonso Cuar\\u00f3n\",\"Kevin Costner\",\"Anthony Drazan\",\"Gil Kenan\",\"George Roy Hill\",\"Christopher Duddy\",\"Richard Marquand\",\"Christian Volckman\",\"Bruce McCulloch\",\"William Heins\",\"Strathford Hamilton\",\"Sooraj R\",\"Chris Carter\",\"Mike Barker\",\"Roger Christian\",\"David Kellogg\",\"Eddie Murphy\",\"Nanette Burstein\",\"Joseph Ruben\",\"Simon Wincer\",\"Joshua Seftel\",\"Gore Verbinski\",\"Richard Schenkman\",\"David Twohy\",\"Jesse Dylan\",\"Tommy O\",\"Fedor Bondarchuk\",\"Michael Dowse\",\"Wes Anderson\",\"Rob Schmidt\",\"Jeremy Power Regimbal\",\"Brian Gibson\",\"Wai\",\"Paul Fox\",\"Chris Wedge\",\"Daniel Espinosa\",\"Brian Gilbert\",\"Marc Evans\",\"John Berry\",\"Paul Bartel\",\"Allen Coulter\",\"Richard T\",\"David Raynr\",\"Paul Scheuring\",\"Richard Wenk\",\"Jim Sharman\",\"Guy Maddin\",\"Mike Figgis\",\"Mark Romanek\",\"Alan Johnson\",\"Lance Hool\",\"Lasse Hallstr\\u00f6m\",\"Lamberto Bava\",\"Derek Cianfrance\",\"David Duchovny\",\"Paul Abascal\",\"Arthur Hiller\",\"Martin Lawrence\",\"William Wesley\",\"Alfred Hitchcock\",\"Tom Dey\",\"Jason Winer\",\"Hype Williams\",\"Claudia Llosa\",\"Ola Simonsson\",\"Johannes Stj\\u00e4rne Nilsson\",\"Antonio Margheriti\",\"Ulu Grosbard\",\"Allison Anders\",\"Alexandre Rockwell\",\"Morten Tyldum\",\"Diane English\",\"Gavin Hood\",\"Maxim Korostyshevsky\",\"Pete Riski\",\"Alan Smithee\",\"Terry George\",\"Kevin Spacey\",\"Chris Kentis\",\"Lamont Johnson\",\"Mario Bava\",\"Thomas Carter\",\"Jocelyn Moorhouse\",\"Charles Band\",\"Barry W\",\"Ken Russell\",\"John De Bello\",\"James Ivory\",\"Craig Zobel\",\"Pierre Morel\",\"Bill Fishman\",\"Steven Zaillian\",\"Hatsuki Tsuji\",\"Miguel Arteta\",\"Artie Mandelberg\",\"Stephan Elliott\",\"Des McAnuff\",\"Robby Henson\",\"\\u00c9lie Chouraqui\",\"Andy Garcia\",\"Keith Gordon\",\"Mick Garris\",\"Dewey Nicks\",\"Chris Nahon\",\"Alex Holdridge\",\"Greg McLean\",\"Adam Marcus\",\"Michele Soavi\",\"Penelope Spheeris\",\"Stephen Surjik\",\"Mark Rosman\",\"Galt Niederhoffer\",\"Jeff King\",\"Jessy Terrero\",\"James Wong\",\"Kasi Lemmons\",\"Ellory Elkayem\",\"Tommy Lee Wallace\",\"David Dobkin\",\"Robert Harmon\",\"Jim Hanon\",\"Mike Newell\",\"Gerald Potterton\",\"John Bruno\",\"John Halas\",\"Julian Harris\",\"Jimmy T\",\"Michael G\",\"Lloyd Kaufman\",\"Michael Burke\",\"Nancy Meyers\",\"Franco Zeffirelli\",\"John Pogue\",\"Edward Burns\",\"Bille Woodruff\",\"Jim Field Smith\",\"Tristan Patterson\",\"Nicolas Winding Refn\",\"Eric Radomski\",\"Bruce Timm\",\"Kevin Altieri\",\"Boyd Kirkland\",\"Frank Paur\",\"Dan Riba\",\"Michael Patrick Jann\",\"Joseph Guzman\",\"Tim Hunter\",\"Victor Nunez\",\"Joe Berlinger\",\"Harry Winer\",\"Stephen Gyllenhaal\",\"Michel Leclerc\",\"Dario Argento\",\"Billy Bob Thornton\",\"Jan de Bont\",\"David Green\",\"Bill Duke\",\"Deran Sarafian\",\"Roland Suso Richter\",\"Tom Tykwer\",\"Christian Alvart\",\"Gary Jones\",\"Alejandro Jodorowsky\",\"Mark Goldblatt\",\"Michael Herz\",\"Harry Thomason\",\"Michael Karbelnikoff\",\"Dan Harris\",\"Ron Maxwell\",\"Julie Taymor\",\"Jim Loach\",\"Jeff Schaffer\",\"Alec Berg\",\"David Mandel\",\"Jason Wulfsohn\",\"Jason Eisener\",\"Nicholas Meyer\",\"Jay Duplass\",\"Mark Duplass\",\"Michael Hoffman\",\"Steve Box\",\"Nick Park\",\"Gilles Paquet\",\"Richard Williams\",\"Todd Strauss\",\"Christine Jeffs\",\"Brad Furman\",\"Brad Peyton\",\"Thomas J\",\"Richard Compton\",\"David McNally\",\"Rod Daniel\",\"Robert Lieberman\",\"David O\",\"Rick Moranis\",\"Dave Thomas\",\"Michael Haneke\",\"Randal Kleiser\",\"Rusty Cundieff\",\"Maggie Greenwald\",\"David Carson\",\"Patrick Tatopoulos\",\"Billy Weber\",\"Frank Henenlotter\",\"Ethan Maniquis\",\"Danny Steinmann\",\"Alan Pao\",\"Russ Meyer\",\"Kirk De Micco\",\"Asger Leth\",\"Maurice Phillips\",\"Neal Jimenez\",\"Michael Steinberg\",\"William Lustig\",\"Diane Keaton\",\"Charles S\",\"Marcus Dunstan\",\"Tom Shankland\",\"Fritz Kiersch\",\"Bibo Bergeron\",\"Don Paul\",\"Jeffrey Katzenberg\",\"Stefan Ruzowitzky\",\"James Nguyen\",\"David Slade\",\"Christophe Gans\",\"Sh\\u00fbsuke Kaneko\",\"Troy Duffy\",\"Simon Brand\",\"Matt Reeves\",\"Todd Field\",\"Ken Wiederhorn\",\"Bille August\",\"Jorma Taccone\",\"Tony Giglio\",\"Ed Solomon\",\"Danny Pang\",\"Oxide Chun Pang\",\"Nora Ephron\",\"Hart Bochner\",\"Pierre Coffin\",\"Chris Renaud\",\"Peter R\",\"Robert Klane\",\"Rob Minkoff\",\"Steve Gordon\",\"Frank Marshall\",\"Jeff Blyth\",\"Gary Sherman\",\"Tom Vaughan\",\"Scott Mann\",\"Rod Amateau\",\"John Derek\",\"Frank Darabont\",\"Charles Jarrott\",\"Jason Friedberg\",\"Aaron Seltzer\",\"Desmond Nakano\",\"Jaume Collet\",\"John Erick Dowdle\",\"Brian Levant\",\"William Shatner\",\"Paul Weitz\",\"Robert Stevenson\",\"Adam Rifkin\",\"Burr Steers\",\"Joe Ranft\",\"Marco Kreuzpaintner\",\"Mary Harron\",\"Lexi Alexander\",\"Don Handfield\",\"Peter Kosminsky\",\"Cary Joji Fukunaga\",\"William Monahan\",\"Philip D\",\"George Cukor\",\"John Warren\",\"Kathryn Bigelow\",\"Wayne Wang\",\"Dan Ireland\",\"Gabriel Cowan\",\"Tom Ford\",\"Daniel Myrick\",\"Jack Smight\",\"Kelly Asbury\",\"Joshua Michael Stern\",\"Charles Matthau\",\"Mark Waters\",\"Stanley Donen\",\"Paul Lynch\",\"Peter Werner\",\"Fisher Stevens\",\"Michael Pavone\",\"Ron Krauss\",\"Nathan Hope\",\"Uli Edel\",\"Tamara Jenkins\",\"Larry Cohen\",\"David Caesar\",\"Joachim R\\u00f8nning\",\"Espen Sandberg\",\"James Bobin\",\"Zach Helm\",\"Stephen Kijak\",\"Michael Crichton\",\"Bill Norton\",\"Tom Tataranowicz\",\"Claude Chabrol\",\"Josh Stolberg\",\"Clark Johnson\",\"Jeff Tremaine\",\"Judd Apatow\",\"Jonathan Wacks\",\"Mabrouk El Mechri\",\"Bryan Singer\",\"John Michael McDonagh\",\"Jeremiah S\",\"Melanie Mayron\",\"Don Siegel\",\"Steve Antin\",\"Richard Friedenberg\",\"Hunter Richards\",\"Gilbert Adler\",\"Will Gluck\",\"Peter Ho\",\"Rob Pritts\",\"Arlene Sanford\",\"Michael Gornick\",\"Sean S\",\"Darren Lynn Bousman\",\"Eric Brevig\",\"Phil Lord\",\"Christopher Miller\",\"Ate de Jong\",\"George Hickenlooper\",\"Noah Baumbach\",\"Ken Shapiro\",\"Jason Moore\",\"Wes Ball\",\"Hal Hartley\",\"James Marsh\",\"Peter Cattaneo\",\"Karen Moncrieff\",\"Jan Kounen\",\"Shane Black\",\"Masayuki Ochiai\",\"Doug Ellin\",\"Robert B\",\"Michael Hoffman Jr\",\"John Hughes\",\"Bruno Barreto\",\"Steve Oedekerk\",\"Neil Burger\",\"Slava Tsukerman\",\"Jack Nicholson\",\"Eric Red\",\"Fraser C\",\"Ry\\u00fbhei Kitamura\",\"Steve Buscemi\",\"Duncan Jones\",\"Pitof\",\"Tim Hamilton\",\"Michael Mayer\",\"Mark Steilen\",\"Shane Meadows\",\"John Hamburg\",\"Dave Meyers\",\"Charlie Kaufman\",\"Drew Goddard\",\"Aaron Blaise\",\"Robert Walker\",\"Carl Reiner\",\"Gene Saks\",\"Stephen Kay\",\"Michael Cristofer\",\"Marek Kanievska\",\"Jeff Kanew\",\"Breck Eisner\",\"Kevin Yagher\",\"Joss Whedon\",\"Nicole Holofcener\",\"Sidney Lumet\",\"Costa\",\"Derek Jarman\",\"Robert Clouse\",\"Bruce Lee\",\"Catherine Hardwicke\",\"Steve Kloves\",\"Jon Avnet\",\"Marleen Gorris\",\"Dan Aykroyd\",\"Peter M\",\"Katt Shea\",\"Alejandro Agresti\",\"Stephen Hillenburg\",\"Jody Hill\",\"Sebastian Gutierrez\",\"Mark Robson\",\"Steve Bendelack\",\"Brian Helgeland\",\"Michael Tiddes\",\"Antti Jokinen\",\"Colin Brady\",\"Christopher Reeve\",\"Daniel St\",\"Mark Fergus\",\"Vondie Curtis\",\"Mel Gibson\",\"Noam Murro\",\"Jerry Rees\",\"Bob Balaban\",\"Luca Bercovici\",\"Dan Scanlon\",\"Mark Piznarski\",\"Nacho Cerd\\u00e0\",\"Jeff Betancourt\",\"Julien Magnat\",\"Geoffrey Sax\",\"\\u00c9mile Gaudreault\",\"Ovidio G\",\"Anne Goursaud\",\"Wayne Kramer\",\"Michael Corrente\",\"Robert Radler\",\"Panos Cosmatos\",\"Walter Murch\",\"Doug Lefler\",\"George Huang\",\"Ericson Core\",\"John Cameron Mitchell\",\"Mat Whitecross\",\"John Krish\",\"Peter Sykes\",\"Mark Pellington\",\"Gary Fleder\",\"Arna Selznick\",\"Pearry Reginald Teo\",\"Ben Lewin\",\"Takashi Miike\",\"Kenneth Lonergan\",\"Julie Anne Robinson\",\"George Jackson\",\"David Gordon Green\",\"Matt Maiellaro\",\"Dave Willis\",\"Zal Batmanglij\",\"Christopher Guest\",\"Byron Howard\",\"Chris Williams\",\"Luc Jacquet\",\"Jerry Belson\",\"Barry Skolnick\",\"Louis C\",\"Luis Llosa\",\"Peyton Reed\",\"Sam Weisman\",\"James Signorelli\",\"Stephen Milburn Anderson\",\"Colin Trevorrow\",\"Tom Mankiewicz\",\"Boaz Yakin\",\"Nigel Cole\",\"John Hoffman\",\"Mekhi Phifer\",\"Mennan Yapo\",\"Zack Snyder\",\"Chan\",\"Geoff Burton\",\"Kevin Dowling\",\"Dennis Iliadis\",\"Rob Bowman\",\"Franck Khalfoun\",\"Joon\",\"Roger Michell\",\"Marco Schnabel\",\"Rowan Joffe\",\"Michelle Manning\",\"George Barry\",\"Steve Taylor\",\"Renzo Martinelli\",\"Raymond De Felitta\",\"David Schwimmer\",\"David Atkins\",\"Paddy Breathnach\",\"Leon Ichaso\",\"Dave Borthwick\",\"Jean Duval\",\"Frank Passingham\",\"Michael Lembeck\",\"Akira Kurosawa\",\"Henry Winkler\",\"Shane Carruth\",\"Julien Temple\",\"John Wells\",\"Phil Roman\",\"Matthijs van Heijningen Jr\",\"Bill Couturi\\u00e9\",\"Les Mayfield\",\"Plan B\",\"Andrew Currie\",\"Ringo Lam\",\"Niels Arden Oplev\",\"Jim Strouse\",\"Guillaume Canet\",\"Rafal Zielinski\",\"Bill Forsyth\",\"Stan Dragoti\",\"Michael Spierig\",\"Peter Spierig\",\"Campbell Scott\",\"Stanley Tucci\",\"Stig Bergqvist\",\"Paul Demeyer\",\"Adam Simon\",\"Darren Moloney\",\"Alfred Sole\",\"Gina Prince\",\"Bruce Malmuth\",\"Rian Johnson\",\"Amy Holden Jones\",\"Michael Polish\",\"Michael Gottlieb\",\"Jerzy Skolimowski\",\"Greg Harrison\",\"Karan Johar\",\"Henry Bromell\",\"Norman Jewison\",\"Charles Kaufman\",\"James Bridges\",\"Bernard Rose\",\"William Girdler\",\"Gregor Jordan\",\"Hark Tsui\",\"David J\",\"Jeannot Szwarc\",\"Nelson McCormick\",\"John Eng\",\"Norton Virgien\",\"Hiromasa Yonebayashi\",\"Rainer Werner Fassbinder\",\"Jonathan Kesselman\",\"S\",\"Paul Flaherty\",\"Jeff Fisher\",\"Barnaby Thompson\",\"Kar\",\"Larry Clark\",\"Craig Gillespie\",\"Kevin Munroe\",\"Arthur Penn\",\"Clive Barker\",\"Jamie Blanks\",\"Brett Sullivan\",\"Rand Ravich\",\"Ben Wheatley\",\"Jay Chandrasekhar\",\"Rudy De Luca\",\"Gavin Grazer\",\"Steve Hickner\",\"Simon Wells\",\"Neill Blomkamp\",\"Scott Marshall\",\"Susan Montford\",\"Colin Minihan\",\"Stuart Ortiz\",\"The Vicious Brothers\",\"Edward James Olmos\",\"Drake Doremus\",\"Susan Seidelman\",\"Steve Trenbirth\",\"Paul Michael Glaser\",\"Kevin Allen\",\"Brad Lewis\",\"Burt Reynolds\",\"Dean Wright\",\"Wolfgang Reitherman\",\"Phyllida Lloyd\",\"Tony Leondis\",\"John Lee Hancock\",\"Troy Nixey\",\"Darko Mitrevski\",\"Ken Scott\",\"Peter Ramsey\",\"Alejandro G\",\"Mike Disa\",\"Jane Wagner\",\"Tommy Wiseau\",\"Buddy Van Horn\",\"Chip Hale\",\"Lara Shapiro\",\"Scott Stewart\",\"Daisy von Scherler Mayer\",\"Peter Stebbings\",\"Brian Klugman\",\"Lee Sternthal\",\"James Ponsoldt\",\"Warren Beatty\",\"Jeff Wadlow\",\"Clement Virgo\",\"Tony Bill\",\"Martha Fiennes\",\"Tom Gries\",\"Steve Carver\",\"James Sbardellati\",\"James Glickenhaus\",\"Dennie Gordon\",\"Mike Thurmeier\",\"Craig Viveiros\",\"John Pieplow\",\"Ari Folman\",\"Richard Curtis\",\"Peter Burger\",\"Michael Keaton\",\"Scott Spiegel\",\"Olivier Megaton\",\"James Dearden\",\"Charles T\",\"Kim Henkel\",\"Joe Roth\",\"Jonathan Levine\",\"Guy Hamilton\",\"Floyd Mutrux\",\"Duwayne Dunham\",\"Damien Dante Wayans\",\"Robert Stromberg\",\"Paul Auster\",\"Bill Kroyer\",\"Marc Abraham\",\"Nick Love\",\"Scott McGehee\",\"David Siegel\",\"Howard E\",\"James M\",\"Peter Cornwell\",\"George Gallo\",\"Julian Richards\",\"Kimberly Peirce\",\"Stuart Baird\",\"Jim Fall\",\"Seth MacFarlane\",\"Peter Kassovitz\",\"Shane Abbess\",\"Agnieszka Wojtowicz\",\"Lee Tamahori\",\"Ron Clements\",\"John Musker\",\"Spencer Susser\",\"Adrian Vitoria\",\"Stephen Kessler\",\"Peter Care\",\"Matthew Robbins\",\"Jeff Franklin\",\"Steve James\",\"Laurie Collyer\",\"Bryan Johnson\",\"Jack Bravman\",\"Glenn McQuaid\",\"James Orr\",\"Steve Gomer\",\"Andrey Konchalovskiy\",\"Albert Magnoli\",\"David Frankel\",\"John Bailey\",\"Dan Bradley\",\"Nicholas Hytner\",\"Julio DePietro\",\"Anders Anderson\",\"James Komack\",\"Jerry Schatzberg\",\"Goran Dukic\",\"Michael Pressman\",\"Jeff Lieberman\",\"Sylvain Chomet\",\"Sergio Leone\",\"Shari Springer Berman\",\"Robert Pulcini\",\"Farhad Mann\",\"Rintaro\",\"Hironobu Sakaguchi\",\"Motonori Sakakibara\",\"Kelly Reichardt\",\"Katja von Garnier\",\"Ben Younger\",\"Ted Kotcheff\",\"Colin Eggleston\",\"Hyung\",\"David Wain\",\"Rupert Sanders\",\"Just Jaeckin\",\"Alejandro Monteverde\",\"Angela Robinson\",\"Gil Junger\",\"Erik Skjoldbj\\u00e6rg\",\"Duncan Tucker\",\"Nnegest Likk\\u00e9\",\"Bob Spiers\",\"Craig McCracken\",\"Will Finn\",\"Charles Herman\",\"Jon Stewart\",\"Caroline Link\",\"Mark Brown\",\"Don Michael Paul\",\"Matt Dillon\",\"Fred Zinnemann\",\"Mar\\u00eda Lid\\u00f3n\",\"David DeFalco\",\"Mark DiSalle\",\"Donald W\",\"David L\",\"Anna Boden\",\"David Hogan\",\"Jonathan Caouette\",\"Nick Tomnay\",\"Sam Levinson\",\"Jill Sprecher\",\"Steve Barron\",\"Erick Zonca\",\"Gary Trousdale\",\"Kirk Wise\",\"Brian Horiuchi\",\"Huck Botko\",\"Andrew Gurland\",\"Hendel Butoy\",\"Marshall Herskovitz\",\"Christopher Hampton\",\"Todd Solondz\",\"Steve De Jarnatt\",\"Jesse Vaughan\",\"Radha Bharadwaj\",\"Nicholas Stoller\",\"Thomas Schlamme\",\"Stuart Gillard\",\"Nick Castle\",\"Fede Alvarez\",\"Kriv Stenders\",\"Tom Hanks\",\"Ken Finkleman\",\"Scott Silver\",\"Kieran Darcy\",\"Malcolm Venville\",\"David Nutter\",\"Lorna Cook\",\"Steve\",\"Amanda Gusack\",\"Curt A\",\"Griffin Dunne\",\"Vadim Perelman\",\"Tony Maylam\",\"Jeffrey W\",\"Mark Jones\",\"Joseph Kosinski\",\"Terence Young\",\"Bob Giraldi\",\"Nathan Greno\",\"David Weaver\",\"Callie Khouri\",\"Aaron Schneider\",\"David Nerlich\",\"Andrew Traucki\",\"Lisa Krueger\",\"Xavier Dolan\",\"Olatunde Osunsanmi\",\"Bruce Joel Rubin\",\"John Sanford\",\"Julian Schnabel\",\"Andrew Haigh\",\"David Bruckner\",\"Dan Bush\",\"Jacob Gentry\",\"James McTeigue\",\"Lynn Shelton\",\"Harvey Wang\",\"Tom Six\",\"John N\",\"Roger Allers\",\"Tom Stern\",\"Alex Winter\",\"Lee Daniels\",\"Terence Davies\",\"Jody Dwyer\",\"Robert Bierman\",\"Gregory Read\",\"Steven Hahn\",\"Steven Brill\",\"Alister Grierson\",\"Deborah Kampmeier\",\"Robert Greenwald\",\"Peter Lord\",\"Jeff Newitt\",\"Don Mancini\",\"Darren Dunstan\",\"Gilles Bourdos\",\"Jake West\",\"Jonathan English\",\"Newt Arnold\",\"Nikolai M\\u00fcllersch\\u00f6n\",\"Whit Stillman\",\"Kevin Brodie\",\"Robert Young\",\"Liev Schreiber\",\"Conor Allyn\",\"Chuck Sheetz\",\"Cathy Malkasian\",\"Jeff McGrath\",\"Arie Posin\",\"Charles Stone III\",\"Todd Lincoln\",\"Rob Schneider\",\"Bruce Paltrow\",\"Gerald McMorrow\",\"Damien O\",\"Savage Steve Holland\",\"John Schlesinger\",\"Tom Hines\",\"Luiso Berdejo\",\"Derick Martini\",\"John Stainton\",\"Mark Dindal\",\"Robert Duvall\",\"Tim Sullivan\",\"Anthony Waller\",\"Peter Sasdy\",\"C\\u00e9dric Klapisch\",\"Jim Kohlberg\",\"Denzel Washington\",\"John Stevenson\",\"John O\",\"William A\",\"Steven Lisberger\",\"John Harrison\",\"Benny Boom\",\"Alan Cohn\",\"Matt Williams\",\"Jeff Burr\",\"Frank Nissen\",\"Paul Johansson\",\"Claudio Fragasso\",\"Stephen King\",\"Jared Hess\",\"Alex Smith\",\"Andrew J\",\"Rawson Marshall Thurber\",\"Tarun Mansukhani\",\"Richard Franklin\",\"David Chase\",\"Bruce Hunt\",\"Liz Friedlander\",\"Dean Semler\",\"Peter Faiman\",\"Aaron Norris\",\"Dusan Makavejev\",\"Jonas Elmer\",\"Neil Marshall\",\"Douglas Trumbull\",\"Kevin Tenney\",\"Ben Coccio\",\"Chris Sivertson\",\"Peter Medak\",\"Derrick Borte\",\"Janusz Kaminski\",\"Robert Marcarelli\",\"John Humber\",\"Henry Hobson\",\"Kevin Alyn Elders\",\"Alex Chandon\",\"Joe Cornish\",\"John Payson\",\"Michael Davis\",\"Loveleen Tandan\",\"Oliver Hirschbiegel\",\"Lisa Cholodenko\",\"Mary Lambert\",\"Brian Trenchard\",\"Peter Chelsom\",\"Jourdan McClure\",\"Guy Ferland\",\"Pete Travis\",\"Michael Tollin\",\"Don Chaffey\",\"Mark Palansky\",\"Helen Hunt\",\"Ol Parker\",\"Martin McDonagh\",\"Peter Greenaway\",\"Steven Quale\",\"Paris Barclay\",\"Joe Nussbaum\",\"Terrence Malick\",\"David Seltzer\",\"Michael Miller\",\"Dan Rush\",\"Joan Chen\",\"Ed Bye\",\"Rolf de Heer\",\"Blair Treu\",\"Asif Kapadia\",\"Timur Bekmambetov\",\"Herschell Gordon Lewis\",\"Adam Gierasch\",\"Andrew Douglas\",\"Don Scardino\",\"Vincent Gallo\",\"John Simpson\",\"Dito Montiel\",\"Forest Whitaker\",\"James Gunn\",\"Mickey Liddell\",\"Reb Braddock\",\"Britt Allcroft\",\"Bob Odenkirk\",\"Mick Davis\",\"Robert Resnikoff\",\"John A\",\"Hoyt Yeatman\",\"James Burrows\",\"Carlos \\u00c1vila\",\"Kevin Williamson\",\"Michael Martin\",\"Eric Blakeney\",\"Eric Leighton\",\"Ralph Zondag\",\"Chia\",\"Gary David Goldberg\",\"Tom Brady\",\"Gary Oldman\",\"George Ogilvie\",\"Marisa Silver\",\"Michel Gondry\",\"Ben Palmer\",\"Paul Andrew Williams\",\"Steven E\",\"Enrique Gato\",\"Abe Sylvia\",\"Michael Wadleigh\",\"Ralph S\",\"John Glenn\",\"Adam Bernstein\",\"Robert Moore\",\"Ryan Little\",\"Eric Till\",\"Tony Bancroft\",\"Paul Brickman\",\"Michael McGowan\",\"Rodrigo Garc\\u00eda\",\"Mort Nathan\",\"Lisa Azuelos\",\"Nick Willing\",\"Guy Moshe\",\"Dennis Donnelly\",\"Genndy Tartakovsky\",\"Nia Vardalos\",\"Jacques Audiard\",\"Christopher Menaul\",\"Kelly Makin\",\"Steven R\",\"Steve Jacobs\",\"Menhaj Huda\",\"Michael Lehmann\",\"David Blyth\",\"Brad Mirman\",\"John Patrick Shanley\",\"Guillermo Arriaga\",\"Ted Berman\",\"Art Stevens\",\"Xavier Gens\",\"Stephen Carpenter\",\"Eric Amadio\",\"Paolo Sorrentino\",\"James Watkins\",\"Paul Morrison\",\"Predrag Antonijevic\",\"Patricio Valladares\",\"Sheree Folkson\",\"Brian Dannelly\",\"Mel Smith\",\"Jonathan Glazer\",\"Marc Sch\\u00f6lermann\",\"Jill Culton\",\"Anthony Stacchi\",\"James Duffy\",\"Patrik Forsberg\",\"Will Graham\",\"Jonathan van Tulleken\",\"Adam Green\",\"Bennett Miller\",\"Geoff Burrowes\",\"Paul Gross\",\"Andy Wilson\",\"Lee Demarbre\",\"Nico Mastorakis\",\"Matthew Diamond\",\"Matthew Meshekoff\",\"\\u00c9douard Molinaro\",\"Steve Saint Leger\",\"James Mather\",\"Martin Ritt\",\"Risa Bramon Garcia\",\"Julie Davis\",\"Nat Faxon\",\"Jim Rash\",\"F\\u00e9lix Enr\\u00edquez Alcal\\u00e1\",\"Julian Jarrold\",\"\\u00c1lex de la Iglesia\",\"Denis Villeneuve\",\"Stephen Poliakoff\",\"Ram\\u00f3n Men\\u00e9ndez\",\"Charles Lane\",\"John Francis Daley\",\"Jonathan Goldstein\",\"Mike Binder\",\"Yimou Zhang\",\"Mike Nawrocki\",\"Phil Vischer\",\"Dan O\",\"Chris Buck\",\"William H\",\"Fred Wolf\",\"Zoran Perisic\",\"David Nixon\",\"Patrick Doughtie\",\"Gary Goddard\",\"Robert Ben Garant\",\"Chris Koch\",\"Rodrigo Cort\\u00e9s\",\"Trent Cooper\",\"Joe Pytka\",\"Leigh Whannell\",\"James Algar\",\"Ga\\u00ebtan Brizzi\",\"Paul Brizzi\",\"Francis Glebas\",\"Don Hahn\",\"Nicholas McCarthy\",\"Michael Hegner\",\"Kari Juusonen\",\"Jacob Estes\",\"H\",\"Daniel Barber\",\"Joby Harold\",\"Pawel Pawlikowski\",\"Sam Firstenberg\",\"John Polson\",\"Maurice Joyce\",\"David Brooks\",\"Michel Hazanavicius\",\"Larry Bishop\",\"William Sterling\",\"Bob Peterson\",\"Stephen J\",\"Patricia Rozema\",\"Darren Grant\",\"Anthony Bell\",\"Ben Gluck\",\"Kevin Tancharoen\",\"Lynne Ramsay\",\"Keoni Waxman\",\"Preston A\",\"Fran\\u00e7ois Velle\",\"Charles E\",\"David Webb Peoples\",\"Dana Lustig\",\"Gabriele Muccino\",\"Gillies MacKinnon\",\"James DeMonaco\",\"Howard Franklin\",\"Bill Murray\",\"John Poliquin\",\"Stephen Chow\",\"Justin Kerrigan\",\"Graham Baker\",\"Michael O\",\"Gregory Nava\",\"Howard Storm\",\"Kimble Rendall\",\"Carl Schenkel\",\"Jon Poll\",\"Mark Herman\",\"Tim Fywell\",\"Daniel Stamm\",\"Rick Famuyiwa\",\"Takeshi Kitano\",\"Chris Fisher\",\"Stuart Beattie\",\"Lone Scherfig\",\"Andrew Solt\",\"Brian Henson\",\"Michael Benveniste\",\"Howard Ziehm\",\"Henry Alex Rubin\",\"Howie Askins\",\"Justin Zackham\",\"Ian Sharp\",\"Nick Hamm\",\"Shane Acker\",\"Wil Shriner\",\"Lance Daly\",\"Desmond Davis\",\"Mark A\",\"Daniel Barnz\",\"Michael Haussman\",\"Nima Nourizadeh\",\"Patty Jenkins\",\"Deb Hagan\",\"Tanner Beard\",\"Peter H\",\"Eric Karson\",\"John Maybury\",\"Bonnie Hunt\",\"Yurek Bogayevicz\",\"Mitch Glazer\",\"Chris Stokes\",\"Max Giwa\",\"Dania Pasquini\",\"David Mackenzie\",\"Rob Epstein\",\"Jeffrey Friedman\",\"Jeff Renfroe\",\"Tom Green\",\"Lena Dunham\",\"Gareth Evans\",\"Karyn Kusama\",\"Kirsten Sheridan\",\"Anthony Hemingway\",\"Joey Lauren Adams\",\"Mark Tonderai\",\"Paul Hunter\",\"Norm Hunter\",\"Matt Orlando\",\"Alek Keshishian\",\"Bob Saget\",\"Bill Paxton\",\"Bruce A\",\"Tom DiCillo\",\"Jon Knautz\",\"Phil Traill\",\"Rob Thomas\",\"Edward Anderson\",\"David Hugh Jones\",\"Etan Cohen\",\"Gary Halvorson\",\"David Lowell Rich\",\"Udayan Prasad\",\"Scott Frank\",\"Scott Winant\",\"Samuel Fischer\",\"Marc Rocco\",\"Ash Brannon\",\"Steven Seagal\",\"Michael Cohn\",\"Matthew Warchus\",\"Kyle Newman\",\"Trevor Nunn\",\"Frank Sebastiano\",\"Bart Freundlich\",\"Marc Webb\",\"Michael Anderson\",\"Annabel Jankel\",\"Rocky Morton\",\"Bent Hamer\",\"Wallace Wolodarsky\",\"Douglas Day Stewart\",\"Madonna\",\"Ian Fitzgibbon\",\"Jamie Uys\",\"Luis Valdez\",\"Rob Hardy\",\"Mark Christopher\",\"Scott Kalvert\",\"Giorgio Serafini\",\"Fred Durst\",\"Richard Moore\",\"Clive Donner\",\"Vic Armstrong\",\"George Pavlou\",\"Thor Freudenthal\",\"Antonio Negret\",\"Tom Harper\",\"Todd Robinson\",\"Michael Sucsy\",\"Jim Drake\",\"Benh Zeitlin\",\"Steven C\",\"Jesse Peretz\",\"John Byrum\",\"Bruce Robinson\",\"Tommy Lee Jones\",\"G\\u00e9rard Pir\\u00e8s\",\"Blair Hayes\",\"Todd Holland\",\"Joseph Losey\",\"Ric Roman Waugh\",\"Warren P\",\"Bobcat Goldthwait\",\"Miguel Sapochnik\",\"Craig Bolotin\",\"Sam Taylor\",\"Timothy Bj\\u00f6rklund\",\"David Moreton\",\"Fred Andrews\",\"Barry Battles\",\"Francesca Gregorini\",\"Jeffrey Blitz\",\"Akiva Goldsman\",\"Jeffrey Nachmanoff\",\"Simon Hunter\",\"Lee Toland Krieger\",\"Michael W\",\"Eric Schaeffer\",\"Jack Sholder\",\"Ruairi Robinson\",\"Scott Speer\",\"Elia Kazan\",\"Laura Lau\",\"Robert Butler\",\"Stephen Elliott\",\"Greg Beeman\",\"Luigi Cozzi\",\"Justin Chadwick\",\"Josh Schwartz\",\"Charles Grosvenor\",\"Brett Ryan Bonowicz\",\"Zak Penn\",\"George Nolfi\",\"Marcos Siega\",\"Antony Hoffman\",\"Eran Creevy\",\"Phil Morrison\",\"Damiano Damiani\",\"Duncan Gibbins\",\"Stefen Fangmeier\",\"Henry Joost\",\"Ariel Schulman\",\"Robin Hardy\",\"Salim Akil\",\"Kenneth Castillo\",\"Jerry Zaks\",\"David Ayer\",\"Heywood Gould\",\"Jack Clayton\",\"Noel Clarke\",\"Mark Davis\",\"Tod Williams\",\"Michael Chapman\",\"Michael Brandt\",\"Christopher Landon\",\"Benedek Fliegauf\",\"Carter Smith\",\"Brian Koppelman\",\"David Levien\",\"Colin Higgins\",\"Florian Henckel von Donnersmarck\",\"Burny Mattinson\",\"David Michener\",\"David Moreau\",\"Xavier Palud\",\"Andrei Tarkovsky\",\"Alan Clarke\",\"Elissa Down\",\"Adam Goldberg\",\"Chris Graham\",\"Michael Rymer\",\"Bryan Bertino\",\"Jaco Van Dormael\",\"Chris Butler\",\"Sam Fell\",\"Donna Deitch\",\"Darnell Martin\",\"James Dodson\",\"Cory Edwards\",\"Todd Edwards\",\"Tony Leech\",\"Scott Ziehl\",\"Antonia Bird\",\"Drew Barrymore\",\"Floria Sigismondi\",\"Kyle Balda\",\"Michael McCullers\",\"Gregory Widen\",\"Aaron Harvey\",\"David Palmer\",\"Dax Shepard\",\"Moustapha Akkad\",\"Nick Murphy\",\"Gary Nelson\",\"Patricia Riggen\",\"Jan Egleson\",\"Simon J\",\"Chris Shadley\",\"Y\\u00f4jir\\u00f4 Takita\",\"Jackie Chan\",\"Grant Heslov\",\"Andrew V\",\"Daniel Attias\",\"Steve Conrad\",\"Paco Cabezas\",\"Manny Coto\",\"Patricia Cardoso\",\"Albert Brooks\",\"Charles Crichton\",\"John Cleese\",\"Bud S\",\"Willard Carroll\",\"Gary Sinyor\",\"Alex Kurtzman\",\"Nick Guthe\",\"Rob Hedden\",\"Jeremy Leven\",\"John Stalberg Jr\",\"Josh Radnor\",\"Alan Poul\",\"George Scribner\",\"Larry Peerce\",\"David Worth\",\"Kevin Asch\",\"Billy Crystal\",\"Fran Rubel Kuzui\",\"Mel City\",\"Bronwen Hughes\",\"Donald Cammell\",\"Mic Rodgers\",\"Jesse Holland\",\"Andy Mitton\",\"Gene Quintano\",\"Samuel Bayer\",\"John Hough\",\"Andrew Erwin\",\"Jon Erwin\",\"Pat Kelman\",\"Delbert Mann\",\"Tonino Valerii\",\"Kerry Conran\",\"Ice Cube\",\"Debra Granik\",\"Brandon Cronenberg\",\"Stuart Murdoch\",\"Fran\\u00e7ois Ozon\",\"Francis Veber\",\"Adrienne Shelly\",\"Ned Farr\",\"Jerry Paris\",\"George C\",\"Howard McCain\",\"Simon Fellows\",\"Jieho Lee\",\"Lucio Fulci\",\"Allan Arkush\",\"Jonas \\u00c5kerlund\",\"Christopher Crowe\",\"Richard Shepard\",\"Peter Howitt\",\"Louis Morneau\",\"Robert Stevenhagen\",\"Kari Skogland\",\"Jonas McCord\",\"Mitch Davis\",\"Billy Kent\",\"Liliana Cavani\",\"David Price\",\"Joel Viertel\",\"Xavier Koller\",\"James Bolton\",\"Morgan O\",\"Lauren Lazin\",\"Bharat Nalluri\",\"Robert Townsend\",\"Mitchell Altieri\",\"Phil Flores\",\"Joel Gallen\",\"Dan Gildark\",\"John Herzfeld\",\"Matthew Bright\",\"Emily Young\",\"Matthew Hope\",\"Theodore Witcher\",\"Tom Elkins\",\"Eric Bress\",\"Brian G\",\"Daniel Algrant\",\"Gregory Plotkin\",\"Richard Pryor\",\"Robert Taylor\",\"Miranda July\",\"Seth Grossman\",\"Bill Boyce\",\"John Stronach\",\"Youssef Delara\",\"Michael D\",\"James Yukich\",\"John Bonito\",\"Bryan Barber\",\"Tim McCanlies\",\"Igor Kovalyov\",\"Brendan Malloy\",\"Emmett Malloy\",\"Scott Sanders\",\"Dominic Burns\",\"Rupert Wyatt\",\"Nils Gaup\",\"Shana Feste\",\"Michael Dougherty\",\"Drew Daywalt\",\"David Schneider\",\"Meir Zarchi\",\"Katherine Brooks\",\"Rob McKittrick\",\"Randall Wallace\",\"Alison Maclean\",\"Mark Mylod\",\"Mike Cahill\",\"Tomm Moore\",\"Nora Twomey\",\"Rick Friedberg\",\"John Flynn\",\"Saul Dibb\",\"Kevin Carraway\",\"Douglas Aarniokoski\",\"Thomas K\",\"Marc Levin\",\"RZA\",\"Robert Adetuyi\",\"Lee Harry\",\"Gavin Millar\",\"Pat O\",\"Steve Shill\",\"Paul Golding\",\"Robert Crombie\",\"Sofya Skya\",\"Fernando Meirelles\",\"Quentin Dupieux\",\"Lance Rivera\",\"Jennifer Yuh Nelson\",\"Timo Vuorensola\",\"Christopher Leitch\",\"Shuki Levy\",\"David Winning\",\"Michael Clancy\",\"Daniel Petrie Jr\",\"Lewis Gilbert\",\"Paul Dinello\",\"Brian Clemens\",\"Bruce Campbell\",\"Richard W\",\"Emir Kusturica\",\"Michael Dinner\",\"Chris Roberts\",\"Nicolas Gessner\",\"Tom Laughlin\",\"Armando Iannucci\",\"Paul Miller\",\"Kinka Usher\",\"Tom DeSimone\",\"Alfonso Arau\",\"Roberts Gannaway\",\"Peggy Holmes\",\"Barbara Kopple\",\"Adrian Grunberg\",\"Chris Sanders\",\"Eric Bross\",\"Fons Rademakers\",\"Mamoru Hosoda\",\"Shigeyasu Yamauchi\",\"Keith Parmer\",\"Tommy Wirkola\",\"Jim Sonzero\",\"Dan Cutforth\",\"Jane Lipsitz\",\"Greg Coolidge\",\"Giuseppe Tornatore\",\"Tibor Tak\\u00e1cs\",\"Dean DeBlois\",\"Ralph Nelson\",\"Jake Paltrow\",\"Susanna White\",\"Wayne Thornley\",\"Greg Marcks\",\"Juan Solanas\",\"David DeCoteau\",\"Tom Schulman\",\"Mike Bigelow\",\"Chris Eyre\",\"Lee David Zlotoff\",\"Edward Norton\",\"Sue Brooks\",\"Tim Chambers\",\"Dustin Hoffman\",\"Chris Rock\",\"Wych Kaosayananda\",\"Ben Stassen\",\"Mimi Maynard\",\"Stevan Mena\",\"Zach Cregger\",\"Trevor Moore\",\"David Miller\",\"Tom Savini\",\"Kaige Chen\",\"Stig Svendsen\",\"Ray Lawrence\",\"Nelson Shin\",\"David Lean\",\"Charlton Heston\",\"Patrick Hasburgh\",\"Michael Patrick King\",\"Frank Perry\",\"Hany Abu\",\"Michael Almereyda\",\"Louis Malle\",\"Richard Lowenstein\",\"Tate Taylor\",\"Alonso Mayo\",\"Justin Price\",\"Adam Rapp\",\"Patrick Gilmore\",\"Dan Reed\",\"Demian Lichtenstein\",\"John Gray\",\"Brett Simon\",\"Thomas Vinterberg\",\"Gordon Chan\",\"Jos\\u00e9 Padilha\",\"William Dear\",\"Richard Kwietniowski\",\"Martin Donovan\",\"Courtney Hunt\",\"Olivier Dahan\",\"Ciar\\u00e1n Foy\",\"Kat Coiro\",\"John Lounsbery\",\"Robert Heath\",\"Daniel Petrie\",\"Ed Decter\",\"Simon Moore\",\"Dermot Mulroney\",\"Norberto Barba\",\"Roger Nygard\",\"Carlo Carlei\",\"Salvador Litvak\",\"Daniel Sackheim\",\"Henry Bean\",\"Sylvio Tabet\",\"Olivier Nakache\",\"\\u00c9ric Toledano\",\"Darren Stein\",\"Brian Crano\",\"Robert Lorenz\",\"John Ottman\",\"Andrew Sipes\",\"John Fortenberry\",\"Philip Saville\",\"Nae Caranfil\"],\"x\":[3,1,2,1,17,10,2,2,4,2,2,4,5,13,1,2,9,10,2,7,6,1,2,1,5,3,2,1,3,1,8,2,3,16,16,2,16,10,1,4,29,8,1,1,7,1,1,11,2,1,2,2,7,1,7,5,2,5,1,3,7,4,3,2,4,1,8,1,3,3,9,1,8,2,5,1,11,12,3,9,9,6,10,11,5,1,2,37,7,9,1,1,11,17,5,4,14,5,17,1,1,3,3,22,4,3,1,3,7,2,2,3,11,1,4,9,1,2,4,2,2,6,17,1,2,2,3,1,1,1,1,2,4,5,5,9,4,1,3,1,4,7,6,4,8,1,1,10,2,5,1,3,1,1,1,1,10,7,2,2,2,6,1,1,1,14,8,7,13,7,17,8,9,1,2,7,6,7,3,15,4,2,4,1,1,5,5,1,8,1,1,3,1,1,10,5,7,2,3,1,4,3,2,3,4,20,4,5,5,10,16,1,1,18,7,6,8,1,4,3,1,3,2,5,4,4,1,1,4,3,2,1,1,2,1,29,1,1,17,6,4,1,1,1,14,4,19,1,5,2,2,2,1,8,4,6,8,1,11,1,1,6,9,4,6,10,1,4,1,1,1,1,2,2,17,1,5,4,24,1,4,2,1,1,2,1,11,10,1,1,2,1,1,1,1,1,1,4,1,1,12,8,1,1,2,2,1,1,4,2,2,2,1,1,6,3,3,5,4,10,1,1,5,3,3,9,1,1,6,4,6,1,1,6,1,2,2,1,2,9,1,2,2,1,21,1,8,1,2,1,1,4,2,4,1,18,3,2,1,1,3,2,1,2,12,1,2,7,6,2,3,3,2,15,5,3,3,6,2,1,1,2,5,2,5,4,1,3,2,2,2,2,7,4,14,2,4,5,2,7,5,2,5,8,10,3,11,1,2,2,4,6,7,1,1,1,1,2,6,1,4,4,6,1,6,3,2,6,2,1,3,2,7,2,4,5,3,5,9,6,3,2,6,2,2,2,7,2,3,4,5,1,2,4,4,6,1,5,4,4,1,1,1,6,5,3,4,3,1,8,1,2,4,5,8,1,1,3,5,6,1,2,8,2,1,6,4,1,7,1,9,2,2,2,1,1,3,1,5,3,1,2,3,3,1,5,2,6,1,1,4,1,5,10,3,1,1,1,1,1,3,5,5,17,11,3,3,3,9,3,5,1,1,1,7,1,5,4,1,11,1,4,5,3,8,9,1,4,1,5,3,3,5,13,2,1,1,6,4,14,1,1,3,9,3,2,4,3,1,2,1,5,2,4,1,3,2,1,4,2,10,2,11,1,1,1,1,1,1,1,1,1,5,2,3,5,1,1,1,2,1,1,5,2,1,3,1,2,1,5,1,8,3,2,1,2,2,1,5,8,6,5,3,4,2,2,4,1,7,1,2,4,2,2,9,4,2,3,2,2,1,1,1,3,2,2,2,1,2,1,1,1,4,2,2,7,3,6,4,1,3,4,2,5,6,6,4,5,1,8,4,2,1,1,1,6,5,2,3,5,10,8,3,1,2,1,15,10,1,21,1,3,1,2,2,4,1,1,4,1,1,3,1,1,2,2,2,2,9,1,1,9,1,1,2,1,2,7,4,1,5,1,2,1,1,4,5,2,7,2,1,2,2,5,2,6,2,1,4,2,2,9,1,2,1,7,1,2,10,7,7,1,1,2,2,1,2,2,4,3,2,1,1,6,4,3,2,2,2,6,1,1,2,2,5,7,1,5,1,1,1,1,1,1,1,2,2,10,1,4,2,6,6,2,2,1,1,1,1,5,1,2,3,1,1,1,4,2,1,1,1,1,1,4,1,12,5,1,1,1,6,6,4,1,6,1,6,2,1,3,5,3,1,2,6,1,3,1,2,1,1,2,9,1,1,1,2,2,1,1,1,1,1,1,4,5,1,1,5,2,1,5,1,3,1,1,2,12,3,1,1,1,1,1,5,1,4,1,1,14,2,1,3,1,1,1,1,1,7,1,2,2,1,6,4,1,1,4,4,2,1,6,6,2,1,3,1,1,1,6,5,3,1,6,1,2,5,1,1,5,1,4,2,1,1,1,2,2,1,3,1,1,1,1,5,4,2,1,1,7,12,4,1,7,1,2,3,8,1,1,1,2,1,4,3,2,2,2,1,2,1,1,4,1,9,1,1,2,5,3,1,3,2,1,3,1,2,1,1,1,1,2,1,2,1,1,4,4,1,9,1,6,3,3,1,2,8,1,1,1,1,1,3,2,2,2,1,2,2,1,2,1,1,2,1,5,2,2,2,8,2,2,1,1,6,1,2,1,4,1,1,1,1,1,1,3,1,1,1,1,3,1,1,1,2,2,2,2,1,3,1,1,1,2,1,8,1,4,1,3,1,3,1,2,1,1,1,1,4,1,1,2,1,2,1,1,3,2,1,1,1,2,4,2,1,2,5,2,1,6,1,2,1,1,2,1,3,1,4,2,1,4,1,1,1,5,1,1,1,1,1,1,1,1,2,1,1,1,2,1,4,2,5,1,3,3,1,4,2,1,2,1,1,1,1,1,2,3,1,1,1,1,1,1,3,2,2,4,1,2,1,1,1,2,3,3,1,2,2,3,2,8,1,1,2,4,3,1,2,1,1,3,1,2,1,2,2,1,1,1,2,3,1,1,2,1,1,2,1,1,1,1,3,1,1,2,1,3,2,2,3,1,1,1,2,2,6,2,2,3,2,2,6,1,4,1,2,2,1,1,2,4,1,5,5,1,4,2,6,1,7,1,1,3,1,1,1,1,1,1,1,1,1,1,1,6,8,1,1,1,2,2,3,2,1,7,1,2,1,1,2,1,1,1,1,2,1,2,2,1,1,1,4,1,1,1,1,2,1,5,2,1,7,1,3,2,4,1,1,1,1,3,2,1,1,1,2,6,2,3,3,2,2,2,1,2,2,3,1,2,1,1,2,1,1,1,1,7,1,4,5,1,1,3,1,2,2,2,1,1,2,1,2,2,1,1,1,1,1,2,2,3,1,1,3,3,1,3,2,13,3,3,2,1,5,1,5,1,1,1,2,1,1,1,1,1,1,4,2,1,1,1,2,1,1,2,1,2,1,1,1,1,1,1,1,2,1,3,1,3,3,2,1,1,1,2,2,3,1,1,1,2,6,1,1,1,1,2,2,1,4,1,1,1,5,2,1,1,1,1,1,2,5,4,2,2,1,1,4,4,1,1,1,6,2,1,1,1,3,2,2,5,1,2,1,1,1,2,1,1,1,1,1,1,1,1,4,1,2,2,1,1,1,1,1,6,1,1,2,2,1,1,1,1,2,2,2,1,1,1,1,2,1,1,2,2,3,2,3,3,1,1,1,1,8,1,2,2,2,3,2,1,4,1,1,2,1,7,1,2,1,1,2,1,1,3,2,1,3,2,1,1,2,4,1,1,1,3,3,1,1,1,1,1,1,2,1,1,4,2,1,2,1,2,2,1,3,1,1,1,1,4,1,1,1,3,1,1,3,3,1,1,1,2,3,2,1,3,1,1,1,1,2,3,2,1,1,1,3,1,1,1,3,2,1,1,3,5,3,1,1,1,1,2,1,1,3,1,1,1,1,1,4,1,3,3,2,2,1,1,1,6,6,6,1,1,1,1,2,1,1,1,1,1,1,1,1,2,2,4,1,1,3,1,1,1,1,1,1,2,1,1,1,1,1,1,1,1,1,1,1,4,1,1,3,1,1,1,2,2,1,1,1,1,1,2,3,1,1,1,1,1,1,1,1,2,1,2,1,1,1,1,1,1,2,1,3,4,1,1,1,2,1,1,2,2,1,1,2,1,2,1,1,1,2,1,1,1,1,1,1,1,1,1,2,1,2,1,1,2,3,1,1,1,2,1,1,1,2,1,1,1,1,1,1,1,1,1,4,1,1,1,1,2,1,1,2,2,1,1,1,1,4,1,1,1,2,1,1,1,1,1,1,1,1,2,1,1,1,1,1,1,1,1,2,1,1,1,1,1,1,6,1,1,2,1,3,1,1,2,1,1,1,2,1,1,2,1,1,1,1,1,1,1,1,1,1,1,1,1,1,1,2,1,1,1,2,2,1,1,1,4,1,2,1,1,2,1,1,1,1,1,1,1,1,1,1,1,2,1,3,4,3,1,2,2,2,1,1,1,1,2,3,1,1,3,5,2,1,1,1,1,1,1,1,2,1,1,1,1,2,1,1,3,4,1,1,1,2,1,1,2,1,1,1,1,1,1,1,1,1,2,2,1,1,1,5,1,1,1,1,1,1,1,1,1,1,1,1,1,1,1,4,1,1,1,1,1,1,1,2,1,1,2,1,1,3,1,1,1,1,2,2,2,1,1,1,1,1,1,1,1,1,2,1,1,1,1,1,1,1,1,1,2,1,2,1,1,1,1,1,1,1,1,3,1,1,1,1,1,2,1,1,1,1,1,1,1,3,3,2,1,2,2,1,2,1,1,1,1,1,1,2,1,2,1,1,1,1,1,1,1,1,1,1,1,1,1,1,3,1,1,1,1,1,1,1,2,1,1,1,1,1,2,2,2,1,1,1,1,3,1,1,3,1,1,1,1,3,1,3,1,1,1,1,1,1,1,2,1,1,2,2,2,1,1,1,1,1,1,2,1,1,1,1,1,1,1,1,1,1,1,1,1,1,1,1,1,1,1,1,1,2,1,1,1,1,1,1,3,1,1,1,2,1,1,1,1,1,2,1,1,1,1,1,1,1,1,1,1,1,1,1,1,1,2,1,1,1,1,2,1,2,3,1,1,1,1,1,1,1,1,1,1,1,1,1,1,2,1,1,1,1,3,1,1,1,1,1,1,2,1,1,2,1,1,1,1,1,2,1,1,1,1,1,1,1,1,1,1,1,1,1,1,1,1,2,1,1,1,1,1,1,1,2,1,1,1,1,1,1,1,2,1,1,1,1,1,1,2,2,1,2,1,1,4,1,2,1,1,1,1,1,1,1,1,1,1,2,1,1,1,1,1,2,1,1,1,1,1,1,1,1,3,1,1,1,1,1,1,1,1,1,1,1,1,1,1,1,1,2,1,2,1,1,1,1,1,1,1,2,1,1,1,1,1,1,1,1,1,1,1,1,1,1,1,1,1,1,1,1,1,1,1,1,1,2,1,1,1,1,1,1,1,1,1,1,1,1,1,1,1,1,1,1,1,1,1,1,1,1,1,1,1,2,2,2,2,3,1,1,2,1,1,1,1,1,1,1,1,1,1,1,2,1,1,1,1,2,1,1,1,1,1,1,1,1,1,1,1,1,1,1,1,1,1,1,1,1,1,1,1,1,1,1,1,1,2,1,1,1,1,1,1,3,1,3,1,1,1,1,1,1,1,1,1,1,1,1,1,1,1,1,1,1,1,1,1,1,1,1,1,1,1,1,1,2,1,1,1,1,1,1,1,1,1,1,1,1,1,1,1,1,1,1,3,1,1,1,1,1,1,1,1,1,1,1,1,2,1,1,1,1,1,1,1,1,1,1,1,1,1,1,1,1,1,1,1,2,1,1,1,1,1,1,1,1,1,1,1,2,1,1,1,1,1,1,1,1,1,1,1,1,1,1,1,1,1,1,1,1,1,1,1,1,1,1,1,1,1,1,1,1,1,1,1,1,1,1,1,1,1,1,1,1,1,1,1],\"y\":[6.6,5.4,7.3,6.1,6.74,6.58,6.65,6.65,6.5,4.1,6.05,7.72,6.72,6.91,4.0,6.8,6.58,6.7,5.85,5.97,6.57,6.6,7.25,5.2,6.38,4.53,6.1,6.9,5.8,4.5,6.69,6.9,6.5,7.45,7.45,6.15,6.41,5.6,6.1,6.92,7.08,6.01,6.0,5.7,6.56,7.0,7.0,6.41,6.05,7.1,7.35,6.7,5.69,8.1,6.46,5.94,5.35,6.04,6.3,7.2,6.01,5.38,5.37,5.1,6.8,6.3,5.01,8.0,5.27,4.43,6.7,6.7,6.4,6.15,7.58,8.0,6.27,7.23,8.0,5.86,8.32,6.52,7.26,7.73,5.76,5.3,5.55,7.15,6.46,7.24,7.1,6.4,7.16,6.53,4.72,6.25,6.62,6.5,5.69,4.3,6.9,7.07,5.77,6.77,7.12,6.4,7.1,6.5,6.87,6.6,5.75,6.83,7.23,6.8,5.35,5.59,5.8,7.0,5.53,6.8,6.15,7.47,7.09,5.5,5.6,5.95,6.77,5.5,5.4,5.4,5.5,6.45,6.15,6.74,7.62,6.52,6.88,4.9,6.87,4.9,5.45,6.73,6.83,6.58,6.3,5.4,5.4,7.31,6.2,6.7,7.6,6.93,6.8,6.8,6.8,6.1,6.64,6.26,6.1,6.7,7.35,7.45,7.0,5.5,5.5,5.81,6.49,6.6,5.95,6.27,6.36,6.05,6.38,4.4,6.3,5.96,6.0,7.04,6.83,6.95,7.07,5.8,6.22,5.2,3.0,6.86,5.54,2.9,6.68,7.6,6.1,5.5,7.3,4.6,7.96,6.98,6.24,5.55,5.73,7.0,6.42,5.87,4.9,5.2,7.05,6.67,5.75,5.26,6.5,6.62,7.27,7.2,6.1,6.67,7.44,6.8,5.46,7.1,6.55,6.83,5.6,6.37,4.6,6.44,5.28,7.57,5.3,5.9,6.12,5.63,7.3,6.2,5.1,5.75,7.1,7.42,6.1,6.0,6.71,6.98,6.1,7.1,6.7,5.8,6.84,5.85,7.2,7.6,5.6,6.9,6.6,6.6,5.8,6.76,7.03,6.77,6.11,7.1,6.67,4.4,6.5,6.82,6.66,6.6,6.3,6.11,6.8,6.6,6.8,7.4,6.4,6.4,6.75,6.45,6.42,6.5,7.1,5.72,6.44,6.2,4.93,4.85,5.8,5.8,5.75,4.6,6.19,6.38,6.3,6.2,6.75,7.8,6.3,6.3,6.3,6.3,6.3,6.8,6.3,6.3,6.31,6.88,6.1,6.1,6.1,5.45,6.1,7.3,7.45,7.25,4.55,6.3,7.3,7.1,6.12,7.33,6.77,6.3,6.4,6.6,5.9,5.9,4.88,6.5,5.07,6.83,5.2,6.1,6.68,5.53,5.63,6.8,6.8,5.95,4.9,5.9,6.25,6.1,5.6,6.5,5.7,6.45,6.85,5.6,6.72,5.2,7.24,4.9,5.1,4.7,4.6,7.1,7.45,6.23,5.8,5.88,7.03,7.5,5.9,5.9,6.93,6.7,4.8,5.65,5.96,6.6,4.65,6.17,6.05,7.15,6.87,6.87,4.0,6.92,6.58,5.83,7.3,5.25,6.4,6.3,5.7,6.45,6.86,6.2,6.7,6.8,3.2,4.4,5.95,5.95,6.0,6.0,7.24,6.85,6.08,5.55,6.97,5.74,5.3,7.49,6.38,5.3,5.34,7.35,6.37,6.4,6.38,6.0,5.8,5.95,7.35,6.65,5.64,5.4,6.4,3.5,5.3,4.9,6.27,6.5,5.9,6.1,6.4,6.6,6.52,6.63,7.0,5.92,7.15,6.1,6.37,5.15,6.54,5.95,7.08,6.58,7.33,6.04,6.28,7.7,6.2,5.7,4.98,6.05,6.25,6.25,6.33,5.45,6.6,7.23,6.72,6.7,5.2,5.83,5.83,6.67,5.0,6.66,4.02,6.47,5.8,6.5,6.5,6.28,5.78,5.9,5.95,7.67,4.8,6.52,7.4,6.45,6.73,4.92,5.02,7.4,4.2,6.33,6.46,6.53,6.4,6.7,7.08,6.7,5.6,5.53,6.0,6.5,6.44,5.0,6.03,4.55,4.55,5.45,6.2,6.4,7.73,7.0,7.62,6.27,5.7,6.4,8.17,6.67,5.9,7.02,5.8,7.58,7.2,2.4,6.85,5.3,5.96,6.85,4.87,5.0,5.0,6.3,6.3,6.1,5.8,6.04,7.64,6.94,5.72,5.7,6.3,6.4,6.26,6.17,6.34,7.1,6.9,6.3,7.6,5.4,6.78,7.15,5.9,6.2,5.0,5.6,6.14,5.3,3.08,5.42,5.9,6.85,6.6,6.52,6.8,5.97,6.34,6.81,4.1,5.9,5.9,7.02,6.7,6.64,4.4,6.7,6.07,6.03,5.87,7.15,5.65,6.1,7.1,7.05,7.1,5.74,6.3,4.97,6.9,6.1,5.65,4.7,6.95,6.15,6.75,6.3,6.67,4.4,6.3,5.1,6.0,6.0,5.6,3.3,7.4,5.3,6.12,5.2,4.87,6.72,6.7,6.2,6.2,6.95,5.0,6.2,6.08,5.7,7.0,5.3,5.7,6.75,6.0,6.5,5.7,6.14,7.17,6.5,4.6,6.2,6.2,5.8,7.26,6.01,6.73,7.14,6.37,6.35,8.2,7.75,8.1,6.6,5.91,6.5,6.1,6.5,3.65,5.45,7.03,6.77,6.6,7.13,5.8,6.0,5.8,4.2,4.2,5.9,5.2,5.35,5.95,6.8,6.6,6.7,6.4,5.1,6.03,6.8,6.95,6.57,6.67,6.47,6.45,6.6,6.33,5.73,5.65,6.46,6.65,6.12,5.18,6.12,5.0,6.36,6.9,6.55,4.3,6.3,5.7,5.17,6.6,5.8,6.07,7.0,7.29,5.44,5.2,5.4,7.7,5.5,6.93,6.87,6.9,7.56,5.8,4.87,5.7,5.85,7.4,6.55,7.1,6.0,5.72,6.9,7.3,5.8,5.9,8.0,6.05,3.7,7.5,7.5,7.31,6.7,5.6,7.71,5.7,5.7,6.75,6.4,5.45,6.8,6.3,5.6,7.58,4.2,5.45,4.9,6.3,6.45,6.42,5.7,5.96,5.4,5.7,5.75,6.6,7.36,5.45,6.4,7.5,6.7,8.05,5.5,4.75,5.8,5.1,7.2,5.2,6.19,6.5,5.15,6.44,6.97,6.97,6.3,6.9,5.6,5.85,5.6,6.65,7.5,6.67,5.83,6.1,7.0,6.3,5.82,6.77,6.87,6.55,6.4,4.35,6.37,5.3,4.3,7.6,6.2,7.06,6.46,7.0,7.16,3.7,8.5,6.7,6.7,7.7,6.3,5.1,5.9,6.45,6.34,4.2,6.65,6.15,6.6,6.37,6.6,6.85,5.0,6.3,5.9,6.1,6.76,3.1,4.35,6.57,5.9,5.9,6.2,5.92,6.15,7.5,5.2,3.9,6.0,2.3,6.1,5.7,6.4,6.58,7.3,6.7,5.7,5.92,5.75,6.62,7.0,6.3,5.9,6.13,6.35,6.0,6.73,5.86,6.33,6.3,6.35,5.93,6.5,6.1,3.8,6.15,7.2,7.2,6.8,6.64,4.7,4.7,6.3,6.0,5.65,5.2,6.4,7.1,6.2,5.9,5.4,6.8,6.84,8.4,4.5,6.42,5.25,4.8,5.7,6.8,5.83,5.9,6.9,5.35,6.59,5.23,6.5,6.5,6.5,6.4,6.5,5.64,5.1,6.45,5.3,5.6,6.56,6.95,6.4,6.13,6.7,6.1,5.9,5.9,4.6,7.36,4.4,6.9,2.95,4.4,6.78,7.0,6.3,6.7,5.65,5.7,7.4,6.8,6.23,6.22,5.0,5.2,7.07,3.6,5.7,8.0,6.25,5.62,6.63,6.2,6.9,4.4,6.35,6.08,5.5,5.5,7.34,3.9,6.8,6.9,6.0,6.8,7.0,7.6,7.6,4.3,7.43,4.4,6.5,5.5,3.2,6.12,6.17,7.4,6.4,4.9,6.2,6.42,5.08,3.8,6.66,5.3,4.65,6.97,6.34,6.0,6.0,5.8,6.3,5.4,6.6,7.47,5.65,7.2,5.45,5.3,4.55,7.6,5.6,6.53,4.5,7.56,5.6,5.4,7.25,7.62,7.17,5.8,6.0,7.2,4.2,6.83,6.7,5.1,1.9,1.9,7.6,5.9,6.45,2.4,3.5,6.0,6.3,6.0,5.88,5.7,6.92,7.9,6.53,6.07,6.5,7.1,6.7,7.58,6.1,5.3,7.2,5.7,6.1,6.83,6.65,6.3,6.6,7.2,6.25,6.8,5.8,5.45,6.4,5.9,6.6,7.2,6.14,7.0,5.8,5.1,7.1,6.35,7.35,7.0,5.8,6.27,5.7,5.0,6.8,5.47,5.7,6.0,5.3,7.3,7.3,5.9,6.4,6.7,6.7,7.6,4.9,6.7,4.3,4.5,4.5,7.4,6.4,5.5,5.85,6.4,6.33,6.2,6.1,7.6,6.05,4.6,6.76,6.4,6.83,2.4,6.73,4.7,6.53,5.1,5.3,4.2,4.7,7.1,6.7,6.65,5.4,5.3,5.95,7.3,6.25,4.3,6.8,6.7,5.75,5.5,5.1,5.8,4.5,5.25,6.6,5.4,5.3,6.34,6.05,7.0,7.02,6.7,5.8,6.7,6.7,6.1,4.1,5.87,7.2,6.7,7.05,5.2,6.33,5.3,6.4,4.7,6.58,7.9,7.9,7.9,7.9,7.9,7.9,6.6,3.9,6.65,7.1,4.0,5.6,6.5,7.2,5.97,6.9,5.54,4.7,5.97,5.43,6.1,7.3,6.5,3.9,7.8,6.0,5.1,5.9,5.9,7.2,7.0,6.73,7.1,6.6,6.6,6.6,4.3,6.1,6.83,6.4,6.4,6.77,7.5,7.25,6.2,7.1,6.3,6.6,6.23,5.4,4.3,6.1,5.0,5.13,6.0,6.65,6.8,6.8,7.2,6.62,5.93,7.2,5.8,6.6,5.8,6.3,6.6,5.6,4.7,5.6,5.85,6.6,5.3,6.9,6.05,6.13,4.8,5.3,6.25,5.7,5.6,6.45,6.9,6.9,6.3,1.8,6.23,5.8,5.8,7.05,6.5,6.33,7.45,5.75,6.8,5.5,6.5,6.4,5.4,5.4,5.93,6.15,7.55,7.17,5.45,4.95,6.32,6.9,6.48,6.1,5.6,6.3,6.1,2.7,3.05,7.97,5.2,2.62,2.62,5.2,6.17,6.1,4.75,5.4,6.17,6.3,6.8,6.63,7.1,7.4,7.6,6.0,6.5,7.2,7.8,6.2,6.8,5.4,4.5,7.0,6.49,7.3,4.7,7.6,5.95,5.4,6.77,6.0,6.4,6.37,5.2,5.4,6.1,6.5,6.2,5.1,5.6,4.4,6.6,6.1,6.3,6.5,6.5,7.1,6.2,7.3,6.43,5.2,6.6,7.3,5.9,6.05,6.6,6.56,6.0,4.9,7.1,7.3,5.73,5.45,6.25,6.4,6.8,6.6,5.3,6.63,6.25,4.7,5.4,6.0,5.85,6.37,5.2,7.33,7.33,5.95,6.3,6.75,5.9,6.6,6.55,7.37,7.8,6.7,6.7,5.2,7.4,5.2,6.6,6.4,3.5,7.11,5.2,6.2,7.06,6.1,6.1,5.6,5.7,6.3,6.9,7.7,3.3,5.3,6.45,4.4,7.7,6.45,5.6,7.5,7.0,6.8,6.8,6.1,6.45,5.03,6.0,6.3,6.13,6.17,5.1,7.8,6.35,6.77,6.6,6.93,6.9,6.1,6.26,6.8,6.4,6.2,4.9,4.4,5.0,6.8,7.0,5.8,5.7,5.8,6.4,6.68,4.9,5.3,5.8,5.8,5.65,6.3,2.2,8.1,6.2,6.5,6.2,4.0,7.3,5.1,5.6,5.2,5.8,5.3,6.7,3.83,4.3,7.07,6.3,5.9,6.0,6.8,5.4,6.4,6.2,7.1,6.6,7.1,7.1,6.85,6.72,5.6,4.3,7.2,6.3,7.1,5.6,5.2,6.7,6.9,6.9,6.8,6.7,7.35,6.9,7.6,5.3,6.5,5.2,5.1,6.44,5.45,6.1,6.4,7.0,5.8,7.0,6.9,5.1,5.6,5.9,7.13,7.6,7.4,7.4,6.6,5.97,6.0,7.0,6.8,3.8,6.05,4.4,4.4,5.9,4.3,7.4,6.9,5.8,5.1,5.9,2.8,2.8,2.8,5.4,8.0,4.8,6.8,5.3,6.8,5.3,6.2,2.6,5.55,7.1,6.7,5.45,7.15,6.8,7.5,4.8,5.4,5.9,6.0,6.0,7.3,7.3,6.2,6.2,4.75,3.5,6.5,7.25,6.1,7.2,5.6,5.97,4.73,4.9,6.5,6.1,6.8,6.54,5.4,4.95,6.5,5.25,6.3,4.75,5.3,5.88,3.9,5.6,5.75,7.6,7.67,6.2,5.9,5.3,4.7,5.6,6.7,7.0,6.3,5.7,6.0,6.57,5.15,6.5,5.3,6.45,6.05,4.9,6.0,7.0,6.1,7.1,3.9,4.8,6.1,6.1,6.1,7.2,6.4,5.9,5.4,5.35,5.6,6.2,5.9,6.6,7.25,6.4,6.0,6.9,5.6,7.7,5.4,7.3,7.72,4.8,2.9,3.6,5.9,6.3,4.8,5.73,5.3,6.8,7.1,7.1,6.95,6.77,6.6,5.4,6.8,6.9,6.2,6.4,4.5,5.85,5.53,6.8,5.9,5.0,6.5,7.6,5.1,6.6,6.3,6.27,6.0,4.4,3.2,5.37,6.72,6.67,6.2,6.4,3.5,7.0,7.05,6.5,7.0,6.2,6.7,6.7,4.2,6.2,5.9,6.15,5.6,6.67,6.43,6.3,6.65,6.5,5.7,5.9,6.05,7.38,7.38,7.0,6.0,5.9,7.1,5.75,5.8,6.8,6.6,5.3,2.3,6.1,6.3,2.9,6.85,6.45,6.63,6.2,5.4,6.8,5.9,6.1,4.7,6.4,7.3,6.0,5.35,7.5,8.4,6.2,6.2,2.4,7.3,6.4,6.4,7.1,5.5,7.0,6.72,6.7,3.6,6.23,6.1,5.3,7.3,5.05,6.05,6.3,7.4,3.0,3.4,6.5,5.45,6.2,6.6,7.6,6.2,4.6,6.0,7.3,5.4,3.2,6.2,4.9,5.95,7.1,5.6,7.2,6.8,6.1,7.1,6.0,7.1,7.23,7.58,4.3,4.6,4.6,7.05,7.3,5.8,7.6,6.2,4.5,7.2,6.7,6.4,4.85,6.7,6.5,7.5,6.5,6.1,4.2,5.9,6.0,5.6,7.1,5.3,6.0,3.5,5.25,7.6,6.35,4.2,4.4,6.9,4.83,6.5,7.8,5.6,5.9,7.1,6.0,6.0,5.95,7.2,5.9,6.8,5.4,6.9,7.7,6.1,6.1,6.1,6.73,6.7,6.7,4.4,6.4,7.3,6.3,6.3,6.55,7.2,5.4,5.9,6.4,6.7,5.32,5.9,6.3,5.1,6.85,6.7,4.9,6.1,5.9,6.1,6.2,6.8,6.4,7.0,6.3,6.4,7.5,5.2,6.6,5.3,5.3,7.0,5.6,4.1,6.2,6.0,6.2,6.9,5.8,6.1,4.6,5.3,5.1,5.4,6.67,7.2,5.4,5.3,2.7,7.0,7.6,7.45,7.6,4.2,5.05,6.8,6.2,5.9,6.1,6.8,5.2,6.4,5.7,2.8,5.4,5.7,6.0,6.0,6.7,6.5,6.25,6.0,5.1,6.7,4.4,6.45,4.1,6.3,5.6,6.6,6.5,6.0,7.3,3.6,6.95,6.5,4.8,3.5,6.6,5.6,2.5,5.2,6.6,5.4,6.7,8.0,5.7,7.0,5.33,5.62,5.2,4.3,5.15,6.85,5.95,6.4,6.8,6.0,6.8,7.55,6.93,5.9,6.6,5.73,7.38,6.3,5.5,6.4,5.6,5.5,6.6,6.5,4.8,6.3,5.4,5.0,6.0,5.9,6.25,5.1,5.1,5.53,6.42,3.9,5.9,3.8,4.8,7.4,5.7,5.9,5.1,5.1,6.4,5.2,4.0,5.7,6.5,6.5,7.6,6.05,3.75,7.4,6.3,6.4,7.0,6.8,7.0,3.8,5.9,6.5,6.3,4.8,6.2,2.6,6.5,6.8,6.6,7.6,6.8,7.1,6.65,4.9,4.4,6.2,6.2,5.3,7.1,4.7,7.45,5.6,5.8,5.9,6.6,6.8,6.23,4.9,6.6,7.5,6.8,6.9,7.1,6.05,3.9,5.6,6.7,6.4,6.6,7.3,4.1,6.2,6.8,6.3,6.1,6.0,6.1,6.1,4.3,4.3,4.3,4.3,5.7,7.5,6.1,6.15,5.6,5.2,2.7,6.1,4.9,7.3,6.1,6.1,6.7,5.9,5.3,7.4,7.4,5.0,6.9,6.3,7.6,6.5,5.7,5.1,6.1,6.1,6.97,7.5,6.15,6.6,6.9,6.95,7.5,5.4,4.6,6.3,6.3,5.4,5.9,5.0,6.6,3.2,6.6,6.1,7.2,7.2,7.2,7.2,7.2,5.8,6.2,6.2,7.3,6.5,7.2,6.5,6.8,5.43,5.9,5.0,4.7,7.9,5.5,5.8,8.3,7.05,6.6,5.7,5.3,5.3,5.0,7.5,5.05,4.15,6.4,5.9,6.5,4.2,7.1,6.1,5.7,6.3,6.8,5.1,7.8,7.1,5.3,6.3,6.7,5.5,5.2,4.0,7.0,7.8,7.1,5.6,5.9,7.2,3.6,5.65,7.15,6.65,7.7,4.7,4.7,7.6,5.1,5.6,6.4,6.2,7.1,5.6,5.5,6.9,5.2,5.6,5.6,6.7,7.3,4.6,4.4,7.6,5.1,7.1,6.9,5.5,5.5,3.6,5.9,5.9,6.75,6.2,6.2,5.3,4.5,6.2,7.6,5.83,7.5,5.9,6.2,5.8,5.5,5.7,4.0,6.2,6.4,7.4,7.3,5.8,6.0,4.8,6.8,5.7,6.0,6.0,5.8,4.3,6.8,7.0,4.8,6.1,6.8,7.3,4.4,6.3,4.5,6.6,7.25,6.0,5.45,7.13,6.8,4.0,4.0,6.6,5.4,5.8,6.3,7.1,7.3,6.8,4.4,5.8,5.6,4.7,5.9,5.9,5.0,3.1,5.1,5.83,5.8,4.9,6.5,6.8,4.4,7.3,4.9,6.4,6.6,6.25,7.4,5.5,5.6,6.0,6.3,7.0,4.5,5.6,6.3,6.0,4.1,5.8,6.8,3.7,6.4,6.0,6.7,6.2,7.0,5.2,7.2,7.4,5.45,5.4,5.5,6.5,6.3,5.3,4.8,4.8,5.8,3.8,6.7,5.4,6.5,6.5,6.0,7.1,5.35,5.7,6.1,7.0,5.5,4.8,5.1,5.2,5.2,7.6,5.7,5.1,6.7,6.75,5.8,6.6,5.9,5.9,5.7,5.4,5.9,6.3,6.4,5.9,6.4,6.4,6.25,6.0,7.2,7.2,5.4,5.4,8.1,7.6,7.3,5.3,6.4,6.2,6.2,7.9,7.0,6.57,7.0,7.0,6.2,6.5,6.5,6.5,5.3,7.0,6.9,6.6,6.4,6.0,6.5,4.6,6.1,6.1,8.3,6.5,6.15,5.6,6.7,6.1,5.5,7.6,7.3,6.2,6.55,6.4,5.7,5.0,5.4,7.0,5.6,7.6,7.6,4.5,7.1,5.0,7.1,5.9,4.6,6.7,5.8,6.7,5.3,6.7,6.1,6.4,5.9,5.8,5.6,6.7,6.6,5.6,4.1,4.7,4.7,6.1,5.2,6.7,6.8,6.8,7.2,6.4,7.5,6.1,5.8,7.2,5.7,6.4,5.9,6.1,7.0,6.5,5.7,6.0,6.3,6.0,6.9,6.9,5.25,6.2,5.9,6.85,6.37,3.7,6.1,6.35,5.4,6.5,5.6,6.6,4.2,5.4,6.1,6.2,5.8,8.0,5.0,6.05,4.7,4.7,5.7,4.7,6.0,5.9,6.5,5.9,7.5,5.3,7.7,6.0,5.5,4.6,6.3,5.4,7.3,5.6,2.9,2.9,5.7,5.7,3.7,4.7,6.3,7.6,5.9,6.3,6.3,7.4,3.9,7.6,6.7,6.5,6.2,6.4,6.4,5.7,6.6,6.8,6.97,7.0,6.23,7.0,7.7,7.7,5.3,6.4,6.9,3.2,4.6,6.0,7.2,5.4,4.4,3.6,7.0,6.7,4.9,5.4,4.3,4.3,6.6,5.8,4.4,7.3,5.9,3.2,3.5,3.5,6.6,6.5,6.7,6.1,6.6,6.3,5.7,7.4,5.6,4.2,7.1,4.7,7.5,5.0,6.1,6.4,6.7,7.2,7.2,5.5,7.0,7.5,4.1,5.8,6.0,6.0,4.6,6.1,4.7,5.9,5.9,5.5,8.1,6.0,7.65,5.0,5.9,6.1,5.8,7.2,6.4,4.7,5.3,4.6,7.2,6.9,6.4,6.7,6.5,6.8,5.4,3.6,4.5,4.5,5.1,5.0,5.0,6.7,6.9,5.5,5.3,6.3,7.3,7.4,5.9,5.9,5.0,6.7,4.5,6.0,7.4,7.1,8.1,7.2,2.7,6.4,6.7,5.6,5.9,5.4,6.3,5.5,5.2,6.2,6.1,7.1,6.9,7.2,5.7,5.3,5.6,6.9,5.6,5.3,5.9,6.5,5.0,3.9,6.9,6.7,5.3,5.8,7.2,3.9,8.5,8.5,5.5,6.6,6.8,4.2,4.2,6.2,7.8,7.0]},\"selected\":{\"id\":\"8f50451c-7cc7-4b9b-b21e-b29c75133c9b\",\"type\":\"Selection\"},\"selection_policy\":{\"id\":\"4a47ec26-da16-4fae-92c9-02df9514724d\",\"type\":\"UnionRenderers\"}},\"id\":\"d6f48e21-febc-4a98-a01f-e624dc570be4\",\"type\":\"ColumnDataSource\"},{\"attributes\":{\"background_fill_color\":{\"value\":\"#f5f5f5\"},\"below\":[{\"id\":\"3f1df6f2-2b33-4073-9272-929eff7738d7\",\"type\":\"LinearAxis\"}],\"left\":[{\"id\":\"4e487905-3845-4db3-8bb3-9474aea26795\",\"type\":\"LinearAxis\"}],\"plot_height\":200,\"plot_width\":200,\"renderers\":[{\"id\":\"3f1df6f2-2b33-4073-9272-929eff7738d7\",\"type\":\"LinearAxis\"},{\"id\":\"facd1d2e-fadf-4405-8c8e-7d9be0bdb8a7\",\"type\":\"Grid\"},{\"id\":\"4e487905-3845-4db3-8bb3-9474aea26795\",\"type\":\"LinearAxis\"},{\"id\":\"38ac2cd9-4d95-44dc-9848-e2d4e7b2c232\",\"type\":\"Grid\"},{\"id\":\"5142cbda-7c7b-42d8-888c-6f3b6d264c93\",\"type\":\"GlyphRenderer\"}],\"sizing_mode\":\"scale_width\",\"title\":{\"id\":\"c6128d64-73f4-45fb-858f-dd4c8862625a\",\"type\":\"Title\"},\"toolbar\":{\"id\":\"e0401340-f928-438f-b92f-28d88ab872a9\",\"type\":\"Toolbar\"},\"toolbar_location\":null,\"x_range\":{\"id\":\"0cdcab16-b553-4257-b58c-06742c18be3f\",\"type\":\"DataRange1d\"},\"x_scale\":{\"id\":\"63f1e997-09c9-4202-abfc-a7fdb9c6d8f2\",\"type\":\"LinearScale\"},\"y_range\":{\"id\":\"cfd42e27-0f14-4615-a867-264982622cd5\",\"type\":\"DataRange1d\"},\"y_scale\":{\"id\":\"e75b864d-240e-40cd-b753-4f734dd4fd6f\",\"type\":\"LinearScale\"}},\"id\":\"29a4e81d-1a9d-47dc-b4c0-745272cac37c\",\"subtype\":\"Figure\",\"type\":\"Plot\"},{\"attributes\":{\"source\":{\"id\":\"d6f48e21-febc-4a98-a01f-e624dc570be4\",\"type\":\"ColumnDataSource\"}},\"id\":\"8463a4bb-8ef9-4688-99c4-3f4d743a316a\",\"type\":\"CDSView\"}],\"root_ids\":[\"29a4e81d-1a9d-47dc-b4c0-745272cac37c\"]},\"title\":\"Bokeh Application\",\"version\":\"0.12.16\"}};\n",
       "  var render_items = [{\"docid\":\"735afe3c-b472-448d-a258-ad605ee7c8e3\",\"elementid\":\"ac59573f-f9cb-40b0-9b40-41663a3c3f25\",\"modelid\":\"29a4e81d-1a9d-47dc-b4c0-745272cac37c\"}];\n",
       "  root.Bokeh.embed.embed_items_notebook(docs_json, render_items);\n",
       "\n",
       "  }\n",
       "  if (root.Bokeh !== undefined) {\n",
       "    embed_document(root);\n",
       "  } else {\n",
       "    var attempts = 0;\n",
       "    var timer = setInterval(function(root) {\n",
       "      if (root.Bokeh !== undefined) {\n",
       "        embed_document(root);\n",
       "        clearInterval(timer);\n",
       "      }\n",
       "      attempts++;\n",
       "      if (attempts > 100) {\n",
       "        console.log(\"Bokeh: ERROR: Unable to run BokehJS code because BokehJS library is missing\")\n",
       "        clearInterval(timer);\n",
       "      }\n",
       "    }, 10, root)\n",
       "  }\n",
       "})(window);"
      ],
      "application/vnd.bokehjs_exec.v0+json": ""
     },
     "metadata": {
      "application/vnd.bokehjs_exec.v0+json": {
       "id": "29a4e81d-1a9d-47dc-b4c0-745272cac37c"
      }
     },
     "output_type": "display_data"
    },
    {
     "name": "stderr",
     "output_type": "stream",
     "text": [
      "ERROR:bokeh.core.validation.check:E-1001 (BAD_COLUMN_NAME): Glyph refers to nonexistent column name: te_predict_rating, y_imdb_rating_test [renderer: GlyphRenderer(id='d7649bd6-f43f-4dae-b397-8f9d1f89db9a', ...)]\n"
     ]
    }
   ],
   "source": [
    "output_file(\"Director_movie_count_and_mean_IMDB_score.html\")\n",
    "source = ColumnDataSource(data={\n",
    "    'x': counts,\n",
    "    'y': means,\n",
    "    'director':directors,\n",
    "})\n",
    "\n",
    "p = figure(plot_height=200, plot_width = 200, tools=\"\", toolbar_location=None,\n",
    "           title=\"Director Movie Count and Mean IMDB Score\", sizing_mode=\"scale_width\")\n",
    "p.background_fill_color=\"#f5f5f5\"\n",
    "p.grid.grid_line_color=\"white\"\n",
    "p.xaxis.axis_label = 'Movie Count'\n",
    "p.yaxis.axis_label = 'Mean IMDB Score'\n",
    "p.axis.axis_line_color = None\n",
    "\n",
    "p.scatter(x='x', y='y', line_width=2, color='#ebbd5b', source=source)\n",
    "\n",
    "p.add_tools(HoverTool(\n",
    "    tooltips=[\n",
    "        ('Movie count: ', '@x{%0f}'),\n",
    "        ('Mean IMDB score: ', '@y{%0.1f}'), # use @{ } for field names with spaces\n",
    "        ('Director: ', '@director'),\n",
    "    ],\n",
    "\n",
    "    formatters={\n",
    "        'x':'printf', # use 'datetime' formatter for 'date' field\n",
    "        'y':'printf',   # use 'printf' formatter for 'adj close' field\n",
    "        'director':'printf'                         # use default 'numeral' formatter for other fields\n",
    "    },\n",
    "\n",
    "    # display a tooltip whenever the cursor is vertically in line with a glyph\n",
    "    mode='mouse'\n",
    "))\n",
    "\n",
    "show(p)"
   ]
  },
  {
   "cell_type": "code",
   "execution_count": null,
   "metadata": {
    "collapsed": true,
    "hidden": true
   },
   "outputs": [],
   "source": []
  },
  {
   "cell_type": "code",
   "execution_count": null,
   "metadata": {
    "collapsed": true,
    "hidden": true
   },
   "outputs": [],
   "source": []
  },
  {
   "cell_type": "code",
   "execution_count": null,
   "metadata": {
    "collapsed": true,
    "hidden": true
   },
   "outputs": [],
   "source": []
  },
  {
   "cell_type": "code",
   "execution_count": null,
   "metadata": {
    "collapsed": true,
    "hidden": true
   },
   "outputs": [],
   "source": []
  },
  {
   "cell_type": "code",
   "execution_count": null,
   "metadata": {
    "collapsed": true,
    "hidden": true
   },
   "outputs": [],
   "source": []
  },
  {
   "cell_type": "code",
   "execution_count": null,
   "metadata": {
    "collapsed": true,
    "hidden": true
   },
   "outputs": [],
   "source": []
  },
  {
   "cell_type": "markdown",
   "metadata": {
    "heading_collapsed": true,
    "hidden": true
   },
   "source": [
    "### <font color='red'> 6. Train the model with `stars`: <font size = 10> out"
   ]
  },
  {
   "cell_type": "code",
   "execution_count": 168,
   "metadata": {
    "collapsed": true,
    "hidden": true
   },
   "outputs": [],
   "source": [
    "temp_pipe = Pipeline([\n",
    "        ('column_select_trans', ColumnSelectTransformer(['stars'])),\n",
    "        ('hot_one', DictEncoder()),\n",
    "        ('hot_one_dictionary', DictVectorizer())\n",
    "    ])\n",
    "tr_x = temp_pipe.fit_transform(data_imdb_rating_train, y_imdb_rating_train)\n",
    "tr_y = np.array(y_imdb_rating_train)\n",
    "te_x = temp_pipe.fit_transform(data_imdb_rating_test, y_imdb_rating_test)\n",
    "te_y = np.array(y_imdb_rating_test)"
   ]
  },
  {
   "cell_type": "code",
   "execution_count": 169,
   "metadata": {
    "collapsed": true,
    "hidden": true
   },
   "outputs": [],
   "source": [
    "models6 = { \n",
    "    'LinearRegression': LinearRegression(),\n",
    "    'Ridge': Ridge(),\n",
    "    'Lasso': Lasso(),\n",
    "    'RandomForestRegressor': RandomForestRegressor()\n",
    "}\n",
    "params6 = { \n",
    "    'LinearRegression': { },\n",
    "    'Ridge': { 'alpha': np.arange(0,2,0.05) },\n",
    "    'Lasso': { 'alpha': np.arange(0,2,0.05) },\n",
    "    'RandomForestRegressor':{'n_estimators': np.arange(1, 50 ,2),\n",
    "                              'max_depth': np.arange(1, 20, 1)}\n",
    "}\n"
   ]
  },
  {
   "cell_type": "code",
   "execution_count": 170,
   "metadata": {
    "hidden": true
   },
   "outputs": [
    {
     "name": "stdout",
     "output_type": "stream",
     "text": [
      "Running GridSearchCV for LinearRegression.\n",
      "Fitting 8 folds for each of 1 candidates, totalling 8 fits\n"
     ]
    },
    {
     "name": "stderr",
     "output_type": "stream",
     "text": [
      "[Parallel(n_jobs=-1)]: Done   2 out of   8 | elapsed:    2.2s remaining:    6.5s\n"
     ]
    },
    {
     "name": "stdout",
     "output_type": "stream",
     "text": [
      "Running GridSearchCV for Ridge.\n",
      "Fitting 8 folds for each of 40 candidates, totalling 320 fits\n"
     ]
    },
    {
     "name": "stderr",
     "output_type": "stream",
     "text": [
      "[Parallel(n_jobs=-1)]: Done   8 out of   8 | elapsed:    2.6s finished\n",
      "[Parallel(n_jobs=-1)]: Done  34 tasks      | elapsed:    0.8s\n"
     ]
    },
    {
     "name": "stdout",
     "output_type": "stream",
     "text": [
      "Running GridSearchCV for Lasso.\n",
      "Fitting 8 folds for each of 40 candidates, totalling 320 fits\n"
     ]
    },
    {
     "name": "stderr",
     "output_type": "stream",
     "text": [
      "[Parallel(n_jobs=-1)]: Done 320 out of 320 | elapsed:    3.0s finished\n",
      "/opt/conda/envs/HL-capstone/lib/python3.6/site-packages/sklearn/cross_validation.py:1675: UserWarning: With alpha=0, this algorithm does not converge well. You are advised to use the LinearRegression estimator\n",
      "  estimator.fit(X_train, y_train, **fit_params)\n",
      "/opt/conda/envs/HL-capstone/lib/python3.6/site-packages/sklearn/cross_validation.py:1675: UserWarning: With alpha=0, this algorithm does not converge well. You are advised to use the LinearRegression estimator\n",
      "  estimator.fit(X_train, y_train, **fit_params)\n",
      "/opt/conda/envs/HL-capstone/lib/python3.6/site-packages/sklearn/cross_validation.py:1675: UserWarning: With alpha=0, this algorithm does not converge well. You are advised to use the LinearRegression estimator\n",
      "  estimator.fit(X_train, y_train, **fit_params)\n",
      "/opt/conda/envs/HL-capstone/lib/python3.6/site-packages/sklearn/cross_validation.py:1675: UserWarning: With alpha=0, this algorithm does not converge well. You are advised to use the LinearRegression estimator\n",
      "  estimator.fit(X_train, y_train, **fit_params)\n",
      "/opt/conda/envs/HL-capstone/lib/python3.6/site-packages/sklearn/cross_validation.py:1675: UserWarning: With alpha=0, this algorithm does not converge well. You are advised to use the LinearRegression estimator\n",
      "  estimator.fit(X_train, y_train, **fit_params)\n",
      "/opt/conda/envs/HL-capstone/lib/python3.6/site-packages/sklearn/cross_validation.py:1675: UserWarning: With alpha=0, this algorithm does not converge well. You are advised to use the LinearRegression estimator\n",
      "  estimator.fit(X_train, y_train, **fit_params)\n",
      "/opt/conda/envs/HL-capstone/lib/python3.6/site-packages/sklearn/cross_validation.py:1675: UserWarning: With alpha=0, this algorithm does not converge well. You are advised to use the LinearRegression estimator\n",
      "  estimator.fit(X_train, y_train, **fit_params)\n",
      "/opt/conda/envs/HL-capstone/lib/python3.6/site-packages/sklearn/cross_validation.py:1675: UserWarning: With alpha=0, this algorithm does not converge well. You are advised to use the LinearRegression estimator\n",
      "  estimator.fit(X_train, y_train, **fit_params)\n",
      "/opt/conda/envs/HL-capstone/lib/python3.6/site-packages/sklearn/linear_model/coordinate_descent.py:491: ConvergenceWarning: Objective did not converge. You might want to increase the number of iterations. Fitting data with very small alpha may cause precision problems.\n",
      "  ConvergenceWarning)\n",
      "/opt/conda/envs/HL-capstone/lib/python3.6/site-packages/sklearn/linear_model/coordinate_descent.py:491: ConvergenceWarning: Objective did not converge. You might want to increase the number of iterations. Fitting data with very small alpha may cause precision problems.\n",
      "  ConvergenceWarning)\n",
      "/opt/conda/envs/HL-capstone/lib/python3.6/site-packages/sklearn/linear_model/coordinate_descent.py:491: ConvergenceWarning: Objective did not converge. You might want to increase the number of iterations. Fitting data with very small alpha may cause precision problems.\n",
      "  ConvergenceWarning)\n",
      "/opt/conda/envs/HL-capstone/lib/python3.6/site-packages/sklearn/linear_model/coordinate_descent.py:491: ConvergenceWarning: Objective did not converge. You might want to increase the number of iterations. Fitting data with very small alpha may cause precision problems.\n",
      "  ConvergenceWarning)\n",
      "/opt/conda/envs/HL-capstone/lib/python3.6/site-packages/sklearn/linear_model/coordinate_descent.py:491: ConvergenceWarning: Objective did not converge. You might want to increase the number of iterations. Fitting data with very small alpha may cause precision problems.\n",
      "  ConvergenceWarning)\n",
      "/opt/conda/envs/HL-capstone/lib/python3.6/site-packages/sklearn/linear_model/coordinate_descent.py:491: ConvergenceWarning: Objective did not converge. You might want to increase the number of iterations. Fitting data with very small alpha may cause precision problems.\n",
      "  ConvergenceWarning)\n",
      "/opt/conda/envs/HL-capstone/lib/python3.6/site-packages/sklearn/linear_model/coordinate_descent.py:491: ConvergenceWarning: Objective did not converge. You might want to increase the number of iterations. Fitting data with very small alpha may cause precision problems.\n",
      "  ConvergenceWarning)\n",
      "[Parallel(n_jobs=-1)]: Done  34 tasks      | elapsed:   51.7s\n",
      "/opt/conda/envs/HL-capstone/lib/python3.6/site-packages/sklearn/linear_model/coordinate_descent.py:491: ConvergenceWarning: Objective did not converge. You might want to increase the number of iterations. Fitting data with very small alpha may cause precision problems.\n",
      "  ConvergenceWarning)\n",
      "[Parallel(n_jobs=-1)]: Done 184 tasks      | elapsed:   54.3s\n"
     ]
    },
    {
     "name": "stdout",
     "output_type": "stream",
     "text": [
      "Running GridSearchCV for RandomForestRegressor.\n",
      "Fitting 8 folds for each of 475 candidates, totalling 3800 fits\n"
     ]
    },
    {
     "name": "stderr",
     "output_type": "stream",
     "text": [
      "[Parallel(n_jobs=-1)]: Done 320 out of 320 | elapsed:   56.5s finished\n",
      "[Parallel(n_jobs=-1)]: Done 232 tasks      | elapsed:    7.8s\n",
      "[Parallel(n_jobs=-1)]: Done 521 tasks      | elapsed:   18.0s\n",
      "[Parallel(n_jobs=-1)]: Done 845 tasks      | elapsed:   33.1s\n",
      "[Parallel(n_jobs=-1)]: Done 1195 tasks      | elapsed:   53.7s\n",
      "[Parallel(n_jobs=-1)]: Done 1645 tasks      | elapsed:  1.3min\n",
      "[Parallel(n_jobs=-1)]: Done 2195 tasks      | elapsed:  2.0min\n",
      "[Parallel(n_jobs=-1)]: Done 2845 tasks      | elapsed:  2.9min\n",
      "[Parallel(n_jobs=-1)]: Done 3595 tasks      | elapsed:  4.3min\n",
      "[Parallel(n_jobs=-1)]: Done 3800 out of 3800 | elapsed:  4.7min finished\n"
     ]
    }
   ],
   "source": [
    "helper6 = EstimatorSelectionHelper(models6, params6)\n",
    "helper6.fit(tr_x, tr_y, n_jobs=-1)"
   ]
  },
  {
   "cell_type": "code",
   "execution_count": 171,
   "metadata": {
    "hidden": true
   },
   "outputs": [
    {
     "name": "stderr",
     "output_type": "stream",
     "text": [
      "/opt/conda/envs/HL-capstone/lib/python3.6/site-packages/ipykernel_launcher.py:46: FutureWarning: Sorting because non-concatenation axis is not aligned. A future version\n",
      "of pandas will change to not sort by default.\n",
      "\n",
      "To accept the future behavior, pass 'sort=True'.\n",
      "\n",
      "To retain the current behavior and silence the warning, pass sort=False\n",
      "\n"
     ]
    }
   ],
   "source": [
    "helper6_result = helper6.score_summary()"
   ]
  },
  {
   "cell_type": "code",
   "execution_count": 172,
   "metadata": {
    "hidden": true
   },
   "outputs": [
    {
     "data": {
      "text/plain": [
       "estimator           Ridge\n",
       "min_score       0.0151321\n",
       "mean_score      0.0654673\n",
       "max_score        0.120816\n",
       "std_score       0.0433523\n",
       "alpha                1.95\n",
       "max_depth             NaN\n",
       "n_estimators          NaN\n",
       "Name: 40, dtype: object"
      ]
     },
     "execution_count": 172,
     "metadata": {},
     "output_type": "execute_result"
    }
   ],
   "source": [
    "helper6_result.iloc[0]"
   ]
  },
  {
   "cell_type": "code",
   "execution_count": 173,
   "metadata": {
    "hidden": true,
    "scrolled": true
   },
   "outputs": [
    {
     "name": "stdout",
     "output_type": "stream",
     "text": [
      "using Random Forest modes the score for TRAIN set is: 0.7563899759770314\n"
     ]
    }
   ],
   "source": [
    "model6_est = Ridge(alpha = 1.95) \n",
    "model6_est.fit(tr_x, tr_y)\n",
    "#print('using Random Forest modes the score for TEST set is: ' + \\\n",
    "#      str(model6_est.score(te_x, te_y)))\n",
    "print('using Random Forest modes the score for TRAIN set is: ' + \\\n",
    "      str(model6_est.score(tr_x, tr_y)))"
   ]
  },
  {
   "cell_type": "markdown",
   "metadata": {
    "heading_collapsed": true,
    "hidden": true
   },
   "source": [
    "### <font color='red'> 7. Train the model with `certificate`: <font size = 10> out"
   ]
  },
  {
   "cell_type": "code",
   "execution_count": 490,
   "metadata": {
    "collapsed": true,
    "hidden": true
   },
   "outputs": [],
   "source": [
    "temp_pipe = Pipeline([\n",
    "        ('column_select_trans', ColumnSelectTransformer(['certificate'])),\n",
    "        ('hot_one', DictEncoder()),\n",
    "        ('hot_one_dictionary', DictVectorizer())\n",
    "    ])\n",
    "tr_x = temp_pipe.fit_transform(data_imdb_rating_train, y_imdb_rating_train)\n",
    "tr_y = np.array(y_imdb_rating_train)\n",
    "te_x = temp_pipe.fit_transform(data_imdb_rating_test, y_imdb_rating_test)\n",
    "te_y = np.array(y_imdb_rating_test)"
   ]
  },
  {
   "cell_type": "code",
   "execution_count": 491,
   "metadata": {
    "collapsed": true,
    "hidden": true
   },
   "outputs": [],
   "source": [
    "models7 = { \n",
    "    'LinearRegression': LinearRegression(),\n",
    "    'Ridge': Ridge(),\n",
    "    'Lasso': Lasso(),\n",
    "    'RandomForestRegressor': RandomForestRegressor()\n",
    "}\n",
    "params7 = { \n",
    "    'LinearRegression': { },\n",
    "    'Ridge': { 'alpha': np.arange(0,2,0.05) },\n",
    "    'Lasso': { 'alpha': np.arange(0,2,0.05) },\n",
    "    'RandomForestRegressor':{'n_estimators': np.arange(1, 50 ,2),\n",
    "                              'max_depth': np.arange(1, 20, 1)}\n",
    "}\n"
   ]
  },
  {
   "cell_type": "code",
   "execution_count": 492,
   "metadata": {
    "hidden": true
   },
   "outputs": [
    {
     "name": "stdout",
     "output_type": "stream",
     "text": [
      "Running GridSearchCV for LinearRegression.\n",
      "Fitting 8 folds for each of 1 candidates, totalling 8 fits\n"
     ]
    },
    {
     "name": "stderr",
     "output_type": "stream",
     "text": [
      "[Parallel(n_jobs=-1)]: Done   2 out of   8 | elapsed:    0.0s remaining:    0.1s\n",
      "[Parallel(n_jobs=-1)]: Done   8 out of   8 | elapsed:    0.0s finished\n"
     ]
    },
    {
     "name": "stdout",
     "output_type": "stream",
     "text": [
      "Running GridSearchCV for Ridge.\n",
      "Fitting 8 folds for each of 40 candidates, totalling 320 fits\n",
      "Running GridSearchCV for Lasso.\n",
      "Fitting 8 folds for each of 40 candidates, totalling 320 fits\n"
     ]
    },
    {
     "name": "stderr",
     "output_type": "stream",
     "text": [
      "[Parallel(n_jobs=-1)]: Done 320 out of 320 | elapsed:    1.3s finished\n",
      "/opt/conda/envs/HL-capstone/lib/python3.6/site-packages/sklearn/cross_validation.py:1675: UserWarning: With alpha=0, this algorithm does not converge well. You are advised to use the LinearRegression estimator\n",
      "  estimator.fit(X_train, y_train, **fit_params)\n",
      "/opt/conda/envs/HL-capstone/lib/python3.6/site-packages/sklearn/cross_validation.py:1675: UserWarning: With alpha=0, this algorithm does not converge well. You are advised to use the LinearRegression estimator\n",
      "  estimator.fit(X_train, y_train, **fit_params)\n",
      "/opt/conda/envs/HL-capstone/lib/python3.6/site-packages/sklearn/cross_validation.py:1675: UserWarning: With alpha=0, this algorithm does not converge well. You are advised to use the LinearRegression estimator\n",
      "  estimator.fit(X_train, y_train, **fit_params)\n",
      "/opt/conda/envs/HL-capstone/lib/python3.6/site-packages/sklearn/cross_validation.py:1675: UserWarning: With alpha=0, this algorithm does not converge well. You are advised to use the LinearRegression estimator\n",
      "  estimator.fit(X_train, y_train, **fit_params)\n",
      "/opt/conda/envs/HL-capstone/lib/python3.6/site-packages/sklearn/cross_validation.py:1675: UserWarning: With alpha=0, this algorithm does not converge well. You are advised to use the LinearRegression estimator\n",
      "  estimator.fit(X_train, y_train, **fit_params)\n",
      "/opt/conda/envs/HL-capstone/lib/python3.6/site-packages/sklearn/cross_validation.py:1675: UserWarning: With alpha=0, this algorithm does not converge well. You are advised to use the LinearRegression estimator\n",
      "  estimator.fit(X_train, y_train, **fit_params)\n",
      "/opt/conda/envs/HL-capstone/lib/python3.6/site-packages/sklearn/cross_validation.py:1675: UserWarning: With alpha=0, this algorithm does not converge well. You are advised to use the LinearRegression estimator\n",
      "  estimator.fit(X_train, y_train, **fit_params)\n",
      "/opt/conda/envs/HL-capstone/lib/python3.6/site-packages/sklearn/cross_validation.py:1675: UserWarning: With alpha=0, this algorithm does not converge well. You are advised to use the LinearRegression estimator\n",
      "  estimator.fit(X_train, y_train, **fit_params)\n",
      "/opt/conda/envs/HL-capstone/lib/python3.6/site-packages/sklearn/linear_model/coordinate_descent.py:491: ConvergenceWarning: Objective did not converge. You might want to increase the number of iterations. Fitting data with very small alpha may cause precision problems.\n",
      "  ConvergenceWarning)\n",
      "/opt/conda/envs/HL-capstone/lib/python3.6/site-packages/sklearn/linear_model/coordinate_descent.py:491: ConvergenceWarning: Objective did not converge. You might want to increase the number of iterations. Fitting data with very small alpha may cause precision problems.\n",
      "  ConvergenceWarning)\n",
      "/opt/conda/envs/HL-capstone/lib/python3.6/site-packages/sklearn/linear_model/coordinate_descent.py:491: ConvergenceWarning: Objective did not converge. You might want to increase the number of iterations. Fitting data with very small alpha may cause precision problems.\n",
      "  ConvergenceWarning)\n",
      "/opt/conda/envs/HL-capstone/lib/python3.6/site-packages/sklearn/linear_model/coordinate_descent.py:491: ConvergenceWarning: Objective did not converge. You might want to increase the number of iterations. Fitting data with very small alpha may cause precision problems.\n",
      "  ConvergenceWarning)\n",
      "/opt/conda/envs/HL-capstone/lib/python3.6/site-packages/sklearn/linear_model/coordinate_descent.py:491: ConvergenceWarning: Objective did not converge. You might want to increase the number of iterations. Fitting data with very small alpha may cause precision problems.\n",
      "  ConvergenceWarning)\n",
      "/opt/conda/envs/HL-capstone/lib/python3.6/site-packages/sklearn/linear_model/coordinate_descent.py:491: ConvergenceWarning: Objective did not converge. You might want to increase the number of iterations. Fitting data with very small alpha may cause precision problems.\n",
      "  ConvergenceWarning)\n",
      "/opt/conda/envs/HL-capstone/lib/python3.6/site-packages/sklearn/linear_model/coordinate_descent.py:491: ConvergenceWarning: Objective did not converge. You might want to increase the number of iterations. Fitting data with very small alpha may cause precision problems.\n",
      "  ConvergenceWarning)\n",
      "/opt/conda/envs/HL-capstone/lib/python3.6/site-packages/sklearn/linear_model/coordinate_descent.py:491: ConvergenceWarning: Objective did not converge. You might want to increase the number of iterations. Fitting data with very small alpha may cause precision problems.\n",
      "  ConvergenceWarning)\n",
      "[Parallel(n_jobs=-1)]: Done 320 out of 320 | elapsed:    0.4s finished\n"
     ]
    },
    {
     "name": "stdout",
     "output_type": "stream",
     "text": [
      "Running GridSearchCV for RandomForestRegressor.\n",
      "Fitting 8 folds for each of 475 candidates, totalling 3800 fits\n"
     ]
    },
    {
     "name": "stderr",
     "output_type": "stream",
     "text": [
      "[Parallel(n_jobs=-1)]: Done 412 tasks      | elapsed:    2.1s\n",
      "[Parallel(n_jobs=-1)]: Done 3800 out of 3800 | elapsed:   20.1s finished\n"
     ]
    }
   ],
   "source": [
    "helper7 = EstimatorSelectionHelper(models7, params7)\n",
    "helper7.fit(tr_x, tr_y, n_jobs=-1)"
   ]
  },
  {
   "cell_type": "code",
   "execution_count": 493,
   "metadata": {
    "hidden": true
   },
   "outputs": [
    {
     "name": "stderr",
     "output_type": "stream",
     "text": [
      "/opt/conda/envs/HL-capstone/lib/python3.6/site-packages/ipykernel_launcher.py:46: FutureWarning: Sorting because non-concatenation axis is not aligned. A future version\n",
      "of pandas will change to not sort by default.\n",
      "\n",
      "To accept the future behavior, pass 'sort=True'.\n",
      "\n",
      "To retain the current behavior and silence the warning, pass sort=False\n",
      "\n"
     ]
    }
   ],
   "source": [
    "helper7_result = helper7.score_summary()"
   ]
  },
  {
   "cell_type": "code",
   "execution_count": 494,
   "metadata": {
    "hidden": true
   },
   "outputs": [
    {
     "data": {
      "text/plain": [
       "estimator       RandomForestRegressor\n",
       "min_score                 -0.00370824\n",
       "mean_score                 0.00414301\n",
       "max_score                    0.010826\n",
       "std_score                  0.00491699\n",
       "alpha                             NaN\n",
       "max_depth                           5\n",
       "n_estimators                        3\n",
       "Name: 182, dtype: object"
      ]
     },
     "execution_count": 494,
     "metadata": {},
     "output_type": "execute_result"
    }
   ],
   "source": [
    "helper7_result.iloc[0]"
   ]
  },
  {
   "cell_type": "code",
   "execution_count": 495,
   "metadata": {
    "hidden": true,
    "scrolled": true
   },
   "outputs": [
    {
     "name": "stdout",
     "output_type": "stream",
     "text": [
      "using Random Forest modes the score for TRAIN set is: 0.009720094461203255\n"
     ]
    }
   ],
   "source": [
    "model7_est = RandomForestRegressor(n_estimators=5, max_depth=9) \n",
    "model7_est.fit(tr_x, tr_y)\n",
    "#print('using Random Forest modes the score for TEST set is: ' + \\\n",
    "#      str(model7_est.score(te_x, te_y)))\n",
    "print('using Random Forest modes the score for TRAIN set is: ' + \\\n",
    "      str(model7_est.score(tr_x, tr_y)))"
   ]
  },
  {
   "cell_type": "markdown",
   "metadata": {
    "heading_collapsed": true
   },
   "source": [
    "## Full Model"
   ]
  },
  {
   "cell_type": "code",
   "execution_count": 30,
   "metadata": {
    "collapsed": true,
    "hidden": true
   },
   "outputs": [],
   "source": [
    "class EstimatorTransformer(base.BaseEstimator, base.TransformerMixin):\n",
    "    \n",
    "    def __init__(self, estimator):\n",
    "        # What needs to be done here?\n",
    "        self.estimator = estimator\n",
    "    \n",
    "    def fit(self, X, y):\n",
    "        # Fit the stored estimator.\n",
    "        # Question: what should be returned?\n",
    "        self.estimator.fit(X,y)\n",
    "        return self\n",
    "    \n",
    "    def transform(self, X):\n",
    "        # Use predict on the stored estimator as a \"transformation\".\n",
    "        # Be sure to return a 2-D array.\n",
    "        #predict_list = self.estimator.predict(X)\n",
    "        return[[prediction] for prediction in self.estimator.predict(X)]\n",
    "        \n",
    "            "
   ]
  },
  {
   "cell_type": "code",
   "execution_count": 35,
   "metadata": {
    "hidden": true
   },
   "outputs": [
    {
     "name": "stdout",
     "output_type": "stream",
     "text": [
      "0.6723587488546856\n",
      "0.2189749542157564\n"
     ]
    }
   ],
   "source": [
    "from sklearn.pipeline import FeatureUnion\n",
    "\n",
    "union = FeatureUnion([\n",
    "        # FeatureUnions use the same syntax as Pipelines\n",
    "    ('run_time and budget_adj', EstimatorTransformer(model1_1_est)),\n",
    "    ('genres', EstimatorTransformer(model2_est)),\n",
    "    ('director',EstimatorTransformer(model5_est))\n",
    "    ])\n",
    "\n",
    "full_est = Pipeline([\n",
    "    (\"features\", union),\n",
    "    ('regression', LinearRegression())\n",
    "  ])\n",
    "full_est.fit(data_imdb_rating_train, y_imdb_rating_train)\n",
    "print(full_est.score(data_imdb_rating_train, y_imdb_rating_train))\n",
    "print(full_est.score(data_imdb_rating_test, y_imdb_rating_test))"
   ]
  },
  {
   "cell_type": "code",
   "execution_count": 36,
   "metadata": {
    "hidden": true
   },
   "outputs": [
    {
     "name": "stdout",
     "output_type": "stream",
     "text": [
      "using Random Forest modes the score for TEST set is: 0.21804370030195164\n",
      "using Random Forest modes the score for TRAIN set is: 0.6722308987569847\n"
     ]
    }
   ],
   "source": [
    "from sklearn.pipeline import FeatureUnion\n",
    "\n",
    "union = FeatureUnion([\n",
    "        # FeatureUnions use the same syntax as Pipelines\n",
    "    ('run_time and budget_adj', EstimatorTransformer(model1_1_est)),\n",
    "    ('genres', EstimatorTransformer(model2_est)),\n",
    "    ('director',EstimatorTransformer(model5_est))\n",
    "    ])\n",
    "\n",
    "full_pipe = Pipeline([\n",
    "    (\"features\", union)\n",
    "  ])\n",
    "tr_x = full_pipe.fit_transform(data_imdb_rating_train, y_imdb_rating_train)\n",
    "tr_y = np.array(y_imdb_rating_train)\n",
    "te_x = full_pipe.transform(data_imdb_rating_test)\n",
    "te_y = np.array(y_imdb_rating_test)\n",
    "model_full_est = LinearRegression() \n",
    "model_full_est.fit(tr_x, tr_y)\n",
    "print('using Random Forest modes the score for TEST set is: ' + \\\n",
    "      str(model_full_est.score(te_x, te_y)))\n",
    "print('using Random Forest modes the score for TRAIN set is: ' + \\\n",
    "      str(model_full_est.score(tr_x, tr_y)))"
   ]
  },
  {
   "cell_type": "code",
   "execution_count": 37,
   "metadata": {
    "collapsed": true,
    "hidden": true
   },
   "outputs": [],
   "source": [
    "models_full = { \n",
    "    'LinearRegression': LinearRegression(),\n",
    "    'Ridge': Ridge(),\n",
    "    'Lasso': Lasso(),\n",
    "    'RandomForestRegressor': RandomForestRegressor()\n",
    "}\n",
    "params_full = { \n",
    "    'LinearRegression': { },\n",
    "    'Ridge': { 'alpha': np.arange(0,2,0.05) },\n",
    "    'Lasso': { 'alpha': np.arange(0,2,0.05) },\n",
    "    'RandomForestRegressor':{'n_estimators': np.arange(1, 50 ,2),\n",
    "                              'max_depth': np.arange(1, 20, 1)}\n",
    "}\n"
   ]
  },
  {
   "cell_type": "code",
   "execution_count": 674,
   "metadata": {
    "hidden": true
   },
   "outputs": [
    {
     "name": "stdout",
     "output_type": "stream",
     "text": [
      "Running GridSearchCV for LinearRegression.\n",
      "Fitting 8 folds for each of 1 candidates, totalling 8 fits\n"
     ]
    },
    {
     "name": "stderr",
     "output_type": "stream",
     "text": [
      "[Parallel(n_jobs=-1)]: Done   2 out of   8 | elapsed:    0.1s remaining:    0.2s\n",
      "[Parallel(n_jobs=-1)]: Done   8 out of   8 | elapsed:    0.2s finished\n"
     ]
    },
    {
     "name": "stdout",
     "output_type": "stream",
     "text": [
      "Running GridSearchCV for Ridge.\n",
      "Fitting 8 folds for each of 40 candidates, totalling 320 fits\n"
     ]
    },
    {
     "name": "stderr",
     "output_type": "stream",
     "text": [
      "[Parallel(n_jobs=-1)]: Done 160 tasks      | elapsed:    0.9s\n",
      "[Parallel(n_jobs=-1)]: Done 320 out of 320 | elapsed:    1.2s finished\n"
     ]
    },
    {
     "name": "stdout",
     "output_type": "stream",
     "text": [
      "Running GridSearchCV for Lasso.\n",
      "Fitting 8 folds for each of 40 candidates, totalling 320 fits\n"
     ]
    },
    {
     "name": "stderr",
     "output_type": "stream",
     "text": [
      "/opt/conda/envs/HL-capstone/lib/python3.6/site-packages/sklearn/cross_validation.py:1675: UserWarning: With alpha=0, this algorithm does not converge well. You are advised to use the LinearRegression estimator\n",
      "  estimator.fit(X_train, y_train, **fit_params)\n",
      "/opt/conda/envs/HL-capstone/lib/python3.6/site-packages/sklearn/cross_validation.py:1675: UserWarning: With alpha=0, this algorithm does not converge well. You are advised to use the LinearRegression estimator\n",
      "  estimator.fit(X_train, y_train, **fit_params)\n",
      "/opt/conda/envs/HL-capstone/lib/python3.6/site-packages/sklearn/cross_validation.py:1675: UserWarning: With alpha=0, this algorithm does not converge well. You are advised to use the LinearRegression estimator\n",
      "  estimator.fit(X_train, y_train, **fit_params)\n",
      "/opt/conda/envs/HL-capstone/lib/python3.6/site-packages/sklearn/cross_validation.py:1675: UserWarning: With alpha=0, this algorithm does not converge well. You are advised to use the LinearRegression estimator\n",
      "  estimator.fit(X_train, y_train, **fit_params)\n",
      "/opt/conda/envs/HL-capstone/lib/python3.6/site-packages/sklearn/cross_validation.py:1675: UserWarning: With alpha=0, this algorithm does not converge well. You are advised to use the LinearRegression estimator\n",
      "  estimator.fit(X_train, y_train, **fit_params)\n",
      "/opt/conda/envs/HL-capstone/lib/python3.6/site-packages/sklearn/linear_model/coordinate_descent.py:477: UserWarning: Coordinate descent with no regularization may lead to unexpected results and is discouraged.\n",
      "  positive)\n",
      "/opt/conda/envs/HL-capstone/lib/python3.6/site-packages/sklearn/linear_model/coordinate_descent.py:477: UserWarning: Coordinate descent with no regularization may lead to unexpected results and is discouraged.\n",
      "  positive)\n",
      "/opt/conda/envs/HL-capstone/lib/python3.6/site-packages/sklearn/cross_validation.py:1675: UserWarning: With alpha=0, this algorithm does not converge well. You are advised to use the LinearRegression estimator\n",
      "  estimator.fit(X_train, y_train, **fit_params)\n",
      "/opt/conda/envs/HL-capstone/lib/python3.6/site-packages/sklearn/cross_validation.py:1675: UserWarning: With alpha=0, this algorithm does not converge well. You are advised to use the LinearRegression estimator\n",
      "  estimator.fit(X_train, y_train, **fit_params)\n",
      "/opt/conda/envs/HL-capstone/lib/python3.6/site-packages/sklearn/cross_validation.py:1675: UserWarning: With alpha=0, this algorithm does not converge well. You are advised to use the LinearRegression estimator\n",
      "  estimator.fit(X_train, y_train, **fit_params)\n",
      "/opt/conda/envs/HL-capstone/lib/python3.6/site-packages/sklearn/linear_model/coordinate_descent.py:477: UserWarning: Coordinate descent with no regularization may lead to unexpected results and is discouraged.\n",
      "  positive)\n",
      "/opt/conda/envs/HL-capstone/lib/python3.6/site-packages/sklearn/linear_model/coordinate_descent.py:477: UserWarning: Coordinate descent with no regularization may lead to unexpected results and is discouraged.\n",
      "  positive)\n",
      "/opt/conda/envs/HL-capstone/lib/python3.6/site-packages/sklearn/linear_model/coordinate_descent.py:477: UserWarning: Coordinate descent with no regularization may lead to unexpected results and is discouraged.\n",
      "  positive)\n",
      "/opt/conda/envs/HL-capstone/lib/python3.6/site-packages/sklearn/linear_model/coordinate_descent.py:477: UserWarning: Coordinate descent with no regularization may lead to unexpected results and is discouraged.\n",
      "  positive)\n",
      "/opt/conda/envs/HL-capstone/lib/python3.6/site-packages/sklearn/linear_model/coordinate_descent.py:491: ConvergenceWarning: Objective did not converge. You might want to increase the number of iterations. Fitting data with very small alpha may cause precision problems.\n",
      "  ConvergenceWarning)\n",
      "/opt/conda/envs/HL-capstone/lib/python3.6/site-packages/sklearn/linear_model/coordinate_descent.py:477: UserWarning: Coordinate descent with no regularization may lead to unexpected results and is discouraged.\n",
      "  positive)\n",
      "/opt/conda/envs/HL-capstone/lib/python3.6/site-packages/sklearn/linear_model/coordinate_descent.py:491: ConvergenceWarning: Objective did not converge. You might want to increase the number of iterations. Fitting data with very small alpha may cause precision problems.\n",
      "  ConvergenceWarning)\n",
      "/opt/conda/envs/HL-capstone/lib/python3.6/site-packages/sklearn/linear_model/coordinate_descent.py:491: ConvergenceWarning: Objective did not converge. You might want to increase the number of iterations. Fitting data with very small alpha may cause precision problems.\n",
      "  ConvergenceWarning)\n",
      "/opt/conda/envs/HL-capstone/lib/python3.6/site-packages/sklearn/linear_model/coordinate_descent.py:491: ConvergenceWarning: Objective did not converge. You might want to increase the number of iterations. Fitting data with very small alpha may cause precision problems.\n",
      "  ConvergenceWarning)\n",
      "/opt/conda/envs/HL-capstone/lib/python3.6/site-packages/sklearn/linear_model/coordinate_descent.py:491: ConvergenceWarning: Objective did not converge. You might want to increase the number of iterations. Fitting data with very small alpha may cause precision problems.\n",
      "  ConvergenceWarning)\n",
      "/opt/conda/envs/HL-capstone/lib/python3.6/site-packages/sklearn/linear_model/coordinate_descent.py:491: ConvergenceWarning: Objective did not converge. You might want to increase the number of iterations. Fitting data with very small alpha may cause precision problems.\n",
      "  ConvergenceWarning)\n",
      "/opt/conda/envs/HL-capstone/lib/python3.6/site-packages/sklearn/linear_model/coordinate_descent.py:477: UserWarning: Coordinate descent with no regularization may lead to unexpected results and is discouraged.\n",
      "  positive)\n",
      "/opt/conda/envs/HL-capstone/lib/python3.6/site-packages/sklearn/linear_model/coordinate_descent.py:491: ConvergenceWarning: Objective did not converge. You might want to increase the number of iterations. Fitting data with very small alpha may cause precision problems.\n",
      "  ConvergenceWarning)\n",
      "/opt/conda/envs/HL-capstone/lib/python3.6/site-packages/sklearn/linear_model/coordinate_descent.py:491: ConvergenceWarning: Objective did not converge. You might want to increase the number of iterations. Fitting data with very small alpha may cause precision problems.\n",
      "  ConvergenceWarning)\n",
      "[Parallel(n_jobs=-1)]: Done 320 out of 320 | elapsed:    0.3s finished\n"
     ]
    },
    {
     "name": "stdout",
     "output_type": "stream",
     "text": [
      "Running GridSearchCV for RandomForestRegressor.\n",
      "Fitting 8 folds for each of 475 candidates, totalling 3800 fits\n"
     ]
    },
    {
     "name": "stderr",
     "output_type": "stream",
     "text": [
      "[Parallel(n_jobs=-1)]: Done 696 tasks      | elapsed:    5.9s\n",
      "[Parallel(n_jobs=-1)]: Done 1676 tasks      | elapsed:   18.3s\n",
      "[Parallel(n_jobs=-1)]: Done 2676 tasks      | elapsed:   39.0s\n",
      "[Parallel(n_jobs=-1)]: Done 3452 tasks      | elapsed:   58.2s\n",
      "[Parallel(n_jobs=-1)]: Done 3800 out of 3800 | elapsed:  1.1min finished\n"
     ]
    }
   ],
   "source": [
    "helper_full = EstimatorSelectionHelper(models_full, params_full)\n",
    "helper_full.fit(tr_x, tr_y, n_jobs=-1)\n"
   ]
  },
  {
   "cell_type": "code",
   "execution_count": 675,
   "metadata": {
    "hidden": true
   },
   "outputs": [
    {
     "name": "stderr",
     "output_type": "stream",
     "text": [
      "/opt/conda/envs/HL-capstone/lib/python3.6/site-packages/ipykernel_launcher.py:46: FutureWarning: Sorting because non-concatenation axis is not aligned. A future version\n",
      "of pandas will change to not sort by default.\n",
      "\n",
      "To accept the future behavior, pass 'sort=True'.\n",
      "\n",
      "To retain the current behavior and silence the warning, pass sort=False\n",
      "\n"
     ]
    }
   ],
   "source": [
    "helper_full_result = helper_full.score_summary()"
   ]
  },
  {
   "cell_type": "code",
   "execution_count": 676,
   "metadata": {
    "hidden": true
   },
   "outputs": [
    {
     "data": {
      "text/plain": [
       "estimator       RandomForestRegressor\n",
       "min_score                     0.60759\n",
       "mean_score                   0.694087\n",
       "max_score                    0.734634\n",
       "std_score                   0.0381972\n",
       "alpha                             NaN\n",
       "max_depth                           6\n",
       "n_estimators                       19\n",
       "Name: 215, dtype: object"
      ]
     },
     "execution_count": 676,
     "metadata": {},
     "output_type": "execute_result"
    }
   ],
   "source": [
    "helper_full_result.iloc[0]"
   ]
  },
  {
   "cell_type": "code",
   "execution_count": 60,
   "metadata": {
    "hidden": true
   },
   "outputs": [
    {
     "name": "stdout",
     "output_type": "stream",
     "text": [
      "using Random Forest modes the score for TEST set is: 0.21804370030195164\n",
      "using Random Forest modes the score for TRAIN set is: 0.6722308987569847\n"
     ]
    }
   ],
   "source": [
    "model_full_est = LinearRegression() \n",
    "model_full_est.fit(tr_x, tr_y)\n",
    "print('using Random Forest modes the score for TEST set is: ' + \\\n",
    "      str(model_full_est.score(te_x, te_y)))\n",
    "print('using Random Forest modes the score for TRAIN set is: ' + \\\n",
    "      str(model_full_est.score(tr_x, tr_y)))"
   ]
  },
  {
   "cell_type": "code",
   "execution_count": 670,
   "metadata": {
    "hidden": true
   },
   "outputs": [
    {
     "data": {
      "text/plain": [
       "array([3.7, 5. , 6.2, ..., 7.6, 7.8, 7.3])"
      ]
     },
     "execution_count": 670,
     "metadata": {},
     "output_type": "execute_result"
    }
   ],
   "source": [
    "te_y"
   ]
  },
  {
   "cell_type": "code",
   "execution_count": 671,
   "metadata": {
    "hidden": true
   },
   "outputs": [
    {
     "data": {
      "text/plain": [
       "array([7.3, 7.4, 6. , ..., 6. , 7.6, 5.5])"
      ]
     },
     "execution_count": 671,
     "metadata": {},
     "output_type": "execute_result"
    }
   ],
   "source": [
    "tr_y"
   ]
  },
  {
   "cell_type": "code",
   "execution_count": 315,
   "metadata": {
    "hidden": true
   },
   "outputs": [
    {
     "data": {
      "text/plain": [
       "0.6799145198725955"
      ]
     },
     "execution_count": 315,
     "metadata": {},
     "output_type": "execute_result"
    }
   ],
   "source": [
    "full_est.score(data_imdb_rating_train, y_imdb_rating_train)"
   ]
  },
  {
   "cell_type": "code",
   "execution_count": 316,
   "metadata": {
    "hidden": true
   },
   "outputs": [
    {
     "data": {
      "text/plain": [
       "0.22677964984199495"
      ]
     },
     "execution_count": 316,
     "metadata": {},
     "output_type": "execute_result"
    }
   ],
   "source": [
    "full_est.score(data_imdb_rating_test, y_imdb_rating_test)"
   ]
  },
  {
   "cell_type": "markdown",
   "metadata": {
    "collapsed": true,
    "heading_collapsed": true
   },
   "source": [
    "# <font color = 'red'> create a plot which shows the correlation between the predicted ratings and real ratings."
   ]
  },
  {
   "cell_type": "code",
   "execution_count": 45,
   "metadata": {
    "collapsed": true,
    "hidden": true
   },
   "outputs": [],
   "source": [
    "tr_predict_rating = full_est.predict(data_imdb_rating_train)\n",
    "\n",
    "te_predict_rating = full_est.predict(data_imdb_rating_test)\n"
   ]
  },
  {
   "cell_type": "code",
   "execution_count": 46,
   "metadata": {
    "collapsed": true,
    "hidden": true
   },
   "outputs": [],
   "source": []
  },
  {
   "cell_type": "code",
   "execution_count": 61,
   "metadata": {
    "hidden": true
   },
   "outputs": [
    {
     "data": {
      "text/html": [
       "\n",
       "<div class=\"bk-root\">\n",
       "    <div class=\"bk-plotdiv\" id=\"65a6d141-a234-4263-9938-cd1104072b38\"></div>\n",
       "</div>"
      ]
     },
     "metadata": {},
     "output_type": "display_data"
    },
    {
     "data": {
      "application/javascript": [
       "(function(root) {\n",
       "  function embed_document(root) {\n",
       "    \n",
       "  var docs_json = {\"0f5de72e-8de1-4cd1-b061-11dd7b7d208e\":{\"roots\":{\"references\":[{\"attributes\":{\"active_drag\":\"auto\",\"active_inspect\":\"auto\",\"active_scroll\":\"auto\",\"active_tap\":\"auto\",\"tools\":[{\"id\":\"d1369d5a-cd25-4994-86ca-14fea50756cb\",\"type\":\"HoverTool\"}]},\"id\":\"448a328b-de27-49ed-bc80-90ebe717b274\",\"type\":\"Toolbar\"},{\"attributes\":{\"callback\":null,\"formatters\":{\"tr_predict_rating\":\"printf\",\"y_imdb_rating_train\":\"printf\"},\"renderers\":\"auto\",\"tooltips\":[[\"Predicted IMDB Score: \",\"@tr_predict_rating{%0.1f}\"],[\"Real IMDB Score: \",\"@y_imdb_rating_train{%0.1f}\"]]},\"id\":\"97981ddd-bae3-4bb2-97ae-a27ac41ffd5c\",\"type\":\"HoverTool\"},{\"attributes\":{\"background_fill_color\":{\"value\":\"#f5f5f5\"},\"below\":[{\"id\":\"414a761b-0eee-414b-a181-427793b9a3a3\",\"type\":\"LinearAxis\"}],\"left\":[{\"id\":\"f4030a34-19df-47b0-ba7a-1dbe475ba808\",\"type\":\"LinearAxis\"}],\"plot_height\":400,\"plot_width\":500,\"renderers\":[{\"id\":\"414a761b-0eee-414b-a181-427793b9a3a3\",\"type\":\"LinearAxis\"},{\"id\":\"96b010f7-ee44-4ed2-88e1-d904f1e4091d\",\"type\":\"Grid\"},{\"id\":\"f4030a34-19df-47b0-ba7a-1dbe475ba808\",\"type\":\"LinearAxis\"},{\"id\":\"2adb3574-b799-4f23-ae24-1f60a7c2c152\",\"type\":\"Grid\"},{\"id\":\"54a6d2ff-69bf-40de-b512-00c411870e2e\",\"type\":\"GlyphRenderer\"}],\"sizing_mode\":\"fixed\",\"title\":{\"id\":\"d0a2bf11-88a0-4b4f-9ab0-73d9d0ce78b8\",\"type\":\"Title\"},\"toolbar\":{\"id\":\"448a328b-de27-49ed-bc80-90ebe717b274\",\"type\":\"Toolbar\"},\"toolbar_location\":null,\"x_range\":{\"id\":\"7e955fa7-e9ef-4c9c-981a-66ee1e9efd19\",\"type\":\"DataRange1d\"},\"x_scale\":{\"id\":\"c309dfff-1cb7-4622-97ec-2ff762df3cd9\",\"type\":\"LinearScale\"},\"y_range\":{\"id\":\"2f2dca5b-e91a-47d9-8c2f-356894ca74e6\",\"type\":\"DataRange1d\"},\"y_scale\":{\"id\":\"a905b8b9-b88d-417d-bf19-99d1e8d3cf35\",\"type\":\"LinearScale\"}},\"id\":\"4d1918d4-bd6b-4425-8246-b698e217d948\",\"subtype\":\"Figure\",\"type\":\"Plot\"},{\"attributes\":{\"children\":[{\"id\":\"402baa28-31b1-4523-b69e-7c3ea0345bcb\",\"subtype\":\"Figure\",\"type\":\"Plot\"},{\"id\":\"4d1918d4-bd6b-4425-8246-b698e217d948\",\"subtype\":\"Figure\",\"type\":\"Plot\"}]},\"id\":\"175d7010-c0fd-4db4-bf6a-88431a21ae57\",\"type\":\"Row\"},{\"attributes\":{},\"id\":\"c309dfff-1cb7-4622-97ec-2ff762df3cd9\",\"type\":\"LinearScale\"},{\"attributes\":{\"fill_color\":{\"value\":\"#fee08b\"},\"line_color\":{\"value\":\"#fee08b\"},\"line_width\":{\"value\":2},\"x\":{\"field\":\"y_imdb_rating_test\"},\"y\":{\"field\":\"te_predict_rating\"}},\"id\":\"eca58f37-7dda-44fa-a32b-4d7f4db35977\",\"type\":\"Circle\"},{\"attributes\":{\"callback\":null},\"id\":\"2f2dca5b-e91a-47d9-8c2f-356894ca74e6\",\"type\":\"DataRange1d\"},{\"attributes\":{},\"id\":\"a905b8b9-b88d-417d-bf19-99d1e8d3cf35\",\"type\":\"LinearScale\"},{\"attributes\":{\"grid_line_color\":{\"value\":\"white\"},\"plot\":{\"id\":\"4d1918d4-bd6b-4425-8246-b698e217d948\",\"subtype\":\"Figure\",\"type\":\"Plot\"},\"ticker\":{\"id\":\"21a558f5-b811-45a7-85ef-e653e14d12b2\",\"type\":\"BasicTicker\"}},\"id\":\"96b010f7-ee44-4ed2-88e1-d904f1e4091d\",\"type\":\"Grid\"},{\"attributes\":{\"axis_label\":\"Predicted IMDB Rating\",\"axis_line_color\":{\"value\":null},\"formatter\":{\"id\":\"9b3a94ac-a1d3-4c0d-9b6d-80357a896296\",\"type\":\"BasicTickFormatter\"},\"plot\":{\"id\":\"4d1918d4-bd6b-4425-8246-b698e217d948\",\"subtype\":\"Figure\",\"type\":\"Plot\"},\"ticker\":{\"id\":\"21a558f5-b811-45a7-85ef-e653e14d12b2\",\"type\":\"BasicTicker\"}},\"id\":\"414a761b-0eee-414b-a181-427793b9a3a3\",\"type\":\"LinearAxis\"},{\"attributes\":{},\"id\":\"21a558f5-b811-45a7-85ef-e653e14d12b2\",\"type\":\"BasicTicker\"},{\"attributes\":{\"axis_label\":\"Real IMDB Rating\",\"axis_line_color\":{\"value\":null},\"formatter\":{\"id\":\"bd61cb4b-ddf3-4039-b965-7d597d8a93a6\",\"type\":\"BasicTickFormatter\"},\"plot\":{\"id\":\"4d1918d4-bd6b-4425-8246-b698e217d948\",\"subtype\":\"Figure\",\"type\":\"Plot\"},\"ticker\":{\"id\":\"d9878300-4829-4ac3-95ff-ae05cf33b9a3\",\"type\":\"BasicTicker\"}},\"id\":\"f4030a34-19df-47b0-ba7a-1dbe475ba808\",\"type\":\"LinearAxis\"},{\"attributes\":{},\"id\":\"d9878300-4829-4ac3-95ff-ae05cf33b9a3\",\"type\":\"BasicTicker\"},{\"attributes\":{\"dimension\":1,\"grid_line_color\":{\"value\":\"white\"},\"plot\":{\"id\":\"4d1918d4-bd6b-4425-8246-b698e217d948\",\"subtype\":\"Figure\",\"type\":\"Plot\"},\"ticker\":{\"id\":\"d9878300-4829-4ac3-95ff-ae05cf33b9a3\",\"type\":\"BasicTicker\"}},\"id\":\"2adb3574-b799-4f23-ae24-1f60a7c2c152\",\"type\":\"Grid\"},{\"attributes\":{},\"id\":\"ef07c6ee-0a4c-4c91-883b-fd505d8496fa\",\"type\":\"BasicTickFormatter\"},{\"attributes\":{\"background_fill_color\":{\"value\":\"#f5f5f5\"},\"below\":[{\"id\":\"32bd6440-55e9-433b-9759-f6de9226196a\",\"type\":\"LinearAxis\"}],\"left\":[{\"id\":\"c07a5b29-2edd-44d7-bba9-891e2e0b04e4\",\"type\":\"LinearAxis\"}],\"plot_height\":400,\"plot_width\":500,\"renderers\":[{\"id\":\"32bd6440-55e9-433b-9759-f6de9226196a\",\"type\":\"LinearAxis\"},{\"id\":\"4beea92f-79c5-476b-81f6-874a6007f2b1\",\"type\":\"Grid\"},{\"id\":\"c07a5b29-2edd-44d7-bba9-891e2e0b04e4\",\"type\":\"LinearAxis\"},{\"id\":\"70bb6e8c-8e98-410f-b9a0-cd01c505ced0\",\"type\":\"Grid\"},{\"id\":\"4c070659-becf-491e-9994-95dd2577466c\",\"type\":\"GlyphRenderer\"}],\"sizing_mode\":\"fixed\",\"title\":{\"id\":\"9d199817-4a42-44af-94bb-af5eb55f4419\",\"type\":\"Title\"},\"toolbar\":{\"id\":\"ae92274e-fe84-4211-95de-1083e4a84039\",\"type\":\"Toolbar\"},\"toolbar_location\":null,\"x_range\":{\"id\":\"414d0a92-50ef-468d-800a-26c3c4cf4c0c\",\"type\":\"DataRange1d\"},\"x_scale\":{\"id\":\"e454a829-0669-4adb-a0bc-1b74975a4f6f\",\"type\":\"LinearScale\"},\"y_range\":{\"id\":\"ca1fd873-c27c-4c7f-ab79-0e18a49216fb\",\"type\":\"DataRange1d\"},\"y_scale\":{\"id\":\"1200fc36-ec40-4562-b09a-4a576aab97f1\",\"type\":\"LinearScale\"}},\"id\":\"402baa28-31b1-4523-b69e-7c3ea0345bcb\",\"subtype\":\"Figure\",\"type\":\"Plot\"},{\"attributes\":{\"fill_alpha\":{\"value\":0.1},\"fill_color\":{\"value\":\"#1f77b4\"},\"line_alpha\":{\"value\":0.1},\"line_color\":{\"value\":\"#1f77b4\"},\"line_width\":{\"value\":2},\"x\":{\"field\":\"y_imdb_rating_test\"},\"y\":{\"field\":\"te_predict_rating\"}},\"id\":\"32cb4eec-7b8f-4f7d-a00b-1993edc09ba1\",\"type\":\"Circle\"},{\"attributes\":{\"callback\":null,\"data\":{\"tr_predict_rating\":{\"__ndarray__\":\"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\",\"dtype\":\"float64\",\"shape\":[3905]},\"y_imdb_rating_train\":[6.4,5.7,5.6,7.1,6.9,7.2,5.7,8.5,7.2,4.0,7.3,6.3,1.8,6.9,6.6,7.1,6.6,6.4,5.8,5.7,6.6,7.0,7.2,6.3,5.8,6.5,7.5,6.5,7.0,6.3,7.1,7.4,5.7,7.1,6.5,6.9,6.0,7.1,6.3,6.5,5.5,6.5,7.2,4.3,6.5,7.0,6.3,6.6,6.9,6.4,7.5,5.4,7.2,6.2,6.1,7.6,5.4,6.6,7.0,6.1,7.1,6.6,7.7,6.5,5.4,7.6,5.9,5.2,5.3,7.6,5.8,4.9,4.7,6.4,7.1,6.9,5.4,7.1,6.9,2.3,6.1,6.6,6.1,5.4,6.1,2.7,6.3,6.4,6.0,7.7,6.1,6.5,3.3,5.9,7.2,5.2,5.1,7.6,2.3,5.2,5.7,6.6,7.5,6.2,4.6,6.3,5.1,5.4,6.1,5.4,6.1,7.1,7.4,6.3,6.8,6.5,7.1,7.4,7.6,6.4,7.4,6.7,7.6,6.0,7.8,6.1,7.1,6.9,6.5,6.2,6.1,7.2,7.4,5.7,7.8,3.8,6.2,6.8,4.1,5.4,7.3,4.5,6.7,5.1,7.1,5.1,7.4,7.3,3.4,6.4,4.7,7.6,8.5,5.7,5.5,5.8,6.1,7.8,5.7,5.6,7.3,6.5,7.1,7.2,6.1,5.5,6.6,7.2,6.1,6.4,6.5,6.7,7.2,7.0,7.2,7.6,6.1,6.3,5.2,5.9,5.7,6.1,5.4,6.1,6.8,6.5,6.9,7.2,7.3,5.3,7.0,5.1,6.0,7.6,5.6,5.3,6.1,4.4,6.6,6.6,4.1,6.9,6.3,6.9,5.8,5.9,6.3,6.3,7.5,8.6,7.3,7.1,6.0,7.2,6.2,6.8,6.0,7.0,7.3,6.3,7.0,5.2,5.7,6.9,5.9,7.5,6.6,7.5,6.3,7.3,5.9,6.2,6.0,5.3,6.6,6.6,5.7,6.3,6.0,4.9,7.4,7.8,7.1,6.8,7.3,6.7,3.7,6.0,6.9,5.1,7.6,6.0,8.1,6.4,7.5,7.4,6.7,5.7,5.4,7.1,5.5,7.0,5.6,6.1,5.7,7.4,6.4,5.9,6.8,6.7,6.6,5.3,7.8,5.7,6.6,7.1,7.3,5.8,4.7,5.4,6.0,5.2,5.9,7.7,8.6,5.2,5.8,7.2,5.9,6.1,6.0,5.7,5.9,6.1,6.4,6.1,5.9,5.4,7.2,6.8,7.4,7.8,6.0,7.2,7.2,6.7,5.2,6.9,7.2,5.2,7.4,6.6,6.6,7.4,5.8,6.1,4.7,6.4,4.9,3.5,6.7,6.6,6.6,5.2,5.8,6.7,6.2,6.9,6.4,6.3,6.5,8.1,6.8,7.0,6.8,6.1,8.0,6.1,6.1,5.7,7.6,7.4,5.5,5.7,6.7,6.1,7.2,7.9,2.9,3.3,6.3,6.4,5.3,7.9,6.8,7.7,6.7,7.5,5.5,4.4,7.8,7.7,5.9,5.5,6.4,5.6,6.1,7.5,7.0,6.8,7.0,6.8,6.9,7.8,5.7,8.3,6.7,6.3,6.0,5.8,5.9,6.0,6.3,5.2,6.6,7.8,6.0,5.1,5.5,7.4,6.4,7.7,7.2,5.8,6.7,8.0,6.3,6.5,6.5,6.6,6.9,6.1,6.7,6.8,5.9,6.5,6.7,6.2,6.8,5.5,5.0,6.3,7.7,7.3,6.4,6.0,5.9,7.2,7.6,7.0,5.3,7.0,6.2,4.9,4.4,5.4,8.7,6.8,6.6,4.4,7.0,6.9,5.8,5.7,5.8,6.4,6.3,5.9,5.9,4.5,6.6,6.2,6.7,7.5,6.9,5.1,5.3,5.2,5.8,6.9,7.2,6.5,6.8,7.4,7.7,6.3,6.4,5.5,2.2,8.4,6.2,7.5,5.5,7.1,7.3,6.2,7.3,4.0,7.0,5.5,6.2,6.1,7.3,5.1,8.0,5.1,5.7,5.6,5.2,5.8,5.1,7.9,6.7,3.6,4.3,7.4,6.3,6.4,7.9,6.3,6.8,6.0,3.7,6.2,7.6,6.5,6.8,4.4,5.4,4.3,7.1,7.7,6.2,7.3,5.3,5.2,7.2,6.5,6.3,6.6,6.4,4.6,7.1,7.4,7.2,7.0,5.8,7.1,6.8,5.6,6.1,6.8,4.3,5.7,6.3,7.8,6.9,7.9,7.0,7.2,6.5,6.3,7.4,6.3,7.7,6.5,5.3,5.2,6.9,6.2,7.6,7.2,6.8,6.9,7.9,7.1,7.8,7.9,6.8,6.3,7.4,6.9,7.6,5.4,5.3,5.7,6.5,5.2,4.7,6.4,5.5,7.4,6.6,4.7,7.3,5.5,7.3,6.5,6.8,5.4,6.5,6.8,7.0,6.3,5.8,7.4,5.9,7.8,6.6,5.1,5.6,5.9,6.1,7.7,6.8,7.4,6.6,6.6,6.6,5.9,8.0,6.6,4.7,5.9,6.1,7.0,6.3,7.1,7.5,3.8,6.3,4.4,7.6,6.6,5.3,6.7,6.3,7.0,4.8,4.4,5.9,4.4,5.7,7.4,6.4,6.9,4.9,5.8,6.6,7.1,7.7,6.3,5.1,4.2,6.4,5.9,5.8,2.8,5.5,5.1,6.3,6.4,7.1,7.5,5.0,8.0,6.2,5.1,5.7,6.5,5.6,7.4,7.8,6.7,5.3,6.8,5.4,5.3,6.5,6.2,7.3,6.3,6.5,2.6,5.2,5.9,7.1,6.7,7.3,6.4,8.5,5.4,7.8,4.3,7.6,5.7,7.9,7.5,6.8,6.7,6.3,5.6,7.5,4.8,5.4,7.4,5.4,6.1,7.2,6.6,5.7,7.1,6.4,6.5,7.5,7.3,6.2,6.2,3.5,6.5,7.3,5.5,5.0,5.8,7.4,5.7,6.3,5.8,4.1,5.6,3.6,4.9,7.0,6.5,6.1,5.8,6.8,7.4,7.2,6.5,6.9,6.2,5.4,5.7,5.6,6.1,6.5,5.6,6.2,6.6,6.6,5.3,7.4,5.0,6.1,7.8,7.1,4.8,5.3,4.1,5.9,5.7,3.9,5.6,6.1,7.9,5.3,7.6,8.1,6.2,7.1,5.3,7.9,4.7,7.7,4.3,7.0,7.4,5.9,5.4,6.8,4.8,6.7,5.6,5.1,6.7,7.0,8.1,5.5,5.7,7.5,7.3,7.8,3.9,7.3,7.1,6.5,7.2,5.1,5.0,6.0,6.5,7.0,6.8,5.5,6.5,5.3,4.2,7.5,7.2,6.5,6.7,4.9,7.8,7.1,4.9,5.4,6.8,6.0,6.6,7.0,6.6,7.7,3.9,4.8,5.9,6.3,6.7,6.9,7.1,6.2,6.6,6.1,7.2,5.2,6.7,5.9,5.4,5.5,6.4,6.0,7.2,6.7,6.2,6.4,6.3,5.5,6.6,5.6,6.9,6.6,7.6,6.4,8.1,5.7,6.0,5.9,7.1,6.6,7.0,5.6,7.7,7.6,5.4,6.1,4.6,7.3,7.3,5.9,5.5,6.6,7.7,5.7,6.6,7.2,5.9,6.9,4.8,2.9,7.3,7.3,3.6,5.3,5.1,6.3,6.3,5.0,4.8,5.2,6.3,4.7,7.1,5.4,8.8,7.6,8.1,7.0,3.9,7.5,6.1,6.8,6.0,7.1,6.4,6.8,6.7,7.1,6.4,6.7,7.1,6.8,7.0,6.6,5.4,6.5,7.6,6.9,6.1,6.8,8.1,6.1,6.4,6.2,6.4,7.4,4.5,5.4,7.4,6.5,6.3,4.9,5.7,7.1,6.7,7.1,7.8,6.3,7.7,5.9,6.6,5.9,5.0,6.4,6.0,6.5,5.5,8.4,7.6,7.4,6.6,5.5,5.1,6.6,8.4,6.3,6.4,6.3,6.4,8.2,6.2,6.0,7.5,7.8,7.6,7.6,6.1,5.7,5.9,4.4,5.5,7.8,7.4,5.8,6.2,5.1,5.9,6.8,3.2,5.3,7.0,7.7,6.3,5.9,7.4,6.8,7.6,6.2,7.4,5.7,8.3,6.7,7.2,5.6,5.2,5.7,6.1,4.9,6.4,3.5,7.0,7.0,6.3,6.1,6.5,7.4,6.5,7.6,5.0,7.0,7.3,7.8,6.8,6.1,7.5,4.8,6.4,6.7,6.7,5.8,6.6,5.9,6.7,3.5,7.3,7.4,6.0,4.2,5.2,7.9,5.6,6.2,5.1,5.9,6.3,7.6,6.8,5.7,6.6,5.6,7.6,6.5,7.2,6.5,7.0,7.5,7.2,6.6,6.5,5.7,5.9,7.1,8.0,5.8,7.0,6.3,6.1,6.1,6.0,5.9,7.4,5.6,7.2,5.9,7.8,7.1,6.7,5.7,5.7,6.3,6.2,4.8,5.5,6.1,5.8,6.8,4.9,6.5,8.2,6.2,5.0,6.9,6.6,5.8,6.1,5.8,2.9,6.1,5.3,7.4,4.8,2.3,6.0,6.1,7.1,7.4,6.3,6.4,6.1,2.9,4.2,6.1,7.2,6.0,6.4,8.1,8.1,6.2,8.4,5.9,6.2,6.5,7.7,5.4,6.9,3.6,5.9,6.8,6.7,7.0,6.1,6.0,8.4,4.7,6.4,6.6,7.6,6.8,7.3,6.0,7.3,4.6,7.7,7.4,6.0,6.0,7.5,6.2,7.9,8.4,4.8,6.2,6.4,6.2,2.4,6.2,7.3,5.9,6.8,6.7,6.5,6.4,6.6,6.8,6.7,7.0,6.2,6.5,7.0,7.1,6.3,6.2,5.5,6.6,4.6,7.0,5.7,8.0,6.9,5.9,3.0,7.7,6.7,7.9,3.6,5.8,7.7,3.6,6.9,6.1,5.3,7.3,5.3,6.9,5.9,6.0,7.8,7.6,4.8,6.3,6.4,7.4,6.1,3.0,7.0,6.6,3.4,6.3,6.5,7.1,6.8,5.5,6.5,6.0,7.3,6.4,6.3,6.1,6.8,7.2,6.6,7.6,8.1,6.2,5.6,4.6,6.7,6.7,5.2,6.0,5.9,6.5,6.1,7.3,5.4,3.2,6.5,6.5,7.6,6.0,6.4,6.7,5.3,7.5,7.0,4.1,6.8,4.9,7.1,6.1,6.3,7.1,5.6,7.6,5.9,5.6,7.2,8.0,7.1,5.7,7.4,6.6,6.8,6.1,7.1,6.7,7.4,6.9,6.7,4.4,7.6,5.7,7.1,8.0,6.9,4.3,5.8,4.6,5.9,5.4,6.9,6.6,6.7,7.9,7.0,6.9,5.0,6.5,7.3,5.8,3.1,7.8,6.2,6.8,7.2,7.0,5.3,5.0,7.6,4.5,6.8,7.2,8.4,6.7,7.2,5.7,7.7,6.4,6.6,4.8,5.3,6.7,6.9,5.2,7.2,6.5,7.5,6.9,6.1,4.2,5.9,5.7,6.0,6.0,5.2,6.9,5.6,7.1,6.9,5.9,5.3,6.1,7.3,6.0,7.8,7.7,7.3,3.5,6.8,7.3,6.2,7.6,6.2,4.2,4.4,6.5,6.8,6.7,6.0,5.9,2.8,6.9,6.5,5.6,6.8,7.8,5.6,6.0,6.5,7.3,5.8,7.3,7.1,6.0,5.4,5.9,6.9,7.0,6.6,6.3,6.1,6.1,5.2,4.1,7.3,5.8,7.2,7.2,5.9,6.8,6.8,7.1,5.4,6.9,7.7,7.0,7.0,6.5,7.5,7.5,6.1,6.4,6.7,6.7,4.4,6.1,6.4,8.5,6.3,6.8,7.3,7.1,5.4,5.9,6.4,6.7,6.7,6.7,5.8,6.6,5.3,7.1,6.2,3.5,5.5,7.8,5.9,6.3,8.0,5.1,7.2,7.2,6.5,6.7,4.9,6.1,6.6,5.9,7.7,7.3,6.1,6.2,6.4,7.4,7.2,6.9,6.9,6.8,7.3,6.6,7.1,6.8,4.7,5.1,6.4,7.4,6.3,6.4,7.5,5.2,5.2,6.6,7.3,5.3,6.6,6.8,6.6,8.1,7.0,5.5,3.8,6.2,7.0,5.9,4.1,6.5,7.1,6.8,6.2,7.0,5.7,6.9,6.0,6.2,7.8,7.9,6.1,6.9,6.0,5.8,7.5,4.5,6.1,5.6,7.5,4.6,6.8,2.7,7.1,6.5,6.2,6.7,5.5,6.7,4.3,7.3,6.7,4.7,5.3,7.5,5.9,6.4,6.4,4.5,6.3,6.1,6.1,5.4,5.8,7.7,7.2,8.2,5.4,6.3,7.7,7.5,6.0,6.1,4.8,5.4,7.5,5.1,2.7,7.0,7.0,7.6,6.2,6.7,7.0,7.6,7.6,4.2,4.9,6.6,5.1,7.3,5.8,5.0,7.6,7.1,8.0,3.4,6.5,6.4,7.1,4.3,6.8,6.2,6.6,5.9,5.7,6.1,6.1,7.5,7.0,6.8,6.1,6.4,6.1,5.2,6.4,7.3,6.9,5.7,4.0,6.4,7.8,6.9,7.3,4.1,5.8,6.7,6.8,5.1,4.7,2.8,4.4,5.4,5.7,6.0,6.7,6.5,6.1,6.4,7.1,6.2,6.0,7.6,7.4,5.1,5.5,7.7,6.7,6.1,5.9,8.2,4.1,4.1,6.4,5.0,4.1,6.9,6.3,6.5,5.3,5.9,5.7,5.6,7.3,6.0,6.5,4.1,6.3,7.4,7.3,5.7,7.8,3.6,7.2,6.4,7.3,6.5,4.8,7.1,7.3,3.5,6.6,6.2,6.2,5.6,7.7,6.4,7.9,6.3,2.5,7.4,7.4,3.3,5.9,7.0,5.2,5.9,7.2,6.9,6.6,6.1,7.2,5.8,5.4,4.0,6.7,5.5,8.0,5.9,6.5,6.5,7.0,6.1,4.8,6.3,7.3,5.9,6.6,6.4,4.1,4.4,4.7,4.3,6.0,6.6,6.9,4.9,6.4,5.4,7.2,6.2,6.1,4.7,8.0,6.8,6.0,6.8,6.5,5.7,5.8,6.8,5.5,7.9,6.3,6.4,5.3,6.6,7.4,5.9,6.6,6.3,4.6,4.5,7.6,7.1,6.8,6.5,5.5,7.4,6.4,5.9,7.8,7.6,5.6,5.5,6.6,6.5,6.5,7.4,5.7,4.8,8.1,7.0,6.2,6.7,8.2,5.4,5.0,5.4,7.2,7.4,5.8,6.6,5.7,8.0,6.0,5.9,5.4,6.7,6.1,5.9,5.1,7.1,5.0,6.2,5.7,5.1,6.0,5.6,8.6,6.9,5.1,7.0,4.8,4.2,7.6,6.4,5.9,4.8,5.2,6.2,7.0,6.9,7.0,6.4,7.3,7.2,6.4,7.2,6.8,6.8,5.6,8.2,5.9,6.2,8.6,3.9,5.9,9.3,3.8,8.9,5.3,7.4,6.9,7.8,6.6,5.7,6.0,8.0,5.1,5.1,6.9,4.3,7.3,7.9,5.8,5.1,8.1,6.3,4.6,7.9,7.8,6.4,6.9,5.3,5.3,7.0,6.2,7.3,5.2,4.0,6.3,6.2,5.7,6.5,6.9,6.8,7.4,5.7,7.6,6.6,5.6,6.9,7.1,5.9,7.2,3.3,7.4,5.0,6.3,5.4,4.3,7.2,7.0,6.4,6.4,5.8,6.9,6.8,5.6,4.8,5.6,7.8,6.7,7.1,6.1,7.0,3.8,5.9,6.5,6.1,6.3,4.8,6.2,2.6,6.6,5.8,6.8,7.1,6.9,6.5,5.3,6.5,4.2,5.3,6.6,5.8,6.8,6.8,6.9,6.6,7.6,7.8,5.9,7.6,7.5,6.8,4.5,6.2,6.1,6.7,5.3,5.9,5.0,6.8,7.6,7.1,6.5,6.8,6.2,7.7,6.8,8.1,4.9,4.4,4.8,7.9,8.6,6.0,6.2,6.2,5.3,7.1,6.4,7.7,4.7,6.6,7.4,7.5,6.7,6.7,8.0,5.6,7.0,6.5,5.4,5.8,8.0,6.4,6.4,6.3,6.6,6.8,7.7,5.9,4.9,7.3,6.4,6.4,6.7,4.9,6.3,6.6,7.0,6.4,7.3,6.6,7.0,7.2,6.8,7.5,7.1,7.3,6.8,6.4,4.2,6.7,7.0,7.3,6.7,6.3,3.9,5.7,5.6,5.9,5.7,8.9,5.8,6.8,5.5,6.7,6.7,7.0,5.8,5.4,6.2,6.3,6.4,4.7,5.8,5.7,6.5,6.6,7.2,5.7,7.0,6.6,7.3,6.2,6.9,6.2,4.1,7.7,7.6,7.2,6.2,5.0,5.1,7.6,6.4,6.8,3.7,4.7,6.4,6.1,7.5,5.5,6.1,7.8,6.3,6.7,4.8,5.8,7.2,7.5,6.8,7.1,6.8,6.7,6.0,6.1,6.3,8.1,4.3,6.9,5.3,6.2,7.0,4.9,7.4,6.5,6.1,6.5,5.5,5.4,5.9,5.7,5.1,6.0,7.6,4.4,6.5,5.2,6.4,6.1,6.6,7.4,6.1,5.9,7.0,6.7,6.5,6.3,7.1,8.1,6.1,6.1,5.7,6.6,8.0,6.8,5.4,7.2,6.5,7.2,5.6,5.2,5.7,7.3,5.2,6.2,8.0,2.7,4.4,6.2,6.1,5.8,4.9,7.6,6.3,5.8,6.1,6.5,7.6,5.2,5.3,7.3,5.3,6.1,6.3,6.0,6.6,8.9,6.5,7.2,6.6,6.5,7.2,5.9,5.3,6.7,7.4,6.7,5.0,6.7,6.3,5.8,8.1,6.7,7.6,6.1,6.5,5.7,5.1,6.1,6.5,7.5,7.0,7.2,6.6,6.4,6.7,5.6,7.2,7.6,7.5,5.3,4.6,5.0,6.8,4.4,6.4,7.7,7.8,5.6,6.7,6.3,6.7,5.4,5.9,7.6,5.0,6.4,7.0,7.3,6.2,3.2,6.9,6.1,7.1,6.9,6.4,7.2,5.8,5.4,6.2,7.8,7.3,6.1,7.2,8.0,6.1,6.5,6.9,6.9,7.2,4.3,6.3,6.5,6.8,6.8,5.4,5.9,5.8,6.3,5.7,5.0,5.0,4.7,7.9,5.5,6.9,5.4,1.9,5.8,7.0,8.3,5.9,4.8,7.2,7.4,6.4,6.6,5.7,7.3,5.7,5.3,5.0,7.6,6.9,7.5,6.4,6.4,6.2,4.9,2.1,6.4,5.8,4.9,6.4,7.0,5.9,6.5,6.4,5.9,6.5,6.3,6.5,6.6,7.1,4.2,5.8,6.9,8.0,6.6,6.9,5.7,6.2,6.1,5.7,6.8,7.7,7.3,5.7,5.1,7.8,7.1,6.4,7.6,7.2,5.9,6.7,6.2,7.3,4.0,6.3,8.1,6.3,5.3,5.5,6.7,5.4,6.4,7.3,6.2,5.5,8.0,5.2,4.0,6.8,7.0,6.3,7.8,6.5,6.0,6.8,7.1,6.2,6.9,5.0,5.6,7.1,6.6,7.2,6.9,7.2,6.1,3.9,3.6,6.2,7.0,5.8,7.5,8.1,7.7,4.7,7.2,6.9,6.3,6.9,7.6,6.7,6.1,5.1,4.9,5.6,5.5,4.5,5.8,6.3,6.2,6.2,6.4,7.6,7.5,6.8,6.6,6.2,6.0,7.1,5.6,6.7,7.8,4.8,5.3,5.3,5.5,6.9,5.2,5.9,6.1,6.9,5.8,4.5,6.1,5.6,5.6,5.2,6.7,5.5,7.3,6.4,6.0,5.3,5.5,6.2,4.6,4.8,4.4,5.9,6.2,7.6,8.1,7.1,6.4,5.6,5.1,5.8,7.1,6.1,6.9,5.5,5.1,5.9,7.8,3.6,5.4,5.2,7.5,6.2,5.9,7.0,6.0,6.2,5.2,7.0,7.6,5.1,5.3,7.2,4.5,6.2,5.0,6.1,8.1,5.1,8.1,7.2,7.6,5.2,6.8,6.2,7.5,5.9,7.0,5.8,7.2,6.3,7.1,6.8,4.7,5.4,6.2,7.1,6.0,6.9,3.9,6.8,7.5,8.0,4.7,6.0,6.7,5.5,6.4,8.3,5.7,5.3,4.0,8.0,6.4,5.4,6.2,5.9,6.4,7.2,6.6,8.3,7.5,5.4,6.6,6.6,7.1,7.4,6.0,8.0,7.6,6.1,7.3,5.3,5.8,5.9,7.9,8.6,6.5,6.0,4.8,6.8,6.8,6.7,4.3,5.6,4.3,7.8,5.7,6.3,6.0,5.9,6.0,5.9,7.7,5.8,5.5,6.2,5.6,6.7,7.2,6.7,6.4,6.4,6.1,7.6,6.4,4.1,7.9,4.5,4.3,6.4,7.2,7.8,7.1,7.2,6.0,6.8,6.4,6.4,6.7,7.1,6.6,6.7,7.0,4.8,4.3,6.5,6.1,6.4,7.8,6.7,6.8,5.7,6.7,7.0,7.5,4.4,6.2,6.9,6.3,6.3,4.5,6.7,6.1,6.1,6.6,7.2,5.2,6.0,7.0,7.7,6.8,5.6,6.3,6.2,4.9,5.7,6.9,5.3,7.7,6.2,4.4,7.0,8.0,6.8,8.3,5.8,6.3,5.6,5.2,5.6,4.0,6.2,6.6,5.2,6.3,6.6,6.0,6.6,6.8,7.6,5.9,7.5,6.6,7.8,6.6,4.7,5.8,8.0,7.3,5.4,6.1,5.1,7.3,6.2,5.5,5.8,6.6,6.3,7.5,5.7,7.1,7.3,6.8,6.8,4.4,6.4,7.3,6.8,5.7,5.8,5.6,6.2,4.6,4.7,6.3,7.6,5.5,5.6,6.2,6.5,7.1,6.9,7.1,6.4,6.3,6.6,5.0,7.3,7.1,5.4,4.6,7.3,5.9,5.7,5.1,5.0,6.6,3.1,8.2,5.7,5.1,6.4,8.0,5.9,7.6,5.8,5.5,5.4,4.9,6.5,6.6,7.7,6.8,6.4,6.7,7.5,7.8,6.9,6.5,4.4,7.2,6.0,5.6,7.3,6.5,5.5,7.4,8.1,5.2,6.4,8.8,6.6,6.3,7.1,7.2,7.4,5.5,6.0,5.8,5.8,8.3,7.4,7.1,5.5,5.6,6.3,6.0,7.4,6.3,5.7,6.9,7.5,5.6,4.5,5.6,6.0,6.4,6.3,5.5,6.0,7.4,4.1,5.8,7.1,6.7,6.8,6.3,6.6,5.2,7.3,5.6,6.5,6.6,5.7,5.1,3.7,6.9,7.5,6.4,6.3,7.1,6.2,6.8,7.9,6.7,5.4,5.1,5.6,7.0,7.4,5.1,6.0,7.7,6.7,6.8,6.5,6.4,5.6,7.7,6.2,6.0,7.0,5.2,6.7,3.7,6.4,6.4,7.2,6.1,6.5,7.4,6.9,6.0,5.8,6.5,7.0,6.0,5.4,7.9,5.5,4.9,6.6,6.9,7.8,6.4,6.4,8.5,5.5,6.5,6.5,6.5,7.4,6.2,7.5,6.3,5.3,2.9,6.8,4.8,5.2,7.2,7.3,4.8,5.4,6.9,6.8,7.0,2.4,6.3,3.8,6.3,6.7,7.3,7.3,6.7,7.3,6.2,4.9,7.8,5.4,6.0,6.5,5.4,6.5,7.6,6.5,4.1,6.6,6.0,7.6,6.0,7.1,7.1,6.6,5.7,7.0,6.5,6.9,5.8,6.6,5.5,6.2,7.7,6.6,7.1,6.4,6.2,5.5,6.1,7.0,6.0,5.9,7.5,5.7,5.5,6.8,6.8,7.1,7.1,6.3,7.8,6.8,4.8,6.2,5.1,5.1,8.0,5.8,6.5,6.5,7.6,6.6,6.3,6.1,7.3,7.6,7.0,7.8,6.6,6.7,5.7,5.5,3.3,8.3,7.3,6.0,5.1,6.7,6.6,7.0,6.2,5.7,6.3,7.2,4.3,5.8,6.0,7.4,6.4,6.9,6.2,6.3,8.0,5.9,6.9,5.2,5.5,5.9,6.8,5.7,5.4,5.9,6.8,6.3,6.7,6.9,6.3,6.4,7.3,5.8,6.5,5.9,6.4,6.7,6.0,7.5,6.7,6.2,6.0,2.6,6.4,7.1,7.2,6.5,7.2,5.9,7.0,5.4,6.9,6.5,7.1,5.4,8.1,8.1,4.6,7.4,7.6,7.3,5.4,5.6,7.3,5.2,7.3,7.7,5.3,6.4,6.2,6.2,6.2,7.9,5.7,4.4,7.3,5.1,7.0,6.7,7.0,6.2,7.0,6.5,6.2,6.5,6.1,4.4,5.5,4.4,4.4,7.0,5.3,6.2,7.0,7.1,6.6,8.0,5.5,7.3,7.1,8.1,5.9,7.1,5.8,6.5,5.5,7.8,4.0,7.9,6.9,7.5,6.8,6.6,5.6,6.4,6.0,8.0,6.2,6.6,6.5,4.6,4.7,6.8,6.1,8.4,6.5,7.7,6.4,5.6,6.7,6.1,7.1,5.5,5.9,5.9,6.9,6.1,7.6,7.3,5.9,6.4,6.2,4.8,5.3,7.4,5.9,7.0,7.9,7.6,7.8,3.7,7.6,6.3,6.4,5.7,5.9,5.7,6.9,6.5,6.7,4.6,6.4,6.2,6.2,5.0,6.0,5.4,5.7,7.6,6.5,7.0,6.5,6.7,5.9,7.6,5.5,5.5,5.6,6.5,4.8,7.6,4.5,6.5,7.1,5.8,5.8,7.8,5.4,8.3,5.0,7.1,6.9,7.2,6.5,5.9,6.6,3.8,4.6,6.7,5.8,7.6,5.4,5.9,7.7,6.7,7.4,5.4,5.3,5.7,5.2,6.7,6.7,6.1,5.6,5.0,7.1,4.5,5.3,4.3,7.7,5.6,5.4,7.2,7.0,8.0,7.3,7.6,6.4,6.0,5.9,4.4,6.7,7.0,6.4,6.6,6.7,5.8,6.6,8.3,5.6,6.7,7.3,6.6,6.1,7.2,7.2,3.5,5.6,4.1,6.7,6.3,4.6,6.9,7.0,7.7,4.7,6.1,5.2,6.0,6.7,7.4,6.8,7.6,7.5,6.8,6.2,5.1,6.8,6.6,4.8,7.5,7.0,6.7,6.2,5.5,7.1,6.0,6.0,4.8,6.0,5.6,7.2,5.6,5.6,8.6,6.4,7.5,7.5,6.1,5.8,7.4,7.2,5.8,8.0,4.8,7.1,5.9,6.4,5.7,6.0,5.1,7.3,6.4,5.9,6.9,6.4,5.5,5.7,6.1,5.5,6.3,7.2,7.4,7.0,6.0,6.5,4.1,5.7,8.2,7.3,5.2,6.0,6.3,6.1,6.0,6.9,6.5,6.8,7.3,5.8,4.9,6.9,6.3,5.7,5.8,6.3,6.4,7.8,6.5,6.7,5.7,7.3,5.4,6.7,6.0,8.1,6.9,6.3,6.6,3.7,7.8,6.2,6.8,5.6,5.6,5.0,6.8,5.3,5.6,6.7,6.1,6.5,6.3,6.8,5.6,3.7,7.0,6.3,7.2,6.2,6.1,6.9,6.8,8.1,5.4,6.5,8.3,5.6,6.6,5.7,6.9,6.3,4.2,6.5,6.2,5.4,5.0,6.8,7.6,6.1,7.0,6.2,5.8,8.0,6.8,7.0,7.8,7.8,7.7,6.0,4.3,5.0,6.7,7.0,6.2,5.6,7.3,4.7,3.5,7.3,4.9,7.9,5.7,6.1,5.6,7.6,4.7,7.2,6.0,6.1,5.9,6.2,6.3,7.4,6.5,6.5,7.6,5.9,7.5,6.9,4.9,6.5,6.1,6.0,5.7,5.4,6.9,6.8,6.3,5.9,6.6,6.8,5.3,7.7,6.0,6.3,6.3,2.8,7.7,4.4,6.7,6.2,7.4,5.5,6.2,5.6,4.6,7.6,6.3,5.4,7.3,6.7,5.4,7.7,5.5,7.3,7.1,5.6,6.4,4.2,5.8,5.0,6.1,6.6,7.6,7.0,6.6,6.1,2.9,4.5,5.7,6.3,7.2,7.4,8.2,6.1,5.4,5.7,7.3,6.9,3.7,5.3,5.8,6.4,6.6,7.6,4.7,4.7,8.0,5.7,6.2,6.1,5.1,6.3,6.5,7.7,7.6,6.2,5.5,6.7,6.1,4.4,5.4,7.4,5.3,7.6,5.0,6.8,6.4,6.1,5.9,6.4,7.7,7.3,7.6,6.3,6.2,6.8,6.6,7.4,3.9,6.8,6.8,7.6,7.5,5.1,7.2,4.6,6.3,5.7,6.0,6.7,6.4,6.7,6.2,7.0,6.2,6.3,5.0,7.3,4.9,7.6,4.7,6.4,7.9,5.8,5.8,5.7,5.7,5.2,7.2,6.6,7.0,6.8,6.0,7.2,7.4,6.7,8.1,5.8,7.0,6.9,7.3,5.9,6.1,7.4,6.1,4.5,7.0,8.0,7.7,5.3,7.1,7.1,6.3,7.9,5.4,6.4,7.2,6.9,5.0,4.3,5.8,7.3,3.2,7.3,4.6,7.5,5.2,6.0,7.4,2.8,7.2,6.0,6.6,5.4,7.6,4.4,3.6,7.1,7.0,6.7,6.9,6.8,6.3,6.0,4.9,5.0,6.9,5.4,6.7,6.2,5.8,7.8,6.8,4.7,4.3,6.8,6.6,5.8,6.6,4.1,6.5,6.6,4.4,6.3,5.8,6.5,2.2,7.3,6.2,7.3,7.1,7.6,6.0,6.9,5.6,6.2,7.9,5.9,7.5,3.2,6.4,7.5,6.0,6.0,5.5,6.8,3.5,6.8,5.8,6.6,5.9,3.0,6.3,7.9,6.6,6.5,7.1,6.7,5.4,7.1,6.2,6.5,5.9,7.4,5.8,6.3,6.1,8.5,5.9,7.8,6.6,6.3,7.2,7.1,5.5,6.1,6.8,6.2,4.5,7.5,6.8,6.9,5.7,5.8,7.4,5.6,4.2,7.2,7.3,3.7,7.1,6.6,5.9,6.3,4.7,5.5,7.4,7.5,6.9,7.7,6.5,7.0,5.1,5.0,6.1,6.9,6.7,6.9,6.4,6.1,5.6,7.4,8.0,6.6,6.2,6.8,5.4,6.7,7.2,5.9,7.4,5.4,6.6,7.9,7.9,4.9,7.2,5.0,5.5,6.9,5.9,7.8,5.6,6.4,5.8,7.3,6.3,7.0,6.2,7.2,7.9,4.1,5.8,6.5,7.2,7.1,5.8,6.0,5.9,3.8,4.6,5.7,7.1,6.1,6.8,5.6,5.5,4.7,5.0,6.5,4.5,7.8,5.5,6.8,5.9,6.6,5.8,8.5,5.4,7.2,6.8,5.5,5.5,6.7,7.0,7.1,5.1,7.9,6.5,8.1,6.7,7.6,6.1,6.0,7.0,7.4,6.0,7.5,8.1,6.6,7.2,7.3,5.8,7.3,7.7,5.0,7.3,5.9,7.6,7.4,8.1,6.4,6.1,5.8,6.6,5.8,6.0,7.2,6.4,4.7,7.3,5.3,5.3,5.6,6.7,4.6,7.3,7.2,6.9,6.8,6.2,6.4,6.2,6.4,6.0,6.2,6.5,6.7,6.0,6.1,6.6,6.5,6.2,7.3,6.8,3.7,5.5,6.4,5.4,6.6,6.8,6.5,3.6,5.7,7.9,6.5,4.5,5.6,5.1,5.4,7.2,6.4,5.0,7.2,6.7,5.1,7.3,7.5,6.3,6.1,6.9,5.5,6.5,6.5,5.3,6.3,6.1,6.5,4.2,6.5,7.3,6.5,6.8,7.4,8.0,7.0,8.1,5.1,7.0,7.6,5.9,5.9,6.4,6.9,6.8,7.7,7.1,6.6,6.3,7.9,6.5,5.2,5.6,6.2,6.4,8.2,8.1,7.2,5.8,5.7,7.0,6.7,4.5,6.0,6.6,6.6,6.2,7.4,8.3,6.0,8.3,7.1,3.1,8.1,6.6,7.0,7.2,7.9,5.9,6.9,6.2,6.5,4.8,7.2,6.7,5.4,2.7,6.4,7.1,7.8,5.9,7.3,6.9,6.1,6.0,4.8,6.4,6.3,5.1,5.6,7.5,6.6,6.7,6.8,7.6,4.5,7.2,7.3,5.6,7.7,5.9,7.8,6.1,7.2,5.4,6.6,6.9,7.1,7.8,7.8,7.3,6.3,5.6,6.7,7.7,6.7,5.3,6.9,5.8,7.4,6.2,6.9,5.3,5.5,4.0,7.0,5.8,5.2,8.0,5.2,6.2,6.8,6.1,5.1,6.4,4.9,5.5,7.1,7.8,6.9,6.4,9.0,6.4,7.2,7.8,7.0,6.8,7.9,7.2,6.7,7.0,5.1,5.0,6.8,6.6,8.0,7.4,5.4,6.6,5.7,7.2,5.2,6.4,5.3,5.6,6.9,4.1,7.8,7.3,4.4,7.1,6.6,5.6,7.7,4.9,7.2,6.1,5.9,8.0,7.6,6.5,5.3,7.3,5.7,6.3,5.7,4.8,6.9,6.8,5.2,5.9,6.4,5.1,6.5,6.2,5.0,6.3,6.0,3.9,6.8,7.6,5.8,6.2,4.9,8.1,4.6,6.9,7.2,7.2,6.8,6.4,4.4,6.7,7.3,4.0,5.1,6.1,7.5,5.3,6.3,7.5,5.8,7.1,6.5,6.3,7.2,5.9,4.9,6.7,3.9,3.6,6.4,5.7,8.5,6.1,5.5,5.1,7.0,7.1,5.9,7.9,6.5,7.9,6.9,7.2,7.1,7.9,7.4,7.3,5.9,5.4,6.6,6.8,7.8,7.1,5.5,4.2,7.5,4.2,6.4,5.8,7.4,7.3,5.8,5.0,6.2,7.8,6.8,6.9,5.5,7.0,6.5,8.3,7.9]},\"selected\":{\"id\":\"2271f0a0-858a-427b-a33c-5f957489fcdb\",\"type\":\"Selection\"},\"selection_policy\":{\"id\":\"399cc044-ffcd-434d-9dbd-e4cbc34a61d6\",\"type\":\"UnionRenderers\"}},\"id\":\"38acd50c-e661-4134-bbd3-8153d8c49ba6\",\"type\":\"ColumnDataSource\"},{\"attributes\":{\"data_source\":{\"id\":\"e48ab28f-75d2-4187-ad3b-21e78e48ade3\",\"type\":\"ColumnDataSource\"},\"glyph\":{\"id\":\"eca58f37-7dda-44fa-a32b-4d7f4db35977\",\"type\":\"Circle\"},\"hover_glyph\":null,\"muted_glyph\":null,\"nonselection_glyph\":{\"id\":\"32cb4eec-7b8f-4f7d-a00b-1993edc09ba1\",\"type\":\"Circle\"},\"selection_glyph\":null,\"view\":{\"id\":\"006cdf99-00df-48de-92d9-22c96c6042a2\",\"type\":\"CDSView\"}},\"id\":\"54a6d2ff-69bf-40de-b512-00c411870e2e\",\"type\":\"GlyphRenderer\"},{\"attributes\":{\"source\":{\"id\":\"e48ab28f-75d2-4187-ad3b-21e78e48ade3\",\"type\":\"ColumnDataSource\"}},\"id\":\"006cdf99-00df-48de-92d9-22c96c6042a2\",\"type\":\"CDSView\"},{\"attributes\":{\"plot\":null,\"text\":\"Test Set\"},\"id\":\"d0a2bf11-88a0-4b4f-9ab0-73d9d0ce78b8\",\"type\":\"Title\"},{\"attributes\":{},\"id\":\"0c988697-7b01-442c-82de-05342af1a11f\",\"type\":\"BasicTickFormatter\"},{\"attributes\":{\"plot\":null,\"text\":\"Training Set\"},\"id\":\"9d199817-4a42-44af-94bb-af5eb55f4419\",\"type\":\"Title\"},{\"attributes\":{\"callback\":null,\"formatters\":{\"te_predict_rating\":\"printf\",\"y_imdb_rating_test\":\"printf\"},\"renderers\":\"auto\",\"tooltips\":[[\"Predicted IMDB Score: \",\"@te_predict_rating{%0.1f}\"],[\"Real IMDB Score: \",\"@y_imdb_rating_test{%0.1f}\"]]},\"id\":\"d1369d5a-cd25-4994-86ca-14fea50756cb\",\"type\":\"HoverTool\"},{\"attributes\":{\"callback\":null},\"id\":\"7e955fa7-e9ef-4c9c-981a-66ee1e9efd19\",\"type\":\"DataRange1d\"},{\"attributes\":{\"callback\":null},\"id\":\"414d0a92-50ef-468d-800a-26c3c4cf4c0c\",\"type\":\"DataRange1d\"},{\"attributes\":{\"active_drag\":\"auto\",\"active_inspect\":\"auto\",\"active_scroll\":\"auto\",\"active_tap\":\"auto\",\"tools\":[{\"id\":\"97981ddd-bae3-4bb2-97ae-a27ac41ffd5c\",\"type\":\"HoverTool\"}]},\"id\":\"ae92274e-fe84-4211-95de-1083e4a84039\",\"type\":\"Toolbar\"},{\"attributes\":{\"fill_alpha\":{\"value\":0.1},\"fill_color\":{\"value\":\"#1f77b4\"},\"line_alpha\":{\"value\":0.1},\"line_color\":{\"value\":\"#1f77b4\"},\"line_width\":{\"value\":2},\"x\":{\"field\":\"y_imdb_rating_train\"},\"y\":{\"field\":\"tr_predict_rating\"}},\"id\":\"77885b6b-f40d-48ae-bf73-608227394c74\",\"type\":\"Circle\"},{\"attributes\":{},\"id\":\"9b3a94ac-a1d3-4c0d-9b6d-80357a896296\",\"type\":\"BasicTickFormatter\"},{\"attributes\":{},\"id\":\"e454a829-0669-4adb-a0bc-1b74975a4f6f\",\"type\":\"LinearScale\"},{\"attributes\":{},\"id\":\"bd61cb4b-ddf3-4039-b965-7d597d8a93a6\",\"type\":\"BasicTickFormatter\"},{\"attributes\":{\"callback\":null},\"id\":\"ca1fd873-c27c-4c7f-ab79-0e18a49216fb\",\"type\":\"DataRange1d\"},{\"attributes\":{},\"id\":\"1200fc36-ec40-4562-b09a-4a576aab97f1\",\"type\":\"LinearScale\"},{\"attributes\":{\"grid_line_color\":{\"value\":\"white\"},\"plot\":{\"id\":\"402baa28-31b1-4523-b69e-7c3ea0345bcb\",\"subtype\":\"Figure\",\"type\":\"Plot\"},\"ticker\":{\"id\":\"6302fce4-d146-4546-b228-36550ae84e01\",\"type\":\"BasicTicker\"}},\"id\":\"4beea92f-79c5-476b-81f6-874a6007f2b1\",\"type\":\"Grid\"},{\"attributes\":{},\"id\":\"2271f0a0-858a-427b-a33c-5f957489fcdb\",\"type\":\"Selection\"},{\"attributes\":{\"axis_label\":\"Predicted IMDB Rating\",\"axis_line_color\":{\"value\":null},\"formatter\":{\"id\":\"ef07c6ee-0a4c-4c91-883b-fd505d8496fa\",\"type\":\"BasicTickFormatter\"},\"plot\":{\"id\":\"402baa28-31b1-4523-b69e-7c3ea0345bcb\",\"subtype\":\"Figure\",\"type\":\"Plot\"},\"ticker\":{\"id\":\"6302fce4-d146-4546-b228-36550ae84e01\",\"type\":\"BasicTicker\"}},\"id\":\"32bd6440-55e9-433b-9759-f6de9226196a\",\"type\":\"LinearAxis\"},{\"attributes\":{},\"id\":\"399cc044-ffcd-434d-9dbd-e4cbc34a61d6\",\"type\":\"UnionRenderers\"},{\"attributes\":{},\"id\":\"6302fce4-d146-4546-b228-36550ae84e01\",\"type\":\"BasicTicker\"},{\"attributes\":{},\"id\":\"87d94081-d591-4702-b196-b5dbb37d87d8\",\"type\":\"UnionRenderers\"},{\"attributes\":{\"axis_label\":\"Real IMDB Rating\",\"axis_line_color\":{\"value\":null},\"formatter\":{\"id\":\"0c988697-7b01-442c-82de-05342af1a11f\",\"type\":\"BasicTickFormatter\"},\"plot\":{\"id\":\"402baa28-31b1-4523-b69e-7c3ea0345bcb\",\"subtype\":\"Figure\",\"type\":\"Plot\"},\"ticker\":{\"id\":\"04f39da4-8d57-407e-b01d-c16b416256b8\",\"type\":\"BasicTicker\"}},\"id\":\"c07a5b29-2edd-44d7-bba9-891e2e0b04e4\",\"type\":\"LinearAxis\"},{\"attributes\":{\"callback\":null,\"data\":{\"te_predict_rating\":{\"__ndarray__\":\"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\",\"dtype\":\"float64\",\"shape\":[1673]},\"y_imdb_rating_test\":[6.7,5.4,7.4,6.1,5.0,7.1,6.7,6.5,3.4,5.0,7.5,6.9,6.5,4.0,7.0,7.2,6.9,5.3,6.2,5.6,6.6,7.4,5.2,6.5,2.2,5.7,7.6,6.9,4.8,5.9,4.5,6.5,7.0,5.9,7.0,6.3,6.2,3.7,6.1,7.1,6.7,6.7,6.0,5.7,6.2,7.0,5.7,7.1,6.2,5.4,8.1,6.0,6.6,6.4,5.1,6.3,6.5,6.6,4.9,6.1,3.8,7.2,6.8,6.3,4.6,8.0,3.9,5.8,5.9,6.7,5.9,6.0,5.5,8.0,6.0,8.3,6.4,8.4,7.4,6.3,8.7,5.9,5.3,5.0,7.2,6.1,7.5,6.5,7.1,6.4,6.1,7.1,5.4,6.1,4.6,7.3,6.1,4.3,6.9,7.4,5.9,6.7,7.9,7.1,7.5,6.5,6.9,6.8,7.2,6.8,8.1,5.4,6.7,5.8,7.2,5.4,6.5,6.7,8.0,8.0,5.5,5.9,5.3,7.0,5.5,5.4,5.5,8.6,5.9,5.7,6.3,8.0,5.8,6.8,4.9,7.3,4.9,4.7,6.0,7.3,6.7,7.2,6.7,5.4,6.9,6.0,6.1,7.6,6.8,6.1,8.2,6.3,5.1,8.5,6.5,7.3,7.9,7.0,5.5,6.4,5.9,6.0,6.9,7.4,5.3,6.7,6.7,6.4,6.7,4.4,6.1,6.2,5.1,3.5,5.6,7.6,6.6,5.6,7.1,6.0,6.3,8.1,5.2,6.0,3.0,7.1,4.3,2.9,6.6,7.8,7.6,7.6,6.1,3.4,7.3,4.6,8.4,6.8,6.5,5.6,5.7,7.0,7.3,6.6,5.8,4.3,6.5,7.1,6.9,3.7,5.3,5.3,5.6,6.2,6.6,7.7,7.2,6.7,8.0,6.6,6.1,6.8,7.7,6.3,2.8,7.0,7.2,6.0,7.1,6.6,6.7,5.6,6.5,4.7,6.4,7.0,5.2,6.6,5.3,5.9,7.9,4.4,4.2,6.4,7.6,6.2,5.1,6.2,5.4,7.1,7.2,6.1,6.0,4.9,7.6,6.8,6.4,7.1,6.7,5.8,7.1,4.5,5.2,6.7,7.6,6.2,7.5,6.8,6.6,5.8,7.7,6.8,6.8,6.6,6.8,7.1,7.3,4.4,6.5,6.6,6.1,7.2,5.8,6.9,6.8,6.7,6.8,7.3,7.4,6.4,7.1,5.8,6.2,7.3,6.5,6.6,5.7,6.3,7.5,6.2,3.2,5.3,7.7,5.8,6.1,6.3,4.6,7.3,6.3,6.2,6.5,7.8,6.5,5.6,6.3,6.4,6.7,6.9,5.8,6.1,7.8,6.5,5.4,6.1,7.3,7.6,7.2,5.1,5.8,7.3,7.1,5.8,7.4,5.3,5.9,7.3,5.6,6.8,5.9,5.7,6.4,7.4,4.4,6.7,7.3,5.2,6.1,5.8,7.0,6.4,5.5,6.8,7.3,5.8,4.9,5.6,4.9,6.5,6.6,6.1,5.8,5.1,6.1,5.7,6.3,6.9,5.6,6.1,6.0,5.2,7.7,4.9,6.4,7.6,4.7,4.6,7.2,7.6,5.5,7.2,5.8,4.8,6.7,7.9,5.9,5.9,5.7,7.7,6.5,6.3,4.8,4.9,6.2,6.6,5.1,6.6,6.0,7.2,6.6,3.9,7.6,7.1,6.2,5.3,6.8,7.0,6.5,6.6,6.3,6.4,5.7,6.2,6.4,6.2,5.8,6.9,3.2,5.6,5.4,6.6,6.1,5.6,6.0,7.6,6.8,6.5,5.5,5.9,6.9,5.2,6.7,6.7,6.2,6.7,8.5,6.9,7.5,6.3,6.0,4.8,2.9,5.5,7.1,7.1,5.4,5.4,6.4,3.5,5.3,3.6,6.1,6.5,6.8,6.0,6.4,6.6,6.1,6.2,7.0,7.0,7.6,5.5,7.1,6.1,5.5,7.2,6.9,6.8,4.4,7.5,8.1,7.2,8.3,7.5,6.5,6.0,7.6,5.6,5.5,5.5,6.5,6.4,6.7,5.0,6.5,7.7,7.1,6.6,6.7,4.5,7.0,5.8,5.0,6.3,4.1,6.7,6.7,5.8,6.5,7.1,6.6,5.9,5.4,6.0,4.7,7.7,4.8,7.5,6.6,7.4,5.8,7.1,4.6,6.1,6.6,5.1,8.5,5.1,7.4,7.0,4.2,4.4,6.1,6.5,6.7,6.4,6.6,6.3,6.5,8.3,5.6,5.4,6.2,4.9,6.5,6.6,5.0,5.9,7.7,4.4,5.5,5.6,4.3,5.2,5.8,6.2,6.4,7.9,8.0,7.4,7.0,8.1,7.8,6.4,5.7,7.2,6.4,7.7,8.2,6.2,5.5,5.8,6.0,7.9,5.9,6.4,7.3,5.6,7.5,7.2,6.8,2.4,6.7,5.3,3.9,6.2,6.4,5.6,4.5,7.1,5.7,5.0,6.3,6.1,5.7,5.9,7.7,7.3,6.4,6.9,6.4,6.3,6.5,7.6,6.8,6.7,7.2,7.1,6.9,6.5,7.0,6.3,6.4,7.4,5.4,6.7,7.1,5.9,7.2,6.8,5.0,6.2,6.6,5.4,8.0,6.5,6.9,5.1,3.0,5.7,5.9,5.9,6.6,6.6,7.3,6.9,6.8,6.6,6.3,4.6,5.5,5.9,6.8,7.0,7.2,7.2,5.5,7.3,4.6,6.5,4.4,6.7,5.3,6.7,5.6,7.7,7.5,5.7,8.4,7.2,6.7,6.2,6.7,6.0,7.8,5.6,7.1,6.1,7.1,5.6,6.9,5.8,4.8,4.7,7.3,6.2,5.8,6.8,6.7,6.8,4.4,6.3,5.1,6.0,5.6,3.3,7.4,6.9,5.3,4.3,5.4,6.6,7.7,7.5,7.4,6.7,7.2,6.2,6.2,6.7,6.1,6.2,5.2,5.0,6.2,7.2,5.6,7.0,5.9,5.7,7.0,6.0,6.9,5.7,6.9,7.4,5.5,6.7,7.6,6.9,6.8,4.6,6.1,5.8,7.7,7.3,5.8,7.6,6.9,7.4,5.7,6.8,8.1,6.6,5.1,6.6,5.7,5.8,7.3,6.5,4.6,7.4,5.6,3.8,6.5,5.4,7.5,5.1,6.9,4.9,5.0,6.5,7.7,5.3,7.7,7.1,6.6,6.5,7.5,4.2,5.8,5.8,4.2,5.7,5.8,5.1,4.6,7.7,4.4,7.0,6.6,4.9,5.7,6.8,6.0,6.7,6.4,6.7,5.3,5.1,4.8,6.7,6.8,5.6,6.7,6.6,6.3,6.6,6.8,7.2,5.7,6.7,6.2,6.7,6.9,6.7,5.0,6.8,5.7,6.9,5.0,6.8,6.3,6.7,8.0,4.6,4.3,6.3,2.1,5.7,3.6,6.4,6.6,6.6,5.6,7.5,6.7,6.2,5.8,5.8,3.7,5.4,7.9,7.7,5.5,7.4,8.3,7.2,6.9,5.5,7.3,8.7,5.8,5.3,7.6,5.7,5.8,5.5,6.6,5.5,5.2,7.4,6.1,5.6,5.6,7.1,7.1,6.0,7.3,6.6,6.6,4.6,7.6,6.9,7.3,5.5,6.4,6.2,6.2,6.2,4.8,5.9,7.2,5.5,5.9,8.0,5.8,3.3,7.8,6.8,5.1,6.7,5.6,7.8,4.9,7.1,5.7,8.0,7.0,6.4,5.1,7.3,6.1,5.6,7.9,7.6,8.2,4.2,6.5,5.2,5.8,7.4,4.9,4.2,6.3,7.3,7.2,6.5,6.6,6.1,4.3,5.6,6.2,7.7,5.9,4.7,5.7,5.2,6.6,5.9,6.5,5.2,7.5,8.0,6.8,5.1,6.7,6.3,8.3,7.2,5.3,5.0,7.0,4.0,6.3,7.8,5.7,7.4,5.1,7.5,5.2,5.3,6.6,6.5,6.5,5.6,7.5,5.5,5.7,7.4,5.3,6.4,6.3,6.9,6.2,5.6,5.6,7.6,7.1,7.3,6.7,6.5,7.1,5.1,7.1,5.8,7.0,6.3,5.6,7.8,6.9,6.3,6.8,5.0,6.9,5.3,7.5,4.3,7.8,7.0,7.0,5.2,6.7,7.0,5.9,7.1,7.4,3.7,8.8,8.5,6.7,6.7,7.7,6.8,6.3,5.1,6.1,6.4,6.4,6.0,5.9,4.2,6.7,6.4,6.4,6.8,7.0,7.2,7.6,5.0,7.1,6.8,6.3,7.6,7.4,5.9,6.1,6.1,6.7,3.1,3.4,7.4,6.5,5.9,6.9,6.2,6.4,5.9,8.5,6.5,7.0,5.9,7.2,6.8,4.4,7.5,5.2,3.9,6.0,2.3,2.0,5.5,5.3,5.7,6.1,7.6,5.7,6.9,6.1,7.3,5.8,5.9,6.7,5.7,5.7,7.4,5.9,6.4,5.7,6.7,7.0,8.8,7.3,7.6,5.9,7.1,8.0,6.6,7.7,7.3,6.1,7.4,6.4,6.0,7.3,5.2,6.9,6.3,6.6,6.5,5.2,6.5,6.4,6.7,5.7,6.2,6.2,6.1,3.8,6.7,6.5,7.2,6.7,6.8,7.1,6.6,6.2,5.5,8.5,4.7,6.3,6.9,6.0,5.8,6.5,6.2,5.9,6.2,6.0,5.2,6.4,7.1,4.6,7.0,6.2,5.9,5.4,7.3,6.7,6.7,7.7,8.4,4.5,6.6,7.0,7.4,6.0,5.6,7.2,4.8,6.6,6.2,5.4,6.8,7.6,7.0,7.7,5.7,6.7,5.9,5.4,6.9,6.2,6.9,7.4,6.8,7.0,6.5,7.4,6.5,6.4,6.5,5.9,5.1,7.7,7.3,7.3,6.9,5.3,5.6,6.2,7.3,6.3,7.4,6.4,8.7,5.3,6.7,6.1,7.5,5.9,5.9,3.5,4.6,6.6,4.4,7.0,3.0,4.4,6.2,6.8,5.9,7.1,6.3,7.0,7.1,5.9,9.0,6.7,5.5,7.2,7.6,6.4,6.2,6.8,5.4,5.6,6.7,5.9,3.4,5.2,6.7,5.6,3.6,7.8,5.7,7.8,8.2,7.4,8.0,6.8,5.5,5.6,7.3,6.2,6.2,5.7,6.1,4.5,4.4,6.0,4.9,5.5,5.5,7.2,7.0,7.5,3.9,6.1,6.8,6.6,6.0,6.8,7.3,7.0,7.2,4.3,8.2,6.8,4.4,6.5,5.5,5.7,3.2,5.4,6.2,5.9,4.9,5.4,5.7,5.9,6.4,7.2,6.4,4.9,5.8,6.3,7.8,6.1,5.3,3.8,7.0,5.3,6.5,4.4,7.5,5.5,6.0,5.8,5.8,5.4,5.3,5.8,7.8,5.4,6.9,6.6,5.3,6.6,4.9,5.9,3.6,7.6,5.6,6.3,6.6,4.5,6.6,8.2,5.6,5.4,5.3,7.8,6.7,7.9,7.2,8.0,6.2,5.7,5.4,5.8,5.8,6.5,8.3,4.2,6.2,4.6,6.5,7.1,6.7,6.7,8.6,5.1,1.9,7.6,7.1,5.5,6.0,5.9,6.3,6.7,2.4,6.0,2.9,7.0,6.0,6.3,5.8,6.3,6.0,8.1,4.8,5.8,7.4,5.7,6.4,7.0,6.4,5.0,5.4,5.8,7.9,6.5,6.4,6.3,5.5,6.8,7.8,7.4,7.3,6.0,6.1,6.5,6.7,7.1,6.3,7.8,4.8,6.1,5.3,7.2,5.7,6.1,7.5,6.5,6.7,2.9,6.5,7.3,5.7,5.3,7.1,5.6,6.6,7.2,6.2,8.8,7.1,5.8,5.5,6.6,6.4,6.3,6.2,6.9,6.2,6.5,5.9,5.8,7.2,7.2,5.8,7.2,6.1,5.9,7.0,4.8,5.2,5.0,7.3,4.7,6.5,6.0,7.3,7.0,5.4,6.6,6.4,6.8,7.8,5.8,6.8,7.4,4.9,5.7,8.0,5.6,6.8,4.2,5.7,6.0,5.3,7.3,5.9,6.8,6.3,6.5,6.7,6.2,7.6,4.9,6.6,6.4,6.3,5.5,4.3,4.5,5.5,6.0,6.8,6.2,8.1,6.6,5.9,6.1,5.3,6.4,5.7,7.7,4.7,7.1,6.4,6.4,7.3,7.3,7.1,6.1,6.2,6.8,6.1,7.6,5.9,4.6,7.7,6.4,6.5,2.4,6.5,3.8,6.8,4.7,7.6,6.0,4.3,6.7,6.1,7.7,6.4,6.5,5.1,5.4,5.7,6.8,5.4,4.2,4.7,6.4,7.5,7.0,7.1,7.0,7.1,6.3,6.7,6.7,7.2,7.7,5.4,7.4,5.3,5.3,7.3,6.3,4.3,6.8,7.1,6.1,6.6,6.8,5.5,6.3,5.1,6.1,6.7,5.8,4.6,5.8,5.9,6.2,6.5,5.4,5.5,7.5,5.9,5.6,7.3,7.3,7.0,6.7,6.6,6.7,4.1,5.6,6.6,3.5,6.3,7.2,6.4,5.7,7.2,5.2,7.1,7.1,6.0,5.3,5.8,6.7,6.4,4.7,5.9,6.0,5.9,7.7,7.9,6.6,5.8,7.5,6.2,3.9,7.0,7.1,6.5,6.1,7.1,7.3,4.0,6.1,6.7,5.6,6.4,7.2,5.1,5.8,5.5,4.7,6.3,5.8,5.4,6.1,6.8,7.5,6.2,3.9,5.7,7.7,6.2,6.0,7.6,6.5,6.2,5.1,5.9,6.8,5.9,6.2,5.1,5.9,5.9,7.8,6.7,7.2,6.7,7.2,6.3,5.4,6.2,7.5,7.1,6.6,6.5,4.3,6.3,6.1,5.6,6.3,6.9,6.5,5.3,7.5,7.0,6.2,5.5,6.5,7.1,6.6,6.7,6.8,6.3,6.9,6.3,6.3,6.9,5.6,5.8,4.3,2.0,7.0,5.5,7.2,7.1,6.4,6.3,5.6,6.2,5.6,7.4,4.8,5.2,5.5,7.1,6.2,6.8,6.8,3.8,6.5,6.7,6.3,6.3,7.4,7.2,6.6,7.7,6.6,7.3,6.3,6.0,6.9,6.3,5.7,6.8,5.9,5.8,6.1,6.0,6.6,6.6,4.8,4.7,5.7,6.1,6.7,4.5,6.6,6.8,5.3,6.9,6.6,6.5,6.0,4.8,5.3,5.7,7.5]},\"selected\":{\"id\":\"887b436b-9c9f-4a80-8ba2-3e94725d3a62\",\"type\":\"Selection\"},\"selection_policy\":{\"id\":\"87d94081-d591-4702-b196-b5dbb37d87d8\",\"type\":\"UnionRenderers\"}},\"id\":\"e48ab28f-75d2-4187-ad3b-21e78e48ade3\",\"type\":\"ColumnDataSource\"},{\"attributes\":{},\"id\":\"887b436b-9c9f-4a80-8ba2-3e94725d3a62\",\"type\":\"Selection\"},{\"attributes\":{},\"id\":\"04f39da4-8d57-407e-b01d-c16b416256b8\",\"type\":\"BasicTicker\"},{\"attributes\":{\"dimension\":1,\"grid_line_color\":{\"value\":\"white\"},\"plot\":{\"id\":\"402baa28-31b1-4523-b69e-7c3ea0345bcb\",\"subtype\":\"Figure\",\"type\":\"Plot\"},\"ticker\":{\"id\":\"04f39da4-8d57-407e-b01d-c16b416256b8\",\"type\":\"BasicTicker\"}},\"id\":\"70bb6e8c-8e98-410f-b9a0-cd01c505ced0\",\"type\":\"Grid\"},{\"attributes\":{\"fill_color\":{\"value\":\"#99d594\"},\"line_color\":{\"value\":\"#99d594\"},\"line_width\":{\"value\":2},\"x\":{\"field\":\"y_imdb_rating_train\"},\"y\":{\"field\":\"tr_predict_rating\"}},\"id\":\"5a20119f-0c74-4520-9b5c-490777978aa7\",\"type\":\"Circle\"},{\"attributes\":{\"data_source\":{\"id\":\"38acd50c-e661-4134-bbd3-8153d8c49ba6\",\"type\":\"ColumnDataSource\"},\"glyph\":{\"id\":\"5a20119f-0c74-4520-9b5c-490777978aa7\",\"type\":\"Circle\"},\"hover_glyph\":null,\"muted_glyph\":null,\"nonselection_glyph\":{\"id\":\"77885b6b-f40d-48ae-bf73-608227394c74\",\"type\":\"Circle\"},\"selection_glyph\":null,\"view\":{\"id\":\"0771a0b6-42ba-44ca-aba0-2cd2fdd55018\",\"type\":\"CDSView\"}},\"id\":\"4c070659-becf-491e-9994-95dd2577466c\",\"type\":\"GlyphRenderer\"},{\"attributes\":{\"source\":{\"id\":\"38acd50c-e661-4134-bbd3-8153d8c49ba6\",\"type\":\"ColumnDataSource\"}},\"id\":\"0771a0b6-42ba-44ca-aba0-2cd2fdd55018\",\"type\":\"CDSView\"}],\"root_ids\":[\"175d7010-c0fd-4db4-bf6a-88431a21ae57\"]},\"title\":\"Bokeh Application\",\"version\":\"0.12.16\"}};\n",
       "  var render_items = [{\"docid\":\"0f5de72e-8de1-4cd1-b061-11dd7b7d208e\",\"elementid\":\"65a6d141-a234-4263-9938-cd1104072b38\",\"modelid\":\"175d7010-c0fd-4db4-bf6a-88431a21ae57\"}];\n",
       "  root.Bokeh.embed.embed_items_notebook(docs_json, render_items);\n",
       "\n",
       "  }\n",
       "  if (root.Bokeh !== undefined) {\n",
       "    embed_document(root);\n",
       "  } else {\n",
       "    var attempts = 0;\n",
       "    var timer = setInterval(function(root) {\n",
       "      if (root.Bokeh !== undefined) {\n",
       "        embed_document(root);\n",
       "        clearInterval(timer);\n",
       "      }\n",
       "      attempts++;\n",
       "      if (attempts > 100) {\n",
       "        console.log(\"Bokeh: ERROR: Unable to run BokehJS code because BokehJS library is missing\")\n",
       "        clearInterval(timer);\n",
       "      }\n",
       "    }, 10, root)\n",
       "  }\n",
       "})(window);"
      ],
      "application/vnd.bokehjs_exec.v0+json": ""
     },
     "metadata": {
      "application/vnd.bokehjs_exec.v0+json": {
       "id": "175d7010-c0fd-4db4-bf6a-88431a21ae57"
      }
     },
     "output_type": "display_data"
    },
    {
     "name": "stderr",
     "output_type": "stream",
     "text": [
      "ERROR:bokeh.core.validation.check:E-1001 (BAD_COLUMN_NAME): Glyph refers to nonexistent column name: te_predict_rating, y_imdb_rating_test [renderer: GlyphRenderer(id='d7649bd6-f43f-4dae-b397-8f9d1f89db9a', ...)]\n"
     ]
    },
    {
     "ename": "KeyboardInterrupt",
     "evalue": "",
     "output_type": "error",
     "traceback": [
      "\u001b[0;31m---------------------------------------------------------------------------\u001b[0m",
      "\u001b[0;31mKeyboardInterrupt\u001b[0m                         Traceback (most recent call last)",
      "\u001b[0;32m<ipython-input-61-c2e0d575cc37>\u001b[0m in \u001b[0;36m<module>\u001b[0;34m()\u001b[0m\n\u001b[1;32m     63\u001b[0m \u001b[0;34m\u001b[0m\u001b[0m\n\u001b[1;32m     64\u001b[0m \u001b[0;34m\u001b[0m\u001b[0m\n\u001b[0;32m---> 65\u001b[0;31m \u001b[0mshow\u001b[0m\u001b[0;34m(\u001b[0m\u001b[0mrow\u001b[0m\u001b[0;34m(\u001b[0m\u001b[0mp\u001b[0m\u001b[0;34m,\u001b[0m\u001b[0mp2\u001b[0m\u001b[0;34m)\u001b[0m\u001b[0;34m)\u001b[0m\u001b[0;34m\u001b[0m\u001b[0m\n\u001b[0m",
      "\u001b[0;32m/opt/conda/envs/HL-capstone/lib/python3.6/site-packages/bokeh/io/showing.py\u001b[0m in \u001b[0;36mshow\u001b[0;34m(obj, browser, new, notebook_handle, notebook_url)\u001b[0m\n\u001b[1;32m    135\u001b[0m     \u001b[0;32mif\u001b[0m \u001b[0mobj\u001b[0m \u001b[0;32mnot\u001b[0m \u001b[0;32min\u001b[0m \u001b[0mstate\u001b[0m\u001b[0;34m.\u001b[0m\u001b[0mdocument\u001b[0m\u001b[0;34m.\u001b[0m\u001b[0mroots\u001b[0m\u001b[0;34m:\u001b[0m\u001b[0;34m\u001b[0m\u001b[0m\n\u001b[1;32m    136\u001b[0m         \u001b[0mstate\u001b[0m\u001b[0;34m.\u001b[0m\u001b[0mdocument\u001b[0m\u001b[0;34m.\u001b[0m\u001b[0madd_root\u001b[0m\u001b[0;34m(\u001b[0m\u001b[0mobj\u001b[0m\u001b[0;34m)\u001b[0m\u001b[0;34m\u001b[0m\u001b[0m\n\u001b[0;32m--> 137\u001b[0;31m     \u001b[0;32mreturn\u001b[0m \u001b[0m_show_with_state\u001b[0m\u001b[0;34m(\u001b[0m\u001b[0mobj\u001b[0m\u001b[0;34m,\u001b[0m \u001b[0mstate\u001b[0m\u001b[0;34m,\u001b[0m \u001b[0mbrowser\u001b[0m\u001b[0;34m,\u001b[0m \u001b[0mnew\u001b[0m\u001b[0;34m,\u001b[0m \u001b[0mnotebook_handle\u001b[0m\u001b[0;34m=\u001b[0m\u001b[0mnotebook_handle\u001b[0m\u001b[0;34m)\u001b[0m\u001b[0;34m\u001b[0m\u001b[0m\n\u001b[0m\u001b[1;32m    138\u001b[0m \u001b[0;34m\u001b[0m\u001b[0m\n\u001b[1;32m    139\u001b[0m \u001b[0;31m#-----------------------------------------------------------------------------\u001b[0m\u001b[0;34m\u001b[0m\u001b[0;34m\u001b[0m\u001b[0m\n",
      "\u001b[0;32m/opt/conda/envs/HL-capstone/lib/python3.6/site-packages/bokeh/io/showing.py\u001b[0m in \u001b[0;36m_show_with_state\u001b[0;34m(obj, state, browser, new, notebook_handle)\u001b[0m\n\u001b[1;32m    173\u001b[0m \u001b[0;34m\u001b[0m\u001b[0m\n\u001b[1;32m    174\u001b[0m     \u001b[0;32mif\u001b[0m \u001b[0mstate\u001b[0m\u001b[0;34m.\u001b[0m\u001b[0mfile\u001b[0m \u001b[0;32mor\u001b[0m \u001b[0;32mnot\u001b[0m \u001b[0mshown\u001b[0m\u001b[0;34m:\u001b[0m\u001b[0;34m\u001b[0m\u001b[0m\n\u001b[0;32m--> 175\u001b[0;31m         \u001b[0m_show_file_with_state\u001b[0m\u001b[0;34m(\u001b[0m\u001b[0mobj\u001b[0m\u001b[0;34m,\u001b[0m \u001b[0mstate\u001b[0m\u001b[0;34m,\u001b[0m \u001b[0mnew\u001b[0m\u001b[0;34m,\u001b[0m \u001b[0mcontroller\u001b[0m\u001b[0;34m)\u001b[0m\u001b[0;34m\u001b[0m\u001b[0m\n\u001b[0m\u001b[1;32m    176\u001b[0m \u001b[0;34m\u001b[0m\u001b[0m\n\u001b[1;32m    177\u001b[0m     \u001b[0;32mreturn\u001b[0m \u001b[0mcomms_handle\u001b[0m\u001b[0;34m\u001b[0m\u001b[0m\n",
      "\u001b[0;32m/opt/conda/envs/HL-capstone/lib/python3.6/site-packages/bokeh/io/showing.py\u001b[0m in \u001b[0;36m_show_file_with_state\u001b[0;34m(obj, state, new, controller)\u001b[0m\n\u001b[1;32m    157\u001b[0m     '''\n\u001b[1;32m    158\u001b[0m     \u001b[0mfilename\u001b[0m \u001b[0;34m=\u001b[0m \u001b[0msave\u001b[0m\u001b[0;34m(\u001b[0m\u001b[0mobj\u001b[0m\u001b[0;34m,\u001b[0m \u001b[0mstate\u001b[0m\u001b[0;34m=\u001b[0m\u001b[0mstate\u001b[0m\u001b[0;34m)\u001b[0m\u001b[0;34m\u001b[0m\u001b[0m\n\u001b[0;32m--> 159\u001b[0;31m     \u001b[0mcontroller\u001b[0m\u001b[0;34m.\u001b[0m\u001b[0mopen\u001b[0m\u001b[0;34m(\u001b[0m\u001b[0;34m\"file://\"\u001b[0m \u001b[0;34m+\u001b[0m \u001b[0mfilename\u001b[0m\u001b[0;34m,\u001b[0m \u001b[0mnew\u001b[0m\u001b[0;34m=\u001b[0m\u001b[0mNEW_PARAM\u001b[0m\u001b[0;34m[\u001b[0m\u001b[0mnew\u001b[0m\u001b[0;34m]\u001b[0m\u001b[0;34m)\u001b[0m\u001b[0;34m\u001b[0m\u001b[0m\n\u001b[0m\u001b[1;32m    160\u001b[0m \u001b[0;34m\u001b[0m\u001b[0m\n\u001b[1;32m    161\u001b[0m \u001b[0;32mdef\u001b[0m \u001b[0m_show_with_state\u001b[0m\u001b[0;34m(\u001b[0m\u001b[0mobj\u001b[0m\u001b[0;34m,\u001b[0m \u001b[0mstate\u001b[0m\u001b[0;34m,\u001b[0m \u001b[0mbrowser\u001b[0m\u001b[0;34m,\u001b[0m \u001b[0mnew\u001b[0m\u001b[0;34m,\u001b[0m \u001b[0mnotebook_handle\u001b[0m\u001b[0;34m=\u001b[0m\u001b[0;32mFalse\u001b[0m\u001b[0;34m)\u001b[0m\u001b[0;34m:\u001b[0m\u001b[0;34m\u001b[0m\u001b[0m\n",
      "\u001b[0;32m/opt/conda/envs/HL-capstone/lib/python3.6/webbrowser.py\u001b[0m in \u001b[0;36mopen\u001b[0;34m(url, new, autoraise)\u001b[0m\n\u001b[1;32m     58\u001b[0m     \u001b[0;32mfor\u001b[0m \u001b[0mname\u001b[0m \u001b[0;32min\u001b[0m \u001b[0m_tryorder\u001b[0m\u001b[0;34m:\u001b[0m\u001b[0;34m\u001b[0m\u001b[0m\n\u001b[1;32m     59\u001b[0m         \u001b[0mbrowser\u001b[0m \u001b[0;34m=\u001b[0m \u001b[0mget\u001b[0m\u001b[0;34m(\u001b[0m\u001b[0mname\u001b[0m\u001b[0;34m)\u001b[0m\u001b[0;34m\u001b[0m\u001b[0m\n\u001b[0;32m---> 60\u001b[0;31m         \u001b[0;32mif\u001b[0m \u001b[0mbrowser\u001b[0m\u001b[0;34m.\u001b[0m\u001b[0mopen\u001b[0m\u001b[0;34m(\u001b[0m\u001b[0murl\u001b[0m\u001b[0;34m,\u001b[0m \u001b[0mnew\u001b[0m\u001b[0;34m,\u001b[0m \u001b[0mautoraise\u001b[0m\u001b[0;34m)\u001b[0m\u001b[0;34m:\u001b[0m\u001b[0;34m\u001b[0m\u001b[0m\n\u001b[0m\u001b[1;32m     61\u001b[0m             \u001b[0;32mreturn\u001b[0m \u001b[0;32mTrue\u001b[0m\u001b[0;34m\u001b[0m\u001b[0m\n\u001b[1;32m     62\u001b[0m     \u001b[0;32mreturn\u001b[0m \u001b[0;32mFalse\u001b[0m\u001b[0;34m\u001b[0m\u001b[0m\n",
      "\u001b[0;32m/opt/conda/envs/HL-capstone/lib/python3.6/webbrowser.py\u001b[0m in \u001b[0;36mopen\u001b[0;34m(self, url, new, autoraise)\u001b[0m\n\u001b[1;32m    144\u001b[0m             \u001b[0;32melse\u001b[0m\u001b[0;34m:\u001b[0m\u001b[0;34m\u001b[0m\u001b[0m\n\u001b[1;32m    145\u001b[0m                 \u001b[0mp\u001b[0m \u001b[0;34m=\u001b[0m \u001b[0msubprocess\u001b[0m\u001b[0;34m.\u001b[0m\u001b[0mPopen\u001b[0m\u001b[0;34m(\u001b[0m\u001b[0mcmdline\u001b[0m\u001b[0;34m,\u001b[0m \u001b[0mclose_fds\u001b[0m\u001b[0;34m=\u001b[0m\u001b[0;32mTrue\u001b[0m\u001b[0;34m)\u001b[0m\u001b[0;34m\u001b[0m\u001b[0m\n\u001b[0;32m--> 146\u001b[0;31m             \u001b[0;32mreturn\u001b[0m \u001b[0;32mnot\u001b[0m \u001b[0mp\u001b[0m\u001b[0;34m.\u001b[0m\u001b[0mwait\u001b[0m\u001b[0;34m(\u001b[0m\u001b[0;34m)\u001b[0m\u001b[0;34m\u001b[0m\u001b[0m\n\u001b[0m\u001b[1;32m    147\u001b[0m         \u001b[0;32mexcept\u001b[0m \u001b[0mOSError\u001b[0m\u001b[0;34m:\u001b[0m\u001b[0;34m\u001b[0m\u001b[0m\n\u001b[1;32m    148\u001b[0m             \u001b[0;32mreturn\u001b[0m \u001b[0;32mFalse\u001b[0m\u001b[0;34m\u001b[0m\u001b[0m\n",
      "\u001b[0;32m/opt/conda/envs/HL-capstone/lib/python3.6/subprocess.py\u001b[0m in \u001b[0;36mwait\u001b[0;34m(self, timeout, endtime)\u001b[0m\n\u001b[1;32m   1455\u001b[0m                         \u001b[0;32mif\u001b[0m \u001b[0mself\u001b[0m\u001b[0;34m.\u001b[0m\u001b[0mreturncode\u001b[0m \u001b[0;32mis\u001b[0m \u001b[0;32mnot\u001b[0m \u001b[0;32mNone\u001b[0m\u001b[0;34m:\u001b[0m\u001b[0;34m\u001b[0m\u001b[0m\n\u001b[1;32m   1456\u001b[0m                             \u001b[0;32mbreak\u001b[0m  \u001b[0;31m# Another thread waited.\u001b[0m\u001b[0;34m\u001b[0m\u001b[0m\n\u001b[0;32m-> 1457\u001b[0;31m                         \u001b[0;34m(\u001b[0m\u001b[0mpid\u001b[0m\u001b[0;34m,\u001b[0m \u001b[0msts\u001b[0m\u001b[0;34m)\u001b[0m \u001b[0;34m=\u001b[0m \u001b[0mself\u001b[0m\u001b[0;34m.\u001b[0m\u001b[0m_try_wait\u001b[0m\u001b[0;34m(\u001b[0m\u001b[0;36m0\u001b[0m\u001b[0;34m)\u001b[0m\u001b[0;34m\u001b[0m\u001b[0m\n\u001b[0m\u001b[1;32m   1458\u001b[0m                         \u001b[0;31m# Check the pid and loop as waitpid has been known to\u001b[0m\u001b[0;34m\u001b[0m\u001b[0;34m\u001b[0m\u001b[0m\n\u001b[1;32m   1459\u001b[0m                         \u001b[0;31m# return 0 even without WNOHANG in odd situations.\u001b[0m\u001b[0;34m\u001b[0m\u001b[0;34m\u001b[0m\u001b[0m\n",
      "\u001b[0;32m/opt/conda/envs/HL-capstone/lib/python3.6/subprocess.py\u001b[0m in \u001b[0;36m_try_wait\u001b[0;34m(self, wait_flags)\u001b[0m\n\u001b[1;32m   1402\u001b[0m             \u001b[0;34m\"\"\"All callers to this function MUST hold self._waitpid_lock.\"\"\"\u001b[0m\u001b[0;34m\u001b[0m\u001b[0m\n\u001b[1;32m   1403\u001b[0m             \u001b[0;32mtry\u001b[0m\u001b[0;34m:\u001b[0m\u001b[0;34m\u001b[0m\u001b[0m\n\u001b[0;32m-> 1404\u001b[0;31m                 \u001b[0;34m(\u001b[0m\u001b[0mpid\u001b[0m\u001b[0;34m,\u001b[0m \u001b[0msts\u001b[0m\u001b[0;34m)\u001b[0m \u001b[0;34m=\u001b[0m \u001b[0mos\u001b[0m\u001b[0;34m.\u001b[0m\u001b[0mwaitpid\u001b[0m\u001b[0;34m(\u001b[0m\u001b[0mself\u001b[0m\u001b[0;34m.\u001b[0m\u001b[0mpid\u001b[0m\u001b[0;34m,\u001b[0m \u001b[0mwait_flags\u001b[0m\u001b[0;34m)\u001b[0m\u001b[0;34m\u001b[0m\u001b[0m\n\u001b[0m\u001b[1;32m   1405\u001b[0m             \u001b[0;32mexcept\u001b[0m \u001b[0mChildProcessError\u001b[0m\u001b[0;34m:\u001b[0m\u001b[0;34m\u001b[0m\u001b[0m\n\u001b[1;32m   1406\u001b[0m                 \u001b[0;31m# This happens if SIGCLD is set to be ignored or waiting\u001b[0m\u001b[0;34m\u001b[0m\u001b[0;34m\u001b[0m\u001b[0m\n",
      "\u001b[0;31mKeyboardInterrupt\u001b[0m: "
     ]
    }
   ],
   "source": [
    "output_file(\"Final_Prediction_Real.html\")\n",
    "source = ColumnDataSource(data={\n",
    "    'tr_predict_rating': tr_predict_rating,\n",
    "    'y_imdb_rating_train': y_imdb_rating_train,\n",
    "})\n",
    "\n",
    "p = figure(plot_height=400, plot_width = 500, tools=\"\", toolbar_location=None,\n",
    "           title=\"Training Set\", sizing_mode=\"scale_width\")\n",
    "p.background_fill_color=\"#f5f5f5\"\n",
    "p.grid.grid_line_color=\"white\"\n",
    "p.xaxis.axis_label = 'Predicted IMDB Rating'\n",
    "p.yaxis.axis_label = 'Real IMDB Rating'\n",
    "p.axis.axis_line_color = None\n",
    "\n",
    "p.scatter(x='y_imdb_rating_train', y='tr_predict_rating', line_width=2, color=\"#99d594\", source=source)\n",
    "\n",
    "p.add_tools(HoverTool(\n",
    "    tooltips=[\n",
    "        ('Predicted IMDB Score: ', '@tr_predict_rating{%0.1f}'),\n",
    "        ('Real IMDB Score: ', '@y_imdb_rating_train{%0.1f}')\n",
    "    ],\n",
    "\n",
    "    formatters={\n",
    "        'tr_predict_rating':'printf', # use 'datetime' formatter for 'date' field\n",
    "        'y_imdb_rating_train':'printf'             # use default 'numeral' formatter for other fields\n",
    "    },\n",
    "\n",
    "    # display a tooltip whenever the cursor is vertically in line with a glyph\n",
    "    mode='mouse'\n",
    "))\n",
    "\n",
    "\n",
    "\n",
    "source2 = ColumnDataSource(data={\n",
    "    'te_predict_rating': te_predict_rating,\n",
    "    'y_imdb_rating_test': y_imdb_rating_test,\n",
    "})\n",
    "\n",
    "p2 = figure(plot_height=400, plot_width = 500, tools=\"\", toolbar_location=None,\n",
    "           title=\"Test Set\", sizing_mode=\"scale_width\")\n",
    "p2.background_fill_color=\"#f5f5f5\"\n",
    "p2.grid.grid_line_color=\"white\"\n",
    "p2.xaxis.axis_label = 'Predicted IMDB Rating'\n",
    "p2.yaxis.axis_label = 'Real IMDB Rating'\n",
    "p2.axis.axis_line_color = None\n",
    "\n",
    "p2.scatter(x='y_imdb_rating_test', y='te_predict_rating', line_width=2, color=\"#fee08b\", source=source2)\n",
    "\n",
    "p2.add_tools(HoverTool(\n",
    "    tooltips=[\n",
    "        ('Predicted IMDB Score: ', '@te_predict_rating{%0.1f}'),\n",
    "        ('Real IMDB Score: ', '@y_imdb_rating_test{%0.1f}')\n",
    "    ],\n",
    "\n",
    "    formatters={\n",
    "        'te_predict_rating':'printf', # use 'datetime' formatter for 'date' field\n",
    "        'y_imdb_rating_test':'printf'             # use default 'numeral' formatter for other fields\n",
    "    },\n",
    "\n",
    "    # display a tooltip whenever the cursor is vertically in line with a glyph\n",
    "    mode='mouse'\n",
    "))\n",
    "\n",
    "\n",
    "show(row(p,p2))"
   ]
  },
  {
   "cell_type": "code",
   "execution_count": null,
   "metadata": {
    "collapsed": true,
    "hidden": true
   },
   "outputs": [],
   "source": []
  }
 ],
 "metadata": {
  "kernelspec": {
   "display_name": "Python 3",
   "language": "python",
   "name": "python3"
  },
  "language_info": {
   "codemirror_mode": {
    "name": "ipython",
    "version": 3
   },
   "file_extension": ".py",
   "mimetype": "text/x-python",
   "name": "python",
   "nbconvert_exporter": "python",
   "pygments_lexer": "ipython3",
   "version": "3.6.5"
  },
  "nbclean": true
 },
 "nbformat": 4,
 "nbformat_minor": 1
}
